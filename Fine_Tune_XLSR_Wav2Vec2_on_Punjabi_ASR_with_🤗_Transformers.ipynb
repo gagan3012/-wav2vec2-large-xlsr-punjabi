{
  "nbformat": 4,
  "nbformat_minor": 0,
  "metadata": {
    "colab": {
      "name": "Fine-Tune XLSR-Wav2Vec2 on Punjabi ASR with 🤗 Transformers.ipynb",
      "provenance": [],
      "collapsed_sections": [],
      "machine_shape": "hm",
      "include_colab_link": true
    },
    "kernelspec": {
      "name": "python3",
      "display_name": "Python 3"
    },
    "widgets": {
      "application/vnd.jupyter.widget-state+json": {
        "910f5eae43c5442ba52d46072a8bfc48": {
          "model_module": "@jupyter-widgets/controls",
          "model_name": "HBoxModel",
          "state": {
            "_view_name": "HBoxView",
            "_dom_classes": [],
            "_model_name": "HBoxModel",
            "_view_module": "@jupyter-widgets/controls",
            "_model_module_version": "1.5.0",
            "_view_count": null,
            "_view_module_version": "1.5.0",
            "box_style": "",
            "layout": "IPY_MODEL_403c12332327489e8b8355751111d289",
            "_model_module": "@jupyter-widgets/controls",
            "children": [
              "IPY_MODEL_8ba84a9edadd48a5a9e59ff21b03988d",
              "IPY_MODEL_5ed517eeaeac4d76997a078c553235c0"
            ]
          }
        },
        "403c12332327489e8b8355751111d289": {
          "model_module": "@jupyter-widgets/base",
          "model_name": "LayoutModel",
          "state": {
            "_view_name": "LayoutView",
            "grid_template_rows": null,
            "right": null,
            "justify_content": null,
            "_view_module": "@jupyter-widgets/base",
            "overflow": null,
            "_model_module_version": "1.2.0",
            "_view_count": null,
            "flex_flow": null,
            "width": null,
            "min_width": null,
            "border": null,
            "align_items": null,
            "bottom": null,
            "_model_module": "@jupyter-widgets/base",
            "top": null,
            "grid_column": null,
            "overflow_y": null,
            "overflow_x": null,
            "grid_auto_flow": null,
            "grid_area": null,
            "grid_template_columns": null,
            "flex": null,
            "_model_name": "LayoutModel",
            "justify_items": null,
            "grid_row": null,
            "max_height": null,
            "align_content": null,
            "visibility": null,
            "align_self": null,
            "height": null,
            "min_height": null,
            "padding": null,
            "grid_auto_rows": null,
            "grid_gap": null,
            "max_width": null,
            "order": null,
            "_view_module_version": "1.2.0",
            "grid_template_areas": null,
            "object_position": null,
            "object_fit": null,
            "grid_auto_columns": null,
            "margin": null,
            "display": null,
            "left": null
          }
        },
        "8ba84a9edadd48a5a9e59ff21b03988d": {
          "model_module": "@jupyter-widgets/controls",
          "model_name": "FloatProgressModel",
          "state": {
            "_view_name": "ProgressView",
            "style": "IPY_MODEL_6ea748348c334240996c5abc1250e0de",
            "_dom_classes": [],
            "description": "Downloading: ",
            "_model_name": "FloatProgressModel",
            "bar_style": "success",
            "max": 4323,
            "_view_module": "@jupyter-widgets/controls",
            "_model_module_version": "1.5.0",
            "value": 4323,
            "_view_count": null,
            "_view_module_version": "1.5.0",
            "orientation": "horizontal",
            "min": 0,
            "description_tooltip": null,
            "_model_module": "@jupyter-widgets/controls",
            "layout": "IPY_MODEL_7a4432c05224451ca35108d271c19f10"
          }
        },
        "5ed517eeaeac4d76997a078c553235c0": {
          "model_module": "@jupyter-widgets/controls",
          "model_name": "HTMLModel",
          "state": {
            "_view_name": "HTMLView",
            "style": "IPY_MODEL_89414b329fb145eaaeaf05616ee9c5a1",
            "_dom_classes": [],
            "description": "",
            "_model_name": "HTMLModel",
            "placeholder": "​",
            "_view_module": "@jupyter-widgets/controls",
            "_model_module_version": "1.5.0",
            "value": " 22.0k/? [00:00&lt;00:00, 126kB/s]",
            "_view_count": null,
            "_view_module_version": "1.5.0",
            "description_tooltip": null,
            "_model_module": "@jupyter-widgets/controls",
            "layout": "IPY_MODEL_f2eb2267059741dcb9b1717ff50105ee"
          }
        },
        "6ea748348c334240996c5abc1250e0de": {
          "model_module": "@jupyter-widgets/controls",
          "model_name": "ProgressStyleModel",
          "state": {
            "_view_name": "StyleView",
            "_model_name": "ProgressStyleModel",
            "description_width": "initial",
            "_view_module": "@jupyter-widgets/base",
            "_model_module_version": "1.5.0",
            "_view_count": null,
            "_view_module_version": "1.2.0",
            "bar_color": null,
            "_model_module": "@jupyter-widgets/controls"
          }
        },
        "7a4432c05224451ca35108d271c19f10": {
          "model_module": "@jupyter-widgets/base",
          "model_name": "LayoutModel",
          "state": {
            "_view_name": "LayoutView",
            "grid_template_rows": null,
            "right": null,
            "justify_content": null,
            "_view_module": "@jupyter-widgets/base",
            "overflow": null,
            "_model_module_version": "1.2.0",
            "_view_count": null,
            "flex_flow": null,
            "width": null,
            "min_width": null,
            "border": null,
            "align_items": null,
            "bottom": null,
            "_model_module": "@jupyter-widgets/base",
            "top": null,
            "grid_column": null,
            "overflow_y": null,
            "overflow_x": null,
            "grid_auto_flow": null,
            "grid_area": null,
            "grid_template_columns": null,
            "flex": null,
            "_model_name": "LayoutModel",
            "justify_items": null,
            "grid_row": null,
            "max_height": null,
            "align_content": null,
            "visibility": null,
            "align_self": null,
            "height": null,
            "min_height": null,
            "padding": null,
            "grid_auto_rows": null,
            "grid_gap": null,
            "max_width": null,
            "order": null,
            "_view_module_version": "1.2.0",
            "grid_template_areas": null,
            "object_position": null,
            "object_fit": null,
            "grid_auto_columns": null,
            "margin": null,
            "display": null,
            "left": null
          }
        },
        "89414b329fb145eaaeaf05616ee9c5a1": {
          "model_module": "@jupyter-widgets/controls",
          "model_name": "DescriptionStyleModel",
          "state": {
            "_view_name": "StyleView",
            "_model_name": "DescriptionStyleModel",
            "description_width": "",
            "_view_module": "@jupyter-widgets/base",
            "_model_module_version": "1.5.0",
            "_view_count": null,
            "_view_module_version": "1.2.0",
            "_model_module": "@jupyter-widgets/controls"
          }
        },
        "f2eb2267059741dcb9b1717ff50105ee": {
          "model_module": "@jupyter-widgets/base",
          "model_name": "LayoutModel",
          "state": {
            "_view_name": "LayoutView",
            "grid_template_rows": null,
            "right": null,
            "justify_content": null,
            "_view_module": "@jupyter-widgets/base",
            "overflow": null,
            "_model_module_version": "1.2.0",
            "_view_count": null,
            "flex_flow": null,
            "width": null,
            "min_width": null,
            "border": null,
            "align_items": null,
            "bottom": null,
            "_model_module": "@jupyter-widgets/base",
            "top": null,
            "grid_column": null,
            "overflow_y": null,
            "overflow_x": null,
            "grid_auto_flow": null,
            "grid_area": null,
            "grid_template_columns": null,
            "flex": null,
            "_model_name": "LayoutModel",
            "justify_items": null,
            "grid_row": null,
            "max_height": null,
            "align_content": null,
            "visibility": null,
            "align_self": null,
            "height": null,
            "min_height": null,
            "padding": null,
            "grid_auto_rows": null,
            "grid_gap": null,
            "max_width": null,
            "order": null,
            "_view_module_version": "1.2.0",
            "grid_template_areas": null,
            "object_position": null,
            "object_fit": null,
            "grid_auto_columns": null,
            "margin": null,
            "display": null,
            "left": null
          }
        },
        "5dbbb3a1c91e4cad9f0fa35220a97297": {
          "model_module": "@jupyter-widgets/controls",
          "model_name": "HBoxModel",
          "state": {
            "_view_name": "HBoxView",
            "_dom_classes": [],
            "_model_name": "HBoxModel",
            "_view_module": "@jupyter-widgets/controls",
            "_model_module_version": "1.5.0",
            "_view_count": null,
            "_view_module_version": "1.5.0",
            "box_style": "",
            "layout": "IPY_MODEL_a4cdd19a428e4258911593fe2fc8c3ad",
            "_model_module": "@jupyter-widgets/controls",
            "children": [
              "IPY_MODEL_8cf3c2c3f4a748ff8de04fe23466426c",
              "IPY_MODEL_e4047756b08849f5b346d13808c54564"
            ]
          }
        },
        "a4cdd19a428e4258911593fe2fc8c3ad": {
          "model_module": "@jupyter-widgets/base",
          "model_name": "LayoutModel",
          "state": {
            "_view_name": "LayoutView",
            "grid_template_rows": null,
            "right": null,
            "justify_content": null,
            "_view_module": "@jupyter-widgets/base",
            "overflow": null,
            "_model_module_version": "1.2.0",
            "_view_count": null,
            "flex_flow": null,
            "width": null,
            "min_width": null,
            "border": null,
            "align_items": null,
            "bottom": null,
            "_model_module": "@jupyter-widgets/base",
            "top": null,
            "grid_column": null,
            "overflow_y": null,
            "overflow_x": null,
            "grid_auto_flow": null,
            "grid_area": null,
            "grid_template_columns": null,
            "flex": null,
            "_model_name": "LayoutModel",
            "justify_items": null,
            "grid_row": null,
            "max_height": null,
            "align_content": null,
            "visibility": null,
            "align_self": null,
            "height": null,
            "min_height": null,
            "padding": null,
            "grid_auto_rows": null,
            "grid_gap": null,
            "max_width": null,
            "order": null,
            "_view_module_version": "1.2.0",
            "grid_template_areas": null,
            "object_position": null,
            "object_fit": null,
            "grid_auto_columns": null,
            "margin": null,
            "display": null,
            "left": null
          }
        },
        "8cf3c2c3f4a748ff8de04fe23466426c": {
          "model_module": "@jupyter-widgets/controls",
          "model_name": "FloatProgressModel",
          "state": {
            "_view_name": "ProgressView",
            "style": "IPY_MODEL_b99f8f3424b24421818c819c83b241d4",
            "_dom_classes": [],
            "description": "Downloading: ",
            "_model_name": "FloatProgressModel",
            "bar_style": "success",
            "max": 9954,
            "_view_module": "@jupyter-widgets/controls",
            "_model_module_version": "1.5.0",
            "value": 9954,
            "_view_count": null,
            "_view_module_version": "1.5.0",
            "orientation": "horizontal",
            "min": 0,
            "description_tooltip": null,
            "_model_module": "@jupyter-widgets/controls",
            "layout": "IPY_MODEL_6575e4d7376f4230815ba0ef35553876"
          }
        },
        "e4047756b08849f5b346d13808c54564": {
          "model_module": "@jupyter-widgets/controls",
          "model_name": "HTMLModel",
          "state": {
            "_view_name": "HTMLView",
            "style": "IPY_MODEL_fc2dc0c708544133bd32a5133351ec4b",
            "_dom_classes": [],
            "description": "",
            "_model_name": "HTMLModel",
            "placeholder": "​",
            "_view_module": "@jupyter-widgets/controls",
            "_model_module_version": "1.5.0",
            "value": " 153k/? [00:00&lt;00:00, 2.59MB/s]",
            "_view_count": null,
            "_view_module_version": "1.5.0",
            "description_tooltip": null,
            "_model_module": "@jupyter-widgets/controls",
            "layout": "IPY_MODEL_37e9ad05098c4a98ad1317199b762d9f"
          }
        },
        "b99f8f3424b24421818c819c83b241d4": {
          "model_module": "@jupyter-widgets/controls",
          "model_name": "ProgressStyleModel",
          "state": {
            "_view_name": "StyleView",
            "_model_name": "ProgressStyleModel",
            "description_width": "initial",
            "_view_module": "@jupyter-widgets/base",
            "_model_module_version": "1.5.0",
            "_view_count": null,
            "_view_module_version": "1.2.0",
            "bar_color": null,
            "_model_module": "@jupyter-widgets/controls"
          }
        },
        "6575e4d7376f4230815ba0ef35553876": {
          "model_module": "@jupyter-widgets/base",
          "model_name": "LayoutModel",
          "state": {
            "_view_name": "LayoutView",
            "grid_template_rows": null,
            "right": null,
            "justify_content": null,
            "_view_module": "@jupyter-widgets/base",
            "overflow": null,
            "_model_module_version": "1.2.0",
            "_view_count": null,
            "flex_flow": null,
            "width": null,
            "min_width": null,
            "border": null,
            "align_items": null,
            "bottom": null,
            "_model_module": "@jupyter-widgets/base",
            "top": null,
            "grid_column": null,
            "overflow_y": null,
            "overflow_x": null,
            "grid_auto_flow": null,
            "grid_area": null,
            "grid_template_columns": null,
            "flex": null,
            "_model_name": "LayoutModel",
            "justify_items": null,
            "grid_row": null,
            "max_height": null,
            "align_content": null,
            "visibility": null,
            "align_self": null,
            "height": null,
            "min_height": null,
            "padding": null,
            "grid_auto_rows": null,
            "grid_gap": null,
            "max_width": null,
            "order": null,
            "_view_module_version": "1.2.0",
            "grid_template_areas": null,
            "object_position": null,
            "object_fit": null,
            "grid_auto_columns": null,
            "margin": null,
            "display": null,
            "left": null
          }
        },
        "fc2dc0c708544133bd32a5133351ec4b": {
          "model_module": "@jupyter-widgets/controls",
          "model_name": "DescriptionStyleModel",
          "state": {
            "_view_name": "StyleView",
            "_model_name": "DescriptionStyleModel",
            "description_width": "",
            "_view_module": "@jupyter-widgets/base",
            "_model_module_version": "1.5.0",
            "_view_count": null,
            "_view_module_version": "1.2.0",
            "_model_module": "@jupyter-widgets/controls"
          }
        },
        "37e9ad05098c4a98ad1317199b762d9f": {
          "model_module": "@jupyter-widgets/base",
          "model_name": "LayoutModel",
          "state": {
            "_view_name": "LayoutView",
            "grid_template_rows": null,
            "right": null,
            "justify_content": null,
            "_view_module": "@jupyter-widgets/base",
            "overflow": null,
            "_model_module_version": "1.2.0",
            "_view_count": null,
            "flex_flow": null,
            "width": null,
            "min_width": null,
            "border": null,
            "align_items": null,
            "bottom": null,
            "_model_module": "@jupyter-widgets/base",
            "top": null,
            "grid_column": null,
            "overflow_y": null,
            "overflow_x": null,
            "grid_auto_flow": null,
            "grid_area": null,
            "grid_template_columns": null,
            "flex": null,
            "_model_name": "LayoutModel",
            "justify_items": null,
            "grid_row": null,
            "max_height": null,
            "align_content": null,
            "visibility": null,
            "align_self": null,
            "height": null,
            "min_height": null,
            "padding": null,
            "grid_auto_rows": null,
            "grid_gap": null,
            "max_width": null,
            "order": null,
            "_view_module_version": "1.2.0",
            "grid_template_areas": null,
            "object_position": null,
            "object_fit": null,
            "grid_auto_columns": null,
            "margin": null,
            "display": null,
            "left": null
          }
        },
        "13b7ca3a891f472c92b2b148535ccfb8": {
          "model_module": "@jupyter-widgets/controls",
          "model_name": "HBoxModel",
          "state": {
            "_view_name": "HBoxView",
            "_dom_classes": [],
            "_model_name": "HBoxModel",
            "_view_module": "@jupyter-widgets/controls",
            "_model_module_version": "1.5.0",
            "_view_count": null,
            "_view_module_version": "1.5.0",
            "box_style": "",
            "layout": "IPY_MODEL_a9d611e99a214a44aa25f840d560e29d",
            "_model_module": "@jupyter-widgets/controls",
            "children": [
              "IPY_MODEL_f30dfdcab1a5416b81acc2a7adc929bd",
              "IPY_MODEL_e5173be0772e4fa8a714e974301841d3"
            ]
          }
        },
        "a9d611e99a214a44aa25f840d560e29d": {
          "model_module": "@jupyter-widgets/base",
          "model_name": "LayoutModel",
          "state": {
            "_view_name": "LayoutView",
            "grid_template_rows": null,
            "right": null,
            "justify_content": null,
            "_view_module": "@jupyter-widgets/base",
            "overflow": null,
            "_model_module_version": "1.2.0",
            "_view_count": null,
            "flex_flow": null,
            "width": null,
            "min_width": null,
            "border": null,
            "align_items": null,
            "bottom": null,
            "_model_module": "@jupyter-widgets/base",
            "top": null,
            "grid_column": null,
            "overflow_y": null,
            "overflow_x": null,
            "grid_auto_flow": null,
            "grid_area": null,
            "grid_template_columns": null,
            "flex": null,
            "_model_name": "LayoutModel",
            "justify_items": null,
            "grid_row": null,
            "max_height": null,
            "align_content": null,
            "visibility": null,
            "align_self": null,
            "height": null,
            "min_height": null,
            "padding": null,
            "grid_auto_rows": null,
            "grid_gap": null,
            "max_width": null,
            "order": null,
            "_view_module_version": "1.2.0",
            "grid_template_areas": null,
            "object_position": null,
            "object_fit": null,
            "grid_auto_columns": null,
            "margin": null,
            "display": null,
            "left": null
          }
        },
        "f30dfdcab1a5416b81acc2a7adc929bd": {
          "model_module": "@jupyter-widgets/controls",
          "model_name": "FloatProgressModel",
          "state": {
            "_view_name": "ProgressView",
            "style": "IPY_MODEL_04edc3ddaad14fbf87ad5d7533dc1cf1",
            "_dom_classes": [],
            "description": "Downloading: 100%",
            "_model_name": "FloatProgressModel",
            "bar_style": "success",
            "max": 69748265,
            "_view_module": "@jupyter-widgets/controls",
            "_model_module_version": "1.5.0",
            "value": 69748265,
            "_view_count": null,
            "_view_module_version": "1.5.0",
            "orientation": "horizontal",
            "min": 0,
            "description_tooltip": null,
            "_model_module": "@jupyter-widgets/controls",
            "layout": "IPY_MODEL_55c77e9e40e7402d8c789fc49b51399b"
          }
        },
        "e5173be0772e4fa8a714e974301841d3": {
          "model_module": "@jupyter-widgets/controls",
          "model_name": "HTMLModel",
          "state": {
            "_view_name": "HTMLView",
            "style": "IPY_MODEL_6d1f79df63814ec8a5fc30d6b4e27d3c",
            "_dom_classes": [],
            "description": "",
            "_model_name": "HTMLModel",
            "placeholder": "​",
            "_view_module": "@jupyter-widgets/controls",
            "_model_module_version": "1.5.0",
            "value": " 69.7M/69.7M [00:01&lt;00:00, 36.9MB/s]",
            "_view_count": null,
            "_view_module_version": "1.5.0",
            "description_tooltip": null,
            "_model_module": "@jupyter-widgets/controls",
            "layout": "IPY_MODEL_4dd9b845f8f14591a1271276dae773c7"
          }
        },
        "04edc3ddaad14fbf87ad5d7533dc1cf1": {
          "model_module": "@jupyter-widgets/controls",
          "model_name": "ProgressStyleModel",
          "state": {
            "_view_name": "StyleView",
            "_model_name": "ProgressStyleModel",
            "description_width": "initial",
            "_view_module": "@jupyter-widgets/base",
            "_model_module_version": "1.5.0",
            "_view_count": null,
            "_view_module_version": "1.2.0",
            "bar_color": null,
            "_model_module": "@jupyter-widgets/controls"
          }
        },
        "55c77e9e40e7402d8c789fc49b51399b": {
          "model_module": "@jupyter-widgets/base",
          "model_name": "LayoutModel",
          "state": {
            "_view_name": "LayoutView",
            "grid_template_rows": null,
            "right": null,
            "justify_content": null,
            "_view_module": "@jupyter-widgets/base",
            "overflow": null,
            "_model_module_version": "1.2.0",
            "_view_count": null,
            "flex_flow": null,
            "width": null,
            "min_width": null,
            "border": null,
            "align_items": null,
            "bottom": null,
            "_model_module": "@jupyter-widgets/base",
            "top": null,
            "grid_column": null,
            "overflow_y": null,
            "overflow_x": null,
            "grid_auto_flow": null,
            "grid_area": null,
            "grid_template_columns": null,
            "flex": null,
            "_model_name": "LayoutModel",
            "justify_items": null,
            "grid_row": null,
            "max_height": null,
            "align_content": null,
            "visibility": null,
            "align_self": null,
            "height": null,
            "min_height": null,
            "padding": null,
            "grid_auto_rows": null,
            "grid_gap": null,
            "max_width": null,
            "order": null,
            "_view_module_version": "1.2.0",
            "grid_template_areas": null,
            "object_position": null,
            "object_fit": null,
            "grid_auto_columns": null,
            "margin": null,
            "display": null,
            "left": null
          }
        },
        "6d1f79df63814ec8a5fc30d6b4e27d3c": {
          "model_module": "@jupyter-widgets/controls",
          "model_name": "DescriptionStyleModel",
          "state": {
            "_view_name": "StyleView",
            "_model_name": "DescriptionStyleModel",
            "description_width": "",
            "_view_module": "@jupyter-widgets/base",
            "_model_module_version": "1.5.0",
            "_view_count": null,
            "_view_module_version": "1.2.0",
            "_model_module": "@jupyter-widgets/controls"
          }
        },
        "4dd9b845f8f14591a1271276dae773c7": {
          "model_module": "@jupyter-widgets/base",
          "model_name": "LayoutModel",
          "state": {
            "_view_name": "LayoutView",
            "grid_template_rows": null,
            "right": null,
            "justify_content": null,
            "_view_module": "@jupyter-widgets/base",
            "overflow": null,
            "_model_module_version": "1.2.0",
            "_view_count": null,
            "flex_flow": null,
            "width": null,
            "min_width": null,
            "border": null,
            "align_items": null,
            "bottom": null,
            "_model_module": "@jupyter-widgets/base",
            "top": null,
            "grid_column": null,
            "overflow_y": null,
            "overflow_x": null,
            "grid_auto_flow": null,
            "grid_area": null,
            "grid_template_columns": null,
            "flex": null,
            "_model_name": "LayoutModel",
            "justify_items": null,
            "grid_row": null,
            "max_height": null,
            "align_content": null,
            "visibility": null,
            "align_self": null,
            "height": null,
            "min_height": null,
            "padding": null,
            "grid_auto_rows": null,
            "grid_gap": null,
            "max_width": null,
            "order": null,
            "_view_module_version": "1.2.0",
            "grid_template_areas": null,
            "object_position": null,
            "object_fit": null,
            "grid_auto_columns": null,
            "margin": null,
            "display": null,
            "left": null
          }
        },
        "aa263404243148e4b353401825c0a15a": {
          "model_module": "@jupyter-widgets/controls",
          "model_name": "HBoxModel",
          "state": {
            "_view_name": "HBoxView",
            "_dom_classes": [],
            "_model_name": "HBoxModel",
            "_view_module": "@jupyter-widgets/controls",
            "_model_module_version": "1.5.0",
            "_view_count": null,
            "_view_module_version": "1.5.0",
            "box_style": "",
            "layout": "IPY_MODEL_47bfe43d53214ed3bbc483b47a2be36c",
            "_model_module": "@jupyter-widgets/controls",
            "children": [
              "IPY_MODEL_4f853dd68da547d78014cffece4fadc4",
              "IPY_MODEL_84861c7b80a24a699e1f3be7658c7745"
            ]
          }
        },
        "47bfe43d53214ed3bbc483b47a2be36c": {
          "model_module": "@jupyter-widgets/base",
          "model_name": "LayoutModel",
          "state": {
            "_view_name": "LayoutView",
            "grid_template_rows": null,
            "right": null,
            "justify_content": null,
            "_view_module": "@jupyter-widgets/base",
            "overflow": null,
            "_model_module_version": "1.2.0",
            "_view_count": null,
            "flex_flow": null,
            "width": null,
            "min_width": null,
            "border": null,
            "align_items": null,
            "bottom": null,
            "_model_module": "@jupyter-widgets/base",
            "top": null,
            "grid_column": null,
            "overflow_y": null,
            "overflow_x": null,
            "grid_auto_flow": null,
            "grid_area": null,
            "grid_template_columns": null,
            "flex": null,
            "_model_name": "LayoutModel",
            "justify_items": null,
            "grid_row": null,
            "max_height": null,
            "align_content": null,
            "visibility": null,
            "align_self": null,
            "height": null,
            "min_height": null,
            "padding": null,
            "grid_auto_rows": null,
            "grid_gap": null,
            "max_width": null,
            "order": null,
            "_view_module_version": "1.2.0",
            "grid_template_areas": null,
            "object_position": null,
            "object_fit": null,
            "grid_auto_columns": null,
            "margin": null,
            "display": null,
            "left": null
          }
        },
        "4f853dd68da547d78014cffece4fadc4": {
          "model_module": "@jupyter-widgets/controls",
          "model_name": "FloatProgressModel",
          "state": {
            "_view_name": "ProgressView",
            "style": "IPY_MODEL_1d126bfc8b2b47bfba19541bd6e9a122",
            "_dom_classes": [],
            "description": "",
            "_model_name": "FloatProgressModel",
            "bar_style": "info",
            "max": 1,
            "_view_module": "@jupyter-widgets/controls",
            "_model_module_version": "1.5.0",
            "value": 1,
            "_view_count": null,
            "_view_module_version": "1.5.0",
            "orientation": "horizontal",
            "min": 0,
            "description_tooltip": null,
            "_model_module": "@jupyter-widgets/controls",
            "layout": "IPY_MODEL_97705cead24249d7a845c3e4d752657e"
          }
        },
        "84861c7b80a24a699e1f3be7658c7745": {
          "model_module": "@jupyter-widgets/controls",
          "model_name": "HTMLModel",
          "state": {
            "_view_name": "HTMLView",
            "style": "IPY_MODEL_1e4c307520b04edb8e84dbd9d266f5b2",
            "_dom_classes": [],
            "description": "",
            "_model_name": "HTMLModel",
            "placeholder": "​",
            "_view_module": "@jupyter-widgets/controls",
            "_model_module_version": "1.5.0",
            "value": " 211/0 [00:04&lt;00:00,  4.89s/ examples]",
            "_view_count": null,
            "_view_module_version": "1.5.0",
            "description_tooltip": null,
            "_model_module": "@jupyter-widgets/controls",
            "layout": "IPY_MODEL_e040b8d25d354440806d6ea34bdab38f"
          }
        },
        "1d126bfc8b2b47bfba19541bd6e9a122": {
          "model_module": "@jupyter-widgets/controls",
          "model_name": "ProgressStyleModel",
          "state": {
            "_view_name": "StyleView",
            "_model_name": "ProgressStyleModel",
            "description_width": "initial",
            "_view_module": "@jupyter-widgets/base",
            "_model_module_version": "1.5.0",
            "_view_count": null,
            "_view_module_version": "1.2.0",
            "bar_color": null,
            "_model_module": "@jupyter-widgets/controls"
          }
        },
        "97705cead24249d7a845c3e4d752657e": {
          "model_module": "@jupyter-widgets/base",
          "model_name": "LayoutModel",
          "state": {
            "_view_name": "LayoutView",
            "grid_template_rows": null,
            "right": null,
            "justify_content": null,
            "_view_module": "@jupyter-widgets/base",
            "overflow": null,
            "_model_module_version": "1.2.0",
            "_view_count": null,
            "flex_flow": null,
            "width": null,
            "min_width": null,
            "border": null,
            "align_items": null,
            "bottom": null,
            "_model_module": "@jupyter-widgets/base",
            "top": null,
            "grid_column": null,
            "overflow_y": null,
            "overflow_x": null,
            "grid_auto_flow": null,
            "grid_area": null,
            "grid_template_columns": null,
            "flex": null,
            "_model_name": "LayoutModel",
            "justify_items": null,
            "grid_row": null,
            "max_height": null,
            "align_content": null,
            "visibility": null,
            "align_self": null,
            "height": null,
            "min_height": null,
            "padding": null,
            "grid_auto_rows": null,
            "grid_gap": null,
            "max_width": null,
            "order": null,
            "_view_module_version": "1.2.0",
            "grid_template_areas": null,
            "object_position": null,
            "object_fit": null,
            "grid_auto_columns": null,
            "margin": null,
            "display": null,
            "left": null
          }
        },
        "1e4c307520b04edb8e84dbd9d266f5b2": {
          "model_module": "@jupyter-widgets/controls",
          "model_name": "DescriptionStyleModel",
          "state": {
            "_view_name": "StyleView",
            "_model_name": "DescriptionStyleModel",
            "description_width": "",
            "_view_module": "@jupyter-widgets/base",
            "_model_module_version": "1.5.0",
            "_view_count": null,
            "_view_module_version": "1.2.0",
            "_model_module": "@jupyter-widgets/controls"
          }
        },
        "e040b8d25d354440806d6ea34bdab38f": {
          "model_module": "@jupyter-widgets/base",
          "model_name": "LayoutModel",
          "state": {
            "_view_name": "LayoutView",
            "grid_template_rows": null,
            "right": null,
            "justify_content": null,
            "_view_module": "@jupyter-widgets/base",
            "overflow": null,
            "_model_module_version": "1.2.0",
            "_view_count": null,
            "flex_flow": null,
            "width": null,
            "min_width": null,
            "border": null,
            "align_items": null,
            "bottom": null,
            "_model_module": "@jupyter-widgets/base",
            "top": null,
            "grid_column": null,
            "overflow_y": null,
            "overflow_x": null,
            "grid_auto_flow": null,
            "grid_area": null,
            "grid_template_columns": null,
            "flex": null,
            "_model_name": "LayoutModel",
            "justify_items": null,
            "grid_row": null,
            "max_height": null,
            "align_content": null,
            "visibility": null,
            "align_self": null,
            "height": null,
            "min_height": null,
            "padding": null,
            "grid_auto_rows": null,
            "grid_gap": null,
            "max_width": null,
            "order": null,
            "_view_module_version": "1.2.0",
            "grid_template_areas": null,
            "object_position": null,
            "object_fit": null,
            "grid_auto_columns": null,
            "margin": null,
            "display": null,
            "left": null
          }
        },
        "314ef2def52c445a9149c8e7cb9b20a8": {
          "model_module": "@jupyter-widgets/controls",
          "model_name": "HBoxModel",
          "state": {
            "_view_name": "HBoxView",
            "_dom_classes": [],
            "_model_name": "HBoxModel",
            "_view_module": "@jupyter-widgets/controls",
            "_model_module_version": "1.5.0",
            "_view_count": null,
            "_view_module_version": "1.5.0",
            "box_style": "",
            "layout": "IPY_MODEL_1e6d96cd8e294601be7c6f97c52b8b2e",
            "_model_module": "@jupyter-widgets/controls",
            "children": [
              "IPY_MODEL_dc38f7f879e846efb8416936cf78f512",
              "IPY_MODEL_5c54c7455dfb434282a5a4c610638bf4"
            ]
          }
        },
        "1e6d96cd8e294601be7c6f97c52b8b2e": {
          "model_module": "@jupyter-widgets/base",
          "model_name": "LayoutModel",
          "state": {
            "_view_name": "LayoutView",
            "grid_template_rows": null,
            "right": null,
            "justify_content": null,
            "_view_module": "@jupyter-widgets/base",
            "overflow": null,
            "_model_module_version": "1.2.0",
            "_view_count": null,
            "flex_flow": null,
            "width": null,
            "min_width": null,
            "border": null,
            "align_items": null,
            "bottom": null,
            "_model_module": "@jupyter-widgets/base",
            "top": null,
            "grid_column": null,
            "overflow_y": null,
            "overflow_x": null,
            "grid_auto_flow": null,
            "grid_area": null,
            "grid_template_columns": null,
            "flex": null,
            "_model_name": "LayoutModel",
            "justify_items": null,
            "grid_row": null,
            "max_height": null,
            "align_content": null,
            "visibility": null,
            "align_self": null,
            "height": null,
            "min_height": null,
            "padding": null,
            "grid_auto_rows": null,
            "grid_gap": null,
            "max_width": null,
            "order": null,
            "_view_module_version": "1.2.0",
            "grid_template_areas": null,
            "object_position": null,
            "object_fit": null,
            "grid_auto_columns": null,
            "margin": null,
            "display": null,
            "left": null
          }
        },
        "dc38f7f879e846efb8416936cf78f512": {
          "model_module": "@jupyter-widgets/controls",
          "model_name": "FloatProgressModel",
          "state": {
            "_view_name": "ProgressView",
            "style": "IPY_MODEL_1cfe5495ee924f51a4adb8a032d14487",
            "_dom_classes": [],
            "description": "",
            "_model_name": "FloatProgressModel",
            "bar_style": "info",
            "max": 1,
            "_view_module": "@jupyter-widgets/controls",
            "_model_module_version": "1.5.0",
            "value": 1,
            "_view_count": null,
            "_view_module_version": "1.5.0",
            "orientation": "horizontal",
            "min": 0,
            "description_tooltip": null,
            "_model_module": "@jupyter-widgets/controls",
            "layout": "IPY_MODEL_9c87ef37f1b44c788477889e4ea551d0"
          }
        },
        "5c54c7455dfb434282a5a4c610638bf4": {
          "model_module": "@jupyter-widgets/controls",
          "model_name": "HTMLModel",
          "state": {
            "_view_name": "HTMLView",
            "style": "IPY_MODEL_85f54a46b3c0438fa721234a1dcae0bc",
            "_dom_classes": [],
            "description": "",
            "_model_name": "HTMLModel",
            "placeholder": "​",
            "_view_module": "@jupyter-widgets/controls",
            "_model_module_version": "1.5.0",
            "value": " 116/0 [00:00&lt;00:00, 3965.31 examples/s]",
            "_view_count": null,
            "_view_module_version": "1.5.0",
            "description_tooltip": null,
            "_model_module": "@jupyter-widgets/controls",
            "layout": "IPY_MODEL_5dab11b5b9114cde8492333934f70617"
          }
        },
        "1cfe5495ee924f51a4adb8a032d14487": {
          "model_module": "@jupyter-widgets/controls",
          "model_name": "ProgressStyleModel",
          "state": {
            "_view_name": "StyleView",
            "_model_name": "ProgressStyleModel",
            "description_width": "initial",
            "_view_module": "@jupyter-widgets/base",
            "_model_module_version": "1.5.0",
            "_view_count": null,
            "_view_module_version": "1.2.0",
            "bar_color": null,
            "_model_module": "@jupyter-widgets/controls"
          }
        },
        "9c87ef37f1b44c788477889e4ea551d0": {
          "model_module": "@jupyter-widgets/base",
          "model_name": "LayoutModel",
          "state": {
            "_view_name": "LayoutView",
            "grid_template_rows": null,
            "right": null,
            "justify_content": null,
            "_view_module": "@jupyter-widgets/base",
            "overflow": null,
            "_model_module_version": "1.2.0",
            "_view_count": null,
            "flex_flow": null,
            "width": null,
            "min_width": null,
            "border": null,
            "align_items": null,
            "bottom": null,
            "_model_module": "@jupyter-widgets/base",
            "top": null,
            "grid_column": null,
            "overflow_y": null,
            "overflow_x": null,
            "grid_auto_flow": null,
            "grid_area": null,
            "grid_template_columns": null,
            "flex": null,
            "_model_name": "LayoutModel",
            "justify_items": null,
            "grid_row": null,
            "max_height": null,
            "align_content": null,
            "visibility": null,
            "align_self": null,
            "height": null,
            "min_height": null,
            "padding": null,
            "grid_auto_rows": null,
            "grid_gap": null,
            "max_width": null,
            "order": null,
            "_view_module_version": "1.2.0",
            "grid_template_areas": null,
            "object_position": null,
            "object_fit": null,
            "grid_auto_columns": null,
            "margin": null,
            "display": null,
            "left": null
          }
        },
        "85f54a46b3c0438fa721234a1dcae0bc": {
          "model_module": "@jupyter-widgets/controls",
          "model_name": "DescriptionStyleModel",
          "state": {
            "_view_name": "StyleView",
            "_model_name": "DescriptionStyleModel",
            "description_width": "",
            "_view_module": "@jupyter-widgets/base",
            "_model_module_version": "1.5.0",
            "_view_count": null,
            "_view_module_version": "1.2.0",
            "_model_module": "@jupyter-widgets/controls"
          }
        },
        "5dab11b5b9114cde8492333934f70617": {
          "model_module": "@jupyter-widgets/base",
          "model_name": "LayoutModel",
          "state": {
            "_view_name": "LayoutView",
            "grid_template_rows": null,
            "right": null,
            "justify_content": null,
            "_view_module": "@jupyter-widgets/base",
            "overflow": null,
            "_model_module_version": "1.2.0",
            "_view_count": null,
            "flex_flow": null,
            "width": null,
            "min_width": null,
            "border": null,
            "align_items": null,
            "bottom": null,
            "_model_module": "@jupyter-widgets/base",
            "top": null,
            "grid_column": null,
            "overflow_y": null,
            "overflow_x": null,
            "grid_auto_flow": null,
            "grid_area": null,
            "grid_template_columns": null,
            "flex": null,
            "_model_name": "LayoutModel",
            "justify_items": null,
            "grid_row": null,
            "max_height": null,
            "align_content": null,
            "visibility": null,
            "align_self": null,
            "height": null,
            "min_height": null,
            "padding": null,
            "grid_auto_rows": null,
            "grid_gap": null,
            "max_width": null,
            "order": null,
            "_view_module_version": "1.2.0",
            "grid_template_areas": null,
            "object_position": null,
            "object_fit": null,
            "grid_auto_columns": null,
            "margin": null,
            "display": null,
            "left": null
          }
        },
        "0a1001c78dc648b5b95a37a264050ce1": {
          "model_module": "@jupyter-widgets/controls",
          "model_name": "HBoxModel",
          "state": {
            "_view_name": "HBoxView",
            "_dom_classes": [],
            "_model_name": "HBoxModel",
            "_view_module": "@jupyter-widgets/controls",
            "_model_module_version": "1.5.0",
            "_view_count": null,
            "_view_module_version": "1.5.0",
            "box_style": "",
            "layout": "IPY_MODEL_e520b2aeb4c54951a101f0444a510690",
            "_model_module": "@jupyter-widgets/controls",
            "children": [
              "IPY_MODEL_361efb1b2ba04d63a2228e6f0d46ea7a",
              "IPY_MODEL_b402526bd8ce4d638ee2536b220bd406"
            ]
          }
        },
        "e520b2aeb4c54951a101f0444a510690": {
          "model_module": "@jupyter-widgets/base",
          "model_name": "LayoutModel",
          "state": {
            "_view_name": "LayoutView",
            "grid_template_rows": null,
            "right": null,
            "justify_content": null,
            "_view_module": "@jupyter-widgets/base",
            "overflow": null,
            "_model_module_version": "1.2.0",
            "_view_count": null,
            "flex_flow": null,
            "width": null,
            "min_width": null,
            "border": null,
            "align_items": null,
            "bottom": null,
            "_model_module": "@jupyter-widgets/base",
            "top": null,
            "grid_column": null,
            "overflow_y": null,
            "overflow_x": null,
            "grid_auto_flow": null,
            "grid_area": null,
            "grid_template_columns": null,
            "flex": null,
            "_model_name": "LayoutModel",
            "justify_items": null,
            "grid_row": null,
            "max_height": null,
            "align_content": null,
            "visibility": null,
            "align_self": null,
            "height": null,
            "min_height": null,
            "padding": null,
            "grid_auto_rows": null,
            "grid_gap": null,
            "max_width": null,
            "order": null,
            "_view_module_version": "1.2.0",
            "grid_template_areas": null,
            "object_position": null,
            "object_fit": null,
            "grid_auto_columns": null,
            "margin": null,
            "display": null,
            "left": null
          }
        },
        "361efb1b2ba04d63a2228e6f0d46ea7a": {
          "model_module": "@jupyter-widgets/controls",
          "model_name": "FloatProgressModel",
          "state": {
            "_view_name": "ProgressView",
            "style": "IPY_MODEL_14ea8f726ff1421797df96ebaacb1e2f",
            "_dom_classes": [],
            "description": "",
            "_model_name": "FloatProgressModel",
            "bar_style": "info",
            "max": 1,
            "_view_module": "@jupyter-widgets/controls",
            "_model_module_version": "1.5.0",
            "value": 1,
            "_view_count": null,
            "_view_module_version": "1.5.0",
            "orientation": "horizontal",
            "min": 0,
            "description_tooltip": null,
            "_model_module": "@jupyter-widgets/controls",
            "layout": "IPY_MODEL_9d65b90205e943e381c3ff17e6eec94f"
          }
        },
        "b402526bd8ce4d638ee2536b220bd406": {
          "model_module": "@jupyter-widgets/controls",
          "model_name": "HTMLModel",
          "state": {
            "_view_name": "HTMLView",
            "style": "IPY_MODEL_d3120e6218cc49859d9988c9599131d8",
            "_dom_classes": [],
            "description": "",
            "_model_name": "HTMLModel",
            "placeholder": "​",
            "_view_module": "@jupyter-widgets/controls",
            "_model_module_version": "1.5.0",
            "value": " 44/0 [00:00&lt;00:00, 1514.98 examples/s]",
            "_view_count": null,
            "_view_module_version": "1.5.0",
            "description_tooltip": null,
            "_model_module": "@jupyter-widgets/controls",
            "layout": "IPY_MODEL_e00dd357a2804ba5a487a06ef21909bb"
          }
        },
        "14ea8f726ff1421797df96ebaacb1e2f": {
          "model_module": "@jupyter-widgets/controls",
          "model_name": "ProgressStyleModel",
          "state": {
            "_view_name": "StyleView",
            "_model_name": "ProgressStyleModel",
            "description_width": "initial",
            "_view_module": "@jupyter-widgets/base",
            "_model_module_version": "1.5.0",
            "_view_count": null,
            "_view_module_version": "1.2.0",
            "bar_color": null,
            "_model_module": "@jupyter-widgets/controls"
          }
        },
        "9d65b90205e943e381c3ff17e6eec94f": {
          "model_module": "@jupyter-widgets/base",
          "model_name": "LayoutModel",
          "state": {
            "_view_name": "LayoutView",
            "grid_template_rows": null,
            "right": null,
            "justify_content": null,
            "_view_module": "@jupyter-widgets/base",
            "overflow": null,
            "_model_module_version": "1.2.0",
            "_view_count": null,
            "flex_flow": null,
            "width": null,
            "min_width": null,
            "border": null,
            "align_items": null,
            "bottom": null,
            "_model_module": "@jupyter-widgets/base",
            "top": null,
            "grid_column": null,
            "overflow_y": null,
            "overflow_x": null,
            "grid_auto_flow": null,
            "grid_area": null,
            "grid_template_columns": null,
            "flex": null,
            "_model_name": "LayoutModel",
            "justify_items": null,
            "grid_row": null,
            "max_height": null,
            "align_content": null,
            "visibility": null,
            "align_self": null,
            "height": null,
            "min_height": null,
            "padding": null,
            "grid_auto_rows": null,
            "grid_gap": null,
            "max_width": null,
            "order": null,
            "_view_module_version": "1.2.0",
            "grid_template_areas": null,
            "object_position": null,
            "object_fit": null,
            "grid_auto_columns": null,
            "margin": null,
            "display": null,
            "left": null
          }
        },
        "d3120e6218cc49859d9988c9599131d8": {
          "model_module": "@jupyter-widgets/controls",
          "model_name": "DescriptionStyleModel",
          "state": {
            "_view_name": "StyleView",
            "_model_name": "DescriptionStyleModel",
            "description_width": "",
            "_view_module": "@jupyter-widgets/base",
            "_model_module_version": "1.5.0",
            "_view_count": null,
            "_view_module_version": "1.2.0",
            "_model_module": "@jupyter-widgets/controls"
          }
        },
        "e00dd357a2804ba5a487a06ef21909bb": {
          "model_module": "@jupyter-widgets/base",
          "model_name": "LayoutModel",
          "state": {
            "_view_name": "LayoutView",
            "grid_template_rows": null,
            "right": null,
            "justify_content": null,
            "_view_module": "@jupyter-widgets/base",
            "overflow": null,
            "_model_module_version": "1.2.0",
            "_view_count": null,
            "flex_flow": null,
            "width": null,
            "min_width": null,
            "border": null,
            "align_items": null,
            "bottom": null,
            "_model_module": "@jupyter-widgets/base",
            "top": null,
            "grid_column": null,
            "overflow_y": null,
            "overflow_x": null,
            "grid_auto_flow": null,
            "grid_area": null,
            "grid_template_columns": null,
            "flex": null,
            "_model_name": "LayoutModel",
            "justify_items": null,
            "grid_row": null,
            "max_height": null,
            "align_content": null,
            "visibility": null,
            "align_self": null,
            "height": null,
            "min_height": null,
            "padding": null,
            "grid_auto_rows": null,
            "grid_gap": null,
            "max_width": null,
            "order": null,
            "_view_module_version": "1.2.0",
            "grid_template_areas": null,
            "object_position": null,
            "object_fit": null,
            "grid_auto_columns": null,
            "margin": null,
            "display": null,
            "left": null
          }
        },
        "68e05f71b2594f0c976ca6c341ca03b1": {
          "model_module": "@jupyter-widgets/controls",
          "model_name": "HBoxModel",
          "state": {
            "_view_name": "HBoxView",
            "_dom_classes": [],
            "_model_name": "HBoxModel",
            "_view_module": "@jupyter-widgets/controls",
            "_model_module_version": "1.5.0",
            "_view_count": null,
            "_view_module_version": "1.5.0",
            "box_style": "",
            "layout": "IPY_MODEL_1cc724176f80417096a8643a7b433293",
            "_model_module": "@jupyter-widgets/controls",
            "children": [
              "IPY_MODEL_8f577efe87364a018e92f596105aecf6",
              "IPY_MODEL_53506d3cadd54f03b2b7ca614ea41db7"
            ]
          }
        },
        "1cc724176f80417096a8643a7b433293": {
          "model_module": "@jupyter-widgets/base",
          "model_name": "LayoutModel",
          "state": {
            "_view_name": "LayoutView",
            "grid_template_rows": null,
            "right": null,
            "justify_content": null,
            "_view_module": "@jupyter-widgets/base",
            "overflow": null,
            "_model_module_version": "1.2.0",
            "_view_count": null,
            "flex_flow": null,
            "width": null,
            "min_width": null,
            "border": null,
            "align_items": null,
            "bottom": null,
            "_model_module": "@jupyter-widgets/base",
            "top": null,
            "grid_column": null,
            "overflow_y": null,
            "overflow_x": null,
            "grid_auto_flow": null,
            "grid_area": null,
            "grid_template_columns": null,
            "flex": null,
            "_model_name": "LayoutModel",
            "justify_items": null,
            "grid_row": null,
            "max_height": null,
            "align_content": null,
            "visibility": null,
            "align_self": null,
            "height": null,
            "min_height": null,
            "padding": null,
            "grid_auto_rows": null,
            "grid_gap": null,
            "max_width": null,
            "order": null,
            "_view_module_version": "1.2.0",
            "grid_template_areas": null,
            "object_position": null,
            "object_fit": null,
            "grid_auto_columns": null,
            "margin": null,
            "display": null,
            "left": null
          }
        },
        "8f577efe87364a018e92f596105aecf6": {
          "model_module": "@jupyter-widgets/controls",
          "model_name": "FloatProgressModel",
          "state": {
            "_view_name": "ProgressView",
            "style": "IPY_MODEL_a893fc1ba0c0450c9bc81200d572fce8",
            "_dom_classes": [],
            "description": "",
            "_model_name": "FloatProgressModel",
            "bar_style": "info",
            "max": 1,
            "_view_module": "@jupyter-widgets/controls",
            "_model_module_version": "1.5.0",
            "value": 1,
            "_view_count": null,
            "_view_module_version": "1.5.0",
            "orientation": "horizontal",
            "min": 0,
            "description_tooltip": null,
            "_model_module": "@jupyter-widgets/controls",
            "layout": "IPY_MODEL_f26968c6e4524feeb3a8e0da4ad38b1f"
          }
        },
        "53506d3cadd54f03b2b7ca614ea41db7": {
          "model_module": "@jupyter-widgets/controls",
          "model_name": "HTMLModel",
          "state": {
            "_view_name": "HTMLView",
            "style": "IPY_MODEL_25ebc47a35694fefadfdecc8d0bc9e3f",
            "_dom_classes": [],
            "description": "",
            "_model_name": "HTMLModel",
            "placeholder": "​",
            "_view_module": "@jupyter-widgets/controls",
            "_model_module_version": "1.5.0",
            "value": " 1411/0 [00:00&lt;00:00, 13106.01 examples/s]",
            "_view_count": null,
            "_view_module_version": "1.5.0",
            "description_tooltip": null,
            "_model_module": "@jupyter-widgets/controls",
            "layout": "IPY_MODEL_9fb19ce8b31940d79a244b6c5d7c9658"
          }
        },
        "a893fc1ba0c0450c9bc81200d572fce8": {
          "model_module": "@jupyter-widgets/controls",
          "model_name": "ProgressStyleModel",
          "state": {
            "_view_name": "StyleView",
            "_model_name": "ProgressStyleModel",
            "description_width": "initial",
            "_view_module": "@jupyter-widgets/base",
            "_model_module_version": "1.5.0",
            "_view_count": null,
            "_view_module_version": "1.2.0",
            "bar_color": null,
            "_model_module": "@jupyter-widgets/controls"
          }
        },
        "f26968c6e4524feeb3a8e0da4ad38b1f": {
          "model_module": "@jupyter-widgets/base",
          "model_name": "LayoutModel",
          "state": {
            "_view_name": "LayoutView",
            "grid_template_rows": null,
            "right": null,
            "justify_content": null,
            "_view_module": "@jupyter-widgets/base",
            "overflow": null,
            "_model_module_version": "1.2.0",
            "_view_count": null,
            "flex_flow": null,
            "width": null,
            "min_width": null,
            "border": null,
            "align_items": null,
            "bottom": null,
            "_model_module": "@jupyter-widgets/base",
            "top": null,
            "grid_column": null,
            "overflow_y": null,
            "overflow_x": null,
            "grid_auto_flow": null,
            "grid_area": null,
            "grid_template_columns": null,
            "flex": null,
            "_model_name": "LayoutModel",
            "justify_items": null,
            "grid_row": null,
            "max_height": null,
            "align_content": null,
            "visibility": null,
            "align_self": null,
            "height": null,
            "min_height": null,
            "padding": null,
            "grid_auto_rows": null,
            "grid_gap": null,
            "max_width": null,
            "order": null,
            "_view_module_version": "1.2.0",
            "grid_template_areas": null,
            "object_position": null,
            "object_fit": null,
            "grid_auto_columns": null,
            "margin": null,
            "display": null,
            "left": null
          }
        },
        "25ebc47a35694fefadfdecc8d0bc9e3f": {
          "model_module": "@jupyter-widgets/controls",
          "model_name": "DescriptionStyleModel",
          "state": {
            "_view_name": "StyleView",
            "_model_name": "DescriptionStyleModel",
            "description_width": "",
            "_view_module": "@jupyter-widgets/base",
            "_model_module_version": "1.5.0",
            "_view_count": null,
            "_view_module_version": "1.2.0",
            "_model_module": "@jupyter-widgets/controls"
          }
        },
        "9fb19ce8b31940d79a244b6c5d7c9658": {
          "model_module": "@jupyter-widgets/base",
          "model_name": "LayoutModel",
          "state": {
            "_view_name": "LayoutView",
            "grid_template_rows": null,
            "right": null,
            "justify_content": null,
            "_view_module": "@jupyter-widgets/base",
            "overflow": null,
            "_model_module_version": "1.2.0",
            "_view_count": null,
            "flex_flow": null,
            "width": null,
            "min_width": null,
            "border": null,
            "align_items": null,
            "bottom": null,
            "_model_module": "@jupyter-widgets/base",
            "top": null,
            "grid_column": null,
            "overflow_y": null,
            "overflow_x": null,
            "grid_auto_flow": null,
            "grid_area": null,
            "grid_template_columns": null,
            "flex": null,
            "_model_name": "LayoutModel",
            "justify_items": null,
            "grid_row": null,
            "max_height": null,
            "align_content": null,
            "visibility": null,
            "align_self": null,
            "height": null,
            "min_height": null,
            "padding": null,
            "grid_auto_rows": null,
            "grid_gap": null,
            "max_width": null,
            "order": null,
            "_view_module_version": "1.2.0",
            "grid_template_areas": null,
            "object_position": null,
            "object_fit": null,
            "grid_auto_columns": null,
            "margin": null,
            "display": null,
            "left": null
          }
        },
        "e715f260139a411cb4b376deea3c496c": {
          "model_module": "@jupyter-widgets/controls",
          "model_name": "HBoxModel",
          "state": {
            "_view_name": "HBoxView",
            "_dom_classes": [],
            "_model_name": "HBoxModel",
            "_view_module": "@jupyter-widgets/controls",
            "_model_module_version": "1.5.0",
            "_view_count": null,
            "_view_module_version": "1.5.0",
            "box_style": "",
            "layout": "IPY_MODEL_a6d1139eb3d2402d929323f538e7b82d",
            "_model_module": "@jupyter-widgets/controls",
            "children": [
              "IPY_MODEL_9dc788722ebc4f28b28bf9794aebf31b",
              "IPY_MODEL_2424c940abcf46f4b7eaffb40ed1581d"
            ]
          }
        },
        "a6d1139eb3d2402d929323f538e7b82d": {
          "model_module": "@jupyter-widgets/base",
          "model_name": "LayoutModel",
          "state": {
            "_view_name": "LayoutView",
            "grid_template_rows": null,
            "right": null,
            "justify_content": null,
            "_view_module": "@jupyter-widgets/base",
            "overflow": null,
            "_model_module_version": "1.2.0",
            "_view_count": null,
            "flex_flow": null,
            "width": null,
            "min_width": null,
            "border": null,
            "align_items": null,
            "bottom": null,
            "_model_module": "@jupyter-widgets/base",
            "top": null,
            "grid_column": null,
            "overflow_y": null,
            "overflow_x": null,
            "grid_auto_flow": null,
            "grid_area": null,
            "grid_template_columns": null,
            "flex": null,
            "_model_name": "LayoutModel",
            "justify_items": null,
            "grid_row": null,
            "max_height": null,
            "align_content": null,
            "visibility": null,
            "align_self": null,
            "height": null,
            "min_height": null,
            "padding": null,
            "grid_auto_rows": null,
            "grid_gap": null,
            "max_width": null,
            "order": null,
            "_view_module_version": "1.2.0",
            "grid_template_areas": null,
            "object_position": null,
            "object_fit": null,
            "grid_auto_columns": null,
            "margin": null,
            "display": null,
            "left": null
          }
        },
        "9dc788722ebc4f28b28bf9794aebf31b": {
          "model_module": "@jupyter-widgets/controls",
          "model_name": "FloatProgressModel",
          "state": {
            "_view_name": "ProgressView",
            "style": "IPY_MODEL_bc77deda981640028aed6a8ff79b56e9",
            "_dom_classes": [],
            "description": "",
            "_model_name": "FloatProgressModel",
            "bar_style": "info",
            "max": 1,
            "_view_module": "@jupyter-widgets/controls",
            "_model_module_version": "1.5.0",
            "value": 1,
            "_view_count": null,
            "_view_module_version": "1.5.0",
            "orientation": "horizontal",
            "min": 0,
            "description_tooltip": null,
            "_model_module": "@jupyter-widgets/controls",
            "layout": "IPY_MODEL_9aaba4dbebc5484e814326badd380912"
          }
        },
        "2424c940abcf46f4b7eaffb40ed1581d": {
          "model_module": "@jupyter-widgets/controls",
          "model_name": "HTMLModel",
          "state": {
            "_view_name": "HTMLView",
            "style": "IPY_MODEL_d2373c574b0e4b0da066dc6997c85127",
            "_dom_classes": [],
            "description": "",
            "_model_name": "HTMLModel",
            "placeholder": "​",
            "_view_module": "@jupyter-widgets/controls",
            "_model_module_version": "1.5.0",
            "value": " 43/0 [00:00&lt;00:00, 1746.34 examples/s]",
            "_view_count": null,
            "_view_module_version": "1.5.0",
            "description_tooltip": null,
            "_model_module": "@jupyter-widgets/controls",
            "layout": "IPY_MODEL_0553c23c1a7d4bd08c5cf9a4bdcd0199"
          }
        },
        "bc77deda981640028aed6a8ff79b56e9": {
          "model_module": "@jupyter-widgets/controls",
          "model_name": "ProgressStyleModel",
          "state": {
            "_view_name": "StyleView",
            "_model_name": "ProgressStyleModel",
            "description_width": "initial",
            "_view_module": "@jupyter-widgets/base",
            "_model_module_version": "1.5.0",
            "_view_count": null,
            "_view_module_version": "1.2.0",
            "bar_color": null,
            "_model_module": "@jupyter-widgets/controls"
          }
        },
        "9aaba4dbebc5484e814326badd380912": {
          "model_module": "@jupyter-widgets/base",
          "model_name": "LayoutModel",
          "state": {
            "_view_name": "LayoutView",
            "grid_template_rows": null,
            "right": null,
            "justify_content": null,
            "_view_module": "@jupyter-widgets/base",
            "overflow": null,
            "_model_module_version": "1.2.0",
            "_view_count": null,
            "flex_flow": null,
            "width": null,
            "min_width": null,
            "border": null,
            "align_items": null,
            "bottom": null,
            "_model_module": "@jupyter-widgets/base",
            "top": null,
            "grid_column": null,
            "overflow_y": null,
            "overflow_x": null,
            "grid_auto_flow": null,
            "grid_area": null,
            "grid_template_columns": null,
            "flex": null,
            "_model_name": "LayoutModel",
            "justify_items": null,
            "grid_row": null,
            "max_height": null,
            "align_content": null,
            "visibility": null,
            "align_self": null,
            "height": null,
            "min_height": null,
            "padding": null,
            "grid_auto_rows": null,
            "grid_gap": null,
            "max_width": null,
            "order": null,
            "_view_module_version": "1.2.0",
            "grid_template_areas": null,
            "object_position": null,
            "object_fit": null,
            "grid_auto_columns": null,
            "margin": null,
            "display": null,
            "left": null
          }
        },
        "d2373c574b0e4b0da066dc6997c85127": {
          "model_module": "@jupyter-widgets/controls",
          "model_name": "DescriptionStyleModel",
          "state": {
            "_view_name": "StyleView",
            "_model_name": "DescriptionStyleModel",
            "description_width": "",
            "_view_module": "@jupyter-widgets/base",
            "_model_module_version": "1.5.0",
            "_view_count": null,
            "_view_module_version": "1.2.0",
            "_model_module": "@jupyter-widgets/controls"
          }
        },
        "0553c23c1a7d4bd08c5cf9a4bdcd0199": {
          "model_module": "@jupyter-widgets/base",
          "model_name": "LayoutModel",
          "state": {
            "_view_name": "LayoutView",
            "grid_template_rows": null,
            "right": null,
            "justify_content": null,
            "_view_module": "@jupyter-widgets/base",
            "overflow": null,
            "_model_module_version": "1.2.0",
            "_view_count": null,
            "flex_flow": null,
            "width": null,
            "min_width": null,
            "border": null,
            "align_items": null,
            "bottom": null,
            "_model_module": "@jupyter-widgets/base",
            "top": null,
            "grid_column": null,
            "overflow_y": null,
            "overflow_x": null,
            "grid_auto_flow": null,
            "grid_area": null,
            "grid_template_columns": null,
            "flex": null,
            "_model_name": "LayoutModel",
            "justify_items": null,
            "grid_row": null,
            "max_height": null,
            "align_content": null,
            "visibility": null,
            "align_self": null,
            "height": null,
            "min_height": null,
            "padding": null,
            "grid_auto_rows": null,
            "grid_gap": null,
            "max_width": null,
            "order": null,
            "_view_module_version": "1.2.0",
            "grid_template_areas": null,
            "object_position": null,
            "object_fit": null,
            "grid_auto_columns": null,
            "margin": null,
            "display": null,
            "left": null
          }
        },
        "09622265cf284820bc90063e8754b9de": {
          "model_module": "@jupyter-widgets/controls",
          "model_name": "HBoxModel",
          "state": {
            "_view_name": "HBoxView",
            "_dom_classes": [],
            "_model_name": "HBoxModel",
            "_view_module": "@jupyter-widgets/controls",
            "_model_module_version": "1.5.0",
            "_view_count": null,
            "_view_module_version": "1.5.0",
            "box_style": "",
            "layout": "IPY_MODEL_6e6170360ce34d60a67d9df4d222b438",
            "_model_module": "@jupyter-widgets/controls",
            "children": [
              "IPY_MODEL_d6e356ea32eb4436970c5b5282bdd44f",
              "IPY_MODEL_7004bd6000ea4bfb8dd4f1e2553d4cba"
            ]
          }
        },
        "6e6170360ce34d60a67d9df4d222b438": {
          "model_module": "@jupyter-widgets/base",
          "model_name": "LayoutModel",
          "state": {
            "_view_name": "LayoutView",
            "grid_template_rows": null,
            "right": null,
            "justify_content": null,
            "_view_module": "@jupyter-widgets/base",
            "overflow": null,
            "_model_module_version": "1.2.0",
            "_view_count": null,
            "flex_flow": null,
            "width": null,
            "min_width": null,
            "border": null,
            "align_items": null,
            "bottom": null,
            "_model_module": "@jupyter-widgets/base",
            "top": null,
            "grid_column": null,
            "overflow_y": null,
            "overflow_x": null,
            "grid_auto_flow": null,
            "grid_area": null,
            "grid_template_columns": null,
            "flex": null,
            "_model_name": "LayoutModel",
            "justify_items": null,
            "grid_row": null,
            "max_height": null,
            "align_content": null,
            "visibility": null,
            "align_self": null,
            "height": null,
            "min_height": null,
            "padding": null,
            "grid_auto_rows": null,
            "grid_gap": null,
            "max_width": null,
            "order": null,
            "_view_module_version": "1.2.0",
            "grid_template_areas": null,
            "object_position": null,
            "object_fit": null,
            "grid_auto_columns": null,
            "margin": null,
            "display": null,
            "left": null
          }
        },
        "d6e356ea32eb4436970c5b5282bdd44f": {
          "model_module": "@jupyter-widgets/controls",
          "model_name": "FloatProgressModel",
          "state": {
            "_view_name": "ProgressView",
            "style": "IPY_MODEL_d1ad7dcf57d24c3e81838f3b41cf0736",
            "_dom_classes": [],
            "description": "100%",
            "_model_name": "FloatProgressModel",
            "bar_style": "success",
            "max": 255,
            "_view_module": "@jupyter-widgets/controls",
            "_model_module_version": "1.5.0",
            "value": 255,
            "_view_count": null,
            "_view_module_version": "1.5.0",
            "orientation": "horizontal",
            "min": 0,
            "description_tooltip": null,
            "_model_module": "@jupyter-widgets/controls",
            "layout": "IPY_MODEL_fe2305f6a08645db880f90a0903f76e0"
          }
        },
        "7004bd6000ea4bfb8dd4f1e2553d4cba": {
          "model_module": "@jupyter-widgets/controls",
          "model_name": "HTMLModel",
          "state": {
            "_view_name": "HTMLView",
            "style": "IPY_MODEL_73218c2f2f1d4902b176ffbd666e6fad",
            "_dom_classes": [],
            "description": "",
            "_model_name": "HTMLModel",
            "placeholder": "​",
            "_view_module": "@jupyter-widgets/controls",
            "_model_module_version": "1.5.0",
            "value": " 255/255 [00:08&lt;00:00, 29.46ex/s]",
            "_view_count": null,
            "_view_module_version": "1.5.0",
            "description_tooltip": null,
            "_model_module": "@jupyter-widgets/controls",
            "layout": "IPY_MODEL_c3762705828e4ef7876f0ca1f3f655e9"
          }
        },
        "d1ad7dcf57d24c3e81838f3b41cf0736": {
          "model_module": "@jupyter-widgets/controls",
          "model_name": "ProgressStyleModel",
          "state": {
            "_view_name": "StyleView",
            "_model_name": "ProgressStyleModel",
            "description_width": "initial",
            "_view_module": "@jupyter-widgets/base",
            "_model_module_version": "1.5.0",
            "_view_count": null,
            "_view_module_version": "1.2.0",
            "bar_color": null,
            "_model_module": "@jupyter-widgets/controls"
          }
        },
        "fe2305f6a08645db880f90a0903f76e0": {
          "model_module": "@jupyter-widgets/base",
          "model_name": "LayoutModel",
          "state": {
            "_view_name": "LayoutView",
            "grid_template_rows": null,
            "right": null,
            "justify_content": null,
            "_view_module": "@jupyter-widgets/base",
            "overflow": null,
            "_model_module_version": "1.2.0",
            "_view_count": null,
            "flex_flow": null,
            "width": null,
            "min_width": null,
            "border": null,
            "align_items": null,
            "bottom": null,
            "_model_module": "@jupyter-widgets/base",
            "top": null,
            "grid_column": null,
            "overflow_y": null,
            "overflow_x": null,
            "grid_auto_flow": null,
            "grid_area": null,
            "grid_template_columns": null,
            "flex": null,
            "_model_name": "LayoutModel",
            "justify_items": null,
            "grid_row": null,
            "max_height": null,
            "align_content": null,
            "visibility": null,
            "align_self": null,
            "height": null,
            "min_height": null,
            "padding": null,
            "grid_auto_rows": null,
            "grid_gap": null,
            "max_width": null,
            "order": null,
            "_view_module_version": "1.2.0",
            "grid_template_areas": null,
            "object_position": null,
            "object_fit": null,
            "grid_auto_columns": null,
            "margin": null,
            "display": null,
            "left": null
          }
        },
        "73218c2f2f1d4902b176ffbd666e6fad": {
          "model_module": "@jupyter-widgets/controls",
          "model_name": "DescriptionStyleModel",
          "state": {
            "_view_name": "StyleView",
            "_model_name": "DescriptionStyleModel",
            "description_width": "",
            "_view_module": "@jupyter-widgets/base",
            "_model_module_version": "1.5.0",
            "_view_count": null,
            "_view_module_version": "1.2.0",
            "_model_module": "@jupyter-widgets/controls"
          }
        },
        "c3762705828e4ef7876f0ca1f3f655e9": {
          "model_module": "@jupyter-widgets/base",
          "model_name": "LayoutModel",
          "state": {
            "_view_name": "LayoutView",
            "grid_template_rows": null,
            "right": null,
            "justify_content": null,
            "_view_module": "@jupyter-widgets/base",
            "overflow": null,
            "_model_module_version": "1.2.0",
            "_view_count": null,
            "flex_flow": null,
            "width": null,
            "min_width": null,
            "border": null,
            "align_items": null,
            "bottom": null,
            "_model_module": "@jupyter-widgets/base",
            "top": null,
            "grid_column": null,
            "overflow_y": null,
            "overflow_x": null,
            "grid_auto_flow": null,
            "grid_area": null,
            "grid_template_columns": null,
            "flex": null,
            "_model_name": "LayoutModel",
            "justify_items": null,
            "grid_row": null,
            "max_height": null,
            "align_content": null,
            "visibility": null,
            "align_self": null,
            "height": null,
            "min_height": null,
            "padding": null,
            "grid_auto_rows": null,
            "grid_gap": null,
            "max_width": null,
            "order": null,
            "_view_module_version": "1.2.0",
            "grid_template_areas": null,
            "object_position": null,
            "object_fit": null,
            "grid_auto_columns": null,
            "margin": null,
            "display": null,
            "left": null
          }
        },
        "284cf512467f48fdb42d9b6dc9c68540": {
          "model_module": "@jupyter-widgets/controls",
          "model_name": "HBoxModel",
          "state": {
            "_view_name": "HBoxView",
            "_dom_classes": [],
            "_model_name": "HBoxModel",
            "_view_module": "@jupyter-widgets/controls",
            "_model_module_version": "1.5.0",
            "_view_count": null,
            "_view_module_version": "1.5.0",
            "box_style": "",
            "layout": "IPY_MODEL_ae3e74c958274300bdc538bcfb1e2855",
            "_model_module": "@jupyter-widgets/controls",
            "children": [
              "IPY_MODEL_39cb598f72c8475e96c6186ed1382dac",
              "IPY_MODEL_e5b99a6b81e24b62bced6be45606bfdb"
            ]
          }
        },
        "ae3e74c958274300bdc538bcfb1e2855": {
          "model_module": "@jupyter-widgets/base",
          "model_name": "LayoutModel",
          "state": {
            "_view_name": "LayoutView",
            "grid_template_rows": null,
            "right": null,
            "justify_content": null,
            "_view_module": "@jupyter-widgets/base",
            "overflow": null,
            "_model_module_version": "1.2.0",
            "_view_count": null,
            "flex_flow": null,
            "width": null,
            "min_width": null,
            "border": null,
            "align_items": null,
            "bottom": null,
            "_model_module": "@jupyter-widgets/base",
            "top": null,
            "grid_column": null,
            "overflow_y": null,
            "overflow_x": null,
            "grid_auto_flow": null,
            "grid_area": null,
            "grid_template_columns": null,
            "flex": null,
            "_model_name": "LayoutModel",
            "justify_items": null,
            "grid_row": null,
            "max_height": null,
            "align_content": null,
            "visibility": null,
            "align_self": null,
            "height": null,
            "min_height": null,
            "padding": null,
            "grid_auto_rows": null,
            "grid_gap": null,
            "max_width": null,
            "order": null,
            "_view_module_version": "1.2.0",
            "grid_template_areas": null,
            "object_position": null,
            "object_fit": null,
            "grid_auto_columns": null,
            "margin": null,
            "display": null,
            "left": null
          }
        },
        "39cb598f72c8475e96c6186ed1382dac": {
          "model_module": "@jupyter-widgets/controls",
          "model_name": "FloatProgressModel",
          "state": {
            "_view_name": "ProgressView",
            "style": "IPY_MODEL_b3c1fc7e9e8b446aa918aeba2b6a8903",
            "_dom_classes": [],
            "description": "100%",
            "_model_name": "FloatProgressModel",
            "bar_style": "success",
            "max": 116,
            "_view_module": "@jupyter-widgets/controls",
            "_model_module_version": "1.5.0",
            "value": 116,
            "_view_count": null,
            "_view_module_version": "1.5.0",
            "orientation": "horizontal",
            "min": 0,
            "description_tooltip": null,
            "_model_module": "@jupyter-widgets/controls",
            "layout": "IPY_MODEL_0dc59dfab46c4e9fa443e15fd3861095"
          }
        },
        "e5b99a6b81e24b62bced6be45606bfdb": {
          "model_module": "@jupyter-widgets/controls",
          "model_name": "HTMLModel",
          "state": {
            "_view_name": "HTMLView",
            "style": "IPY_MODEL_d049856d8ab44ddeba5c4477b345d358",
            "_dom_classes": [],
            "description": "",
            "_model_name": "HTMLModel",
            "placeholder": "​",
            "_view_module": "@jupyter-widgets/controls",
            "_model_module_version": "1.5.0",
            "value": " 116/116 [00:00&lt;00:00, 1589.51ex/s]",
            "_view_count": null,
            "_view_module_version": "1.5.0",
            "description_tooltip": null,
            "_model_module": "@jupyter-widgets/controls",
            "layout": "IPY_MODEL_2905aa1846334ccb8a9f4232c8210168"
          }
        },
        "b3c1fc7e9e8b446aa918aeba2b6a8903": {
          "model_module": "@jupyter-widgets/controls",
          "model_name": "ProgressStyleModel",
          "state": {
            "_view_name": "StyleView",
            "_model_name": "ProgressStyleModel",
            "description_width": "initial",
            "_view_module": "@jupyter-widgets/base",
            "_model_module_version": "1.5.0",
            "_view_count": null,
            "_view_module_version": "1.2.0",
            "bar_color": null,
            "_model_module": "@jupyter-widgets/controls"
          }
        },
        "0dc59dfab46c4e9fa443e15fd3861095": {
          "model_module": "@jupyter-widgets/base",
          "model_name": "LayoutModel",
          "state": {
            "_view_name": "LayoutView",
            "grid_template_rows": null,
            "right": null,
            "justify_content": null,
            "_view_module": "@jupyter-widgets/base",
            "overflow": null,
            "_model_module_version": "1.2.0",
            "_view_count": null,
            "flex_flow": null,
            "width": null,
            "min_width": null,
            "border": null,
            "align_items": null,
            "bottom": null,
            "_model_module": "@jupyter-widgets/base",
            "top": null,
            "grid_column": null,
            "overflow_y": null,
            "overflow_x": null,
            "grid_auto_flow": null,
            "grid_area": null,
            "grid_template_columns": null,
            "flex": null,
            "_model_name": "LayoutModel",
            "justify_items": null,
            "grid_row": null,
            "max_height": null,
            "align_content": null,
            "visibility": null,
            "align_self": null,
            "height": null,
            "min_height": null,
            "padding": null,
            "grid_auto_rows": null,
            "grid_gap": null,
            "max_width": null,
            "order": null,
            "_view_module_version": "1.2.0",
            "grid_template_areas": null,
            "object_position": null,
            "object_fit": null,
            "grid_auto_columns": null,
            "margin": null,
            "display": null,
            "left": null
          }
        },
        "d049856d8ab44ddeba5c4477b345d358": {
          "model_module": "@jupyter-widgets/controls",
          "model_name": "DescriptionStyleModel",
          "state": {
            "_view_name": "StyleView",
            "_model_name": "DescriptionStyleModel",
            "description_width": "",
            "_view_module": "@jupyter-widgets/base",
            "_model_module_version": "1.5.0",
            "_view_count": null,
            "_view_module_version": "1.2.0",
            "_model_module": "@jupyter-widgets/controls"
          }
        },
        "2905aa1846334ccb8a9f4232c8210168": {
          "model_module": "@jupyter-widgets/base",
          "model_name": "LayoutModel",
          "state": {
            "_view_name": "LayoutView",
            "grid_template_rows": null,
            "right": null,
            "justify_content": null,
            "_view_module": "@jupyter-widgets/base",
            "overflow": null,
            "_model_module_version": "1.2.0",
            "_view_count": null,
            "flex_flow": null,
            "width": null,
            "min_width": null,
            "border": null,
            "align_items": null,
            "bottom": null,
            "_model_module": "@jupyter-widgets/base",
            "top": null,
            "grid_column": null,
            "overflow_y": null,
            "overflow_x": null,
            "grid_auto_flow": null,
            "grid_area": null,
            "grid_template_columns": null,
            "flex": null,
            "_model_name": "LayoutModel",
            "justify_items": null,
            "grid_row": null,
            "max_height": null,
            "align_content": null,
            "visibility": null,
            "align_self": null,
            "height": null,
            "min_height": null,
            "padding": null,
            "grid_auto_rows": null,
            "grid_gap": null,
            "max_width": null,
            "order": null,
            "_view_module_version": "1.2.0",
            "grid_template_areas": null,
            "object_position": null,
            "object_fit": null,
            "grid_auto_columns": null,
            "margin": null,
            "display": null,
            "left": null
          }
        },
        "3a4a1f2e35714906bcf7a17a9c979171": {
          "model_module": "@jupyter-widgets/controls",
          "model_name": "HBoxModel",
          "state": {
            "_view_name": "HBoxView",
            "_dom_classes": [],
            "_model_name": "HBoxModel",
            "_view_module": "@jupyter-widgets/controls",
            "_model_module_version": "1.5.0",
            "_view_count": null,
            "_view_module_version": "1.5.0",
            "box_style": "",
            "layout": "IPY_MODEL_61ed9d1b846b48ba8c6afbee3a5a64df",
            "_model_module": "@jupyter-widgets/controls",
            "children": [
              "IPY_MODEL_4409be18be3048aaa4b0afc8611a5d04",
              "IPY_MODEL_2521207c3ab9432186332886699470c1"
            ]
          }
        },
        "61ed9d1b846b48ba8c6afbee3a5a64df": {
          "model_module": "@jupyter-widgets/base",
          "model_name": "LayoutModel",
          "state": {
            "_view_name": "LayoutView",
            "grid_template_rows": null,
            "right": null,
            "justify_content": null,
            "_view_module": "@jupyter-widgets/base",
            "overflow": null,
            "_model_module_version": "1.2.0",
            "_view_count": null,
            "flex_flow": null,
            "width": null,
            "min_width": null,
            "border": null,
            "align_items": null,
            "bottom": null,
            "_model_module": "@jupyter-widgets/base",
            "top": null,
            "grid_column": null,
            "overflow_y": null,
            "overflow_x": null,
            "grid_auto_flow": null,
            "grid_area": null,
            "grid_template_columns": null,
            "flex": null,
            "_model_name": "LayoutModel",
            "justify_items": null,
            "grid_row": null,
            "max_height": null,
            "align_content": null,
            "visibility": null,
            "align_self": null,
            "height": null,
            "min_height": null,
            "padding": null,
            "grid_auto_rows": null,
            "grid_gap": null,
            "max_width": null,
            "order": null,
            "_view_module_version": "1.2.0",
            "grid_template_areas": null,
            "object_position": null,
            "object_fit": null,
            "grid_auto_columns": null,
            "margin": null,
            "display": null,
            "left": null
          }
        },
        "4409be18be3048aaa4b0afc8611a5d04": {
          "model_module": "@jupyter-widgets/controls",
          "model_name": "FloatProgressModel",
          "state": {
            "_view_name": "ProgressView",
            "style": "IPY_MODEL_974e841cd7c148778db63640fe763ea9",
            "_dom_classes": [],
            "description": "100%",
            "_model_name": "FloatProgressModel",
            "bar_style": "success",
            "max": 1,
            "_view_module": "@jupyter-widgets/controls",
            "_model_module_version": "1.5.0",
            "value": 1,
            "_view_count": null,
            "_view_module_version": "1.5.0",
            "orientation": "horizontal",
            "min": 0,
            "description_tooltip": null,
            "_model_module": "@jupyter-widgets/controls",
            "layout": "IPY_MODEL_26135afef7b442219d823072db8481e3"
          }
        },
        "2521207c3ab9432186332886699470c1": {
          "model_module": "@jupyter-widgets/controls",
          "model_name": "HTMLModel",
          "state": {
            "_view_name": "HTMLView",
            "style": "IPY_MODEL_62743806b56242bbbbc033cc1f6cc41f",
            "_dom_classes": [],
            "description": "",
            "_model_name": "HTMLModel",
            "placeholder": "​",
            "_view_module": "@jupyter-widgets/controls",
            "_model_module_version": "1.5.0",
            "value": " 1/1 [00:08&lt;00:00,  8.56s/ba]",
            "_view_count": null,
            "_view_module_version": "1.5.0",
            "description_tooltip": null,
            "_model_module": "@jupyter-widgets/controls",
            "layout": "IPY_MODEL_72626ad5dcbc41449715865f2475df68"
          }
        },
        "974e841cd7c148778db63640fe763ea9": {
          "model_module": "@jupyter-widgets/controls",
          "model_name": "ProgressStyleModel",
          "state": {
            "_view_name": "StyleView",
            "_model_name": "ProgressStyleModel",
            "description_width": "initial",
            "_view_module": "@jupyter-widgets/base",
            "_model_module_version": "1.5.0",
            "_view_count": null,
            "_view_module_version": "1.2.0",
            "bar_color": null,
            "_model_module": "@jupyter-widgets/controls"
          }
        },
        "26135afef7b442219d823072db8481e3": {
          "model_module": "@jupyter-widgets/base",
          "model_name": "LayoutModel",
          "state": {
            "_view_name": "LayoutView",
            "grid_template_rows": null,
            "right": null,
            "justify_content": null,
            "_view_module": "@jupyter-widgets/base",
            "overflow": null,
            "_model_module_version": "1.2.0",
            "_view_count": null,
            "flex_flow": null,
            "width": null,
            "min_width": null,
            "border": null,
            "align_items": null,
            "bottom": null,
            "_model_module": "@jupyter-widgets/base",
            "top": null,
            "grid_column": null,
            "overflow_y": null,
            "overflow_x": null,
            "grid_auto_flow": null,
            "grid_area": null,
            "grid_template_columns": null,
            "flex": null,
            "_model_name": "LayoutModel",
            "justify_items": null,
            "grid_row": null,
            "max_height": null,
            "align_content": null,
            "visibility": null,
            "align_self": null,
            "height": null,
            "min_height": null,
            "padding": null,
            "grid_auto_rows": null,
            "grid_gap": null,
            "max_width": null,
            "order": null,
            "_view_module_version": "1.2.0",
            "grid_template_areas": null,
            "object_position": null,
            "object_fit": null,
            "grid_auto_columns": null,
            "margin": null,
            "display": null,
            "left": null
          }
        },
        "62743806b56242bbbbc033cc1f6cc41f": {
          "model_module": "@jupyter-widgets/controls",
          "model_name": "DescriptionStyleModel",
          "state": {
            "_view_name": "StyleView",
            "_model_name": "DescriptionStyleModel",
            "description_width": "",
            "_view_module": "@jupyter-widgets/base",
            "_model_module_version": "1.5.0",
            "_view_count": null,
            "_view_module_version": "1.2.0",
            "_model_module": "@jupyter-widgets/controls"
          }
        },
        "72626ad5dcbc41449715865f2475df68": {
          "model_module": "@jupyter-widgets/base",
          "model_name": "LayoutModel",
          "state": {
            "_view_name": "LayoutView",
            "grid_template_rows": null,
            "right": null,
            "justify_content": null,
            "_view_module": "@jupyter-widgets/base",
            "overflow": null,
            "_model_module_version": "1.2.0",
            "_view_count": null,
            "flex_flow": null,
            "width": null,
            "min_width": null,
            "border": null,
            "align_items": null,
            "bottom": null,
            "_model_module": "@jupyter-widgets/base",
            "top": null,
            "grid_column": null,
            "overflow_y": null,
            "overflow_x": null,
            "grid_auto_flow": null,
            "grid_area": null,
            "grid_template_columns": null,
            "flex": null,
            "_model_name": "LayoutModel",
            "justify_items": null,
            "grid_row": null,
            "max_height": null,
            "align_content": null,
            "visibility": null,
            "align_self": null,
            "height": null,
            "min_height": null,
            "padding": null,
            "grid_auto_rows": null,
            "grid_gap": null,
            "max_width": null,
            "order": null,
            "_view_module_version": "1.2.0",
            "grid_template_areas": null,
            "object_position": null,
            "object_fit": null,
            "grid_auto_columns": null,
            "margin": null,
            "display": null,
            "left": null
          }
        },
        "a8b5afa9ec19451faa5e6b7691b9b34a": {
          "model_module": "@jupyter-widgets/controls",
          "model_name": "HBoxModel",
          "state": {
            "_view_name": "HBoxView",
            "_dom_classes": [],
            "_model_name": "HBoxModel",
            "_view_module": "@jupyter-widgets/controls",
            "_model_module_version": "1.5.0",
            "_view_count": null,
            "_view_module_version": "1.5.0",
            "box_style": "",
            "layout": "IPY_MODEL_1ccf586d0c7a4f7c86138351b8fb382f",
            "_model_module": "@jupyter-widgets/controls",
            "children": [
              "IPY_MODEL_c1c5f53cf5ad4d758de9384db7d1ac53",
              "IPY_MODEL_d8e37305e2d24f1a9df139be70c93ee2"
            ]
          }
        },
        "1ccf586d0c7a4f7c86138351b8fb382f": {
          "model_module": "@jupyter-widgets/base",
          "model_name": "LayoutModel",
          "state": {
            "_view_name": "LayoutView",
            "grid_template_rows": null,
            "right": null,
            "justify_content": null,
            "_view_module": "@jupyter-widgets/base",
            "overflow": null,
            "_model_module_version": "1.2.0",
            "_view_count": null,
            "flex_flow": null,
            "width": null,
            "min_width": null,
            "border": null,
            "align_items": null,
            "bottom": null,
            "_model_module": "@jupyter-widgets/base",
            "top": null,
            "grid_column": null,
            "overflow_y": null,
            "overflow_x": null,
            "grid_auto_flow": null,
            "grid_area": null,
            "grid_template_columns": null,
            "flex": null,
            "_model_name": "LayoutModel",
            "justify_items": null,
            "grid_row": null,
            "max_height": null,
            "align_content": null,
            "visibility": null,
            "align_self": null,
            "height": null,
            "min_height": null,
            "padding": null,
            "grid_auto_rows": null,
            "grid_gap": null,
            "max_width": null,
            "order": null,
            "_view_module_version": "1.2.0",
            "grid_template_areas": null,
            "object_position": null,
            "object_fit": null,
            "grid_auto_columns": null,
            "margin": null,
            "display": null,
            "left": null
          }
        },
        "c1c5f53cf5ad4d758de9384db7d1ac53": {
          "model_module": "@jupyter-widgets/controls",
          "model_name": "FloatProgressModel",
          "state": {
            "_view_name": "ProgressView",
            "style": "IPY_MODEL_9e66f6d42ce24a0fbde233e92b4c1b16",
            "_dom_classes": [],
            "description": "100%",
            "_model_name": "FloatProgressModel",
            "bar_style": "success",
            "max": 1,
            "_view_module": "@jupyter-widgets/controls",
            "_model_module_version": "1.5.0",
            "value": 1,
            "_view_count": null,
            "_view_module_version": "1.5.0",
            "orientation": "horizontal",
            "min": 0,
            "description_tooltip": null,
            "_model_module": "@jupyter-widgets/controls",
            "layout": "IPY_MODEL_ae1ab7635017435d8728e41be6d70db8"
          }
        },
        "d8e37305e2d24f1a9df139be70c93ee2": {
          "model_module": "@jupyter-widgets/controls",
          "model_name": "HTMLModel",
          "state": {
            "_view_name": "HTMLView",
            "style": "IPY_MODEL_105d7465fff64d099c908b33ef0c4989",
            "_dom_classes": [],
            "description": "",
            "_model_name": "HTMLModel",
            "placeholder": "​",
            "_view_module": "@jupyter-widgets/controls",
            "_model_module_version": "1.5.0",
            "value": " 1/1 [00:00&lt;00:00, 13.67ba/s]",
            "_view_count": null,
            "_view_module_version": "1.5.0",
            "description_tooltip": null,
            "_model_module": "@jupyter-widgets/controls",
            "layout": "IPY_MODEL_0215cbf0e36f481abc2237db6cb1bb00"
          }
        },
        "9e66f6d42ce24a0fbde233e92b4c1b16": {
          "model_module": "@jupyter-widgets/controls",
          "model_name": "ProgressStyleModel",
          "state": {
            "_view_name": "StyleView",
            "_model_name": "ProgressStyleModel",
            "description_width": "initial",
            "_view_module": "@jupyter-widgets/base",
            "_model_module_version": "1.5.0",
            "_view_count": null,
            "_view_module_version": "1.2.0",
            "bar_color": null,
            "_model_module": "@jupyter-widgets/controls"
          }
        },
        "ae1ab7635017435d8728e41be6d70db8": {
          "model_module": "@jupyter-widgets/base",
          "model_name": "LayoutModel",
          "state": {
            "_view_name": "LayoutView",
            "grid_template_rows": null,
            "right": null,
            "justify_content": null,
            "_view_module": "@jupyter-widgets/base",
            "overflow": null,
            "_model_module_version": "1.2.0",
            "_view_count": null,
            "flex_flow": null,
            "width": null,
            "min_width": null,
            "border": null,
            "align_items": null,
            "bottom": null,
            "_model_module": "@jupyter-widgets/base",
            "top": null,
            "grid_column": null,
            "overflow_y": null,
            "overflow_x": null,
            "grid_auto_flow": null,
            "grid_area": null,
            "grid_template_columns": null,
            "flex": null,
            "_model_name": "LayoutModel",
            "justify_items": null,
            "grid_row": null,
            "max_height": null,
            "align_content": null,
            "visibility": null,
            "align_self": null,
            "height": null,
            "min_height": null,
            "padding": null,
            "grid_auto_rows": null,
            "grid_gap": null,
            "max_width": null,
            "order": null,
            "_view_module_version": "1.2.0",
            "grid_template_areas": null,
            "object_position": null,
            "object_fit": null,
            "grid_auto_columns": null,
            "margin": null,
            "display": null,
            "left": null
          }
        },
        "105d7465fff64d099c908b33ef0c4989": {
          "model_module": "@jupyter-widgets/controls",
          "model_name": "DescriptionStyleModel",
          "state": {
            "_view_name": "StyleView",
            "_model_name": "DescriptionStyleModel",
            "description_width": "",
            "_view_module": "@jupyter-widgets/base",
            "_model_module_version": "1.5.0",
            "_view_count": null,
            "_view_module_version": "1.2.0",
            "_model_module": "@jupyter-widgets/controls"
          }
        },
        "0215cbf0e36f481abc2237db6cb1bb00": {
          "model_module": "@jupyter-widgets/base",
          "model_name": "LayoutModel",
          "state": {
            "_view_name": "LayoutView",
            "grid_template_rows": null,
            "right": null,
            "justify_content": null,
            "_view_module": "@jupyter-widgets/base",
            "overflow": null,
            "_model_module_version": "1.2.0",
            "_view_count": null,
            "flex_flow": null,
            "width": null,
            "min_width": null,
            "border": null,
            "align_items": null,
            "bottom": null,
            "_model_module": "@jupyter-widgets/base",
            "top": null,
            "grid_column": null,
            "overflow_y": null,
            "overflow_x": null,
            "grid_auto_flow": null,
            "grid_area": null,
            "grid_template_columns": null,
            "flex": null,
            "_model_name": "LayoutModel",
            "justify_items": null,
            "grid_row": null,
            "max_height": null,
            "align_content": null,
            "visibility": null,
            "align_self": null,
            "height": null,
            "min_height": null,
            "padding": null,
            "grid_auto_rows": null,
            "grid_gap": null,
            "max_width": null,
            "order": null,
            "_view_module_version": "1.2.0",
            "grid_template_areas": null,
            "object_position": null,
            "object_fit": null,
            "grid_auto_columns": null,
            "margin": null,
            "display": null,
            "left": null
          }
        },
        "344c8a87f29048a0a2f82944995790f6": {
          "model_module": "@jupyter-widgets/controls",
          "model_name": "HBoxModel",
          "state": {
            "_view_name": "HBoxView",
            "_dom_classes": [],
            "_model_name": "HBoxModel",
            "_view_module": "@jupyter-widgets/controls",
            "_model_module_version": "1.5.0",
            "_view_count": null,
            "_view_module_version": "1.5.0",
            "box_style": "",
            "layout": "IPY_MODEL_abe4ad8c5bc74f0ebc633dcecbc822ad",
            "_model_module": "@jupyter-widgets/controls",
            "children": [
              "IPY_MODEL_b0a3ee660d6441ee9ed3a11ac3fbb057",
              "IPY_MODEL_c1ad0f8dbce64572b6c5f076aed8a461"
            ]
          }
        },
        "abe4ad8c5bc74f0ebc633dcecbc822ad": {
          "model_module": "@jupyter-widgets/base",
          "model_name": "LayoutModel",
          "state": {
            "_view_name": "LayoutView",
            "grid_template_rows": null,
            "right": null,
            "justify_content": null,
            "_view_module": "@jupyter-widgets/base",
            "overflow": null,
            "_model_module_version": "1.2.0",
            "_view_count": null,
            "flex_flow": null,
            "width": null,
            "min_width": null,
            "border": null,
            "align_items": null,
            "bottom": null,
            "_model_module": "@jupyter-widgets/base",
            "top": null,
            "grid_column": null,
            "overflow_y": null,
            "overflow_x": null,
            "grid_auto_flow": null,
            "grid_area": null,
            "grid_template_columns": null,
            "flex": null,
            "_model_name": "LayoutModel",
            "justify_items": null,
            "grid_row": null,
            "max_height": null,
            "align_content": null,
            "visibility": null,
            "align_self": null,
            "height": null,
            "min_height": null,
            "padding": null,
            "grid_auto_rows": null,
            "grid_gap": null,
            "max_width": null,
            "order": null,
            "_view_module_version": "1.2.0",
            "grid_template_areas": null,
            "object_position": null,
            "object_fit": null,
            "grid_auto_columns": null,
            "margin": null,
            "display": null,
            "left": null
          }
        },
        "b0a3ee660d6441ee9ed3a11ac3fbb057": {
          "model_module": "@jupyter-widgets/controls",
          "model_name": "FloatProgressModel",
          "state": {
            "_view_name": "ProgressView",
            "style": "IPY_MODEL_60af5578f75b49e69613beae61a2ad78",
            "_dom_classes": [],
            "description": "100%",
            "_model_name": "FloatProgressModel",
            "bar_style": "success",
            "max": 255,
            "_view_module": "@jupyter-widgets/controls",
            "_model_module_version": "1.5.0",
            "value": 255,
            "_view_count": null,
            "_view_module_version": "1.5.0",
            "orientation": "horizontal",
            "min": 0,
            "description_tooltip": null,
            "_model_module": "@jupyter-widgets/controls",
            "layout": "IPY_MODEL_659b29cf4e2d49f383de7146d9f5d3f6"
          }
        },
        "c1ad0f8dbce64572b6c5f076aed8a461": {
          "model_module": "@jupyter-widgets/controls",
          "model_name": "HTMLModel",
          "state": {
            "_view_name": "HTMLView",
            "style": "IPY_MODEL_bbad387475f54492ad5d69d6dd770313",
            "_dom_classes": [],
            "description": "",
            "_model_name": "HTMLModel",
            "placeholder": "​",
            "_view_module": "@jupyter-widgets/controls",
            "_model_module_version": "1.5.0",
            "value": " 255/255 [00:08&lt;00:00, 30.76ex/s]",
            "_view_count": null,
            "_view_module_version": "1.5.0",
            "description_tooltip": null,
            "_model_module": "@jupyter-widgets/controls",
            "layout": "IPY_MODEL_305ef955842e46f0b4f53b3d3c04e09a"
          }
        },
        "60af5578f75b49e69613beae61a2ad78": {
          "model_module": "@jupyter-widgets/controls",
          "model_name": "ProgressStyleModel",
          "state": {
            "_view_name": "StyleView",
            "_model_name": "ProgressStyleModel",
            "description_width": "initial",
            "_view_module": "@jupyter-widgets/base",
            "_model_module_version": "1.5.0",
            "_view_count": null,
            "_view_module_version": "1.2.0",
            "bar_color": null,
            "_model_module": "@jupyter-widgets/controls"
          }
        },
        "659b29cf4e2d49f383de7146d9f5d3f6": {
          "model_module": "@jupyter-widgets/base",
          "model_name": "LayoutModel",
          "state": {
            "_view_name": "LayoutView",
            "grid_template_rows": null,
            "right": null,
            "justify_content": null,
            "_view_module": "@jupyter-widgets/base",
            "overflow": null,
            "_model_module_version": "1.2.0",
            "_view_count": null,
            "flex_flow": null,
            "width": null,
            "min_width": null,
            "border": null,
            "align_items": null,
            "bottom": null,
            "_model_module": "@jupyter-widgets/base",
            "top": null,
            "grid_column": null,
            "overflow_y": null,
            "overflow_x": null,
            "grid_auto_flow": null,
            "grid_area": null,
            "grid_template_columns": null,
            "flex": null,
            "_model_name": "LayoutModel",
            "justify_items": null,
            "grid_row": null,
            "max_height": null,
            "align_content": null,
            "visibility": null,
            "align_self": null,
            "height": null,
            "min_height": null,
            "padding": null,
            "grid_auto_rows": null,
            "grid_gap": null,
            "max_width": null,
            "order": null,
            "_view_module_version": "1.2.0",
            "grid_template_areas": null,
            "object_position": null,
            "object_fit": null,
            "grid_auto_columns": null,
            "margin": null,
            "display": null,
            "left": null
          }
        },
        "bbad387475f54492ad5d69d6dd770313": {
          "model_module": "@jupyter-widgets/controls",
          "model_name": "DescriptionStyleModel",
          "state": {
            "_view_name": "StyleView",
            "_model_name": "DescriptionStyleModel",
            "description_width": "",
            "_view_module": "@jupyter-widgets/base",
            "_model_module_version": "1.5.0",
            "_view_count": null,
            "_view_module_version": "1.2.0",
            "_model_module": "@jupyter-widgets/controls"
          }
        },
        "305ef955842e46f0b4f53b3d3c04e09a": {
          "model_module": "@jupyter-widgets/base",
          "model_name": "LayoutModel",
          "state": {
            "_view_name": "LayoutView",
            "grid_template_rows": null,
            "right": null,
            "justify_content": null,
            "_view_module": "@jupyter-widgets/base",
            "overflow": null,
            "_model_module_version": "1.2.0",
            "_view_count": null,
            "flex_flow": null,
            "width": null,
            "min_width": null,
            "border": null,
            "align_items": null,
            "bottom": null,
            "_model_module": "@jupyter-widgets/base",
            "top": null,
            "grid_column": null,
            "overflow_y": null,
            "overflow_x": null,
            "grid_auto_flow": null,
            "grid_area": null,
            "grid_template_columns": null,
            "flex": null,
            "_model_name": "LayoutModel",
            "justify_items": null,
            "grid_row": null,
            "max_height": null,
            "align_content": null,
            "visibility": null,
            "align_self": null,
            "height": null,
            "min_height": null,
            "padding": null,
            "grid_auto_rows": null,
            "grid_gap": null,
            "max_width": null,
            "order": null,
            "_view_module_version": "1.2.0",
            "grid_template_areas": null,
            "object_position": null,
            "object_fit": null,
            "grid_auto_columns": null,
            "margin": null,
            "display": null,
            "left": null
          }
        },
        "154eb8eb21f24bdcb4cb7050b8436994": {
          "model_module": "@jupyter-widgets/controls",
          "model_name": "HBoxModel",
          "state": {
            "_view_name": "HBoxView",
            "_dom_classes": [],
            "_model_name": "HBoxModel",
            "_view_module": "@jupyter-widgets/controls",
            "_model_module_version": "1.5.0",
            "_view_count": null,
            "_view_module_version": "1.5.0",
            "box_style": "",
            "layout": "IPY_MODEL_45f832001a844d96a5bff18aef2fb9c3",
            "_model_module": "@jupyter-widgets/controls",
            "children": [
              "IPY_MODEL_8218d8732d91448da6a60f645d5fe1ec",
              "IPY_MODEL_b3c7e7236da24354999cf8518759ed30"
            ]
          }
        },
        "45f832001a844d96a5bff18aef2fb9c3": {
          "model_module": "@jupyter-widgets/base",
          "model_name": "LayoutModel",
          "state": {
            "_view_name": "LayoutView",
            "grid_template_rows": null,
            "right": null,
            "justify_content": null,
            "_view_module": "@jupyter-widgets/base",
            "overflow": null,
            "_model_module_version": "1.2.0",
            "_view_count": null,
            "flex_flow": null,
            "width": null,
            "min_width": null,
            "border": null,
            "align_items": null,
            "bottom": null,
            "_model_module": "@jupyter-widgets/base",
            "top": null,
            "grid_column": null,
            "overflow_y": null,
            "overflow_x": null,
            "grid_auto_flow": null,
            "grid_area": null,
            "grid_template_columns": null,
            "flex": null,
            "_model_name": "LayoutModel",
            "justify_items": null,
            "grid_row": null,
            "max_height": null,
            "align_content": null,
            "visibility": null,
            "align_self": null,
            "height": null,
            "min_height": null,
            "padding": null,
            "grid_auto_rows": null,
            "grid_gap": null,
            "max_width": null,
            "order": null,
            "_view_module_version": "1.2.0",
            "grid_template_areas": null,
            "object_position": null,
            "object_fit": null,
            "grid_auto_columns": null,
            "margin": null,
            "display": null,
            "left": null
          }
        },
        "8218d8732d91448da6a60f645d5fe1ec": {
          "model_module": "@jupyter-widgets/controls",
          "model_name": "FloatProgressModel",
          "state": {
            "_view_name": "ProgressView",
            "style": "IPY_MODEL_75a427dca3a748e9a0089fbe267c34f7",
            "_dom_classes": [],
            "description": "100%",
            "_model_name": "FloatProgressModel",
            "bar_style": "success",
            "max": 116,
            "_view_module": "@jupyter-widgets/controls",
            "_model_module_version": "1.5.0",
            "value": 116,
            "_view_count": null,
            "_view_module_version": "1.5.0",
            "orientation": "horizontal",
            "min": 0,
            "description_tooltip": null,
            "_model_module": "@jupyter-widgets/controls",
            "layout": "IPY_MODEL_21da46c5aab5494aa3a7ac93a54ad8f9"
          }
        },
        "b3c7e7236da24354999cf8518759ed30": {
          "model_module": "@jupyter-widgets/controls",
          "model_name": "HTMLModel",
          "state": {
            "_view_name": "HTMLView",
            "style": "IPY_MODEL_1fa02a687b3c40b18fd1a51d95f8985e",
            "_dom_classes": [],
            "description": "",
            "_model_name": "HTMLModel",
            "placeholder": "​",
            "_view_module": "@jupyter-widgets/controls",
            "_model_module_version": "1.5.0",
            "value": " 116/116 [00:02&lt;00:00, 49.04ex/s]",
            "_view_count": null,
            "_view_module_version": "1.5.0",
            "description_tooltip": null,
            "_model_module": "@jupyter-widgets/controls",
            "layout": "IPY_MODEL_c8648b4184c941d8bd3cef23d399c003"
          }
        },
        "75a427dca3a748e9a0089fbe267c34f7": {
          "model_module": "@jupyter-widgets/controls",
          "model_name": "ProgressStyleModel",
          "state": {
            "_view_name": "StyleView",
            "_model_name": "ProgressStyleModel",
            "description_width": "initial",
            "_view_module": "@jupyter-widgets/base",
            "_model_module_version": "1.5.0",
            "_view_count": null,
            "_view_module_version": "1.2.0",
            "bar_color": null,
            "_model_module": "@jupyter-widgets/controls"
          }
        },
        "21da46c5aab5494aa3a7ac93a54ad8f9": {
          "model_module": "@jupyter-widgets/base",
          "model_name": "LayoutModel",
          "state": {
            "_view_name": "LayoutView",
            "grid_template_rows": null,
            "right": null,
            "justify_content": null,
            "_view_module": "@jupyter-widgets/base",
            "overflow": null,
            "_model_module_version": "1.2.0",
            "_view_count": null,
            "flex_flow": null,
            "width": null,
            "min_width": null,
            "border": null,
            "align_items": null,
            "bottom": null,
            "_model_module": "@jupyter-widgets/base",
            "top": null,
            "grid_column": null,
            "overflow_y": null,
            "overflow_x": null,
            "grid_auto_flow": null,
            "grid_area": null,
            "grid_template_columns": null,
            "flex": null,
            "_model_name": "LayoutModel",
            "justify_items": null,
            "grid_row": null,
            "max_height": null,
            "align_content": null,
            "visibility": null,
            "align_self": null,
            "height": null,
            "min_height": null,
            "padding": null,
            "grid_auto_rows": null,
            "grid_gap": null,
            "max_width": null,
            "order": null,
            "_view_module_version": "1.2.0",
            "grid_template_areas": null,
            "object_position": null,
            "object_fit": null,
            "grid_auto_columns": null,
            "margin": null,
            "display": null,
            "left": null
          }
        },
        "1fa02a687b3c40b18fd1a51d95f8985e": {
          "model_module": "@jupyter-widgets/controls",
          "model_name": "DescriptionStyleModel",
          "state": {
            "_view_name": "StyleView",
            "_model_name": "DescriptionStyleModel",
            "description_width": "",
            "_view_module": "@jupyter-widgets/base",
            "_model_module_version": "1.5.0",
            "_view_count": null,
            "_view_module_version": "1.2.0",
            "_model_module": "@jupyter-widgets/controls"
          }
        },
        "c8648b4184c941d8bd3cef23d399c003": {
          "model_module": "@jupyter-widgets/base",
          "model_name": "LayoutModel",
          "state": {
            "_view_name": "LayoutView",
            "grid_template_rows": null,
            "right": null,
            "justify_content": null,
            "_view_module": "@jupyter-widgets/base",
            "overflow": null,
            "_model_module_version": "1.2.0",
            "_view_count": null,
            "flex_flow": null,
            "width": null,
            "min_width": null,
            "border": null,
            "align_items": null,
            "bottom": null,
            "_model_module": "@jupyter-widgets/base",
            "top": null,
            "grid_column": null,
            "overflow_y": null,
            "overflow_x": null,
            "grid_auto_flow": null,
            "grid_area": null,
            "grid_template_columns": null,
            "flex": null,
            "_model_name": "LayoutModel",
            "justify_items": null,
            "grid_row": null,
            "max_height": null,
            "align_content": null,
            "visibility": null,
            "align_self": null,
            "height": null,
            "min_height": null,
            "padding": null,
            "grid_auto_rows": null,
            "grid_gap": null,
            "max_width": null,
            "order": null,
            "_view_module_version": "1.2.0",
            "grid_template_areas": null,
            "object_position": null,
            "object_fit": null,
            "grid_auto_columns": null,
            "margin": null,
            "display": null,
            "left": null
          }
        },
        "8acfd985233e4f7a8108f42ab8ec2067": {
          "model_module": "@jupyter-widgets/controls",
          "model_name": "HBoxModel",
          "state": {
            "_view_name": "HBoxView",
            "_dom_classes": [],
            "_model_name": "HBoxModel",
            "_view_module": "@jupyter-widgets/controls",
            "_model_module_version": "1.5.0",
            "_view_count": null,
            "_view_module_version": "1.5.0",
            "box_style": "",
            "layout": "IPY_MODEL_2d9cd49ecce04e00b214df242200bea0",
            "_model_module": "@jupyter-widgets/controls",
            "children": [
              "IPY_MODEL_8142ff62f05c4d5b942c4c8b1cd2417a",
              "IPY_MODEL_f37b4ad665384c3c85b447fa1c3dfcfb"
            ]
          }
        },
        "2d9cd49ecce04e00b214df242200bea0": {
          "model_module": "@jupyter-widgets/base",
          "model_name": "LayoutModel",
          "state": {
            "_view_name": "LayoutView",
            "grid_template_rows": null,
            "right": null,
            "justify_content": null,
            "_view_module": "@jupyter-widgets/base",
            "overflow": null,
            "_model_module_version": "1.2.0",
            "_view_count": null,
            "flex_flow": null,
            "width": null,
            "min_width": null,
            "border": null,
            "align_items": null,
            "bottom": null,
            "_model_module": "@jupyter-widgets/base",
            "top": null,
            "grid_column": null,
            "overflow_y": null,
            "overflow_x": null,
            "grid_auto_flow": null,
            "grid_area": null,
            "grid_template_columns": null,
            "flex": null,
            "_model_name": "LayoutModel",
            "justify_items": null,
            "grid_row": null,
            "max_height": null,
            "align_content": null,
            "visibility": null,
            "align_self": null,
            "height": null,
            "min_height": null,
            "padding": null,
            "grid_auto_rows": null,
            "grid_gap": null,
            "max_width": null,
            "order": null,
            "_view_module_version": "1.2.0",
            "grid_template_areas": null,
            "object_position": null,
            "object_fit": null,
            "grid_auto_columns": null,
            "margin": null,
            "display": null,
            "left": null
          }
        },
        "8142ff62f05c4d5b942c4c8b1cd2417a": {
          "model_module": "@jupyter-widgets/controls",
          "model_name": "FloatProgressModel",
          "state": {
            "_view_name": "ProgressView",
            "style": "IPY_MODEL_98d0b1db71e8430c9ba8ceddc2020888",
            "_dom_classes": [],
            "description": "#0: 100%",
            "_model_name": "FloatProgressModel",
            "bar_style": "success",
            "max": 64,
            "_view_module": "@jupyter-widgets/controls",
            "_model_module_version": "1.5.0",
            "value": 64,
            "_view_count": null,
            "_view_module_version": "1.5.0",
            "orientation": "horizontal",
            "min": 0,
            "description_tooltip": null,
            "_model_module": "@jupyter-widgets/controls",
            "layout": "IPY_MODEL_6f19de29eaf746b89113f01af54df0d8"
          }
        },
        "f37b4ad665384c3c85b447fa1c3dfcfb": {
          "model_module": "@jupyter-widgets/controls",
          "model_name": "HTMLModel",
          "state": {
            "_view_name": "HTMLView",
            "style": "IPY_MODEL_d354796526ce413184a9405fdf65fb0c",
            "_dom_classes": [],
            "description": "",
            "_model_name": "HTMLModel",
            "placeholder": "​",
            "_view_module": "@jupyter-widgets/controls",
            "_model_module_version": "1.5.0",
            "value": " 64/64 [00:25&lt;00:00,  2.47ex/s]",
            "_view_count": null,
            "_view_module_version": "1.5.0",
            "description_tooltip": null,
            "_model_module": "@jupyter-widgets/controls",
            "layout": "IPY_MODEL_9a5f6de2a7df42dc9291b8ed4c010eb4"
          }
        },
        "98d0b1db71e8430c9ba8ceddc2020888": {
          "model_module": "@jupyter-widgets/controls",
          "model_name": "ProgressStyleModel",
          "state": {
            "_view_name": "StyleView",
            "_model_name": "ProgressStyleModel",
            "description_width": "initial",
            "_view_module": "@jupyter-widgets/base",
            "_model_module_version": "1.5.0",
            "_view_count": null,
            "_view_module_version": "1.2.0",
            "bar_color": null,
            "_model_module": "@jupyter-widgets/controls"
          }
        },
        "6f19de29eaf746b89113f01af54df0d8": {
          "model_module": "@jupyter-widgets/base",
          "model_name": "LayoutModel",
          "state": {
            "_view_name": "LayoutView",
            "grid_template_rows": null,
            "right": null,
            "justify_content": null,
            "_view_module": "@jupyter-widgets/base",
            "overflow": null,
            "_model_module_version": "1.2.0",
            "_view_count": null,
            "flex_flow": null,
            "width": null,
            "min_width": null,
            "border": null,
            "align_items": null,
            "bottom": null,
            "_model_module": "@jupyter-widgets/base",
            "top": null,
            "grid_column": null,
            "overflow_y": null,
            "overflow_x": null,
            "grid_auto_flow": null,
            "grid_area": null,
            "grid_template_columns": null,
            "flex": null,
            "_model_name": "LayoutModel",
            "justify_items": null,
            "grid_row": null,
            "max_height": null,
            "align_content": null,
            "visibility": null,
            "align_self": null,
            "height": null,
            "min_height": null,
            "padding": null,
            "grid_auto_rows": null,
            "grid_gap": null,
            "max_width": null,
            "order": null,
            "_view_module_version": "1.2.0",
            "grid_template_areas": null,
            "object_position": null,
            "object_fit": null,
            "grid_auto_columns": null,
            "margin": null,
            "display": null,
            "left": null
          }
        },
        "d354796526ce413184a9405fdf65fb0c": {
          "model_module": "@jupyter-widgets/controls",
          "model_name": "DescriptionStyleModel",
          "state": {
            "_view_name": "StyleView",
            "_model_name": "DescriptionStyleModel",
            "description_width": "",
            "_view_module": "@jupyter-widgets/base",
            "_model_module_version": "1.5.0",
            "_view_count": null,
            "_view_module_version": "1.2.0",
            "_model_module": "@jupyter-widgets/controls"
          }
        },
        "9a5f6de2a7df42dc9291b8ed4c010eb4": {
          "model_module": "@jupyter-widgets/base",
          "model_name": "LayoutModel",
          "state": {
            "_view_name": "LayoutView",
            "grid_template_rows": null,
            "right": null,
            "justify_content": null,
            "_view_module": "@jupyter-widgets/base",
            "overflow": null,
            "_model_module_version": "1.2.0",
            "_view_count": null,
            "flex_flow": null,
            "width": null,
            "min_width": null,
            "border": null,
            "align_items": null,
            "bottom": null,
            "_model_module": "@jupyter-widgets/base",
            "top": null,
            "grid_column": null,
            "overflow_y": null,
            "overflow_x": null,
            "grid_auto_flow": null,
            "grid_area": null,
            "grid_template_columns": null,
            "flex": null,
            "_model_name": "LayoutModel",
            "justify_items": null,
            "grid_row": null,
            "max_height": null,
            "align_content": null,
            "visibility": null,
            "align_self": null,
            "height": null,
            "min_height": null,
            "padding": null,
            "grid_auto_rows": null,
            "grid_gap": null,
            "max_width": null,
            "order": null,
            "_view_module_version": "1.2.0",
            "grid_template_areas": null,
            "object_position": null,
            "object_fit": null,
            "grid_auto_columns": null,
            "margin": null,
            "display": null,
            "left": null
          }
        },
        "4a98209343024fecbe72093a987ea734": {
          "model_module": "@jupyter-widgets/controls",
          "model_name": "HBoxModel",
          "state": {
            "_view_name": "HBoxView",
            "_dom_classes": [],
            "_model_name": "HBoxModel",
            "_view_module": "@jupyter-widgets/controls",
            "_model_module_version": "1.5.0",
            "_view_count": null,
            "_view_module_version": "1.5.0",
            "box_style": "",
            "layout": "IPY_MODEL_70540d4a3db440f996f7d76d5f3114db",
            "_model_module": "@jupyter-widgets/controls",
            "children": [
              "IPY_MODEL_6641d62386b944b8b97d09032d6d0a82",
              "IPY_MODEL_73992ca7c74346c3847c3a25cea8fbd0"
            ]
          }
        },
        "70540d4a3db440f996f7d76d5f3114db": {
          "model_module": "@jupyter-widgets/base",
          "model_name": "LayoutModel",
          "state": {
            "_view_name": "LayoutView",
            "grid_template_rows": null,
            "right": null,
            "justify_content": null,
            "_view_module": "@jupyter-widgets/base",
            "overflow": null,
            "_model_module_version": "1.2.0",
            "_view_count": null,
            "flex_flow": null,
            "width": null,
            "min_width": null,
            "border": null,
            "align_items": null,
            "bottom": null,
            "_model_module": "@jupyter-widgets/base",
            "top": null,
            "grid_column": null,
            "overflow_y": null,
            "overflow_x": null,
            "grid_auto_flow": null,
            "grid_area": null,
            "grid_template_columns": null,
            "flex": null,
            "_model_name": "LayoutModel",
            "justify_items": null,
            "grid_row": null,
            "max_height": null,
            "align_content": null,
            "visibility": null,
            "align_self": null,
            "height": null,
            "min_height": null,
            "padding": null,
            "grid_auto_rows": null,
            "grid_gap": null,
            "max_width": null,
            "order": null,
            "_view_module_version": "1.2.0",
            "grid_template_areas": null,
            "object_position": null,
            "object_fit": null,
            "grid_auto_columns": null,
            "margin": null,
            "display": null,
            "left": null
          }
        },
        "6641d62386b944b8b97d09032d6d0a82": {
          "model_module": "@jupyter-widgets/controls",
          "model_name": "FloatProgressModel",
          "state": {
            "_view_name": "ProgressView",
            "style": "IPY_MODEL_dfdd3708758b40119c5c8052c3160171",
            "_dom_classes": [],
            "description": "#3: 100%",
            "_model_name": "FloatProgressModel",
            "bar_style": "success",
            "max": 63,
            "_view_module": "@jupyter-widgets/controls",
            "_model_module_version": "1.5.0",
            "value": 63,
            "_view_count": null,
            "_view_module_version": "1.5.0",
            "orientation": "horizontal",
            "min": 0,
            "description_tooltip": null,
            "_model_module": "@jupyter-widgets/controls",
            "layout": "IPY_MODEL_b432a226a9f242448820174169793c35"
          }
        },
        "73992ca7c74346c3847c3a25cea8fbd0": {
          "model_module": "@jupyter-widgets/controls",
          "model_name": "HTMLModel",
          "state": {
            "_view_name": "HTMLView",
            "style": "IPY_MODEL_a9aef472e6634d23ae26fbf242746db5",
            "_dom_classes": [],
            "description": "",
            "_model_name": "HTMLModel",
            "placeholder": "​",
            "_view_module": "@jupyter-widgets/controls",
            "_model_module_version": "1.5.0",
            "value": " 63/63 [00:24&lt;00:00,  2.53ex/s]",
            "_view_count": null,
            "_view_module_version": "1.5.0",
            "description_tooltip": null,
            "_model_module": "@jupyter-widgets/controls",
            "layout": "IPY_MODEL_df5e6ebf064147ab9e1565d8645dcbc1"
          }
        },
        "dfdd3708758b40119c5c8052c3160171": {
          "model_module": "@jupyter-widgets/controls",
          "model_name": "ProgressStyleModel",
          "state": {
            "_view_name": "StyleView",
            "_model_name": "ProgressStyleModel",
            "description_width": "initial",
            "_view_module": "@jupyter-widgets/base",
            "_model_module_version": "1.5.0",
            "_view_count": null,
            "_view_module_version": "1.2.0",
            "bar_color": null,
            "_model_module": "@jupyter-widgets/controls"
          }
        },
        "b432a226a9f242448820174169793c35": {
          "model_module": "@jupyter-widgets/base",
          "model_name": "LayoutModel",
          "state": {
            "_view_name": "LayoutView",
            "grid_template_rows": null,
            "right": null,
            "justify_content": null,
            "_view_module": "@jupyter-widgets/base",
            "overflow": null,
            "_model_module_version": "1.2.0",
            "_view_count": null,
            "flex_flow": null,
            "width": null,
            "min_width": null,
            "border": null,
            "align_items": null,
            "bottom": null,
            "_model_module": "@jupyter-widgets/base",
            "top": null,
            "grid_column": null,
            "overflow_y": null,
            "overflow_x": null,
            "grid_auto_flow": null,
            "grid_area": null,
            "grid_template_columns": null,
            "flex": null,
            "_model_name": "LayoutModel",
            "justify_items": null,
            "grid_row": null,
            "max_height": null,
            "align_content": null,
            "visibility": null,
            "align_self": null,
            "height": null,
            "min_height": null,
            "padding": null,
            "grid_auto_rows": null,
            "grid_gap": null,
            "max_width": null,
            "order": null,
            "_view_module_version": "1.2.0",
            "grid_template_areas": null,
            "object_position": null,
            "object_fit": null,
            "grid_auto_columns": null,
            "margin": null,
            "display": null,
            "left": null
          }
        },
        "a9aef472e6634d23ae26fbf242746db5": {
          "model_module": "@jupyter-widgets/controls",
          "model_name": "DescriptionStyleModel",
          "state": {
            "_view_name": "StyleView",
            "_model_name": "DescriptionStyleModel",
            "description_width": "",
            "_view_module": "@jupyter-widgets/base",
            "_model_module_version": "1.5.0",
            "_view_count": null,
            "_view_module_version": "1.2.0",
            "_model_module": "@jupyter-widgets/controls"
          }
        },
        "df5e6ebf064147ab9e1565d8645dcbc1": {
          "model_module": "@jupyter-widgets/base",
          "model_name": "LayoutModel",
          "state": {
            "_view_name": "LayoutView",
            "grid_template_rows": null,
            "right": null,
            "justify_content": null,
            "_view_module": "@jupyter-widgets/base",
            "overflow": null,
            "_model_module_version": "1.2.0",
            "_view_count": null,
            "flex_flow": null,
            "width": null,
            "min_width": null,
            "border": null,
            "align_items": null,
            "bottom": null,
            "_model_module": "@jupyter-widgets/base",
            "top": null,
            "grid_column": null,
            "overflow_y": null,
            "overflow_x": null,
            "grid_auto_flow": null,
            "grid_area": null,
            "grid_template_columns": null,
            "flex": null,
            "_model_name": "LayoutModel",
            "justify_items": null,
            "grid_row": null,
            "max_height": null,
            "align_content": null,
            "visibility": null,
            "align_self": null,
            "height": null,
            "min_height": null,
            "padding": null,
            "grid_auto_rows": null,
            "grid_gap": null,
            "max_width": null,
            "order": null,
            "_view_module_version": "1.2.0",
            "grid_template_areas": null,
            "object_position": null,
            "object_fit": null,
            "grid_auto_columns": null,
            "margin": null,
            "display": null,
            "left": null
          }
        },
        "a871ffe1f446485690ec37fd4a54179b": {
          "model_module": "@jupyter-widgets/controls",
          "model_name": "HBoxModel",
          "state": {
            "_view_name": "HBoxView",
            "_dom_classes": [],
            "_model_name": "HBoxModel",
            "_view_module": "@jupyter-widgets/controls",
            "_model_module_version": "1.5.0",
            "_view_count": null,
            "_view_module_version": "1.5.0",
            "box_style": "",
            "layout": "IPY_MODEL_05a854667e4643f8bbb0b97cf8c80d32",
            "_model_module": "@jupyter-widgets/controls",
            "children": [
              "IPY_MODEL_6a07c54fccf443ef842c4d0393d1cebc",
              "IPY_MODEL_d3d82758bb854b48998902a844c775e0"
            ]
          }
        },
        "05a854667e4643f8bbb0b97cf8c80d32": {
          "model_module": "@jupyter-widgets/base",
          "model_name": "LayoutModel",
          "state": {
            "_view_name": "LayoutView",
            "grid_template_rows": null,
            "right": null,
            "justify_content": null,
            "_view_module": "@jupyter-widgets/base",
            "overflow": null,
            "_model_module_version": "1.2.0",
            "_view_count": null,
            "flex_flow": null,
            "width": null,
            "min_width": null,
            "border": null,
            "align_items": null,
            "bottom": null,
            "_model_module": "@jupyter-widgets/base",
            "top": null,
            "grid_column": null,
            "overflow_y": null,
            "overflow_x": null,
            "grid_auto_flow": null,
            "grid_area": null,
            "grid_template_columns": null,
            "flex": null,
            "_model_name": "LayoutModel",
            "justify_items": null,
            "grid_row": null,
            "max_height": null,
            "align_content": null,
            "visibility": null,
            "align_self": null,
            "height": null,
            "min_height": null,
            "padding": null,
            "grid_auto_rows": null,
            "grid_gap": null,
            "max_width": null,
            "order": null,
            "_view_module_version": "1.2.0",
            "grid_template_areas": null,
            "object_position": null,
            "object_fit": null,
            "grid_auto_columns": null,
            "margin": null,
            "display": null,
            "left": null
          }
        },
        "6a07c54fccf443ef842c4d0393d1cebc": {
          "model_module": "@jupyter-widgets/controls",
          "model_name": "FloatProgressModel",
          "state": {
            "_view_name": "ProgressView",
            "style": "IPY_MODEL_78d6d8c02b8e4952be0b7e60314cd521",
            "_dom_classes": [],
            "description": "#2: 100%",
            "_model_name": "FloatProgressModel",
            "bar_style": "success",
            "max": 64,
            "_view_module": "@jupyter-widgets/controls",
            "_model_module_version": "1.5.0",
            "value": 64,
            "_view_count": null,
            "_view_module_version": "1.5.0",
            "orientation": "horizontal",
            "min": 0,
            "description_tooltip": null,
            "_model_module": "@jupyter-widgets/controls",
            "layout": "IPY_MODEL_6ab7a007b89a47c98751cc14b880981b"
          }
        },
        "d3d82758bb854b48998902a844c775e0": {
          "model_module": "@jupyter-widgets/controls",
          "model_name": "HTMLModel",
          "state": {
            "_view_name": "HTMLView",
            "style": "IPY_MODEL_e6d54a8c006845bd843d6621727c7666",
            "_dom_classes": [],
            "description": "",
            "_model_name": "HTMLModel",
            "placeholder": "​",
            "_view_module": "@jupyter-widgets/controls",
            "_model_module_version": "1.5.0",
            "value": " 64/64 [00:23&lt;00:00,  2.69ex/s]",
            "_view_count": null,
            "_view_module_version": "1.5.0",
            "description_tooltip": null,
            "_model_module": "@jupyter-widgets/controls",
            "layout": "IPY_MODEL_14b9e96fdef34890a5c3aba4ca438291"
          }
        },
        "78d6d8c02b8e4952be0b7e60314cd521": {
          "model_module": "@jupyter-widgets/controls",
          "model_name": "ProgressStyleModel",
          "state": {
            "_view_name": "StyleView",
            "_model_name": "ProgressStyleModel",
            "description_width": "initial",
            "_view_module": "@jupyter-widgets/base",
            "_model_module_version": "1.5.0",
            "_view_count": null,
            "_view_module_version": "1.2.0",
            "bar_color": null,
            "_model_module": "@jupyter-widgets/controls"
          }
        },
        "6ab7a007b89a47c98751cc14b880981b": {
          "model_module": "@jupyter-widgets/base",
          "model_name": "LayoutModel",
          "state": {
            "_view_name": "LayoutView",
            "grid_template_rows": null,
            "right": null,
            "justify_content": null,
            "_view_module": "@jupyter-widgets/base",
            "overflow": null,
            "_model_module_version": "1.2.0",
            "_view_count": null,
            "flex_flow": null,
            "width": null,
            "min_width": null,
            "border": null,
            "align_items": null,
            "bottom": null,
            "_model_module": "@jupyter-widgets/base",
            "top": null,
            "grid_column": null,
            "overflow_y": null,
            "overflow_x": null,
            "grid_auto_flow": null,
            "grid_area": null,
            "grid_template_columns": null,
            "flex": null,
            "_model_name": "LayoutModel",
            "justify_items": null,
            "grid_row": null,
            "max_height": null,
            "align_content": null,
            "visibility": null,
            "align_self": null,
            "height": null,
            "min_height": null,
            "padding": null,
            "grid_auto_rows": null,
            "grid_gap": null,
            "max_width": null,
            "order": null,
            "_view_module_version": "1.2.0",
            "grid_template_areas": null,
            "object_position": null,
            "object_fit": null,
            "grid_auto_columns": null,
            "margin": null,
            "display": null,
            "left": null
          }
        },
        "e6d54a8c006845bd843d6621727c7666": {
          "model_module": "@jupyter-widgets/controls",
          "model_name": "DescriptionStyleModel",
          "state": {
            "_view_name": "StyleView",
            "_model_name": "DescriptionStyleModel",
            "description_width": "",
            "_view_module": "@jupyter-widgets/base",
            "_model_module_version": "1.5.0",
            "_view_count": null,
            "_view_module_version": "1.2.0",
            "_model_module": "@jupyter-widgets/controls"
          }
        },
        "14b9e96fdef34890a5c3aba4ca438291": {
          "model_module": "@jupyter-widgets/base",
          "model_name": "LayoutModel",
          "state": {
            "_view_name": "LayoutView",
            "grid_template_rows": null,
            "right": null,
            "justify_content": null,
            "_view_module": "@jupyter-widgets/base",
            "overflow": null,
            "_model_module_version": "1.2.0",
            "_view_count": null,
            "flex_flow": null,
            "width": null,
            "min_width": null,
            "border": null,
            "align_items": null,
            "bottom": null,
            "_model_module": "@jupyter-widgets/base",
            "top": null,
            "grid_column": null,
            "overflow_y": null,
            "overflow_x": null,
            "grid_auto_flow": null,
            "grid_area": null,
            "grid_template_columns": null,
            "flex": null,
            "_model_name": "LayoutModel",
            "justify_items": null,
            "grid_row": null,
            "max_height": null,
            "align_content": null,
            "visibility": null,
            "align_self": null,
            "height": null,
            "min_height": null,
            "padding": null,
            "grid_auto_rows": null,
            "grid_gap": null,
            "max_width": null,
            "order": null,
            "_view_module_version": "1.2.0",
            "grid_template_areas": null,
            "object_position": null,
            "object_fit": null,
            "grid_auto_columns": null,
            "margin": null,
            "display": null,
            "left": null
          }
        },
        "4c205ee7f10f4be8ae9f356d2c4458c8": {
          "model_module": "@jupyter-widgets/controls",
          "model_name": "HBoxModel",
          "state": {
            "_view_name": "HBoxView",
            "_dom_classes": [],
            "_model_name": "HBoxModel",
            "_view_module": "@jupyter-widgets/controls",
            "_model_module_version": "1.5.0",
            "_view_count": null,
            "_view_module_version": "1.5.0",
            "box_style": "",
            "layout": "IPY_MODEL_257969501abf4b05864bff064dc9569c",
            "_model_module": "@jupyter-widgets/controls",
            "children": [
              "IPY_MODEL_a895076d97494ceb95050502300bd757",
              "IPY_MODEL_9248b8991cc1495db8a1437dedc0f75e"
            ]
          }
        },
        "257969501abf4b05864bff064dc9569c": {
          "model_module": "@jupyter-widgets/base",
          "model_name": "LayoutModel",
          "state": {
            "_view_name": "LayoutView",
            "grid_template_rows": null,
            "right": null,
            "justify_content": null,
            "_view_module": "@jupyter-widgets/base",
            "overflow": null,
            "_model_module_version": "1.2.0",
            "_view_count": null,
            "flex_flow": null,
            "width": null,
            "min_width": null,
            "border": null,
            "align_items": null,
            "bottom": null,
            "_model_module": "@jupyter-widgets/base",
            "top": null,
            "grid_column": null,
            "overflow_y": null,
            "overflow_x": null,
            "grid_auto_flow": null,
            "grid_area": null,
            "grid_template_columns": null,
            "flex": null,
            "_model_name": "LayoutModel",
            "justify_items": null,
            "grid_row": null,
            "max_height": null,
            "align_content": null,
            "visibility": null,
            "align_self": null,
            "height": null,
            "min_height": null,
            "padding": null,
            "grid_auto_rows": null,
            "grid_gap": null,
            "max_width": null,
            "order": null,
            "_view_module_version": "1.2.0",
            "grid_template_areas": null,
            "object_position": null,
            "object_fit": null,
            "grid_auto_columns": null,
            "margin": null,
            "display": null,
            "left": null
          }
        },
        "a895076d97494ceb95050502300bd757": {
          "model_module": "@jupyter-widgets/controls",
          "model_name": "FloatProgressModel",
          "state": {
            "_view_name": "ProgressView",
            "style": "IPY_MODEL_b332f04b5aa74d108caf1e4983354269",
            "_dom_classes": [],
            "description": "#1: 100%",
            "_model_name": "FloatProgressModel",
            "bar_style": "success",
            "max": 64,
            "_view_module": "@jupyter-widgets/controls",
            "_model_module_version": "1.5.0",
            "value": 64,
            "_view_count": null,
            "_view_module_version": "1.5.0",
            "orientation": "horizontal",
            "min": 0,
            "description_tooltip": null,
            "_model_module": "@jupyter-widgets/controls",
            "layout": "IPY_MODEL_befaec3bf0a146e8bb24b0ed7d92fc2c"
          }
        },
        "9248b8991cc1495db8a1437dedc0f75e": {
          "model_module": "@jupyter-widgets/controls",
          "model_name": "HTMLModel",
          "state": {
            "_view_name": "HTMLView",
            "style": "IPY_MODEL_2650b9b8f3f44f53b105885f6ca53db8",
            "_dom_classes": [],
            "description": "",
            "_model_name": "HTMLModel",
            "placeholder": "​",
            "_view_module": "@jupyter-widgets/controls",
            "_model_module_version": "1.5.0",
            "value": " 64/64 [00:24&lt;00:00,  2.61ex/s]",
            "_view_count": null,
            "_view_module_version": "1.5.0",
            "description_tooltip": null,
            "_model_module": "@jupyter-widgets/controls",
            "layout": "IPY_MODEL_cef92eac620d44dabf81ccb8c3581482"
          }
        },
        "b332f04b5aa74d108caf1e4983354269": {
          "model_module": "@jupyter-widgets/controls",
          "model_name": "ProgressStyleModel",
          "state": {
            "_view_name": "StyleView",
            "_model_name": "ProgressStyleModel",
            "description_width": "initial",
            "_view_module": "@jupyter-widgets/base",
            "_model_module_version": "1.5.0",
            "_view_count": null,
            "_view_module_version": "1.2.0",
            "bar_color": null,
            "_model_module": "@jupyter-widgets/controls"
          }
        },
        "befaec3bf0a146e8bb24b0ed7d92fc2c": {
          "model_module": "@jupyter-widgets/base",
          "model_name": "LayoutModel",
          "state": {
            "_view_name": "LayoutView",
            "grid_template_rows": null,
            "right": null,
            "justify_content": null,
            "_view_module": "@jupyter-widgets/base",
            "overflow": null,
            "_model_module_version": "1.2.0",
            "_view_count": null,
            "flex_flow": null,
            "width": null,
            "min_width": null,
            "border": null,
            "align_items": null,
            "bottom": null,
            "_model_module": "@jupyter-widgets/base",
            "top": null,
            "grid_column": null,
            "overflow_y": null,
            "overflow_x": null,
            "grid_auto_flow": null,
            "grid_area": null,
            "grid_template_columns": null,
            "flex": null,
            "_model_name": "LayoutModel",
            "justify_items": null,
            "grid_row": null,
            "max_height": null,
            "align_content": null,
            "visibility": null,
            "align_self": null,
            "height": null,
            "min_height": null,
            "padding": null,
            "grid_auto_rows": null,
            "grid_gap": null,
            "max_width": null,
            "order": null,
            "_view_module_version": "1.2.0",
            "grid_template_areas": null,
            "object_position": null,
            "object_fit": null,
            "grid_auto_columns": null,
            "margin": null,
            "display": null,
            "left": null
          }
        },
        "2650b9b8f3f44f53b105885f6ca53db8": {
          "model_module": "@jupyter-widgets/controls",
          "model_name": "DescriptionStyleModel",
          "state": {
            "_view_name": "StyleView",
            "_model_name": "DescriptionStyleModel",
            "description_width": "",
            "_view_module": "@jupyter-widgets/base",
            "_model_module_version": "1.5.0",
            "_view_count": null,
            "_view_module_version": "1.2.0",
            "_model_module": "@jupyter-widgets/controls"
          }
        },
        "cef92eac620d44dabf81ccb8c3581482": {
          "model_module": "@jupyter-widgets/base",
          "model_name": "LayoutModel",
          "state": {
            "_view_name": "LayoutView",
            "grid_template_rows": null,
            "right": null,
            "justify_content": null,
            "_view_module": "@jupyter-widgets/base",
            "overflow": null,
            "_model_module_version": "1.2.0",
            "_view_count": null,
            "flex_flow": null,
            "width": null,
            "min_width": null,
            "border": null,
            "align_items": null,
            "bottom": null,
            "_model_module": "@jupyter-widgets/base",
            "top": null,
            "grid_column": null,
            "overflow_y": null,
            "overflow_x": null,
            "grid_auto_flow": null,
            "grid_area": null,
            "grid_template_columns": null,
            "flex": null,
            "_model_name": "LayoutModel",
            "justify_items": null,
            "grid_row": null,
            "max_height": null,
            "align_content": null,
            "visibility": null,
            "align_self": null,
            "height": null,
            "min_height": null,
            "padding": null,
            "grid_auto_rows": null,
            "grid_gap": null,
            "max_width": null,
            "order": null,
            "_view_module_version": "1.2.0",
            "grid_template_areas": null,
            "object_position": null,
            "object_fit": null,
            "grid_auto_columns": null,
            "margin": null,
            "display": null,
            "left": null
          }
        },
        "3a8a224100a44baeafb371a9cf74f5ce": {
          "model_module": "@jupyter-widgets/controls",
          "model_name": "HBoxModel",
          "state": {
            "_view_name": "HBoxView",
            "_dom_classes": [],
            "_model_name": "HBoxModel",
            "_view_module": "@jupyter-widgets/controls",
            "_model_module_version": "1.5.0",
            "_view_count": null,
            "_view_module_version": "1.5.0",
            "box_style": "",
            "layout": "IPY_MODEL_b03506ab020a476fa53c07b84d00a9f7",
            "_model_module": "@jupyter-widgets/controls",
            "children": [
              "IPY_MODEL_368ef6948c5d48bb8614b87b534ca86a",
              "IPY_MODEL_b8c703d8b1fd4e7c884e2d999e8f2b98"
            ]
          }
        },
        "b03506ab020a476fa53c07b84d00a9f7": {
          "model_module": "@jupyter-widgets/base",
          "model_name": "LayoutModel",
          "state": {
            "_view_name": "LayoutView",
            "grid_template_rows": null,
            "right": null,
            "justify_content": null,
            "_view_module": "@jupyter-widgets/base",
            "overflow": null,
            "_model_module_version": "1.2.0",
            "_view_count": null,
            "flex_flow": null,
            "width": null,
            "min_width": null,
            "border": null,
            "align_items": null,
            "bottom": null,
            "_model_module": "@jupyter-widgets/base",
            "top": null,
            "grid_column": null,
            "overflow_y": null,
            "overflow_x": null,
            "grid_auto_flow": null,
            "grid_area": null,
            "grid_template_columns": null,
            "flex": null,
            "_model_name": "LayoutModel",
            "justify_items": null,
            "grid_row": null,
            "max_height": null,
            "align_content": null,
            "visibility": null,
            "align_self": null,
            "height": null,
            "min_height": null,
            "padding": null,
            "grid_auto_rows": null,
            "grid_gap": null,
            "max_width": null,
            "order": null,
            "_view_module_version": "1.2.0",
            "grid_template_areas": null,
            "object_position": null,
            "object_fit": null,
            "grid_auto_columns": null,
            "margin": null,
            "display": null,
            "left": null
          }
        },
        "368ef6948c5d48bb8614b87b534ca86a": {
          "model_module": "@jupyter-widgets/controls",
          "model_name": "FloatProgressModel",
          "state": {
            "_view_name": "ProgressView",
            "style": "IPY_MODEL_a8d58cfe68fa49df9384021d5294aebe",
            "_dom_classes": [],
            "description": "#2: 100%",
            "_model_name": "FloatProgressModel",
            "bar_style": "success",
            "max": 29,
            "_view_module": "@jupyter-widgets/controls",
            "_model_module_version": "1.5.0",
            "value": 29,
            "_view_count": null,
            "_view_module_version": "1.5.0",
            "orientation": "horizontal",
            "min": 0,
            "description_tooltip": null,
            "_model_module": "@jupyter-widgets/controls",
            "layout": "IPY_MODEL_8343ceffa9ba48f4babe8451ce892098"
          }
        },
        "b8c703d8b1fd4e7c884e2d999e8f2b98": {
          "model_module": "@jupyter-widgets/controls",
          "model_name": "HTMLModel",
          "state": {
            "_view_name": "HTMLView",
            "style": "IPY_MODEL_ac72b313b63541ffaa7ea4031c430e13",
            "_dom_classes": [],
            "description": "",
            "_model_name": "HTMLModel",
            "placeholder": "​",
            "_view_module": "@jupyter-widgets/controls",
            "_model_module_version": "1.5.0",
            "value": " 29/29 [00:12&lt;00:00,  2.34ex/s]",
            "_view_count": null,
            "_view_module_version": "1.5.0",
            "description_tooltip": null,
            "_model_module": "@jupyter-widgets/controls",
            "layout": "IPY_MODEL_4419749b801443a29b2cd7e687a7c4b4"
          }
        },
        "a8d58cfe68fa49df9384021d5294aebe": {
          "model_module": "@jupyter-widgets/controls",
          "model_name": "ProgressStyleModel",
          "state": {
            "_view_name": "StyleView",
            "_model_name": "ProgressStyleModel",
            "description_width": "initial",
            "_view_module": "@jupyter-widgets/base",
            "_model_module_version": "1.5.0",
            "_view_count": null,
            "_view_module_version": "1.2.0",
            "bar_color": null,
            "_model_module": "@jupyter-widgets/controls"
          }
        },
        "8343ceffa9ba48f4babe8451ce892098": {
          "model_module": "@jupyter-widgets/base",
          "model_name": "LayoutModel",
          "state": {
            "_view_name": "LayoutView",
            "grid_template_rows": null,
            "right": null,
            "justify_content": null,
            "_view_module": "@jupyter-widgets/base",
            "overflow": null,
            "_model_module_version": "1.2.0",
            "_view_count": null,
            "flex_flow": null,
            "width": null,
            "min_width": null,
            "border": null,
            "align_items": null,
            "bottom": null,
            "_model_module": "@jupyter-widgets/base",
            "top": null,
            "grid_column": null,
            "overflow_y": null,
            "overflow_x": null,
            "grid_auto_flow": null,
            "grid_area": null,
            "grid_template_columns": null,
            "flex": null,
            "_model_name": "LayoutModel",
            "justify_items": null,
            "grid_row": null,
            "max_height": null,
            "align_content": null,
            "visibility": null,
            "align_self": null,
            "height": null,
            "min_height": null,
            "padding": null,
            "grid_auto_rows": null,
            "grid_gap": null,
            "max_width": null,
            "order": null,
            "_view_module_version": "1.2.0",
            "grid_template_areas": null,
            "object_position": null,
            "object_fit": null,
            "grid_auto_columns": null,
            "margin": null,
            "display": null,
            "left": null
          }
        },
        "ac72b313b63541ffaa7ea4031c430e13": {
          "model_module": "@jupyter-widgets/controls",
          "model_name": "DescriptionStyleModel",
          "state": {
            "_view_name": "StyleView",
            "_model_name": "DescriptionStyleModel",
            "description_width": "",
            "_view_module": "@jupyter-widgets/base",
            "_model_module_version": "1.5.0",
            "_view_count": null,
            "_view_module_version": "1.2.0",
            "_model_module": "@jupyter-widgets/controls"
          }
        },
        "4419749b801443a29b2cd7e687a7c4b4": {
          "model_module": "@jupyter-widgets/base",
          "model_name": "LayoutModel",
          "state": {
            "_view_name": "LayoutView",
            "grid_template_rows": null,
            "right": null,
            "justify_content": null,
            "_view_module": "@jupyter-widgets/base",
            "overflow": null,
            "_model_module_version": "1.2.0",
            "_view_count": null,
            "flex_flow": null,
            "width": null,
            "min_width": null,
            "border": null,
            "align_items": null,
            "bottom": null,
            "_model_module": "@jupyter-widgets/base",
            "top": null,
            "grid_column": null,
            "overflow_y": null,
            "overflow_x": null,
            "grid_auto_flow": null,
            "grid_area": null,
            "grid_template_columns": null,
            "flex": null,
            "_model_name": "LayoutModel",
            "justify_items": null,
            "grid_row": null,
            "max_height": null,
            "align_content": null,
            "visibility": null,
            "align_self": null,
            "height": null,
            "min_height": null,
            "padding": null,
            "grid_auto_rows": null,
            "grid_gap": null,
            "max_width": null,
            "order": null,
            "_view_module_version": "1.2.0",
            "grid_template_areas": null,
            "object_position": null,
            "object_fit": null,
            "grid_auto_columns": null,
            "margin": null,
            "display": null,
            "left": null
          }
        },
        "778c5165a3aa427fa0319d56a65428ff": {
          "model_module": "@jupyter-widgets/controls",
          "model_name": "HBoxModel",
          "state": {
            "_view_name": "HBoxView",
            "_dom_classes": [],
            "_model_name": "HBoxModel",
            "_view_module": "@jupyter-widgets/controls",
            "_model_module_version": "1.5.0",
            "_view_count": null,
            "_view_module_version": "1.5.0",
            "box_style": "",
            "layout": "IPY_MODEL_e2c2bda105ce4255b0846a85e55669a6",
            "_model_module": "@jupyter-widgets/controls",
            "children": [
              "IPY_MODEL_28e94f4003f04c2cb56c123466a8a36d",
              "IPY_MODEL_337d8845105c4bc7a5d2ee1feccdfb29"
            ]
          }
        },
        "e2c2bda105ce4255b0846a85e55669a6": {
          "model_module": "@jupyter-widgets/base",
          "model_name": "LayoutModel",
          "state": {
            "_view_name": "LayoutView",
            "grid_template_rows": null,
            "right": null,
            "justify_content": null,
            "_view_module": "@jupyter-widgets/base",
            "overflow": null,
            "_model_module_version": "1.2.0",
            "_view_count": null,
            "flex_flow": null,
            "width": null,
            "min_width": null,
            "border": null,
            "align_items": null,
            "bottom": null,
            "_model_module": "@jupyter-widgets/base",
            "top": null,
            "grid_column": null,
            "overflow_y": null,
            "overflow_x": null,
            "grid_auto_flow": null,
            "grid_area": null,
            "grid_template_columns": null,
            "flex": null,
            "_model_name": "LayoutModel",
            "justify_items": null,
            "grid_row": null,
            "max_height": null,
            "align_content": null,
            "visibility": null,
            "align_self": null,
            "height": null,
            "min_height": null,
            "padding": null,
            "grid_auto_rows": null,
            "grid_gap": null,
            "max_width": null,
            "order": null,
            "_view_module_version": "1.2.0",
            "grid_template_areas": null,
            "object_position": null,
            "object_fit": null,
            "grid_auto_columns": null,
            "margin": null,
            "display": null,
            "left": null
          }
        },
        "28e94f4003f04c2cb56c123466a8a36d": {
          "model_module": "@jupyter-widgets/controls",
          "model_name": "FloatProgressModel",
          "state": {
            "_view_name": "ProgressView",
            "style": "IPY_MODEL_99ff58aaea4047529413608311fa8a07",
            "_dom_classes": [],
            "description": "#1: 100%",
            "_model_name": "FloatProgressModel",
            "bar_style": "success",
            "max": 29,
            "_view_module": "@jupyter-widgets/controls",
            "_model_module_version": "1.5.0",
            "value": 29,
            "_view_count": null,
            "_view_module_version": "1.5.0",
            "orientation": "horizontal",
            "min": 0,
            "description_tooltip": null,
            "_model_module": "@jupyter-widgets/controls",
            "layout": "IPY_MODEL_17ef44c618ff4801b9d49f9c5febd36b"
          }
        },
        "337d8845105c4bc7a5d2ee1feccdfb29": {
          "model_module": "@jupyter-widgets/controls",
          "model_name": "HTMLModel",
          "state": {
            "_view_name": "HTMLView",
            "style": "IPY_MODEL_214890fb5bb44363aac96256f7ed996a",
            "_dom_classes": [],
            "description": "",
            "_model_name": "HTMLModel",
            "placeholder": "​",
            "_view_module": "@jupyter-widgets/controls",
            "_model_module_version": "1.5.0",
            "value": " 29/29 [00:11&lt;00:00,  2.52ex/s]",
            "_view_count": null,
            "_view_module_version": "1.5.0",
            "description_tooltip": null,
            "_model_module": "@jupyter-widgets/controls",
            "layout": "IPY_MODEL_247011c79ac4458ea91bca6522f4bacb"
          }
        },
        "99ff58aaea4047529413608311fa8a07": {
          "model_module": "@jupyter-widgets/controls",
          "model_name": "ProgressStyleModel",
          "state": {
            "_view_name": "StyleView",
            "_model_name": "ProgressStyleModel",
            "description_width": "initial",
            "_view_module": "@jupyter-widgets/base",
            "_model_module_version": "1.5.0",
            "_view_count": null,
            "_view_module_version": "1.2.0",
            "bar_color": null,
            "_model_module": "@jupyter-widgets/controls"
          }
        },
        "17ef44c618ff4801b9d49f9c5febd36b": {
          "model_module": "@jupyter-widgets/base",
          "model_name": "LayoutModel",
          "state": {
            "_view_name": "LayoutView",
            "grid_template_rows": null,
            "right": null,
            "justify_content": null,
            "_view_module": "@jupyter-widgets/base",
            "overflow": null,
            "_model_module_version": "1.2.0",
            "_view_count": null,
            "flex_flow": null,
            "width": null,
            "min_width": null,
            "border": null,
            "align_items": null,
            "bottom": null,
            "_model_module": "@jupyter-widgets/base",
            "top": null,
            "grid_column": null,
            "overflow_y": null,
            "overflow_x": null,
            "grid_auto_flow": null,
            "grid_area": null,
            "grid_template_columns": null,
            "flex": null,
            "_model_name": "LayoutModel",
            "justify_items": null,
            "grid_row": null,
            "max_height": null,
            "align_content": null,
            "visibility": null,
            "align_self": null,
            "height": null,
            "min_height": null,
            "padding": null,
            "grid_auto_rows": null,
            "grid_gap": null,
            "max_width": null,
            "order": null,
            "_view_module_version": "1.2.0",
            "grid_template_areas": null,
            "object_position": null,
            "object_fit": null,
            "grid_auto_columns": null,
            "margin": null,
            "display": null,
            "left": null
          }
        },
        "214890fb5bb44363aac96256f7ed996a": {
          "model_module": "@jupyter-widgets/controls",
          "model_name": "DescriptionStyleModel",
          "state": {
            "_view_name": "StyleView",
            "_model_name": "DescriptionStyleModel",
            "description_width": "",
            "_view_module": "@jupyter-widgets/base",
            "_model_module_version": "1.5.0",
            "_view_count": null,
            "_view_module_version": "1.2.0",
            "_model_module": "@jupyter-widgets/controls"
          }
        },
        "247011c79ac4458ea91bca6522f4bacb": {
          "model_module": "@jupyter-widgets/base",
          "model_name": "LayoutModel",
          "state": {
            "_view_name": "LayoutView",
            "grid_template_rows": null,
            "right": null,
            "justify_content": null,
            "_view_module": "@jupyter-widgets/base",
            "overflow": null,
            "_model_module_version": "1.2.0",
            "_view_count": null,
            "flex_flow": null,
            "width": null,
            "min_width": null,
            "border": null,
            "align_items": null,
            "bottom": null,
            "_model_module": "@jupyter-widgets/base",
            "top": null,
            "grid_column": null,
            "overflow_y": null,
            "overflow_x": null,
            "grid_auto_flow": null,
            "grid_area": null,
            "grid_template_columns": null,
            "flex": null,
            "_model_name": "LayoutModel",
            "justify_items": null,
            "grid_row": null,
            "max_height": null,
            "align_content": null,
            "visibility": null,
            "align_self": null,
            "height": null,
            "min_height": null,
            "padding": null,
            "grid_auto_rows": null,
            "grid_gap": null,
            "max_width": null,
            "order": null,
            "_view_module_version": "1.2.0",
            "grid_template_areas": null,
            "object_position": null,
            "object_fit": null,
            "grid_auto_columns": null,
            "margin": null,
            "display": null,
            "left": null
          }
        },
        "3d915b337caa4e8086b85a2f361d8edb": {
          "model_module": "@jupyter-widgets/controls",
          "model_name": "HBoxModel",
          "state": {
            "_view_name": "HBoxView",
            "_dom_classes": [],
            "_model_name": "HBoxModel",
            "_view_module": "@jupyter-widgets/controls",
            "_model_module_version": "1.5.0",
            "_view_count": null,
            "_view_module_version": "1.5.0",
            "box_style": "",
            "layout": "IPY_MODEL_31e8d8fd7fc64f9f92684e89444b66a9",
            "_model_module": "@jupyter-widgets/controls",
            "children": [
              "IPY_MODEL_3d71d771d0d84ae6b16476391582832f",
              "IPY_MODEL_5148834eb4f244ff989c60828859e747"
            ]
          }
        },
        "31e8d8fd7fc64f9f92684e89444b66a9": {
          "model_module": "@jupyter-widgets/base",
          "model_name": "LayoutModel",
          "state": {
            "_view_name": "LayoutView",
            "grid_template_rows": null,
            "right": null,
            "justify_content": null,
            "_view_module": "@jupyter-widgets/base",
            "overflow": null,
            "_model_module_version": "1.2.0",
            "_view_count": null,
            "flex_flow": null,
            "width": null,
            "min_width": null,
            "border": null,
            "align_items": null,
            "bottom": null,
            "_model_module": "@jupyter-widgets/base",
            "top": null,
            "grid_column": null,
            "overflow_y": null,
            "overflow_x": null,
            "grid_auto_flow": null,
            "grid_area": null,
            "grid_template_columns": null,
            "flex": null,
            "_model_name": "LayoutModel",
            "justify_items": null,
            "grid_row": null,
            "max_height": null,
            "align_content": null,
            "visibility": null,
            "align_self": null,
            "height": null,
            "min_height": null,
            "padding": null,
            "grid_auto_rows": null,
            "grid_gap": null,
            "max_width": null,
            "order": null,
            "_view_module_version": "1.2.0",
            "grid_template_areas": null,
            "object_position": null,
            "object_fit": null,
            "grid_auto_columns": null,
            "margin": null,
            "display": null,
            "left": null
          }
        },
        "3d71d771d0d84ae6b16476391582832f": {
          "model_module": "@jupyter-widgets/controls",
          "model_name": "FloatProgressModel",
          "state": {
            "_view_name": "ProgressView",
            "style": "IPY_MODEL_9a58d487bce5472683dc65fb6faaacf7",
            "_dom_classes": [],
            "description": "#0: 100%",
            "_model_name": "FloatProgressModel",
            "bar_style": "success",
            "max": 29,
            "_view_module": "@jupyter-widgets/controls",
            "_model_module_version": "1.5.0",
            "value": 29,
            "_view_count": null,
            "_view_module_version": "1.5.0",
            "orientation": "horizontal",
            "min": 0,
            "description_tooltip": null,
            "_model_module": "@jupyter-widgets/controls",
            "layout": "IPY_MODEL_9692201ad7e34106a79f4c98ac6fd4a7"
          }
        },
        "5148834eb4f244ff989c60828859e747": {
          "model_module": "@jupyter-widgets/controls",
          "model_name": "HTMLModel",
          "state": {
            "_view_name": "HTMLView",
            "style": "IPY_MODEL_4b8b4d49078c493bbf3590723d51d567",
            "_dom_classes": [],
            "description": "",
            "_model_name": "HTMLModel",
            "placeholder": "​",
            "_view_module": "@jupyter-widgets/controls",
            "_model_module_version": "1.5.0",
            "value": " 29/29 [00:11&lt;00:00,  2.53ex/s]",
            "_view_count": null,
            "_view_module_version": "1.5.0",
            "description_tooltip": null,
            "_model_module": "@jupyter-widgets/controls",
            "layout": "IPY_MODEL_a312a3b212f14b40b03520ba52a3e302"
          }
        },
        "9a58d487bce5472683dc65fb6faaacf7": {
          "model_module": "@jupyter-widgets/controls",
          "model_name": "ProgressStyleModel",
          "state": {
            "_view_name": "StyleView",
            "_model_name": "ProgressStyleModel",
            "description_width": "initial",
            "_view_module": "@jupyter-widgets/base",
            "_model_module_version": "1.5.0",
            "_view_count": null,
            "_view_module_version": "1.2.0",
            "bar_color": null,
            "_model_module": "@jupyter-widgets/controls"
          }
        },
        "9692201ad7e34106a79f4c98ac6fd4a7": {
          "model_module": "@jupyter-widgets/base",
          "model_name": "LayoutModel",
          "state": {
            "_view_name": "LayoutView",
            "grid_template_rows": null,
            "right": null,
            "justify_content": null,
            "_view_module": "@jupyter-widgets/base",
            "overflow": null,
            "_model_module_version": "1.2.0",
            "_view_count": null,
            "flex_flow": null,
            "width": null,
            "min_width": null,
            "border": null,
            "align_items": null,
            "bottom": null,
            "_model_module": "@jupyter-widgets/base",
            "top": null,
            "grid_column": null,
            "overflow_y": null,
            "overflow_x": null,
            "grid_auto_flow": null,
            "grid_area": null,
            "grid_template_columns": null,
            "flex": null,
            "_model_name": "LayoutModel",
            "justify_items": null,
            "grid_row": null,
            "max_height": null,
            "align_content": null,
            "visibility": null,
            "align_self": null,
            "height": null,
            "min_height": null,
            "padding": null,
            "grid_auto_rows": null,
            "grid_gap": null,
            "max_width": null,
            "order": null,
            "_view_module_version": "1.2.0",
            "grid_template_areas": null,
            "object_position": null,
            "object_fit": null,
            "grid_auto_columns": null,
            "margin": null,
            "display": null,
            "left": null
          }
        },
        "4b8b4d49078c493bbf3590723d51d567": {
          "model_module": "@jupyter-widgets/controls",
          "model_name": "DescriptionStyleModel",
          "state": {
            "_view_name": "StyleView",
            "_model_name": "DescriptionStyleModel",
            "description_width": "",
            "_view_module": "@jupyter-widgets/base",
            "_model_module_version": "1.5.0",
            "_view_count": null,
            "_view_module_version": "1.2.0",
            "_model_module": "@jupyter-widgets/controls"
          }
        },
        "a312a3b212f14b40b03520ba52a3e302": {
          "model_module": "@jupyter-widgets/base",
          "model_name": "LayoutModel",
          "state": {
            "_view_name": "LayoutView",
            "grid_template_rows": null,
            "right": null,
            "justify_content": null,
            "_view_module": "@jupyter-widgets/base",
            "overflow": null,
            "_model_module_version": "1.2.0",
            "_view_count": null,
            "flex_flow": null,
            "width": null,
            "min_width": null,
            "border": null,
            "align_items": null,
            "bottom": null,
            "_model_module": "@jupyter-widgets/base",
            "top": null,
            "grid_column": null,
            "overflow_y": null,
            "overflow_x": null,
            "grid_auto_flow": null,
            "grid_area": null,
            "grid_template_columns": null,
            "flex": null,
            "_model_name": "LayoutModel",
            "justify_items": null,
            "grid_row": null,
            "max_height": null,
            "align_content": null,
            "visibility": null,
            "align_self": null,
            "height": null,
            "min_height": null,
            "padding": null,
            "grid_auto_rows": null,
            "grid_gap": null,
            "max_width": null,
            "order": null,
            "_view_module_version": "1.2.0",
            "grid_template_areas": null,
            "object_position": null,
            "object_fit": null,
            "grid_auto_columns": null,
            "margin": null,
            "display": null,
            "left": null
          }
        },
        "a63558dbbd114d05a7d7e2dce0644fd0": {
          "model_module": "@jupyter-widgets/controls",
          "model_name": "HBoxModel",
          "state": {
            "_view_name": "HBoxView",
            "_dom_classes": [],
            "_model_name": "HBoxModel",
            "_view_module": "@jupyter-widgets/controls",
            "_model_module_version": "1.5.0",
            "_view_count": null,
            "_view_module_version": "1.5.0",
            "box_style": "",
            "layout": "IPY_MODEL_ccbe0ecb264b40f0b4b2de9724450cbf",
            "_model_module": "@jupyter-widgets/controls",
            "children": [
              "IPY_MODEL_e023700d95f44050a1ca2e6512c51907",
              "IPY_MODEL_d61f4ab47dba4e0c98629dfc2497d997"
            ]
          }
        },
        "ccbe0ecb264b40f0b4b2de9724450cbf": {
          "model_module": "@jupyter-widgets/base",
          "model_name": "LayoutModel",
          "state": {
            "_view_name": "LayoutView",
            "grid_template_rows": null,
            "right": null,
            "justify_content": null,
            "_view_module": "@jupyter-widgets/base",
            "overflow": null,
            "_model_module_version": "1.2.0",
            "_view_count": null,
            "flex_flow": null,
            "width": null,
            "min_width": null,
            "border": null,
            "align_items": null,
            "bottom": null,
            "_model_module": "@jupyter-widgets/base",
            "top": null,
            "grid_column": null,
            "overflow_y": null,
            "overflow_x": null,
            "grid_auto_flow": null,
            "grid_area": null,
            "grid_template_columns": null,
            "flex": null,
            "_model_name": "LayoutModel",
            "justify_items": null,
            "grid_row": null,
            "max_height": null,
            "align_content": null,
            "visibility": null,
            "align_self": null,
            "height": null,
            "min_height": null,
            "padding": null,
            "grid_auto_rows": null,
            "grid_gap": null,
            "max_width": null,
            "order": null,
            "_view_module_version": "1.2.0",
            "grid_template_areas": null,
            "object_position": null,
            "object_fit": null,
            "grid_auto_columns": null,
            "margin": null,
            "display": null,
            "left": null
          }
        },
        "e023700d95f44050a1ca2e6512c51907": {
          "model_module": "@jupyter-widgets/controls",
          "model_name": "FloatProgressModel",
          "state": {
            "_view_name": "ProgressView",
            "style": "IPY_MODEL_b505a64436594a69a35c097863693f98",
            "_dom_classes": [],
            "description": "#3: 100%",
            "_model_name": "FloatProgressModel",
            "bar_style": "success",
            "max": 29,
            "_view_module": "@jupyter-widgets/controls",
            "_model_module_version": "1.5.0",
            "value": 29,
            "_view_count": null,
            "_view_module_version": "1.5.0",
            "orientation": "horizontal",
            "min": 0,
            "description_tooltip": null,
            "_model_module": "@jupyter-widgets/controls",
            "layout": "IPY_MODEL_3197d50cdf59439b813204d0c2bf76cd"
          }
        },
        "d61f4ab47dba4e0c98629dfc2497d997": {
          "model_module": "@jupyter-widgets/controls",
          "model_name": "HTMLModel",
          "state": {
            "_view_name": "HTMLView",
            "style": "IPY_MODEL_bc6b8b3a3123483f93db518d8776b693",
            "_dom_classes": [],
            "description": "",
            "_model_name": "HTMLModel",
            "placeholder": "​",
            "_view_module": "@jupyter-widgets/controls",
            "_model_module_version": "1.5.0",
            "value": " 29/29 [00:11&lt;00:00,  2.45ex/s]",
            "_view_count": null,
            "_view_module_version": "1.5.0",
            "description_tooltip": null,
            "_model_module": "@jupyter-widgets/controls",
            "layout": "IPY_MODEL_a884eab4fe454a639ab1f75534c9aa28"
          }
        },
        "b505a64436594a69a35c097863693f98": {
          "model_module": "@jupyter-widgets/controls",
          "model_name": "ProgressStyleModel",
          "state": {
            "_view_name": "StyleView",
            "_model_name": "ProgressStyleModel",
            "description_width": "initial",
            "_view_module": "@jupyter-widgets/base",
            "_model_module_version": "1.5.0",
            "_view_count": null,
            "_view_module_version": "1.2.0",
            "bar_color": null,
            "_model_module": "@jupyter-widgets/controls"
          }
        },
        "3197d50cdf59439b813204d0c2bf76cd": {
          "model_module": "@jupyter-widgets/base",
          "model_name": "LayoutModel",
          "state": {
            "_view_name": "LayoutView",
            "grid_template_rows": null,
            "right": null,
            "justify_content": null,
            "_view_module": "@jupyter-widgets/base",
            "overflow": null,
            "_model_module_version": "1.2.0",
            "_view_count": null,
            "flex_flow": null,
            "width": null,
            "min_width": null,
            "border": null,
            "align_items": null,
            "bottom": null,
            "_model_module": "@jupyter-widgets/base",
            "top": null,
            "grid_column": null,
            "overflow_y": null,
            "overflow_x": null,
            "grid_auto_flow": null,
            "grid_area": null,
            "grid_template_columns": null,
            "flex": null,
            "_model_name": "LayoutModel",
            "justify_items": null,
            "grid_row": null,
            "max_height": null,
            "align_content": null,
            "visibility": null,
            "align_self": null,
            "height": null,
            "min_height": null,
            "padding": null,
            "grid_auto_rows": null,
            "grid_gap": null,
            "max_width": null,
            "order": null,
            "_view_module_version": "1.2.0",
            "grid_template_areas": null,
            "object_position": null,
            "object_fit": null,
            "grid_auto_columns": null,
            "margin": null,
            "display": null,
            "left": null
          }
        },
        "bc6b8b3a3123483f93db518d8776b693": {
          "model_module": "@jupyter-widgets/controls",
          "model_name": "DescriptionStyleModel",
          "state": {
            "_view_name": "StyleView",
            "_model_name": "DescriptionStyleModel",
            "description_width": "",
            "_view_module": "@jupyter-widgets/base",
            "_model_module_version": "1.5.0",
            "_view_count": null,
            "_view_module_version": "1.2.0",
            "_model_module": "@jupyter-widgets/controls"
          }
        },
        "a884eab4fe454a639ab1f75534c9aa28": {
          "model_module": "@jupyter-widgets/base",
          "model_name": "LayoutModel",
          "state": {
            "_view_name": "LayoutView",
            "grid_template_rows": null,
            "right": null,
            "justify_content": null,
            "_view_module": "@jupyter-widgets/base",
            "overflow": null,
            "_model_module_version": "1.2.0",
            "_view_count": null,
            "flex_flow": null,
            "width": null,
            "min_width": null,
            "border": null,
            "align_items": null,
            "bottom": null,
            "_model_module": "@jupyter-widgets/base",
            "top": null,
            "grid_column": null,
            "overflow_y": null,
            "overflow_x": null,
            "grid_auto_flow": null,
            "grid_area": null,
            "grid_template_columns": null,
            "flex": null,
            "_model_name": "LayoutModel",
            "justify_items": null,
            "grid_row": null,
            "max_height": null,
            "align_content": null,
            "visibility": null,
            "align_self": null,
            "height": null,
            "min_height": null,
            "padding": null,
            "grid_auto_rows": null,
            "grid_gap": null,
            "max_width": null,
            "order": null,
            "_view_module_version": "1.2.0",
            "grid_template_areas": null,
            "object_position": null,
            "object_fit": null,
            "grid_auto_columns": null,
            "margin": null,
            "display": null,
            "left": null
          }
        },
        "e1b8a29902654635890f74a48eb054e0": {
          "model_module": "@jupyter-widgets/controls",
          "model_name": "HBoxModel",
          "state": {
            "_view_name": "HBoxView",
            "_dom_classes": [],
            "_model_name": "HBoxModel",
            "_view_module": "@jupyter-widgets/controls",
            "_model_module_version": "1.5.0",
            "_view_count": null,
            "_view_module_version": "1.5.0",
            "box_style": "",
            "layout": "IPY_MODEL_7e657d2fcaff40208f3977830cca2b23",
            "_model_module": "@jupyter-widgets/controls",
            "children": [
              "IPY_MODEL_d31a8aee8c4346f083956e8fad4a4de3",
              "IPY_MODEL_3a27124c1dfa4c53b97f7e8c4acce933"
            ]
          }
        },
        "7e657d2fcaff40208f3977830cca2b23": {
          "model_module": "@jupyter-widgets/base",
          "model_name": "LayoutModel",
          "state": {
            "_view_name": "LayoutView",
            "grid_template_rows": null,
            "right": null,
            "justify_content": null,
            "_view_module": "@jupyter-widgets/base",
            "overflow": null,
            "_model_module_version": "1.2.0",
            "_view_count": null,
            "flex_flow": null,
            "width": null,
            "min_width": null,
            "border": null,
            "align_items": null,
            "bottom": null,
            "_model_module": "@jupyter-widgets/base",
            "top": null,
            "grid_column": null,
            "overflow_y": null,
            "overflow_x": null,
            "grid_auto_flow": null,
            "grid_area": null,
            "grid_template_columns": null,
            "flex": null,
            "_model_name": "LayoutModel",
            "justify_items": null,
            "grid_row": null,
            "max_height": null,
            "align_content": null,
            "visibility": null,
            "align_self": null,
            "height": null,
            "min_height": null,
            "padding": null,
            "grid_auto_rows": null,
            "grid_gap": null,
            "max_width": null,
            "order": null,
            "_view_module_version": "1.2.0",
            "grid_template_areas": null,
            "object_position": null,
            "object_fit": null,
            "grid_auto_columns": null,
            "margin": null,
            "display": null,
            "left": null
          }
        },
        "d31a8aee8c4346f083956e8fad4a4de3": {
          "model_module": "@jupyter-widgets/controls",
          "model_name": "FloatProgressModel",
          "state": {
            "_view_name": "ProgressView",
            "style": "IPY_MODEL_64563fd80d4f4c8fbe488590981a251c",
            "_dom_classes": [],
            "description": "#1: 100%",
            "_model_name": "FloatProgressModel",
            "bar_style": "success",
            "max": 8,
            "_view_module": "@jupyter-widgets/controls",
            "_model_module_version": "1.5.0",
            "value": 8,
            "_view_count": null,
            "_view_module_version": "1.5.0",
            "orientation": "horizontal",
            "min": 0,
            "description_tooltip": null,
            "_model_module": "@jupyter-widgets/controls",
            "layout": "IPY_MODEL_4b79470e087342b380f2420294212f30"
          }
        },
        "3a27124c1dfa4c53b97f7e8c4acce933": {
          "model_module": "@jupyter-widgets/controls",
          "model_name": "HTMLModel",
          "state": {
            "_view_name": "HTMLView",
            "style": "IPY_MODEL_9ee935ec2fe149d9a291e7c23accad9b",
            "_dom_classes": [],
            "description": "",
            "_model_name": "HTMLModel",
            "placeholder": "​",
            "_view_module": "@jupyter-widgets/controls",
            "_model_module_version": "1.5.0",
            "value": " 8/8 [00:04&lt;00:00,  1.74ba/s]",
            "_view_count": null,
            "_view_module_version": "1.5.0",
            "description_tooltip": null,
            "_model_module": "@jupyter-widgets/controls",
            "layout": "IPY_MODEL_6fd820236ddb48f19f43cd06d18fb6c0"
          }
        },
        "64563fd80d4f4c8fbe488590981a251c": {
          "model_module": "@jupyter-widgets/controls",
          "model_name": "ProgressStyleModel",
          "state": {
            "_view_name": "StyleView",
            "_model_name": "ProgressStyleModel",
            "description_width": "initial",
            "_view_module": "@jupyter-widgets/base",
            "_model_module_version": "1.5.0",
            "_view_count": null,
            "_view_module_version": "1.2.0",
            "bar_color": null,
            "_model_module": "@jupyter-widgets/controls"
          }
        },
        "4b79470e087342b380f2420294212f30": {
          "model_module": "@jupyter-widgets/base",
          "model_name": "LayoutModel",
          "state": {
            "_view_name": "LayoutView",
            "grid_template_rows": null,
            "right": null,
            "justify_content": null,
            "_view_module": "@jupyter-widgets/base",
            "overflow": null,
            "_model_module_version": "1.2.0",
            "_view_count": null,
            "flex_flow": null,
            "width": null,
            "min_width": null,
            "border": null,
            "align_items": null,
            "bottom": null,
            "_model_module": "@jupyter-widgets/base",
            "top": null,
            "grid_column": null,
            "overflow_y": null,
            "overflow_x": null,
            "grid_auto_flow": null,
            "grid_area": null,
            "grid_template_columns": null,
            "flex": null,
            "_model_name": "LayoutModel",
            "justify_items": null,
            "grid_row": null,
            "max_height": null,
            "align_content": null,
            "visibility": null,
            "align_self": null,
            "height": null,
            "min_height": null,
            "padding": null,
            "grid_auto_rows": null,
            "grid_gap": null,
            "max_width": null,
            "order": null,
            "_view_module_version": "1.2.0",
            "grid_template_areas": null,
            "object_position": null,
            "object_fit": null,
            "grid_auto_columns": null,
            "margin": null,
            "display": null,
            "left": null
          }
        },
        "9ee935ec2fe149d9a291e7c23accad9b": {
          "model_module": "@jupyter-widgets/controls",
          "model_name": "DescriptionStyleModel",
          "state": {
            "_view_name": "StyleView",
            "_model_name": "DescriptionStyleModel",
            "description_width": "",
            "_view_module": "@jupyter-widgets/base",
            "_model_module_version": "1.5.0",
            "_view_count": null,
            "_view_module_version": "1.2.0",
            "_model_module": "@jupyter-widgets/controls"
          }
        },
        "6fd820236ddb48f19f43cd06d18fb6c0": {
          "model_module": "@jupyter-widgets/base",
          "model_name": "LayoutModel",
          "state": {
            "_view_name": "LayoutView",
            "grid_template_rows": null,
            "right": null,
            "justify_content": null,
            "_view_module": "@jupyter-widgets/base",
            "overflow": null,
            "_model_module_version": "1.2.0",
            "_view_count": null,
            "flex_flow": null,
            "width": null,
            "min_width": null,
            "border": null,
            "align_items": null,
            "bottom": null,
            "_model_module": "@jupyter-widgets/base",
            "top": null,
            "grid_column": null,
            "overflow_y": null,
            "overflow_x": null,
            "grid_auto_flow": null,
            "grid_area": null,
            "grid_template_columns": null,
            "flex": null,
            "_model_name": "LayoutModel",
            "justify_items": null,
            "grid_row": null,
            "max_height": null,
            "align_content": null,
            "visibility": null,
            "align_self": null,
            "height": null,
            "min_height": null,
            "padding": null,
            "grid_auto_rows": null,
            "grid_gap": null,
            "max_width": null,
            "order": null,
            "_view_module_version": "1.2.0",
            "grid_template_areas": null,
            "object_position": null,
            "object_fit": null,
            "grid_auto_columns": null,
            "margin": null,
            "display": null,
            "left": null
          }
        },
        "d93540e64c744f52829f6ff98f67f6b2": {
          "model_module": "@jupyter-widgets/controls",
          "model_name": "HBoxModel",
          "state": {
            "_view_name": "HBoxView",
            "_dom_classes": [],
            "_model_name": "HBoxModel",
            "_view_module": "@jupyter-widgets/controls",
            "_model_module_version": "1.5.0",
            "_view_count": null,
            "_view_module_version": "1.5.0",
            "box_style": "",
            "layout": "IPY_MODEL_977594e0cd0c46ab835f798de608e2d9",
            "_model_module": "@jupyter-widgets/controls",
            "children": [
              "IPY_MODEL_8b695eefb718460c8f5320cc672153f0",
              "IPY_MODEL_05a3f2c1b16e45f58bac67c932c06b93"
            ]
          }
        },
        "977594e0cd0c46ab835f798de608e2d9": {
          "model_module": "@jupyter-widgets/base",
          "model_name": "LayoutModel",
          "state": {
            "_view_name": "LayoutView",
            "grid_template_rows": null,
            "right": null,
            "justify_content": null,
            "_view_module": "@jupyter-widgets/base",
            "overflow": null,
            "_model_module_version": "1.2.0",
            "_view_count": null,
            "flex_flow": null,
            "width": null,
            "min_width": null,
            "border": null,
            "align_items": null,
            "bottom": null,
            "_model_module": "@jupyter-widgets/base",
            "top": null,
            "grid_column": null,
            "overflow_y": null,
            "overflow_x": null,
            "grid_auto_flow": null,
            "grid_area": null,
            "grid_template_columns": null,
            "flex": null,
            "_model_name": "LayoutModel",
            "justify_items": null,
            "grid_row": null,
            "max_height": null,
            "align_content": null,
            "visibility": null,
            "align_self": null,
            "height": null,
            "min_height": null,
            "padding": null,
            "grid_auto_rows": null,
            "grid_gap": null,
            "max_width": null,
            "order": null,
            "_view_module_version": "1.2.0",
            "grid_template_areas": null,
            "object_position": null,
            "object_fit": null,
            "grid_auto_columns": null,
            "margin": null,
            "display": null,
            "left": null
          }
        },
        "8b695eefb718460c8f5320cc672153f0": {
          "model_module": "@jupyter-widgets/controls",
          "model_name": "FloatProgressModel",
          "state": {
            "_view_name": "ProgressView",
            "style": "IPY_MODEL_bb2aa9db185a446a91045e806ec24918",
            "_dom_classes": [],
            "description": "#0: 100%",
            "_model_name": "FloatProgressModel",
            "bar_style": "success",
            "max": 8,
            "_view_module": "@jupyter-widgets/controls",
            "_model_module_version": "1.5.0",
            "value": 8,
            "_view_count": null,
            "_view_module_version": "1.5.0",
            "orientation": "horizontal",
            "min": 0,
            "description_tooltip": null,
            "_model_module": "@jupyter-widgets/controls",
            "layout": "IPY_MODEL_862db9cf8f5d485aba94c50bcc052196"
          }
        },
        "05a3f2c1b16e45f58bac67c932c06b93": {
          "model_module": "@jupyter-widgets/controls",
          "model_name": "HTMLModel",
          "state": {
            "_view_name": "HTMLView",
            "style": "IPY_MODEL_54503c9b701b463fb01d83f279944898",
            "_dom_classes": [],
            "description": "",
            "_model_name": "HTMLModel",
            "placeholder": "​",
            "_view_module": "@jupyter-widgets/controls",
            "_model_module_version": "1.5.0",
            "value": " 8/8 [00:04&lt;00:00,  1.71ba/s]",
            "_view_count": null,
            "_view_module_version": "1.5.0",
            "description_tooltip": null,
            "_model_module": "@jupyter-widgets/controls",
            "layout": "IPY_MODEL_538cde3b6fcb4c93bcb6b36acaaeb685"
          }
        },
        "bb2aa9db185a446a91045e806ec24918": {
          "model_module": "@jupyter-widgets/controls",
          "model_name": "ProgressStyleModel",
          "state": {
            "_view_name": "StyleView",
            "_model_name": "ProgressStyleModel",
            "description_width": "initial",
            "_view_module": "@jupyter-widgets/base",
            "_model_module_version": "1.5.0",
            "_view_count": null,
            "_view_module_version": "1.2.0",
            "bar_color": null,
            "_model_module": "@jupyter-widgets/controls"
          }
        },
        "862db9cf8f5d485aba94c50bcc052196": {
          "model_module": "@jupyter-widgets/base",
          "model_name": "LayoutModel",
          "state": {
            "_view_name": "LayoutView",
            "grid_template_rows": null,
            "right": null,
            "justify_content": null,
            "_view_module": "@jupyter-widgets/base",
            "overflow": null,
            "_model_module_version": "1.2.0",
            "_view_count": null,
            "flex_flow": null,
            "width": null,
            "min_width": null,
            "border": null,
            "align_items": null,
            "bottom": null,
            "_model_module": "@jupyter-widgets/base",
            "top": null,
            "grid_column": null,
            "overflow_y": null,
            "overflow_x": null,
            "grid_auto_flow": null,
            "grid_area": null,
            "grid_template_columns": null,
            "flex": null,
            "_model_name": "LayoutModel",
            "justify_items": null,
            "grid_row": null,
            "max_height": null,
            "align_content": null,
            "visibility": null,
            "align_self": null,
            "height": null,
            "min_height": null,
            "padding": null,
            "grid_auto_rows": null,
            "grid_gap": null,
            "max_width": null,
            "order": null,
            "_view_module_version": "1.2.0",
            "grid_template_areas": null,
            "object_position": null,
            "object_fit": null,
            "grid_auto_columns": null,
            "margin": null,
            "display": null,
            "left": null
          }
        },
        "54503c9b701b463fb01d83f279944898": {
          "model_module": "@jupyter-widgets/controls",
          "model_name": "DescriptionStyleModel",
          "state": {
            "_view_name": "StyleView",
            "_model_name": "DescriptionStyleModel",
            "description_width": "",
            "_view_module": "@jupyter-widgets/base",
            "_model_module_version": "1.5.0",
            "_view_count": null,
            "_view_module_version": "1.2.0",
            "_model_module": "@jupyter-widgets/controls"
          }
        },
        "538cde3b6fcb4c93bcb6b36acaaeb685": {
          "model_module": "@jupyter-widgets/base",
          "model_name": "LayoutModel",
          "state": {
            "_view_name": "LayoutView",
            "grid_template_rows": null,
            "right": null,
            "justify_content": null,
            "_view_module": "@jupyter-widgets/base",
            "overflow": null,
            "_model_module_version": "1.2.0",
            "_view_count": null,
            "flex_flow": null,
            "width": null,
            "min_width": null,
            "border": null,
            "align_items": null,
            "bottom": null,
            "_model_module": "@jupyter-widgets/base",
            "top": null,
            "grid_column": null,
            "overflow_y": null,
            "overflow_x": null,
            "grid_auto_flow": null,
            "grid_area": null,
            "grid_template_columns": null,
            "flex": null,
            "_model_name": "LayoutModel",
            "justify_items": null,
            "grid_row": null,
            "max_height": null,
            "align_content": null,
            "visibility": null,
            "align_self": null,
            "height": null,
            "min_height": null,
            "padding": null,
            "grid_auto_rows": null,
            "grid_gap": null,
            "max_width": null,
            "order": null,
            "_view_module_version": "1.2.0",
            "grid_template_areas": null,
            "object_position": null,
            "object_fit": null,
            "grid_auto_columns": null,
            "margin": null,
            "display": null,
            "left": null
          }
        },
        "84c383d18c914f4abee0a8934238bca5": {
          "model_module": "@jupyter-widgets/controls",
          "model_name": "HBoxModel",
          "state": {
            "_view_name": "HBoxView",
            "_dom_classes": [],
            "_model_name": "HBoxModel",
            "_view_module": "@jupyter-widgets/controls",
            "_model_module_version": "1.5.0",
            "_view_count": null,
            "_view_module_version": "1.5.0",
            "box_style": "",
            "layout": "IPY_MODEL_640ef0874a4e43538bdca179610f41de",
            "_model_module": "@jupyter-widgets/controls",
            "children": [
              "IPY_MODEL_77dd05e032c945c399ac8e45d02853c1",
              "IPY_MODEL_c099496553c547d994ad0baff38a0be8"
            ]
          }
        },
        "640ef0874a4e43538bdca179610f41de": {
          "model_module": "@jupyter-widgets/base",
          "model_name": "LayoutModel",
          "state": {
            "_view_name": "LayoutView",
            "grid_template_rows": null,
            "right": null,
            "justify_content": null,
            "_view_module": "@jupyter-widgets/base",
            "overflow": null,
            "_model_module_version": "1.2.0",
            "_view_count": null,
            "flex_flow": null,
            "width": null,
            "min_width": null,
            "border": null,
            "align_items": null,
            "bottom": null,
            "_model_module": "@jupyter-widgets/base",
            "top": null,
            "grid_column": null,
            "overflow_y": null,
            "overflow_x": null,
            "grid_auto_flow": null,
            "grid_area": null,
            "grid_template_columns": null,
            "flex": null,
            "_model_name": "LayoutModel",
            "justify_items": null,
            "grid_row": null,
            "max_height": null,
            "align_content": null,
            "visibility": null,
            "align_self": null,
            "height": null,
            "min_height": null,
            "padding": null,
            "grid_auto_rows": null,
            "grid_gap": null,
            "max_width": null,
            "order": null,
            "_view_module_version": "1.2.0",
            "grid_template_areas": null,
            "object_position": null,
            "object_fit": null,
            "grid_auto_columns": null,
            "margin": null,
            "display": null,
            "left": null
          }
        },
        "77dd05e032c945c399ac8e45d02853c1": {
          "model_module": "@jupyter-widgets/controls",
          "model_name": "FloatProgressModel",
          "state": {
            "_view_name": "ProgressView",
            "style": "IPY_MODEL_142c813560ba4e7e8de1dd22368ba9da",
            "_dom_classes": [],
            "description": "#3: 100%",
            "_model_name": "FloatProgressModel",
            "bar_style": "success",
            "max": 8,
            "_view_module": "@jupyter-widgets/controls",
            "_model_module_version": "1.5.0",
            "value": 8,
            "_view_count": null,
            "_view_module_version": "1.5.0",
            "orientation": "horizontal",
            "min": 0,
            "description_tooltip": null,
            "_model_module": "@jupyter-widgets/controls",
            "layout": "IPY_MODEL_434f9d0a1d654749b91127ee4364b7ef"
          }
        },
        "c099496553c547d994ad0baff38a0be8": {
          "model_module": "@jupyter-widgets/controls",
          "model_name": "HTMLModel",
          "state": {
            "_view_name": "HTMLView",
            "style": "IPY_MODEL_29f71caf26e548c29e8705c7e6b82230",
            "_dom_classes": [],
            "description": "",
            "_model_name": "HTMLModel",
            "placeholder": "​",
            "_view_module": "@jupyter-widgets/controls",
            "_model_module_version": "1.5.0",
            "value": " 8/8 [00:04&lt;00:00,  1.81ba/s]",
            "_view_count": null,
            "_view_module_version": "1.5.0",
            "description_tooltip": null,
            "_model_module": "@jupyter-widgets/controls",
            "layout": "IPY_MODEL_521bb366394140b9a6a5fc3a956f8b9a"
          }
        },
        "142c813560ba4e7e8de1dd22368ba9da": {
          "model_module": "@jupyter-widgets/controls",
          "model_name": "ProgressStyleModel",
          "state": {
            "_view_name": "StyleView",
            "_model_name": "ProgressStyleModel",
            "description_width": "initial",
            "_view_module": "@jupyter-widgets/base",
            "_model_module_version": "1.5.0",
            "_view_count": null,
            "_view_module_version": "1.2.0",
            "bar_color": null,
            "_model_module": "@jupyter-widgets/controls"
          }
        },
        "434f9d0a1d654749b91127ee4364b7ef": {
          "model_module": "@jupyter-widgets/base",
          "model_name": "LayoutModel",
          "state": {
            "_view_name": "LayoutView",
            "grid_template_rows": null,
            "right": null,
            "justify_content": null,
            "_view_module": "@jupyter-widgets/base",
            "overflow": null,
            "_model_module_version": "1.2.0",
            "_view_count": null,
            "flex_flow": null,
            "width": null,
            "min_width": null,
            "border": null,
            "align_items": null,
            "bottom": null,
            "_model_module": "@jupyter-widgets/base",
            "top": null,
            "grid_column": null,
            "overflow_y": null,
            "overflow_x": null,
            "grid_auto_flow": null,
            "grid_area": null,
            "grid_template_columns": null,
            "flex": null,
            "_model_name": "LayoutModel",
            "justify_items": null,
            "grid_row": null,
            "max_height": null,
            "align_content": null,
            "visibility": null,
            "align_self": null,
            "height": null,
            "min_height": null,
            "padding": null,
            "grid_auto_rows": null,
            "grid_gap": null,
            "max_width": null,
            "order": null,
            "_view_module_version": "1.2.0",
            "grid_template_areas": null,
            "object_position": null,
            "object_fit": null,
            "grid_auto_columns": null,
            "margin": null,
            "display": null,
            "left": null
          }
        },
        "29f71caf26e548c29e8705c7e6b82230": {
          "model_module": "@jupyter-widgets/controls",
          "model_name": "DescriptionStyleModel",
          "state": {
            "_view_name": "StyleView",
            "_model_name": "DescriptionStyleModel",
            "description_width": "",
            "_view_module": "@jupyter-widgets/base",
            "_model_module_version": "1.5.0",
            "_view_count": null,
            "_view_module_version": "1.2.0",
            "_model_module": "@jupyter-widgets/controls"
          }
        },
        "521bb366394140b9a6a5fc3a956f8b9a": {
          "model_module": "@jupyter-widgets/base",
          "model_name": "LayoutModel",
          "state": {
            "_view_name": "LayoutView",
            "grid_template_rows": null,
            "right": null,
            "justify_content": null,
            "_view_module": "@jupyter-widgets/base",
            "overflow": null,
            "_model_module_version": "1.2.0",
            "_view_count": null,
            "flex_flow": null,
            "width": null,
            "min_width": null,
            "border": null,
            "align_items": null,
            "bottom": null,
            "_model_module": "@jupyter-widgets/base",
            "top": null,
            "grid_column": null,
            "overflow_y": null,
            "overflow_x": null,
            "grid_auto_flow": null,
            "grid_area": null,
            "grid_template_columns": null,
            "flex": null,
            "_model_name": "LayoutModel",
            "justify_items": null,
            "grid_row": null,
            "max_height": null,
            "align_content": null,
            "visibility": null,
            "align_self": null,
            "height": null,
            "min_height": null,
            "padding": null,
            "grid_auto_rows": null,
            "grid_gap": null,
            "max_width": null,
            "order": null,
            "_view_module_version": "1.2.0",
            "grid_template_areas": null,
            "object_position": null,
            "object_fit": null,
            "grid_auto_columns": null,
            "margin": null,
            "display": null,
            "left": null
          }
        },
        "acf8f87c1ab14c9a84a892575e3d1725": {
          "model_module": "@jupyter-widgets/controls",
          "model_name": "HBoxModel",
          "state": {
            "_view_name": "HBoxView",
            "_dom_classes": [],
            "_model_name": "HBoxModel",
            "_view_module": "@jupyter-widgets/controls",
            "_model_module_version": "1.5.0",
            "_view_count": null,
            "_view_module_version": "1.5.0",
            "box_style": "",
            "layout": "IPY_MODEL_ad480551abeb43198f3a58c9f4037277",
            "_model_module": "@jupyter-widgets/controls",
            "children": [
              "IPY_MODEL_ebc1e77febd04a879cb849c40c8a39d8",
              "IPY_MODEL_331f8c13e8c74f71b6d77e40ec2ee350"
            ]
          }
        },
        "ad480551abeb43198f3a58c9f4037277": {
          "model_module": "@jupyter-widgets/base",
          "model_name": "LayoutModel",
          "state": {
            "_view_name": "LayoutView",
            "grid_template_rows": null,
            "right": null,
            "justify_content": null,
            "_view_module": "@jupyter-widgets/base",
            "overflow": null,
            "_model_module_version": "1.2.0",
            "_view_count": null,
            "flex_flow": null,
            "width": null,
            "min_width": null,
            "border": null,
            "align_items": null,
            "bottom": null,
            "_model_module": "@jupyter-widgets/base",
            "top": null,
            "grid_column": null,
            "overflow_y": null,
            "overflow_x": null,
            "grid_auto_flow": null,
            "grid_area": null,
            "grid_template_columns": null,
            "flex": null,
            "_model_name": "LayoutModel",
            "justify_items": null,
            "grid_row": null,
            "max_height": null,
            "align_content": null,
            "visibility": null,
            "align_self": null,
            "height": null,
            "min_height": null,
            "padding": null,
            "grid_auto_rows": null,
            "grid_gap": null,
            "max_width": null,
            "order": null,
            "_view_module_version": "1.2.0",
            "grid_template_areas": null,
            "object_position": null,
            "object_fit": null,
            "grid_auto_columns": null,
            "margin": null,
            "display": null,
            "left": null
          }
        },
        "ebc1e77febd04a879cb849c40c8a39d8": {
          "model_module": "@jupyter-widgets/controls",
          "model_name": "FloatProgressModel",
          "state": {
            "_view_name": "ProgressView",
            "style": "IPY_MODEL_3a7faa905a33400ca21f50f929466559",
            "_dom_classes": [],
            "description": "#2: 100%",
            "_model_name": "FloatProgressModel",
            "bar_style": "success",
            "max": 8,
            "_view_module": "@jupyter-widgets/controls",
            "_model_module_version": "1.5.0",
            "value": 8,
            "_view_count": null,
            "_view_module_version": "1.5.0",
            "orientation": "horizontal",
            "min": 0,
            "description_tooltip": null,
            "_model_module": "@jupyter-widgets/controls",
            "layout": "IPY_MODEL_8e559d29916b42e997a958d512e58a92"
          }
        },
        "331f8c13e8c74f71b6d77e40ec2ee350": {
          "model_module": "@jupyter-widgets/controls",
          "model_name": "HTMLModel",
          "state": {
            "_view_name": "HTMLView",
            "style": "IPY_MODEL_5961d258ccd147e2ad8f85b4e56621da",
            "_dom_classes": [],
            "description": "",
            "_model_name": "HTMLModel",
            "placeholder": "​",
            "_view_module": "@jupyter-widgets/controls",
            "_model_module_version": "1.5.0",
            "value": " 8/8 [00:04&lt;00:00,  1.86ba/s]",
            "_view_count": null,
            "_view_module_version": "1.5.0",
            "description_tooltip": null,
            "_model_module": "@jupyter-widgets/controls",
            "layout": "IPY_MODEL_be0d06f6113347869fcea4e9bc0181e3"
          }
        },
        "3a7faa905a33400ca21f50f929466559": {
          "model_module": "@jupyter-widgets/controls",
          "model_name": "ProgressStyleModel",
          "state": {
            "_view_name": "StyleView",
            "_model_name": "ProgressStyleModel",
            "description_width": "initial",
            "_view_module": "@jupyter-widgets/base",
            "_model_module_version": "1.5.0",
            "_view_count": null,
            "_view_module_version": "1.2.0",
            "bar_color": null,
            "_model_module": "@jupyter-widgets/controls"
          }
        },
        "8e559d29916b42e997a958d512e58a92": {
          "model_module": "@jupyter-widgets/base",
          "model_name": "LayoutModel",
          "state": {
            "_view_name": "LayoutView",
            "grid_template_rows": null,
            "right": null,
            "justify_content": null,
            "_view_module": "@jupyter-widgets/base",
            "overflow": null,
            "_model_module_version": "1.2.0",
            "_view_count": null,
            "flex_flow": null,
            "width": null,
            "min_width": null,
            "border": null,
            "align_items": null,
            "bottom": null,
            "_model_module": "@jupyter-widgets/base",
            "top": null,
            "grid_column": null,
            "overflow_y": null,
            "overflow_x": null,
            "grid_auto_flow": null,
            "grid_area": null,
            "grid_template_columns": null,
            "flex": null,
            "_model_name": "LayoutModel",
            "justify_items": null,
            "grid_row": null,
            "max_height": null,
            "align_content": null,
            "visibility": null,
            "align_self": null,
            "height": null,
            "min_height": null,
            "padding": null,
            "grid_auto_rows": null,
            "grid_gap": null,
            "max_width": null,
            "order": null,
            "_view_module_version": "1.2.0",
            "grid_template_areas": null,
            "object_position": null,
            "object_fit": null,
            "grid_auto_columns": null,
            "margin": null,
            "display": null,
            "left": null
          }
        },
        "5961d258ccd147e2ad8f85b4e56621da": {
          "model_module": "@jupyter-widgets/controls",
          "model_name": "DescriptionStyleModel",
          "state": {
            "_view_name": "StyleView",
            "_model_name": "DescriptionStyleModel",
            "description_width": "",
            "_view_module": "@jupyter-widgets/base",
            "_model_module_version": "1.5.0",
            "_view_count": null,
            "_view_module_version": "1.2.0",
            "_model_module": "@jupyter-widgets/controls"
          }
        },
        "be0d06f6113347869fcea4e9bc0181e3": {
          "model_module": "@jupyter-widgets/base",
          "model_name": "LayoutModel",
          "state": {
            "_view_name": "LayoutView",
            "grid_template_rows": null,
            "right": null,
            "justify_content": null,
            "_view_module": "@jupyter-widgets/base",
            "overflow": null,
            "_model_module_version": "1.2.0",
            "_view_count": null,
            "flex_flow": null,
            "width": null,
            "min_width": null,
            "border": null,
            "align_items": null,
            "bottom": null,
            "_model_module": "@jupyter-widgets/base",
            "top": null,
            "grid_column": null,
            "overflow_y": null,
            "overflow_x": null,
            "grid_auto_flow": null,
            "grid_area": null,
            "grid_template_columns": null,
            "flex": null,
            "_model_name": "LayoutModel",
            "justify_items": null,
            "grid_row": null,
            "max_height": null,
            "align_content": null,
            "visibility": null,
            "align_self": null,
            "height": null,
            "min_height": null,
            "padding": null,
            "grid_auto_rows": null,
            "grid_gap": null,
            "max_width": null,
            "order": null,
            "_view_module_version": "1.2.0",
            "grid_template_areas": null,
            "object_position": null,
            "object_fit": null,
            "grid_auto_columns": null,
            "margin": null,
            "display": null,
            "left": null
          }
        },
        "15114d2e94b3492da6f2f5fe86fa3b25": {
          "model_module": "@jupyter-widgets/controls",
          "model_name": "HBoxModel",
          "state": {
            "_view_name": "HBoxView",
            "_dom_classes": [],
            "_model_name": "HBoxModel",
            "_view_module": "@jupyter-widgets/controls",
            "_model_module_version": "1.5.0",
            "_view_count": null,
            "_view_module_version": "1.5.0",
            "box_style": "",
            "layout": "IPY_MODEL_b2490fa67bdf489eaacd994f4d3f002c",
            "_model_module": "@jupyter-widgets/controls",
            "children": [
              "IPY_MODEL_f99f701c7ede43a696e94194f8254905",
              "IPY_MODEL_b36cf34754d74761ab8da99d4c101273"
            ]
          }
        },
        "b2490fa67bdf489eaacd994f4d3f002c": {
          "model_module": "@jupyter-widgets/base",
          "model_name": "LayoutModel",
          "state": {
            "_view_name": "LayoutView",
            "grid_template_rows": null,
            "right": null,
            "justify_content": null,
            "_view_module": "@jupyter-widgets/base",
            "overflow": null,
            "_model_module_version": "1.2.0",
            "_view_count": null,
            "flex_flow": null,
            "width": null,
            "min_width": null,
            "border": null,
            "align_items": null,
            "bottom": null,
            "_model_module": "@jupyter-widgets/base",
            "top": null,
            "grid_column": null,
            "overflow_y": null,
            "overflow_x": null,
            "grid_auto_flow": null,
            "grid_area": null,
            "grid_template_columns": null,
            "flex": null,
            "_model_name": "LayoutModel",
            "justify_items": null,
            "grid_row": null,
            "max_height": null,
            "align_content": null,
            "visibility": null,
            "align_self": null,
            "height": null,
            "min_height": null,
            "padding": null,
            "grid_auto_rows": null,
            "grid_gap": null,
            "max_width": null,
            "order": null,
            "_view_module_version": "1.2.0",
            "grid_template_areas": null,
            "object_position": null,
            "object_fit": null,
            "grid_auto_columns": null,
            "margin": null,
            "display": null,
            "left": null
          }
        },
        "f99f701c7ede43a696e94194f8254905": {
          "model_module": "@jupyter-widgets/controls",
          "model_name": "FloatProgressModel",
          "state": {
            "_view_name": "ProgressView",
            "style": "IPY_MODEL_abbfc2d820f748a385f50e8cedf36c9f",
            "_dom_classes": [],
            "description": "#2: 100%",
            "_model_name": "FloatProgressModel",
            "bar_style": "success",
            "max": 4,
            "_view_module": "@jupyter-widgets/controls",
            "_model_module_version": "1.5.0",
            "value": 4,
            "_view_count": null,
            "_view_module_version": "1.5.0",
            "orientation": "horizontal",
            "min": 0,
            "description_tooltip": null,
            "_model_module": "@jupyter-widgets/controls",
            "layout": "IPY_MODEL_44f66ef909b7408882cb19d8105839ab"
          }
        },
        "b36cf34754d74761ab8da99d4c101273": {
          "model_module": "@jupyter-widgets/controls",
          "model_name": "HTMLModel",
          "state": {
            "_view_name": "HTMLView",
            "style": "IPY_MODEL_372768961fcb4ce2bfcddef6e2be93e7",
            "_dom_classes": [],
            "description": "",
            "_model_name": "HTMLModel",
            "placeholder": "​",
            "_view_module": "@jupyter-widgets/controls",
            "_model_module_version": "1.5.0",
            "value": " 4/4 [00:02&lt;00:00,  1.78ba/s]",
            "_view_count": null,
            "_view_module_version": "1.5.0",
            "description_tooltip": null,
            "_model_module": "@jupyter-widgets/controls",
            "layout": "IPY_MODEL_2c4b3b4de024430ead09be88df10fb8a"
          }
        },
        "abbfc2d820f748a385f50e8cedf36c9f": {
          "model_module": "@jupyter-widgets/controls",
          "model_name": "ProgressStyleModel",
          "state": {
            "_view_name": "StyleView",
            "_model_name": "ProgressStyleModel",
            "description_width": "initial",
            "_view_module": "@jupyter-widgets/base",
            "_model_module_version": "1.5.0",
            "_view_count": null,
            "_view_module_version": "1.2.0",
            "bar_color": null,
            "_model_module": "@jupyter-widgets/controls"
          }
        },
        "44f66ef909b7408882cb19d8105839ab": {
          "model_module": "@jupyter-widgets/base",
          "model_name": "LayoutModel",
          "state": {
            "_view_name": "LayoutView",
            "grid_template_rows": null,
            "right": null,
            "justify_content": null,
            "_view_module": "@jupyter-widgets/base",
            "overflow": null,
            "_model_module_version": "1.2.0",
            "_view_count": null,
            "flex_flow": null,
            "width": null,
            "min_width": null,
            "border": null,
            "align_items": null,
            "bottom": null,
            "_model_module": "@jupyter-widgets/base",
            "top": null,
            "grid_column": null,
            "overflow_y": null,
            "overflow_x": null,
            "grid_auto_flow": null,
            "grid_area": null,
            "grid_template_columns": null,
            "flex": null,
            "_model_name": "LayoutModel",
            "justify_items": null,
            "grid_row": null,
            "max_height": null,
            "align_content": null,
            "visibility": null,
            "align_self": null,
            "height": null,
            "min_height": null,
            "padding": null,
            "grid_auto_rows": null,
            "grid_gap": null,
            "max_width": null,
            "order": null,
            "_view_module_version": "1.2.0",
            "grid_template_areas": null,
            "object_position": null,
            "object_fit": null,
            "grid_auto_columns": null,
            "margin": null,
            "display": null,
            "left": null
          }
        },
        "372768961fcb4ce2bfcddef6e2be93e7": {
          "model_module": "@jupyter-widgets/controls",
          "model_name": "DescriptionStyleModel",
          "state": {
            "_view_name": "StyleView",
            "_model_name": "DescriptionStyleModel",
            "description_width": "",
            "_view_module": "@jupyter-widgets/base",
            "_model_module_version": "1.5.0",
            "_view_count": null,
            "_view_module_version": "1.2.0",
            "_model_module": "@jupyter-widgets/controls"
          }
        },
        "2c4b3b4de024430ead09be88df10fb8a": {
          "model_module": "@jupyter-widgets/base",
          "model_name": "LayoutModel",
          "state": {
            "_view_name": "LayoutView",
            "grid_template_rows": null,
            "right": null,
            "justify_content": null,
            "_view_module": "@jupyter-widgets/base",
            "overflow": null,
            "_model_module_version": "1.2.0",
            "_view_count": null,
            "flex_flow": null,
            "width": null,
            "min_width": null,
            "border": null,
            "align_items": null,
            "bottom": null,
            "_model_module": "@jupyter-widgets/base",
            "top": null,
            "grid_column": null,
            "overflow_y": null,
            "overflow_x": null,
            "grid_auto_flow": null,
            "grid_area": null,
            "grid_template_columns": null,
            "flex": null,
            "_model_name": "LayoutModel",
            "justify_items": null,
            "grid_row": null,
            "max_height": null,
            "align_content": null,
            "visibility": null,
            "align_self": null,
            "height": null,
            "min_height": null,
            "padding": null,
            "grid_auto_rows": null,
            "grid_gap": null,
            "max_width": null,
            "order": null,
            "_view_module_version": "1.2.0",
            "grid_template_areas": null,
            "object_position": null,
            "object_fit": null,
            "grid_auto_columns": null,
            "margin": null,
            "display": null,
            "left": null
          }
        },
        "6f4b38e09e334b7a98dd0449af6ca337": {
          "model_module": "@jupyter-widgets/controls",
          "model_name": "HBoxModel",
          "state": {
            "_view_name": "HBoxView",
            "_dom_classes": [],
            "_model_name": "HBoxModel",
            "_view_module": "@jupyter-widgets/controls",
            "_model_module_version": "1.5.0",
            "_view_count": null,
            "_view_module_version": "1.5.0",
            "box_style": "",
            "layout": "IPY_MODEL_256bc1a4ff574b059131874b0155ae2a",
            "_model_module": "@jupyter-widgets/controls",
            "children": [
              "IPY_MODEL_7517cd490e304026bc05a7cff2a73b84",
              "IPY_MODEL_c80b8c7236be4ddeb4fdbeb773baae33"
            ]
          }
        },
        "256bc1a4ff574b059131874b0155ae2a": {
          "model_module": "@jupyter-widgets/base",
          "model_name": "LayoutModel",
          "state": {
            "_view_name": "LayoutView",
            "grid_template_rows": null,
            "right": null,
            "justify_content": null,
            "_view_module": "@jupyter-widgets/base",
            "overflow": null,
            "_model_module_version": "1.2.0",
            "_view_count": null,
            "flex_flow": null,
            "width": null,
            "min_width": null,
            "border": null,
            "align_items": null,
            "bottom": null,
            "_model_module": "@jupyter-widgets/base",
            "top": null,
            "grid_column": null,
            "overflow_y": null,
            "overflow_x": null,
            "grid_auto_flow": null,
            "grid_area": null,
            "grid_template_columns": null,
            "flex": null,
            "_model_name": "LayoutModel",
            "justify_items": null,
            "grid_row": null,
            "max_height": null,
            "align_content": null,
            "visibility": null,
            "align_self": null,
            "height": null,
            "min_height": null,
            "padding": null,
            "grid_auto_rows": null,
            "grid_gap": null,
            "max_width": null,
            "order": null,
            "_view_module_version": "1.2.0",
            "grid_template_areas": null,
            "object_position": null,
            "object_fit": null,
            "grid_auto_columns": null,
            "margin": null,
            "display": null,
            "left": null
          }
        },
        "7517cd490e304026bc05a7cff2a73b84": {
          "model_module": "@jupyter-widgets/controls",
          "model_name": "FloatProgressModel",
          "state": {
            "_view_name": "ProgressView",
            "style": "IPY_MODEL_62d0032667124339a679af75514b01de",
            "_dom_classes": [],
            "description": "#0: 100%",
            "_model_name": "FloatProgressModel",
            "bar_style": "success",
            "max": 4,
            "_view_module": "@jupyter-widgets/controls",
            "_model_module_version": "1.5.0",
            "value": 4,
            "_view_count": null,
            "_view_module_version": "1.5.0",
            "orientation": "horizontal",
            "min": 0,
            "description_tooltip": null,
            "_model_module": "@jupyter-widgets/controls",
            "layout": "IPY_MODEL_88a1c894578e4f9488adc251d85b4bf4"
          }
        },
        "c80b8c7236be4ddeb4fdbeb773baae33": {
          "model_module": "@jupyter-widgets/controls",
          "model_name": "HTMLModel",
          "state": {
            "_view_name": "HTMLView",
            "style": "IPY_MODEL_554fe4cd86e44bb6b4e43a7fe13ff5b6",
            "_dom_classes": [],
            "description": "",
            "_model_name": "HTMLModel",
            "placeholder": "​",
            "_view_module": "@jupyter-widgets/controls",
            "_model_module_version": "1.5.0",
            "value": " 4/4 [00:02&lt;00:00,  1.85ba/s]",
            "_view_count": null,
            "_view_module_version": "1.5.0",
            "description_tooltip": null,
            "_model_module": "@jupyter-widgets/controls",
            "layout": "IPY_MODEL_b05a0e857d7c4802843db1e7bc6bf957"
          }
        },
        "62d0032667124339a679af75514b01de": {
          "model_module": "@jupyter-widgets/controls",
          "model_name": "ProgressStyleModel",
          "state": {
            "_view_name": "StyleView",
            "_model_name": "ProgressStyleModel",
            "description_width": "initial",
            "_view_module": "@jupyter-widgets/base",
            "_model_module_version": "1.5.0",
            "_view_count": null,
            "_view_module_version": "1.2.0",
            "bar_color": null,
            "_model_module": "@jupyter-widgets/controls"
          }
        },
        "88a1c894578e4f9488adc251d85b4bf4": {
          "model_module": "@jupyter-widgets/base",
          "model_name": "LayoutModel",
          "state": {
            "_view_name": "LayoutView",
            "grid_template_rows": null,
            "right": null,
            "justify_content": null,
            "_view_module": "@jupyter-widgets/base",
            "overflow": null,
            "_model_module_version": "1.2.0",
            "_view_count": null,
            "flex_flow": null,
            "width": null,
            "min_width": null,
            "border": null,
            "align_items": null,
            "bottom": null,
            "_model_module": "@jupyter-widgets/base",
            "top": null,
            "grid_column": null,
            "overflow_y": null,
            "overflow_x": null,
            "grid_auto_flow": null,
            "grid_area": null,
            "grid_template_columns": null,
            "flex": null,
            "_model_name": "LayoutModel",
            "justify_items": null,
            "grid_row": null,
            "max_height": null,
            "align_content": null,
            "visibility": null,
            "align_self": null,
            "height": null,
            "min_height": null,
            "padding": null,
            "grid_auto_rows": null,
            "grid_gap": null,
            "max_width": null,
            "order": null,
            "_view_module_version": "1.2.0",
            "grid_template_areas": null,
            "object_position": null,
            "object_fit": null,
            "grid_auto_columns": null,
            "margin": null,
            "display": null,
            "left": null
          }
        },
        "554fe4cd86e44bb6b4e43a7fe13ff5b6": {
          "model_module": "@jupyter-widgets/controls",
          "model_name": "DescriptionStyleModel",
          "state": {
            "_view_name": "StyleView",
            "_model_name": "DescriptionStyleModel",
            "description_width": "",
            "_view_module": "@jupyter-widgets/base",
            "_model_module_version": "1.5.0",
            "_view_count": null,
            "_view_module_version": "1.2.0",
            "_model_module": "@jupyter-widgets/controls"
          }
        },
        "b05a0e857d7c4802843db1e7bc6bf957": {
          "model_module": "@jupyter-widgets/base",
          "model_name": "LayoutModel",
          "state": {
            "_view_name": "LayoutView",
            "grid_template_rows": null,
            "right": null,
            "justify_content": null,
            "_view_module": "@jupyter-widgets/base",
            "overflow": null,
            "_model_module_version": "1.2.0",
            "_view_count": null,
            "flex_flow": null,
            "width": null,
            "min_width": null,
            "border": null,
            "align_items": null,
            "bottom": null,
            "_model_module": "@jupyter-widgets/base",
            "top": null,
            "grid_column": null,
            "overflow_y": null,
            "overflow_x": null,
            "grid_auto_flow": null,
            "grid_area": null,
            "grid_template_columns": null,
            "flex": null,
            "_model_name": "LayoutModel",
            "justify_items": null,
            "grid_row": null,
            "max_height": null,
            "align_content": null,
            "visibility": null,
            "align_self": null,
            "height": null,
            "min_height": null,
            "padding": null,
            "grid_auto_rows": null,
            "grid_gap": null,
            "max_width": null,
            "order": null,
            "_view_module_version": "1.2.0",
            "grid_template_areas": null,
            "object_position": null,
            "object_fit": null,
            "grid_auto_columns": null,
            "margin": null,
            "display": null,
            "left": null
          }
        },
        "36f52e2120f44701a5e8b1d193bd4f22": {
          "model_module": "@jupyter-widgets/controls",
          "model_name": "HBoxModel",
          "state": {
            "_view_name": "HBoxView",
            "_dom_classes": [],
            "_model_name": "HBoxModel",
            "_view_module": "@jupyter-widgets/controls",
            "_model_module_version": "1.5.0",
            "_view_count": null,
            "_view_module_version": "1.5.0",
            "box_style": "",
            "layout": "IPY_MODEL_38418749f63d4e4c94a00ed578b5dcac",
            "_model_module": "@jupyter-widgets/controls",
            "children": [
              "IPY_MODEL_bed801bc075e4586b5825fbd75450e77",
              "IPY_MODEL_a86547b01f264fb0ac209b308bbcf8eb"
            ]
          }
        },
        "38418749f63d4e4c94a00ed578b5dcac": {
          "model_module": "@jupyter-widgets/base",
          "model_name": "LayoutModel",
          "state": {
            "_view_name": "LayoutView",
            "grid_template_rows": null,
            "right": null,
            "justify_content": null,
            "_view_module": "@jupyter-widgets/base",
            "overflow": null,
            "_model_module_version": "1.2.0",
            "_view_count": null,
            "flex_flow": null,
            "width": null,
            "min_width": null,
            "border": null,
            "align_items": null,
            "bottom": null,
            "_model_module": "@jupyter-widgets/base",
            "top": null,
            "grid_column": null,
            "overflow_y": null,
            "overflow_x": null,
            "grid_auto_flow": null,
            "grid_area": null,
            "grid_template_columns": null,
            "flex": null,
            "_model_name": "LayoutModel",
            "justify_items": null,
            "grid_row": null,
            "max_height": null,
            "align_content": null,
            "visibility": null,
            "align_self": null,
            "height": null,
            "min_height": null,
            "padding": null,
            "grid_auto_rows": null,
            "grid_gap": null,
            "max_width": null,
            "order": null,
            "_view_module_version": "1.2.0",
            "grid_template_areas": null,
            "object_position": null,
            "object_fit": null,
            "grid_auto_columns": null,
            "margin": null,
            "display": null,
            "left": null
          }
        },
        "bed801bc075e4586b5825fbd75450e77": {
          "model_module": "@jupyter-widgets/controls",
          "model_name": "FloatProgressModel",
          "state": {
            "_view_name": "ProgressView",
            "style": "IPY_MODEL_dff5ea7001ad45a6a77392d6dfd0b8e8",
            "_dom_classes": [],
            "description": "#3: 100%",
            "_model_name": "FloatProgressModel",
            "bar_style": "success",
            "max": 4,
            "_view_module": "@jupyter-widgets/controls",
            "_model_module_version": "1.5.0",
            "value": 4,
            "_view_count": null,
            "_view_module_version": "1.5.0",
            "orientation": "horizontal",
            "min": 0,
            "description_tooltip": null,
            "_model_module": "@jupyter-widgets/controls",
            "layout": "IPY_MODEL_fb5a370397894d9eb2d44e89e0e6eb14"
          }
        },
        "a86547b01f264fb0ac209b308bbcf8eb": {
          "model_module": "@jupyter-widgets/controls",
          "model_name": "HTMLModel",
          "state": {
            "_view_name": "HTMLView",
            "style": "IPY_MODEL_3ab05ebfa1d4439f84c2bbb308fc6227",
            "_dom_classes": [],
            "description": "",
            "_model_name": "HTMLModel",
            "placeholder": "​",
            "_view_module": "@jupyter-widgets/controls",
            "_model_module_version": "1.5.0",
            "value": " 4/4 [00:02&lt;00:00,  1.83ba/s]",
            "_view_count": null,
            "_view_module_version": "1.5.0",
            "description_tooltip": null,
            "_model_module": "@jupyter-widgets/controls",
            "layout": "IPY_MODEL_1be46abcc66b4770a923bf7707b31b49"
          }
        },
        "dff5ea7001ad45a6a77392d6dfd0b8e8": {
          "model_module": "@jupyter-widgets/controls",
          "model_name": "ProgressStyleModel",
          "state": {
            "_view_name": "StyleView",
            "_model_name": "ProgressStyleModel",
            "description_width": "initial",
            "_view_module": "@jupyter-widgets/base",
            "_model_module_version": "1.5.0",
            "_view_count": null,
            "_view_module_version": "1.2.0",
            "bar_color": null,
            "_model_module": "@jupyter-widgets/controls"
          }
        },
        "fb5a370397894d9eb2d44e89e0e6eb14": {
          "model_module": "@jupyter-widgets/base",
          "model_name": "LayoutModel",
          "state": {
            "_view_name": "LayoutView",
            "grid_template_rows": null,
            "right": null,
            "justify_content": null,
            "_view_module": "@jupyter-widgets/base",
            "overflow": null,
            "_model_module_version": "1.2.0",
            "_view_count": null,
            "flex_flow": null,
            "width": null,
            "min_width": null,
            "border": null,
            "align_items": null,
            "bottom": null,
            "_model_module": "@jupyter-widgets/base",
            "top": null,
            "grid_column": null,
            "overflow_y": null,
            "overflow_x": null,
            "grid_auto_flow": null,
            "grid_area": null,
            "grid_template_columns": null,
            "flex": null,
            "_model_name": "LayoutModel",
            "justify_items": null,
            "grid_row": null,
            "max_height": null,
            "align_content": null,
            "visibility": null,
            "align_self": null,
            "height": null,
            "min_height": null,
            "padding": null,
            "grid_auto_rows": null,
            "grid_gap": null,
            "max_width": null,
            "order": null,
            "_view_module_version": "1.2.0",
            "grid_template_areas": null,
            "object_position": null,
            "object_fit": null,
            "grid_auto_columns": null,
            "margin": null,
            "display": null,
            "left": null
          }
        },
        "3ab05ebfa1d4439f84c2bbb308fc6227": {
          "model_module": "@jupyter-widgets/controls",
          "model_name": "DescriptionStyleModel",
          "state": {
            "_view_name": "StyleView",
            "_model_name": "DescriptionStyleModel",
            "description_width": "",
            "_view_module": "@jupyter-widgets/base",
            "_model_module_version": "1.5.0",
            "_view_count": null,
            "_view_module_version": "1.2.0",
            "_model_module": "@jupyter-widgets/controls"
          }
        },
        "1be46abcc66b4770a923bf7707b31b49": {
          "model_module": "@jupyter-widgets/base",
          "model_name": "LayoutModel",
          "state": {
            "_view_name": "LayoutView",
            "grid_template_rows": null,
            "right": null,
            "justify_content": null,
            "_view_module": "@jupyter-widgets/base",
            "overflow": null,
            "_model_module_version": "1.2.0",
            "_view_count": null,
            "flex_flow": null,
            "width": null,
            "min_width": null,
            "border": null,
            "align_items": null,
            "bottom": null,
            "_model_module": "@jupyter-widgets/base",
            "top": null,
            "grid_column": null,
            "overflow_y": null,
            "overflow_x": null,
            "grid_auto_flow": null,
            "grid_area": null,
            "grid_template_columns": null,
            "flex": null,
            "_model_name": "LayoutModel",
            "justify_items": null,
            "grid_row": null,
            "max_height": null,
            "align_content": null,
            "visibility": null,
            "align_self": null,
            "height": null,
            "min_height": null,
            "padding": null,
            "grid_auto_rows": null,
            "grid_gap": null,
            "max_width": null,
            "order": null,
            "_view_module_version": "1.2.0",
            "grid_template_areas": null,
            "object_position": null,
            "object_fit": null,
            "grid_auto_columns": null,
            "margin": null,
            "display": null,
            "left": null
          }
        },
        "1bd77df55457430dbefd6c393cb879ea": {
          "model_module": "@jupyter-widgets/controls",
          "model_name": "HBoxModel",
          "state": {
            "_view_name": "HBoxView",
            "_dom_classes": [],
            "_model_name": "HBoxModel",
            "_view_module": "@jupyter-widgets/controls",
            "_model_module_version": "1.5.0",
            "_view_count": null,
            "_view_module_version": "1.5.0",
            "box_style": "",
            "layout": "IPY_MODEL_de64f3fed971437cb9aa291c84872b91",
            "_model_module": "@jupyter-widgets/controls",
            "children": [
              "IPY_MODEL_0126b0fc1133489f891c85bfc0e64371",
              "IPY_MODEL_2c74ccfcd98841e8a11f81dc840214d8"
            ]
          }
        },
        "de64f3fed971437cb9aa291c84872b91": {
          "model_module": "@jupyter-widgets/base",
          "model_name": "LayoutModel",
          "state": {
            "_view_name": "LayoutView",
            "grid_template_rows": null,
            "right": null,
            "justify_content": null,
            "_view_module": "@jupyter-widgets/base",
            "overflow": null,
            "_model_module_version": "1.2.0",
            "_view_count": null,
            "flex_flow": null,
            "width": null,
            "min_width": null,
            "border": null,
            "align_items": null,
            "bottom": null,
            "_model_module": "@jupyter-widgets/base",
            "top": null,
            "grid_column": null,
            "overflow_y": null,
            "overflow_x": null,
            "grid_auto_flow": null,
            "grid_area": null,
            "grid_template_columns": null,
            "flex": null,
            "_model_name": "LayoutModel",
            "justify_items": null,
            "grid_row": null,
            "max_height": null,
            "align_content": null,
            "visibility": null,
            "align_self": null,
            "height": null,
            "min_height": null,
            "padding": null,
            "grid_auto_rows": null,
            "grid_gap": null,
            "max_width": null,
            "order": null,
            "_view_module_version": "1.2.0",
            "grid_template_areas": null,
            "object_position": null,
            "object_fit": null,
            "grid_auto_columns": null,
            "margin": null,
            "display": null,
            "left": null
          }
        },
        "0126b0fc1133489f891c85bfc0e64371": {
          "model_module": "@jupyter-widgets/controls",
          "model_name": "FloatProgressModel",
          "state": {
            "_view_name": "ProgressView",
            "style": "IPY_MODEL_71debd19f51d43ca8199cd41754ad80c",
            "_dom_classes": [],
            "description": "#1: 100%",
            "_model_name": "FloatProgressModel",
            "bar_style": "success",
            "max": 4,
            "_view_module": "@jupyter-widgets/controls",
            "_model_module_version": "1.5.0",
            "value": 4,
            "_view_count": null,
            "_view_module_version": "1.5.0",
            "orientation": "horizontal",
            "min": 0,
            "description_tooltip": null,
            "_model_module": "@jupyter-widgets/controls",
            "layout": "IPY_MODEL_fda3dc3b79ac45348e674faef282aff6"
          }
        },
        "2c74ccfcd98841e8a11f81dc840214d8": {
          "model_module": "@jupyter-widgets/controls",
          "model_name": "HTMLModel",
          "state": {
            "_view_name": "HTMLView",
            "style": "IPY_MODEL_324c64c57e9c4cafa419df3588bedef8",
            "_dom_classes": [],
            "description": "",
            "_model_name": "HTMLModel",
            "placeholder": "​",
            "_view_module": "@jupyter-widgets/controls",
            "_model_module_version": "1.5.0",
            "value": " 4/4 [00:02&lt;00:00,  1.92ba/s]",
            "_view_count": null,
            "_view_module_version": "1.5.0",
            "description_tooltip": null,
            "_model_module": "@jupyter-widgets/controls",
            "layout": "IPY_MODEL_df65c3626c334b459e562fdb3734e511"
          }
        },
        "71debd19f51d43ca8199cd41754ad80c": {
          "model_module": "@jupyter-widgets/controls",
          "model_name": "ProgressStyleModel",
          "state": {
            "_view_name": "StyleView",
            "_model_name": "ProgressStyleModel",
            "description_width": "initial",
            "_view_module": "@jupyter-widgets/base",
            "_model_module_version": "1.5.0",
            "_view_count": null,
            "_view_module_version": "1.2.0",
            "bar_color": null,
            "_model_module": "@jupyter-widgets/controls"
          }
        },
        "fda3dc3b79ac45348e674faef282aff6": {
          "model_module": "@jupyter-widgets/base",
          "model_name": "LayoutModel",
          "state": {
            "_view_name": "LayoutView",
            "grid_template_rows": null,
            "right": null,
            "justify_content": null,
            "_view_module": "@jupyter-widgets/base",
            "overflow": null,
            "_model_module_version": "1.2.0",
            "_view_count": null,
            "flex_flow": null,
            "width": null,
            "min_width": null,
            "border": null,
            "align_items": null,
            "bottom": null,
            "_model_module": "@jupyter-widgets/base",
            "top": null,
            "grid_column": null,
            "overflow_y": null,
            "overflow_x": null,
            "grid_auto_flow": null,
            "grid_area": null,
            "grid_template_columns": null,
            "flex": null,
            "_model_name": "LayoutModel",
            "justify_items": null,
            "grid_row": null,
            "max_height": null,
            "align_content": null,
            "visibility": null,
            "align_self": null,
            "height": null,
            "min_height": null,
            "padding": null,
            "grid_auto_rows": null,
            "grid_gap": null,
            "max_width": null,
            "order": null,
            "_view_module_version": "1.2.0",
            "grid_template_areas": null,
            "object_position": null,
            "object_fit": null,
            "grid_auto_columns": null,
            "margin": null,
            "display": null,
            "left": null
          }
        },
        "324c64c57e9c4cafa419df3588bedef8": {
          "model_module": "@jupyter-widgets/controls",
          "model_name": "DescriptionStyleModel",
          "state": {
            "_view_name": "StyleView",
            "_model_name": "DescriptionStyleModel",
            "description_width": "",
            "_view_module": "@jupyter-widgets/base",
            "_model_module_version": "1.5.0",
            "_view_count": null,
            "_view_module_version": "1.2.0",
            "_model_module": "@jupyter-widgets/controls"
          }
        },
        "df65c3626c334b459e562fdb3734e511": {
          "model_module": "@jupyter-widgets/base",
          "model_name": "LayoutModel",
          "state": {
            "_view_name": "LayoutView",
            "grid_template_rows": null,
            "right": null,
            "justify_content": null,
            "_view_module": "@jupyter-widgets/base",
            "overflow": null,
            "_model_module_version": "1.2.0",
            "_view_count": null,
            "flex_flow": null,
            "width": null,
            "min_width": null,
            "border": null,
            "align_items": null,
            "bottom": null,
            "_model_module": "@jupyter-widgets/base",
            "top": null,
            "grid_column": null,
            "overflow_y": null,
            "overflow_x": null,
            "grid_auto_flow": null,
            "grid_area": null,
            "grid_template_columns": null,
            "flex": null,
            "_model_name": "LayoutModel",
            "justify_items": null,
            "grid_row": null,
            "max_height": null,
            "align_content": null,
            "visibility": null,
            "align_self": null,
            "height": null,
            "min_height": null,
            "padding": null,
            "grid_auto_rows": null,
            "grid_gap": null,
            "max_width": null,
            "order": null,
            "_view_module_version": "1.2.0",
            "grid_template_areas": null,
            "object_position": null,
            "object_fit": null,
            "grid_auto_columns": null,
            "margin": null,
            "display": null,
            "left": null
          }
        },
        "b1162ccb15c940c69b4c80e639c458f8": {
          "model_module": "@jupyter-widgets/controls",
          "model_name": "HBoxModel",
          "state": {
            "_view_name": "HBoxView",
            "_dom_classes": [],
            "_model_name": "HBoxModel",
            "_view_module": "@jupyter-widgets/controls",
            "_model_module_version": "1.5.0",
            "_view_count": null,
            "_view_module_version": "1.5.0",
            "box_style": "",
            "layout": "IPY_MODEL_3284ea30d6c84a1cac122b45cd8544fd",
            "_model_module": "@jupyter-widgets/controls",
            "children": [
              "IPY_MODEL_5ffeb7294f8249fca7a9d29a1905cafe",
              "IPY_MODEL_eed3b8b94f774b41b46cbea605280cfc"
            ]
          }
        },
        "3284ea30d6c84a1cac122b45cd8544fd": {
          "model_module": "@jupyter-widgets/base",
          "model_name": "LayoutModel",
          "state": {
            "_view_name": "LayoutView",
            "grid_template_rows": null,
            "right": null,
            "justify_content": null,
            "_view_module": "@jupyter-widgets/base",
            "overflow": null,
            "_model_module_version": "1.2.0",
            "_view_count": null,
            "flex_flow": null,
            "width": null,
            "min_width": null,
            "border": null,
            "align_items": null,
            "bottom": null,
            "_model_module": "@jupyter-widgets/base",
            "top": null,
            "grid_column": null,
            "overflow_y": null,
            "overflow_x": null,
            "grid_auto_flow": null,
            "grid_area": null,
            "grid_template_columns": null,
            "flex": null,
            "_model_name": "LayoutModel",
            "justify_items": null,
            "grid_row": null,
            "max_height": null,
            "align_content": null,
            "visibility": null,
            "align_self": null,
            "height": null,
            "min_height": null,
            "padding": null,
            "grid_auto_rows": null,
            "grid_gap": null,
            "max_width": null,
            "order": null,
            "_view_module_version": "1.2.0",
            "grid_template_areas": null,
            "object_position": null,
            "object_fit": null,
            "grid_auto_columns": null,
            "margin": null,
            "display": null,
            "left": null
          }
        },
        "5ffeb7294f8249fca7a9d29a1905cafe": {
          "model_module": "@jupyter-widgets/controls",
          "model_name": "FloatProgressModel",
          "state": {
            "_view_name": "ProgressView",
            "style": "IPY_MODEL_fd235177b44a41769f9cee50c6a48324",
            "_dom_classes": [],
            "description": "Downloading: ",
            "_model_name": "FloatProgressModel",
            "bar_style": "success",
            "max": 1764,
            "_view_module": "@jupyter-widgets/controls",
            "_model_module_version": "1.5.0",
            "value": 1764,
            "_view_count": null,
            "_view_module_version": "1.5.0",
            "orientation": "horizontal",
            "min": 0,
            "description_tooltip": null,
            "_model_module": "@jupyter-widgets/controls",
            "layout": "IPY_MODEL_9b143796eb2c45a98a47c1411d7697b0"
          }
        },
        "eed3b8b94f774b41b46cbea605280cfc": {
          "model_module": "@jupyter-widgets/controls",
          "model_name": "HTMLModel",
          "state": {
            "_view_name": "HTMLView",
            "style": "IPY_MODEL_a491f84ee588499da7107f35f526280a",
            "_dom_classes": [],
            "description": "",
            "_model_name": "HTMLModel",
            "placeholder": "​",
            "_view_module": "@jupyter-widgets/controls",
            "_model_module_version": "1.5.0",
            "value": " 3.90k/? [00:00&lt;00:00, 18.2kB/s]",
            "_view_count": null,
            "_view_module_version": "1.5.0",
            "description_tooltip": null,
            "_model_module": "@jupyter-widgets/controls",
            "layout": "IPY_MODEL_ae9d06338bda4c938034881910ff93ee"
          }
        },
        "fd235177b44a41769f9cee50c6a48324": {
          "model_module": "@jupyter-widgets/controls",
          "model_name": "ProgressStyleModel",
          "state": {
            "_view_name": "StyleView",
            "_model_name": "ProgressStyleModel",
            "description_width": "initial",
            "_view_module": "@jupyter-widgets/base",
            "_model_module_version": "1.5.0",
            "_view_count": null,
            "_view_module_version": "1.2.0",
            "bar_color": null,
            "_model_module": "@jupyter-widgets/controls"
          }
        },
        "9b143796eb2c45a98a47c1411d7697b0": {
          "model_module": "@jupyter-widgets/base",
          "model_name": "LayoutModel",
          "state": {
            "_view_name": "LayoutView",
            "grid_template_rows": null,
            "right": null,
            "justify_content": null,
            "_view_module": "@jupyter-widgets/base",
            "overflow": null,
            "_model_module_version": "1.2.0",
            "_view_count": null,
            "flex_flow": null,
            "width": null,
            "min_width": null,
            "border": null,
            "align_items": null,
            "bottom": null,
            "_model_module": "@jupyter-widgets/base",
            "top": null,
            "grid_column": null,
            "overflow_y": null,
            "overflow_x": null,
            "grid_auto_flow": null,
            "grid_area": null,
            "grid_template_columns": null,
            "flex": null,
            "_model_name": "LayoutModel",
            "justify_items": null,
            "grid_row": null,
            "max_height": null,
            "align_content": null,
            "visibility": null,
            "align_self": null,
            "height": null,
            "min_height": null,
            "padding": null,
            "grid_auto_rows": null,
            "grid_gap": null,
            "max_width": null,
            "order": null,
            "_view_module_version": "1.2.0",
            "grid_template_areas": null,
            "object_position": null,
            "object_fit": null,
            "grid_auto_columns": null,
            "margin": null,
            "display": null,
            "left": null
          }
        },
        "a491f84ee588499da7107f35f526280a": {
          "model_module": "@jupyter-widgets/controls",
          "model_name": "DescriptionStyleModel",
          "state": {
            "_view_name": "StyleView",
            "_model_name": "DescriptionStyleModel",
            "description_width": "",
            "_view_module": "@jupyter-widgets/base",
            "_model_module_version": "1.5.0",
            "_view_count": null,
            "_view_module_version": "1.2.0",
            "_model_module": "@jupyter-widgets/controls"
          }
        },
        "ae9d06338bda4c938034881910ff93ee": {
          "model_module": "@jupyter-widgets/base",
          "model_name": "LayoutModel",
          "state": {
            "_view_name": "LayoutView",
            "grid_template_rows": null,
            "right": null,
            "justify_content": null,
            "_view_module": "@jupyter-widgets/base",
            "overflow": null,
            "_model_module_version": "1.2.0",
            "_view_count": null,
            "flex_flow": null,
            "width": null,
            "min_width": null,
            "border": null,
            "align_items": null,
            "bottom": null,
            "_model_module": "@jupyter-widgets/base",
            "top": null,
            "grid_column": null,
            "overflow_y": null,
            "overflow_x": null,
            "grid_auto_flow": null,
            "grid_area": null,
            "grid_template_columns": null,
            "flex": null,
            "_model_name": "LayoutModel",
            "justify_items": null,
            "grid_row": null,
            "max_height": null,
            "align_content": null,
            "visibility": null,
            "align_self": null,
            "height": null,
            "min_height": null,
            "padding": null,
            "grid_auto_rows": null,
            "grid_gap": null,
            "max_width": null,
            "order": null,
            "_view_module_version": "1.2.0",
            "grid_template_areas": null,
            "object_position": null,
            "object_fit": null,
            "grid_auto_columns": null,
            "margin": null,
            "display": null,
            "left": null
          }
        },
        "16479d0b9ccc40ee8284551c0ac7dfeb": {
          "model_module": "@jupyter-widgets/controls",
          "model_name": "HBoxModel",
          "state": {
            "_view_name": "HBoxView",
            "_dom_classes": [],
            "_model_name": "HBoxModel",
            "_view_module": "@jupyter-widgets/controls",
            "_model_module_version": "1.5.0",
            "_view_count": null,
            "_view_module_version": "1.5.0",
            "box_style": "",
            "layout": "IPY_MODEL_d69bc8e6073b451ab732f999db13360d",
            "_model_module": "@jupyter-widgets/controls",
            "children": [
              "IPY_MODEL_c0de501e7f09458a9d21734c759bb64b",
              "IPY_MODEL_c8603f8fdabc402ea2bea61d3fd67806"
            ]
          }
        },
        "d69bc8e6073b451ab732f999db13360d": {
          "model_module": "@jupyter-widgets/base",
          "model_name": "LayoutModel",
          "state": {
            "_view_name": "LayoutView",
            "grid_template_rows": null,
            "right": null,
            "justify_content": null,
            "_view_module": "@jupyter-widgets/base",
            "overflow": null,
            "_model_module_version": "1.2.0",
            "_view_count": null,
            "flex_flow": null,
            "width": null,
            "min_width": null,
            "border": null,
            "align_items": null,
            "bottom": null,
            "_model_module": "@jupyter-widgets/base",
            "top": null,
            "grid_column": null,
            "overflow_y": null,
            "overflow_x": null,
            "grid_auto_flow": null,
            "grid_area": null,
            "grid_template_columns": null,
            "flex": null,
            "_model_name": "LayoutModel",
            "justify_items": null,
            "grid_row": null,
            "max_height": null,
            "align_content": null,
            "visibility": null,
            "align_self": null,
            "height": null,
            "min_height": null,
            "padding": null,
            "grid_auto_rows": null,
            "grid_gap": null,
            "max_width": null,
            "order": null,
            "_view_module_version": "1.2.0",
            "grid_template_areas": null,
            "object_position": null,
            "object_fit": null,
            "grid_auto_columns": null,
            "margin": null,
            "display": null,
            "left": null
          }
        },
        "c0de501e7f09458a9d21734c759bb64b": {
          "model_module": "@jupyter-widgets/controls",
          "model_name": "FloatProgressModel",
          "state": {
            "_view_name": "ProgressView",
            "style": "IPY_MODEL_151a38b183754f4498a6290c509635a6",
            "_dom_classes": [],
            "description": "Downloading: 100%",
            "_model_name": "FloatProgressModel",
            "bar_style": "success",
            "max": 1451,
            "_view_module": "@jupyter-widgets/controls",
            "_model_module_version": "1.5.0",
            "value": 1451,
            "_view_count": null,
            "_view_module_version": "1.5.0",
            "orientation": "horizontal",
            "min": 0,
            "description_tooltip": null,
            "_model_module": "@jupyter-widgets/controls",
            "layout": "IPY_MODEL_3c633b5773c04e0e808d38c190add496"
          }
        },
        "c8603f8fdabc402ea2bea61d3fd67806": {
          "model_module": "@jupyter-widgets/controls",
          "model_name": "HTMLModel",
          "state": {
            "_view_name": "HTMLView",
            "style": "IPY_MODEL_f8bdbb011d374b3297a0d7c74dafcb26",
            "_dom_classes": [],
            "description": "",
            "_model_name": "HTMLModel",
            "placeholder": "​",
            "_view_module": "@jupyter-widgets/controls",
            "_model_module_version": "1.5.0",
            "value": " 1.45k/1.45k [00:00&lt;00:00, 3.08kB/s]",
            "_view_count": null,
            "_view_module_version": "1.5.0",
            "description_tooltip": null,
            "_model_module": "@jupyter-widgets/controls",
            "layout": "IPY_MODEL_aefac2d7f952488daf317fa60ae02820"
          }
        },
        "151a38b183754f4498a6290c509635a6": {
          "model_module": "@jupyter-widgets/controls",
          "model_name": "ProgressStyleModel",
          "state": {
            "_view_name": "StyleView",
            "_model_name": "ProgressStyleModel",
            "description_width": "initial",
            "_view_module": "@jupyter-widgets/base",
            "_model_module_version": "1.5.0",
            "_view_count": null,
            "_view_module_version": "1.2.0",
            "bar_color": null,
            "_model_module": "@jupyter-widgets/controls"
          }
        },
        "3c633b5773c04e0e808d38c190add496": {
          "model_module": "@jupyter-widgets/base",
          "model_name": "LayoutModel",
          "state": {
            "_view_name": "LayoutView",
            "grid_template_rows": null,
            "right": null,
            "justify_content": null,
            "_view_module": "@jupyter-widgets/base",
            "overflow": null,
            "_model_module_version": "1.2.0",
            "_view_count": null,
            "flex_flow": null,
            "width": null,
            "min_width": null,
            "border": null,
            "align_items": null,
            "bottom": null,
            "_model_module": "@jupyter-widgets/base",
            "top": null,
            "grid_column": null,
            "overflow_y": null,
            "overflow_x": null,
            "grid_auto_flow": null,
            "grid_area": null,
            "grid_template_columns": null,
            "flex": null,
            "_model_name": "LayoutModel",
            "justify_items": null,
            "grid_row": null,
            "max_height": null,
            "align_content": null,
            "visibility": null,
            "align_self": null,
            "height": null,
            "min_height": null,
            "padding": null,
            "grid_auto_rows": null,
            "grid_gap": null,
            "max_width": null,
            "order": null,
            "_view_module_version": "1.2.0",
            "grid_template_areas": null,
            "object_position": null,
            "object_fit": null,
            "grid_auto_columns": null,
            "margin": null,
            "display": null,
            "left": null
          }
        },
        "f8bdbb011d374b3297a0d7c74dafcb26": {
          "model_module": "@jupyter-widgets/controls",
          "model_name": "DescriptionStyleModel",
          "state": {
            "_view_name": "StyleView",
            "_model_name": "DescriptionStyleModel",
            "description_width": "",
            "_view_module": "@jupyter-widgets/base",
            "_model_module_version": "1.5.0",
            "_view_count": null,
            "_view_module_version": "1.2.0",
            "_model_module": "@jupyter-widgets/controls"
          }
        },
        "aefac2d7f952488daf317fa60ae02820": {
          "model_module": "@jupyter-widgets/base",
          "model_name": "LayoutModel",
          "state": {
            "_view_name": "LayoutView",
            "grid_template_rows": null,
            "right": null,
            "justify_content": null,
            "_view_module": "@jupyter-widgets/base",
            "overflow": null,
            "_model_module_version": "1.2.0",
            "_view_count": null,
            "flex_flow": null,
            "width": null,
            "min_width": null,
            "border": null,
            "align_items": null,
            "bottom": null,
            "_model_module": "@jupyter-widgets/base",
            "top": null,
            "grid_column": null,
            "overflow_y": null,
            "overflow_x": null,
            "grid_auto_flow": null,
            "grid_area": null,
            "grid_template_columns": null,
            "flex": null,
            "_model_name": "LayoutModel",
            "justify_items": null,
            "grid_row": null,
            "max_height": null,
            "align_content": null,
            "visibility": null,
            "align_self": null,
            "height": null,
            "min_height": null,
            "padding": null,
            "grid_auto_rows": null,
            "grid_gap": null,
            "max_width": null,
            "order": null,
            "_view_module_version": "1.2.0",
            "grid_template_areas": null,
            "object_position": null,
            "object_fit": null,
            "grid_auto_columns": null,
            "margin": null,
            "display": null,
            "left": null
          }
        },
        "2224cefe91a84167a565e1f667cb0210": {
          "model_module": "@jupyter-widgets/controls",
          "model_name": "HBoxModel",
          "state": {
            "_view_name": "HBoxView",
            "_dom_classes": [],
            "_model_name": "HBoxModel",
            "_view_module": "@jupyter-widgets/controls",
            "_model_module_version": "1.5.0",
            "_view_count": null,
            "_view_module_version": "1.5.0",
            "box_style": "",
            "layout": "IPY_MODEL_45ac52b8a09a4102a26063984f8f63b8",
            "_model_module": "@jupyter-widgets/controls",
            "children": [
              "IPY_MODEL_af43fd8f3305469da068f225bf95f58b",
              "IPY_MODEL_772ba338452641bd91574bbf614cb90f"
            ]
          }
        },
        "45ac52b8a09a4102a26063984f8f63b8": {
          "model_module": "@jupyter-widgets/base",
          "model_name": "LayoutModel",
          "state": {
            "_view_name": "LayoutView",
            "grid_template_rows": null,
            "right": null,
            "justify_content": null,
            "_view_module": "@jupyter-widgets/base",
            "overflow": null,
            "_model_module_version": "1.2.0",
            "_view_count": null,
            "flex_flow": null,
            "width": null,
            "min_width": null,
            "border": null,
            "align_items": null,
            "bottom": null,
            "_model_module": "@jupyter-widgets/base",
            "top": null,
            "grid_column": null,
            "overflow_y": null,
            "overflow_x": null,
            "grid_auto_flow": null,
            "grid_area": null,
            "grid_template_columns": null,
            "flex": null,
            "_model_name": "LayoutModel",
            "justify_items": null,
            "grid_row": null,
            "max_height": null,
            "align_content": null,
            "visibility": null,
            "align_self": null,
            "height": null,
            "min_height": null,
            "padding": null,
            "grid_auto_rows": null,
            "grid_gap": null,
            "max_width": null,
            "order": null,
            "_view_module_version": "1.2.0",
            "grid_template_areas": null,
            "object_position": null,
            "object_fit": null,
            "grid_auto_columns": null,
            "margin": null,
            "display": null,
            "left": null
          }
        },
        "af43fd8f3305469da068f225bf95f58b": {
          "model_module": "@jupyter-widgets/controls",
          "model_name": "FloatProgressModel",
          "state": {
            "_view_name": "ProgressView",
            "style": "IPY_MODEL_6aa899eb9e10492394f3ec718c36fe15",
            "_dom_classes": [],
            "description": "Downloading: 100%",
            "_model_name": "FloatProgressModel",
            "bar_style": "success",
            "max": 1261920069,
            "_view_module": "@jupyter-widgets/controls",
            "_model_module_version": "1.5.0",
            "value": 1261920069,
            "_view_count": null,
            "_view_module_version": "1.5.0",
            "orientation": "horizontal",
            "min": 0,
            "description_tooltip": null,
            "_model_module": "@jupyter-widgets/controls",
            "layout": "IPY_MODEL_0709ce310dd34b41b5f54acde5d53fff"
          }
        },
        "772ba338452641bd91574bbf614cb90f": {
          "model_module": "@jupyter-widgets/controls",
          "model_name": "HTMLModel",
          "state": {
            "_view_name": "HTMLView",
            "style": "IPY_MODEL_531c08fd69b54743a8c97b0858efa570",
            "_dom_classes": [],
            "description": "",
            "_model_name": "HTMLModel",
            "placeholder": "​",
            "_view_module": "@jupyter-widgets/controls",
            "_model_module_version": "1.5.0",
            "value": " 1.26G/1.26G [00:26&lt;00:00, 47.8MB/s]",
            "_view_count": null,
            "_view_module_version": "1.5.0",
            "description_tooltip": null,
            "_model_module": "@jupyter-widgets/controls",
            "layout": "IPY_MODEL_af9a05ed28b944fd8b84e5c39f186f19"
          }
        },
        "6aa899eb9e10492394f3ec718c36fe15": {
          "model_module": "@jupyter-widgets/controls",
          "model_name": "ProgressStyleModel",
          "state": {
            "_view_name": "StyleView",
            "_model_name": "ProgressStyleModel",
            "description_width": "initial",
            "_view_module": "@jupyter-widgets/base",
            "_model_module_version": "1.5.0",
            "_view_count": null,
            "_view_module_version": "1.2.0",
            "bar_color": null,
            "_model_module": "@jupyter-widgets/controls"
          }
        },
        "0709ce310dd34b41b5f54acde5d53fff": {
          "model_module": "@jupyter-widgets/base",
          "model_name": "LayoutModel",
          "state": {
            "_view_name": "LayoutView",
            "grid_template_rows": null,
            "right": null,
            "justify_content": null,
            "_view_module": "@jupyter-widgets/base",
            "overflow": null,
            "_model_module_version": "1.2.0",
            "_view_count": null,
            "flex_flow": null,
            "width": null,
            "min_width": null,
            "border": null,
            "align_items": null,
            "bottom": null,
            "_model_module": "@jupyter-widgets/base",
            "top": null,
            "grid_column": null,
            "overflow_y": null,
            "overflow_x": null,
            "grid_auto_flow": null,
            "grid_area": null,
            "grid_template_columns": null,
            "flex": null,
            "_model_name": "LayoutModel",
            "justify_items": null,
            "grid_row": null,
            "max_height": null,
            "align_content": null,
            "visibility": null,
            "align_self": null,
            "height": null,
            "min_height": null,
            "padding": null,
            "grid_auto_rows": null,
            "grid_gap": null,
            "max_width": null,
            "order": null,
            "_view_module_version": "1.2.0",
            "grid_template_areas": null,
            "object_position": null,
            "object_fit": null,
            "grid_auto_columns": null,
            "margin": null,
            "display": null,
            "left": null
          }
        },
        "531c08fd69b54743a8c97b0858efa570": {
          "model_module": "@jupyter-widgets/controls",
          "model_name": "DescriptionStyleModel",
          "state": {
            "_view_name": "StyleView",
            "_model_name": "DescriptionStyleModel",
            "description_width": "",
            "_view_module": "@jupyter-widgets/base",
            "_model_module_version": "1.5.0",
            "_view_count": null,
            "_view_module_version": "1.2.0",
            "_model_module": "@jupyter-widgets/controls"
          }
        },
        "af9a05ed28b944fd8b84e5c39f186f19": {
          "model_module": "@jupyter-widgets/base",
          "model_name": "LayoutModel",
          "state": {
            "_view_name": "LayoutView",
            "grid_template_rows": null,
            "right": null,
            "justify_content": null,
            "_view_module": "@jupyter-widgets/base",
            "overflow": null,
            "_model_module_version": "1.2.0",
            "_view_count": null,
            "flex_flow": null,
            "width": null,
            "min_width": null,
            "border": null,
            "align_items": null,
            "bottom": null,
            "_model_module": "@jupyter-widgets/base",
            "top": null,
            "grid_column": null,
            "overflow_y": null,
            "overflow_x": null,
            "grid_auto_flow": null,
            "grid_area": null,
            "grid_template_columns": null,
            "flex": null,
            "_model_name": "LayoutModel",
            "justify_items": null,
            "grid_row": null,
            "max_height": null,
            "align_content": null,
            "visibility": null,
            "align_self": null,
            "height": null,
            "min_height": null,
            "padding": null,
            "grid_auto_rows": null,
            "grid_gap": null,
            "max_width": null,
            "order": null,
            "_view_module_version": "1.2.0",
            "grid_template_areas": null,
            "object_position": null,
            "object_fit": null,
            "grid_auto_columns": null,
            "margin": null,
            "display": null,
            "left": null
          }
        }
      }
    },
    "accelerator": "GPU"
  },
  "cells": [
    {
      "cell_type": "markdown",
      "metadata": {
        "id": "view-in-github",
        "colab_type": "text"
      },
      "source": [
        "<a href=\"https://colab.research.google.com/github/gagan3012/-wav2vec2-large-xlsr-punjabi/blob/master/Fine_Tune_XLSR_Wav2Vec2_on_Punjabi_ASR_with_%F0%9F%A4%97_Transformers.ipynb\" target=\"_parent\"><img src=\"https://colab.research.google.com/assets/colab-badge.svg\" alt=\"Open In Colab\"/></a>"
      ]
    },
    {
      "cell_type": "markdown",
      "metadata": {
        "id": "LBSYoWbi-45k"
      },
      "source": [
        "# **Fine-tuning XLSR-Wav2Vec2 for Multi-Lingual ASR with 🤗 Transformers**"
      ]
    },
    {
      "cell_type": "markdown",
      "metadata": {
        "id": "V7YOT2mnUiea"
      },
      "source": [
        "Wav2Vec2 is a pretrained model for Automatic Speech Recognition (ASR) and was released in [September 2020](https://ai.facebook.com/blog/wav2vec-20-learning-the-structure-of-speech-from-raw-audio/) by Alexei Baevski, Michael Auli, and Alex Conneau.  Soon after the superior performance of Wav2Vec2 was demonstrated on the English ASR dataset LibriSpeech, *Facebook AI* presented XLSR-Wav2Vec2 (click [here](https://arxiv.org/abs/2006.13979)). XLSR stands for *cross-lingual  speech representations* and refers to XLSR-Wav2Vec2`s ability to learn speech representations that are useful across multiple languages.\n",
        "\n",
        "Similar to Wav2Vec2, XLSR-Wav2Vec2 learns powerful speech representations from hundreds of thousands of hours of speech in more than 50 languages of unlabeled speech. Similar, to [BERT's masked language modeling](http://jalammar.github.io/illustrated-bert/), the model learns contextualized speech representations by randomly masking feature vectors before passing them to a transformer network.\n",
        "\n",
        "![wav2vec2_structure](https://raw.githubusercontent.com/patrickvonplaten/scientific_images/master/xlsr_wav2vec2.png)\n",
        "\n",
        "The authors show for the first time that massively pretraining an ASR model on cross-lingual unlabeled speech data, followed by language-specific fine-tuning on very little labeled data achieves state-of-the-art results. See Table 1-5 of the official [paper](https://arxiv.org/pdf/2006.13979.pdf)."
      ]
    },
    {
      "cell_type": "markdown",
      "metadata": {
        "id": "nT_QrfWtsxIz"
      },
      "source": [
        "In this notebook, we will give an in-detail explanation of how XLSR-Wav2Vec2's pretrained checkpoint can be fine-tuned on a low-resource ASR dataset of any language. Note that in this notebook, we will fine-tune XLSR-Wav2Vec2 without making use of a language model. It is much simpler and more efficient to use XLSR-Wav2Vec2 without a language model, but better results can be achieved by including a language model. \n",
        "\n",
        "For demonstration purposes, we fine-tune the [wav2vec2-large-xlsr-53](https://huggingface.co/facebook/wav2vec2-large-xlsr-53) on the low resource Turkish ASR dataset of [Common Voice](https://huggingface.co/datasets/common_voice) that contains just ~6h of validated training data."
      ]
    },
    {
      "cell_type": "markdown",
      "metadata": {
        "id": "Gx9OdDYrCtQ1"
      },
      "source": [
        "XLSR-Wav2Vec2 is fine-tuned using Connectionist Temporal Classification (CTC), which is an algorithm that is used to train neural networks for sequence-to-sequence problems and mainly in Automatic Speech Recognition and handwriting recognition. \n",
        "\n",
        "I highly recommend reading the blog post [Sequence Modeling with CTC (2017)](https://distill.pub/2017/ctc/) very well-written blog post by Awni Hannun."
      ]
    },
    {
      "cell_type": "markdown",
      "metadata": {
        "id": "e335hPmdtASZ"
      },
      "source": [
        "Before we start, let's install both `datasets` and `transformers` from master. Also, we need the `torchaudio` and `librosa` package to load audio files and the `jiwer` to evaluate our fine-tuned model using the [word error rate (WER)](https://huggingface.co/metrics/wer) metric ${}^1$."
      ]
    },
    {
      "cell_type": "code",
      "metadata": {
        "id": "c8eh87Hoee5d"
      },
      "source": [
        "%%capture\n",
        "!pip install datasets==1.4.1\n",
        "!pip install transformers==4.4.0\n",
        "!pip install torchaudio\n",
        "!pip install librosa\n",
        "!pip install jiwer"
      ],
      "execution_count": 1,
      "outputs": []
    },
    {
      "cell_type": "markdown",
      "metadata": {
        "id": "Mn9swf6EQ9Vd"
      },
      "source": [
        "\n",
        "\n",
        "\n",
        "---\n",
        "\n",
        "${}^1$ In the [paper](https://arxiv.org/pdf/2006.13979.pdf), the model was evaluated using the phoneme error rate (PER), but by far the most common metric in ASR is the word error rate (WER). To keep this notebook as general as possible we decided to evaluate the model using WER."
      ]
    },
    {
      "cell_type": "markdown",
      "metadata": {
        "id": "0mW-C1Nt-j7k"
      },
      "source": [
        "## Prepare Data, Tokenizer, Feature Extractor"
      ]
    },
    {
      "cell_type": "markdown",
      "metadata": {
        "id": "BeBosnY9BH3e"
      },
      "source": [
        "ASR models transcribe speech to text, which means that we both need a feature extractor that processes the speech signal to the model's input format, *e.g.* a feature vector, and a tokenizer that processes the model's output format to text. \n",
        "\n",
        "In 🤗 Transformers, the XLSR-Wav2Vec2 model is thus accompanied by both a tokenizer, called [Wav2Vec2CTCTokenizer](https://huggingface.co/transformers/master/model_doc/wav2vec2.html#wav2vec2ctctokenizer), and a feature extractor, called [Wav2Vec2FeatureExtractor](https://huggingface.co/transformers/master/model_doc/wav2vec2.html#wav2vec2featureextractor).\n",
        "\n",
        "Let's start by creating the tokenizer responsible for decoding the model's predictions."
      ]
    },
    {
      "cell_type": "markdown",
      "metadata": {
        "id": "sEXEWEJGQPqD"
      },
      "source": [
        "### Create Wav2Vec2CTCTokenizer"
      ]
    },
    {
      "cell_type": "markdown",
      "metadata": {
        "id": "tWmMikuNEKl_"
      },
      "source": [
        "The [pretrained Wav2Vec2 checkpoint]( ) maps the speech signal to a sequence of context representations as illustrated in the figure above. A fine-tuned XLSR-Wav2Vec2 checkpoint needs to map this sequence of context representations to its corresponding transcription so that a linear layer has to be added on top of the transformer block (shown in yellow). This linear layer is used to classifies each context representation to a token class analogous how, *e.g.*, after pretraining a linear layer is added on top of BERT's embeddings for further classification - *cf.* with *\"BERT\"* section of this [blog post](https://huggingface.co/blog/warm-starting-encoder-decoder).\n",
        "\n",
        "The output size of this layer corresponds to the number of tokens in the vocabulary, which does **not** depend on XLSR-Wav2Vec2's pretraining task, but only on the labeled dataset used for fine-tuning. So in the first step, we will take a look at Common Voice and define a vocabulary based on the dataset's transcriptions."
      ]
    },
    {
      "cell_type": "markdown",
      "metadata": {
        "id": "idBczw8mWzgt"
      },
      "source": [
        "First, let's go to [Common Voice](https://commonvoice.mozilla.org/en/datasets) and pick a language to fine-tune XLSR-Wav2Vec2 on. For this notebook, we will use Turkish. \n",
        "\n",
        "For each language-specific dataset, you can find a language code corresponding to your chosen language. On [Common Voice](https://commonvoice.mozilla.org/en/datasets), look for the field \"Version\". The language code then corresponds to the prefix before the underscore. For Turkish, *e.g.* the language code is `\"tr\"`.\n",
        "\n",
        "Great, now we can use 🤗 Datasets' simple API to download the data. The dataset name will be `\"common_voice\"`, the config name corresponds to the language code - `\"tr\"` in our case."
      ]
    },
    {
      "cell_type": "markdown",
      "metadata": {
        "id": "bee4g9rpLxll"
      },
      "source": [
        "Common Voice has many different splits including `invalidated`, which refers to data that was not rated as \"clean enough\" to be considered useful. In this notebook, we will only make use of the splits `\"train\"`, `\"validation\"` and `\"test\"`. \n",
        "\n",
        "Because the Turkish dataset is so small, we will merge both the validation and training data into a training dataset and simply use the test data for validation."
      ]
    },
    {
      "cell_type": "code",
      "metadata": {
        "id": "2MMXcWFFgCXU",
        "colab": {
          "base_uri": "https://localhost:8080/",
          "height": 309,
          "referenced_widgets": [
            "910f5eae43c5442ba52d46072a8bfc48",
            "403c12332327489e8b8355751111d289",
            "8ba84a9edadd48a5a9e59ff21b03988d",
            "5ed517eeaeac4d76997a078c553235c0",
            "6ea748348c334240996c5abc1250e0de",
            "7a4432c05224451ca35108d271c19f10",
            "89414b329fb145eaaeaf05616ee9c5a1",
            "f2eb2267059741dcb9b1717ff50105ee",
            "5dbbb3a1c91e4cad9f0fa35220a97297",
            "a4cdd19a428e4258911593fe2fc8c3ad",
            "8cf3c2c3f4a748ff8de04fe23466426c",
            "e4047756b08849f5b346d13808c54564",
            "b99f8f3424b24421818c819c83b241d4",
            "6575e4d7376f4230815ba0ef35553876",
            "fc2dc0c708544133bd32a5133351ec4b",
            "37e9ad05098c4a98ad1317199b762d9f",
            "13b7ca3a891f472c92b2b148535ccfb8",
            "a9d611e99a214a44aa25f840d560e29d",
            "f30dfdcab1a5416b81acc2a7adc929bd",
            "e5173be0772e4fa8a714e974301841d3",
            "04edc3ddaad14fbf87ad5d7533dc1cf1",
            "55c77e9e40e7402d8c789fc49b51399b",
            "6d1f79df63814ec8a5fc30d6b4e27d3c",
            "4dd9b845f8f14591a1271276dae773c7",
            "aa263404243148e4b353401825c0a15a",
            "47bfe43d53214ed3bbc483b47a2be36c",
            "4f853dd68da547d78014cffece4fadc4",
            "84861c7b80a24a699e1f3be7658c7745",
            "1d126bfc8b2b47bfba19541bd6e9a122",
            "97705cead24249d7a845c3e4d752657e",
            "1e4c307520b04edb8e84dbd9d266f5b2",
            "e040b8d25d354440806d6ea34bdab38f",
            "314ef2def52c445a9149c8e7cb9b20a8",
            "1e6d96cd8e294601be7c6f97c52b8b2e",
            "dc38f7f879e846efb8416936cf78f512",
            "5c54c7455dfb434282a5a4c610638bf4",
            "1cfe5495ee924f51a4adb8a032d14487",
            "9c87ef37f1b44c788477889e4ea551d0",
            "85f54a46b3c0438fa721234a1dcae0bc",
            "5dab11b5b9114cde8492333934f70617",
            "0a1001c78dc648b5b95a37a264050ce1",
            "e520b2aeb4c54951a101f0444a510690",
            "361efb1b2ba04d63a2228e6f0d46ea7a",
            "b402526bd8ce4d638ee2536b220bd406",
            "14ea8f726ff1421797df96ebaacb1e2f",
            "9d65b90205e943e381c3ff17e6eec94f",
            "d3120e6218cc49859d9988c9599131d8",
            "e00dd357a2804ba5a487a06ef21909bb",
            "68e05f71b2594f0c976ca6c341ca03b1",
            "1cc724176f80417096a8643a7b433293",
            "8f577efe87364a018e92f596105aecf6",
            "53506d3cadd54f03b2b7ca614ea41db7",
            "a893fc1ba0c0450c9bc81200d572fce8",
            "f26968c6e4524feeb3a8e0da4ad38b1f",
            "25ebc47a35694fefadfdecc8d0bc9e3f",
            "9fb19ce8b31940d79a244b6c5d7c9658",
            "e715f260139a411cb4b376deea3c496c",
            "a6d1139eb3d2402d929323f538e7b82d",
            "9dc788722ebc4f28b28bf9794aebf31b",
            "2424c940abcf46f4b7eaffb40ed1581d",
            "bc77deda981640028aed6a8ff79b56e9",
            "9aaba4dbebc5484e814326badd380912",
            "d2373c574b0e4b0da066dc6997c85127",
            "0553c23c1a7d4bd08c5cf9a4bdcd0199"
          ]
        },
        "outputId": "c272b186-7f35-4e88-b23d-d64988ea3a30"
      },
      "source": [
        "from datasets import load_dataset, load_metric\n",
        "\n",
        "common_voice_train = load_dataset(\"common_voice\", \"pa-IN\", split=\"train+validation\")\n",
        "common_voice_test = load_dataset(\"common_voice\", \"pa-IN\", split=\"test\")"
      ],
      "execution_count": 2,
      "outputs": [
        {
          "output_type": "display_data",
          "data": {
            "application/vnd.jupyter.widget-view+json": {
              "model_id": "910f5eae43c5442ba52d46072a8bfc48",
              "version_minor": 0,
              "version_major": 2
            },
            "text/plain": [
              "HBox(children=(FloatProgress(value=0.0, description='Downloading', max=4323.0, style=ProgressStyle(description…"
            ]
          },
          "metadata": {
            "tags": []
          }
        },
        {
          "output_type": "stream",
          "text": [
            "Couldn't find file locally at common_voice/common_voice.py, or remotely at https://raw.githubusercontent.com/huggingface/datasets/1.4.1/datasets/common_voice/common_voice.py.\n",
            "The file was picked from the master branch on github instead at https://raw.githubusercontent.com/huggingface/datasets/master/datasets/common_voice/common_voice.py.\n"
          ],
          "name": "stderr"
        },
        {
          "output_type": "stream",
          "text": [
            "\n"
          ],
          "name": "stdout"
        },
        {
          "output_type": "display_data",
          "data": {
            "application/vnd.jupyter.widget-view+json": {
              "model_id": "5dbbb3a1c91e4cad9f0fa35220a97297",
              "version_minor": 0,
              "version_major": 2
            },
            "text/plain": [
              "HBox(children=(FloatProgress(value=0.0, description='Downloading', max=9954.0, style=ProgressStyle(description…"
            ]
          },
          "metadata": {
            "tags": []
          }
        },
        {
          "output_type": "stream",
          "text": [
            "\n",
            "Downloading and preparing dataset common_voice/pa-IN (download: 66.52 MiB, generated: 846.02 KiB, post-processed: Unknown size, total: 67.34 MiB) to /root/.cache/huggingface/datasets/common_voice/pa-IN/6.1.0/0041e06ab061b91d0a23234a2221e87970a19cf3a81b20901474cffffeb7869f...\n"
          ],
          "name": "stdout"
        },
        {
          "output_type": "display_data",
          "data": {
            "application/vnd.jupyter.widget-view+json": {
              "model_id": "13b7ca3a891f472c92b2b148535ccfb8",
              "version_minor": 0,
              "version_major": 2
            },
            "text/plain": [
              "HBox(children=(FloatProgress(value=0.0, description='Downloading', max=69748265.0, style=ProgressStyle(descrip…"
            ]
          },
          "metadata": {
            "tags": []
          }
        },
        {
          "output_type": "stream",
          "text": [
            "\n"
          ],
          "name": "stdout"
        },
        {
          "output_type": "display_data",
          "data": {
            "application/vnd.jupyter.widget-view+json": {
              "model_id": "aa263404243148e4b353401825c0a15a",
              "version_minor": 0,
              "version_major": 2
            },
            "text/plain": [
              "HBox(children=(FloatProgress(value=1.0, bar_style='info', max=1.0), HTML(value='')))"
            ]
          },
          "metadata": {
            "tags": []
          }
        },
        {
          "output_type": "stream",
          "text": [
            "\r"
          ],
          "name": "stdout"
        },
        {
          "output_type": "display_data",
          "data": {
            "application/vnd.jupyter.widget-view+json": {
              "model_id": "314ef2def52c445a9149c8e7cb9b20a8",
              "version_minor": 0,
              "version_major": 2
            },
            "text/plain": [
              "HBox(children=(FloatProgress(value=1.0, bar_style='info', max=1.0), HTML(value='')))"
            ]
          },
          "metadata": {
            "tags": []
          }
        },
        {
          "output_type": "stream",
          "text": [
            "\r"
          ],
          "name": "stdout"
        },
        {
          "output_type": "display_data",
          "data": {
            "application/vnd.jupyter.widget-view+json": {
              "model_id": "0a1001c78dc648b5b95a37a264050ce1",
              "version_minor": 0,
              "version_major": 2
            },
            "text/plain": [
              "HBox(children=(FloatProgress(value=1.0, bar_style='info', max=1.0), HTML(value='')))"
            ]
          },
          "metadata": {
            "tags": []
          }
        },
        {
          "output_type": "stream",
          "text": [
            "\r"
          ],
          "name": "stdout"
        },
        {
          "output_type": "display_data",
          "data": {
            "application/vnd.jupyter.widget-view+json": {
              "model_id": "68e05f71b2594f0c976ca6c341ca03b1",
              "version_minor": 0,
              "version_major": 2
            },
            "text/plain": [
              "HBox(children=(FloatProgress(value=1.0, bar_style='info', max=1.0), HTML(value='')))"
            ]
          },
          "metadata": {
            "tags": []
          }
        },
        {
          "output_type": "stream",
          "text": [
            "\r"
          ],
          "name": "stdout"
        },
        {
          "output_type": "display_data",
          "data": {
            "application/vnd.jupyter.widget-view+json": {
              "model_id": "e715f260139a411cb4b376deea3c496c",
              "version_minor": 0,
              "version_major": 2
            },
            "text/plain": [
              "HBox(children=(FloatProgress(value=1.0, bar_style='info', max=1.0), HTML(value='')))"
            ]
          },
          "metadata": {
            "tags": []
          }
        },
        {
          "output_type": "stream",
          "text": [
            "\rDataset common_voice downloaded and prepared to /root/.cache/huggingface/datasets/common_voice/pa-IN/6.1.0/0041e06ab061b91d0a23234a2221e87970a19cf3a81b20901474cffffeb7869f. Subsequent calls will reuse this data.\n"
          ],
          "name": "stdout"
        },
        {
          "output_type": "stream",
          "text": [
            "Couldn't find file locally at common_voice/common_voice.py, or remotely at https://raw.githubusercontent.com/huggingface/datasets/1.4.1/datasets/common_voice/common_voice.py.\n",
            "The file was picked from the master branch on github instead at https://raw.githubusercontent.com/huggingface/datasets/master/datasets/common_voice/common_voice.py.\n",
            "Reusing dataset common_voice (/root/.cache/huggingface/datasets/common_voice/pa-IN/6.1.0/0041e06ab061b91d0a23234a2221e87970a19cf3a81b20901474cffffeb7869f)\n"
          ],
          "name": "stderr"
        }
      ]
    },
    {
      "cell_type": "markdown",
      "metadata": {
        "id": "ri5y5N_HMANq"
      },
      "source": [
        "Many ASR datasets only provide the target text, `'sentence'` for each audio file `'path'`. Common Voice actually provides much more information about each audio file, such as the `'accent'`, etc. However, we want to keep the notebook as general as possible, so that we will only consider the transcribed text for fine-tuning.\n",
        "\n"
      ]
    },
    {
      "cell_type": "code",
      "metadata": {
        "id": "kbyq6lDgQc2a"
      },
      "source": [
        "common_voice_train = common_voice_train.remove_columns([\"accent\", \"age\", \"client_id\", \"down_votes\", \"gender\", \"locale\", \"segment\", \"up_votes\"])\n",
        "common_voice_test = common_voice_test.remove_columns([\"accent\", \"age\", \"client_id\", \"down_votes\", \"gender\", \"locale\", \"segment\", \"up_votes\"])"
      ],
      "execution_count": 3,
      "outputs": []
    },
    {
      "cell_type": "markdown",
      "metadata": {
        "id": "Go9Hq4e4NDT9"
      },
      "source": [
        "Let's write a short function to display some random samples of the dataset and run it a couple of times to get a feeling for the transcriptions."
      ]
    },
    {
      "cell_type": "code",
      "metadata": {
        "id": "72737oog2F6U"
      },
      "source": [
        "from datasets import ClassLabel\n",
        "import random\n",
        "import pandas as pd\n",
        "from IPython.display import display, HTML\n",
        "\n",
        "def show_random_elements(dataset, num_examples=10):\n",
        "    assert num_examples <= len(dataset), \"Can't pick more elements than there are in the dataset.\"\n",
        "    picks = []\n",
        "    for _ in range(num_examples):\n",
        "        pick = random.randint(0, len(dataset)-1)\n",
        "        while pick in picks:\n",
        "            pick = random.randint(0, len(dataset)-1)\n",
        "        picks.append(pick)\n",
        "    \n",
        "    df = pd.DataFrame(dataset[picks])\n",
        "    display(HTML(df.to_html()))"
      ],
      "execution_count": 4,
      "outputs": []
    },
    {
      "cell_type": "code",
      "metadata": {
        "colab": {
          "base_uri": "https://localhost:8080/",
          "height": 665
        },
        "id": "K_JUmf3G3b9S",
        "outputId": "26112b2c-30b0-4c25-e6fd-6445492eed34"
      },
      "source": [
        "show_random_elements(common_voice_train.remove_columns([\"path\"]), num_examples=20)"
      ],
      "execution_count": 5,
      "outputs": [
        {
          "output_type": "display_data",
          "data": {
            "text/html": [
              "<table border=\"1\" class=\"dataframe\">\n",
              "  <thead>\n",
              "    <tr style=\"text-align: right;\">\n",
              "      <th></th>\n",
              "      <th>sentence</th>\n",
              "    </tr>\n",
              "  </thead>\n",
              "  <tbody>\n",
              "    <tr>\n",
              "      <th>0</th>\n",
              "      <td>ਅਦਾਲਤ ਵਿੱਚ ਉਨ੍ਹਾਂ ਦੀ ਸੁਣਵਾਈ ਨਹੀਂ</td>\n",
              "    </tr>\n",
              "    <tr>\n",
              "      <th>1</th>\n",
              "      <td>ਮੁਜਰਮਾਂ ਨਾਲ ਮਿਲ ਕੇ ਸਰਦਾਰ ਬਣ ਜਾਵਾਂਗਾ</td>\n",
              "    </tr>\n",
              "    <tr>\n",
              "      <th>2</th>\n",
              "      <td>ਪੂਰਾ ਆਸ਼੍ਰਮ ਹੈਰਾਨ ਹੋਇਆ</td>\n",
              "    </tr>\n",
              "    <tr>\n",
              "      <th>3</th>\n",
              "      <td>ਖੁਸ਼ ਰਹੋ ਜਿਸ ਦੇ ਕਿ ਤੁਸੀਂ ਹੱਕਦਾਰ ਹੋ</td>\n",
              "    </tr>\n",
              "    <tr>\n",
              "      <th>4</th>\n",
              "      <td>ਫੇਰ ਟੈਕਸੀ ਲੈ ਕੇ ਸਾਡੇ ਕੋਲ਼ ਆਇਆ ਸੀ</td>\n",
              "    </tr>\n",
              "    <tr>\n",
              "      <th>5</th>\n",
              "      <td>ਚਲੋ ਇਨ੍ਹਾਂ ਲੀਡਰਾਂ ਭੁੱਲ ਮੰਨੀ ਤਾਂ ਸਹੀ</td>\n",
              "    </tr>\n",
              "    <tr>\n",
              "      <th>6</th>\n",
              "      <td>ਗੋਲਡ ਤੇ ਸਟੀਕ ਬੈਠਿਆ ਅਭਿਨਵ ਦਾ ਨਿਸ਼ਾਨਾ</td>\n",
              "    </tr>\n",
              "    <tr>\n",
              "      <th>7</th>\n",
              "      <td>ਨਸ਼ਿਆਂ ਨੂੰ ਰੋਕਣ ਲਈ ਵੀ ਫ਼ਿਲਮ ਬਣਾਈ</td>\n",
              "    </tr>\n",
              "    <tr>\n",
              "      <th>8</th>\n",
              "      <td>ਪਰ ਉਹ ਗੱਲਾਂ ਮਕਾਨਕੀ ਕਿਸਮ ਦੀਆਂ ਹੀ ਹੁੰਦੀਆਂ</td>\n",
              "    </tr>\n",
              "    <tr>\n",
              "      <th>9</th>\n",
              "      <td>ਕਦੇ ਕਦੇ ਕੁੱਝ ਹੋਰ ਦੇਖਣ ਨੂੰ ਮਿਲਦਾ ਹੈ</td>\n",
              "    </tr>\n",
              "    <tr>\n",
              "      <th>10</th>\n",
              "      <td>ਪੁਲਾੜ ਵਿੱਚ ਵੀ ਉਡਾਰੀਆਂ ਮਾਰ ਰਹੀਆਂ ਹਨ</td>\n",
              "    </tr>\n",
              "    <tr>\n",
              "      <th>11</th>\n",
              "      <td>ਉਸ ਨੇ ਟਾਲਸਟਾਏ ਨਾਲ ਚਿੱਠੀ ਪੱਤਰ ਕੀਤਾ</td>\n",
              "    </tr>\n",
              "    <tr>\n",
              "      <th>12</th>\n",
              "      <td>ਕਾਲਜ ਵੀ ਤੰਗ ਜਿਹੀ ਥਾਂ ਸੀ</td>\n",
              "    </tr>\n",
              "    <tr>\n",
              "      <th>13</th>\n",
              "      <td>ਦਿਲ ਦਿਮਾਗ ਚ ਡੂੰਘੀ ਤਰ੍ਹਾਂ ਵਸ ਜਾਂਦੀ ਹੈ</td>\n",
              "    </tr>\n",
              "    <tr>\n",
              "      <th>14</th>\n",
              "      <td>ਪੁੱਤ ਨੂੰ ਜਹਿਰ ਦੇ ਰਿਹਾ ਸੀ</td>\n",
              "    </tr>\n",
              "    <tr>\n",
              "      <th>15</th>\n",
              "      <td>ਹਰ ਹੀਲੇ ਵਸੀਲੇ ਤੇ ਅਧਿਕਾਰ ਜਮਾਂਵਾਂਗਾ</td>\n",
              "    </tr>\n",
              "    <tr>\n",
              "      <th>16</th>\n",
              "      <td>ਅਸੀਂ ਤਾਂ ਵੰਡੇ ਜਾ ਚੁੱਕੇ ਹਾਂ</td>\n",
              "    </tr>\n",
              "    <tr>\n",
              "      <th>17</th>\n",
              "      <td>ਲਾਟੀ ਦੀ ਦੁਕਾਨ ਤੇ ਬੈਠ ਕੇ ਚਾਹ ਪਾਣੀ ਛਕਦੇ</td>\n",
              "    </tr>\n",
              "    <tr>\n",
              "      <th>18</th>\n",
              "      <td>ਉਸ ਕੋਲ ਲੋਕ ਕਹਾਣੀਆਂ ਦਾ ਅਥਾਹ ਖ਼ਜ਼ਾਨਾ ਸੀ</td>\n",
              "    </tr>\n",
              "    <tr>\n",
              "      <th>19</th>\n",
              "      <td>ਉਹ ਆਪਣੇ ਨੁਮਾਇੰਦਿਆਂ ਬਾਰੇ ਆਪ ਫੈਸਲਾ ਕਰਨ</td>\n",
              "    </tr>\n",
              "  </tbody>\n",
              "</table>"
            ],
            "text/plain": [
              "<IPython.core.display.HTML object>"
            ]
          },
          "metadata": {
            "tags": []
          }
        }
      ]
    },
    {
      "cell_type": "markdown",
      "metadata": {
        "id": "fowcOllGNNju"
      },
      "source": [
        "Alright! The transcriptions look fairly clean. Having translated the transcribed sentences (I'm sadly not a native speaker in Turkish), it seems that the language corresponds more to written text than noisy dialogue. This makes sense taking into account that [Common Voice](https://huggingface.co/datasets/common_voice) is a crowd-sourced read speech corpus."
      ]
    },
    {
      "cell_type": "markdown",
      "metadata": {
        "id": "vq7OR50LN49m"
      },
      "source": [
        "We can see that the transcriptions contain some special characters, such as `,.?!;:`. Without a language model, it is much harder to classify speech chunks to such special characters because they don't really correspond to a characteristic sound unit. *E.g.*, the letter `\"s\"` has a more or less clear sound, whereas the special character `\".\"` does not.\n",
        "Also in order to understand the meaning of a speech signal, it is usually not necessary to include special characters in the transcription.\n",
        "\n",
        "In addition, we normalize the text to only have lower case letters and append a word separator token at the end."
      ]
    },
    {
      "cell_type": "code",
      "metadata": {
        "id": "svKzVJ_hQGK6"
      },
      "source": [
        "import re\n",
        "chars_to_ignore_regex = '[\\,\\?\\.\\!\\-\\;\\:\\\"\\“\\%\\‘\\”\\�]'\n",
        "\n",
        "def remove_special_characters(batch):\n",
        "    batch[\"sentence\"] = re.sub(chars_to_ignore_regex, '', batch[\"sentence\"]).lower() + \" \"\n",
        "    return batch"
      ],
      "execution_count": 6,
      "outputs": []
    },
    {
      "cell_type": "code",
      "metadata": {
        "colab": {
          "base_uri": "https://localhost:8080/",
          "height": 116,
          "referenced_widgets": [
            "09622265cf284820bc90063e8754b9de",
            "6e6170360ce34d60a67d9df4d222b438",
            "d6e356ea32eb4436970c5b5282bdd44f",
            "7004bd6000ea4bfb8dd4f1e2553d4cba",
            "d1ad7dcf57d24c3e81838f3b41cf0736",
            "fe2305f6a08645db880f90a0903f76e0",
            "73218c2f2f1d4902b176ffbd666e6fad",
            "c3762705828e4ef7876f0ca1f3f655e9",
            "284cf512467f48fdb42d9b6dc9c68540",
            "ae3e74c958274300bdc538bcfb1e2855",
            "39cb598f72c8475e96c6186ed1382dac",
            "e5b99a6b81e24b62bced6be45606bfdb",
            "b3c1fc7e9e8b446aa918aeba2b6a8903",
            "0dc59dfab46c4e9fa443e15fd3861095",
            "d049856d8ab44ddeba5c4477b345d358",
            "2905aa1846334ccb8a9f4232c8210168"
          ]
        },
        "id": "XIHocAuTQbBR",
        "outputId": "1f25edf9-01e3-420b-8514-18cffd947a21"
      },
      "source": [
        "common_voice_train = common_voice_train.map(remove_special_characters)\n",
        "common_voice_test = common_voice_test.map(remove_special_characters)"
      ],
      "execution_count": 7,
      "outputs": [
        {
          "output_type": "display_data",
          "data": {
            "application/vnd.jupyter.widget-view+json": {
              "model_id": "09622265cf284820bc90063e8754b9de",
              "version_minor": 0,
              "version_major": 2
            },
            "text/plain": [
              "HBox(children=(FloatProgress(value=0.0, max=255.0), HTML(value='')))"
            ]
          },
          "metadata": {
            "tags": []
          }
        },
        {
          "output_type": "stream",
          "text": [
            "\n"
          ],
          "name": "stdout"
        },
        {
          "output_type": "display_data",
          "data": {
            "application/vnd.jupyter.widget-view+json": {
              "model_id": "284cf512467f48fdb42d9b6dc9c68540",
              "version_minor": 0,
              "version_major": 2
            },
            "text/plain": [
              "HBox(children=(FloatProgress(value=0.0, max=116.0), HTML(value='')))"
            ]
          },
          "metadata": {
            "tags": []
          }
        },
        {
          "output_type": "stream",
          "text": [
            "\n"
          ],
          "name": "stdout"
        }
      ]
    },
    {
      "cell_type": "code",
      "metadata": {
        "colab": {
          "base_uri": "https://localhost:8080/",
          "height": 357
        },
        "id": "RBDRAAYxRE6n",
        "outputId": "b99a267a-4c40-4035-d4a2-ce67f419f581"
      },
      "source": [
        "show_random_elements(common_voice_train.remove_columns([\"path\"]))"
      ],
      "execution_count": 8,
      "outputs": [
        {
          "output_type": "display_data",
          "data": {
            "text/html": [
              "<table border=\"1\" class=\"dataframe\">\n",
              "  <thead>\n",
              "    <tr style=\"text-align: right;\">\n",
              "      <th></th>\n",
              "      <th>sentence</th>\n",
              "    </tr>\n",
              "  </thead>\n",
              "  <tbody>\n",
              "    <tr>\n",
              "      <th>0</th>\n",
              "      <td>ਸਭ ਤੋਂ ਪਹਿਲਾਂ ਭਾਦਸੋਂ ਸਰਕਲ ਦੇ ਜਥੇਦਾਰ ਬਣੇ</td>\n",
              "    </tr>\n",
              "    <tr>\n",
              "      <th>1</th>\n",
              "      <td>ਆਪਣੇ ਨਹੁੰਆਂ ਨੂੰ ਚੰਗੀ ਸ਼ੇਪ ਦਿਓ</td>\n",
              "    </tr>\n",
              "    <tr>\n",
              "      <th>2</th>\n",
              "      <td>ਕੁੱਝ ਧਿਆਨਯੋਗ ਗੱਲਾਂ ਇਸ ਤਰ੍ਹਾਂ ਹਨ</td>\n",
              "    </tr>\n",
              "    <tr>\n",
              "      <th>3</th>\n",
              "      <td>ਊਠਾਂ ਬੈਲਾਂ ਦੀ ਸਵਾਰੀ ਨਾ ਬਿਜਲੀ ਦੀ ਚਿੰਤਾ</td>\n",
              "    </tr>\n",
              "    <tr>\n",
              "      <th>4</th>\n",
              "      <td>ਪੁਲਾੜ ਵਿੱਚ ਵੀ ਉਡਾਰੀਆਂ ਮਾਰ ਰਹੀਆਂ ਹਨ</td>\n",
              "    </tr>\n",
              "    <tr>\n",
              "      <th>5</th>\n",
              "      <td>ਨਾ ਹੀ ਕਿਸੇ ਕਿਸਮ ਦੇ ਲਾਲਚ ਜਾਂ ਨਸ਼ਿਆਂ ਦੀ ਵੰਡ ਹੋਵੇਗੀ</td>\n",
              "    </tr>\n",
              "    <tr>\n",
              "      <th>6</th>\n",
              "      <td>ਡਾਕਟਰ ਦਾ ਜਵਾਬ ਸੀ ਕਿਉਂਕਿ ਲੋਕ ਬਹੁਤ ਸਾਫ ਸੁਥਰੇ ਵਾਤਾਵਰਣ ਵਿਚ ਰਹਿੰਦੇ ਹਨ</td>\n",
              "    </tr>\n",
              "    <tr>\n",
              "      <th>7</th>\n",
              "      <td>ਕਿਧਰੇ ਮਨੁੱਖੀ ਬੰਬ ਆਪਣਾ ਕਾਰਾ ਕਰ ਰਹੇ ਹਨ</td>\n",
              "    </tr>\n",
              "    <tr>\n",
              "      <th>8</th>\n",
              "      <td>ਖੁਸ਼ ਰਹੋ ਜਿਸ ਦੇ ਕਿ ਤੁਸੀਂ ਹੱਕਦਾਰ ਹੋ</td>\n",
              "    </tr>\n",
              "    <tr>\n",
              "      <th>9</th>\n",
              "      <td>ਇਸ ਮਗਰੋਂ ਮਾਈਕ ਹਰਭਜਨ ਮਾਨ ਨੇ ਸੰਭਾਲਿਆ</td>\n",
              "    </tr>\n",
              "  </tbody>\n",
              "</table>"
            ],
            "text/plain": [
              "<IPython.core.display.HTML object>"
            ]
          },
          "metadata": {
            "tags": []
          }
        }
      ]
    },
    {
      "cell_type": "markdown",
      "metadata": {
        "id": "jwfaptH5RJwA"
      },
      "source": [
        "Good! This looks better. We have removed most special characters from transcriptions and normalized them to lower-case only.\n",
        "\n",
        "In CTC, it is common to classify speech chunks into letters, so we will do the same here. \n",
        "Let's extract all distinct letters of the training and test data and build our vocabulary from this set of letters.\n",
        "\n",
        "We write a mapping function that concatenates all transcriptions into one long transcription and then transforms the string into a set of chars. \n",
        "It is important to pass the argument `batched=True` to the `map(...)` function so that the mapping function has access to all transcriptions at once."
      ]
    },
    {
      "cell_type": "code",
      "metadata": {
        "id": "LwCshNbbeRZR"
      },
      "source": [
        "def extract_all_chars(batch):\n",
        "  all_text = \" \".join(batch[\"sentence\"])\n",
        "  vocab = list(set(all_text))\n",
        "  return {\"vocab\": [vocab], \"all_text\": [all_text]}"
      ],
      "execution_count": 9,
      "outputs": []
    },
    {
      "cell_type": "code",
      "metadata": {
        "colab": {
          "base_uri": "https://localhost:8080/",
          "height": 116,
          "referenced_widgets": [
            "3a4a1f2e35714906bcf7a17a9c979171",
            "61ed9d1b846b48ba8c6afbee3a5a64df",
            "4409be18be3048aaa4b0afc8611a5d04",
            "2521207c3ab9432186332886699470c1",
            "974e841cd7c148778db63640fe763ea9",
            "26135afef7b442219d823072db8481e3",
            "62743806b56242bbbbc033cc1f6cc41f",
            "72626ad5dcbc41449715865f2475df68",
            "a8b5afa9ec19451faa5e6b7691b9b34a",
            "1ccf586d0c7a4f7c86138351b8fb382f",
            "c1c5f53cf5ad4d758de9384db7d1ac53",
            "d8e37305e2d24f1a9df139be70c93ee2",
            "9e66f6d42ce24a0fbde233e92b4c1b16",
            "ae1ab7635017435d8728e41be6d70db8",
            "105d7465fff64d099c908b33ef0c4989",
            "0215cbf0e36f481abc2237db6cb1bb00"
          ]
        },
        "id": "_m6uUjjcfbjH",
        "outputId": "fac477d5-30d0-43b7-def6-6214a2476974"
      },
      "source": [
        "vocab_train = common_voice_train.map(extract_all_chars, batched=True, batch_size=-1, keep_in_memory=True, remove_columns=common_voice_train.column_names)\n",
        "vocab_test = common_voice_test.map(extract_all_chars, batched=True, batch_size=-1, keep_in_memory=True, remove_columns=common_voice_test.column_names)"
      ],
      "execution_count": 10,
      "outputs": [
        {
          "output_type": "display_data",
          "data": {
            "application/vnd.jupyter.widget-view+json": {
              "model_id": "3a4a1f2e35714906bcf7a17a9c979171",
              "version_minor": 0,
              "version_major": 2
            },
            "text/plain": [
              "HBox(children=(FloatProgress(value=0.0, max=1.0), HTML(value='')))"
            ]
          },
          "metadata": {
            "tags": []
          }
        },
        {
          "output_type": "stream",
          "text": [
            "\n"
          ],
          "name": "stdout"
        },
        {
          "output_type": "display_data",
          "data": {
            "application/vnd.jupyter.widget-view+json": {
              "model_id": "a8b5afa9ec19451faa5e6b7691b9b34a",
              "version_minor": 0,
              "version_major": 2
            },
            "text/plain": [
              "HBox(children=(FloatProgress(value=0.0, max=1.0), HTML(value='')))"
            ]
          },
          "metadata": {
            "tags": []
          }
        },
        {
          "output_type": "stream",
          "text": [
            "\n"
          ],
          "name": "stdout"
        }
      ]
    },
    {
      "cell_type": "markdown",
      "metadata": {
        "id": "7oVgE8RZSJNP"
      },
      "source": [
        "Now, we create the union of all distinct letters in the training dataset and test dataset and convert the resulting list into an enumerated dictionary."
      ]
    },
    {
      "cell_type": "code",
      "metadata": {
        "id": "aQfneNsmlJI0"
      },
      "source": [
        "vocab_list = list(set(vocab_train[\"vocab\"][0]) | set(vocab_test[\"vocab\"][0]))"
      ],
      "execution_count": 11,
      "outputs": []
    },
    {
      "cell_type": "code",
      "metadata": {
        "colab": {
          "base_uri": "https://localhost:8080/"
        },
        "id": "_0kRndSvqaKk",
        "outputId": "181bc367-696e-4015-acfc-a8eb763188d5"
      },
      "source": [
        "vocab_dict = {v: k for k, v in enumerate(vocab_list)}\n",
        "vocab_dict"
      ],
      "execution_count": 12,
      "outputs": [
        {
          "output_type": "execute_result",
          "data": {
            "text/plain": [
              "{' ': 55,\n",
              " 'ਂ': 50,\n",
              " 'ਅ': 11,\n",
              " 'ਆ': 46,\n",
              " 'ਇ': 48,\n",
              " 'ਈ': 43,\n",
              " 'ਉ': 38,\n",
              " 'ਊ': 56,\n",
              " 'ਏ': 15,\n",
              " 'ਐ': 52,\n",
              " 'ਓ': 51,\n",
              " 'ਔ': 34,\n",
              " 'ਕ': 24,\n",
              " 'ਖ': 47,\n",
              " 'ਗ': 18,\n",
              " 'ਘ': 37,\n",
              " 'ਚ': 31,\n",
              " 'ਛ': 33,\n",
              " 'ਜ': 6,\n",
              " 'ਝ': 59,\n",
              " 'ਟ': 42,\n",
              " 'ਠ': 39,\n",
              " 'ਡ': 53,\n",
              " 'ਢ': 2,\n",
              " 'ਣ': 30,\n",
              " 'ਤ': 13,\n",
              " 'ਥ': 49,\n",
              " 'ਦ': 58,\n",
              " 'ਧ': 10,\n",
              " 'ਨ': 5,\n",
              " 'ਪ': 27,\n",
              " 'ਫ': 35,\n",
              " 'ਬ': 1,\n",
              " 'ਭ': 40,\n",
              " 'ਮ': 23,\n",
              " 'ਯ': 32,\n",
              " 'ਰ': 60,\n",
              " 'ਲ': 7,\n",
              " 'ਲ਼': 41,\n",
              " 'ਵ': 22,\n",
              " 'ਸ਼': 54,\n",
              " 'ਸ': 20,\n",
              " 'ਹ': 17,\n",
              " '਼': 19,\n",
              " 'ਾ': 8,\n",
              " 'ਿ': 14,\n",
              " 'ੀ': 28,\n",
              " 'ੁ': 44,\n",
              " 'ੂ': 45,\n",
              " 'ੇ': 4,\n",
              " 'ੈ': 29,\n",
              " 'ੋ': 21,\n",
              " 'ੌ': 26,\n",
              " '੍': 57,\n",
              " 'ਖ਼': 12,\n",
              " 'ਗ਼': 61,\n",
              " 'ਜ਼': 16,\n",
              " 'ੜ': 0,\n",
              " 'ਫ਼': 25,\n",
              " 'ੰ': 3,\n",
              " 'ੱ': 36,\n",
              " '…': 9}"
            ]
          },
          "metadata": {
            "tags": []
          },
          "execution_count": 12
        }
      ]
    },
    {
      "cell_type": "markdown",
      "metadata": {
        "id": "JOSzbvs9SXT1"
      },
      "source": [
        "Cool, we see that all letters of the alphabet occur in the dataset (which is not really surprising) and we also extracted the special characters `\" \"` and `'`. Note that we did not exclude those special characters because: \n",
        "\n",
        "- The model has to learn to predict when a word is finished or else the model prediction would always be a sequence of chars which would make it impossible to separate words from each other.\n",
        "- From the transcriptions above it seems that words that include an apostrophe, such as `maktouf'un` do exist in Turkish, so I decided to keep the apostrophe in the dataset. This might be a wrong assumption though.\n",
        "\n",
        "One should always keep in mind that the data-preprocessing is a very important step before training your model. E.g., we don't want our model to differentiate between `a` and `A` just because we forgot to normalize the data. The difference between `a` and `A` does not depend on the \"sound\" of the letter at all, but more on grammatical rules - *e.g.* use a capitalized letter at the beginning of the sentence. So it is sensible to remove the difference between capitalized and non-capitalized letters so that the model has an easier time learning to transcribe speech. \n",
        "\n",
        "It is always advantageous to get help from a native speaker of the language you would like to transcribe to verify whether the assumptions you made are sensible, *e.g.* I should have made sure that keeping `'`, but removing other special characters is a sensible choice for Turkish. "
      ]
    },
    {
      "cell_type": "markdown",
      "metadata": {
        "id": "b1fBRCn-TRaO"
      },
      "source": [
        "To make it clearer that `\" \"` has its own token class, we give it a more visible character `|`. In addition, we also add an \"unknown\" token so that the model can later deal with characters not encountered in Common Voice's training set. \n",
        "\n",
        "Finally, we also add a padding token that corresponds to CTC's \"*blank token*\". The \"blank token\" is a core component of the CTC algorithm. For more information, please take a look at the \"Alignment\" section [here](https://distill.pub/2017/ctc/)."
      ]
    },
    {
      "cell_type": "code",
      "metadata": {
        "id": "npbIbBoLgaFX"
      },
      "source": [
        "vocab_dict[\"|\"] = vocab_dict[\" \"]\n",
        "del vocab_dict[\" \"]"
      ],
      "execution_count": 13,
      "outputs": []
    },
    {
      "cell_type": "code",
      "metadata": {
        "id": "znF0bNunsjbl",
        "colab": {
          "base_uri": "https://localhost:8080/"
        },
        "outputId": "4ab4d123-8705-4672-ddcb-99172396848e"
      },
      "source": [
        "vocab_dict[\"[UNK]\"] = len(vocab_dict)\n",
        "vocab_dict[\"[PAD]\"] = len(vocab_dict)\n",
        "len(vocab_dict)"
      ],
      "execution_count": 14,
      "outputs": [
        {
          "output_type": "execute_result",
          "data": {
            "text/plain": [
              "64"
            ]
          },
          "metadata": {
            "tags": []
          },
          "execution_count": 14
        }
      ]
    },
    {
      "cell_type": "markdown",
      "metadata": {
        "id": "SFPGfet8U5sL"
      },
      "source": [
        "Cool, now our vocabulary is complete and consists of 39 tokens, which means that the linear layer that we will add on top of the pretrained XLSR-Wav2Vec2 checkpoint will have an output dimension of 39."
      ]
    },
    {
      "cell_type": "markdown",
      "metadata": {
        "id": "1CujRgBNVRaD"
      },
      "source": [
        "Let's now save the vocabulary as a json file."
      ]
    },
    {
      "cell_type": "code",
      "metadata": {
        "id": "ehyUoh9vk191"
      },
      "source": [
        "import json\n",
        "with open('vocab.json', 'w') as vocab_file:\n",
        "    json.dump(vocab_dict, vocab_file)"
      ],
      "execution_count": 15,
      "outputs": []
    },
    {
      "cell_type": "markdown",
      "metadata": {
        "id": "SHJDaKlIVVim"
      },
      "source": [
        "In a final step, we use the json file to instantiate an object of the `Wav2Vec2CTCTokenizer` class."
      ]
    },
    {
      "cell_type": "code",
      "metadata": {
        "id": "xriFGEWQkO4M"
      },
      "source": [
        "from transformers import Wav2Vec2CTCTokenizer\n",
        "\n",
        "tokenizer = Wav2Vec2CTCTokenizer(\"./vocab.json\", unk_token=\"[UNK]\", pad_token=\"[PAD]\", word_delimiter_token=\"|\")"
      ],
      "execution_count": 16,
      "outputs": []
    },
    {
      "cell_type": "markdown",
      "metadata": {
        "id": "KvL12DrNV4cx"
      },
      "source": [
        "Next, we will create the feature extractor."
      ]
    },
    {
      "cell_type": "markdown",
      "metadata": {
        "id": "mYcIiR2FQ96i"
      },
      "source": [
        "### Create XLSR-Wav2Vec2 Feature Extractor"
      ]
    },
    {
      "cell_type": "markdown",
      "metadata": {
        "id": "Y6mDEyW719rx"
      },
      "source": [
        "Speech is a continuous signal and to be treated by computers, it first has to be discretized, which is usually called **sampling**. The sampling rate hereby plays an important role in that it defines how many data points of the speech signal are measured per second. Therefore, sampling with a higher sampling rate results in a better approximation of the *real* speech signal but also necessitates more values per second.\n",
        "\n",
        "A pretrained checkpoint expects its input data to have been sampled more or less from the same distribution as the data it was trained on. The same speech signals sampled at two different rates have a very different distribution, *e.g.*, doubling the sampling rate results in data points being twice as long. Thus, \n",
        "before fine-tuning a pretrained checkpoint of an ASR model, it is crucial to verify that the sampling rate of the data that was used to pretrain the model matches the sampling rate of the dataset used to fine-tune the model.\n",
        "\n",
        "XLSR-Wav2Vec2 was pretrained on the audio data of [Babel](https://huggingface.co/datasets/librispeech_asr), \n",
        "[Multilingual LibriSpeech (MLS)](https://ai.facebook.com/blog/a-new-open-data-set-for-multilingual-speech-research/), and [Common Voice](https://huggingface.co/datasets/common_voice). Most of those datasets were sampled at 16kHz, so that Common Voice, sampled at 48kHz, has to be downsampled to 16kHz for training. Therefore, we will have to downsample our fine-tuning data to 16kHz in the following.\n",
        "\n"
      ]
    },
    {
      "cell_type": "markdown",
      "metadata": {
        "id": "KuUbPW7oV-B5"
      },
      "source": [
        "A XLSR-Wav2Vec2 feature extractor object requires the following parameters to be instantiated:\n",
        "\n",
        "- `feature_size`: Speech models take a sequence of feature vectors as an input. While the length of this sequence obviously varies, the feature size should not. In the case of Wav2Vec2, the feature size is 1 because the model was trained on the raw speech signal ${}^2$.\n",
        "- `sampling_rate`: The sampling rate at which the model is trained on.\n",
        "- `padding_value`: For batched inference, shorter inputs need to be padded with a specific value\n",
        "- `do_normalize`: Whether the input should be *zero-mean-unit-variance* normalized or not. Usually, speech models perform better when normalizing the input\n",
        "- `return_attention_mask`: Whether the model should make use of an `attention_mask` for batched inference. In general, XLSR-Wav2Vec2 models should **always** make use of the `attention_mask`."
      ]
    },
    {
      "cell_type": "code",
      "metadata": {
        "id": "kAR0-2KLkopp"
      },
      "source": [
        "from transformers import Wav2Vec2FeatureExtractor\n",
        "\n",
        "feature_extractor = Wav2Vec2FeatureExtractor(feature_size=1, sampling_rate=16000, padding_value=0.0, do_normalize=True, return_attention_mask=True)"
      ],
      "execution_count": 17,
      "outputs": []
    },
    {
      "cell_type": "markdown",
      "metadata": {
        "id": "qUETetgqYC3W"
      },
      "source": [
        "Great, XLSR-Wav2Vec2's feature extraction pipeline is thereby fully defined!\n",
        "\n",
        "To make the usage of XLSR-Wav2Vec2 as user-friendly as possible, the feature extractor and tokenizer are *wrapped* into a single `Wav2Vec2Processor` class so that one only needs a `model` and `processor` object."
      ]
    },
    {
      "cell_type": "code",
      "metadata": {
        "id": "KYZtoW-tlZgl"
      },
      "source": [
        "from transformers import Wav2Vec2Processor\n",
        "\n",
        "processor = Wav2Vec2Processor(feature_extractor=feature_extractor, tokenizer=tokenizer)"
      ],
      "execution_count": 18,
      "outputs": []
    },
    {
      "cell_type": "markdown",
      "metadata": {
        "id": "fTfFDSS0YfMN"
      },
      "source": [
        "If one wants to re-use the just created processor and the fine-tuned model of this notebook, one can mount his/her google drive to the notebook and save all relevant files there. To do so, please uncomment the following lines. \n",
        "\n",
        "We will give the fine-tuned model the name `\"wav2vec2-large-xlsr-turkish-demo\"`."
      ]
    },
    {
      "cell_type": "code",
      "metadata": {
        "id": "yq7Bzuzz4zjQ"
      },
      "source": [
        "# from google.colab import drive\n",
        "# drive.mount('/content/gdrive/')"
      ],
      "execution_count": 19,
      "outputs": []
    },
    {
      "cell_type": "code",
      "metadata": {
        "id": "Par9rpypPsml"
      },
      "source": [
        "# processor.save_pretrained(\"/content/gdrive/MyDrive/wav2vec2-large-xlsr-turkish-demo\")"
      ],
      "execution_count": 20,
      "outputs": []
    },
    {
      "cell_type": "markdown",
      "metadata": {
        "id": "DrKnYuvDIoOO"
      },
      "source": [
        "Next, we can prepare the dataset."
      ]
    },
    {
      "cell_type": "markdown",
      "metadata": {
        "id": "YFmShnl7RE35"
      },
      "source": [
        "### Preprocess Data\n",
        "\n",
        "So far, we have not looked at the actual values of the speech signal but just kept the path to its file in the dataset. `XLSR-Wav2Vec2` expects the audio file in the format of a 1-dimensional array, so in the first step, let's load all audio files into the dataset object.\n",
        "\n",
        "Let's first check the serialization format of the downloaded audio files by looking at the first training sample."
      ]
    },
    {
      "cell_type": "code",
      "metadata": {
        "colab": {
          "base_uri": "https://localhost:8080/"
        },
        "id": "TTCS7W6XJ9BG",
        "outputId": "de38c019-7530-431d-be54-dee55daa0260"
      },
      "source": [
        "common_voice_train[0]"
      ],
      "execution_count": 21,
      "outputs": [
        {
          "output_type": "execute_result",
          "data": {
            "text/plain": [
              "{'path': '/root/.cache/huggingface/datasets/downloads/extracted/ae32db89a891657bd6f67cdace1594c34a88e263c1e2c9bbc2a5f9a0db68675b/cv-corpus-6.1-2020-12-11/pa-IN/clips/common_voice_pa-IN_21916812.mp3',\n",
              " 'sentence': 'ਪੁੱਤ ਨੂੰ ਜਹਿਰ ਦੇ ਰਿਹਾ ਸੀ '}"
            ]
          },
          "metadata": {
            "tags": []
          },
          "execution_count": 21
        }
      ]
    },
    {
      "cell_type": "markdown",
      "metadata": {
        "id": "wSBIGEiaKHMn"
      },
      "source": [
        "Alright, the audio file is saved in the `.mp3` format. The `.mp3` format is usually not the easiest format to deal with. We found that the [`torchaudio`](https://pytorch.org/audio/stable/index.html) library works best for reading in `.mp3` data. \n",
        "\n",
        "An audio file usually stores both its values and the sampling rate with which the speech signal was digitalized. We want to store both in the dataset and write a `map(...)` function accordingly."
      ]
    },
    {
      "cell_type": "code",
      "metadata": {
        "id": "al9Luo4LPpwJ"
      },
      "source": [
        "import torchaudio\n",
        "\n",
        "def speech_file_to_array_fn(batch):\n",
        "    speech_array, sampling_rate = torchaudio.load(batch[\"path\"])\n",
        "    batch[\"speech\"] = speech_array[0].numpy()\n",
        "    batch[\"sampling_rate\"] = sampling_rate\n",
        "    batch[\"target_text\"] = batch[\"sentence\"]\n",
        "    return batch"
      ],
      "execution_count": 22,
      "outputs": []
    },
    {
      "cell_type": "code",
      "metadata": {
        "colab": {
          "base_uri": "https://localhost:8080/",
          "height": 116,
          "referenced_widgets": [
            "344c8a87f29048a0a2f82944995790f6",
            "abe4ad8c5bc74f0ebc633dcecbc822ad",
            "b0a3ee660d6441ee9ed3a11ac3fbb057",
            "c1ad0f8dbce64572b6c5f076aed8a461",
            "60af5578f75b49e69613beae61a2ad78",
            "659b29cf4e2d49f383de7146d9f5d3f6",
            "bbad387475f54492ad5d69d6dd770313",
            "305ef955842e46f0b4f53b3d3c04e09a",
            "154eb8eb21f24bdcb4cb7050b8436994",
            "45f832001a844d96a5bff18aef2fb9c3",
            "8218d8732d91448da6a60f645d5fe1ec",
            "b3c7e7236da24354999cf8518759ed30",
            "75a427dca3a748e9a0089fbe267c34f7",
            "21da46c5aab5494aa3a7ac93a54ad8f9",
            "1fa02a687b3c40b18fd1a51d95f8985e",
            "c8648b4184c941d8bd3cef23d399c003"
          ]
        },
        "id": "afeicUeWlrRL",
        "outputId": "777bc3bc-7b96-422a-e69f-74ae9c09f876"
      },
      "source": [
        "common_voice_train = common_voice_train.map(speech_file_to_array_fn, remove_columns=common_voice_train.column_names)\n",
        "common_voice_test = common_voice_test.map(speech_file_to_array_fn, remove_columns=common_voice_test.column_names)"
      ],
      "execution_count": 23,
      "outputs": [
        {
          "output_type": "display_data",
          "data": {
            "application/vnd.jupyter.widget-view+json": {
              "model_id": "344c8a87f29048a0a2f82944995790f6",
              "version_minor": 0,
              "version_major": 2
            },
            "text/plain": [
              "HBox(children=(FloatProgress(value=0.0, max=255.0), HTML(value='')))"
            ]
          },
          "metadata": {
            "tags": []
          }
        },
        {
          "output_type": "stream",
          "text": [
            "\n"
          ],
          "name": "stdout"
        },
        {
          "output_type": "display_data",
          "data": {
            "application/vnd.jupyter.widget-view+json": {
              "model_id": "154eb8eb21f24bdcb4cb7050b8436994",
              "version_minor": 0,
              "version_major": 2
            },
            "text/plain": [
              "HBox(children=(FloatProgress(value=0.0, max=116.0), HTML(value='')))"
            ]
          },
          "metadata": {
            "tags": []
          }
        },
        {
          "output_type": "stream",
          "text": [
            "\n"
          ],
          "name": "stdout"
        }
      ]
    },
    {
      "cell_type": "markdown",
      "metadata": {
        "id": "ki5sXmzucc9Q"
      },
      "source": [
        "Great, now we've successfully read in all the audio files, but since we know that Common Voice is sampled at 48kHz, we need to resample the audio files to 16kHz. \n",
        "\n",
        "Let's make use of the [`librosa`](https://github.com/librosa/librosa) library to downsample the data."
      ]
    },
    {
      "cell_type": "code",
      "metadata": {
        "id": "6Y6AK3Z-kHwP"
      },
      "source": [
        "import librosa\n",
        "import numpy as np\n",
        "\n",
        "def resample(batch):\n",
        "    batch[\"speech\"] = librosa.resample(np.asarray(batch[\"speech\"]), 48_000, 16_000)\n",
        "    batch[\"sampling_rate\"] = 16_000\n",
        "    return batch"
      ],
      "execution_count": 24,
      "outputs": []
    },
    {
      "cell_type": "code",
      "metadata": {
        "colab": {
          "base_uri": "https://localhost:8080/",
          "height": 449,
          "referenced_widgets": [
            "8acfd985233e4f7a8108f42ab8ec2067",
            "2d9cd49ecce04e00b214df242200bea0",
            "8142ff62f05c4d5b942c4c8b1cd2417a",
            "f37b4ad665384c3c85b447fa1c3dfcfb",
            "98d0b1db71e8430c9ba8ceddc2020888",
            "6f19de29eaf746b89113f01af54df0d8",
            "d354796526ce413184a9405fdf65fb0c",
            "9a5f6de2a7df42dc9291b8ed4c010eb4",
            "4a98209343024fecbe72093a987ea734",
            "70540d4a3db440f996f7d76d5f3114db",
            "6641d62386b944b8b97d09032d6d0a82",
            "73992ca7c74346c3847c3a25cea8fbd0",
            "dfdd3708758b40119c5c8052c3160171",
            "b432a226a9f242448820174169793c35",
            "a9aef472e6634d23ae26fbf242746db5",
            "df5e6ebf064147ab9e1565d8645dcbc1",
            "a871ffe1f446485690ec37fd4a54179b",
            "05a854667e4643f8bbb0b97cf8c80d32",
            "6a07c54fccf443ef842c4d0393d1cebc",
            "d3d82758bb854b48998902a844c775e0",
            "78d6d8c02b8e4952be0b7e60314cd521",
            "6ab7a007b89a47c98751cc14b880981b",
            "e6d54a8c006845bd843d6621727c7666",
            "14b9e96fdef34890a5c3aba4ca438291",
            "4c205ee7f10f4be8ae9f356d2c4458c8",
            "257969501abf4b05864bff064dc9569c",
            "a895076d97494ceb95050502300bd757",
            "9248b8991cc1495db8a1437dedc0f75e",
            "b332f04b5aa74d108caf1e4983354269",
            "befaec3bf0a146e8bb24b0ed7d92fc2c",
            "2650b9b8f3f44f53b105885f6ca53db8",
            "cef92eac620d44dabf81ccb8c3581482",
            "3a8a224100a44baeafb371a9cf74f5ce",
            "b03506ab020a476fa53c07b84d00a9f7",
            "368ef6948c5d48bb8614b87b534ca86a",
            "b8c703d8b1fd4e7c884e2d999e8f2b98",
            "a8d58cfe68fa49df9384021d5294aebe",
            "8343ceffa9ba48f4babe8451ce892098",
            "ac72b313b63541ffaa7ea4031c430e13",
            "4419749b801443a29b2cd7e687a7c4b4",
            "778c5165a3aa427fa0319d56a65428ff",
            "e2c2bda105ce4255b0846a85e55669a6",
            "28e94f4003f04c2cb56c123466a8a36d",
            "337d8845105c4bc7a5d2ee1feccdfb29",
            "99ff58aaea4047529413608311fa8a07",
            "17ef44c618ff4801b9d49f9c5febd36b",
            "214890fb5bb44363aac96256f7ed996a",
            "247011c79ac4458ea91bca6522f4bacb",
            "3d915b337caa4e8086b85a2f361d8edb",
            "31e8d8fd7fc64f9f92684e89444b66a9",
            "3d71d771d0d84ae6b16476391582832f",
            "5148834eb4f244ff989c60828859e747",
            "9a58d487bce5472683dc65fb6faaacf7",
            "9692201ad7e34106a79f4c98ac6fd4a7",
            "4b8b4d49078c493bbf3590723d51d567",
            "a312a3b212f14b40b03520ba52a3e302",
            "a63558dbbd114d05a7d7e2dce0644fd0",
            "ccbe0ecb264b40f0b4b2de9724450cbf",
            "e023700d95f44050a1ca2e6512c51907",
            "d61f4ab47dba4e0c98629dfc2497d997",
            "b505a64436594a69a35c097863693f98",
            "3197d50cdf59439b813204d0c2bf76cd",
            "bc6b8b3a3123483f93db518d8776b693",
            "a884eab4fe454a639ab1f75534c9aa28"
          ]
        },
        "id": "Ws8DyIL_kjwT",
        "outputId": "0bdc10bc-f780-4112-eaab-ca768d8b65d1"
      },
      "source": [
        "common_voice_train = common_voice_train.map(resample, num_proc=4)\n",
        "common_voice_test = common_voice_test.map(resample, num_proc=4)"
      ],
      "execution_count": 25,
      "outputs": [
        {
          "output_type": "stream",
          "text": [
            "    "
          ],
          "name": "stdout"
        },
        {
          "output_type": "display_data",
          "data": {
            "application/vnd.jupyter.widget-view+json": {
              "model_id": "8acfd985233e4f7a8108f42ab8ec2067",
              "version_minor": 0,
              "version_major": 2
            },
            "text/plain": [
              "HBox(children=(FloatProgress(value=0.0, description='#0', max=64.0, style=ProgressStyle(description_width='ini…"
            ]
          },
          "metadata": {
            "tags": []
          }
        },
        {
          "output_type": "display_data",
          "data": {
            "application/vnd.jupyter.widget-view+json": {
              "model_id": "4a98209343024fecbe72093a987ea734",
              "version_minor": 0,
              "version_major": 2
            },
            "text/plain": [
              "HBox(children=(FloatProgress(value=0.0, description='#3', max=63.0, style=ProgressStyle(description_width='ini…"
            ]
          },
          "metadata": {
            "tags": []
          }
        },
        {
          "output_type": "display_data",
          "data": {
            "application/vnd.jupyter.widget-view+json": {
              "model_id": "a871ffe1f446485690ec37fd4a54179b",
              "version_minor": 0,
              "version_major": 2
            },
            "text/plain": [
              "HBox(children=(FloatProgress(value=0.0, description='#2', max=64.0, style=ProgressStyle(description_width='ini…"
            ]
          },
          "metadata": {
            "tags": []
          }
        },
        {
          "output_type": "display_data",
          "data": {
            "application/vnd.jupyter.widget-view+json": {
              "model_id": "4c205ee7f10f4be8ae9f356d2c4458c8",
              "version_minor": 0,
              "version_major": 2
            },
            "text/plain": [
              "HBox(children=(FloatProgress(value=0.0, description='#1', max=64.0, style=ProgressStyle(description_width='ini…"
            ]
          },
          "metadata": {
            "tags": []
          }
        },
        {
          "output_type": "stream",
          "text": [
            "\n",
            "\n",
            "\n",
            "\n",
            "    "
          ],
          "name": "stdout"
        },
        {
          "output_type": "display_data",
          "data": {
            "application/vnd.jupyter.widget-view+json": {
              "model_id": "3a8a224100a44baeafb371a9cf74f5ce",
              "version_minor": 0,
              "version_major": 2
            },
            "text/plain": [
              "HBox(children=(FloatProgress(value=0.0, description='#2', max=29.0, style=ProgressStyle(description_width='ini…"
            ]
          },
          "metadata": {
            "tags": []
          }
        },
        {
          "output_type": "display_data",
          "data": {
            "application/vnd.jupyter.widget-view+json": {
              "model_id": "778c5165a3aa427fa0319d56a65428ff",
              "version_minor": 0,
              "version_major": 2
            },
            "text/plain": [
              "HBox(children=(FloatProgress(value=0.0, description='#1', max=29.0, style=ProgressStyle(description_width='ini…"
            ]
          },
          "metadata": {
            "tags": []
          }
        },
        {
          "output_type": "display_data",
          "data": {
            "application/vnd.jupyter.widget-view+json": {
              "model_id": "3d915b337caa4e8086b85a2f361d8edb",
              "version_minor": 0,
              "version_major": 2
            },
            "text/plain": [
              "HBox(children=(FloatProgress(value=0.0, description='#0', max=29.0, style=ProgressStyle(description_width='ini…"
            ]
          },
          "metadata": {
            "tags": []
          }
        },
        {
          "output_type": "display_data",
          "data": {
            "application/vnd.jupyter.widget-view+json": {
              "model_id": "a63558dbbd114d05a7d7e2dce0644fd0",
              "version_minor": 0,
              "version_major": 2
            },
            "text/plain": [
              "HBox(children=(FloatProgress(value=0.0, description='#3', max=29.0, style=ProgressStyle(description_width='ini…"
            ]
          },
          "metadata": {
            "tags": []
          }
        },
        {
          "output_type": "stream",
          "text": [
            "\n",
            "\n",
            "\n",
            "\n"
          ],
          "name": "stdout"
        }
      ]
    },
    {
      "cell_type": "markdown",
      "metadata": {
        "id": "SOckzFd4Mbzq"
      },
      "source": [
        "This seemed to have worked! Let's listen to a couple of audio files to better understand the dataset and verify that the audio was correctly loaded. \n",
        "\n",
        "**Note**: *You can click the following cell a couple of times to listen to different speech samples.*"
      ]
    },
    {
      "cell_type": "code",
      "metadata": {
        "colab": {
          "base_uri": "https://localhost:8080/",
          "height": 75
        },
        "id": "dueM6U7Ev0OA",
        "outputId": "882e30cc-e042-4f44-910e-eb3fd47c55ae"
      },
      "source": [
        "import IPython.display as ipd\n",
        "import numpy as np\n",
        "import random\n",
        "\n",
        "rand_int = random.randint(0, len(common_voice_train)-1)\n",
        "\n",
        "ipd.Audio(data=np.asarray(common_voice_train[rand_int][\"speech\"]), autoplay=True, rate=16000)"
      ],
      "execution_count": 26,
      "outputs": [
        {
          "output_type": "execute_result",
          "data": {
            "text/html": [
              "\n",
              "                <audio controls=\"controls\" autoplay=\"autoplay\">\n",
              "                    <source src=\"data:audio/wav;base64,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\" type=\"audio/wav\" />\n",
              "                    Your browser does not support the audio element.\n",
              "                </audio>\n",
              "              "
            ],
            "text/plain": [
              "<IPython.lib.display.Audio object>"
            ]
          },
          "metadata": {
            "tags": []
          },
          "execution_count": 26
        }
      ]
    },
    {
      "cell_type": "markdown",
      "metadata": {
        "id": "1MaL9J2dNVtG"
      },
      "source": [
        "It can be heard, that the speakers change along with their speaking rate, accent, and background environment, etc. Overall, the recordings sound acceptably clear though, which is to be expected from a crowd-sourced read speech corpus.\n",
        "\n",
        "Let's do a final check that the data is correctly prepared, by printing the shape of the speech input, its transcription, and the corresponding sampling rate.\n",
        "\n",
        "**Note**: *You can click the following cell a couple of times to verify multiple samples.*"
      ]
    },
    {
      "cell_type": "code",
      "metadata": {
        "colab": {
          "base_uri": "https://localhost:8080/"
        },
        "id": "1Po2g7YPuRTx",
        "outputId": "4102d9ce-dd92-4528-b18c-d9a83198b583"
      },
      "source": [
        "rand_int = random.randint(0, len(common_voice_train)-1)\n",
        "\n",
        "print(\"Target text:\", common_voice_train[rand_int][\"target_text\"])\n",
        "print(\"Input array shape:\", np.asarray(common_voice_train[rand_int][\"speech\"]).shape)\n",
        "print(\"Sampling rate:\", common_voice_train[rand_int][\"sampling_rate\"])"
      ],
      "execution_count": 27,
      "outputs": [
        {
          "output_type": "stream",
          "text": [
            "Target text: ਕਿਸਾਨਾਂ ਨੂੰ ਸਰਕਾਰੀ ਸਕੀਮਾਂ ਤੋਂ ਜਾਣੂ ਕਰਵਾਇਆ \n",
            "Input array shape: (95232,)\n",
            "Sampling rate: 16000\n"
          ],
          "name": "stdout"
        }
      ]
    },
    {
      "cell_type": "markdown",
      "metadata": {
        "id": "M9teZcSwOBJ4"
      },
      "source": [
        "Good! Everything looks fine - the data is a 1-dimensional array, the sampling rate always corresponds to 16kHz, and the target text is normalized."
      ]
    },
    {
      "cell_type": "markdown",
      "metadata": {
        "id": "k3Pbn5WvOYZF"
      },
      "source": [
        "Finally, we can process the dataset to the format expected by the model for training. We will again make use of the `map(...)` function.\n",
        "\n",
        "First, we check that the data samples have the same sampling rate of 16kHz.\n",
        "Second, we extract the `input_values` from the loaded audio file. In our case, this includes only normalization, but for other speech models, this step could correspond to extracting, *e.g.* [Log-Mel features](https://en.wikipedia.org/wiki/Mel-frequency_cepstrum). \n",
        "Third, we encode the transcriptions to label ids.\n",
        "\n",
        "**Note**: This mapping function is a good example of how the `Wav2Vec2Processor` class should be used. In \"normal\" context, calling `processor(...)` is redirected to `Wav2Vec2FeatureExtractor`'s call method. When wrapping the processor into the `as_target_processor` context, however, the same method is redirected to `Wav2Vec2CTCTokenizer`'s call method.\n",
        "For more information please check the [docs](https://huggingface.co/transformers/master/model_doc/wav2vec2.html#transformers.Wav2Vec2Processor.__call__)."
      ]
    },
    {
      "cell_type": "code",
      "metadata": {
        "id": "eJY7I0XAwe9p"
      },
      "source": [
        "def prepare_dataset(batch):\n",
        "    # check that all files have the correct sampling rate\n",
        "    assert (\n",
        "        len(set(batch[\"sampling_rate\"])) == 1\n",
        "    ), f\"Make sure all inputs have the same sampling rate of {processor.feature_extractor.sampling_rate}.\"\n",
        "\n",
        "    batch[\"input_values\"] = processor(batch[\"speech\"], sampling_rate=batch[\"sampling_rate\"][0]).input_values\n",
        "    \n",
        "    with processor.as_target_processor():\n",
        "        batch[\"labels\"] = processor(batch[\"target_text\"]).input_ids\n",
        "    return batch"
      ],
      "execution_count": 28,
      "outputs": []
    },
    {
      "cell_type": "code",
      "metadata": {
        "colab": {
          "base_uri": "https://localhost:8080/",
          "height": 504,
          "referenced_widgets": [
            "e1b8a29902654635890f74a48eb054e0",
            "7e657d2fcaff40208f3977830cca2b23",
            "d31a8aee8c4346f083956e8fad4a4de3",
            "3a27124c1dfa4c53b97f7e8c4acce933",
            "64563fd80d4f4c8fbe488590981a251c",
            "4b79470e087342b380f2420294212f30",
            "9ee935ec2fe149d9a291e7c23accad9b",
            "6fd820236ddb48f19f43cd06d18fb6c0",
            "d93540e64c744f52829f6ff98f67f6b2",
            "977594e0cd0c46ab835f798de608e2d9",
            "8b695eefb718460c8f5320cc672153f0",
            "05a3f2c1b16e45f58bac67c932c06b93",
            "bb2aa9db185a446a91045e806ec24918",
            "862db9cf8f5d485aba94c50bcc052196",
            "54503c9b701b463fb01d83f279944898",
            "538cde3b6fcb4c93bcb6b36acaaeb685",
            "84c383d18c914f4abee0a8934238bca5",
            "640ef0874a4e43538bdca179610f41de",
            "77dd05e032c945c399ac8e45d02853c1",
            "c099496553c547d994ad0baff38a0be8",
            "142c813560ba4e7e8de1dd22368ba9da",
            "434f9d0a1d654749b91127ee4364b7ef",
            "29f71caf26e548c29e8705c7e6b82230",
            "521bb366394140b9a6a5fc3a956f8b9a",
            "acf8f87c1ab14c9a84a892575e3d1725",
            "ad480551abeb43198f3a58c9f4037277",
            "ebc1e77febd04a879cb849c40c8a39d8",
            "331f8c13e8c74f71b6d77e40ec2ee350",
            "3a7faa905a33400ca21f50f929466559",
            "8e559d29916b42e997a958d512e58a92",
            "5961d258ccd147e2ad8f85b4e56621da",
            "be0d06f6113347869fcea4e9bc0181e3",
            "15114d2e94b3492da6f2f5fe86fa3b25",
            "b2490fa67bdf489eaacd994f4d3f002c",
            "f99f701c7ede43a696e94194f8254905",
            "b36cf34754d74761ab8da99d4c101273",
            "abbfc2d820f748a385f50e8cedf36c9f",
            "44f66ef909b7408882cb19d8105839ab",
            "372768961fcb4ce2bfcddef6e2be93e7",
            "2c4b3b4de024430ead09be88df10fb8a",
            "6f4b38e09e334b7a98dd0449af6ca337",
            "256bc1a4ff574b059131874b0155ae2a",
            "7517cd490e304026bc05a7cff2a73b84",
            "c80b8c7236be4ddeb4fdbeb773baae33",
            "62d0032667124339a679af75514b01de",
            "88a1c894578e4f9488adc251d85b4bf4",
            "554fe4cd86e44bb6b4e43a7fe13ff5b6",
            "b05a0e857d7c4802843db1e7bc6bf957",
            "36f52e2120f44701a5e8b1d193bd4f22",
            "38418749f63d4e4c94a00ed578b5dcac",
            "bed801bc075e4586b5825fbd75450e77",
            "a86547b01f264fb0ac209b308bbcf8eb",
            "dff5ea7001ad45a6a77392d6dfd0b8e8",
            "fb5a370397894d9eb2d44e89e0e6eb14",
            "3ab05ebfa1d4439f84c2bbb308fc6227",
            "1be46abcc66b4770a923bf7707b31b49",
            "1bd77df55457430dbefd6c393cb879ea",
            "de64f3fed971437cb9aa291c84872b91",
            "0126b0fc1133489f891c85bfc0e64371",
            "2c74ccfcd98841e8a11f81dc840214d8",
            "71debd19f51d43ca8199cd41754ad80c",
            "fda3dc3b79ac45348e674faef282aff6",
            "324c64c57e9c4cafa419df3588bedef8",
            "df65c3626c334b459e562fdb3734e511"
          ]
        },
        "id": "-np9xYK-wl8q",
        "outputId": "0ee4ec0f-57d4-494c-9daa-f33e0b5ee441"
      },
      "source": [
        "common_voice_train = common_voice_train.map(prepare_dataset, remove_columns=common_voice_train.column_names, batch_size=8, num_proc=4, batched=True)\n",
        "common_voice_test = common_voice_test.map(prepare_dataset, remove_columns=common_voice_test.column_names, batch_size=8, num_proc=4, batched=True)"
      ],
      "execution_count": 29,
      "outputs": [
        {
          "output_type": "stream",
          "text": [
            "/usr/local/lib/python3.7/dist-packages/numpy/core/_asarray.py:83: VisibleDeprecationWarning: Creating an ndarray from ragged nested sequences (which is a list-or-tuple of lists-or-tuples-or ndarrays with different lengths or shapes) is deprecated. If you meant to do this, you must specify 'dtype=object' when creating the ndarray\n",
            "  return array(a, dtype, copy=False, order=order)\n"
          ],
          "name": "stderr"
        },
        {
          "output_type": "stream",
          "text": [
            "    "
          ],
          "name": "stdout"
        },
        {
          "output_type": "display_data",
          "data": {
            "application/vnd.jupyter.widget-view+json": {
              "model_id": "e1b8a29902654635890f74a48eb054e0",
              "version_minor": 0,
              "version_major": 2
            },
            "text/plain": [
              "HBox(children=(FloatProgress(value=0.0, description='#1', max=8.0, style=ProgressStyle(description_width='init…"
            ]
          },
          "metadata": {
            "tags": []
          }
        },
        {
          "output_type": "display_data",
          "data": {
            "application/vnd.jupyter.widget-view+json": {
              "model_id": "d93540e64c744f52829f6ff98f67f6b2",
              "version_minor": 0,
              "version_major": 2
            },
            "text/plain": [
              "HBox(children=(FloatProgress(value=0.0, description='#0', max=8.0, style=ProgressStyle(description_width='init…"
            ]
          },
          "metadata": {
            "tags": []
          }
        },
        {
          "output_type": "display_data",
          "data": {
            "application/vnd.jupyter.widget-view+json": {
              "model_id": "84c383d18c914f4abee0a8934238bca5",
              "version_minor": 0,
              "version_major": 2
            },
            "text/plain": [
              "HBox(children=(FloatProgress(value=0.0, description='#3', max=8.0, style=ProgressStyle(description_width='init…"
            ]
          },
          "metadata": {
            "tags": []
          }
        },
        {
          "output_type": "display_data",
          "data": {
            "application/vnd.jupyter.widget-view+json": {
              "model_id": "acf8f87c1ab14c9a84a892575e3d1725",
              "version_minor": 0,
              "version_major": 2
            },
            "text/plain": [
              "HBox(children=(FloatProgress(value=0.0, description='#2', max=8.0, style=ProgressStyle(description_width='init…"
            ]
          },
          "metadata": {
            "tags": []
          }
        },
        {
          "output_type": "stream",
          "text": [
            "\n",
            "\n",
            "\n",
            "\n",
            "    "
          ],
          "name": "stdout"
        },
        {
          "output_type": "display_data",
          "data": {
            "application/vnd.jupyter.widget-view+json": {
              "model_id": "15114d2e94b3492da6f2f5fe86fa3b25",
              "version_minor": 0,
              "version_major": 2
            },
            "text/plain": [
              "HBox(children=(FloatProgress(value=0.0, description='#2', max=4.0, style=ProgressStyle(description_width='init…"
            ]
          },
          "metadata": {
            "tags": []
          }
        },
        {
          "output_type": "display_data",
          "data": {
            "application/vnd.jupyter.widget-view+json": {
              "model_id": "6f4b38e09e334b7a98dd0449af6ca337",
              "version_minor": 0,
              "version_major": 2
            },
            "text/plain": [
              "HBox(children=(FloatProgress(value=0.0, description='#0', max=4.0, style=ProgressStyle(description_width='init…"
            ]
          },
          "metadata": {
            "tags": []
          }
        },
        {
          "output_type": "display_data",
          "data": {
            "application/vnd.jupyter.widget-view+json": {
              "model_id": "36f52e2120f44701a5e8b1d193bd4f22",
              "version_minor": 0,
              "version_major": 2
            },
            "text/plain": [
              "HBox(children=(FloatProgress(value=0.0, description='#3', max=4.0, style=ProgressStyle(description_width='init…"
            ]
          },
          "metadata": {
            "tags": []
          }
        },
        {
          "output_type": "display_data",
          "data": {
            "application/vnd.jupyter.widget-view+json": {
              "model_id": "1bd77df55457430dbefd6c393cb879ea",
              "version_minor": 0,
              "version_major": 2
            },
            "text/plain": [
              "HBox(children=(FloatProgress(value=0.0, description='#1', max=4.0, style=ProgressStyle(description_width='init…"
            ]
          },
          "metadata": {
            "tags": []
          }
        },
        {
          "output_type": "stream",
          "text": [
            "\n",
            "\n",
            "\n",
            "\n"
          ],
          "name": "stdout"
        }
      ]
    },
    {
      "cell_type": "markdown",
      "metadata": {
        "id": "gYlQkKVoRUos"
      },
      "source": [
        "## Training\n",
        "\n",
        "The data is processed so that we are ready to start setting up the training pipeline. We will make use of 🤗's [Trainer](https://huggingface.co/transformers/master/main_classes/trainer.html?highlight=trainer) for which we essentially need to do the following:\n",
        "\n",
        "- Define a data collator. In contrast to most NLP models, XLSR-Wav2Vec2 has a much larger input length than output length. *E.g.*, a sample of input length 50000 has an output length of no more than 100. Given the large input sizes, it is much more efficient to pad the training batches dynamically meaning that all training samples should only be padded to the longest sample in their batch and not the overall longest sample. Therefore, fine-tuning XLSR-Wav2Vec2 requires a special padding data collator, which we will define below\n",
        "\n",
        "- Evaluation metric. During training, the model should be evaluated on the word error rate. We should define a `compute_metrics` function accordingly\n",
        "\n",
        "- Load a pretrained checkpoint. We need to load a pretrained checkpoint and configure it correctly for training.\n",
        "\n",
        "- Define the training configuration.\n",
        "\n",
        "After having fine-tuned the model, we will correctly evaluate it on the test data and verify that it has indeed learned to correctly transcribe speech."
      ]
    },
    {
      "cell_type": "markdown",
      "metadata": {
        "id": "Slk403unUS91"
      },
      "source": [
        "### Set-up Trainer\n",
        "\n",
        "Let's start by defining the data collator. The code for the data collator was copied from [this example](https://github.com/huggingface/transformers/blob/9a06b6b11bdfc42eea08fa91d0c737d1863c99e3/examples/research_projects/wav2vec2/run_asr.py#L81).\n",
        "\n",
        "Without going into too many details, in contrast to the common data collators, this data collator treats the `input_values` and `labels` differently and thus applies to separate padding functions on them (again making use of XLSR-Wav2Vec2's context manager). This is necessary because in speech input and output are of different modalities meaning that they should not be treated by the same padding function.\n",
        "Analogous to the common data collators, the padding tokens in the labels with `-100` so that those tokens are **not** taken into account when computing the loss."
      ]
    },
    {
      "cell_type": "code",
      "metadata": {
        "id": "tborvC9hx88e"
      },
      "source": [
        "import torch\n",
        "\n",
        "from dataclasses import dataclass, field\n",
        "from typing import Any, Dict, List, Optional, Union\n",
        "\n",
        "@dataclass\n",
        "class DataCollatorCTCWithPadding:\n",
        "    \"\"\"\n",
        "    Data collator that will dynamically pad the inputs received.\n",
        "    Args:\n",
        "        processor (:class:`~transformers.Wav2Vec2Processor`)\n",
        "            The processor used for proccessing the data.\n",
        "        padding (:obj:`bool`, :obj:`str` or :class:`~transformers.tokenization_utils_base.PaddingStrategy`, `optional`, defaults to :obj:`True`):\n",
        "            Select a strategy to pad the returned sequences (according to the model's padding side and padding index)\n",
        "            among:\n",
        "            * :obj:`True` or :obj:`'longest'`: Pad to the longest sequence in the batch (or no padding if only a single\n",
        "              sequence if provided).\n",
        "            * :obj:`'max_length'`: Pad to a maximum length specified with the argument :obj:`max_length` or to the\n",
        "              maximum acceptable input length for the model if that argument is not provided.\n",
        "            * :obj:`False` or :obj:`'do_not_pad'` (default): No padding (i.e., can output a batch with sequences of\n",
        "              different lengths).\n",
        "        max_length (:obj:`int`, `optional`):\n",
        "            Maximum length of the ``input_values`` of the returned list and optionally padding length (see above).\n",
        "        max_length_labels (:obj:`int`, `optional`):\n",
        "            Maximum length of the ``labels`` returned list and optionally padding length (see above).\n",
        "        pad_to_multiple_of (:obj:`int`, `optional`):\n",
        "            If set will pad the sequence to a multiple of the provided value.\n",
        "            This is especially useful to enable the use of Tensor Cores on NVIDIA hardware with compute capability >=\n",
        "            7.5 (Volta).\n",
        "    \"\"\"\n",
        "\n",
        "    processor: Wav2Vec2Processor\n",
        "    padding: Union[bool, str] = True\n",
        "    max_length: Optional[int] = None\n",
        "    max_length_labels: Optional[int] = None\n",
        "    pad_to_multiple_of: Optional[int] = None\n",
        "    pad_to_multiple_of_labels: Optional[int] = None\n",
        "\n",
        "    def __call__(self, features: List[Dict[str, Union[List[int], torch.Tensor]]]) -> Dict[str, torch.Tensor]:\n",
        "        # split inputs and labels since they have to be of different lenghts and need\n",
        "        # different padding methods\n",
        "        input_features = [{\"input_values\": feature[\"input_values\"]} for feature in features]\n",
        "        label_features = [{\"input_ids\": feature[\"labels\"]} for feature in features]\n",
        "\n",
        "        batch = self.processor.pad(\n",
        "            input_features,\n",
        "            padding=self.padding,\n",
        "            max_length=self.max_length,\n",
        "            pad_to_multiple_of=self.pad_to_multiple_of,\n",
        "            return_tensors=\"pt\",\n",
        "        )\n",
        "        with self.processor.as_target_processor():\n",
        "            labels_batch = self.processor.pad(\n",
        "                label_features,\n",
        "                padding=self.padding,\n",
        "                max_length=self.max_length_labels,\n",
        "                pad_to_multiple_of=self.pad_to_multiple_of_labels,\n",
        "                return_tensors=\"pt\",\n",
        "            )\n",
        "\n",
        "        # replace padding with -100 to ignore loss correctly\n",
        "        labels = labels_batch[\"input_ids\"].masked_fill(labels_batch.attention_mask.ne(1), -100)\n",
        "\n",
        "        batch[\"labels\"] = labels\n",
        "\n",
        "        return batch"
      ],
      "execution_count": 30,
      "outputs": []
    },
    {
      "cell_type": "code",
      "metadata": {
        "id": "lbQf5GuZyQ4_"
      },
      "source": [
        "data_collator = DataCollatorCTCWithPadding(processor=processor, padding=True)"
      ],
      "execution_count": 31,
      "outputs": []
    },
    {
      "cell_type": "markdown",
      "metadata": {
        "id": "xO-Zdj-5cxXp"
      },
      "source": [
        "Next, the evaluation metric is defined. As mentioned earlier, the \n",
        "predominant metric in ASR is the word error rate (WER), hence we will use it in this notebook as well."
      ]
    },
    {
      "cell_type": "code",
      "metadata": {
        "id": "9Xsux2gmyXso",
        "colab": {
          "base_uri": "https://localhost:8080/",
          "height": 67,
          "referenced_widgets": [
            "b1162ccb15c940c69b4c80e639c458f8",
            "3284ea30d6c84a1cac122b45cd8544fd",
            "5ffeb7294f8249fca7a9d29a1905cafe",
            "eed3b8b94f774b41b46cbea605280cfc",
            "fd235177b44a41769f9cee50c6a48324",
            "9b143796eb2c45a98a47c1411d7697b0",
            "a491f84ee588499da7107f35f526280a",
            "ae9d06338bda4c938034881910ff93ee"
          ]
        },
        "outputId": "f22b791a-bc99-49ad-c0b1-b1cdbc2576ad"
      },
      "source": [
        "wer_metric = load_metric(\"wer\")"
      ],
      "execution_count": 32,
      "outputs": [
        {
          "output_type": "display_data",
          "data": {
            "application/vnd.jupyter.widget-view+json": {
              "model_id": "b1162ccb15c940c69b4c80e639c458f8",
              "version_minor": 0,
              "version_major": 2
            },
            "text/plain": [
              "HBox(children=(FloatProgress(value=0.0, description='Downloading', max=1764.0, style=ProgressStyle(description…"
            ]
          },
          "metadata": {
            "tags": []
          }
        },
        {
          "output_type": "stream",
          "text": [
            "\n"
          ],
          "name": "stdout"
        }
      ]
    },
    {
      "cell_type": "markdown",
      "metadata": {
        "id": "E1qZU5p-deqB"
      },
      "source": [
        "The model will return a sequence of logit vectors:\n",
        "$\\mathbf{y}_1, \\ldots, \\mathbf{y}_m$ with $\\mathbf{y}_1 = f_{\\theta}(x_1, \\ldots, x_n)[0]$ and $n >> m$.\n",
        "\n",
        "A logit vector $\\mathbf{y}_1$ contains the log-odds for each word in the vocabulary we defined earlier, thus $\\text{len}(\\mathbf{y}_i) =$ `config.vocab_size`. We are interested in the most likely prediction of the model and thus take the `argmax(...)` of the logits. Also, we transform the encoded labels back to the original string by replacing `-100` with the `pad_token_id` and decoding the ids while making sure that consecutive tokens are **not** grouped to the same token in CTC style ${}^1$."
      ]
    },
    {
      "cell_type": "code",
      "metadata": {
        "id": "1XZ-kjweyTy_"
      },
      "source": [
        "def compute_metrics(pred):\n",
        "    pred_logits = pred.predictions\n",
        "    pred_ids = np.argmax(pred_logits, axis=-1)\n",
        "\n",
        "    pred.label_ids[pred.label_ids == -100] = processor.tokenizer.pad_token_id\n",
        "\n",
        "    pred_str = processor.batch_decode(pred_ids)\n",
        "    # we do not want to group tokens when computing the metrics\n",
        "    label_str = processor.batch_decode(pred.label_ids, group_tokens=False)\n",
        "\n",
        "    wer = wer_metric.compute(predictions=pred_str, references=label_str)\n",
        "\n",
        "    return {\"wer\": wer}"
      ],
      "execution_count": 33,
      "outputs": []
    },
    {
      "cell_type": "markdown",
      "metadata": {
        "id": "Xmgrx4bRwLIH"
      },
      "source": [
        "Now, we can load the pretrained `XLSR-Wav2Vec2` checkpoint. The tokenizer's `pad_token_id` must be to define the model's `pad_token_id` or in the case of `Wav2Vec2ForCTC` also CTC's *blank token* ${}^2$. To save GPU memory, we enable PyTorch's [gradient checkpointing](https://pytorch.org/docs/stable/checkpoint.html) and also set the loss reduction to \"*mean*\".\n",
        "\n",
        "Because the dataset is quite small (~6h of training data) and because Common Voice is quite noisy, fine-tuning Facebook's [wav2vec2-large-xlsr-53 checkpoint](https://huggingface.co/facebook/wav2vec2-large-xlsr-53) seems to require some hyper-parameter tuning. Therefore, I had to play around a bit with different values for dropout, [SpecAugment](https://arxiv.org/abs/1904.08779)'s masking dropout rate, layer dropout, and the learning rate until training seemed to be stable enough. \n",
        "\n",
        "**Note**: When using this notebook to train XLSR-Wav2Vec2 on another language of Common Voice those hyper-parameter settings might not work very well. Feel free to adapt those depending on your use case. "
      ]
    },
    {
      "cell_type": "code",
      "metadata": {
        "colab": {
          "base_uri": "https://localhost:8080/",
          "height": 171,
          "referenced_widgets": [
            "16479d0b9ccc40ee8284551c0ac7dfeb",
            "d69bc8e6073b451ab732f999db13360d",
            "c0de501e7f09458a9d21734c759bb64b",
            "c8603f8fdabc402ea2bea61d3fd67806",
            "151a38b183754f4498a6290c509635a6",
            "3c633b5773c04e0e808d38c190add496",
            "f8bdbb011d374b3297a0d7c74dafcb26",
            "aefac2d7f952488daf317fa60ae02820",
            "2224cefe91a84167a565e1f667cb0210",
            "45ac52b8a09a4102a26063984f8f63b8",
            "af43fd8f3305469da068f225bf95f58b",
            "772ba338452641bd91574bbf614cb90f",
            "6aa899eb9e10492394f3ec718c36fe15",
            "0709ce310dd34b41b5f54acde5d53fff",
            "531c08fd69b54743a8c97b0858efa570",
            "af9a05ed28b944fd8b84e5c39f186f19"
          ]
        },
        "id": "e7cqAWIayn6w",
        "outputId": "e1546098-164b-442d-ae34-b000e9c210d7"
      },
      "source": [
        "from transformers import Wav2Vec2ForCTC\n",
        "\n",
        "model = Wav2Vec2ForCTC.from_pretrained(\n",
        "    \"facebook/wav2vec2-large-xlsr-53\", \n",
        "    attention_dropout=0.1,\n",
        "    hidden_dropout=0.1,\n",
        "    feat_proj_dropout=0.0,\n",
        "    mask_time_prob=0.05,\n",
        "    layerdrop=0.1,\n",
        "    gradient_checkpointing=True, \n",
        "    ctc_loss_reduction=\"mean\", \n",
        "    pad_token_id=processor.tokenizer.pad_token_id,\n",
        "    vocab_size=len(processor.tokenizer)\n",
        ")"
      ],
      "execution_count": 34,
      "outputs": [
        {
          "output_type": "display_data",
          "data": {
            "application/vnd.jupyter.widget-view+json": {
              "model_id": "16479d0b9ccc40ee8284551c0ac7dfeb",
              "version_minor": 0,
              "version_major": 2
            },
            "text/plain": [
              "HBox(children=(FloatProgress(value=0.0, description='Downloading', max=1451.0, style=ProgressStyle(description…"
            ]
          },
          "metadata": {
            "tags": []
          }
        },
        {
          "output_type": "stream",
          "text": [
            "\n"
          ],
          "name": "stdout"
        },
        {
          "output_type": "display_data",
          "data": {
            "application/vnd.jupyter.widget-view+json": {
              "model_id": "2224cefe91a84167a565e1f667cb0210",
              "version_minor": 0,
              "version_major": 2
            },
            "text/plain": [
              "HBox(children=(FloatProgress(value=0.0, description='Downloading', max=1261920069.0, style=ProgressStyle(descr…"
            ]
          },
          "metadata": {
            "tags": []
          }
        },
        {
          "output_type": "stream",
          "text": [
            "\n"
          ],
          "name": "stdout"
        },
        {
          "output_type": "stream",
          "text": [
            "Some weights of Wav2Vec2ForCTC were not initialized from the model checkpoint at facebook/wav2vec2-large-xlsr-53 and are newly initialized: ['lm_head.weight', 'lm_head.bias']\n",
            "You should probably TRAIN this model on a down-stream task to be able to use it for predictions and inference.\n"
          ],
          "name": "stderr"
        }
      ]
    },
    {
      "cell_type": "markdown",
      "metadata": {
        "id": "1DwR3XLSzGDD"
      },
      "source": [
        "The first component of XLSR-Wav2Vec2 consists of a stack of CNN layers that are used to extract acoustically meaningful - but contextually independent - features from the raw speech signal. This part of the model has already been sufficiently trained during pretraining and as stated in the [paper](https://arxiv.org/pdf/2006.13979.pdf) does not need to be fine-tuned anymore. \n",
        "Thus, we can set the `requires_grad` to `False` for all parameters of the *feature extraction* part."
      ]
    },
    {
      "cell_type": "code",
      "metadata": {
        "id": "oGI8zObtZ3V0"
      },
      "source": [
        "model.freeze_feature_extractor()"
      ],
      "execution_count": 35,
      "outputs": []
    },
    {
      "cell_type": "markdown",
      "metadata": {
        "id": "lD4aGhQM0K-D"
      },
      "source": [
        "In a final step, we define all parameters related to training. \n",
        "To give more explanation on some of the parameters:\n",
        "- `group_by_length` makes training more efficient by grouping training samples of similar input length into one batch. This can significantly speed up training time by heavily reducing the overall number of useless padding tokens that are passed through the model\n",
        "- `learning_rate` and `weight_decay` were heuristically tuned until fine-tuning has become stable. Note that those parameters strongly depend on the Common Voice dataset and might be suboptimal for other speech datasets.\n",
        "\n",
        "For more explanations on other parameters, one can take a look at the [docs](https://huggingface.co/transformers/master/main_classes/trainer.html?highlight=trainer#trainingarguments).\n",
        "\n",
        "**Note**: If one wants to save the trained models in his/her google drive the commented-out `output_dir` can be used instead."
      ]
    },
    {
      "cell_type": "code",
      "metadata": {
        "id": "KbeKSV7uzGPP"
      },
      "source": [
        "from transformers import TrainingArguments\n",
        "\n",
        "training_args = TrainingArguments(\n",
        "  output_dir=\"./wav2vec2-large-xlsr-punjabi\",\n",
        "  group_by_length=True,\n",
        "  per_device_train_batch_size=16,\n",
        "  gradient_accumulation_steps=2,\n",
        "  evaluation_strategy=\"steps\",\n",
        "  num_train_epochs=30,\n",
        "  fp16=True,\n",
        "  save_steps=400,\n",
        "  eval_steps=400,\n",
        "  logging_steps=400,\n",
        "  learning_rate=3e-4,\n",
        "  warmup_steps=500,\n",
        "  save_total_limit=2,\n",
        ")"
      ],
      "execution_count": 36,
      "outputs": []
    },
    {
      "cell_type": "markdown",
      "metadata": {
        "id": "OsW-WZcL1ZtN"
      },
      "source": [
        "Now, all instances can be passed to Trainer and we are ready to start training!"
      ]
    },
    {
      "cell_type": "code",
      "metadata": {
        "id": "rY7vBmFCPFgC"
      },
      "source": [
        "from transformers import Trainer\n",
        "\n",
        "trainer = Trainer(\n",
        "    model=model,\n",
        "    data_collator=data_collator,\n",
        "    args=training_args,\n",
        "    compute_metrics=compute_metrics,\n",
        "    train_dataset=common_voice_train,\n",
        "    eval_dataset=common_voice_test,\n",
        "    tokenizer=processor.feature_extractor,\n",
        ")"
      ],
      "execution_count": 37,
      "outputs": []
    },
    {
      "cell_type": "markdown",
      "metadata": {
        "id": "UoXBx1JAA0DX"
      },
      "source": [
        "\n",
        "\n",
        "---\n",
        "\n",
        "${}^1$ To allow models to become independent of the speaker rate, in CTC, consecutive tokens that are identical are simply grouped as a single token. However, the encoded labels should not be grouped when decoding since they don't correspond to the predicted tokens of the model, which is why the `group_tokens=False` parameter has to be passed. If we wouldn't pass this parameter a word like `\"hello\"` would incorrectly be encoded, and decoded as `\"helo\"`.\n",
        "\n",
        "${}^2$ The blank token allows the model to predict a word, such as `\"hello\"` by forcing it to insert the blank token between the two l's. A CTC-conform prediction of `\"hello\"` of our model would be `[PAD] [PAD] \"h\" \"e\" \"e\" \"l\" \"l\" [PAD] \"l\" \"o\" \"o\" [PAD]`."
      ]
    },
    {
      "cell_type": "markdown",
      "metadata": {
        "id": "rpvZHM1xReIW"
      },
      "source": [
        "### Training"
      ]
    },
    {
      "cell_type": "markdown",
      "metadata": {
        "id": "j-3oKSzZ1hGq"
      },
      "source": [
        "Training will take between 180 and 240 minutes depending on the GPU allocated to this notebook. While the trained model yields somewhat satisfying results on *Common Voice*'s test data of Turkish, it is by no means an optimally fine-tuned model. The purpose of this notebook is to demonstrate how XLSR-Wav2Vec2's [checkpoint](https://huggingface.co/facebook/wav2vec2-large-xlsr-53) can be fine-tuned on a low-resource ASR dataset.\n",
        "\n",
        "In case you want to use this google colab to fine-tune your model, you should make sure that your training doesn't stop due to inactivity. A simple hack to prevent this is to paste the following code into the console of this tab (*right mouse click -> inspect -> Console tab and insert code*)."
      ]
    },
    {
      "cell_type": "markdown",
      "metadata": {
        "id": "VYYAvgkW4P0m"
      },
      "source": [
        "```javascript\n",
        "function ConnectButton(){\n",
        "    console.log(\"Connect pushed\"); \n",
        "    document.querySelector(\"#top-toolbar > colab-connect-button\").shadowRoot.querySelector(\"#connect\").click() \n",
        "}\n",
        "setInterval(ConnectButton,60000);\n",
        "```"
      ]
    },
    {
      "cell_type": "code",
      "metadata": {
        "id": "_UEjJqGsQw24",
        "colab": {
          "base_uri": "https://localhost:8080/",
          "height": 130
        },
        "outputId": "1779fab0-bcf9-4cf0-a55c-76a9076d002f"
      },
      "source": [
        "trainer.train()"
      ],
      "execution_count": null,
      "outputs": [
        {
          "output_type": "stream",
          "text": [
            "/usr/local/lib/python3.7/dist-packages/torch/optim/lr_scheduler.py:134: UserWarning: Detected call of `lr_scheduler.step()` before `optimizer.step()`. In PyTorch 1.1.0 and later, you should call them in the opposite order: `optimizer.step()` before `lr_scheduler.step()`.  Failure to do this will result in PyTorch skipping the first value of the learning rate schedule. See more details at https://pytorch.org/docs/stable/optim.html#how-to-adjust-learning-rate\n",
            "  \"https://pytorch.org/docs/stable/optim.html#how-to-adjust-learning-rate\", UserWarning)\n"
          ],
          "name": "stderr"
        },
        {
          "output_type": "display_data",
          "data": {
            "text/html": [
              "\n",
              "    <div>\n",
              "        <style>\n",
              "            /* Turns off some styling */\n",
              "            progress {\n",
              "                /* gets rid of default border in Firefox and Opera. */\n",
              "                border: none;\n",
              "                /* Needs to be in here for Safari polyfill so background images work as expected. */\n",
              "                background-size: auto;\n",
              "            }\n",
              "        </style>\n",
              "      \n",
              "      <progress value='181' max='240' style='width:300px; height:20px; vertical-align: middle;'></progress>\n",
              "      [181/240 17:09 < 05:39, 0.17 it/s, Epoch 22.50/30]\n",
              "    </div>\n",
              "    <table border=\"1\" class=\"dataframe\">\n",
              "  <thead>\n",
              "    <tr style=\"text-align: left;\">\n",
              "      <th>Step</th>\n",
              "      <th>Training Loss</th>\n",
              "      <th>Validation Loss</th>\n",
              "    </tr>\n",
              "  </thead>\n",
              "  <tbody>\n",
              "  </tbody>\n",
              "</table><p>"
            ],
            "text/plain": [
              "<IPython.core.display.HTML object>"
            ]
          },
          "metadata": {
            "tags": []
          }
        }
      ]
    },
    {
      "cell_type": "markdown",
      "metadata": {
        "id": "RHIVc44_fY2N"
      },
      "source": [
        "The training loss goes down and we can see that the WER on the test set also improves nicely. Because this notebook is just for demonstration purposes, we can stop here.\n",
        "\n",
        "The resulting model of this notebook has been saved to [`patrickvonplaten/wav2vec2-large-xlsr-turkish-demo`](https://huggingface.co/patrickvonplaten/wav2vec2-large-xlsr-turkish-demo)\n",
        "\n",
        "As a final check, let's load the model and verify that it indeed has learned to transcribe Turkish speech.\n",
        "\n",
        "Let's first load the pretrained checkpoint."
      ]
    },
    {
      "cell_type": "code",
      "metadata": {
        "colab": {
          "base_uri": "https://localhost:8080/"
        },
        "id": "J8E8pxJ9hgZS",
        "outputId": "5d137935-475d-4dbf-d833-d26780311e18"
      },
      "source": [
        "model = Wav2Vec2ForCTC.from_pretrained(\"patrickvonplaten/wav2vec2-large-xlsr-turkish-demo\").to(\"cuda\")\n",
        "processor = Wav2Vec2Processor.from_pretrained(\"patrickvonplaten/wav2vec2-large-xlsr-turkish-demo\")"
      ],
      "execution_count": null,
      "outputs": [
        {
          "output_type": "stream",
          "text": [
            "Special tokens have been added in the vocabulary, make sure the associated word embedding are fine-tuned or trained.\n"
          ],
          "name": "stderr"
        }
      ]
    },
    {
      "cell_type": "markdown",
      "metadata": {
        "id": "QsfGCQYSvY8C"
      },
      "source": [
        "Now, we will just take the first example of the test set, run it through the model and take the `argmax(...)` of the logits to retrieve the predicted token ids."
      ]
    },
    {
      "cell_type": "code",
      "metadata": {
        "colab": {
          "base_uri": "https://localhost:8080/"
        },
        "id": "EA6fxk-jiHby",
        "outputId": "8b91a977-2559-4adc-8298-b4ad6b7ff196"
      },
      "source": [
        "input_dict = processor(common_voice_test[\"input_values\"][0], return_tensors=\"pt\", padding=True)\n",
        "\n",
        "logits = model(input_dict.input_values.to(\"cuda\")).logits\n",
        "\n",
        "pred_ids = torch.argmax(logits, dim=-1)[0]"
      ],
      "execution_count": null,
      "outputs": [
        {
          "output_type": "stream",
          "text": [
            "It is strongly recommended to pass the ``sampling_rate`` argument to this function.Failing to do so can result in silent errors that might be hard to debug.\n"
          ],
          "name": "stderr"
        }
      ]
    },
    {
      "cell_type": "markdown",
      "metadata": {
        "id": "1JDyVCMDvlYd"
      },
      "source": [
        "We adapted `common_voice_test` quite a bit so that the dataset instance does not contain the original sentence label anymore. Thus, we re-use the original dataset to get the label of the first example."
      ]
    },
    {
      "cell_type": "code",
      "metadata": {
        "colab": {
          "base_uri": "https://localhost:8080/"
        },
        "id": "8dPE2GRIgtx-",
        "outputId": "a211d1ee-d850-481d-8bac-dc46c3efa561"
      },
      "source": [
        "common_voice_test_transcription = load_dataset(\"common_voice\", \"tr\", data_dir=\"./cv-corpus-6.1-2020-12-11\", split=\"test\")"
      ],
      "execution_count": null,
      "outputs": [
        {
          "output_type": "stream",
          "text": [
            "Using custom data configuration tr-ad9f7b76efa9f3a0\n",
            "Reusing dataset common_voice (/root/.cache/huggingface/datasets/common_voice/tr-ad9f7b76efa9f3a0/6.1.0/32954a9015faa0d840f6c6894938545c5d12bc5d8936a80079af74bf50d71564)\n"
          ],
          "name": "stderr"
        }
      ]
    },
    {
      "cell_type": "markdown",
      "metadata": {
        "id": "ApS3MmN4v5P7"
      },
      "source": [
        "Finally, we can decode the example."
      ]
    },
    {
      "cell_type": "code",
      "metadata": {
        "colab": {
          "base_uri": "https://localhost:8080/"
        },
        "id": "Phqxa1O1jMDk",
        "outputId": "60d48c9f-f745-45ac-9105-446dc71025ca"
      },
      "source": [
        "print(\"Prediction:\")\n",
        "print(processor.decode(pred_ids))\n",
        "\n",
        "print(\"\\nReference:\")\n",
        "print(common_voice_test_transcription[\"sentence\"][0].lower())\n"
      ],
      "execution_count": null,
      "outputs": [
        {
          "output_type": "stream",
          "text": [
            "Prediction:\n",
            "hata küçük şeyler için birbüy bi şeyler kolaluyor ve yenekiçük şeyler için bir bimizi inciltiyoruz\n",
            "\n",
            "Reference:\n",
            "hayatta küçük şeyleri kovalıyor ve yine küçük şeyler için birbirimizi incitiyoruz.\n"
          ],
          "name": "stdout"
        }
      ]
    },
    {
      "cell_type": "markdown",
      "metadata": {
        "id": "4n_8vhzUv7aw"
      },
      "source": [
        "Alright! The transcription can definitely be recognized from our prediction, but it is far from being perfect. Training the model a bit longer, spending more time on the data preprocessing, and especially using a language model for decoding would certainly improve the model's overall performance. \n",
        "\n",
        "For a demonstration model on a low-resource language, the results are acceptable, however 🤗."
      ]
    }
  ]
}