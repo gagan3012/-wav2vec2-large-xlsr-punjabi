{
  "nbformat": 4,
  "nbformat_minor": 0,
  "metadata": {
    "colab": {
      "name": "Fine-Tune XLSR-Wav2Vec2 on Punjabi ASR with 🤗 Transformers.ipynb",
      "provenance": [],
      "collapsed_sections": [],
      "toc_visible": true,
      "machine_shape": "hm",
      "include_colab_link": true
    },
    "kernelspec": {
      "name": "python3",
      "display_name": "Python 3"
    },
    "widgets": {
      "application/vnd.jupyter.widget-state+json": {
        "ef85338a5a0a4aa6bf5e925bd3fc7bdc": {
          "model_module": "@jupyter-widgets/controls",
          "model_name": "HBoxModel",
          "state": {
            "_view_name": "HBoxView",
            "_dom_classes": [],
            "_model_name": "HBoxModel",
            "_view_module": "@jupyter-widgets/controls",
            "_model_module_version": "1.5.0",
            "_view_count": null,
            "_view_module_version": "1.5.0",
            "box_style": "",
            "layout": "IPY_MODEL_a39a5f63653b45efa780c078b53e5ce0",
            "_model_module": "@jupyter-widgets/controls",
            "children": [
              "IPY_MODEL_c33fb9bb766d47bd8777fbe6ef44dc04",
              "IPY_MODEL_2bed834dab5a49ea9b30ca738f40c1a9"
            ]
          }
        },
        "a39a5f63653b45efa780c078b53e5ce0": {
          "model_module": "@jupyter-widgets/base",
          "model_name": "LayoutModel",
          "state": {
            "_view_name": "LayoutView",
            "grid_template_rows": null,
            "right": null,
            "justify_content": null,
            "_view_module": "@jupyter-widgets/base",
            "overflow": null,
            "_model_module_version": "1.2.0",
            "_view_count": null,
            "flex_flow": null,
            "width": null,
            "min_width": null,
            "border": null,
            "align_items": null,
            "bottom": null,
            "_model_module": "@jupyter-widgets/base",
            "top": null,
            "grid_column": null,
            "overflow_y": null,
            "overflow_x": null,
            "grid_auto_flow": null,
            "grid_area": null,
            "grid_template_columns": null,
            "flex": null,
            "_model_name": "LayoutModel",
            "justify_items": null,
            "grid_row": null,
            "max_height": null,
            "align_content": null,
            "visibility": null,
            "align_self": null,
            "height": null,
            "min_height": null,
            "padding": null,
            "grid_auto_rows": null,
            "grid_gap": null,
            "max_width": null,
            "order": null,
            "_view_module_version": "1.2.0",
            "grid_template_areas": null,
            "object_position": null,
            "object_fit": null,
            "grid_auto_columns": null,
            "margin": null,
            "display": null,
            "left": null
          }
        },
        "c33fb9bb766d47bd8777fbe6ef44dc04": {
          "model_module": "@jupyter-widgets/controls",
          "model_name": "FloatProgressModel",
          "state": {
            "_view_name": "ProgressView",
            "style": "IPY_MODEL_5cd85f01a10c4365bc833abeac946496",
            "_dom_classes": [],
            "description": "Downloading: ",
            "_model_name": "FloatProgressModel",
            "bar_style": "success",
            "max": 4323,
            "_view_module": "@jupyter-widgets/controls",
            "_model_module_version": "1.5.0",
            "value": 4323,
            "_view_count": null,
            "_view_module_version": "1.5.0",
            "orientation": "horizontal",
            "min": 0,
            "description_tooltip": null,
            "_model_module": "@jupyter-widgets/controls",
            "layout": "IPY_MODEL_bde0c2b3a25b4b8fbf4517cfe918b0c3"
          }
        },
        "2bed834dab5a49ea9b30ca738f40c1a9": {
          "model_module": "@jupyter-widgets/controls",
          "model_name": "HTMLModel",
          "state": {
            "_view_name": "HTMLView",
            "style": "IPY_MODEL_a68bdde0224f4b639f1604c28ee2da72",
            "_dom_classes": [],
            "description": "",
            "_model_name": "HTMLModel",
            "placeholder": "​",
            "_view_module": "@jupyter-widgets/controls",
            "_model_module_version": "1.5.0",
            "value": " 22.0k/? [00:00&lt;00:00, 117kB/s]",
            "_view_count": null,
            "_view_module_version": "1.5.0",
            "description_tooltip": null,
            "_model_module": "@jupyter-widgets/controls",
            "layout": "IPY_MODEL_04cb793db05c4f8190fa32c3bfd9c534"
          }
        },
        "5cd85f01a10c4365bc833abeac946496": {
          "model_module": "@jupyter-widgets/controls",
          "model_name": "ProgressStyleModel",
          "state": {
            "_view_name": "StyleView",
            "_model_name": "ProgressStyleModel",
            "description_width": "initial",
            "_view_module": "@jupyter-widgets/base",
            "_model_module_version": "1.5.0",
            "_view_count": null,
            "_view_module_version": "1.2.0",
            "bar_color": null,
            "_model_module": "@jupyter-widgets/controls"
          }
        },
        "bde0c2b3a25b4b8fbf4517cfe918b0c3": {
          "model_module": "@jupyter-widgets/base",
          "model_name": "LayoutModel",
          "state": {
            "_view_name": "LayoutView",
            "grid_template_rows": null,
            "right": null,
            "justify_content": null,
            "_view_module": "@jupyter-widgets/base",
            "overflow": null,
            "_model_module_version": "1.2.0",
            "_view_count": null,
            "flex_flow": null,
            "width": null,
            "min_width": null,
            "border": null,
            "align_items": null,
            "bottom": null,
            "_model_module": "@jupyter-widgets/base",
            "top": null,
            "grid_column": null,
            "overflow_y": null,
            "overflow_x": null,
            "grid_auto_flow": null,
            "grid_area": null,
            "grid_template_columns": null,
            "flex": null,
            "_model_name": "LayoutModel",
            "justify_items": null,
            "grid_row": null,
            "max_height": null,
            "align_content": null,
            "visibility": null,
            "align_self": null,
            "height": null,
            "min_height": null,
            "padding": null,
            "grid_auto_rows": null,
            "grid_gap": null,
            "max_width": null,
            "order": null,
            "_view_module_version": "1.2.0",
            "grid_template_areas": null,
            "object_position": null,
            "object_fit": null,
            "grid_auto_columns": null,
            "margin": null,
            "display": null,
            "left": null
          }
        },
        "a68bdde0224f4b639f1604c28ee2da72": {
          "model_module": "@jupyter-widgets/controls",
          "model_name": "DescriptionStyleModel",
          "state": {
            "_view_name": "StyleView",
            "_model_name": "DescriptionStyleModel",
            "description_width": "",
            "_view_module": "@jupyter-widgets/base",
            "_model_module_version": "1.5.0",
            "_view_count": null,
            "_view_module_version": "1.2.0",
            "_model_module": "@jupyter-widgets/controls"
          }
        },
        "04cb793db05c4f8190fa32c3bfd9c534": {
          "model_module": "@jupyter-widgets/base",
          "model_name": "LayoutModel",
          "state": {
            "_view_name": "LayoutView",
            "grid_template_rows": null,
            "right": null,
            "justify_content": null,
            "_view_module": "@jupyter-widgets/base",
            "overflow": null,
            "_model_module_version": "1.2.0",
            "_view_count": null,
            "flex_flow": null,
            "width": null,
            "min_width": null,
            "border": null,
            "align_items": null,
            "bottom": null,
            "_model_module": "@jupyter-widgets/base",
            "top": null,
            "grid_column": null,
            "overflow_y": null,
            "overflow_x": null,
            "grid_auto_flow": null,
            "grid_area": null,
            "grid_template_columns": null,
            "flex": null,
            "_model_name": "LayoutModel",
            "justify_items": null,
            "grid_row": null,
            "max_height": null,
            "align_content": null,
            "visibility": null,
            "align_self": null,
            "height": null,
            "min_height": null,
            "padding": null,
            "grid_auto_rows": null,
            "grid_gap": null,
            "max_width": null,
            "order": null,
            "_view_module_version": "1.2.0",
            "grid_template_areas": null,
            "object_position": null,
            "object_fit": null,
            "grid_auto_columns": null,
            "margin": null,
            "display": null,
            "left": null
          }
        },
        "b40c53e96f1343f7ba2f366208cdce75": {
          "model_module": "@jupyter-widgets/controls",
          "model_name": "HBoxModel",
          "state": {
            "_view_name": "HBoxView",
            "_dom_classes": [],
            "_model_name": "HBoxModel",
            "_view_module": "@jupyter-widgets/controls",
            "_model_module_version": "1.5.0",
            "_view_count": null,
            "_view_module_version": "1.5.0",
            "box_style": "",
            "layout": "IPY_MODEL_5fe834cd5895413781017c2f3f52a9ce",
            "_model_module": "@jupyter-widgets/controls",
            "children": [
              "IPY_MODEL_6524794611424f709f4d3096f5a2688e",
              "IPY_MODEL_0a594aa1638a42ca84f25ee2efe8091a"
            ]
          }
        },
        "5fe834cd5895413781017c2f3f52a9ce": {
          "model_module": "@jupyter-widgets/base",
          "model_name": "LayoutModel",
          "state": {
            "_view_name": "LayoutView",
            "grid_template_rows": null,
            "right": null,
            "justify_content": null,
            "_view_module": "@jupyter-widgets/base",
            "overflow": null,
            "_model_module_version": "1.2.0",
            "_view_count": null,
            "flex_flow": null,
            "width": null,
            "min_width": null,
            "border": null,
            "align_items": null,
            "bottom": null,
            "_model_module": "@jupyter-widgets/base",
            "top": null,
            "grid_column": null,
            "overflow_y": null,
            "overflow_x": null,
            "grid_auto_flow": null,
            "grid_area": null,
            "grid_template_columns": null,
            "flex": null,
            "_model_name": "LayoutModel",
            "justify_items": null,
            "grid_row": null,
            "max_height": null,
            "align_content": null,
            "visibility": null,
            "align_self": null,
            "height": null,
            "min_height": null,
            "padding": null,
            "grid_auto_rows": null,
            "grid_gap": null,
            "max_width": null,
            "order": null,
            "_view_module_version": "1.2.0",
            "grid_template_areas": null,
            "object_position": null,
            "object_fit": null,
            "grid_auto_columns": null,
            "margin": null,
            "display": null,
            "left": null
          }
        },
        "6524794611424f709f4d3096f5a2688e": {
          "model_module": "@jupyter-widgets/controls",
          "model_name": "FloatProgressModel",
          "state": {
            "_view_name": "ProgressView",
            "style": "IPY_MODEL_d5431d0d50da44b6a899be609691ad26",
            "_dom_classes": [],
            "description": "Downloading: ",
            "_model_name": "FloatProgressModel",
            "bar_style": "success",
            "max": 9954,
            "_view_module": "@jupyter-widgets/controls",
            "_model_module_version": "1.5.0",
            "value": 9954,
            "_view_count": null,
            "_view_module_version": "1.5.0",
            "orientation": "horizontal",
            "min": 0,
            "description_tooltip": null,
            "_model_module": "@jupyter-widgets/controls",
            "layout": "IPY_MODEL_66ebf2e206794903822a38d1f2a9511b"
          }
        },
        "0a594aa1638a42ca84f25ee2efe8091a": {
          "model_module": "@jupyter-widgets/controls",
          "model_name": "HTMLModel",
          "state": {
            "_view_name": "HTMLView",
            "style": "IPY_MODEL_ddbaecf75f714e4ca35c55fa1704817a",
            "_dom_classes": [],
            "description": "",
            "_model_name": "HTMLModel",
            "placeholder": "​",
            "_view_module": "@jupyter-widgets/controls",
            "_model_module_version": "1.5.0",
            "value": " 153k/? [00:00&lt;00:00, 2.95MB/s]",
            "_view_count": null,
            "_view_module_version": "1.5.0",
            "description_tooltip": null,
            "_model_module": "@jupyter-widgets/controls",
            "layout": "IPY_MODEL_d0cff5bc2a8f4c14a21c417ce30219eb"
          }
        },
        "d5431d0d50da44b6a899be609691ad26": {
          "model_module": "@jupyter-widgets/controls",
          "model_name": "ProgressStyleModel",
          "state": {
            "_view_name": "StyleView",
            "_model_name": "ProgressStyleModel",
            "description_width": "initial",
            "_view_module": "@jupyter-widgets/base",
            "_model_module_version": "1.5.0",
            "_view_count": null,
            "_view_module_version": "1.2.0",
            "bar_color": null,
            "_model_module": "@jupyter-widgets/controls"
          }
        },
        "66ebf2e206794903822a38d1f2a9511b": {
          "model_module": "@jupyter-widgets/base",
          "model_name": "LayoutModel",
          "state": {
            "_view_name": "LayoutView",
            "grid_template_rows": null,
            "right": null,
            "justify_content": null,
            "_view_module": "@jupyter-widgets/base",
            "overflow": null,
            "_model_module_version": "1.2.0",
            "_view_count": null,
            "flex_flow": null,
            "width": null,
            "min_width": null,
            "border": null,
            "align_items": null,
            "bottom": null,
            "_model_module": "@jupyter-widgets/base",
            "top": null,
            "grid_column": null,
            "overflow_y": null,
            "overflow_x": null,
            "grid_auto_flow": null,
            "grid_area": null,
            "grid_template_columns": null,
            "flex": null,
            "_model_name": "LayoutModel",
            "justify_items": null,
            "grid_row": null,
            "max_height": null,
            "align_content": null,
            "visibility": null,
            "align_self": null,
            "height": null,
            "min_height": null,
            "padding": null,
            "grid_auto_rows": null,
            "grid_gap": null,
            "max_width": null,
            "order": null,
            "_view_module_version": "1.2.0",
            "grid_template_areas": null,
            "object_position": null,
            "object_fit": null,
            "grid_auto_columns": null,
            "margin": null,
            "display": null,
            "left": null
          }
        },
        "ddbaecf75f714e4ca35c55fa1704817a": {
          "model_module": "@jupyter-widgets/controls",
          "model_name": "DescriptionStyleModel",
          "state": {
            "_view_name": "StyleView",
            "_model_name": "DescriptionStyleModel",
            "description_width": "",
            "_view_module": "@jupyter-widgets/base",
            "_model_module_version": "1.5.0",
            "_view_count": null,
            "_view_module_version": "1.2.0",
            "_model_module": "@jupyter-widgets/controls"
          }
        },
        "d0cff5bc2a8f4c14a21c417ce30219eb": {
          "model_module": "@jupyter-widgets/base",
          "model_name": "LayoutModel",
          "state": {
            "_view_name": "LayoutView",
            "grid_template_rows": null,
            "right": null,
            "justify_content": null,
            "_view_module": "@jupyter-widgets/base",
            "overflow": null,
            "_model_module_version": "1.2.0",
            "_view_count": null,
            "flex_flow": null,
            "width": null,
            "min_width": null,
            "border": null,
            "align_items": null,
            "bottom": null,
            "_model_module": "@jupyter-widgets/base",
            "top": null,
            "grid_column": null,
            "overflow_y": null,
            "overflow_x": null,
            "grid_auto_flow": null,
            "grid_area": null,
            "grid_template_columns": null,
            "flex": null,
            "_model_name": "LayoutModel",
            "justify_items": null,
            "grid_row": null,
            "max_height": null,
            "align_content": null,
            "visibility": null,
            "align_self": null,
            "height": null,
            "min_height": null,
            "padding": null,
            "grid_auto_rows": null,
            "grid_gap": null,
            "max_width": null,
            "order": null,
            "_view_module_version": "1.2.0",
            "grid_template_areas": null,
            "object_position": null,
            "object_fit": null,
            "grid_auto_columns": null,
            "margin": null,
            "display": null,
            "left": null
          }
        },
        "1949b15e1971479383edba2a26feac4a": {
          "model_module": "@jupyter-widgets/controls",
          "model_name": "HBoxModel",
          "state": {
            "_view_name": "HBoxView",
            "_dom_classes": [],
            "_model_name": "HBoxModel",
            "_view_module": "@jupyter-widgets/controls",
            "_model_module_version": "1.5.0",
            "_view_count": null,
            "_view_module_version": "1.5.0",
            "box_style": "",
            "layout": "IPY_MODEL_7fa020eab1b74ec6ae4033787e4e24f2",
            "_model_module": "@jupyter-widgets/controls",
            "children": [
              "IPY_MODEL_9ae05613ef784db7925d563ca680f788",
              "IPY_MODEL_81b636ce87594b7f808727114fa7b12d"
            ]
          }
        },
        "7fa020eab1b74ec6ae4033787e4e24f2": {
          "model_module": "@jupyter-widgets/base",
          "model_name": "LayoutModel",
          "state": {
            "_view_name": "LayoutView",
            "grid_template_rows": null,
            "right": null,
            "justify_content": null,
            "_view_module": "@jupyter-widgets/base",
            "overflow": null,
            "_model_module_version": "1.2.0",
            "_view_count": null,
            "flex_flow": null,
            "width": null,
            "min_width": null,
            "border": null,
            "align_items": null,
            "bottom": null,
            "_model_module": "@jupyter-widgets/base",
            "top": null,
            "grid_column": null,
            "overflow_y": null,
            "overflow_x": null,
            "grid_auto_flow": null,
            "grid_area": null,
            "grid_template_columns": null,
            "flex": null,
            "_model_name": "LayoutModel",
            "justify_items": null,
            "grid_row": null,
            "max_height": null,
            "align_content": null,
            "visibility": null,
            "align_self": null,
            "height": null,
            "min_height": null,
            "padding": null,
            "grid_auto_rows": null,
            "grid_gap": null,
            "max_width": null,
            "order": null,
            "_view_module_version": "1.2.0",
            "grid_template_areas": null,
            "object_position": null,
            "object_fit": null,
            "grid_auto_columns": null,
            "margin": null,
            "display": null,
            "left": null
          }
        },
        "9ae05613ef784db7925d563ca680f788": {
          "model_module": "@jupyter-widgets/controls",
          "model_name": "FloatProgressModel",
          "state": {
            "_view_name": "ProgressView",
            "style": "IPY_MODEL_2c7c31c0ee204303b4c0c872d1dec3f0",
            "_dom_classes": [],
            "description": "Downloading: 100%",
            "_model_name": "FloatProgressModel",
            "bar_style": "success",
            "max": 69748265,
            "_view_module": "@jupyter-widgets/controls",
            "_model_module_version": "1.5.0",
            "value": 69748265,
            "_view_count": null,
            "_view_module_version": "1.5.0",
            "orientation": "horizontal",
            "min": 0,
            "description_tooltip": null,
            "_model_module": "@jupyter-widgets/controls",
            "layout": "IPY_MODEL_91e35cc0fdca4ffa982a3b687ad34d99"
          }
        },
        "81b636ce87594b7f808727114fa7b12d": {
          "model_module": "@jupyter-widgets/controls",
          "model_name": "HTMLModel",
          "state": {
            "_view_name": "HTMLView",
            "style": "IPY_MODEL_5e087f7e29ec4579a3e6d403ee69f1bc",
            "_dom_classes": [],
            "description": "",
            "_model_name": "HTMLModel",
            "placeholder": "​",
            "_view_module": "@jupyter-widgets/controls",
            "_model_module_version": "1.5.0",
            "value": " 69.7M/69.7M [00:04&lt;00:00, 14.3MB/s]",
            "_view_count": null,
            "_view_module_version": "1.5.0",
            "description_tooltip": null,
            "_model_module": "@jupyter-widgets/controls",
            "layout": "IPY_MODEL_08caa675963943ec9b11393280614c04"
          }
        },
        "2c7c31c0ee204303b4c0c872d1dec3f0": {
          "model_module": "@jupyter-widgets/controls",
          "model_name": "ProgressStyleModel",
          "state": {
            "_view_name": "StyleView",
            "_model_name": "ProgressStyleModel",
            "description_width": "initial",
            "_view_module": "@jupyter-widgets/base",
            "_model_module_version": "1.5.0",
            "_view_count": null,
            "_view_module_version": "1.2.0",
            "bar_color": null,
            "_model_module": "@jupyter-widgets/controls"
          }
        },
        "91e35cc0fdca4ffa982a3b687ad34d99": {
          "model_module": "@jupyter-widgets/base",
          "model_name": "LayoutModel",
          "state": {
            "_view_name": "LayoutView",
            "grid_template_rows": null,
            "right": null,
            "justify_content": null,
            "_view_module": "@jupyter-widgets/base",
            "overflow": null,
            "_model_module_version": "1.2.0",
            "_view_count": null,
            "flex_flow": null,
            "width": null,
            "min_width": null,
            "border": null,
            "align_items": null,
            "bottom": null,
            "_model_module": "@jupyter-widgets/base",
            "top": null,
            "grid_column": null,
            "overflow_y": null,
            "overflow_x": null,
            "grid_auto_flow": null,
            "grid_area": null,
            "grid_template_columns": null,
            "flex": null,
            "_model_name": "LayoutModel",
            "justify_items": null,
            "grid_row": null,
            "max_height": null,
            "align_content": null,
            "visibility": null,
            "align_self": null,
            "height": null,
            "min_height": null,
            "padding": null,
            "grid_auto_rows": null,
            "grid_gap": null,
            "max_width": null,
            "order": null,
            "_view_module_version": "1.2.0",
            "grid_template_areas": null,
            "object_position": null,
            "object_fit": null,
            "grid_auto_columns": null,
            "margin": null,
            "display": null,
            "left": null
          }
        },
        "5e087f7e29ec4579a3e6d403ee69f1bc": {
          "model_module": "@jupyter-widgets/controls",
          "model_name": "DescriptionStyleModel",
          "state": {
            "_view_name": "StyleView",
            "_model_name": "DescriptionStyleModel",
            "description_width": "",
            "_view_module": "@jupyter-widgets/base",
            "_model_module_version": "1.5.0",
            "_view_count": null,
            "_view_module_version": "1.2.0",
            "_model_module": "@jupyter-widgets/controls"
          }
        },
        "08caa675963943ec9b11393280614c04": {
          "model_module": "@jupyter-widgets/base",
          "model_name": "LayoutModel",
          "state": {
            "_view_name": "LayoutView",
            "grid_template_rows": null,
            "right": null,
            "justify_content": null,
            "_view_module": "@jupyter-widgets/base",
            "overflow": null,
            "_model_module_version": "1.2.0",
            "_view_count": null,
            "flex_flow": null,
            "width": null,
            "min_width": null,
            "border": null,
            "align_items": null,
            "bottom": null,
            "_model_module": "@jupyter-widgets/base",
            "top": null,
            "grid_column": null,
            "overflow_y": null,
            "overflow_x": null,
            "grid_auto_flow": null,
            "grid_area": null,
            "grid_template_columns": null,
            "flex": null,
            "_model_name": "LayoutModel",
            "justify_items": null,
            "grid_row": null,
            "max_height": null,
            "align_content": null,
            "visibility": null,
            "align_self": null,
            "height": null,
            "min_height": null,
            "padding": null,
            "grid_auto_rows": null,
            "grid_gap": null,
            "max_width": null,
            "order": null,
            "_view_module_version": "1.2.0",
            "grid_template_areas": null,
            "object_position": null,
            "object_fit": null,
            "grid_auto_columns": null,
            "margin": null,
            "display": null,
            "left": null
          }
        },
        "cc2ede2ed6aa43359aa251a7e5fb40c9": {
          "model_module": "@jupyter-widgets/controls",
          "model_name": "HBoxModel",
          "state": {
            "_view_name": "HBoxView",
            "_dom_classes": [],
            "_model_name": "HBoxModel",
            "_view_module": "@jupyter-widgets/controls",
            "_model_module_version": "1.5.0",
            "_view_count": null,
            "_view_module_version": "1.5.0",
            "box_style": "",
            "layout": "IPY_MODEL_17ff1a95ec724546a7f28d4217e2eaa3",
            "_model_module": "@jupyter-widgets/controls",
            "children": [
              "IPY_MODEL_172c363821da4af3bff77a084781e235",
              "IPY_MODEL_6834b6830af44036bc330e5c9c017be8"
            ]
          }
        },
        "17ff1a95ec724546a7f28d4217e2eaa3": {
          "model_module": "@jupyter-widgets/base",
          "model_name": "LayoutModel",
          "state": {
            "_view_name": "LayoutView",
            "grid_template_rows": null,
            "right": null,
            "justify_content": null,
            "_view_module": "@jupyter-widgets/base",
            "overflow": null,
            "_model_module_version": "1.2.0",
            "_view_count": null,
            "flex_flow": null,
            "width": null,
            "min_width": null,
            "border": null,
            "align_items": null,
            "bottom": null,
            "_model_module": "@jupyter-widgets/base",
            "top": null,
            "grid_column": null,
            "overflow_y": null,
            "overflow_x": null,
            "grid_auto_flow": null,
            "grid_area": null,
            "grid_template_columns": null,
            "flex": null,
            "_model_name": "LayoutModel",
            "justify_items": null,
            "grid_row": null,
            "max_height": null,
            "align_content": null,
            "visibility": null,
            "align_self": null,
            "height": null,
            "min_height": null,
            "padding": null,
            "grid_auto_rows": null,
            "grid_gap": null,
            "max_width": null,
            "order": null,
            "_view_module_version": "1.2.0",
            "grid_template_areas": null,
            "object_position": null,
            "object_fit": null,
            "grid_auto_columns": null,
            "margin": null,
            "display": null,
            "left": null
          }
        },
        "172c363821da4af3bff77a084781e235": {
          "model_module": "@jupyter-widgets/controls",
          "model_name": "FloatProgressModel",
          "state": {
            "_view_name": "ProgressView",
            "style": "IPY_MODEL_172f5f4c6e2146f491b18f849f56821d",
            "_dom_classes": [],
            "description": "",
            "_model_name": "FloatProgressModel",
            "bar_style": "info",
            "max": 1,
            "_view_module": "@jupyter-widgets/controls",
            "_model_module_version": "1.5.0",
            "value": 1,
            "_view_count": null,
            "_view_module_version": "1.5.0",
            "orientation": "horizontal",
            "min": 0,
            "description_tooltip": null,
            "_model_module": "@jupyter-widgets/controls",
            "layout": "IPY_MODEL_c59d08cc077e44f0aa94b906c4fb0dc8"
          }
        },
        "6834b6830af44036bc330e5c9c017be8": {
          "model_module": "@jupyter-widgets/controls",
          "model_name": "HTMLModel",
          "state": {
            "_view_name": "HTMLView",
            "style": "IPY_MODEL_bc6d07f853e7469a84236dc37fe70373",
            "_dom_classes": [],
            "description": "",
            "_model_name": "HTMLModel",
            "placeholder": "​",
            "_view_module": "@jupyter-widgets/controls",
            "_model_module_version": "1.5.0",
            "value": " 211/0 [00:04&lt;00:00,  4.95s/ examples]",
            "_view_count": null,
            "_view_module_version": "1.5.0",
            "description_tooltip": null,
            "_model_module": "@jupyter-widgets/controls",
            "layout": "IPY_MODEL_071a993862f14173a1cd919d85e9ca5b"
          }
        },
        "172f5f4c6e2146f491b18f849f56821d": {
          "model_module": "@jupyter-widgets/controls",
          "model_name": "ProgressStyleModel",
          "state": {
            "_view_name": "StyleView",
            "_model_name": "ProgressStyleModel",
            "description_width": "initial",
            "_view_module": "@jupyter-widgets/base",
            "_model_module_version": "1.5.0",
            "_view_count": null,
            "_view_module_version": "1.2.0",
            "bar_color": null,
            "_model_module": "@jupyter-widgets/controls"
          }
        },
        "c59d08cc077e44f0aa94b906c4fb0dc8": {
          "model_module": "@jupyter-widgets/base",
          "model_name": "LayoutModel",
          "state": {
            "_view_name": "LayoutView",
            "grid_template_rows": null,
            "right": null,
            "justify_content": null,
            "_view_module": "@jupyter-widgets/base",
            "overflow": null,
            "_model_module_version": "1.2.0",
            "_view_count": null,
            "flex_flow": null,
            "width": null,
            "min_width": null,
            "border": null,
            "align_items": null,
            "bottom": null,
            "_model_module": "@jupyter-widgets/base",
            "top": null,
            "grid_column": null,
            "overflow_y": null,
            "overflow_x": null,
            "grid_auto_flow": null,
            "grid_area": null,
            "grid_template_columns": null,
            "flex": null,
            "_model_name": "LayoutModel",
            "justify_items": null,
            "grid_row": null,
            "max_height": null,
            "align_content": null,
            "visibility": null,
            "align_self": null,
            "height": null,
            "min_height": null,
            "padding": null,
            "grid_auto_rows": null,
            "grid_gap": null,
            "max_width": null,
            "order": null,
            "_view_module_version": "1.2.0",
            "grid_template_areas": null,
            "object_position": null,
            "object_fit": null,
            "grid_auto_columns": null,
            "margin": null,
            "display": null,
            "left": null
          }
        },
        "bc6d07f853e7469a84236dc37fe70373": {
          "model_module": "@jupyter-widgets/controls",
          "model_name": "DescriptionStyleModel",
          "state": {
            "_view_name": "StyleView",
            "_model_name": "DescriptionStyleModel",
            "description_width": "",
            "_view_module": "@jupyter-widgets/base",
            "_model_module_version": "1.5.0",
            "_view_count": null,
            "_view_module_version": "1.2.0",
            "_model_module": "@jupyter-widgets/controls"
          }
        },
        "071a993862f14173a1cd919d85e9ca5b": {
          "model_module": "@jupyter-widgets/base",
          "model_name": "LayoutModel",
          "state": {
            "_view_name": "LayoutView",
            "grid_template_rows": null,
            "right": null,
            "justify_content": null,
            "_view_module": "@jupyter-widgets/base",
            "overflow": null,
            "_model_module_version": "1.2.0",
            "_view_count": null,
            "flex_flow": null,
            "width": null,
            "min_width": null,
            "border": null,
            "align_items": null,
            "bottom": null,
            "_model_module": "@jupyter-widgets/base",
            "top": null,
            "grid_column": null,
            "overflow_y": null,
            "overflow_x": null,
            "grid_auto_flow": null,
            "grid_area": null,
            "grid_template_columns": null,
            "flex": null,
            "_model_name": "LayoutModel",
            "justify_items": null,
            "grid_row": null,
            "max_height": null,
            "align_content": null,
            "visibility": null,
            "align_self": null,
            "height": null,
            "min_height": null,
            "padding": null,
            "grid_auto_rows": null,
            "grid_gap": null,
            "max_width": null,
            "order": null,
            "_view_module_version": "1.2.0",
            "grid_template_areas": null,
            "object_position": null,
            "object_fit": null,
            "grid_auto_columns": null,
            "margin": null,
            "display": null,
            "left": null
          }
        },
        "63611dc92a9f431db564a2d4bff18036": {
          "model_module": "@jupyter-widgets/controls",
          "model_name": "HBoxModel",
          "state": {
            "_view_name": "HBoxView",
            "_dom_classes": [],
            "_model_name": "HBoxModel",
            "_view_module": "@jupyter-widgets/controls",
            "_model_module_version": "1.5.0",
            "_view_count": null,
            "_view_module_version": "1.5.0",
            "box_style": "",
            "layout": "IPY_MODEL_b447da5f07b24ef3b0a5dc9bd0f4c1b9",
            "_model_module": "@jupyter-widgets/controls",
            "children": [
              "IPY_MODEL_ece1a0c924854418a41e9696d1d51e1d",
              "IPY_MODEL_aaa22422c4df4531b7f2455a2d1d11f7"
            ]
          }
        },
        "b447da5f07b24ef3b0a5dc9bd0f4c1b9": {
          "model_module": "@jupyter-widgets/base",
          "model_name": "LayoutModel",
          "state": {
            "_view_name": "LayoutView",
            "grid_template_rows": null,
            "right": null,
            "justify_content": null,
            "_view_module": "@jupyter-widgets/base",
            "overflow": null,
            "_model_module_version": "1.2.0",
            "_view_count": null,
            "flex_flow": null,
            "width": null,
            "min_width": null,
            "border": null,
            "align_items": null,
            "bottom": null,
            "_model_module": "@jupyter-widgets/base",
            "top": null,
            "grid_column": null,
            "overflow_y": null,
            "overflow_x": null,
            "grid_auto_flow": null,
            "grid_area": null,
            "grid_template_columns": null,
            "flex": null,
            "_model_name": "LayoutModel",
            "justify_items": null,
            "grid_row": null,
            "max_height": null,
            "align_content": null,
            "visibility": null,
            "align_self": null,
            "height": null,
            "min_height": null,
            "padding": null,
            "grid_auto_rows": null,
            "grid_gap": null,
            "max_width": null,
            "order": null,
            "_view_module_version": "1.2.0",
            "grid_template_areas": null,
            "object_position": null,
            "object_fit": null,
            "grid_auto_columns": null,
            "margin": null,
            "display": null,
            "left": null
          }
        },
        "ece1a0c924854418a41e9696d1d51e1d": {
          "model_module": "@jupyter-widgets/controls",
          "model_name": "FloatProgressModel",
          "state": {
            "_view_name": "ProgressView",
            "style": "IPY_MODEL_c3e5104c8bb640d6b257cb250b6fb24c",
            "_dom_classes": [],
            "description": "",
            "_model_name": "FloatProgressModel",
            "bar_style": "info",
            "max": 1,
            "_view_module": "@jupyter-widgets/controls",
            "_model_module_version": "1.5.0",
            "value": 1,
            "_view_count": null,
            "_view_module_version": "1.5.0",
            "orientation": "horizontal",
            "min": 0,
            "description_tooltip": null,
            "_model_module": "@jupyter-widgets/controls",
            "layout": "IPY_MODEL_75d7839a22c246129bb233d30f0e417d"
          }
        },
        "aaa22422c4df4531b7f2455a2d1d11f7": {
          "model_module": "@jupyter-widgets/controls",
          "model_name": "HTMLModel",
          "state": {
            "_view_name": "HTMLView",
            "style": "IPY_MODEL_bc75cf21a87444479c9837d9e5776ed1",
            "_dom_classes": [],
            "description": "",
            "_model_name": "HTMLModel",
            "placeholder": "​",
            "_view_module": "@jupyter-widgets/controls",
            "_model_module_version": "1.5.0",
            "value": " 116/0 [00:00&lt;00:00, 3842.15 examples/s]",
            "_view_count": null,
            "_view_module_version": "1.5.0",
            "description_tooltip": null,
            "_model_module": "@jupyter-widgets/controls",
            "layout": "IPY_MODEL_4a04a6aa780741c7ae5ef03d392b4ee5"
          }
        },
        "c3e5104c8bb640d6b257cb250b6fb24c": {
          "model_module": "@jupyter-widgets/controls",
          "model_name": "ProgressStyleModel",
          "state": {
            "_view_name": "StyleView",
            "_model_name": "ProgressStyleModel",
            "description_width": "initial",
            "_view_module": "@jupyter-widgets/base",
            "_model_module_version": "1.5.0",
            "_view_count": null,
            "_view_module_version": "1.2.0",
            "bar_color": null,
            "_model_module": "@jupyter-widgets/controls"
          }
        },
        "75d7839a22c246129bb233d30f0e417d": {
          "model_module": "@jupyter-widgets/base",
          "model_name": "LayoutModel",
          "state": {
            "_view_name": "LayoutView",
            "grid_template_rows": null,
            "right": null,
            "justify_content": null,
            "_view_module": "@jupyter-widgets/base",
            "overflow": null,
            "_model_module_version": "1.2.0",
            "_view_count": null,
            "flex_flow": null,
            "width": null,
            "min_width": null,
            "border": null,
            "align_items": null,
            "bottom": null,
            "_model_module": "@jupyter-widgets/base",
            "top": null,
            "grid_column": null,
            "overflow_y": null,
            "overflow_x": null,
            "grid_auto_flow": null,
            "grid_area": null,
            "grid_template_columns": null,
            "flex": null,
            "_model_name": "LayoutModel",
            "justify_items": null,
            "grid_row": null,
            "max_height": null,
            "align_content": null,
            "visibility": null,
            "align_self": null,
            "height": null,
            "min_height": null,
            "padding": null,
            "grid_auto_rows": null,
            "grid_gap": null,
            "max_width": null,
            "order": null,
            "_view_module_version": "1.2.0",
            "grid_template_areas": null,
            "object_position": null,
            "object_fit": null,
            "grid_auto_columns": null,
            "margin": null,
            "display": null,
            "left": null
          }
        },
        "bc75cf21a87444479c9837d9e5776ed1": {
          "model_module": "@jupyter-widgets/controls",
          "model_name": "DescriptionStyleModel",
          "state": {
            "_view_name": "StyleView",
            "_model_name": "DescriptionStyleModel",
            "description_width": "",
            "_view_module": "@jupyter-widgets/base",
            "_model_module_version": "1.5.0",
            "_view_count": null,
            "_view_module_version": "1.2.0",
            "_model_module": "@jupyter-widgets/controls"
          }
        },
        "4a04a6aa780741c7ae5ef03d392b4ee5": {
          "model_module": "@jupyter-widgets/base",
          "model_name": "LayoutModel",
          "state": {
            "_view_name": "LayoutView",
            "grid_template_rows": null,
            "right": null,
            "justify_content": null,
            "_view_module": "@jupyter-widgets/base",
            "overflow": null,
            "_model_module_version": "1.2.0",
            "_view_count": null,
            "flex_flow": null,
            "width": null,
            "min_width": null,
            "border": null,
            "align_items": null,
            "bottom": null,
            "_model_module": "@jupyter-widgets/base",
            "top": null,
            "grid_column": null,
            "overflow_y": null,
            "overflow_x": null,
            "grid_auto_flow": null,
            "grid_area": null,
            "grid_template_columns": null,
            "flex": null,
            "_model_name": "LayoutModel",
            "justify_items": null,
            "grid_row": null,
            "max_height": null,
            "align_content": null,
            "visibility": null,
            "align_self": null,
            "height": null,
            "min_height": null,
            "padding": null,
            "grid_auto_rows": null,
            "grid_gap": null,
            "max_width": null,
            "order": null,
            "_view_module_version": "1.2.0",
            "grid_template_areas": null,
            "object_position": null,
            "object_fit": null,
            "grid_auto_columns": null,
            "margin": null,
            "display": null,
            "left": null
          }
        },
        "157ba4a8676b4b12aab956608b162786": {
          "model_module": "@jupyter-widgets/controls",
          "model_name": "HBoxModel",
          "state": {
            "_view_name": "HBoxView",
            "_dom_classes": [],
            "_model_name": "HBoxModel",
            "_view_module": "@jupyter-widgets/controls",
            "_model_module_version": "1.5.0",
            "_view_count": null,
            "_view_module_version": "1.5.0",
            "box_style": "",
            "layout": "IPY_MODEL_17df0733f3d4435bb30a23dc2177b807",
            "_model_module": "@jupyter-widgets/controls",
            "children": [
              "IPY_MODEL_a99b5ed6982f4c179c49592d339e8844",
              "IPY_MODEL_1cb66891afe043bf90b69e74a6b1851c"
            ]
          }
        },
        "17df0733f3d4435bb30a23dc2177b807": {
          "model_module": "@jupyter-widgets/base",
          "model_name": "LayoutModel",
          "state": {
            "_view_name": "LayoutView",
            "grid_template_rows": null,
            "right": null,
            "justify_content": null,
            "_view_module": "@jupyter-widgets/base",
            "overflow": null,
            "_model_module_version": "1.2.0",
            "_view_count": null,
            "flex_flow": null,
            "width": null,
            "min_width": null,
            "border": null,
            "align_items": null,
            "bottom": null,
            "_model_module": "@jupyter-widgets/base",
            "top": null,
            "grid_column": null,
            "overflow_y": null,
            "overflow_x": null,
            "grid_auto_flow": null,
            "grid_area": null,
            "grid_template_columns": null,
            "flex": null,
            "_model_name": "LayoutModel",
            "justify_items": null,
            "grid_row": null,
            "max_height": null,
            "align_content": null,
            "visibility": null,
            "align_self": null,
            "height": null,
            "min_height": null,
            "padding": null,
            "grid_auto_rows": null,
            "grid_gap": null,
            "max_width": null,
            "order": null,
            "_view_module_version": "1.2.0",
            "grid_template_areas": null,
            "object_position": null,
            "object_fit": null,
            "grid_auto_columns": null,
            "margin": null,
            "display": null,
            "left": null
          }
        },
        "a99b5ed6982f4c179c49592d339e8844": {
          "model_module": "@jupyter-widgets/controls",
          "model_name": "FloatProgressModel",
          "state": {
            "_view_name": "ProgressView",
            "style": "IPY_MODEL_064c882ab2d34b589c4e4ffa1b36e666",
            "_dom_classes": [],
            "description": "",
            "_model_name": "FloatProgressModel",
            "bar_style": "info",
            "max": 1,
            "_view_module": "@jupyter-widgets/controls",
            "_model_module_version": "1.5.0",
            "value": 1,
            "_view_count": null,
            "_view_module_version": "1.5.0",
            "orientation": "horizontal",
            "min": 0,
            "description_tooltip": null,
            "_model_module": "@jupyter-widgets/controls",
            "layout": "IPY_MODEL_6a7e8a0013554d7a80cb3721d4db85ae"
          }
        },
        "1cb66891afe043bf90b69e74a6b1851c": {
          "model_module": "@jupyter-widgets/controls",
          "model_name": "HTMLModel",
          "state": {
            "_view_name": "HTMLView",
            "style": "IPY_MODEL_5404a7a598ce4f33a06f42207f49ee6e",
            "_dom_classes": [],
            "description": "",
            "_model_name": "HTMLModel",
            "placeholder": "​",
            "_view_module": "@jupyter-widgets/controls",
            "_model_module_version": "1.5.0",
            "value": " 44/0 [00:00&lt;00:00, 1553.52 examples/s]",
            "_view_count": null,
            "_view_module_version": "1.5.0",
            "description_tooltip": null,
            "_model_module": "@jupyter-widgets/controls",
            "layout": "IPY_MODEL_0969361f8c2f492d8e29303c66116be2"
          }
        },
        "064c882ab2d34b589c4e4ffa1b36e666": {
          "model_module": "@jupyter-widgets/controls",
          "model_name": "ProgressStyleModel",
          "state": {
            "_view_name": "StyleView",
            "_model_name": "ProgressStyleModel",
            "description_width": "initial",
            "_view_module": "@jupyter-widgets/base",
            "_model_module_version": "1.5.0",
            "_view_count": null,
            "_view_module_version": "1.2.0",
            "bar_color": null,
            "_model_module": "@jupyter-widgets/controls"
          }
        },
        "6a7e8a0013554d7a80cb3721d4db85ae": {
          "model_module": "@jupyter-widgets/base",
          "model_name": "LayoutModel",
          "state": {
            "_view_name": "LayoutView",
            "grid_template_rows": null,
            "right": null,
            "justify_content": null,
            "_view_module": "@jupyter-widgets/base",
            "overflow": null,
            "_model_module_version": "1.2.0",
            "_view_count": null,
            "flex_flow": null,
            "width": null,
            "min_width": null,
            "border": null,
            "align_items": null,
            "bottom": null,
            "_model_module": "@jupyter-widgets/base",
            "top": null,
            "grid_column": null,
            "overflow_y": null,
            "overflow_x": null,
            "grid_auto_flow": null,
            "grid_area": null,
            "grid_template_columns": null,
            "flex": null,
            "_model_name": "LayoutModel",
            "justify_items": null,
            "grid_row": null,
            "max_height": null,
            "align_content": null,
            "visibility": null,
            "align_self": null,
            "height": null,
            "min_height": null,
            "padding": null,
            "grid_auto_rows": null,
            "grid_gap": null,
            "max_width": null,
            "order": null,
            "_view_module_version": "1.2.0",
            "grid_template_areas": null,
            "object_position": null,
            "object_fit": null,
            "grid_auto_columns": null,
            "margin": null,
            "display": null,
            "left": null
          }
        },
        "5404a7a598ce4f33a06f42207f49ee6e": {
          "model_module": "@jupyter-widgets/controls",
          "model_name": "DescriptionStyleModel",
          "state": {
            "_view_name": "StyleView",
            "_model_name": "DescriptionStyleModel",
            "description_width": "",
            "_view_module": "@jupyter-widgets/base",
            "_model_module_version": "1.5.0",
            "_view_count": null,
            "_view_module_version": "1.2.0",
            "_model_module": "@jupyter-widgets/controls"
          }
        },
        "0969361f8c2f492d8e29303c66116be2": {
          "model_module": "@jupyter-widgets/base",
          "model_name": "LayoutModel",
          "state": {
            "_view_name": "LayoutView",
            "grid_template_rows": null,
            "right": null,
            "justify_content": null,
            "_view_module": "@jupyter-widgets/base",
            "overflow": null,
            "_model_module_version": "1.2.0",
            "_view_count": null,
            "flex_flow": null,
            "width": null,
            "min_width": null,
            "border": null,
            "align_items": null,
            "bottom": null,
            "_model_module": "@jupyter-widgets/base",
            "top": null,
            "grid_column": null,
            "overflow_y": null,
            "overflow_x": null,
            "grid_auto_flow": null,
            "grid_area": null,
            "grid_template_columns": null,
            "flex": null,
            "_model_name": "LayoutModel",
            "justify_items": null,
            "grid_row": null,
            "max_height": null,
            "align_content": null,
            "visibility": null,
            "align_self": null,
            "height": null,
            "min_height": null,
            "padding": null,
            "grid_auto_rows": null,
            "grid_gap": null,
            "max_width": null,
            "order": null,
            "_view_module_version": "1.2.0",
            "grid_template_areas": null,
            "object_position": null,
            "object_fit": null,
            "grid_auto_columns": null,
            "margin": null,
            "display": null,
            "left": null
          }
        },
        "d5b216a4f30940cfa33870763623c9bd": {
          "model_module": "@jupyter-widgets/controls",
          "model_name": "HBoxModel",
          "state": {
            "_view_name": "HBoxView",
            "_dom_classes": [],
            "_model_name": "HBoxModel",
            "_view_module": "@jupyter-widgets/controls",
            "_model_module_version": "1.5.0",
            "_view_count": null,
            "_view_module_version": "1.5.0",
            "box_style": "",
            "layout": "IPY_MODEL_c5c2408be7094a3393ec3f7bfdcb5b0f",
            "_model_module": "@jupyter-widgets/controls",
            "children": [
              "IPY_MODEL_81801b90b44c4de197d93a93eec92b6e",
              "IPY_MODEL_b373b0b9e9a3459e94d5899644d0325c"
            ]
          }
        },
        "c5c2408be7094a3393ec3f7bfdcb5b0f": {
          "model_module": "@jupyter-widgets/base",
          "model_name": "LayoutModel",
          "state": {
            "_view_name": "LayoutView",
            "grid_template_rows": null,
            "right": null,
            "justify_content": null,
            "_view_module": "@jupyter-widgets/base",
            "overflow": null,
            "_model_module_version": "1.2.0",
            "_view_count": null,
            "flex_flow": null,
            "width": null,
            "min_width": null,
            "border": null,
            "align_items": null,
            "bottom": null,
            "_model_module": "@jupyter-widgets/base",
            "top": null,
            "grid_column": null,
            "overflow_y": null,
            "overflow_x": null,
            "grid_auto_flow": null,
            "grid_area": null,
            "grid_template_columns": null,
            "flex": null,
            "_model_name": "LayoutModel",
            "justify_items": null,
            "grid_row": null,
            "max_height": null,
            "align_content": null,
            "visibility": null,
            "align_self": null,
            "height": null,
            "min_height": null,
            "padding": null,
            "grid_auto_rows": null,
            "grid_gap": null,
            "max_width": null,
            "order": null,
            "_view_module_version": "1.2.0",
            "grid_template_areas": null,
            "object_position": null,
            "object_fit": null,
            "grid_auto_columns": null,
            "margin": null,
            "display": null,
            "left": null
          }
        },
        "81801b90b44c4de197d93a93eec92b6e": {
          "model_module": "@jupyter-widgets/controls",
          "model_name": "FloatProgressModel",
          "state": {
            "_view_name": "ProgressView",
            "style": "IPY_MODEL_48562fec859041daa106c00d044cee5b",
            "_dom_classes": [],
            "description": "",
            "_model_name": "FloatProgressModel",
            "bar_style": "info",
            "max": 1,
            "_view_module": "@jupyter-widgets/controls",
            "_model_module_version": "1.5.0",
            "value": 1,
            "_view_count": null,
            "_view_module_version": "1.5.0",
            "orientation": "horizontal",
            "min": 0,
            "description_tooltip": null,
            "_model_module": "@jupyter-widgets/controls",
            "layout": "IPY_MODEL_4ad67c9399f44b52a82725ee7d09d794"
          }
        },
        "b373b0b9e9a3459e94d5899644d0325c": {
          "model_module": "@jupyter-widgets/controls",
          "model_name": "HTMLModel",
          "state": {
            "_view_name": "HTMLView",
            "style": "IPY_MODEL_423a514944a34114b78336e9fd15b29b",
            "_dom_classes": [],
            "description": "",
            "_model_name": "HTMLModel",
            "placeholder": "​",
            "_view_module": "@jupyter-widgets/controls",
            "_model_module_version": "1.5.0",
            "value": " 1411/0 [00:00&lt;00:00, 14162.42 examples/s]",
            "_view_count": null,
            "_view_module_version": "1.5.0",
            "description_tooltip": null,
            "_model_module": "@jupyter-widgets/controls",
            "layout": "IPY_MODEL_049f8eb8f7794b3bb40af187071fac85"
          }
        },
        "48562fec859041daa106c00d044cee5b": {
          "model_module": "@jupyter-widgets/controls",
          "model_name": "ProgressStyleModel",
          "state": {
            "_view_name": "StyleView",
            "_model_name": "ProgressStyleModel",
            "description_width": "initial",
            "_view_module": "@jupyter-widgets/base",
            "_model_module_version": "1.5.0",
            "_view_count": null,
            "_view_module_version": "1.2.0",
            "bar_color": null,
            "_model_module": "@jupyter-widgets/controls"
          }
        },
        "4ad67c9399f44b52a82725ee7d09d794": {
          "model_module": "@jupyter-widgets/base",
          "model_name": "LayoutModel",
          "state": {
            "_view_name": "LayoutView",
            "grid_template_rows": null,
            "right": null,
            "justify_content": null,
            "_view_module": "@jupyter-widgets/base",
            "overflow": null,
            "_model_module_version": "1.2.0",
            "_view_count": null,
            "flex_flow": null,
            "width": null,
            "min_width": null,
            "border": null,
            "align_items": null,
            "bottom": null,
            "_model_module": "@jupyter-widgets/base",
            "top": null,
            "grid_column": null,
            "overflow_y": null,
            "overflow_x": null,
            "grid_auto_flow": null,
            "grid_area": null,
            "grid_template_columns": null,
            "flex": null,
            "_model_name": "LayoutModel",
            "justify_items": null,
            "grid_row": null,
            "max_height": null,
            "align_content": null,
            "visibility": null,
            "align_self": null,
            "height": null,
            "min_height": null,
            "padding": null,
            "grid_auto_rows": null,
            "grid_gap": null,
            "max_width": null,
            "order": null,
            "_view_module_version": "1.2.0",
            "grid_template_areas": null,
            "object_position": null,
            "object_fit": null,
            "grid_auto_columns": null,
            "margin": null,
            "display": null,
            "left": null
          }
        },
        "423a514944a34114b78336e9fd15b29b": {
          "model_module": "@jupyter-widgets/controls",
          "model_name": "DescriptionStyleModel",
          "state": {
            "_view_name": "StyleView",
            "_model_name": "DescriptionStyleModel",
            "description_width": "",
            "_view_module": "@jupyter-widgets/base",
            "_model_module_version": "1.5.0",
            "_view_count": null,
            "_view_module_version": "1.2.0",
            "_model_module": "@jupyter-widgets/controls"
          }
        },
        "049f8eb8f7794b3bb40af187071fac85": {
          "model_module": "@jupyter-widgets/base",
          "model_name": "LayoutModel",
          "state": {
            "_view_name": "LayoutView",
            "grid_template_rows": null,
            "right": null,
            "justify_content": null,
            "_view_module": "@jupyter-widgets/base",
            "overflow": null,
            "_model_module_version": "1.2.0",
            "_view_count": null,
            "flex_flow": null,
            "width": null,
            "min_width": null,
            "border": null,
            "align_items": null,
            "bottom": null,
            "_model_module": "@jupyter-widgets/base",
            "top": null,
            "grid_column": null,
            "overflow_y": null,
            "overflow_x": null,
            "grid_auto_flow": null,
            "grid_area": null,
            "grid_template_columns": null,
            "flex": null,
            "_model_name": "LayoutModel",
            "justify_items": null,
            "grid_row": null,
            "max_height": null,
            "align_content": null,
            "visibility": null,
            "align_self": null,
            "height": null,
            "min_height": null,
            "padding": null,
            "grid_auto_rows": null,
            "grid_gap": null,
            "max_width": null,
            "order": null,
            "_view_module_version": "1.2.0",
            "grid_template_areas": null,
            "object_position": null,
            "object_fit": null,
            "grid_auto_columns": null,
            "margin": null,
            "display": null,
            "left": null
          }
        },
        "c474cc6d10964ee3bda22bb449941c31": {
          "model_module": "@jupyter-widgets/controls",
          "model_name": "HBoxModel",
          "state": {
            "_view_name": "HBoxView",
            "_dom_classes": [],
            "_model_name": "HBoxModel",
            "_view_module": "@jupyter-widgets/controls",
            "_model_module_version": "1.5.0",
            "_view_count": null,
            "_view_module_version": "1.5.0",
            "box_style": "",
            "layout": "IPY_MODEL_5cba3b0009a645a99faaa69d7faef02d",
            "_model_module": "@jupyter-widgets/controls",
            "children": [
              "IPY_MODEL_fc24b7884ebc42c49660ca3a4aad7a56",
              "IPY_MODEL_ac5aa624668d40a08525f9d27603bfb2"
            ]
          }
        },
        "5cba3b0009a645a99faaa69d7faef02d": {
          "model_module": "@jupyter-widgets/base",
          "model_name": "LayoutModel",
          "state": {
            "_view_name": "LayoutView",
            "grid_template_rows": null,
            "right": null,
            "justify_content": null,
            "_view_module": "@jupyter-widgets/base",
            "overflow": null,
            "_model_module_version": "1.2.0",
            "_view_count": null,
            "flex_flow": null,
            "width": null,
            "min_width": null,
            "border": null,
            "align_items": null,
            "bottom": null,
            "_model_module": "@jupyter-widgets/base",
            "top": null,
            "grid_column": null,
            "overflow_y": null,
            "overflow_x": null,
            "grid_auto_flow": null,
            "grid_area": null,
            "grid_template_columns": null,
            "flex": null,
            "_model_name": "LayoutModel",
            "justify_items": null,
            "grid_row": null,
            "max_height": null,
            "align_content": null,
            "visibility": null,
            "align_self": null,
            "height": null,
            "min_height": null,
            "padding": null,
            "grid_auto_rows": null,
            "grid_gap": null,
            "max_width": null,
            "order": null,
            "_view_module_version": "1.2.0",
            "grid_template_areas": null,
            "object_position": null,
            "object_fit": null,
            "grid_auto_columns": null,
            "margin": null,
            "display": null,
            "left": null
          }
        },
        "fc24b7884ebc42c49660ca3a4aad7a56": {
          "model_module": "@jupyter-widgets/controls",
          "model_name": "FloatProgressModel",
          "state": {
            "_view_name": "ProgressView",
            "style": "IPY_MODEL_a59047e75ca74ba3999c9c25026f132c",
            "_dom_classes": [],
            "description": "",
            "_model_name": "FloatProgressModel",
            "bar_style": "info",
            "max": 1,
            "_view_module": "@jupyter-widgets/controls",
            "_model_module_version": "1.5.0",
            "value": 1,
            "_view_count": null,
            "_view_module_version": "1.5.0",
            "orientation": "horizontal",
            "min": 0,
            "description_tooltip": null,
            "_model_module": "@jupyter-widgets/controls",
            "layout": "IPY_MODEL_00741922499042eaa0bbb2b628bc1309"
          }
        },
        "ac5aa624668d40a08525f9d27603bfb2": {
          "model_module": "@jupyter-widgets/controls",
          "model_name": "HTMLModel",
          "state": {
            "_view_name": "HTMLView",
            "style": "IPY_MODEL_8dd5084e97b941688b54b1edd44f5d64",
            "_dom_classes": [],
            "description": "",
            "_model_name": "HTMLModel",
            "placeholder": "​",
            "_view_module": "@jupyter-widgets/controls",
            "_model_module_version": "1.5.0",
            "value": " 43/0 [00:00&lt;00:00, 1691.84 examples/s]",
            "_view_count": null,
            "_view_module_version": "1.5.0",
            "description_tooltip": null,
            "_model_module": "@jupyter-widgets/controls",
            "layout": "IPY_MODEL_9fa346914269450582e7279fe8928440"
          }
        },
        "a59047e75ca74ba3999c9c25026f132c": {
          "model_module": "@jupyter-widgets/controls",
          "model_name": "ProgressStyleModel",
          "state": {
            "_view_name": "StyleView",
            "_model_name": "ProgressStyleModel",
            "description_width": "initial",
            "_view_module": "@jupyter-widgets/base",
            "_model_module_version": "1.5.0",
            "_view_count": null,
            "_view_module_version": "1.2.0",
            "bar_color": null,
            "_model_module": "@jupyter-widgets/controls"
          }
        },
        "00741922499042eaa0bbb2b628bc1309": {
          "model_module": "@jupyter-widgets/base",
          "model_name": "LayoutModel",
          "state": {
            "_view_name": "LayoutView",
            "grid_template_rows": null,
            "right": null,
            "justify_content": null,
            "_view_module": "@jupyter-widgets/base",
            "overflow": null,
            "_model_module_version": "1.2.0",
            "_view_count": null,
            "flex_flow": null,
            "width": null,
            "min_width": null,
            "border": null,
            "align_items": null,
            "bottom": null,
            "_model_module": "@jupyter-widgets/base",
            "top": null,
            "grid_column": null,
            "overflow_y": null,
            "overflow_x": null,
            "grid_auto_flow": null,
            "grid_area": null,
            "grid_template_columns": null,
            "flex": null,
            "_model_name": "LayoutModel",
            "justify_items": null,
            "grid_row": null,
            "max_height": null,
            "align_content": null,
            "visibility": null,
            "align_self": null,
            "height": null,
            "min_height": null,
            "padding": null,
            "grid_auto_rows": null,
            "grid_gap": null,
            "max_width": null,
            "order": null,
            "_view_module_version": "1.2.0",
            "grid_template_areas": null,
            "object_position": null,
            "object_fit": null,
            "grid_auto_columns": null,
            "margin": null,
            "display": null,
            "left": null
          }
        },
        "8dd5084e97b941688b54b1edd44f5d64": {
          "model_module": "@jupyter-widgets/controls",
          "model_name": "DescriptionStyleModel",
          "state": {
            "_view_name": "StyleView",
            "_model_name": "DescriptionStyleModel",
            "description_width": "",
            "_view_module": "@jupyter-widgets/base",
            "_model_module_version": "1.5.0",
            "_view_count": null,
            "_view_module_version": "1.2.0",
            "_model_module": "@jupyter-widgets/controls"
          }
        },
        "9fa346914269450582e7279fe8928440": {
          "model_module": "@jupyter-widgets/base",
          "model_name": "LayoutModel",
          "state": {
            "_view_name": "LayoutView",
            "grid_template_rows": null,
            "right": null,
            "justify_content": null,
            "_view_module": "@jupyter-widgets/base",
            "overflow": null,
            "_model_module_version": "1.2.0",
            "_view_count": null,
            "flex_flow": null,
            "width": null,
            "min_width": null,
            "border": null,
            "align_items": null,
            "bottom": null,
            "_model_module": "@jupyter-widgets/base",
            "top": null,
            "grid_column": null,
            "overflow_y": null,
            "overflow_x": null,
            "grid_auto_flow": null,
            "grid_area": null,
            "grid_template_columns": null,
            "flex": null,
            "_model_name": "LayoutModel",
            "justify_items": null,
            "grid_row": null,
            "max_height": null,
            "align_content": null,
            "visibility": null,
            "align_self": null,
            "height": null,
            "min_height": null,
            "padding": null,
            "grid_auto_rows": null,
            "grid_gap": null,
            "max_width": null,
            "order": null,
            "_view_module_version": "1.2.0",
            "grid_template_areas": null,
            "object_position": null,
            "object_fit": null,
            "grid_auto_columns": null,
            "margin": null,
            "display": null,
            "left": null
          }
        },
        "1e066acfba12437c91dded09f40b9ab0": {
          "model_module": "@jupyter-widgets/controls",
          "model_name": "HBoxModel",
          "state": {
            "_view_name": "HBoxView",
            "_dom_classes": [],
            "_model_name": "HBoxModel",
            "_view_module": "@jupyter-widgets/controls",
            "_model_module_version": "1.5.0",
            "_view_count": null,
            "_view_module_version": "1.5.0",
            "box_style": "",
            "layout": "IPY_MODEL_00a14415cec0477f9f3a23618a04c26e",
            "_model_module": "@jupyter-widgets/controls",
            "children": [
              "IPY_MODEL_89e4dd9d4bf6499fac7dda25c76dcbe9",
              "IPY_MODEL_408a9a502cad4aa8882eb26a8744d364"
            ]
          }
        },
        "00a14415cec0477f9f3a23618a04c26e": {
          "model_module": "@jupyter-widgets/base",
          "model_name": "LayoutModel",
          "state": {
            "_view_name": "LayoutView",
            "grid_template_rows": null,
            "right": null,
            "justify_content": null,
            "_view_module": "@jupyter-widgets/base",
            "overflow": null,
            "_model_module_version": "1.2.0",
            "_view_count": null,
            "flex_flow": null,
            "width": null,
            "min_width": null,
            "border": null,
            "align_items": null,
            "bottom": null,
            "_model_module": "@jupyter-widgets/base",
            "top": null,
            "grid_column": null,
            "overflow_y": null,
            "overflow_x": null,
            "grid_auto_flow": null,
            "grid_area": null,
            "grid_template_columns": null,
            "flex": null,
            "_model_name": "LayoutModel",
            "justify_items": null,
            "grid_row": null,
            "max_height": null,
            "align_content": null,
            "visibility": null,
            "align_self": null,
            "height": null,
            "min_height": null,
            "padding": null,
            "grid_auto_rows": null,
            "grid_gap": null,
            "max_width": null,
            "order": null,
            "_view_module_version": "1.2.0",
            "grid_template_areas": null,
            "object_position": null,
            "object_fit": null,
            "grid_auto_columns": null,
            "margin": null,
            "display": null,
            "left": null
          }
        },
        "89e4dd9d4bf6499fac7dda25c76dcbe9": {
          "model_module": "@jupyter-widgets/controls",
          "model_name": "FloatProgressModel",
          "state": {
            "_view_name": "ProgressView",
            "style": "IPY_MODEL_bba22280ee384237a9288598275dfe74",
            "_dom_classes": [],
            "description": "100%",
            "_model_name": "FloatProgressModel",
            "bar_style": "success",
            "max": 255,
            "_view_module": "@jupyter-widgets/controls",
            "_model_module_version": "1.5.0",
            "value": 255,
            "_view_count": null,
            "_view_module_version": "1.5.0",
            "orientation": "horizontal",
            "min": 0,
            "description_tooltip": null,
            "_model_module": "@jupyter-widgets/controls",
            "layout": "IPY_MODEL_9fe90f6aff3845efa5d882638bda735b"
          }
        },
        "408a9a502cad4aa8882eb26a8744d364": {
          "model_module": "@jupyter-widgets/controls",
          "model_name": "HTMLModel",
          "state": {
            "_view_name": "HTMLView",
            "style": "IPY_MODEL_409052af5fc9475c977af9c701e93b42",
            "_dom_classes": [],
            "description": "",
            "_model_name": "HTMLModel",
            "placeholder": "​",
            "_view_module": "@jupyter-widgets/controls",
            "_model_module_version": "1.5.0",
            "value": " 255/255 [00:09&lt;00:00, 26.55ex/s]",
            "_view_count": null,
            "_view_module_version": "1.5.0",
            "description_tooltip": null,
            "_model_module": "@jupyter-widgets/controls",
            "layout": "IPY_MODEL_c842b81e38ca49cd8efcc8d1d39e21a5"
          }
        },
        "bba22280ee384237a9288598275dfe74": {
          "model_module": "@jupyter-widgets/controls",
          "model_name": "ProgressStyleModel",
          "state": {
            "_view_name": "StyleView",
            "_model_name": "ProgressStyleModel",
            "description_width": "initial",
            "_view_module": "@jupyter-widgets/base",
            "_model_module_version": "1.5.0",
            "_view_count": null,
            "_view_module_version": "1.2.0",
            "bar_color": null,
            "_model_module": "@jupyter-widgets/controls"
          }
        },
        "9fe90f6aff3845efa5d882638bda735b": {
          "model_module": "@jupyter-widgets/base",
          "model_name": "LayoutModel",
          "state": {
            "_view_name": "LayoutView",
            "grid_template_rows": null,
            "right": null,
            "justify_content": null,
            "_view_module": "@jupyter-widgets/base",
            "overflow": null,
            "_model_module_version": "1.2.0",
            "_view_count": null,
            "flex_flow": null,
            "width": null,
            "min_width": null,
            "border": null,
            "align_items": null,
            "bottom": null,
            "_model_module": "@jupyter-widgets/base",
            "top": null,
            "grid_column": null,
            "overflow_y": null,
            "overflow_x": null,
            "grid_auto_flow": null,
            "grid_area": null,
            "grid_template_columns": null,
            "flex": null,
            "_model_name": "LayoutModel",
            "justify_items": null,
            "grid_row": null,
            "max_height": null,
            "align_content": null,
            "visibility": null,
            "align_self": null,
            "height": null,
            "min_height": null,
            "padding": null,
            "grid_auto_rows": null,
            "grid_gap": null,
            "max_width": null,
            "order": null,
            "_view_module_version": "1.2.0",
            "grid_template_areas": null,
            "object_position": null,
            "object_fit": null,
            "grid_auto_columns": null,
            "margin": null,
            "display": null,
            "left": null
          }
        },
        "409052af5fc9475c977af9c701e93b42": {
          "model_module": "@jupyter-widgets/controls",
          "model_name": "DescriptionStyleModel",
          "state": {
            "_view_name": "StyleView",
            "_model_name": "DescriptionStyleModel",
            "description_width": "",
            "_view_module": "@jupyter-widgets/base",
            "_model_module_version": "1.5.0",
            "_view_count": null,
            "_view_module_version": "1.2.0",
            "_model_module": "@jupyter-widgets/controls"
          }
        },
        "c842b81e38ca49cd8efcc8d1d39e21a5": {
          "model_module": "@jupyter-widgets/base",
          "model_name": "LayoutModel",
          "state": {
            "_view_name": "LayoutView",
            "grid_template_rows": null,
            "right": null,
            "justify_content": null,
            "_view_module": "@jupyter-widgets/base",
            "overflow": null,
            "_model_module_version": "1.2.0",
            "_view_count": null,
            "flex_flow": null,
            "width": null,
            "min_width": null,
            "border": null,
            "align_items": null,
            "bottom": null,
            "_model_module": "@jupyter-widgets/base",
            "top": null,
            "grid_column": null,
            "overflow_y": null,
            "overflow_x": null,
            "grid_auto_flow": null,
            "grid_area": null,
            "grid_template_columns": null,
            "flex": null,
            "_model_name": "LayoutModel",
            "justify_items": null,
            "grid_row": null,
            "max_height": null,
            "align_content": null,
            "visibility": null,
            "align_self": null,
            "height": null,
            "min_height": null,
            "padding": null,
            "grid_auto_rows": null,
            "grid_gap": null,
            "max_width": null,
            "order": null,
            "_view_module_version": "1.2.0",
            "grid_template_areas": null,
            "object_position": null,
            "object_fit": null,
            "grid_auto_columns": null,
            "margin": null,
            "display": null,
            "left": null
          }
        },
        "27ba63b441e94e8c800a8bc28be1e5fb": {
          "model_module": "@jupyter-widgets/controls",
          "model_name": "HBoxModel",
          "state": {
            "_view_name": "HBoxView",
            "_dom_classes": [],
            "_model_name": "HBoxModel",
            "_view_module": "@jupyter-widgets/controls",
            "_model_module_version": "1.5.0",
            "_view_count": null,
            "_view_module_version": "1.5.0",
            "box_style": "",
            "layout": "IPY_MODEL_8d76b6007512479daa940f01cd90e6be",
            "_model_module": "@jupyter-widgets/controls",
            "children": [
              "IPY_MODEL_78d643bf1745406db62baba43e751029",
              "IPY_MODEL_1a332a5d20fa4b13a8fd8378e98c8b5e"
            ]
          }
        },
        "8d76b6007512479daa940f01cd90e6be": {
          "model_module": "@jupyter-widgets/base",
          "model_name": "LayoutModel",
          "state": {
            "_view_name": "LayoutView",
            "grid_template_rows": null,
            "right": null,
            "justify_content": null,
            "_view_module": "@jupyter-widgets/base",
            "overflow": null,
            "_model_module_version": "1.2.0",
            "_view_count": null,
            "flex_flow": null,
            "width": null,
            "min_width": null,
            "border": null,
            "align_items": null,
            "bottom": null,
            "_model_module": "@jupyter-widgets/base",
            "top": null,
            "grid_column": null,
            "overflow_y": null,
            "overflow_x": null,
            "grid_auto_flow": null,
            "grid_area": null,
            "grid_template_columns": null,
            "flex": null,
            "_model_name": "LayoutModel",
            "justify_items": null,
            "grid_row": null,
            "max_height": null,
            "align_content": null,
            "visibility": null,
            "align_self": null,
            "height": null,
            "min_height": null,
            "padding": null,
            "grid_auto_rows": null,
            "grid_gap": null,
            "max_width": null,
            "order": null,
            "_view_module_version": "1.2.0",
            "grid_template_areas": null,
            "object_position": null,
            "object_fit": null,
            "grid_auto_columns": null,
            "margin": null,
            "display": null,
            "left": null
          }
        },
        "78d643bf1745406db62baba43e751029": {
          "model_module": "@jupyter-widgets/controls",
          "model_name": "FloatProgressModel",
          "state": {
            "_view_name": "ProgressView",
            "style": "IPY_MODEL_af47dc1b988d4b7789bc439512d943f2",
            "_dom_classes": [],
            "description": "100%",
            "_model_name": "FloatProgressModel",
            "bar_style": "success",
            "max": 116,
            "_view_module": "@jupyter-widgets/controls",
            "_model_module_version": "1.5.0",
            "value": 116,
            "_view_count": null,
            "_view_module_version": "1.5.0",
            "orientation": "horizontal",
            "min": 0,
            "description_tooltip": null,
            "_model_module": "@jupyter-widgets/controls",
            "layout": "IPY_MODEL_8112fd9e6a16442bbf7ae9becb399c7c"
          }
        },
        "1a332a5d20fa4b13a8fd8378e98c8b5e": {
          "model_module": "@jupyter-widgets/controls",
          "model_name": "HTMLModel",
          "state": {
            "_view_name": "HTMLView",
            "style": "IPY_MODEL_cc488fa06e574fb6a0653962f8bd97fe",
            "_dom_classes": [],
            "description": "",
            "_model_name": "HTMLModel",
            "placeholder": "​",
            "_view_module": "@jupyter-widgets/controls",
            "_model_module_version": "1.5.0",
            "value": " 116/116 [00:00&lt;00:00, 1612.26ex/s]",
            "_view_count": null,
            "_view_module_version": "1.5.0",
            "description_tooltip": null,
            "_model_module": "@jupyter-widgets/controls",
            "layout": "IPY_MODEL_d4e9067eb18046db9594745dba5c78f7"
          }
        },
        "af47dc1b988d4b7789bc439512d943f2": {
          "model_module": "@jupyter-widgets/controls",
          "model_name": "ProgressStyleModel",
          "state": {
            "_view_name": "StyleView",
            "_model_name": "ProgressStyleModel",
            "description_width": "initial",
            "_view_module": "@jupyter-widgets/base",
            "_model_module_version": "1.5.0",
            "_view_count": null,
            "_view_module_version": "1.2.0",
            "bar_color": null,
            "_model_module": "@jupyter-widgets/controls"
          }
        },
        "8112fd9e6a16442bbf7ae9becb399c7c": {
          "model_module": "@jupyter-widgets/base",
          "model_name": "LayoutModel",
          "state": {
            "_view_name": "LayoutView",
            "grid_template_rows": null,
            "right": null,
            "justify_content": null,
            "_view_module": "@jupyter-widgets/base",
            "overflow": null,
            "_model_module_version": "1.2.0",
            "_view_count": null,
            "flex_flow": null,
            "width": null,
            "min_width": null,
            "border": null,
            "align_items": null,
            "bottom": null,
            "_model_module": "@jupyter-widgets/base",
            "top": null,
            "grid_column": null,
            "overflow_y": null,
            "overflow_x": null,
            "grid_auto_flow": null,
            "grid_area": null,
            "grid_template_columns": null,
            "flex": null,
            "_model_name": "LayoutModel",
            "justify_items": null,
            "grid_row": null,
            "max_height": null,
            "align_content": null,
            "visibility": null,
            "align_self": null,
            "height": null,
            "min_height": null,
            "padding": null,
            "grid_auto_rows": null,
            "grid_gap": null,
            "max_width": null,
            "order": null,
            "_view_module_version": "1.2.0",
            "grid_template_areas": null,
            "object_position": null,
            "object_fit": null,
            "grid_auto_columns": null,
            "margin": null,
            "display": null,
            "left": null
          }
        },
        "cc488fa06e574fb6a0653962f8bd97fe": {
          "model_module": "@jupyter-widgets/controls",
          "model_name": "DescriptionStyleModel",
          "state": {
            "_view_name": "StyleView",
            "_model_name": "DescriptionStyleModel",
            "description_width": "",
            "_view_module": "@jupyter-widgets/base",
            "_model_module_version": "1.5.0",
            "_view_count": null,
            "_view_module_version": "1.2.0",
            "_model_module": "@jupyter-widgets/controls"
          }
        },
        "d4e9067eb18046db9594745dba5c78f7": {
          "model_module": "@jupyter-widgets/base",
          "model_name": "LayoutModel",
          "state": {
            "_view_name": "LayoutView",
            "grid_template_rows": null,
            "right": null,
            "justify_content": null,
            "_view_module": "@jupyter-widgets/base",
            "overflow": null,
            "_model_module_version": "1.2.0",
            "_view_count": null,
            "flex_flow": null,
            "width": null,
            "min_width": null,
            "border": null,
            "align_items": null,
            "bottom": null,
            "_model_module": "@jupyter-widgets/base",
            "top": null,
            "grid_column": null,
            "overflow_y": null,
            "overflow_x": null,
            "grid_auto_flow": null,
            "grid_area": null,
            "grid_template_columns": null,
            "flex": null,
            "_model_name": "LayoutModel",
            "justify_items": null,
            "grid_row": null,
            "max_height": null,
            "align_content": null,
            "visibility": null,
            "align_self": null,
            "height": null,
            "min_height": null,
            "padding": null,
            "grid_auto_rows": null,
            "grid_gap": null,
            "max_width": null,
            "order": null,
            "_view_module_version": "1.2.0",
            "grid_template_areas": null,
            "object_position": null,
            "object_fit": null,
            "grid_auto_columns": null,
            "margin": null,
            "display": null,
            "left": null
          }
        },
        "bd6a46a8fc8846fa916e522069c17399": {
          "model_module": "@jupyter-widgets/controls",
          "model_name": "HBoxModel",
          "state": {
            "_view_name": "HBoxView",
            "_dom_classes": [],
            "_model_name": "HBoxModel",
            "_view_module": "@jupyter-widgets/controls",
            "_model_module_version": "1.5.0",
            "_view_count": null,
            "_view_module_version": "1.5.0",
            "box_style": "",
            "layout": "IPY_MODEL_948c946f61de4bd789b045b8b1a215a1",
            "_model_module": "@jupyter-widgets/controls",
            "children": [
              "IPY_MODEL_6ef75a4d9f0749a89c4d7b0885a18db5",
              "IPY_MODEL_5862b2781f8a4df1be3f39839887594c"
            ]
          }
        },
        "948c946f61de4bd789b045b8b1a215a1": {
          "model_module": "@jupyter-widgets/base",
          "model_name": "LayoutModel",
          "state": {
            "_view_name": "LayoutView",
            "grid_template_rows": null,
            "right": null,
            "justify_content": null,
            "_view_module": "@jupyter-widgets/base",
            "overflow": null,
            "_model_module_version": "1.2.0",
            "_view_count": null,
            "flex_flow": null,
            "width": null,
            "min_width": null,
            "border": null,
            "align_items": null,
            "bottom": null,
            "_model_module": "@jupyter-widgets/base",
            "top": null,
            "grid_column": null,
            "overflow_y": null,
            "overflow_x": null,
            "grid_auto_flow": null,
            "grid_area": null,
            "grid_template_columns": null,
            "flex": null,
            "_model_name": "LayoutModel",
            "justify_items": null,
            "grid_row": null,
            "max_height": null,
            "align_content": null,
            "visibility": null,
            "align_self": null,
            "height": null,
            "min_height": null,
            "padding": null,
            "grid_auto_rows": null,
            "grid_gap": null,
            "max_width": null,
            "order": null,
            "_view_module_version": "1.2.0",
            "grid_template_areas": null,
            "object_position": null,
            "object_fit": null,
            "grid_auto_columns": null,
            "margin": null,
            "display": null,
            "left": null
          }
        },
        "6ef75a4d9f0749a89c4d7b0885a18db5": {
          "model_module": "@jupyter-widgets/controls",
          "model_name": "FloatProgressModel",
          "state": {
            "_view_name": "ProgressView",
            "style": "IPY_MODEL_7355d0c8ef584240976413c6078223e8",
            "_dom_classes": [],
            "description": "100%",
            "_model_name": "FloatProgressModel",
            "bar_style": "success",
            "max": 1,
            "_view_module": "@jupyter-widgets/controls",
            "_model_module_version": "1.5.0",
            "value": 1,
            "_view_count": null,
            "_view_module_version": "1.5.0",
            "orientation": "horizontal",
            "min": 0,
            "description_tooltip": null,
            "_model_module": "@jupyter-widgets/controls",
            "layout": "IPY_MODEL_10b4c25671df4c0e9d4be4426fda095f"
          }
        },
        "5862b2781f8a4df1be3f39839887594c": {
          "model_module": "@jupyter-widgets/controls",
          "model_name": "HTMLModel",
          "state": {
            "_view_name": "HTMLView",
            "style": "IPY_MODEL_87bff3bc11c540389bc8d79d2cc49625",
            "_dom_classes": [],
            "description": "",
            "_model_name": "HTMLModel",
            "placeholder": "​",
            "_view_module": "@jupyter-widgets/controls",
            "_model_module_version": "1.5.0",
            "value": " 1/1 [00:09&lt;00:00,  9.50s/ba]",
            "_view_count": null,
            "_view_module_version": "1.5.0",
            "description_tooltip": null,
            "_model_module": "@jupyter-widgets/controls",
            "layout": "IPY_MODEL_da036904465a45e990f5e67c5315a079"
          }
        },
        "7355d0c8ef584240976413c6078223e8": {
          "model_module": "@jupyter-widgets/controls",
          "model_name": "ProgressStyleModel",
          "state": {
            "_view_name": "StyleView",
            "_model_name": "ProgressStyleModel",
            "description_width": "initial",
            "_view_module": "@jupyter-widgets/base",
            "_model_module_version": "1.5.0",
            "_view_count": null,
            "_view_module_version": "1.2.0",
            "bar_color": null,
            "_model_module": "@jupyter-widgets/controls"
          }
        },
        "10b4c25671df4c0e9d4be4426fda095f": {
          "model_module": "@jupyter-widgets/base",
          "model_name": "LayoutModel",
          "state": {
            "_view_name": "LayoutView",
            "grid_template_rows": null,
            "right": null,
            "justify_content": null,
            "_view_module": "@jupyter-widgets/base",
            "overflow": null,
            "_model_module_version": "1.2.0",
            "_view_count": null,
            "flex_flow": null,
            "width": null,
            "min_width": null,
            "border": null,
            "align_items": null,
            "bottom": null,
            "_model_module": "@jupyter-widgets/base",
            "top": null,
            "grid_column": null,
            "overflow_y": null,
            "overflow_x": null,
            "grid_auto_flow": null,
            "grid_area": null,
            "grid_template_columns": null,
            "flex": null,
            "_model_name": "LayoutModel",
            "justify_items": null,
            "grid_row": null,
            "max_height": null,
            "align_content": null,
            "visibility": null,
            "align_self": null,
            "height": null,
            "min_height": null,
            "padding": null,
            "grid_auto_rows": null,
            "grid_gap": null,
            "max_width": null,
            "order": null,
            "_view_module_version": "1.2.0",
            "grid_template_areas": null,
            "object_position": null,
            "object_fit": null,
            "grid_auto_columns": null,
            "margin": null,
            "display": null,
            "left": null
          }
        },
        "87bff3bc11c540389bc8d79d2cc49625": {
          "model_module": "@jupyter-widgets/controls",
          "model_name": "DescriptionStyleModel",
          "state": {
            "_view_name": "StyleView",
            "_model_name": "DescriptionStyleModel",
            "description_width": "",
            "_view_module": "@jupyter-widgets/base",
            "_model_module_version": "1.5.0",
            "_view_count": null,
            "_view_module_version": "1.2.0",
            "_model_module": "@jupyter-widgets/controls"
          }
        },
        "da036904465a45e990f5e67c5315a079": {
          "model_module": "@jupyter-widgets/base",
          "model_name": "LayoutModel",
          "state": {
            "_view_name": "LayoutView",
            "grid_template_rows": null,
            "right": null,
            "justify_content": null,
            "_view_module": "@jupyter-widgets/base",
            "overflow": null,
            "_model_module_version": "1.2.0",
            "_view_count": null,
            "flex_flow": null,
            "width": null,
            "min_width": null,
            "border": null,
            "align_items": null,
            "bottom": null,
            "_model_module": "@jupyter-widgets/base",
            "top": null,
            "grid_column": null,
            "overflow_y": null,
            "overflow_x": null,
            "grid_auto_flow": null,
            "grid_area": null,
            "grid_template_columns": null,
            "flex": null,
            "_model_name": "LayoutModel",
            "justify_items": null,
            "grid_row": null,
            "max_height": null,
            "align_content": null,
            "visibility": null,
            "align_self": null,
            "height": null,
            "min_height": null,
            "padding": null,
            "grid_auto_rows": null,
            "grid_gap": null,
            "max_width": null,
            "order": null,
            "_view_module_version": "1.2.0",
            "grid_template_areas": null,
            "object_position": null,
            "object_fit": null,
            "grid_auto_columns": null,
            "margin": null,
            "display": null,
            "left": null
          }
        },
        "83b0caae62414c3296678aaa719b9beb": {
          "model_module": "@jupyter-widgets/controls",
          "model_name": "HBoxModel",
          "state": {
            "_view_name": "HBoxView",
            "_dom_classes": [],
            "_model_name": "HBoxModel",
            "_view_module": "@jupyter-widgets/controls",
            "_model_module_version": "1.5.0",
            "_view_count": null,
            "_view_module_version": "1.5.0",
            "box_style": "",
            "layout": "IPY_MODEL_27df7710046a409685774f88f88ae61f",
            "_model_module": "@jupyter-widgets/controls",
            "children": [
              "IPY_MODEL_bde861d892ec435caf6a3074fd34b112",
              "IPY_MODEL_e6823ba0eb75492e95ea93ad9fa726c5"
            ]
          }
        },
        "27df7710046a409685774f88f88ae61f": {
          "model_module": "@jupyter-widgets/base",
          "model_name": "LayoutModel",
          "state": {
            "_view_name": "LayoutView",
            "grid_template_rows": null,
            "right": null,
            "justify_content": null,
            "_view_module": "@jupyter-widgets/base",
            "overflow": null,
            "_model_module_version": "1.2.0",
            "_view_count": null,
            "flex_flow": null,
            "width": null,
            "min_width": null,
            "border": null,
            "align_items": null,
            "bottom": null,
            "_model_module": "@jupyter-widgets/base",
            "top": null,
            "grid_column": null,
            "overflow_y": null,
            "overflow_x": null,
            "grid_auto_flow": null,
            "grid_area": null,
            "grid_template_columns": null,
            "flex": null,
            "_model_name": "LayoutModel",
            "justify_items": null,
            "grid_row": null,
            "max_height": null,
            "align_content": null,
            "visibility": null,
            "align_self": null,
            "height": null,
            "min_height": null,
            "padding": null,
            "grid_auto_rows": null,
            "grid_gap": null,
            "max_width": null,
            "order": null,
            "_view_module_version": "1.2.0",
            "grid_template_areas": null,
            "object_position": null,
            "object_fit": null,
            "grid_auto_columns": null,
            "margin": null,
            "display": null,
            "left": null
          }
        },
        "bde861d892ec435caf6a3074fd34b112": {
          "model_module": "@jupyter-widgets/controls",
          "model_name": "FloatProgressModel",
          "state": {
            "_view_name": "ProgressView",
            "style": "IPY_MODEL_a1ed7d338a414da1a591a4dd6bc3f7b7",
            "_dom_classes": [],
            "description": "100%",
            "_model_name": "FloatProgressModel",
            "bar_style": "success",
            "max": 1,
            "_view_module": "@jupyter-widgets/controls",
            "_model_module_version": "1.5.0",
            "value": 1,
            "_view_count": null,
            "_view_module_version": "1.5.0",
            "orientation": "horizontal",
            "min": 0,
            "description_tooltip": null,
            "_model_module": "@jupyter-widgets/controls",
            "layout": "IPY_MODEL_bd8a52b7abb64e919e5b18fa340c9583"
          }
        },
        "e6823ba0eb75492e95ea93ad9fa726c5": {
          "model_module": "@jupyter-widgets/controls",
          "model_name": "HTMLModel",
          "state": {
            "_view_name": "HTMLView",
            "style": "IPY_MODEL_1aa0771d75e94fa6a715ddd6f73e3d4d",
            "_dom_classes": [],
            "description": "",
            "_model_name": "HTMLModel",
            "placeholder": "​",
            "_view_module": "@jupyter-widgets/controls",
            "_model_module_version": "1.5.0",
            "value": " 1/1 [00:00&lt;00:00, 13.34ba/s]",
            "_view_count": null,
            "_view_module_version": "1.5.0",
            "description_tooltip": null,
            "_model_module": "@jupyter-widgets/controls",
            "layout": "IPY_MODEL_68b9ccfe3d754c5b9dab47214a376e9f"
          }
        },
        "a1ed7d338a414da1a591a4dd6bc3f7b7": {
          "model_module": "@jupyter-widgets/controls",
          "model_name": "ProgressStyleModel",
          "state": {
            "_view_name": "StyleView",
            "_model_name": "ProgressStyleModel",
            "description_width": "initial",
            "_view_module": "@jupyter-widgets/base",
            "_model_module_version": "1.5.0",
            "_view_count": null,
            "_view_module_version": "1.2.0",
            "bar_color": null,
            "_model_module": "@jupyter-widgets/controls"
          }
        },
        "bd8a52b7abb64e919e5b18fa340c9583": {
          "model_module": "@jupyter-widgets/base",
          "model_name": "LayoutModel",
          "state": {
            "_view_name": "LayoutView",
            "grid_template_rows": null,
            "right": null,
            "justify_content": null,
            "_view_module": "@jupyter-widgets/base",
            "overflow": null,
            "_model_module_version": "1.2.0",
            "_view_count": null,
            "flex_flow": null,
            "width": null,
            "min_width": null,
            "border": null,
            "align_items": null,
            "bottom": null,
            "_model_module": "@jupyter-widgets/base",
            "top": null,
            "grid_column": null,
            "overflow_y": null,
            "overflow_x": null,
            "grid_auto_flow": null,
            "grid_area": null,
            "grid_template_columns": null,
            "flex": null,
            "_model_name": "LayoutModel",
            "justify_items": null,
            "grid_row": null,
            "max_height": null,
            "align_content": null,
            "visibility": null,
            "align_self": null,
            "height": null,
            "min_height": null,
            "padding": null,
            "grid_auto_rows": null,
            "grid_gap": null,
            "max_width": null,
            "order": null,
            "_view_module_version": "1.2.0",
            "grid_template_areas": null,
            "object_position": null,
            "object_fit": null,
            "grid_auto_columns": null,
            "margin": null,
            "display": null,
            "left": null
          }
        },
        "1aa0771d75e94fa6a715ddd6f73e3d4d": {
          "model_module": "@jupyter-widgets/controls",
          "model_name": "DescriptionStyleModel",
          "state": {
            "_view_name": "StyleView",
            "_model_name": "DescriptionStyleModel",
            "description_width": "",
            "_view_module": "@jupyter-widgets/base",
            "_model_module_version": "1.5.0",
            "_view_count": null,
            "_view_module_version": "1.2.0",
            "_model_module": "@jupyter-widgets/controls"
          }
        },
        "68b9ccfe3d754c5b9dab47214a376e9f": {
          "model_module": "@jupyter-widgets/base",
          "model_name": "LayoutModel",
          "state": {
            "_view_name": "LayoutView",
            "grid_template_rows": null,
            "right": null,
            "justify_content": null,
            "_view_module": "@jupyter-widgets/base",
            "overflow": null,
            "_model_module_version": "1.2.0",
            "_view_count": null,
            "flex_flow": null,
            "width": null,
            "min_width": null,
            "border": null,
            "align_items": null,
            "bottom": null,
            "_model_module": "@jupyter-widgets/base",
            "top": null,
            "grid_column": null,
            "overflow_y": null,
            "overflow_x": null,
            "grid_auto_flow": null,
            "grid_area": null,
            "grid_template_columns": null,
            "flex": null,
            "_model_name": "LayoutModel",
            "justify_items": null,
            "grid_row": null,
            "max_height": null,
            "align_content": null,
            "visibility": null,
            "align_self": null,
            "height": null,
            "min_height": null,
            "padding": null,
            "grid_auto_rows": null,
            "grid_gap": null,
            "max_width": null,
            "order": null,
            "_view_module_version": "1.2.0",
            "grid_template_areas": null,
            "object_position": null,
            "object_fit": null,
            "grid_auto_columns": null,
            "margin": null,
            "display": null,
            "left": null
          }
        },
        "09be2c884bad416c92d73d84b1054411": {
          "model_module": "@jupyter-widgets/controls",
          "model_name": "HBoxModel",
          "state": {
            "_view_name": "HBoxView",
            "_dom_classes": [],
            "_model_name": "HBoxModel",
            "_view_module": "@jupyter-widgets/controls",
            "_model_module_version": "1.5.0",
            "_view_count": null,
            "_view_module_version": "1.5.0",
            "box_style": "",
            "layout": "IPY_MODEL_1412f6b222f5426d925b187760a4ab33",
            "_model_module": "@jupyter-widgets/controls",
            "children": [
              "IPY_MODEL_682ec8784b1447c398941bf447a21f57",
              "IPY_MODEL_81d9bd21b0764480b3477caa3015f39e"
            ]
          }
        },
        "1412f6b222f5426d925b187760a4ab33": {
          "model_module": "@jupyter-widgets/base",
          "model_name": "LayoutModel",
          "state": {
            "_view_name": "LayoutView",
            "grid_template_rows": null,
            "right": null,
            "justify_content": null,
            "_view_module": "@jupyter-widgets/base",
            "overflow": null,
            "_model_module_version": "1.2.0",
            "_view_count": null,
            "flex_flow": null,
            "width": null,
            "min_width": null,
            "border": null,
            "align_items": null,
            "bottom": null,
            "_model_module": "@jupyter-widgets/base",
            "top": null,
            "grid_column": null,
            "overflow_y": null,
            "overflow_x": null,
            "grid_auto_flow": null,
            "grid_area": null,
            "grid_template_columns": null,
            "flex": null,
            "_model_name": "LayoutModel",
            "justify_items": null,
            "grid_row": null,
            "max_height": null,
            "align_content": null,
            "visibility": null,
            "align_self": null,
            "height": null,
            "min_height": null,
            "padding": null,
            "grid_auto_rows": null,
            "grid_gap": null,
            "max_width": null,
            "order": null,
            "_view_module_version": "1.2.0",
            "grid_template_areas": null,
            "object_position": null,
            "object_fit": null,
            "grid_auto_columns": null,
            "margin": null,
            "display": null,
            "left": null
          }
        },
        "682ec8784b1447c398941bf447a21f57": {
          "model_module": "@jupyter-widgets/controls",
          "model_name": "FloatProgressModel",
          "state": {
            "_view_name": "ProgressView",
            "style": "IPY_MODEL_8fd1b2ca3fb34efd90c1ba6a7c85af81",
            "_dom_classes": [],
            "description": "100%",
            "_model_name": "FloatProgressModel",
            "bar_style": "success",
            "max": 255,
            "_view_module": "@jupyter-widgets/controls",
            "_model_module_version": "1.5.0",
            "value": 255,
            "_view_count": null,
            "_view_module_version": "1.5.0",
            "orientation": "horizontal",
            "min": 0,
            "description_tooltip": null,
            "_model_module": "@jupyter-widgets/controls",
            "layout": "IPY_MODEL_4168209f6f8343388ab62f8057a88a9e"
          }
        },
        "81d9bd21b0764480b3477caa3015f39e": {
          "model_module": "@jupyter-widgets/controls",
          "model_name": "HTMLModel",
          "state": {
            "_view_name": "HTMLView",
            "style": "IPY_MODEL_3e0b30c38e604aafb4bd6eb2fcdb5fba",
            "_dom_classes": [],
            "description": "",
            "_model_name": "HTMLModel",
            "placeholder": "​",
            "_view_module": "@jupyter-widgets/controls",
            "_model_module_version": "1.5.0",
            "value": " 255/255 [00:09&lt;00:00, 27.66ex/s]",
            "_view_count": null,
            "_view_module_version": "1.5.0",
            "description_tooltip": null,
            "_model_module": "@jupyter-widgets/controls",
            "layout": "IPY_MODEL_d8b98bdedb5d40a294d6706d3e68a9f6"
          }
        },
        "8fd1b2ca3fb34efd90c1ba6a7c85af81": {
          "model_module": "@jupyter-widgets/controls",
          "model_name": "ProgressStyleModel",
          "state": {
            "_view_name": "StyleView",
            "_model_name": "ProgressStyleModel",
            "description_width": "initial",
            "_view_module": "@jupyter-widgets/base",
            "_model_module_version": "1.5.0",
            "_view_count": null,
            "_view_module_version": "1.2.0",
            "bar_color": null,
            "_model_module": "@jupyter-widgets/controls"
          }
        },
        "4168209f6f8343388ab62f8057a88a9e": {
          "model_module": "@jupyter-widgets/base",
          "model_name": "LayoutModel",
          "state": {
            "_view_name": "LayoutView",
            "grid_template_rows": null,
            "right": null,
            "justify_content": null,
            "_view_module": "@jupyter-widgets/base",
            "overflow": null,
            "_model_module_version": "1.2.0",
            "_view_count": null,
            "flex_flow": null,
            "width": null,
            "min_width": null,
            "border": null,
            "align_items": null,
            "bottom": null,
            "_model_module": "@jupyter-widgets/base",
            "top": null,
            "grid_column": null,
            "overflow_y": null,
            "overflow_x": null,
            "grid_auto_flow": null,
            "grid_area": null,
            "grid_template_columns": null,
            "flex": null,
            "_model_name": "LayoutModel",
            "justify_items": null,
            "grid_row": null,
            "max_height": null,
            "align_content": null,
            "visibility": null,
            "align_self": null,
            "height": null,
            "min_height": null,
            "padding": null,
            "grid_auto_rows": null,
            "grid_gap": null,
            "max_width": null,
            "order": null,
            "_view_module_version": "1.2.0",
            "grid_template_areas": null,
            "object_position": null,
            "object_fit": null,
            "grid_auto_columns": null,
            "margin": null,
            "display": null,
            "left": null
          }
        },
        "3e0b30c38e604aafb4bd6eb2fcdb5fba": {
          "model_module": "@jupyter-widgets/controls",
          "model_name": "DescriptionStyleModel",
          "state": {
            "_view_name": "StyleView",
            "_model_name": "DescriptionStyleModel",
            "description_width": "",
            "_view_module": "@jupyter-widgets/base",
            "_model_module_version": "1.5.0",
            "_view_count": null,
            "_view_module_version": "1.2.0",
            "_model_module": "@jupyter-widgets/controls"
          }
        },
        "d8b98bdedb5d40a294d6706d3e68a9f6": {
          "model_module": "@jupyter-widgets/base",
          "model_name": "LayoutModel",
          "state": {
            "_view_name": "LayoutView",
            "grid_template_rows": null,
            "right": null,
            "justify_content": null,
            "_view_module": "@jupyter-widgets/base",
            "overflow": null,
            "_model_module_version": "1.2.0",
            "_view_count": null,
            "flex_flow": null,
            "width": null,
            "min_width": null,
            "border": null,
            "align_items": null,
            "bottom": null,
            "_model_module": "@jupyter-widgets/base",
            "top": null,
            "grid_column": null,
            "overflow_y": null,
            "overflow_x": null,
            "grid_auto_flow": null,
            "grid_area": null,
            "grid_template_columns": null,
            "flex": null,
            "_model_name": "LayoutModel",
            "justify_items": null,
            "grid_row": null,
            "max_height": null,
            "align_content": null,
            "visibility": null,
            "align_self": null,
            "height": null,
            "min_height": null,
            "padding": null,
            "grid_auto_rows": null,
            "grid_gap": null,
            "max_width": null,
            "order": null,
            "_view_module_version": "1.2.0",
            "grid_template_areas": null,
            "object_position": null,
            "object_fit": null,
            "grid_auto_columns": null,
            "margin": null,
            "display": null,
            "left": null
          }
        },
        "1343c73580ab4eb6a8f3cc7078ca8d14": {
          "model_module": "@jupyter-widgets/controls",
          "model_name": "HBoxModel",
          "state": {
            "_view_name": "HBoxView",
            "_dom_classes": [],
            "_model_name": "HBoxModel",
            "_view_module": "@jupyter-widgets/controls",
            "_model_module_version": "1.5.0",
            "_view_count": null,
            "_view_module_version": "1.5.0",
            "box_style": "",
            "layout": "IPY_MODEL_92e7cf889ae841e189c7e169fe0c8455",
            "_model_module": "@jupyter-widgets/controls",
            "children": [
              "IPY_MODEL_13ba227399e5407e9a3d21bd65f750bf",
              "IPY_MODEL_a6107655d8444b17beb51897eb3b4d96"
            ]
          }
        },
        "92e7cf889ae841e189c7e169fe0c8455": {
          "model_module": "@jupyter-widgets/base",
          "model_name": "LayoutModel",
          "state": {
            "_view_name": "LayoutView",
            "grid_template_rows": null,
            "right": null,
            "justify_content": null,
            "_view_module": "@jupyter-widgets/base",
            "overflow": null,
            "_model_module_version": "1.2.0",
            "_view_count": null,
            "flex_flow": null,
            "width": null,
            "min_width": null,
            "border": null,
            "align_items": null,
            "bottom": null,
            "_model_module": "@jupyter-widgets/base",
            "top": null,
            "grid_column": null,
            "overflow_y": null,
            "overflow_x": null,
            "grid_auto_flow": null,
            "grid_area": null,
            "grid_template_columns": null,
            "flex": null,
            "_model_name": "LayoutModel",
            "justify_items": null,
            "grid_row": null,
            "max_height": null,
            "align_content": null,
            "visibility": null,
            "align_self": null,
            "height": null,
            "min_height": null,
            "padding": null,
            "grid_auto_rows": null,
            "grid_gap": null,
            "max_width": null,
            "order": null,
            "_view_module_version": "1.2.0",
            "grid_template_areas": null,
            "object_position": null,
            "object_fit": null,
            "grid_auto_columns": null,
            "margin": null,
            "display": null,
            "left": null
          }
        },
        "13ba227399e5407e9a3d21bd65f750bf": {
          "model_module": "@jupyter-widgets/controls",
          "model_name": "FloatProgressModel",
          "state": {
            "_view_name": "ProgressView",
            "style": "IPY_MODEL_b339cda5b4ec4e5e8d956453350abdac",
            "_dom_classes": [],
            "description": "100%",
            "_model_name": "FloatProgressModel",
            "bar_style": "success",
            "max": 116,
            "_view_module": "@jupyter-widgets/controls",
            "_model_module_version": "1.5.0",
            "value": 116,
            "_view_count": null,
            "_view_module_version": "1.5.0",
            "orientation": "horizontal",
            "min": 0,
            "description_tooltip": null,
            "_model_module": "@jupyter-widgets/controls",
            "layout": "IPY_MODEL_0b9d25f88678455187a2ac09ec9f6663"
          }
        },
        "a6107655d8444b17beb51897eb3b4d96": {
          "model_module": "@jupyter-widgets/controls",
          "model_name": "HTMLModel",
          "state": {
            "_view_name": "HTMLView",
            "style": "IPY_MODEL_c0801e528c214b14be01fcdaf746a41c",
            "_dom_classes": [],
            "description": "",
            "_model_name": "HTMLModel",
            "placeholder": "​",
            "_view_module": "@jupyter-widgets/controls",
            "_model_module_version": "1.5.0",
            "value": " 116/116 [00:03&lt;00:00, 33.19ex/s]",
            "_view_count": null,
            "_view_module_version": "1.5.0",
            "description_tooltip": null,
            "_model_module": "@jupyter-widgets/controls",
            "layout": "IPY_MODEL_ddccded60fde4e169bfaef2a0d71ba14"
          }
        },
        "b339cda5b4ec4e5e8d956453350abdac": {
          "model_module": "@jupyter-widgets/controls",
          "model_name": "ProgressStyleModel",
          "state": {
            "_view_name": "StyleView",
            "_model_name": "ProgressStyleModel",
            "description_width": "initial",
            "_view_module": "@jupyter-widgets/base",
            "_model_module_version": "1.5.0",
            "_view_count": null,
            "_view_module_version": "1.2.0",
            "bar_color": null,
            "_model_module": "@jupyter-widgets/controls"
          }
        },
        "0b9d25f88678455187a2ac09ec9f6663": {
          "model_module": "@jupyter-widgets/base",
          "model_name": "LayoutModel",
          "state": {
            "_view_name": "LayoutView",
            "grid_template_rows": null,
            "right": null,
            "justify_content": null,
            "_view_module": "@jupyter-widgets/base",
            "overflow": null,
            "_model_module_version": "1.2.0",
            "_view_count": null,
            "flex_flow": null,
            "width": null,
            "min_width": null,
            "border": null,
            "align_items": null,
            "bottom": null,
            "_model_module": "@jupyter-widgets/base",
            "top": null,
            "grid_column": null,
            "overflow_y": null,
            "overflow_x": null,
            "grid_auto_flow": null,
            "grid_area": null,
            "grid_template_columns": null,
            "flex": null,
            "_model_name": "LayoutModel",
            "justify_items": null,
            "grid_row": null,
            "max_height": null,
            "align_content": null,
            "visibility": null,
            "align_self": null,
            "height": null,
            "min_height": null,
            "padding": null,
            "grid_auto_rows": null,
            "grid_gap": null,
            "max_width": null,
            "order": null,
            "_view_module_version": "1.2.0",
            "grid_template_areas": null,
            "object_position": null,
            "object_fit": null,
            "grid_auto_columns": null,
            "margin": null,
            "display": null,
            "left": null
          }
        },
        "c0801e528c214b14be01fcdaf746a41c": {
          "model_module": "@jupyter-widgets/controls",
          "model_name": "DescriptionStyleModel",
          "state": {
            "_view_name": "StyleView",
            "_model_name": "DescriptionStyleModel",
            "description_width": "",
            "_view_module": "@jupyter-widgets/base",
            "_model_module_version": "1.5.0",
            "_view_count": null,
            "_view_module_version": "1.2.0",
            "_model_module": "@jupyter-widgets/controls"
          }
        },
        "ddccded60fde4e169bfaef2a0d71ba14": {
          "model_module": "@jupyter-widgets/base",
          "model_name": "LayoutModel",
          "state": {
            "_view_name": "LayoutView",
            "grid_template_rows": null,
            "right": null,
            "justify_content": null,
            "_view_module": "@jupyter-widgets/base",
            "overflow": null,
            "_model_module_version": "1.2.0",
            "_view_count": null,
            "flex_flow": null,
            "width": null,
            "min_width": null,
            "border": null,
            "align_items": null,
            "bottom": null,
            "_model_module": "@jupyter-widgets/base",
            "top": null,
            "grid_column": null,
            "overflow_y": null,
            "overflow_x": null,
            "grid_auto_flow": null,
            "grid_area": null,
            "grid_template_columns": null,
            "flex": null,
            "_model_name": "LayoutModel",
            "justify_items": null,
            "grid_row": null,
            "max_height": null,
            "align_content": null,
            "visibility": null,
            "align_self": null,
            "height": null,
            "min_height": null,
            "padding": null,
            "grid_auto_rows": null,
            "grid_gap": null,
            "max_width": null,
            "order": null,
            "_view_module_version": "1.2.0",
            "grid_template_areas": null,
            "object_position": null,
            "object_fit": null,
            "grid_auto_columns": null,
            "margin": null,
            "display": null,
            "left": null
          }
        },
        "47d97cd521004d32b2b30002528ef4e3": {
          "model_module": "@jupyter-widgets/controls",
          "model_name": "HBoxModel",
          "state": {
            "_view_name": "HBoxView",
            "_dom_classes": [],
            "_model_name": "HBoxModel",
            "_view_module": "@jupyter-widgets/controls",
            "_model_module_version": "1.5.0",
            "_view_count": null,
            "_view_module_version": "1.5.0",
            "box_style": "",
            "layout": "IPY_MODEL_9eb3ef773f8546fe8885a58116781c05",
            "_model_module": "@jupyter-widgets/controls",
            "children": [
              "IPY_MODEL_219d0a34a3244750a23745c0256302e4",
              "IPY_MODEL_d1776a11b9b44faba5e2f4b9ba084863"
            ]
          }
        },
        "9eb3ef773f8546fe8885a58116781c05": {
          "model_module": "@jupyter-widgets/base",
          "model_name": "LayoutModel",
          "state": {
            "_view_name": "LayoutView",
            "grid_template_rows": null,
            "right": null,
            "justify_content": null,
            "_view_module": "@jupyter-widgets/base",
            "overflow": null,
            "_model_module_version": "1.2.0",
            "_view_count": null,
            "flex_flow": null,
            "width": null,
            "min_width": null,
            "border": null,
            "align_items": null,
            "bottom": null,
            "_model_module": "@jupyter-widgets/base",
            "top": null,
            "grid_column": null,
            "overflow_y": null,
            "overflow_x": null,
            "grid_auto_flow": null,
            "grid_area": null,
            "grid_template_columns": null,
            "flex": null,
            "_model_name": "LayoutModel",
            "justify_items": null,
            "grid_row": null,
            "max_height": null,
            "align_content": null,
            "visibility": null,
            "align_self": null,
            "height": null,
            "min_height": null,
            "padding": null,
            "grid_auto_rows": null,
            "grid_gap": null,
            "max_width": null,
            "order": null,
            "_view_module_version": "1.2.0",
            "grid_template_areas": null,
            "object_position": null,
            "object_fit": null,
            "grid_auto_columns": null,
            "margin": null,
            "display": null,
            "left": null
          }
        },
        "219d0a34a3244750a23745c0256302e4": {
          "model_module": "@jupyter-widgets/controls",
          "model_name": "FloatProgressModel",
          "state": {
            "_view_name": "ProgressView",
            "style": "IPY_MODEL_0b0d152b5e2c4d6881c37ed60e01f6d4",
            "_dom_classes": [],
            "description": "#1: 100%",
            "_model_name": "FloatProgressModel",
            "bar_style": "success",
            "max": 64,
            "_view_module": "@jupyter-widgets/controls",
            "_model_module_version": "1.5.0",
            "value": 64,
            "_view_count": null,
            "_view_module_version": "1.5.0",
            "orientation": "horizontal",
            "min": 0,
            "description_tooltip": null,
            "_model_module": "@jupyter-widgets/controls",
            "layout": "IPY_MODEL_15b761e67ee64d7aa8022261ca72b0e5"
          }
        },
        "d1776a11b9b44faba5e2f4b9ba084863": {
          "model_module": "@jupyter-widgets/controls",
          "model_name": "HTMLModel",
          "state": {
            "_view_name": "HTMLView",
            "style": "IPY_MODEL_2e511823998845598f1f63203b25a147",
            "_dom_classes": [],
            "description": "",
            "_model_name": "HTMLModel",
            "placeholder": "​",
            "_view_module": "@jupyter-widgets/controls",
            "_model_module_version": "1.5.0",
            "value": " 64/64 [00:23&lt;00:00,  2.75ex/s]",
            "_view_count": null,
            "_view_module_version": "1.5.0",
            "description_tooltip": null,
            "_model_module": "@jupyter-widgets/controls",
            "layout": "IPY_MODEL_2ab58275689e4b928ecc4f3e8f5c540b"
          }
        },
        "0b0d152b5e2c4d6881c37ed60e01f6d4": {
          "model_module": "@jupyter-widgets/controls",
          "model_name": "ProgressStyleModel",
          "state": {
            "_view_name": "StyleView",
            "_model_name": "ProgressStyleModel",
            "description_width": "initial",
            "_view_module": "@jupyter-widgets/base",
            "_model_module_version": "1.5.0",
            "_view_count": null,
            "_view_module_version": "1.2.0",
            "bar_color": null,
            "_model_module": "@jupyter-widgets/controls"
          }
        },
        "15b761e67ee64d7aa8022261ca72b0e5": {
          "model_module": "@jupyter-widgets/base",
          "model_name": "LayoutModel",
          "state": {
            "_view_name": "LayoutView",
            "grid_template_rows": null,
            "right": null,
            "justify_content": null,
            "_view_module": "@jupyter-widgets/base",
            "overflow": null,
            "_model_module_version": "1.2.0",
            "_view_count": null,
            "flex_flow": null,
            "width": null,
            "min_width": null,
            "border": null,
            "align_items": null,
            "bottom": null,
            "_model_module": "@jupyter-widgets/base",
            "top": null,
            "grid_column": null,
            "overflow_y": null,
            "overflow_x": null,
            "grid_auto_flow": null,
            "grid_area": null,
            "grid_template_columns": null,
            "flex": null,
            "_model_name": "LayoutModel",
            "justify_items": null,
            "grid_row": null,
            "max_height": null,
            "align_content": null,
            "visibility": null,
            "align_self": null,
            "height": null,
            "min_height": null,
            "padding": null,
            "grid_auto_rows": null,
            "grid_gap": null,
            "max_width": null,
            "order": null,
            "_view_module_version": "1.2.0",
            "grid_template_areas": null,
            "object_position": null,
            "object_fit": null,
            "grid_auto_columns": null,
            "margin": null,
            "display": null,
            "left": null
          }
        },
        "2e511823998845598f1f63203b25a147": {
          "model_module": "@jupyter-widgets/controls",
          "model_name": "DescriptionStyleModel",
          "state": {
            "_view_name": "StyleView",
            "_model_name": "DescriptionStyleModel",
            "description_width": "",
            "_view_module": "@jupyter-widgets/base",
            "_model_module_version": "1.5.0",
            "_view_count": null,
            "_view_module_version": "1.2.0",
            "_model_module": "@jupyter-widgets/controls"
          }
        },
        "2ab58275689e4b928ecc4f3e8f5c540b": {
          "model_module": "@jupyter-widgets/base",
          "model_name": "LayoutModel",
          "state": {
            "_view_name": "LayoutView",
            "grid_template_rows": null,
            "right": null,
            "justify_content": null,
            "_view_module": "@jupyter-widgets/base",
            "overflow": null,
            "_model_module_version": "1.2.0",
            "_view_count": null,
            "flex_flow": null,
            "width": null,
            "min_width": null,
            "border": null,
            "align_items": null,
            "bottom": null,
            "_model_module": "@jupyter-widgets/base",
            "top": null,
            "grid_column": null,
            "overflow_y": null,
            "overflow_x": null,
            "grid_auto_flow": null,
            "grid_area": null,
            "grid_template_columns": null,
            "flex": null,
            "_model_name": "LayoutModel",
            "justify_items": null,
            "grid_row": null,
            "max_height": null,
            "align_content": null,
            "visibility": null,
            "align_self": null,
            "height": null,
            "min_height": null,
            "padding": null,
            "grid_auto_rows": null,
            "grid_gap": null,
            "max_width": null,
            "order": null,
            "_view_module_version": "1.2.0",
            "grid_template_areas": null,
            "object_position": null,
            "object_fit": null,
            "grid_auto_columns": null,
            "margin": null,
            "display": null,
            "left": null
          }
        },
        "82582e66734d4ff2a78f83659679a158": {
          "model_module": "@jupyter-widgets/controls",
          "model_name": "HBoxModel",
          "state": {
            "_view_name": "HBoxView",
            "_dom_classes": [],
            "_model_name": "HBoxModel",
            "_view_module": "@jupyter-widgets/controls",
            "_model_module_version": "1.5.0",
            "_view_count": null,
            "_view_module_version": "1.5.0",
            "box_style": "",
            "layout": "IPY_MODEL_dc2ae98befa34285845792639116cb48",
            "_model_module": "@jupyter-widgets/controls",
            "children": [
              "IPY_MODEL_0ded08dc85564f9f92c95b50b2343c25",
              "IPY_MODEL_4fe772f50047435aaca00a63ac2b3402"
            ]
          }
        },
        "dc2ae98befa34285845792639116cb48": {
          "model_module": "@jupyter-widgets/base",
          "model_name": "LayoutModel",
          "state": {
            "_view_name": "LayoutView",
            "grid_template_rows": null,
            "right": null,
            "justify_content": null,
            "_view_module": "@jupyter-widgets/base",
            "overflow": null,
            "_model_module_version": "1.2.0",
            "_view_count": null,
            "flex_flow": null,
            "width": null,
            "min_width": null,
            "border": null,
            "align_items": null,
            "bottom": null,
            "_model_module": "@jupyter-widgets/base",
            "top": null,
            "grid_column": null,
            "overflow_y": null,
            "overflow_x": null,
            "grid_auto_flow": null,
            "grid_area": null,
            "grid_template_columns": null,
            "flex": null,
            "_model_name": "LayoutModel",
            "justify_items": null,
            "grid_row": null,
            "max_height": null,
            "align_content": null,
            "visibility": null,
            "align_self": null,
            "height": null,
            "min_height": null,
            "padding": null,
            "grid_auto_rows": null,
            "grid_gap": null,
            "max_width": null,
            "order": null,
            "_view_module_version": "1.2.0",
            "grid_template_areas": null,
            "object_position": null,
            "object_fit": null,
            "grid_auto_columns": null,
            "margin": null,
            "display": null,
            "left": null
          }
        },
        "0ded08dc85564f9f92c95b50b2343c25": {
          "model_module": "@jupyter-widgets/controls",
          "model_name": "FloatProgressModel",
          "state": {
            "_view_name": "ProgressView",
            "style": "IPY_MODEL_535c4edc289443d5988a417e61940594",
            "_dom_classes": [],
            "description": "#3: 100%",
            "_model_name": "FloatProgressModel",
            "bar_style": "success",
            "max": 63,
            "_view_module": "@jupyter-widgets/controls",
            "_model_module_version": "1.5.0",
            "value": 63,
            "_view_count": null,
            "_view_module_version": "1.5.0",
            "orientation": "horizontal",
            "min": 0,
            "description_tooltip": null,
            "_model_module": "@jupyter-widgets/controls",
            "layout": "IPY_MODEL_3a8d37d31cd244a7a15a8b7f0acbc390"
          }
        },
        "4fe772f50047435aaca00a63ac2b3402": {
          "model_module": "@jupyter-widgets/controls",
          "model_name": "HTMLModel",
          "state": {
            "_view_name": "HTMLView",
            "style": "IPY_MODEL_76c1a20e000c422e96a6fca6ca8945e8",
            "_dom_classes": [],
            "description": "",
            "_model_name": "HTMLModel",
            "placeholder": "​",
            "_view_module": "@jupyter-widgets/controls",
            "_model_module_version": "1.5.0",
            "value": " 63/63 [00:23&lt;00:00,  2.65ex/s]",
            "_view_count": null,
            "_view_module_version": "1.5.0",
            "description_tooltip": null,
            "_model_module": "@jupyter-widgets/controls",
            "layout": "IPY_MODEL_1f04e1560c62465bb2d4a8fa591409b1"
          }
        },
        "535c4edc289443d5988a417e61940594": {
          "model_module": "@jupyter-widgets/controls",
          "model_name": "ProgressStyleModel",
          "state": {
            "_view_name": "StyleView",
            "_model_name": "ProgressStyleModel",
            "description_width": "initial",
            "_view_module": "@jupyter-widgets/base",
            "_model_module_version": "1.5.0",
            "_view_count": null,
            "_view_module_version": "1.2.0",
            "bar_color": null,
            "_model_module": "@jupyter-widgets/controls"
          }
        },
        "3a8d37d31cd244a7a15a8b7f0acbc390": {
          "model_module": "@jupyter-widgets/base",
          "model_name": "LayoutModel",
          "state": {
            "_view_name": "LayoutView",
            "grid_template_rows": null,
            "right": null,
            "justify_content": null,
            "_view_module": "@jupyter-widgets/base",
            "overflow": null,
            "_model_module_version": "1.2.0",
            "_view_count": null,
            "flex_flow": null,
            "width": null,
            "min_width": null,
            "border": null,
            "align_items": null,
            "bottom": null,
            "_model_module": "@jupyter-widgets/base",
            "top": null,
            "grid_column": null,
            "overflow_y": null,
            "overflow_x": null,
            "grid_auto_flow": null,
            "grid_area": null,
            "grid_template_columns": null,
            "flex": null,
            "_model_name": "LayoutModel",
            "justify_items": null,
            "grid_row": null,
            "max_height": null,
            "align_content": null,
            "visibility": null,
            "align_self": null,
            "height": null,
            "min_height": null,
            "padding": null,
            "grid_auto_rows": null,
            "grid_gap": null,
            "max_width": null,
            "order": null,
            "_view_module_version": "1.2.0",
            "grid_template_areas": null,
            "object_position": null,
            "object_fit": null,
            "grid_auto_columns": null,
            "margin": null,
            "display": null,
            "left": null
          }
        },
        "76c1a20e000c422e96a6fca6ca8945e8": {
          "model_module": "@jupyter-widgets/controls",
          "model_name": "DescriptionStyleModel",
          "state": {
            "_view_name": "StyleView",
            "_model_name": "DescriptionStyleModel",
            "description_width": "",
            "_view_module": "@jupyter-widgets/base",
            "_model_module_version": "1.5.0",
            "_view_count": null,
            "_view_module_version": "1.2.0",
            "_model_module": "@jupyter-widgets/controls"
          }
        },
        "1f04e1560c62465bb2d4a8fa591409b1": {
          "model_module": "@jupyter-widgets/base",
          "model_name": "LayoutModel",
          "state": {
            "_view_name": "LayoutView",
            "grid_template_rows": null,
            "right": null,
            "justify_content": null,
            "_view_module": "@jupyter-widgets/base",
            "overflow": null,
            "_model_module_version": "1.2.0",
            "_view_count": null,
            "flex_flow": null,
            "width": null,
            "min_width": null,
            "border": null,
            "align_items": null,
            "bottom": null,
            "_model_module": "@jupyter-widgets/base",
            "top": null,
            "grid_column": null,
            "overflow_y": null,
            "overflow_x": null,
            "grid_auto_flow": null,
            "grid_area": null,
            "grid_template_columns": null,
            "flex": null,
            "_model_name": "LayoutModel",
            "justify_items": null,
            "grid_row": null,
            "max_height": null,
            "align_content": null,
            "visibility": null,
            "align_self": null,
            "height": null,
            "min_height": null,
            "padding": null,
            "grid_auto_rows": null,
            "grid_gap": null,
            "max_width": null,
            "order": null,
            "_view_module_version": "1.2.0",
            "grid_template_areas": null,
            "object_position": null,
            "object_fit": null,
            "grid_auto_columns": null,
            "margin": null,
            "display": null,
            "left": null
          }
        },
        "19280877bafe4dfa94ad67260494af2d": {
          "model_module": "@jupyter-widgets/controls",
          "model_name": "HBoxModel",
          "state": {
            "_view_name": "HBoxView",
            "_dom_classes": [],
            "_model_name": "HBoxModel",
            "_view_module": "@jupyter-widgets/controls",
            "_model_module_version": "1.5.0",
            "_view_count": null,
            "_view_module_version": "1.5.0",
            "box_style": "",
            "layout": "IPY_MODEL_4e8b69c6a8a14d22a36b2f12fefb076c",
            "_model_module": "@jupyter-widgets/controls",
            "children": [
              "IPY_MODEL_2a80705973cd404db732e85c46447dba",
              "IPY_MODEL_15e8d4d597c740c48db57f50bf9fde32"
            ]
          }
        },
        "4e8b69c6a8a14d22a36b2f12fefb076c": {
          "model_module": "@jupyter-widgets/base",
          "model_name": "LayoutModel",
          "state": {
            "_view_name": "LayoutView",
            "grid_template_rows": null,
            "right": null,
            "justify_content": null,
            "_view_module": "@jupyter-widgets/base",
            "overflow": null,
            "_model_module_version": "1.2.0",
            "_view_count": null,
            "flex_flow": null,
            "width": null,
            "min_width": null,
            "border": null,
            "align_items": null,
            "bottom": null,
            "_model_module": "@jupyter-widgets/base",
            "top": null,
            "grid_column": null,
            "overflow_y": null,
            "overflow_x": null,
            "grid_auto_flow": null,
            "grid_area": null,
            "grid_template_columns": null,
            "flex": null,
            "_model_name": "LayoutModel",
            "justify_items": null,
            "grid_row": null,
            "max_height": null,
            "align_content": null,
            "visibility": null,
            "align_self": null,
            "height": null,
            "min_height": null,
            "padding": null,
            "grid_auto_rows": null,
            "grid_gap": null,
            "max_width": null,
            "order": null,
            "_view_module_version": "1.2.0",
            "grid_template_areas": null,
            "object_position": null,
            "object_fit": null,
            "grid_auto_columns": null,
            "margin": null,
            "display": null,
            "left": null
          }
        },
        "2a80705973cd404db732e85c46447dba": {
          "model_module": "@jupyter-widgets/controls",
          "model_name": "FloatProgressModel",
          "state": {
            "_view_name": "ProgressView",
            "style": "IPY_MODEL_58cbab6a71b347c58b138c2bde07754f",
            "_dom_classes": [],
            "description": "#2: 100%",
            "_model_name": "FloatProgressModel",
            "bar_style": "success",
            "max": 64,
            "_view_module": "@jupyter-widgets/controls",
            "_model_module_version": "1.5.0",
            "value": 64,
            "_view_count": null,
            "_view_module_version": "1.5.0",
            "orientation": "horizontal",
            "min": 0,
            "description_tooltip": null,
            "_model_module": "@jupyter-widgets/controls",
            "layout": "IPY_MODEL_1b2a31c2587347aabb55b5ea13c3c4f7"
          }
        },
        "15e8d4d597c740c48db57f50bf9fde32": {
          "model_module": "@jupyter-widgets/controls",
          "model_name": "HTMLModel",
          "state": {
            "_view_name": "HTMLView",
            "style": "IPY_MODEL_3ae8010d3a2245469d00826be2f3e24c",
            "_dom_classes": [],
            "description": "",
            "_model_name": "HTMLModel",
            "placeholder": "​",
            "_view_module": "@jupyter-widgets/controls",
            "_model_module_version": "1.5.0",
            "value": " 64/64 [00:22&lt;00:00,  2.81ex/s]",
            "_view_count": null,
            "_view_module_version": "1.5.0",
            "description_tooltip": null,
            "_model_module": "@jupyter-widgets/controls",
            "layout": "IPY_MODEL_7eef9661e51d44e28b2949ac1f27db76"
          }
        },
        "58cbab6a71b347c58b138c2bde07754f": {
          "model_module": "@jupyter-widgets/controls",
          "model_name": "ProgressStyleModel",
          "state": {
            "_view_name": "StyleView",
            "_model_name": "ProgressStyleModel",
            "description_width": "initial",
            "_view_module": "@jupyter-widgets/base",
            "_model_module_version": "1.5.0",
            "_view_count": null,
            "_view_module_version": "1.2.0",
            "bar_color": null,
            "_model_module": "@jupyter-widgets/controls"
          }
        },
        "1b2a31c2587347aabb55b5ea13c3c4f7": {
          "model_module": "@jupyter-widgets/base",
          "model_name": "LayoutModel",
          "state": {
            "_view_name": "LayoutView",
            "grid_template_rows": null,
            "right": null,
            "justify_content": null,
            "_view_module": "@jupyter-widgets/base",
            "overflow": null,
            "_model_module_version": "1.2.0",
            "_view_count": null,
            "flex_flow": null,
            "width": null,
            "min_width": null,
            "border": null,
            "align_items": null,
            "bottom": null,
            "_model_module": "@jupyter-widgets/base",
            "top": null,
            "grid_column": null,
            "overflow_y": null,
            "overflow_x": null,
            "grid_auto_flow": null,
            "grid_area": null,
            "grid_template_columns": null,
            "flex": null,
            "_model_name": "LayoutModel",
            "justify_items": null,
            "grid_row": null,
            "max_height": null,
            "align_content": null,
            "visibility": null,
            "align_self": null,
            "height": null,
            "min_height": null,
            "padding": null,
            "grid_auto_rows": null,
            "grid_gap": null,
            "max_width": null,
            "order": null,
            "_view_module_version": "1.2.0",
            "grid_template_areas": null,
            "object_position": null,
            "object_fit": null,
            "grid_auto_columns": null,
            "margin": null,
            "display": null,
            "left": null
          }
        },
        "3ae8010d3a2245469d00826be2f3e24c": {
          "model_module": "@jupyter-widgets/controls",
          "model_name": "DescriptionStyleModel",
          "state": {
            "_view_name": "StyleView",
            "_model_name": "DescriptionStyleModel",
            "description_width": "",
            "_view_module": "@jupyter-widgets/base",
            "_model_module_version": "1.5.0",
            "_view_count": null,
            "_view_module_version": "1.2.0",
            "_model_module": "@jupyter-widgets/controls"
          }
        },
        "7eef9661e51d44e28b2949ac1f27db76": {
          "model_module": "@jupyter-widgets/base",
          "model_name": "LayoutModel",
          "state": {
            "_view_name": "LayoutView",
            "grid_template_rows": null,
            "right": null,
            "justify_content": null,
            "_view_module": "@jupyter-widgets/base",
            "overflow": null,
            "_model_module_version": "1.2.0",
            "_view_count": null,
            "flex_flow": null,
            "width": null,
            "min_width": null,
            "border": null,
            "align_items": null,
            "bottom": null,
            "_model_module": "@jupyter-widgets/base",
            "top": null,
            "grid_column": null,
            "overflow_y": null,
            "overflow_x": null,
            "grid_auto_flow": null,
            "grid_area": null,
            "grid_template_columns": null,
            "flex": null,
            "_model_name": "LayoutModel",
            "justify_items": null,
            "grid_row": null,
            "max_height": null,
            "align_content": null,
            "visibility": null,
            "align_self": null,
            "height": null,
            "min_height": null,
            "padding": null,
            "grid_auto_rows": null,
            "grid_gap": null,
            "max_width": null,
            "order": null,
            "_view_module_version": "1.2.0",
            "grid_template_areas": null,
            "object_position": null,
            "object_fit": null,
            "grid_auto_columns": null,
            "margin": null,
            "display": null,
            "left": null
          }
        },
        "e649ef41cac1446784545d6edd63e8f6": {
          "model_module": "@jupyter-widgets/controls",
          "model_name": "HBoxModel",
          "state": {
            "_view_name": "HBoxView",
            "_dom_classes": [],
            "_model_name": "HBoxModel",
            "_view_module": "@jupyter-widgets/controls",
            "_model_module_version": "1.5.0",
            "_view_count": null,
            "_view_module_version": "1.5.0",
            "box_style": "",
            "layout": "IPY_MODEL_1a9de8bf8e3840748d895104d0778da1",
            "_model_module": "@jupyter-widgets/controls",
            "children": [
              "IPY_MODEL_ef6e349c0e7748fab57a6977bbb200e3",
              "IPY_MODEL_aa28f75b787e4e959079e3ae1a2f3b43"
            ]
          }
        },
        "1a9de8bf8e3840748d895104d0778da1": {
          "model_module": "@jupyter-widgets/base",
          "model_name": "LayoutModel",
          "state": {
            "_view_name": "LayoutView",
            "grid_template_rows": null,
            "right": null,
            "justify_content": null,
            "_view_module": "@jupyter-widgets/base",
            "overflow": null,
            "_model_module_version": "1.2.0",
            "_view_count": null,
            "flex_flow": null,
            "width": null,
            "min_width": null,
            "border": null,
            "align_items": null,
            "bottom": null,
            "_model_module": "@jupyter-widgets/base",
            "top": null,
            "grid_column": null,
            "overflow_y": null,
            "overflow_x": null,
            "grid_auto_flow": null,
            "grid_area": null,
            "grid_template_columns": null,
            "flex": null,
            "_model_name": "LayoutModel",
            "justify_items": null,
            "grid_row": null,
            "max_height": null,
            "align_content": null,
            "visibility": null,
            "align_self": null,
            "height": null,
            "min_height": null,
            "padding": null,
            "grid_auto_rows": null,
            "grid_gap": null,
            "max_width": null,
            "order": null,
            "_view_module_version": "1.2.0",
            "grid_template_areas": null,
            "object_position": null,
            "object_fit": null,
            "grid_auto_columns": null,
            "margin": null,
            "display": null,
            "left": null
          }
        },
        "ef6e349c0e7748fab57a6977bbb200e3": {
          "model_module": "@jupyter-widgets/controls",
          "model_name": "FloatProgressModel",
          "state": {
            "_view_name": "ProgressView",
            "style": "IPY_MODEL_037d45ba19b64012aeff90b7d7093e65",
            "_dom_classes": [],
            "description": "#0: 100%",
            "_model_name": "FloatProgressModel",
            "bar_style": "success",
            "max": 64,
            "_view_module": "@jupyter-widgets/controls",
            "_model_module_version": "1.5.0",
            "value": 64,
            "_view_count": null,
            "_view_module_version": "1.5.0",
            "orientation": "horizontal",
            "min": 0,
            "description_tooltip": null,
            "_model_module": "@jupyter-widgets/controls",
            "layout": "IPY_MODEL_ae78f45f23b743cdbbed6d8e220a8e18"
          }
        },
        "aa28f75b787e4e959079e3ae1a2f3b43": {
          "model_module": "@jupyter-widgets/controls",
          "model_name": "HTMLModel",
          "state": {
            "_view_name": "HTMLView",
            "style": "IPY_MODEL_cb09720ffc8c4a409e3f69ade5597474",
            "_dom_classes": [],
            "description": "",
            "_model_name": "HTMLModel",
            "placeholder": "​",
            "_view_module": "@jupyter-widgets/controls",
            "_model_module_version": "1.5.0",
            "value": " 64/64 [00:24&lt;00:00,  2.60ex/s]",
            "_view_count": null,
            "_view_module_version": "1.5.0",
            "description_tooltip": null,
            "_model_module": "@jupyter-widgets/controls",
            "layout": "IPY_MODEL_2422db67f3af471dbf651a45308c3f06"
          }
        },
        "037d45ba19b64012aeff90b7d7093e65": {
          "model_module": "@jupyter-widgets/controls",
          "model_name": "ProgressStyleModel",
          "state": {
            "_view_name": "StyleView",
            "_model_name": "ProgressStyleModel",
            "description_width": "initial",
            "_view_module": "@jupyter-widgets/base",
            "_model_module_version": "1.5.0",
            "_view_count": null,
            "_view_module_version": "1.2.0",
            "bar_color": null,
            "_model_module": "@jupyter-widgets/controls"
          }
        },
        "ae78f45f23b743cdbbed6d8e220a8e18": {
          "model_module": "@jupyter-widgets/base",
          "model_name": "LayoutModel",
          "state": {
            "_view_name": "LayoutView",
            "grid_template_rows": null,
            "right": null,
            "justify_content": null,
            "_view_module": "@jupyter-widgets/base",
            "overflow": null,
            "_model_module_version": "1.2.0",
            "_view_count": null,
            "flex_flow": null,
            "width": null,
            "min_width": null,
            "border": null,
            "align_items": null,
            "bottom": null,
            "_model_module": "@jupyter-widgets/base",
            "top": null,
            "grid_column": null,
            "overflow_y": null,
            "overflow_x": null,
            "grid_auto_flow": null,
            "grid_area": null,
            "grid_template_columns": null,
            "flex": null,
            "_model_name": "LayoutModel",
            "justify_items": null,
            "grid_row": null,
            "max_height": null,
            "align_content": null,
            "visibility": null,
            "align_self": null,
            "height": null,
            "min_height": null,
            "padding": null,
            "grid_auto_rows": null,
            "grid_gap": null,
            "max_width": null,
            "order": null,
            "_view_module_version": "1.2.0",
            "grid_template_areas": null,
            "object_position": null,
            "object_fit": null,
            "grid_auto_columns": null,
            "margin": null,
            "display": null,
            "left": null
          }
        },
        "cb09720ffc8c4a409e3f69ade5597474": {
          "model_module": "@jupyter-widgets/controls",
          "model_name": "DescriptionStyleModel",
          "state": {
            "_view_name": "StyleView",
            "_model_name": "DescriptionStyleModel",
            "description_width": "",
            "_view_module": "@jupyter-widgets/base",
            "_model_module_version": "1.5.0",
            "_view_count": null,
            "_view_module_version": "1.2.0",
            "_model_module": "@jupyter-widgets/controls"
          }
        },
        "2422db67f3af471dbf651a45308c3f06": {
          "model_module": "@jupyter-widgets/base",
          "model_name": "LayoutModel",
          "state": {
            "_view_name": "LayoutView",
            "grid_template_rows": null,
            "right": null,
            "justify_content": null,
            "_view_module": "@jupyter-widgets/base",
            "overflow": null,
            "_model_module_version": "1.2.0",
            "_view_count": null,
            "flex_flow": null,
            "width": null,
            "min_width": null,
            "border": null,
            "align_items": null,
            "bottom": null,
            "_model_module": "@jupyter-widgets/base",
            "top": null,
            "grid_column": null,
            "overflow_y": null,
            "overflow_x": null,
            "grid_auto_flow": null,
            "grid_area": null,
            "grid_template_columns": null,
            "flex": null,
            "_model_name": "LayoutModel",
            "justify_items": null,
            "grid_row": null,
            "max_height": null,
            "align_content": null,
            "visibility": null,
            "align_self": null,
            "height": null,
            "min_height": null,
            "padding": null,
            "grid_auto_rows": null,
            "grid_gap": null,
            "max_width": null,
            "order": null,
            "_view_module_version": "1.2.0",
            "grid_template_areas": null,
            "object_position": null,
            "object_fit": null,
            "grid_auto_columns": null,
            "margin": null,
            "display": null,
            "left": null
          }
        },
        "f9665c401eac4be3a0fc4dcdf42b49ca": {
          "model_module": "@jupyter-widgets/controls",
          "model_name": "HBoxModel",
          "state": {
            "_view_name": "HBoxView",
            "_dom_classes": [],
            "_model_name": "HBoxModel",
            "_view_module": "@jupyter-widgets/controls",
            "_model_module_version": "1.5.0",
            "_view_count": null,
            "_view_module_version": "1.5.0",
            "box_style": "",
            "layout": "IPY_MODEL_d1f069bb31964240af12e6474b38f3c1",
            "_model_module": "@jupyter-widgets/controls",
            "children": [
              "IPY_MODEL_3079de09b8ba42e1b586f939b5dfb75a",
              "IPY_MODEL_82826167723141a1931b9ecdb6524b87"
            ]
          }
        },
        "d1f069bb31964240af12e6474b38f3c1": {
          "model_module": "@jupyter-widgets/base",
          "model_name": "LayoutModel",
          "state": {
            "_view_name": "LayoutView",
            "grid_template_rows": null,
            "right": null,
            "justify_content": null,
            "_view_module": "@jupyter-widgets/base",
            "overflow": null,
            "_model_module_version": "1.2.0",
            "_view_count": null,
            "flex_flow": null,
            "width": null,
            "min_width": null,
            "border": null,
            "align_items": null,
            "bottom": null,
            "_model_module": "@jupyter-widgets/base",
            "top": null,
            "grid_column": null,
            "overflow_y": null,
            "overflow_x": null,
            "grid_auto_flow": null,
            "grid_area": null,
            "grid_template_columns": null,
            "flex": null,
            "_model_name": "LayoutModel",
            "justify_items": null,
            "grid_row": null,
            "max_height": null,
            "align_content": null,
            "visibility": null,
            "align_self": null,
            "height": null,
            "min_height": null,
            "padding": null,
            "grid_auto_rows": null,
            "grid_gap": null,
            "max_width": null,
            "order": null,
            "_view_module_version": "1.2.0",
            "grid_template_areas": null,
            "object_position": null,
            "object_fit": null,
            "grid_auto_columns": null,
            "margin": null,
            "display": null,
            "left": null
          }
        },
        "3079de09b8ba42e1b586f939b5dfb75a": {
          "model_module": "@jupyter-widgets/controls",
          "model_name": "FloatProgressModel",
          "state": {
            "_view_name": "ProgressView",
            "style": "IPY_MODEL_983b8398d5664b0192bd02836460b3ea",
            "_dom_classes": [],
            "description": "#0: 100%",
            "_model_name": "FloatProgressModel",
            "bar_style": "success",
            "max": 29,
            "_view_module": "@jupyter-widgets/controls",
            "_model_module_version": "1.5.0",
            "value": 29,
            "_view_count": null,
            "_view_module_version": "1.5.0",
            "orientation": "horizontal",
            "min": 0,
            "description_tooltip": null,
            "_model_module": "@jupyter-widgets/controls",
            "layout": "IPY_MODEL_66943bf4f83d47dc84129e7066eb5fb4"
          }
        },
        "82826167723141a1931b9ecdb6524b87": {
          "model_module": "@jupyter-widgets/controls",
          "model_name": "HTMLModel",
          "state": {
            "_view_name": "HTMLView",
            "style": "IPY_MODEL_d5b47cdde2e04129a5af19b0b3b1a888",
            "_dom_classes": [],
            "description": "",
            "_model_name": "HTMLModel",
            "placeholder": "​",
            "_view_module": "@jupyter-widgets/controls",
            "_model_module_version": "1.5.0",
            "value": " 29/29 [00:10&lt;00:00,  2.71ex/s]",
            "_view_count": null,
            "_view_module_version": "1.5.0",
            "description_tooltip": null,
            "_model_module": "@jupyter-widgets/controls",
            "layout": "IPY_MODEL_24dcc034fe754d5f9085301d2f8a1272"
          }
        },
        "983b8398d5664b0192bd02836460b3ea": {
          "model_module": "@jupyter-widgets/controls",
          "model_name": "ProgressStyleModel",
          "state": {
            "_view_name": "StyleView",
            "_model_name": "ProgressStyleModel",
            "description_width": "initial",
            "_view_module": "@jupyter-widgets/base",
            "_model_module_version": "1.5.0",
            "_view_count": null,
            "_view_module_version": "1.2.0",
            "bar_color": null,
            "_model_module": "@jupyter-widgets/controls"
          }
        },
        "66943bf4f83d47dc84129e7066eb5fb4": {
          "model_module": "@jupyter-widgets/base",
          "model_name": "LayoutModel",
          "state": {
            "_view_name": "LayoutView",
            "grid_template_rows": null,
            "right": null,
            "justify_content": null,
            "_view_module": "@jupyter-widgets/base",
            "overflow": null,
            "_model_module_version": "1.2.0",
            "_view_count": null,
            "flex_flow": null,
            "width": null,
            "min_width": null,
            "border": null,
            "align_items": null,
            "bottom": null,
            "_model_module": "@jupyter-widgets/base",
            "top": null,
            "grid_column": null,
            "overflow_y": null,
            "overflow_x": null,
            "grid_auto_flow": null,
            "grid_area": null,
            "grid_template_columns": null,
            "flex": null,
            "_model_name": "LayoutModel",
            "justify_items": null,
            "grid_row": null,
            "max_height": null,
            "align_content": null,
            "visibility": null,
            "align_self": null,
            "height": null,
            "min_height": null,
            "padding": null,
            "grid_auto_rows": null,
            "grid_gap": null,
            "max_width": null,
            "order": null,
            "_view_module_version": "1.2.0",
            "grid_template_areas": null,
            "object_position": null,
            "object_fit": null,
            "grid_auto_columns": null,
            "margin": null,
            "display": null,
            "left": null
          }
        },
        "d5b47cdde2e04129a5af19b0b3b1a888": {
          "model_module": "@jupyter-widgets/controls",
          "model_name": "DescriptionStyleModel",
          "state": {
            "_view_name": "StyleView",
            "_model_name": "DescriptionStyleModel",
            "description_width": "",
            "_view_module": "@jupyter-widgets/base",
            "_model_module_version": "1.5.0",
            "_view_count": null,
            "_view_module_version": "1.2.0",
            "_model_module": "@jupyter-widgets/controls"
          }
        },
        "24dcc034fe754d5f9085301d2f8a1272": {
          "model_module": "@jupyter-widgets/base",
          "model_name": "LayoutModel",
          "state": {
            "_view_name": "LayoutView",
            "grid_template_rows": null,
            "right": null,
            "justify_content": null,
            "_view_module": "@jupyter-widgets/base",
            "overflow": null,
            "_model_module_version": "1.2.0",
            "_view_count": null,
            "flex_flow": null,
            "width": null,
            "min_width": null,
            "border": null,
            "align_items": null,
            "bottom": null,
            "_model_module": "@jupyter-widgets/base",
            "top": null,
            "grid_column": null,
            "overflow_y": null,
            "overflow_x": null,
            "grid_auto_flow": null,
            "grid_area": null,
            "grid_template_columns": null,
            "flex": null,
            "_model_name": "LayoutModel",
            "justify_items": null,
            "grid_row": null,
            "max_height": null,
            "align_content": null,
            "visibility": null,
            "align_self": null,
            "height": null,
            "min_height": null,
            "padding": null,
            "grid_auto_rows": null,
            "grid_gap": null,
            "max_width": null,
            "order": null,
            "_view_module_version": "1.2.0",
            "grid_template_areas": null,
            "object_position": null,
            "object_fit": null,
            "grid_auto_columns": null,
            "margin": null,
            "display": null,
            "left": null
          }
        },
        "4fda2701541049da84ab646405a4e0ad": {
          "model_module": "@jupyter-widgets/controls",
          "model_name": "HBoxModel",
          "state": {
            "_view_name": "HBoxView",
            "_dom_classes": [],
            "_model_name": "HBoxModel",
            "_view_module": "@jupyter-widgets/controls",
            "_model_module_version": "1.5.0",
            "_view_count": null,
            "_view_module_version": "1.5.0",
            "box_style": "",
            "layout": "IPY_MODEL_89e8e6d4589f470a84d89451213adada",
            "_model_module": "@jupyter-widgets/controls",
            "children": [
              "IPY_MODEL_679a4003e9f14bc38abfc03dca8c8e37",
              "IPY_MODEL_6cd26303324548f0bcb1b2bc0ea5dd7d"
            ]
          }
        },
        "89e8e6d4589f470a84d89451213adada": {
          "model_module": "@jupyter-widgets/base",
          "model_name": "LayoutModel",
          "state": {
            "_view_name": "LayoutView",
            "grid_template_rows": null,
            "right": null,
            "justify_content": null,
            "_view_module": "@jupyter-widgets/base",
            "overflow": null,
            "_model_module_version": "1.2.0",
            "_view_count": null,
            "flex_flow": null,
            "width": null,
            "min_width": null,
            "border": null,
            "align_items": null,
            "bottom": null,
            "_model_module": "@jupyter-widgets/base",
            "top": null,
            "grid_column": null,
            "overflow_y": null,
            "overflow_x": null,
            "grid_auto_flow": null,
            "grid_area": null,
            "grid_template_columns": null,
            "flex": null,
            "_model_name": "LayoutModel",
            "justify_items": null,
            "grid_row": null,
            "max_height": null,
            "align_content": null,
            "visibility": null,
            "align_self": null,
            "height": null,
            "min_height": null,
            "padding": null,
            "grid_auto_rows": null,
            "grid_gap": null,
            "max_width": null,
            "order": null,
            "_view_module_version": "1.2.0",
            "grid_template_areas": null,
            "object_position": null,
            "object_fit": null,
            "grid_auto_columns": null,
            "margin": null,
            "display": null,
            "left": null
          }
        },
        "679a4003e9f14bc38abfc03dca8c8e37": {
          "model_module": "@jupyter-widgets/controls",
          "model_name": "FloatProgressModel",
          "state": {
            "_view_name": "ProgressView",
            "style": "IPY_MODEL_c70598d92c3c4e549be7bdfd292897e8",
            "_dom_classes": [],
            "description": "#1: 100%",
            "_model_name": "FloatProgressModel",
            "bar_style": "success",
            "max": 29,
            "_view_module": "@jupyter-widgets/controls",
            "_model_module_version": "1.5.0",
            "value": 29,
            "_view_count": null,
            "_view_module_version": "1.5.0",
            "orientation": "horizontal",
            "min": 0,
            "description_tooltip": null,
            "_model_module": "@jupyter-widgets/controls",
            "layout": "IPY_MODEL_ed6b1e2cb24244d78fca3e0e6239c228"
          }
        },
        "6cd26303324548f0bcb1b2bc0ea5dd7d": {
          "model_module": "@jupyter-widgets/controls",
          "model_name": "HTMLModel",
          "state": {
            "_view_name": "HTMLView",
            "style": "IPY_MODEL_668dda689b0544f09708202b27db6b24",
            "_dom_classes": [],
            "description": "",
            "_model_name": "HTMLModel",
            "placeholder": "​",
            "_view_module": "@jupyter-widgets/controls",
            "_model_module_version": "1.5.0",
            "value": " 29/29 [00:10&lt;00:00,  2.72ex/s]",
            "_view_count": null,
            "_view_module_version": "1.5.0",
            "description_tooltip": null,
            "_model_module": "@jupyter-widgets/controls",
            "layout": "IPY_MODEL_d013bcda78bb4e02aec4e777dee14905"
          }
        },
        "c70598d92c3c4e549be7bdfd292897e8": {
          "model_module": "@jupyter-widgets/controls",
          "model_name": "ProgressStyleModel",
          "state": {
            "_view_name": "StyleView",
            "_model_name": "ProgressStyleModel",
            "description_width": "initial",
            "_view_module": "@jupyter-widgets/base",
            "_model_module_version": "1.5.0",
            "_view_count": null,
            "_view_module_version": "1.2.0",
            "bar_color": null,
            "_model_module": "@jupyter-widgets/controls"
          }
        },
        "ed6b1e2cb24244d78fca3e0e6239c228": {
          "model_module": "@jupyter-widgets/base",
          "model_name": "LayoutModel",
          "state": {
            "_view_name": "LayoutView",
            "grid_template_rows": null,
            "right": null,
            "justify_content": null,
            "_view_module": "@jupyter-widgets/base",
            "overflow": null,
            "_model_module_version": "1.2.0",
            "_view_count": null,
            "flex_flow": null,
            "width": null,
            "min_width": null,
            "border": null,
            "align_items": null,
            "bottom": null,
            "_model_module": "@jupyter-widgets/base",
            "top": null,
            "grid_column": null,
            "overflow_y": null,
            "overflow_x": null,
            "grid_auto_flow": null,
            "grid_area": null,
            "grid_template_columns": null,
            "flex": null,
            "_model_name": "LayoutModel",
            "justify_items": null,
            "grid_row": null,
            "max_height": null,
            "align_content": null,
            "visibility": null,
            "align_self": null,
            "height": null,
            "min_height": null,
            "padding": null,
            "grid_auto_rows": null,
            "grid_gap": null,
            "max_width": null,
            "order": null,
            "_view_module_version": "1.2.0",
            "grid_template_areas": null,
            "object_position": null,
            "object_fit": null,
            "grid_auto_columns": null,
            "margin": null,
            "display": null,
            "left": null
          }
        },
        "668dda689b0544f09708202b27db6b24": {
          "model_module": "@jupyter-widgets/controls",
          "model_name": "DescriptionStyleModel",
          "state": {
            "_view_name": "StyleView",
            "_model_name": "DescriptionStyleModel",
            "description_width": "",
            "_view_module": "@jupyter-widgets/base",
            "_model_module_version": "1.5.0",
            "_view_count": null,
            "_view_module_version": "1.2.0",
            "_model_module": "@jupyter-widgets/controls"
          }
        },
        "d013bcda78bb4e02aec4e777dee14905": {
          "model_module": "@jupyter-widgets/base",
          "model_name": "LayoutModel",
          "state": {
            "_view_name": "LayoutView",
            "grid_template_rows": null,
            "right": null,
            "justify_content": null,
            "_view_module": "@jupyter-widgets/base",
            "overflow": null,
            "_model_module_version": "1.2.0",
            "_view_count": null,
            "flex_flow": null,
            "width": null,
            "min_width": null,
            "border": null,
            "align_items": null,
            "bottom": null,
            "_model_module": "@jupyter-widgets/base",
            "top": null,
            "grid_column": null,
            "overflow_y": null,
            "overflow_x": null,
            "grid_auto_flow": null,
            "grid_area": null,
            "grid_template_columns": null,
            "flex": null,
            "_model_name": "LayoutModel",
            "justify_items": null,
            "grid_row": null,
            "max_height": null,
            "align_content": null,
            "visibility": null,
            "align_self": null,
            "height": null,
            "min_height": null,
            "padding": null,
            "grid_auto_rows": null,
            "grid_gap": null,
            "max_width": null,
            "order": null,
            "_view_module_version": "1.2.0",
            "grid_template_areas": null,
            "object_position": null,
            "object_fit": null,
            "grid_auto_columns": null,
            "margin": null,
            "display": null,
            "left": null
          }
        },
        "ee78cb3d385144849b0c1b13aef827de": {
          "model_module": "@jupyter-widgets/controls",
          "model_name": "HBoxModel",
          "state": {
            "_view_name": "HBoxView",
            "_dom_classes": [],
            "_model_name": "HBoxModel",
            "_view_module": "@jupyter-widgets/controls",
            "_model_module_version": "1.5.0",
            "_view_count": null,
            "_view_module_version": "1.5.0",
            "box_style": "",
            "layout": "IPY_MODEL_0df298be13c44905b0cf8eb6d6c1f14f",
            "_model_module": "@jupyter-widgets/controls",
            "children": [
              "IPY_MODEL_cccd5f0842de451d8d29c62a13551ef5",
              "IPY_MODEL_d0db711676c34f0a8400b7aaf7584846"
            ]
          }
        },
        "0df298be13c44905b0cf8eb6d6c1f14f": {
          "model_module": "@jupyter-widgets/base",
          "model_name": "LayoutModel",
          "state": {
            "_view_name": "LayoutView",
            "grid_template_rows": null,
            "right": null,
            "justify_content": null,
            "_view_module": "@jupyter-widgets/base",
            "overflow": null,
            "_model_module_version": "1.2.0",
            "_view_count": null,
            "flex_flow": null,
            "width": null,
            "min_width": null,
            "border": null,
            "align_items": null,
            "bottom": null,
            "_model_module": "@jupyter-widgets/base",
            "top": null,
            "grid_column": null,
            "overflow_y": null,
            "overflow_x": null,
            "grid_auto_flow": null,
            "grid_area": null,
            "grid_template_columns": null,
            "flex": null,
            "_model_name": "LayoutModel",
            "justify_items": null,
            "grid_row": null,
            "max_height": null,
            "align_content": null,
            "visibility": null,
            "align_self": null,
            "height": null,
            "min_height": null,
            "padding": null,
            "grid_auto_rows": null,
            "grid_gap": null,
            "max_width": null,
            "order": null,
            "_view_module_version": "1.2.0",
            "grid_template_areas": null,
            "object_position": null,
            "object_fit": null,
            "grid_auto_columns": null,
            "margin": null,
            "display": null,
            "left": null
          }
        },
        "cccd5f0842de451d8d29c62a13551ef5": {
          "model_module": "@jupyter-widgets/controls",
          "model_name": "FloatProgressModel",
          "state": {
            "_view_name": "ProgressView",
            "style": "IPY_MODEL_585af55b4c044cfb94f62f17a16f8717",
            "_dom_classes": [],
            "description": "#2: 100%",
            "_model_name": "FloatProgressModel",
            "bar_style": "success",
            "max": 29,
            "_view_module": "@jupyter-widgets/controls",
            "_model_module_version": "1.5.0",
            "value": 29,
            "_view_count": null,
            "_view_module_version": "1.5.0",
            "orientation": "horizontal",
            "min": 0,
            "description_tooltip": null,
            "_model_module": "@jupyter-widgets/controls",
            "layout": "IPY_MODEL_8c52a4b396e442adbb14b9f0ba9be7a1"
          }
        },
        "d0db711676c34f0a8400b7aaf7584846": {
          "model_module": "@jupyter-widgets/controls",
          "model_name": "HTMLModel",
          "state": {
            "_view_name": "HTMLView",
            "style": "IPY_MODEL_6e10dcc0406e41fe9000b20cfa903d1e",
            "_dom_classes": [],
            "description": "",
            "_model_name": "HTMLModel",
            "placeholder": "​",
            "_view_module": "@jupyter-widgets/controls",
            "_model_module_version": "1.5.0",
            "value": " 29/29 [00:11&lt;00:00,  2.44ex/s]",
            "_view_count": null,
            "_view_module_version": "1.5.0",
            "description_tooltip": null,
            "_model_module": "@jupyter-widgets/controls",
            "layout": "IPY_MODEL_c22294ee2e42459b82a1d007a1538f56"
          }
        },
        "585af55b4c044cfb94f62f17a16f8717": {
          "model_module": "@jupyter-widgets/controls",
          "model_name": "ProgressStyleModel",
          "state": {
            "_view_name": "StyleView",
            "_model_name": "ProgressStyleModel",
            "description_width": "initial",
            "_view_module": "@jupyter-widgets/base",
            "_model_module_version": "1.5.0",
            "_view_count": null,
            "_view_module_version": "1.2.0",
            "bar_color": null,
            "_model_module": "@jupyter-widgets/controls"
          }
        },
        "8c52a4b396e442adbb14b9f0ba9be7a1": {
          "model_module": "@jupyter-widgets/base",
          "model_name": "LayoutModel",
          "state": {
            "_view_name": "LayoutView",
            "grid_template_rows": null,
            "right": null,
            "justify_content": null,
            "_view_module": "@jupyter-widgets/base",
            "overflow": null,
            "_model_module_version": "1.2.0",
            "_view_count": null,
            "flex_flow": null,
            "width": null,
            "min_width": null,
            "border": null,
            "align_items": null,
            "bottom": null,
            "_model_module": "@jupyter-widgets/base",
            "top": null,
            "grid_column": null,
            "overflow_y": null,
            "overflow_x": null,
            "grid_auto_flow": null,
            "grid_area": null,
            "grid_template_columns": null,
            "flex": null,
            "_model_name": "LayoutModel",
            "justify_items": null,
            "grid_row": null,
            "max_height": null,
            "align_content": null,
            "visibility": null,
            "align_self": null,
            "height": null,
            "min_height": null,
            "padding": null,
            "grid_auto_rows": null,
            "grid_gap": null,
            "max_width": null,
            "order": null,
            "_view_module_version": "1.2.0",
            "grid_template_areas": null,
            "object_position": null,
            "object_fit": null,
            "grid_auto_columns": null,
            "margin": null,
            "display": null,
            "left": null
          }
        },
        "6e10dcc0406e41fe9000b20cfa903d1e": {
          "model_module": "@jupyter-widgets/controls",
          "model_name": "DescriptionStyleModel",
          "state": {
            "_view_name": "StyleView",
            "_model_name": "DescriptionStyleModel",
            "description_width": "",
            "_view_module": "@jupyter-widgets/base",
            "_model_module_version": "1.5.0",
            "_view_count": null,
            "_view_module_version": "1.2.0",
            "_model_module": "@jupyter-widgets/controls"
          }
        },
        "c22294ee2e42459b82a1d007a1538f56": {
          "model_module": "@jupyter-widgets/base",
          "model_name": "LayoutModel",
          "state": {
            "_view_name": "LayoutView",
            "grid_template_rows": null,
            "right": null,
            "justify_content": null,
            "_view_module": "@jupyter-widgets/base",
            "overflow": null,
            "_model_module_version": "1.2.0",
            "_view_count": null,
            "flex_flow": null,
            "width": null,
            "min_width": null,
            "border": null,
            "align_items": null,
            "bottom": null,
            "_model_module": "@jupyter-widgets/base",
            "top": null,
            "grid_column": null,
            "overflow_y": null,
            "overflow_x": null,
            "grid_auto_flow": null,
            "grid_area": null,
            "grid_template_columns": null,
            "flex": null,
            "_model_name": "LayoutModel",
            "justify_items": null,
            "grid_row": null,
            "max_height": null,
            "align_content": null,
            "visibility": null,
            "align_self": null,
            "height": null,
            "min_height": null,
            "padding": null,
            "grid_auto_rows": null,
            "grid_gap": null,
            "max_width": null,
            "order": null,
            "_view_module_version": "1.2.0",
            "grid_template_areas": null,
            "object_position": null,
            "object_fit": null,
            "grid_auto_columns": null,
            "margin": null,
            "display": null,
            "left": null
          }
        },
        "3f49614a5034446c929cb3adabbe4089": {
          "model_module": "@jupyter-widgets/controls",
          "model_name": "HBoxModel",
          "state": {
            "_view_name": "HBoxView",
            "_dom_classes": [],
            "_model_name": "HBoxModel",
            "_view_module": "@jupyter-widgets/controls",
            "_model_module_version": "1.5.0",
            "_view_count": null,
            "_view_module_version": "1.5.0",
            "box_style": "",
            "layout": "IPY_MODEL_1b77b1ca7294431a91d1a390ba81b59e",
            "_model_module": "@jupyter-widgets/controls",
            "children": [
              "IPY_MODEL_4532d328a6034a6fa5642be6eefa290d",
              "IPY_MODEL_7f0b0b940bdc4e8f9a01ca14ba5a20cf"
            ]
          }
        },
        "1b77b1ca7294431a91d1a390ba81b59e": {
          "model_module": "@jupyter-widgets/base",
          "model_name": "LayoutModel",
          "state": {
            "_view_name": "LayoutView",
            "grid_template_rows": null,
            "right": null,
            "justify_content": null,
            "_view_module": "@jupyter-widgets/base",
            "overflow": null,
            "_model_module_version": "1.2.0",
            "_view_count": null,
            "flex_flow": null,
            "width": null,
            "min_width": null,
            "border": null,
            "align_items": null,
            "bottom": null,
            "_model_module": "@jupyter-widgets/base",
            "top": null,
            "grid_column": null,
            "overflow_y": null,
            "overflow_x": null,
            "grid_auto_flow": null,
            "grid_area": null,
            "grid_template_columns": null,
            "flex": null,
            "_model_name": "LayoutModel",
            "justify_items": null,
            "grid_row": null,
            "max_height": null,
            "align_content": null,
            "visibility": null,
            "align_self": null,
            "height": null,
            "min_height": null,
            "padding": null,
            "grid_auto_rows": null,
            "grid_gap": null,
            "max_width": null,
            "order": null,
            "_view_module_version": "1.2.0",
            "grid_template_areas": null,
            "object_position": null,
            "object_fit": null,
            "grid_auto_columns": null,
            "margin": null,
            "display": null,
            "left": null
          }
        },
        "4532d328a6034a6fa5642be6eefa290d": {
          "model_module": "@jupyter-widgets/controls",
          "model_name": "FloatProgressModel",
          "state": {
            "_view_name": "ProgressView",
            "style": "IPY_MODEL_b4254cd010f040dcb8d49c536a87b1d5",
            "_dom_classes": [],
            "description": "#3: 100%",
            "_model_name": "FloatProgressModel",
            "bar_style": "success",
            "max": 29,
            "_view_module": "@jupyter-widgets/controls",
            "_model_module_version": "1.5.0",
            "value": 29,
            "_view_count": null,
            "_view_module_version": "1.5.0",
            "orientation": "horizontal",
            "min": 0,
            "description_tooltip": null,
            "_model_module": "@jupyter-widgets/controls",
            "layout": "IPY_MODEL_d740c17b3d3f45708bb9eee2882afca8"
          }
        },
        "7f0b0b940bdc4e8f9a01ca14ba5a20cf": {
          "model_module": "@jupyter-widgets/controls",
          "model_name": "HTMLModel",
          "state": {
            "_view_name": "HTMLView",
            "style": "IPY_MODEL_feb460d5eb4e4f71b79172af5c0c0ff1",
            "_dom_classes": [],
            "description": "",
            "_model_name": "HTMLModel",
            "placeholder": "​",
            "_view_module": "@jupyter-widgets/controls",
            "_model_module_version": "1.5.0",
            "value": " 29/29 [00:11&lt;00:00,  2.61ex/s]",
            "_view_count": null,
            "_view_module_version": "1.5.0",
            "description_tooltip": null,
            "_model_module": "@jupyter-widgets/controls",
            "layout": "IPY_MODEL_236229b2b9de4dc7a18dd84d640e3100"
          }
        },
        "b4254cd010f040dcb8d49c536a87b1d5": {
          "model_module": "@jupyter-widgets/controls",
          "model_name": "ProgressStyleModel",
          "state": {
            "_view_name": "StyleView",
            "_model_name": "ProgressStyleModel",
            "description_width": "initial",
            "_view_module": "@jupyter-widgets/base",
            "_model_module_version": "1.5.0",
            "_view_count": null,
            "_view_module_version": "1.2.0",
            "bar_color": null,
            "_model_module": "@jupyter-widgets/controls"
          }
        },
        "d740c17b3d3f45708bb9eee2882afca8": {
          "model_module": "@jupyter-widgets/base",
          "model_name": "LayoutModel",
          "state": {
            "_view_name": "LayoutView",
            "grid_template_rows": null,
            "right": null,
            "justify_content": null,
            "_view_module": "@jupyter-widgets/base",
            "overflow": null,
            "_model_module_version": "1.2.0",
            "_view_count": null,
            "flex_flow": null,
            "width": null,
            "min_width": null,
            "border": null,
            "align_items": null,
            "bottom": null,
            "_model_module": "@jupyter-widgets/base",
            "top": null,
            "grid_column": null,
            "overflow_y": null,
            "overflow_x": null,
            "grid_auto_flow": null,
            "grid_area": null,
            "grid_template_columns": null,
            "flex": null,
            "_model_name": "LayoutModel",
            "justify_items": null,
            "grid_row": null,
            "max_height": null,
            "align_content": null,
            "visibility": null,
            "align_self": null,
            "height": null,
            "min_height": null,
            "padding": null,
            "grid_auto_rows": null,
            "grid_gap": null,
            "max_width": null,
            "order": null,
            "_view_module_version": "1.2.0",
            "grid_template_areas": null,
            "object_position": null,
            "object_fit": null,
            "grid_auto_columns": null,
            "margin": null,
            "display": null,
            "left": null
          }
        },
        "feb460d5eb4e4f71b79172af5c0c0ff1": {
          "model_module": "@jupyter-widgets/controls",
          "model_name": "DescriptionStyleModel",
          "state": {
            "_view_name": "StyleView",
            "_model_name": "DescriptionStyleModel",
            "description_width": "",
            "_view_module": "@jupyter-widgets/base",
            "_model_module_version": "1.5.0",
            "_view_count": null,
            "_view_module_version": "1.2.0",
            "_model_module": "@jupyter-widgets/controls"
          }
        },
        "236229b2b9de4dc7a18dd84d640e3100": {
          "model_module": "@jupyter-widgets/base",
          "model_name": "LayoutModel",
          "state": {
            "_view_name": "LayoutView",
            "grid_template_rows": null,
            "right": null,
            "justify_content": null,
            "_view_module": "@jupyter-widgets/base",
            "overflow": null,
            "_model_module_version": "1.2.0",
            "_view_count": null,
            "flex_flow": null,
            "width": null,
            "min_width": null,
            "border": null,
            "align_items": null,
            "bottom": null,
            "_model_module": "@jupyter-widgets/base",
            "top": null,
            "grid_column": null,
            "overflow_y": null,
            "overflow_x": null,
            "grid_auto_flow": null,
            "grid_area": null,
            "grid_template_columns": null,
            "flex": null,
            "_model_name": "LayoutModel",
            "justify_items": null,
            "grid_row": null,
            "max_height": null,
            "align_content": null,
            "visibility": null,
            "align_self": null,
            "height": null,
            "min_height": null,
            "padding": null,
            "grid_auto_rows": null,
            "grid_gap": null,
            "max_width": null,
            "order": null,
            "_view_module_version": "1.2.0",
            "grid_template_areas": null,
            "object_position": null,
            "object_fit": null,
            "grid_auto_columns": null,
            "margin": null,
            "display": null,
            "left": null
          }
        },
        "64b97061516c488391d5cad07b38f04e": {
          "model_module": "@jupyter-widgets/controls",
          "model_name": "HBoxModel",
          "state": {
            "_view_name": "HBoxView",
            "_dom_classes": [],
            "_model_name": "HBoxModel",
            "_view_module": "@jupyter-widgets/controls",
            "_model_module_version": "1.5.0",
            "_view_count": null,
            "_view_module_version": "1.5.0",
            "box_style": "",
            "layout": "IPY_MODEL_461c8da6840146e4996c7f2ab44a2228",
            "_model_module": "@jupyter-widgets/controls",
            "children": [
              "IPY_MODEL_956d3db5146d4b60a96d107171b5254a",
              "IPY_MODEL_3ad8bec4e2a441d498a06c1f6f065bf4"
            ]
          }
        },
        "461c8da6840146e4996c7f2ab44a2228": {
          "model_module": "@jupyter-widgets/base",
          "model_name": "LayoutModel",
          "state": {
            "_view_name": "LayoutView",
            "grid_template_rows": null,
            "right": null,
            "justify_content": null,
            "_view_module": "@jupyter-widgets/base",
            "overflow": null,
            "_model_module_version": "1.2.0",
            "_view_count": null,
            "flex_flow": null,
            "width": null,
            "min_width": null,
            "border": null,
            "align_items": null,
            "bottom": null,
            "_model_module": "@jupyter-widgets/base",
            "top": null,
            "grid_column": null,
            "overflow_y": null,
            "overflow_x": null,
            "grid_auto_flow": null,
            "grid_area": null,
            "grid_template_columns": null,
            "flex": null,
            "_model_name": "LayoutModel",
            "justify_items": null,
            "grid_row": null,
            "max_height": null,
            "align_content": null,
            "visibility": null,
            "align_self": null,
            "height": null,
            "min_height": null,
            "padding": null,
            "grid_auto_rows": null,
            "grid_gap": null,
            "max_width": null,
            "order": null,
            "_view_module_version": "1.2.0",
            "grid_template_areas": null,
            "object_position": null,
            "object_fit": null,
            "grid_auto_columns": null,
            "margin": null,
            "display": null,
            "left": null
          }
        },
        "956d3db5146d4b60a96d107171b5254a": {
          "model_module": "@jupyter-widgets/controls",
          "model_name": "FloatProgressModel",
          "state": {
            "_view_name": "ProgressView",
            "style": "IPY_MODEL_55d3e1a0ac444bb6be665e2ca59eda7d",
            "_dom_classes": [],
            "description": "#1: 100%",
            "_model_name": "FloatProgressModel",
            "bar_style": "success",
            "max": 8,
            "_view_module": "@jupyter-widgets/controls",
            "_model_module_version": "1.5.0",
            "value": 8,
            "_view_count": null,
            "_view_module_version": "1.5.0",
            "orientation": "horizontal",
            "min": 0,
            "description_tooltip": null,
            "_model_module": "@jupyter-widgets/controls",
            "layout": "IPY_MODEL_b18e962f3fbe42adb776b97af5801cdd"
          }
        },
        "3ad8bec4e2a441d498a06c1f6f065bf4": {
          "model_module": "@jupyter-widgets/controls",
          "model_name": "HTMLModel",
          "state": {
            "_view_name": "HTMLView",
            "style": "IPY_MODEL_c41a185f3eba4aa4a644f5ae5c0e0ee7",
            "_dom_classes": [],
            "description": "",
            "_model_name": "HTMLModel",
            "placeholder": "​",
            "_view_module": "@jupyter-widgets/controls",
            "_model_module_version": "1.5.0",
            "value": " 8/8 [00:04&lt;00:00,  1.91ba/s]",
            "_view_count": null,
            "_view_module_version": "1.5.0",
            "description_tooltip": null,
            "_model_module": "@jupyter-widgets/controls",
            "layout": "IPY_MODEL_e168cb3421094bc7be38ed21c5f4e620"
          }
        },
        "55d3e1a0ac444bb6be665e2ca59eda7d": {
          "model_module": "@jupyter-widgets/controls",
          "model_name": "ProgressStyleModel",
          "state": {
            "_view_name": "StyleView",
            "_model_name": "ProgressStyleModel",
            "description_width": "initial",
            "_view_module": "@jupyter-widgets/base",
            "_model_module_version": "1.5.0",
            "_view_count": null,
            "_view_module_version": "1.2.0",
            "bar_color": null,
            "_model_module": "@jupyter-widgets/controls"
          }
        },
        "b18e962f3fbe42adb776b97af5801cdd": {
          "model_module": "@jupyter-widgets/base",
          "model_name": "LayoutModel",
          "state": {
            "_view_name": "LayoutView",
            "grid_template_rows": null,
            "right": null,
            "justify_content": null,
            "_view_module": "@jupyter-widgets/base",
            "overflow": null,
            "_model_module_version": "1.2.0",
            "_view_count": null,
            "flex_flow": null,
            "width": null,
            "min_width": null,
            "border": null,
            "align_items": null,
            "bottom": null,
            "_model_module": "@jupyter-widgets/base",
            "top": null,
            "grid_column": null,
            "overflow_y": null,
            "overflow_x": null,
            "grid_auto_flow": null,
            "grid_area": null,
            "grid_template_columns": null,
            "flex": null,
            "_model_name": "LayoutModel",
            "justify_items": null,
            "grid_row": null,
            "max_height": null,
            "align_content": null,
            "visibility": null,
            "align_self": null,
            "height": null,
            "min_height": null,
            "padding": null,
            "grid_auto_rows": null,
            "grid_gap": null,
            "max_width": null,
            "order": null,
            "_view_module_version": "1.2.0",
            "grid_template_areas": null,
            "object_position": null,
            "object_fit": null,
            "grid_auto_columns": null,
            "margin": null,
            "display": null,
            "left": null
          }
        },
        "c41a185f3eba4aa4a644f5ae5c0e0ee7": {
          "model_module": "@jupyter-widgets/controls",
          "model_name": "DescriptionStyleModel",
          "state": {
            "_view_name": "StyleView",
            "_model_name": "DescriptionStyleModel",
            "description_width": "",
            "_view_module": "@jupyter-widgets/base",
            "_model_module_version": "1.5.0",
            "_view_count": null,
            "_view_module_version": "1.2.0",
            "_model_module": "@jupyter-widgets/controls"
          }
        },
        "e168cb3421094bc7be38ed21c5f4e620": {
          "model_module": "@jupyter-widgets/base",
          "model_name": "LayoutModel",
          "state": {
            "_view_name": "LayoutView",
            "grid_template_rows": null,
            "right": null,
            "justify_content": null,
            "_view_module": "@jupyter-widgets/base",
            "overflow": null,
            "_model_module_version": "1.2.0",
            "_view_count": null,
            "flex_flow": null,
            "width": null,
            "min_width": null,
            "border": null,
            "align_items": null,
            "bottom": null,
            "_model_module": "@jupyter-widgets/base",
            "top": null,
            "grid_column": null,
            "overflow_y": null,
            "overflow_x": null,
            "grid_auto_flow": null,
            "grid_area": null,
            "grid_template_columns": null,
            "flex": null,
            "_model_name": "LayoutModel",
            "justify_items": null,
            "grid_row": null,
            "max_height": null,
            "align_content": null,
            "visibility": null,
            "align_self": null,
            "height": null,
            "min_height": null,
            "padding": null,
            "grid_auto_rows": null,
            "grid_gap": null,
            "max_width": null,
            "order": null,
            "_view_module_version": "1.2.0",
            "grid_template_areas": null,
            "object_position": null,
            "object_fit": null,
            "grid_auto_columns": null,
            "margin": null,
            "display": null,
            "left": null
          }
        },
        "a6a7078da9154488823b71ad6b57d3d2": {
          "model_module": "@jupyter-widgets/controls",
          "model_name": "HBoxModel",
          "state": {
            "_view_name": "HBoxView",
            "_dom_classes": [],
            "_model_name": "HBoxModel",
            "_view_module": "@jupyter-widgets/controls",
            "_model_module_version": "1.5.0",
            "_view_count": null,
            "_view_module_version": "1.5.0",
            "box_style": "",
            "layout": "IPY_MODEL_8d366e96f112489ab10cfa6730fb34c2",
            "_model_module": "@jupyter-widgets/controls",
            "children": [
              "IPY_MODEL_0a700e58db264dfa9c037d30b46f5276",
              "IPY_MODEL_b550eb8ca4e944919f899a046faf2a4e"
            ]
          }
        },
        "8d366e96f112489ab10cfa6730fb34c2": {
          "model_module": "@jupyter-widgets/base",
          "model_name": "LayoutModel",
          "state": {
            "_view_name": "LayoutView",
            "grid_template_rows": null,
            "right": null,
            "justify_content": null,
            "_view_module": "@jupyter-widgets/base",
            "overflow": null,
            "_model_module_version": "1.2.0",
            "_view_count": null,
            "flex_flow": null,
            "width": null,
            "min_width": null,
            "border": null,
            "align_items": null,
            "bottom": null,
            "_model_module": "@jupyter-widgets/base",
            "top": null,
            "grid_column": null,
            "overflow_y": null,
            "overflow_x": null,
            "grid_auto_flow": null,
            "grid_area": null,
            "grid_template_columns": null,
            "flex": null,
            "_model_name": "LayoutModel",
            "justify_items": null,
            "grid_row": null,
            "max_height": null,
            "align_content": null,
            "visibility": null,
            "align_self": null,
            "height": null,
            "min_height": null,
            "padding": null,
            "grid_auto_rows": null,
            "grid_gap": null,
            "max_width": null,
            "order": null,
            "_view_module_version": "1.2.0",
            "grid_template_areas": null,
            "object_position": null,
            "object_fit": null,
            "grid_auto_columns": null,
            "margin": null,
            "display": null,
            "left": null
          }
        },
        "0a700e58db264dfa9c037d30b46f5276": {
          "model_module": "@jupyter-widgets/controls",
          "model_name": "FloatProgressModel",
          "state": {
            "_view_name": "ProgressView",
            "style": "IPY_MODEL_61bb316a447c47ffadcdcd4f3d224405",
            "_dom_classes": [],
            "description": "#0: 100%",
            "_model_name": "FloatProgressModel",
            "bar_style": "success",
            "max": 8,
            "_view_module": "@jupyter-widgets/controls",
            "_model_module_version": "1.5.0",
            "value": 8,
            "_view_count": null,
            "_view_module_version": "1.5.0",
            "orientation": "horizontal",
            "min": 0,
            "description_tooltip": null,
            "_model_module": "@jupyter-widgets/controls",
            "layout": "IPY_MODEL_10135d21fe754c4da0128598520d3405"
          }
        },
        "b550eb8ca4e944919f899a046faf2a4e": {
          "model_module": "@jupyter-widgets/controls",
          "model_name": "HTMLModel",
          "state": {
            "_view_name": "HTMLView",
            "style": "IPY_MODEL_2d7f918f59314f9089a4a5b391e518b5",
            "_dom_classes": [],
            "description": "",
            "_model_name": "HTMLModel",
            "placeholder": "​",
            "_view_module": "@jupyter-widgets/controls",
            "_model_module_version": "1.5.0",
            "value": " 8/8 [00:04&lt;00:00,  1.81ba/s]",
            "_view_count": null,
            "_view_module_version": "1.5.0",
            "description_tooltip": null,
            "_model_module": "@jupyter-widgets/controls",
            "layout": "IPY_MODEL_d38e1e6051004812a2be096d8e14a429"
          }
        },
        "61bb316a447c47ffadcdcd4f3d224405": {
          "model_module": "@jupyter-widgets/controls",
          "model_name": "ProgressStyleModel",
          "state": {
            "_view_name": "StyleView",
            "_model_name": "ProgressStyleModel",
            "description_width": "initial",
            "_view_module": "@jupyter-widgets/base",
            "_model_module_version": "1.5.0",
            "_view_count": null,
            "_view_module_version": "1.2.0",
            "bar_color": null,
            "_model_module": "@jupyter-widgets/controls"
          }
        },
        "10135d21fe754c4da0128598520d3405": {
          "model_module": "@jupyter-widgets/base",
          "model_name": "LayoutModel",
          "state": {
            "_view_name": "LayoutView",
            "grid_template_rows": null,
            "right": null,
            "justify_content": null,
            "_view_module": "@jupyter-widgets/base",
            "overflow": null,
            "_model_module_version": "1.2.0",
            "_view_count": null,
            "flex_flow": null,
            "width": null,
            "min_width": null,
            "border": null,
            "align_items": null,
            "bottom": null,
            "_model_module": "@jupyter-widgets/base",
            "top": null,
            "grid_column": null,
            "overflow_y": null,
            "overflow_x": null,
            "grid_auto_flow": null,
            "grid_area": null,
            "grid_template_columns": null,
            "flex": null,
            "_model_name": "LayoutModel",
            "justify_items": null,
            "grid_row": null,
            "max_height": null,
            "align_content": null,
            "visibility": null,
            "align_self": null,
            "height": null,
            "min_height": null,
            "padding": null,
            "grid_auto_rows": null,
            "grid_gap": null,
            "max_width": null,
            "order": null,
            "_view_module_version": "1.2.0",
            "grid_template_areas": null,
            "object_position": null,
            "object_fit": null,
            "grid_auto_columns": null,
            "margin": null,
            "display": null,
            "left": null
          }
        },
        "2d7f918f59314f9089a4a5b391e518b5": {
          "model_module": "@jupyter-widgets/controls",
          "model_name": "DescriptionStyleModel",
          "state": {
            "_view_name": "StyleView",
            "_model_name": "DescriptionStyleModel",
            "description_width": "",
            "_view_module": "@jupyter-widgets/base",
            "_model_module_version": "1.5.0",
            "_view_count": null,
            "_view_module_version": "1.2.0",
            "_model_module": "@jupyter-widgets/controls"
          }
        },
        "d38e1e6051004812a2be096d8e14a429": {
          "model_module": "@jupyter-widgets/base",
          "model_name": "LayoutModel",
          "state": {
            "_view_name": "LayoutView",
            "grid_template_rows": null,
            "right": null,
            "justify_content": null,
            "_view_module": "@jupyter-widgets/base",
            "overflow": null,
            "_model_module_version": "1.2.0",
            "_view_count": null,
            "flex_flow": null,
            "width": null,
            "min_width": null,
            "border": null,
            "align_items": null,
            "bottom": null,
            "_model_module": "@jupyter-widgets/base",
            "top": null,
            "grid_column": null,
            "overflow_y": null,
            "overflow_x": null,
            "grid_auto_flow": null,
            "grid_area": null,
            "grid_template_columns": null,
            "flex": null,
            "_model_name": "LayoutModel",
            "justify_items": null,
            "grid_row": null,
            "max_height": null,
            "align_content": null,
            "visibility": null,
            "align_self": null,
            "height": null,
            "min_height": null,
            "padding": null,
            "grid_auto_rows": null,
            "grid_gap": null,
            "max_width": null,
            "order": null,
            "_view_module_version": "1.2.0",
            "grid_template_areas": null,
            "object_position": null,
            "object_fit": null,
            "grid_auto_columns": null,
            "margin": null,
            "display": null,
            "left": null
          }
        },
        "86a24ab720614218a79ec6a0857a6362": {
          "model_module": "@jupyter-widgets/controls",
          "model_name": "HBoxModel",
          "state": {
            "_view_name": "HBoxView",
            "_dom_classes": [],
            "_model_name": "HBoxModel",
            "_view_module": "@jupyter-widgets/controls",
            "_model_module_version": "1.5.0",
            "_view_count": null,
            "_view_module_version": "1.5.0",
            "box_style": "",
            "layout": "IPY_MODEL_a7bbae7810ef4d6ab0e232f4c193b824",
            "_model_module": "@jupyter-widgets/controls",
            "children": [
              "IPY_MODEL_11eb3eb53d9d4427b71993c08aec6233",
              "IPY_MODEL_86e76f19ac9d4d3191ee03bcdba3391d"
            ]
          }
        },
        "a7bbae7810ef4d6ab0e232f4c193b824": {
          "model_module": "@jupyter-widgets/base",
          "model_name": "LayoutModel",
          "state": {
            "_view_name": "LayoutView",
            "grid_template_rows": null,
            "right": null,
            "justify_content": null,
            "_view_module": "@jupyter-widgets/base",
            "overflow": null,
            "_model_module_version": "1.2.0",
            "_view_count": null,
            "flex_flow": null,
            "width": null,
            "min_width": null,
            "border": null,
            "align_items": null,
            "bottom": null,
            "_model_module": "@jupyter-widgets/base",
            "top": null,
            "grid_column": null,
            "overflow_y": null,
            "overflow_x": null,
            "grid_auto_flow": null,
            "grid_area": null,
            "grid_template_columns": null,
            "flex": null,
            "_model_name": "LayoutModel",
            "justify_items": null,
            "grid_row": null,
            "max_height": null,
            "align_content": null,
            "visibility": null,
            "align_self": null,
            "height": null,
            "min_height": null,
            "padding": null,
            "grid_auto_rows": null,
            "grid_gap": null,
            "max_width": null,
            "order": null,
            "_view_module_version": "1.2.0",
            "grid_template_areas": null,
            "object_position": null,
            "object_fit": null,
            "grid_auto_columns": null,
            "margin": null,
            "display": null,
            "left": null
          }
        },
        "11eb3eb53d9d4427b71993c08aec6233": {
          "model_module": "@jupyter-widgets/controls",
          "model_name": "FloatProgressModel",
          "state": {
            "_view_name": "ProgressView",
            "style": "IPY_MODEL_e964b44ae9164e8f9389cc10f57c2c8a",
            "_dom_classes": [],
            "description": "#2: 100%",
            "_model_name": "FloatProgressModel",
            "bar_style": "success",
            "max": 8,
            "_view_module": "@jupyter-widgets/controls",
            "_model_module_version": "1.5.0",
            "value": 8,
            "_view_count": null,
            "_view_module_version": "1.5.0",
            "orientation": "horizontal",
            "min": 0,
            "description_tooltip": null,
            "_model_module": "@jupyter-widgets/controls",
            "layout": "IPY_MODEL_a14a5269e43a40a7912a53bfe9407c0e"
          }
        },
        "86e76f19ac9d4d3191ee03bcdba3391d": {
          "model_module": "@jupyter-widgets/controls",
          "model_name": "HTMLModel",
          "state": {
            "_view_name": "HTMLView",
            "style": "IPY_MODEL_7768dfbbd0974824b1e20cca690686a1",
            "_dom_classes": [],
            "description": "",
            "_model_name": "HTMLModel",
            "placeholder": "​",
            "_view_module": "@jupyter-widgets/controls",
            "_model_module_version": "1.5.0",
            "value": " 8/8 [00:03&lt;00:00,  2.01ba/s]",
            "_view_count": null,
            "_view_module_version": "1.5.0",
            "description_tooltip": null,
            "_model_module": "@jupyter-widgets/controls",
            "layout": "IPY_MODEL_5ffa55c0a7c14cdc9b7aaf1c9357aab9"
          }
        },
        "e964b44ae9164e8f9389cc10f57c2c8a": {
          "model_module": "@jupyter-widgets/controls",
          "model_name": "ProgressStyleModel",
          "state": {
            "_view_name": "StyleView",
            "_model_name": "ProgressStyleModel",
            "description_width": "initial",
            "_view_module": "@jupyter-widgets/base",
            "_model_module_version": "1.5.0",
            "_view_count": null,
            "_view_module_version": "1.2.0",
            "bar_color": null,
            "_model_module": "@jupyter-widgets/controls"
          }
        },
        "a14a5269e43a40a7912a53bfe9407c0e": {
          "model_module": "@jupyter-widgets/base",
          "model_name": "LayoutModel",
          "state": {
            "_view_name": "LayoutView",
            "grid_template_rows": null,
            "right": null,
            "justify_content": null,
            "_view_module": "@jupyter-widgets/base",
            "overflow": null,
            "_model_module_version": "1.2.0",
            "_view_count": null,
            "flex_flow": null,
            "width": null,
            "min_width": null,
            "border": null,
            "align_items": null,
            "bottom": null,
            "_model_module": "@jupyter-widgets/base",
            "top": null,
            "grid_column": null,
            "overflow_y": null,
            "overflow_x": null,
            "grid_auto_flow": null,
            "grid_area": null,
            "grid_template_columns": null,
            "flex": null,
            "_model_name": "LayoutModel",
            "justify_items": null,
            "grid_row": null,
            "max_height": null,
            "align_content": null,
            "visibility": null,
            "align_self": null,
            "height": null,
            "min_height": null,
            "padding": null,
            "grid_auto_rows": null,
            "grid_gap": null,
            "max_width": null,
            "order": null,
            "_view_module_version": "1.2.0",
            "grid_template_areas": null,
            "object_position": null,
            "object_fit": null,
            "grid_auto_columns": null,
            "margin": null,
            "display": null,
            "left": null
          }
        },
        "7768dfbbd0974824b1e20cca690686a1": {
          "model_module": "@jupyter-widgets/controls",
          "model_name": "DescriptionStyleModel",
          "state": {
            "_view_name": "StyleView",
            "_model_name": "DescriptionStyleModel",
            "description_width": "",
            "_view_module": "@jupyter-widgets/base",
            "_model_module_version": "1.5.0",
            "_view_count": null,
            "_view_module_version": "1.2.0",
            "_model_module": "@jupyter-widgets/controls"
          }
        },
        "5ffa55c0a7c14cdc9b7aaf1c9357aab9": {
          "model_module": "@jupyter-widgets/base",
          "model_name": "LayoutModel",
          "state": {
            "_view_name": "LayoutView",
            "grid_template_rows": null,
            "right": null,
            "justify_content": null,
            "_view_module": "@jupyter-widgets/base",
            "overflow": null,
            "_model_module_version": "1.2.0",
            "_view_count": null,
            "flex_flow": null,
            "width": null,
            "min_width": null,
            "border": null,
            "align_items": null,
            "bottom": null,
            "_model_module": "@jupyter-widgets/base",
            "top": null,
            "grid_column": null,
            "overflow_y": null,
            "overflow_x": null,
            "grid_auto_flow": null,
            "grid_area": null,
            "grid_template_columns": null,
            "flex": null,
            "_model_name": "LayoutModel",
            "justify_items": null,
            "grid_row": null,
            "max_height": null,
            "align_content": null,
            "visibility": null,
            "align_self": null,
            "height": null,
            "min_height": null,
            "padding": null,
            "grid_auto_rows": null,
            "grid_gap": null,
            "max_width": null,
            "order": null,
            "_view_module_version": "1.2.0",
            "grid_template_areas": null,
            "object_position": null,
            "object_fit": null,
            "grid_auto_columns": null,
            "margin": null,
            "display": null,
            "left": null
          }
        },
        "9f7e03456bca45e699e1a147ba587820": {
          "model_module": "@jupyter-widgets/controls",
          "model_name": "HBoxModel",
          "state": {
            "_view_name": "HBoxView",
            "_dom_classes": [],
            "_model_name": "HBoxModel",
            "_view_module": "@jupyter-widgets/controls",
            "_model_module_version": "1.5.0",
            "_view_count": null,
            "_view_module_version": "1.5.0",
            "box_style": "",
            "layout": "IPY_MODEL_d1a951e2811d4cb280f0abc4ecc825f9",
            "_model_module": "@jupyter-widgets/controls",
            "children": [
              "IPY_MODEL_fb1f2f209cf54860aa44a3c724916787",
              "IPY_MODEL_567bcdfa18274bf0babb784edda74a54"
            ]
          }
        },
        "d1a951e2811d4cb280f0abc4ecc825f9": {
          "model_module": "@jupyter-widgets/base",
          "model_name": "LayoutModel",
          "state": {
            "_view_name": "LayoutView",
            "grid_template_rows": null,
            "right": null,
            "justify_content": null,
            "_view_module": "@jupyter-widgets/base",
            "overflow": null,
            "_model_module_version": "1.2.0",
            "_view_count": null,
            "flex_flow": null,
            "width": null,
            "min_width": null,
            "border": null,
            "align_items": null,
            "bottom": null,
            "_model_module": "@jupyter-widgets/base",
            "top": null,
            "grid_column": null,
            "overflow_y": null,
            "overflow_x": null,
            "grid_auto_flow": null,
            "grid_area": null,
            "grid_template_columns": null,
            "flex": null,
            "_model_name": "LayoutModel",
            "justify_items": null,
            "grid_row": null,
            "max_height": null,
            "align_content": null,
            "visibility": null,
            "align_self": null,
            "height": null,
            "min_height": null,
            "padding": null,
            "grid_auto_rows": null,
            "grid_gap": null,
            "max_width": null,
            "order": null,
            "_view_module_version": "1.2.0",
            "grid_template_areas": null,
            "object_position": null,
            "object_fit": null,
            "grid_auto_columns": null,
            "margin": null,
            "display": null,
            "left": null
          }
        },
        "fb1f2f209cf54860aa44a3c724916787": {
          "model_module": "@jupyter-widgets/controls",
          "model_name": "FloatProgressModel",
          "state": {
            "_view_name": "ProgressView",
            "style": "IPY_MODEL_7cccb4b28e044e61824f6e68dee73634",
            "_dom_classes": [],
            "description": "#3: 100%",
            "_model_name": "FloatProgressModel",
            "bar_style": "success",
            "max": 8,
            "_view_module": "@jupyter-widgets/controls",
            "_model_module_version": "1.5.0",
            "value": 8,
            "_view_count": null,
            "_view_module_version": "1.5.0",
            "orientation": "horizontal",
            "min": 0,
            "description_tooltip": null,
            "_model_module": "@jupyter-widgets/controls",
            "layout": "IPY_MODEL_b1331e43cb0e49dab8c38c1d7019f3ec"
          }
        },
        "567bcdfa18274bf0babb784edda74a54": {
          "model_module": "@jupyter-widgets/controls",
          "model_name": "HTMLModel",
          "state": {
            "_view_name": "HTMLView",
            "style": "IPY_MODEL_94bf229030ec44f2828e774b2d0a8adb",
            "_dom_classes": [],
            "description": "",
            "_model_name": "HTMLModel",
            "placeholder": "​",
            "_view_module": "@jupyter-widgets/controls",
            "_model_module_version": "1.5.0",
            "value": " 8/8 [00:04&lt;00:00,  1.90ba/s]",
            "_view_count": null,
            "_view_module_version": "1.5.0",
            "description_tooltip": null,
            "_model_module": "@jupyter-widgets/controls",
            "layout": "IPY_MODEL_ba9754c053ed41ee8843d7498891cb84"
          }
        },
        "7cccb4b28e044e61824f6e68dee73634": {
          "model_module": "@jupyter-widgets/controls",
          "model_name": "ProgressStyleModel",
          "state": {
            "_view_name": "StyleView",
            "_model_name": "ProgressStyleModel",
            "description_width": "initial",
            "_view_module": "@jupyter-widgets/base",
            "_model_module_version": "1.5.0",
            "_view_count": null,
            "_view_module_version": "1.2.0",
            "bar_color": null,
            "_model_module": "@jupyter-widgets/controls"
          }
        },
        "b1331e43cb0e49dab8c38c1d7019f3ec": {
          "model_module": "@jupyter-widgets/base",
          "model_name": "LayoutModel",
          "state": {
            "_view_name": "LayoutView",
            "grid_template_rows": null,
            "right": null,
            "justify_content": null,
            "_view_module": "@jupyter-widgets/base",
            "overflow": null,
            "_model_module_version": "1.2.0",
            "_view_count": null,
            "flex_flow": null,
            "width": null,
            "min_width": null,
            "border": null,
            "align_items": null,
            "bottom": null,
            "_model_module": "@jupyter-widgets/base",
            "top": null,
            "grid_column": null,
            "overflow_y": null,
            "overflow_x": null,
            "grid_auto_flow": null,
            "grid_area": null,
            "grid_template_columns": null,
            "flex": null,
            "_model_name": "LayoutModel",
            "justify_items": null,
            "grid_row": null,
            "max_height": null,
            "align_content": null,
            "visibility": null,
            "align_self": null,
            "height": null,
            "min_height": null,
            "padding": null,
            "grid_auto_rows": null,
            "grid_gap": null,
            "max_width": null,
            "order": null,
            "_view_module_version": "1.2.0",
            "grid_template_areas": null,
            "object_position": null,
            "object_fit": null,
            "grid_auto_columns": null,
            "margin": null,
            "display": null,
            "left": null
          }
        },
        "94bf229030ec44f2828e774b2d0a8adb": {
          "model_module": "@jupyter-widgets/controls",
          "model_name": "DescriptionStyleModel",
          "state": {
            "_view_name": "StyleView",
            "_model_name": "DescriptionStyleModel",
            "description_width": "",
            "_view_module": "@jupyter-widgets/base",
            "_model_module_version": "1.5.0",
            "_view_count": null,
            "_view_module_version": "1.2.0",
            "_model_module": "@jupyter-widgets/controls"
          }
        },
        "ba9754c053ed41ee8843d7498891cb84": {
          "model_module": "@jupyter-widgets/base",
          "model_name": "LayoutModel",
          "state": {
            "_view_name": "LayoutView",
            "grid_template_rows": null,
            "right": null,
            "justify_content": null,
            "_view_module": "@jupyter-widgets/base",
            "overflow": null,
            "_model_module_version": "1.2.0",
            "_view_count": null,
            "flex_flow": null,
            "width": null,
            "min_width": null,
            "border": null,
            "align_items": null,
            "bottom": null,
            "_model_module": "@jupyter-widgets/base",
            "top": null,
            "grid_column": null,
            "overflow_y": null,
            "overflow_x": null,
            "grid_auto_flow": null,
            "grid_area": null,
            "grid_template_columns": null,
            "flex": null,
            "_model_name": "LayoutModel",
            "justify_items": null,
            "grid_row": null,
            "max_height": null,
            "align_content": null,
            "visibility": null,
            "align_self": null,
            "height": null,
            "min_height": null,
            "padding": null,
            "grid_auto_rows": null,
            "grid_gap": null,
            "max_width": null,
            "order": null,
            "_view_module_version": "1.2.0",
            "grid_template_areas": null,
            "object_position": null,
            "object_fit": null,
            "grid_auto_columns": null,
            "margin": null,
            "display": null,
            "left": null
          }
        },
        "b74f991f52c245e6a649286eff7c9c3e": {
          "model_module": "@jupyter-widgets/controls",
          "model_name": "HBoxModel",
          "state": {
            "_view_name": "HBoxView",
            "_dom_classes": [],
            "_model_name": "HBoxModel",
            "_view_module": "@jupyter-widgets/controls",
            "_model_module_version": "1.5.0",
            "_view_count": null,
            "_view_module_version": "1.5.0",
            "box_style": "",
            "layout": "IPY_MODEL_5492d59748604bb69b8f8dd550b49700",
            "_model_module": "@jupyter-widgets/controls",
            "children": [
              "IPY_MODEL_536c460aaff04229a79755f9b1d1af32",
              "IPY_MODEL_9fc63ba873ac43cabae528513de0a19f"
            ]
          }
        },
        "5492d59748604bb69b8f8dd550b49700": {
          "model_module": "@jupyter-widgets/base",
          "model_name": "LayoutModel",
          "state": {
            "_view_name": "LayoutView",
            "grid_template_rows": null,
            "right": null,
            "justify_content": null,
            "_view_module": "@jupyter-widgets/base",
            "overflow": null,
            "_model_module_version": "1.2.0",
            "_view_count": null,
            "flex_flow": null,
            "width": null,
            "min_width": null,
            "border": null,
            "align_items": null,
            "bottom": null,
            "_model_module": "@jupyter-widgets/base",
            "top": null,
            "grid_column": null,
            "overflow_y": null,
            "overflow_x": null,
            "grid_auto_flow": null,
            "grid_area": null,
            "grid_template_columns": null,
            "flex": null,
            "_model_name": "LayoutModel",
            "justify_items": null,
            "grid_row": null,
            "max_height": null,
            "align_content": null,
            "visibility": null,
            "align_self": null,
            "height": null,
            "min_height": null,
            "padding": null,
            "grid_auto_rows": null,
            "grid_gap": null,
            "max_width": null,
            "order": null,
            "_view_module_version": "1.2.0",
            "grid_template_areas": null,
            "object_position": null,
            "object_fit": null,
            "grid_auto_columns": null,
            "margin": null,
            "display": null,
            "left": null
          }
        },
        "536c460aaff04229a79755f9b1d1af32": {
          "model_module": "@jupyter-widgets/controls",
          "model_name": "FloatProgressModel",
          "state": {
            "_view_name": "ProgressView",
            "style": "IPY_MODEL_6ccbbba9724049728953e08ff9b18dae",
            "_dom_classes": [],
            "description": "#0: 100%",
            "_model_name": "FloatProgressModel",
            "bar_style": "success",
            "max": 4,
            "_view_module": "@jupyter-widgets/controls",
            "_model_module_version": "1.5.0",
            "value": 4,
            "_view_count": null,
            "_view_module_version": "1.5.0",
            "orientation": "horizontal",
            "min": 0,
            "description_tooltip": null,
            "_model_module": "@jupyter-widgets/controls",
            "layout": "IPY_MODEL_3e043ecec2f5408d81bc1f9c28b4edf7"
          }
        },
        "9fc63ba873ac43cabae528513de0a19f": {
          "model_module": "@jupyter-widgets/controls",
          "model_name": "HTMLModel",
          "state": {
            "_view_name": "HTMLView",
            "style": "IPY_MODEL_ecfd363f28584cdf8eca151e2eb83f9b",
            "_dom_classes": [],
            "description": "",
            "_model_name": "HTMLModel",
            "placeholder": "​",
            "_view_module": "@jupyter-widgets/controls",
            "_model_module_version": "1.5.0",
            "value": " 4/4 [00:01&lt;00:00,  2.07ba/s]",
            "_view_count": null,
            "_view_module_version": "1.5.0",
            "description_tooltip": null,
            "_model_module": "@jupyter-widgets/controls",
            "layout": "IPY_MODEL_d9813b18e696495183ff370a4ff9d1ee"
          }
        },
        "6ccbbba9724049728953e08ff9b18dae": {
          "model_module": "@jupyter-widgets/controls",
          "model_name": "ProgressStyleModel",
          "state": {
            "_view_name": "StyleView",
            "_model_name": "ProgressStyleModel",
            "description_width": "initial",
            "_view_module": "@jupyter-widgets/base",
            "_model_module_version": "1.5.0",
            "_view_count": null,
            "_view_module_version": "1.2.0",
            "bar_color": null,
            "_model_module": "@jupyter-widgets/controls"
          }
        },
        "3e043ecec2f5408d81bc1f9c28b4edf7": {
          "model_module": "@jupyter-widgets/base",
          "model_name": "LayoutModel",
          "state": {
            "_view_name": "LayoutView",
            "grid_template_rows": null,
            "right": null,
            "justify_content": null,
            "_view_module": "@jupyter-widgets/base",
            "overflow": null,
            "_model_module_version": "1.2.0",
            "_view_count": null,
            "flex_flow": null,
            "width": null,
            "min_width": null,
            "border": null,
            "align_items": null,
            "bottom": null,
            "_model_module": "@jupyter-widgets/base",
            "top": null,
            "grid_column": null,
            "overflow_y": null,
            "overflow_x": null,
            "grid_auto_flow": null,
            "grid_area": null,
            "grid_template_columns": null,
            "flex": null,
            "_model_name": "LayoutModel",
            "justify_items": null,
            "grid_row": null,
            "max_height": null,
            "align_content": null,
            "visibility": null,
            "align_self": null,
            "height": null,
            "min_height": null,
            "padding": null,
            "grid_auto_rows": null,
            "grid_gap": null,
            "max_width": null,
            "order": null,
            "_view_module_version": "1.2.0",
            "grid_template_areas": null,
            "object_position": null,
            "object_fit": null,
            "grid_auto_columns": null,
            "margin": null,
            "display": null,
            "left": null
          }
        },
        "ecfd363f28584cdf8eca151e2eb83f9b": {
          "model_module": "@jupyter-widgets/controls",
          "model_name": "DescriptionStyleModel",
          "state": {
            "_view_name": "StyleView",
            "_model_name": "DescriptionStyleModel",
            "description_width": "",
            "_view_module": "@jupyter-widgets/base",
            "_model_module_version": "1.5.0",
            "_view_count": null,
            "_view_module_version": "1.2.0",
            "_model_module": "@jupyter-widgets/controls"
          }
        },
        "d9813b18e696495183ff370a4ff9d1ee": {
          "model_module": "@jupyter-widgets/base",
          "model_name": "LayoutModel",
          "state": {
            "_view_name": "LayoutView",
            "grid_template_rows": null,
            "right": null,
            "justify_content": null,
            "_view_module": "@jupyter-widgets/base",
            "overflow": null,
            "_model_module_version": "1.2.0",
            "_view_count": null,
            "flex_flow": null,
            "width": null,
            "min_width": null,
            "border": null,
            "align_items": null,
            "bottom": null,
            "_model_module": "@jupyter-widgets/base",
            "top": null,
            "grid_column": null,
            "overflow_y": null,
            "overflow_x": null,
            "grid_auto_flow": null,
            "grid_area": null,
            "grid_template_columns": null,
            "flex": null,
            "_model_name": "LayoutModel",
            "justify_items": null,
            "grid_row": null,
            "max_height": null,
            "align_content": null,
            "visibility": null,
            "align_self": null,
            "height": null,
            "min_height": null,
            "padding": null,
            "grid_auto_rows": null,
            "grid_gap": null,
            "max_width": null,
            "order": null,
            "_view_module_version": "1.2.0",
            "grid_template_areas": null,
            "object_position": null,
            "object_fit": null,
            "grid_auto_columns": null,
            "margin": null,
            "display": null,
            "left": null
          }
        },
        "28c83c846cad431b8b7bb8ca35f0d1be": {
          "model_module": "@jupyter-widgets/controls",
          "model_name": "HBoxModel",
          "state": {
            "_view_name": "HBoxView",
            "_dom_classes": [],
            "_model_name": "HBoxModel",
            "_view_module": "@jupyter-widgets/controls",
            "_model_module_version": "1.5.0",
            "_view_count": null,
            "_view_module_version": "1.5.0",
            "box_style": "",
            "layout": "IPY_MODEL_b61702c38d4a4e4c803a7d3e726a6525",
            "_model_module": "@jupyter-widgets/controls",
            "children": [
              "IPY_MODEL_02017401e1624a69a1117b627f096f67",
              "IPY_MODEL_f0651d4581c347a4b95585952e858f61"
            ]
          }
        },
        "b61702c38d4a4e4c803a7d3e726a6525": {
          "model_module": "@jupyter-widgets/base",
          "model_name": "LayoutModel",
          "state": {
            "_view_name": "LayoutView",
            "grid_template_rows": null,
            "right": null,
            "justify_content": null,
            "_view_module": "@jupyter-widgets/base",
            "overflow": null,
            "_model_module_version": "1.2.0",
            "_view_count": null,
            "flex_flow": null,
            "width": null,
            "min_width": null,
            "border": null,
            "align_items": null,
            "bottom": null,
            "_model_module": "@jupyter-widgets/base",
            "top": null,
            "grid_column": null,
            "overflow_y": null,
            "overflow_x": null,
            "grid_auto_flow": null,
            "grid_area": null,
            "grid_template_columns": null,
            "flex": null,
            "_model_name": "LayoutModel",
            "justify_items": null,
            "grid_row": null,
            "max_height": null,
            "align_content": null,
            "visibility": null,
            "align_self": null,
            "height": null,
            "min_height": null,
            "padding": null,
            "grid_auto_rows": null,
            "grid_gap": null,
            "max_width": null,
            "order": null,
            "_view_module_version": "1.2.0",
            "grid_template_areas": null,
            "object_position": null,
            "object_fit": null,
            "grid_auto_columns": null,
            "margin": null,
            "display": null,
            "left": null
          }
        },
        "02017401e1624a69a1117b627f096f67": {
          "model_module": "@jupyter-widgets/controls",
          "model_name": "FloatProgressModel",
          "state": {
            "_view_name": "ProgressView",
            "style": "IPY_MODEL_c2cc8e2aa62f47f08b1ed432825c0999",
            "_dom_classes": [],
            "description": "#1: 100%",
            "_model_name": "FloatProgressModel",
            "bar_style": "success",
            "max": 4,
            "_view_module": "@jupyter-widgets/controls",
            "_model_module_version": "1.5.0",
            "value": 4,
            "_view_count": null,
            "_view_module_version": "1.5.0",
            "orientation": "horizontal",
            "min": 0,
            "description_tooltip": null,
            "_model_module": "@jupyter-widgets/controls",
            "layout": "IPY_MODEL_bd17aa5ac87f424697bcb357fc5f3240"
          }
        },
        "f0651d4581c347a4b95585952e858f61": {
          "model_module": "@jupyter-widgets/controls",
          "model_name": "HTMLModel",
          "state": {
            "_view_name": "HTMLView",
            "style": "IPY_MODEL_db09dde744b94f27b6295fa6b91358be",
            "_dom_classes": [],
            "description": "",
            "_model_name": "HTMLModel",
            "placeholder": "​",
            "_view_module": "@jupyter-widgets/controls",
            "_model_module_version": "1.5.0",
            "value": " 4/4 [00:02&lt;00:00,  1.99ba/s]",
            "_view_count": null,
            "_view_module_version": "1.5.0",
            "description_tooltip": null,
            "_model_module": "@jupyter-widgets/controls",
            "layout": "IPY_MODEL_23f14284c43648f5b0e0d1888b3bc708"
          }
        },
        "c2cc8e2aa62f47f08b1ed432825c0999": {
          "model_module": "@jupyter-widgets/controls",
          "model_name": "ProgressStyleModel",
          "state": {
            "_view_name": "StyleView",
            "_model_name": "ProgressStyleModel",
            "description_width": "initial",
            "_view_module": "@jupyter-widgets/base",
            "_model_module_version": "1.5.0",
            "_view_count": null,
            "_view_module_version": "1.2.0",
            "bar_color": null,
            "_model_module": "@jupyter-widgets/controls"
          }
        },
        "bd17aa5ac87f424697bcb357fc5f3240": {
          "model_module": "@jupyter-widgets/base",
          "model_name": "LayoutModel",
          "state": {
            "_view_name": "LayoutView",
            "grid_template_rows": null,
            "right": null,
            "justify_content": null,
            "_view_module": "@jupyter-widgets/base",
            "overflow": null,
            "_model_module_version": "1.2.0",
            "_view_count": null,
            "flex_flow": null,
            "width": null,
            "min_width": null,
            "border": null,
            "align_items": null,
            "bottom": null,
            "_model_module": "@jupyter-widgets/base",
            "top": null,
            "grid_column": null,
            "overflow_y": null,
            "overflow_x": null,
            "grid_auto_flow": null,
            "grid_area": null,
            "grid_template_columns": null,
            "flex": null,
            "_model_name": "LayoutModel",
            "justify_items": null,
            "grid_row": null,
            "max_height": null,
            "align_content": null,
            "visibility": null,
            "align_self": null,
            "height": null,
            "min_height": null,
            "padding": null,
            "grid_auto_rows": null,
            "grid_gap": null,
            "max_width": null,
            "order": null,
            "_view_module_version": "1.2.0",
            "grid_template_areas": null,
            "object_position": null,
            "object_fit": null,
            "grid_auto_columns": null,
            "margin": null,
            "display": null,
            "left": null
          }
        },
        "db09dde744b94f27b6295fa6b91358be": {
          "model_module": "@jupyter-widgets/controls",
          "model_name": "DescriptionStyleModel",
          "state": {
            "_view_name": "StyleView",
            "_model_name": "DescriptionStyleModel",
            "description_width": "",
            "_view_module": "@jupyter-widgets/base",
            "_model_module_version": "1.5.0",
            "_view_count": null,
            "_view_module_version": "1.2.0",
            "_model_module": "@jupyter-widgets/controls"
          }
        },
        "23f14284c43648f5b0e0d1888b3bc708": {
          "model_module": "@jupyter-widgets/base",
          "model_name": "LayoutModel",
          "state": {
            "_view_name": "LayoutView",
            "grid_template_rows": null,
            "right": null,
            "justify_content": null,
            "_view_module": "@jupyter-widgets/base",
            "overflow": null,
            "_model_module_version": "1.2.0",
            "_view_count": null,
            "flex_flow": null,
            "width": null,
            "min_width": null,
            "border": null,
            "align_items": null,
            "bottom": null,
            "_model_module": "@jupyter-widgets/base",
            "top": null,
            "grid_column": null,
            "overflow_y": null,
            "overflow_x": null,
            "grid_auto_flow": null,
            "grid_area": null,
            "grid_template_columns": null,
            "flex": null,
            "_model_name": "LayoutModel",
            "justify_items": null,
            "grid_row": null,
            "max_height": null,
            "align_content": null,
            "visibility": null,
            "align_self": null,
            "height": null,
            "min_height": null,
            "padding": null,
            "grid_auto_rows": null,
            "grid_gap": null,
            "max_width": null,
            "order": null,
            "_view_module_version": "1.2.0",
            "grid_template_areas": null,
            "object_position": null,
            "object_fit": null,
            "grid_auto_columns": null,
            "margin": null,
            "display": null,
            "left": null
          }
        },
        "688387a4cc6542c5be54dd96c4af8b98": {
          "model_module": "@jupyter-widgets/controls",
          "model_name": "HBoxModel",
          "state": {
            "_view_name": "HBoxView",
            "_dom_classes": [],
            "_model_name": "HBoxModel",
            "_view_module": "@jupyter-widgets/controls",
            "_model_module_version": "1.5.0",
            "_view_count": null,
            "_view_module_version": "1.5.0",
            "box_style": "",
            "layout": "IPY_MODEL_7649c7cb131d42d5b4f180dc59c481c8",
            "_model_module": "@jupyter-widgets/controls",
            "children": [
              "IPY_MODEL_666edc33bc8a49a4be5127ed038d25ae",
              "IPY_MODEL_913bc2cfb3144013a2e6be0f32960913"
            ]
          }
        },
        "7649c7cb131d42d5b4f180dc59c481c8": {
          "model_module": "@jupyter-widgets/base",
          "model_name": "LayoutModel",
          "state": {
            "_view_name": "LayoutView",
            "grid_template_rows": null,
            "right": null,
            "justify_content": null,
            "_view_module": "@jupyter-widgets/base",
            "overflow": null,
            "_model_module_version": "1.2.0",
            "_view_count": null,
            "flex_flow": null,
            "width": null,
            "min_width": null,
            "border": null,
            "align_items": null,
            "bottom": null,
            "_model_module": "@jupyter-widgets/base",
            "top": null,
            "grid_column": null,
            "overflow_y": null,
            "overflow_x": null,
            "grid_auto_flow": null,
            "grid_area": null,
            "grid_template_columns": null,
            "flex": null,
            "_model_name": "LayoutModel",
            "justify_items": null,
            "grid_row": null,
            "max_height": null,
            "align_content": null,
            "visibility": null,
            "align_self": null,
            "height": null,
            "min_height": null,
            "padding": null,
            "grid_auto_rows": null,
            "grid_gap": null,
            "max_width": null,
            "order": null,
            "_view_module_version": "1.2.0",
            "grid_template_areas": null,
            "object_position": null,
            "object_fit": null,
            "grid_auto_columns": null,
            "margin": null,
            "display": null,
            "left": null
          }
        },
        "666edc33bc8a49a4be5127ed038d25ae": {
          "model_module": "@jupyter-widgets/controls",
          "model_name": "FloatProgressModel",
          "state": {
            "_view_name": "ProgressView",
            "style": "IPY_MODEL_bed62f93cddb450583e361a0141581d8",
            "_dom_classes": [],
            "description": "#2: 100%",
            "_model_name": "FloatProgressModel",
            "bar_style": "success",
            "max": 4,
            "_view_module": "@jupyter-widgets/controls",
            "_model_module_version": "1.5.0",
            "value": 4,
            "_view_count": null,
            "_view_module_version": "1.5.0",
            "orientation": "horizontal",
            "min": 0,
            "description_tooltip": null,
            "_model_module": "@jupyter-widgets/controls",
            "layout": "IPY_MODEL_d288b1ba4f9849b393566962a7ba3cbc"
          }
        },
        "913bc2cfb3144013a2e6be0f32960913": {
          "model_module": "@jupyter-widgets/controls",
          "model_name": "HTMLModel",
          "state": {
            "_view_name": "HTMLView",
            "style": "IPY_MODEL_50f6db6ca77f499c9eaefd38aafa14a3",
            "_dom_classes": [],
            "description": "",
            "_model_name": "HTMLModel",
            "placeholder": "​",
            "_view_module": "@jupyter-widgets/controls",
            "_model_module_version": "1.5.0",
            "value": " 4/4 [00:02&lt;00:00,  1.91ba/s]",
            "_view_count": null,
            "_view_module_version": "1.5.0",
            "description_tooltip": null,
            "_model_module": "@jupyter-widgets/controls",
            "layout": "IPY_MODEL_f3de81aed18041ebbdd3f680c52a6e74"
          }
        },
        "bed62f93cddb450583e361a0141581d8": {
          "model_module": "@jupyter-widgets/controls",
          "model_name": "ProgressStyleModel",
          "state": {
            "_view_name": "StyleView",
            "_model_name": "ProgressStyleModel",
            "description_width": "initial",
            "_view_module": "@jupyter-widgets/base",
            "_model_module_version": "1.5.0",
            "_view_count": null,
            "_view_module_version": "1.2.0",
            "bar_color": null,
            "_model_module": "@jupyter-widgets/controls"
          }
        },
        "d288b1ba4f9849b393566962a7ba3cbc": {
          "model_module": "@jupyter-widgets/base",
          "model_name": "LayoutModel",
          "state": {
            "_view_name": "LayoutView",
            "grid_template_rows": null,
            "right": null,
            "justify_content": null,
            "_view_module": "@jupyter-widgets/base",
            "overflow": null,
            "_model_module_version": "1.2.0",
            "_view_count": null,
            "flex_flow": null,
            "width": null,
            "min_width": null,
            "border": null,
            "align_items": null,
            "bottom": null,
            "_model_module": "@jupyter-widgets/base",
            "top": null,
            "grid_column": null,
            "overflow_y": null,
            "overflow_x": null,
            "grid_auto_flow": null,
            "grid_area": null,
            "grid_template_columns": null,
            "flex": null,
            "_model_name": "LayoutModel",
            "justify_items": null,
            "grid_row": null,
            "max_height": null,
            "align_content": null,
            "visibility": null,
            "align_self": null,
            "height": null,
            "min_height": null,
            "padding": null,
            "grid_auto_rows": null,
            "grid_gap": null,
            "max_width": null,
            "order": null,
            "_view_module_version": "1.2.0",
            "grid_template_areas": null,
            "object_position": null,
            "object_fit": null,
            "grid_auto_columns": null,
            "margin": null,
            "display": null,
            "left": null
          }
        },
        "50f6db6ca77f499c9eaefd38aafa14a3": {
          "model_module": "@jupyter-widgets/controls",
          "model_name": "DescriptionStyleModel",
          "state": {
            "_view_name": "StyleView",
            "_model_name": "DescriptionStyleModel",
            "description_width": "",
            "_view_module": "@jupyter-widgets/base",
            "_model_module_version": "1.5.0",
            "_view_count": null,
            "_view_module_version": "1.2.0",
            "_model_module": "@jupyter-widgets/controls"
          }
        },
        "f3de81aed18041ebbdd3f680c52a6e74": {
          "model_module": "@jupyter-widgets/base",
          "model_name": "LayoutModel",
          "state": {
            "_view_name": "LayoutView",
            "grid_template_rows": null,
            "right": null,
            "justify_content": null,
            "_view_module": "@jupyter-widgets/base",
            "overflow": null,
            "_model_module_version": "1.2.0",
            "_view_count": null,
            "flex_flow": null,
            "width": null,
            "min_width": null,
            "border": null,
            "align_items": null,
            "bottom": null,
            "_model_module": "@jupyter-widgets/base",
            "top": null,
            "grid_column": null,
            "overflow_y": null,
            "overflow_x": null,
            "grid_auto_flow": null,
            "grid_area": null,
            "grid_template_columns": null,
            "flex": null,
            "_model_name": "LayoutModel",
            "justify_items": null,
            "grid_row": null,
            "max_height": null,
            "align_content": null,
            "visibility": null,
            "align_self": null,
            "height": null,
            "min_height": null,
            "padding": null,
            "grid_auto_rows": null,
            "grid_gap": null,
            "max_width": null,
            "order": null,
            "_view_module_version": "1.2.0",
            "grid_template_areas": null,
            "object_position": null,
            "object_fit": null,
            "grid_auto_columns": null,
            "margin": null,
            "display": null,
            "left": null
          }
        },
        "fae82818b0804c84921c3f634a4cfd20": {
          "model_module": "@jupyter-widgets/controls",
          "model_name": "HBoxModel",
          "state": {
            "_view_name": "HBoxView",
            "_dom_classes": [],
            "_model_name": "HBoxModel",
            "_view_module": "@jupyter-widgets/controls",
            "_model_module_version": "1.5.0",
            "_view_count": null,
            "_view_module_version": "1.5.0",
            "box_style": "",
            "layout": "IPY_MODEL_b125991be1904ba6a8f09325cac83d2c",
            "_model_module": "@jupyter-widgets/controls",
            "children": [
              "IPY_MODEL_09186bd54f364f7084557d1e972c8399",
              "IPY_MODEL_c37cf955e2f541dc91735f7749318f87"
            ]
          }
        },
        "b125991be1904ba6a8f09325cac83d2c": {
          "model_module": "@jupyter-widgets/base",
          "model_name": "LayoutModel",
          "state": {
            "_view_name": "LayoutView",
            "grid_template_rows": null,
            "right": null,
            "justify_content": null,
            "_view_module": "@jupyter-widgets/base",
            "overflow": null,
            "_model_module_version": "1.2.0",
            "_view_count": null,
            "flex_flow": null,
            "width": null,
            "min_width": null,
            "border": null,
            "align_items": null,
            "bottom": null,
            "_model_module": "@jupyter-widgets/base",
            "top": null,
            "grid_column": null,
            "overflow_y": null,
            "overflow_x": null,
            "grid_auto_flow": null,
            "grid_area": null,
            "grid_template_columns": null,
            "flex": null,
            "_model_name": "LayoutModel",
            "justify_items": null,
            "grid_row": null,
            "max_height": null,
            "align_content": null,
            "visibility": null,
            "align_self": null,
            "height": null,
            "min_height": null,
            "padding": null,
            "grid_auto_rows": null,
            "grid_gap": null,
            "max_width": null,
            "order": null,
            "_view_module_version": "1.2.0",
            "grid_template_areas": null,
            "object_position": null,
            "object_fit": null,
            "grid_auto_columns": null,
            "margin": null,
            "display": null,
            "left": null
          }
        },
        "09186bd54f364f7084557d1e972c8399": {
          "model_module": "@jupyter-widgets/controls",
          "model_name": "FloatProgressModel",
          "state": {
            "_view_name": "ProgressView",
            "style": "IPY_MODEL_919d013b0c3d4ec9be3bcd212e439ad4",
            "_dom_classes": [],
            "description": "#3: 100%",
            "_model_name": "FloatProgressModel",
            "bar_style": "success",
            "max": 4,
            "_view_module": "@jupyter-widgets/controls",
            "_model_module_version": "1.5.0",
            "value": 4,
            "_view_count": null,
            "_view_module_version": "1.5.0",
            "orientation": "horizontal",
            "min": 0,
            "description_tooltip": null,
            "_model_module": "@jupyter-widgets/controls",
            "layout": "IPY_MODEL_bf34154169de49a78590e82af91e1b3b"
          }
        },
        "c37cf955e2f541dc91735f7749318f87": {
          "model_module": "@jupyter-widgets/controls",
          "model_name": "HTMLModel",
          "state": {
            "_view_name": "HTMLView",
            "style": "IPY_MODEL_5332a57c683e4ac5b0cf3e41aa00a5e8",
            "_dom_classes": [],
            "description": "",
            "_model_name": "HTMLModel",
            "placeholder": "​",
            "_view_module": "@jupyter-widgets/controls",
            "_model_module_version": "1.5.0",
            "value": " 4/4 [00:02&lt;00:00,  1.95ba/s]",
            "_view_count": null,
            "_view_module_version": "1.5.0",
            "description_tooltip": null,
            "_model_module": "@jupyter-widgets/controls",
            "layout": "IPY_MODEL_e5efe076854c44faa3ea75d1fdb08662"
          }
        },
        "919d013b0c3d4ec9be3bcd212e439ad4": {
          "model_module": "@jupyter-widgets/controls",
          "model_name": "ProgressStyleModel",
          "state": {
            "_view_name": "StyleView",
            "_model_name": "ProgressStyleModel",
            "description_width": "initial",
            "_view_module": "@jupyter-widgets/base",
            "_model_module_version": "1.5.0",
            "_view_count": null,
            "_view_module_version": "1.2.0",
            "bar_color": null,
            "_model_module": "@jupyter-widgets/controls"
          }
        },
        "bf34154169de49a78590e82af91e1b3b": {
          "model_module": "@jupyter-widgets/base",
          "model_name": "LayoutModel",
          "state": {
            "_view_name": "LayoutView",
            "grid_template_rows": null,
            "right": null,
            "justify_content": null,
            "_view_module": "@jupyter-widgets/base",
            "overflow": null,
            "_model_module_version": "1.2.0",
            "_view_count": null,
            "flex_flow": null,
            "width": null,
            "min_width": null,
            "border": null,
            "align_items": null,
            "bottom": null,
            "_model_module": "@jupyter-widgets/base",
            "top": null,
            "grid_column": null,
            "overflow_y": null,
            "overflow_x": null,
            "grid_auto_flow": null,
            "grid_area": null,
            "grid_template_columns": null,
            "flex": null,
            "_model_name": "LayoutModel",
            "justify_items": null,
            "grid_row": null,
            "max_height": null,
            "align_content": null,
            "visibility": null,
            "align_self": null,
            "height": null,
            "min_height": null,
            "padding": null,
            "grid_auto_rows": null,
            "grid_gap": null,
            "max_width": null,
            "order": null,
            "_view_module_version": "1.2.0",
            "grid_template_areas": null,
            "object_position": null,
            "object_fit": null,
            "grid_auto_columns": null,
            "margin": null,
            "display": null,
            "left": null
          }
        },
        "5332a57c683e4ac5b0cf3e41aa00a5e8": {
          "model_module": "@jupyter-widgets/controls",
          "model_name": "DescriptionStyleModel",
          "state": {
            "_view_name": "StyleView",
            "_model_name": "DescriptionStyleModel",
            "description_width": "",
            "_view_module": "@jupyter-widgets/base",
            "_model_module_version": "1.5.0",
            "_view_count": null,
            "_view_module_version": "1.2.0",
            "_model_module": "@jupyter-widgets/controls"
          }
        },
        "e5efe076854c44faa3ea75d1fdb08662": {
          "model_module": "@jupyter-widgets/base",
          "model_name": "LayoutModel",
          "state": {
            "_view_name": "LayoutView",
            "grid_template_rows": null,
            "right": null,
            "justify_content": null,
            "_view_module": "@jupyter-widgets/base",
            "overflow": null,
            "_model_module_version": "1.2.0",
            "_view_count": null,
            "flex_flow": null,
            "width": null,
            "min_width": null,
            "border": null,
            "align_items": null,
            "bottom": null,
            "_model_module": "@jupyter-widgets/base",
            "top": null,
            "grid_column": null,
            "overflow_y": null,
            "overflow_x": null,
            "grid_auto_flow": null,
            "grid_area": null,
            "grid_template_columns": null,
            "flex": null,
            "_model_name": "LayoutModel",
            "justify_items": null,
            "grid_row": null,
            "max_height": null,
            "align_content": null,
            "visibility": null,
            "align_self": null,
            "height": null,
            "min_height": null,
            "padding": null,
            "grid_auto_rows": null,
            "grid_gap": null,
            "max_width": null,
            "order": null,
            "_view_module_version": "1.2.0",
            "grid_template_areas": null,
            "object_position": null,
            "object_fit": null,
            "grid_auto_columns": null,
            "margin": null,
            "display": null,
            "left": null
          }
        },
        "467bdf98627b430e9d2f78e3cdd91cbe": {
          "model_module": "@jupyter-widgets/controls",
          "model_name": "HBoxModel",
          "state": {
            "_view_name": "HBoxView",
            "_dom_classes": [],
            "_model_name": "HBoxModel",
            "_view_module": "@jupyter-widgets/controls",
            "_model_module_version": "1.5.0",
            "_view_count": null,
            "_view_module_version": "1.5.0",
            "box_style": "",
            "layout": "IPY_MODEL_146df23b076d4ff89d273b1f7b6e0b99",
            "_model_module": "@jupyter-widgets/controls",
            "children": [
              "IPY_MODEL_0bd0c615ac3b4dbda3dcc6dc5865fccd",
              "IPY_MODEL_89e2d7a82a82460da9cf20b8515471eb"
            ]
          }
        },
        "146df23b076d4ff89d273b1f7b6e0b99": {
          "model_module": "@jupyter-widgets/base",
          "model_name": "LayoutModel",
          "state": {
            "_view_name": "LayoutView",
            "grid_template_rows": null,
            "right": null,
            "justify_content": null,
            "_view_module": "@jupyter-widgets/base",
            "overflow": null,
            "_model_module_version": "1.2.0",
            "_view_count": null,
            "flex_flow": null,
            "width": null,
            "min_width": null,
            "border": null,
            "align_items": null,
            "bottom": null,
            "_model_module": "@jupyter-widgets/base",
            "top": null,
            "grid_column": null,
            "overflow_y": null,
            "overflow_x": null,
            "grid_auto_flow": null,
            "grid_area": null,
            "grid_template_columns": null,
            "flex": null,
            "_model_name": "LayoutModel",
            "justify_items": null,
            "grid_row": null,
            "max_height": null,
            "align_content": null,
            "visibility": null,
            "align_self": null,
            "height": null,
            "min_height": null,
            "padding": null,
            "grid_auto_rows": null,
            "grid_gap": null,
            "max_width": null,
            "order": null,
            "_view_module_version": "1.2.0",
            "grid_template_areas": null,
            "object_position": null,
            "object_fit": null,
            "grid_auto_columns": null,
            "margin": null,
            "display": null,
            "left": null
          }
        },
        "0bd0c615ac3b4dbda3dcc6dc5865fccd": {
          "model_module": "@jupyter-widgets/controls",
          "model_name": "FloatProgressModel",
          "state": {
            "_view_name": "ProgressView",
            "style": "IPY_MODEL_d9c6578d0a784d2ebc52777c04dafca6",
            "_dom_classes": [],
            "description": "Downloading: ",
            "_model_name": "FloatProgressModel",
            "bar_style": "success",
            "max": 1764,
            "_view_module": "@jupyter-widgets/controls",
            "_model_module_version": "1.5.0",
            "value": 1764,
            "_view_count": null,
            "_view_module_version": "1.5.0",
            "orientation": "horizontal",
            "min": 0,
            "description_tooltip": null,
            "_model_module": "@jupyter-widgets/controls",
            "layout": "IPY_MODEL_120a7fba7f264b968509fd97debc7926"
          }
        },
        "89e2d7a82a82460da9cf20b8515471eb": {
          "model_module": "@jupyter-widgets/controls",
          "model_name": "HTMLModel",
          "state": {
            "_view_name": "HTMLView",
            "style": "IPY_MODEL_13fd5bc0966e4015a091d2180058100e",
            "_dom_classes": [],
            "description": "",
            "_model_name": "HTMLModel",
            "placeholder": "​",
            "_view_module": "@jupyter-widgets/controls",
            "_model_module_version": "1.5.0",
            "value": " 3.90k/? [00:00&lt;00:00, 10.9kB/s]",
            "_view_count": null,
            "_view_module_version": "1.5.0",
            "description_tooltip": null,
            "_model_module": "@jupyter-widgets/controls",
            "layout": "IPY_MODEL_1c33a4d6db6d4f7ab109e2e2e0a35af7"
          }
        },
        "d9c6578d0a784d2ebc52777c04dafca6": {
          "model_module": "@jupyter-widgets/controls",
          "model_name": "ProgressStyleModel",
          "state": {
            "_view_name": "StyleView",
            "_model_name": "ProgressStyleModel",
            "description_width": "initial",
            "_view_module": "@jupyter-widgets/base",
            "_model_module_version": "1.5.0",
            "_view_count": null,
            "_view_module_version": "1.2.0",
            "bar_color": null,
            "_model_module": "@jupyter-widgets/controls"
          }
        },
        "120a7fba7f264b968509fd97debc7926": {
          "model_module": "@jupyter-widgets/base",
          "model_name": "LayoutModel",
          "state": {
            "_view_name": "LayoutView",
            "grid_template_rows": null,
            "right": null,
            "justify_content": null,
            "_view_module": "@jupyter-widgets/base",
            "overflow": null,
            "_model_module_version": "1.2.0",
            "_view_count": null,
            "flex_flow": null,
            "width": null,
            "min_width": null,
            "border": null,
            "align_items": null,
            "bottom": null,
            "_model_module": "@jupyter-widgets/base",
            "top": null,
            "grid_column": null,
            "overflow_y": null,
            "overflow_x": null,
            "grid_auto_flow": null,
            "grid_area": null,
            "grid_template_columns": null,
            "flex": null,
            "_model_name": "LayoutModel",
            "justify_items": null,
            "grid_row": null,
            "max_height": null,
            "align_content": null,
            "visibility": null,
            "align_self": null,
            "height": null,
            "min_height": null,
            "padding": null,
            "grid_auto_rows": null,
            "grid_gap": null,
            "max_width": null,
            "order": null,
            "_view_module_version": "1.2.0",
            "grid_template_areas": null,
            "object_position": null,
            "object_fit": null,
            "grid_auto_columns": null,
            "margin": null,
            "display": null,
            "left": null
          }
        },
        "13fd5bc0966e4015a091d2180058100e": {
          "model_module": "@jupyter-widgets/controls",
          "model_name": "DescriptionStyleModel",
          "state": {
            "_view_name": "StyleView",
            "_model_name": "DescriptionStyleModel",
            "description_width": "",
            "_view_module": "@jupyter-widgets/base",
            "_model_module_version": "1.5.0",
            "_view_count": null,
            "_view_module_version": "1.2.0",
            "_model_module": "@jupyter-widgets/controls"
          }
        },
        "1c33a4d6db6d4f7ab109e2e2e0a35af7": {
          "model_module": "@jupyter-widgets/base",
          "model_name": "LayoutModel",
          "state": {
            "_view_name": "LayoutView",
            "grid_template_rows": null,
            "right": null,
            "justify_content": null,
            "_view_module": "@jupyter-widgets/base",
            "overflow": null,
            "_model_module_version": "1.2.0",
            "_view_count": null,
            "flex_flow": null,
            "width": null,
            "min_width": null,
            "border": null,
            "align_items": null,
            "bottom": null,
            "_model_module": "@jupyter-widgets/base",
            "top": null,
            "grid_column": null,
            "overflow_y": null,
            "overflow_x": null,
            "grid_auto_flow": null,
            "grid_area": null,
            "grid_template_columns": null,
            "flex": null,
            "_model_name": "LayoutModel",
            "justify_items": null,
            "grid_row": null,
            "max_height": null,
            "align_content": null,
            "visibility": null,
            "align_self": null,
            "height": null,
            "min_height": null,
            "padding": null,
            "grid_auto_rows": null,
            "grid_gap": null,
            "max_width": null,
            "order": null,
            "_view_module_version": "1.2.0",
            "grid_template_areas": null,
            "object_position": null,
            "object_fit": null,
            "grid_auto_columns": null,
            "margin": null,
            "display": null,
            "left": null
          }
        },
        "d648d701e021439692fb0a6dc07d6642": {
          "model_module": "@jupyter-widgets/controls",
          "model_name": "HBoxModel",
          "state": {
            "_view_name": "HBoxView",
            "_dom_classes": [],
            "_model_name": "HBoxModel",
            "_view_module": "@jupyter-widgets/controls",
            "_model_module_version": "1.5.0",
            "_view_count": null,
            "_view_module_version": "1.5.0",
            "box_style": "",
            "layout": "IPY_MODEL_7b51c539aae044b1895daaac215be4ad",
            "_model_module": "@jupyter-widgets/controls",
            "children": [
              "IPY_MODEL_1275a9589c584ce79bf7a0dcb4a445bd",
              "IPY_MODEL_66009caacda942cdb1fcdd0feb6c2b74"
            ]
          }
        },
        "7b51c539aae044b1895daaac215be4ad": {
          "model_module": "@jupyter-widgets/base",
          "model_name": "LayoutModel",
          "state": {
            "_view_name": "LayoutView",
            "grid_template_rows": null,
            "right": null,
            "justify_content": null,
            "_view_module": "@jupyter-widgets/base",
            "overflow": null,
            "_model_module_version": "1.2.0",
            "_view_count": null,
            "flex_flow": null,
            "width": null,
            "min_width": null,
            "border": null,
            "align_items": null,
            "bottom": null,
            "_model_module": "@jupyter-widgets/base",
            "top": null,
            "grid_column": null,
            "overflow_y": null,
            "overflow_x": null,
            "grid_auto_flow": null,
            "grid_area": null,
            "grid_template_columns": null,
            "flex": null,
            "_model_name": "LayoutModel",
            "justify_items": null,
            "grid_row": null,
            "max_height": null,
            "align_content": null,
            "visibility": null,
            "align_self": null,
            "height": null,
            "min_height": null,
            "padding": null,
            "grid_auto_rows": null,
            "grid_gap": null,
            "max_width": null,
            "order": null,
            "_view_module_version": "1.2.0",
            "grid_template_areas": null,
            "object_position": null,
            "object_fit": null,
            "grid_auto_columns": null,
            "margin": null,
            "display": null,
            "left": null
          }
        },
        "1275a9589c584ce79bf7a0dcb4a445bd": {
          "model_module": "@jupyter-widgets/controls",
          "model_name": "FloatProgressModel",
          "state": {
            "_view_name": "ProgressView",
            "style": "IPY_MODEL_0a6d0feaa32442239c518081059fad55",
            "_dom_classes": [],
            "description": "Downloading: 100%",
            "_model_name": "FloatProgressModel",
            "bar_style": "success",
            "max": 1451,
            "_view_module": "@jupyter-widgets/controls",
            "_model_module_version": "1.5.0",
            "value": 1451,
            "_view_count": null,
            "_view_module_version": "1.5.0",
            "orientation": "horizontal",
            "min": 0,
            "description_tooltip": null,
            "_model_module": "@jupyter-widgets/controls",
            "layout": "IPY_MODEL_58b5132bf6a44073a6a5177da6f1e9cf"
          }
        },
        "66009caacda942cdb1fcdd0feb6c2b74": {
          "model_module": "@jupyter-widgets/controls",
          "model_name": "HTMLModel",
          "state": {
            "_view_name": "HTMLView",
            "style": "IPY_MODEL_69fc9d0fae6e48cfbcffbbfa64bf0a22",
            "_dom_classes": [],
            "description": "",
            "_model_name": "HTMLModel",
            "placeholder": "​",
            "_view_module": "@jupyter-widgets/controls",
            "_model_module_version": "1.5.0",
            "value": " 1.45k/1.45k [00:00&lt;00:00, 1.54kB/s]",
            "_view_count": null,
            "_view_module_version": "1.5.0",
            "description_tooltip": null,
            "_model_module": "@jupyter-widgets/controls",
            "layout": "IPY_MODEL_a1a5455e81fc45e5a30ffef27293af0e"
          }
        },
        "0a6d0feaa32442239c518081059fad55": {
          "model_module": "@jupyter-widgets/controls",
          "model_name": "ProgressStyleModel",
          "state": {
            "_view_name": "StyleView",
            "_model_name": "ProgressStyleModel",
            "description_width": "initial",
            "_view_module": "@jupyter-widgets/base",
            "_model_module_version": "1.5.0",
            "_view_count": null,
            "_view_module_version": "1.2.0",
            "bar_color": null,
            "_model_module": "@jupyter-widgets/controls"
          }
        },
        "58b5132bf6a44073a6a5177da6f1e9cf": {
          "model_module": "@jupyter-widgets/base",
          "model_name": "LayoutModel",
          "state": {
            "_view_name": "LayoutView",
            "grid_template_rows": null,
            "right": null,
            "justify_content": null,
            "_view_module": "@jupyter-widgets/base",
            "overflow": null,
            "_model_module_version": "1.2.0",
            "_view_count": null,
            "flex_flow": null,
            "width": null,
            "min_width": null,
            "border": null,
            "align_items": null,
            "bottom": null,
            "_model_module": "@jupyter-widgets/base",
            "top": null,
            "grid_column": null,
            "overflow_y": null,
            "overflow_x": null,
            "grid_auto_flow": null,
            "grid_area": null,
            "grid_template_columns": null,
            "flex": null,
            "_model_name": "LayoutModel",
            "justify_items": null,
            "grid_row": null,
            "max_height": null,
            "align_content": null,
            "visibility": null,
            "align_self": null,
            "height": null,
            "min_height": null,
            "padding": null,
            "grid_auto_rows": null,
            "grid_gap": null,
            "max_width": null,
            "order": null,
            "_view_module_version": "1.2.0",
            "grid_template_areas": null,
            "object_position": null,
            "object_fit": null,
            "grid_auto_columns": null,
            "margin": null,
            "display": null,
            "left": null
          }
        },
        "69fc9d0fae6e48cfbcffbbfa64bf0a22": {
          "model_module": "@jupyter-widgets/controls",
          "model_name": "DescriptionStyleModel",
          "state": {
            "_view_name": "StyleView",
            "_model_name": "DescriptionStyleModel",
            "description_width": "",
            "_view_module": "@jupyter-widgets/base",
            "_model_module_version": "1.5.0",
            "_view_count": null,
            "_view_module_version": "1.2.0",
            "_model_module": "@jupyter-widgets/controls"
          }
        },
        "a1a5455e81fc45e5a30ffef27293af0e": {
          "model_module": "@jupyter-widgets/base",
          "model_name": "LayoutModel",
          "state": {
            "_view_name": "LayoutView",
            "grid_template_rows": null,
            "right": null,
            "justify_content": null,
            "_view_module": "@jupyter-widgets/base",
            "overflow": null,
            "_model_module_version": "1.2.0",
            "_view_count": null,
            "flex_flow": null,
            "width": null,
            "min_width": null,
            "border": null,
            "align_items": null,
            "bottom": null,
            "_model_module": "@jupyter-widgets/base",
            "top": null,
            "grid_column": null,
            "overflow_y": null,
            "overflow_x": null,
            "grid_auto_flow": null,
            "grid_area": null,
            "grid_template_columns": null,
            "flex": null,
            "_model_name": "LayoutModel",
            "justify_items": null,
            "grid_row": null,
            "max_height": null,
            "align_content": null,
            "visibility": null,
            "align_self": null,
            "height": null,
            "min_height": null,
            "padding": null,
            "grid_auto_rows": null,
            "grid_gap": null,
            "max_width": null,
            "order": null,
            "_view_module_version": "1.2.0",
            "grid_template_areas": null,
            "object_position": null,
            "object_fit": null,
            "grid_auto_columns": null,
            "margin": null,
            "display": null,
            "left": null
          }
        },
        "63d7bf212b62461890bd842809a30d81": {
          "model_module": "@jupyter-widgets/controls",
          "model_name": "HBoxModel",
          "state": {
            "_view_name": "HBoxView",
            "_dom_classes": [],
            "_model_name": "HBoxModel",
            "_view_module": "@jupyter-widgets/controls",
            "_model_module_version": "1.5.0",
            "_view_count": null,
            "_view_module_version": "1.5.0",
            "box_style": "",
            "layout": "IPY_MODEL_9e63869c864040c285487910943891d4",
            "_model_module": "@jupyter-widgets/controls",
            "children": [
              "IPY_MODEL_3c193e1e6e2644fa9485e615d2aa467a",
              "IPY_MODEL_0f3d71c9085e4be2b5c13e9aac0523ae"
            ]
          }
        },
        "9e63869c864040c285487910943891d4": {
          "model_module": "@jupyter-widgets/base",
          "model_name": "LayoutModel",
          "state": {
            "_view_name": "LayoutView",
            "grid_template_rows": null,
            "right": null,
            "justify_content": null,
            "_view_module": "@jupyter-widgets/base",
            "overflow": null,
            "_model_module_version": "1.2.0",
            "_view_count": null,
            "flex_flow": null,
            "width": null,
            "min_width": null,
            "border": null,
            "align_items": null,
            "bottom": null,
            "_model_module": "@jupyter-widgets/base",
            "top": null,
            "grid_column": null,
            "overflow_y": null,
            "overflow_x": null,
            "grid_auto_flow": null,
            "grid_area": null,
            "grid_template_columns": null,
            "flex": null,
            "_model_name": "LayoutModel",
            "justify_items": null,
            "grid_row": null,
            "max_height": null,
            "align_content": null,
            "visibility": null,
            "align_self": null,
            "height": null,
            "min_height": null,
            "padding": null,
            "grid_auto_rows": null,
            "grid_gap": null,
            "max_width": null,
            "order": null,
            "_view_module_version": "1.2.0",
            "grid_template_areas": null,
            "object_position": null,
            "object_fit": null,
            "grid_auto_columns": null,
            "margin": null,
            "display": null,
            "left": null
          }
        },
        "3c193e1e6e2644fa9485e615d2aa467a": {
          "model_module": "@jupyter-widgets/controls",
          "model_name": "FloatProgressModel",
          "state": {
            "_view_name": "ProgressView",
            "style": "IPY_MODEL_a60e9d288d5a40e5a7b9b3454c8c3790",
            "_dom_classes": [],
            "description": "Downloading: 100%",
            "_model_name": "FloatProgressModel",
            "bar_style": "success",
            "max": 1261920069,
            "_view_module": "@jupyter-widgets/controls",
            "_model_module_version": "1.5.0",
            "value": 1261920069,
            "_view_count": null,
            "_view_module_version": "1.5.0",
            "orientation": "horizontal",
            "min": 0,
            "description_tooltip": null,
            "_model_module": "@jupyter-widgets/controls",
            "layout": "IPY_MODEL_9d5bf61617db452f93074edecf837442"
          }
        },
        "0f3d71c9085e4be2b5c13e9aac0523ae": {
          "model_module": "@jupyter-widgets/controls",
          "model_name": "HTMLModel",
          "state": {
            "_view_name": "HTMLView",
            "style": "IPY_MODEL_0bbb2919352a47e09cb4c0500f1a9842",
            "_dom_classes": [],
            "description": "",
            "_model_name": "HTMLModel",
            "placeholder": "​",
            "_view_module": "@jupyter-widgets/controls",
            "_model_module_version": "1.5.0",
            "value": " 1.26G/1.26G [00:25&lt;00:00, 48.8MB/s]",
            "_view_count": null,
            "_view_module_version": "1.5.0",
            "description_tooltip": null,
            "_model_module": "@jupyter-widgets/controls",
            "layout": "IPY_MODEL_70d3dec29ec04eb59cf94b29b2ad48b2"
          }
        },
        "a60e9d288d5a40e5a7b9b3454c8c3790": {
          "model_module": "@jupyter-widgets/controls",
          "model_name": "ProgressStyleModel",
          "state": {
            "_view_name": "StyleView",
            "_model_name": "ProgressStyleModel",
            "description_width": "initial",
            "_view_module": "@jupyter-widgets/base",
            "_model_module_version": "1.5.0",
            "_view_count": null,
            "_view_module_version": "1.2.0",
            "bar_color": null,
            "_model_module": "@jupyter-widgets/controls"
          }
        },
        "9d5bf61617db452f93074edecf837442": {
          "model_module": "@jupyter-widgets/base",
          "model_name": "LayoutModel",
          "state": {
            "_view_name": "LayoutView",
            "grid_template_rows": null,
            "right": null,
            "justify_content": null,
            "_view_module": "@jupyter-widgets/base",
            "overflow": null,
            "_model_module_version": "1.2.0",
            "_view_count": null,
            "flex_flow": null,
            "width": null,
            "min_width": null,
            "border": null,
            "align_items": null,
            "bottom": null,
            "_model_module": "@jupyter-widgets/base",
            "top": null,
            "grid_column": null,
            "overflow_y": null,
            "overflow_x": null,
            "grid_auto_flow": null,
            "grid_area": null,
            "grid_template_columns": null,
            "flex": null,
            "_model_name": "LayoutModel",
            "justify_items": null,
            "grid_row": null,
            "max_height": null,
            "align_content": null,
            "visibility": null,
            "align_self": null,
            "height": null,
            "min_height": null,
            "padding": null,
            "grid_auto_rows": null,
            "grid_gap": null,
            "max_width": null,
            "order": null,
            "_view_module_version": "1.2.0",
            "grid_template_areas": null,
            "object_position": null,
            "object_fit": null,
            "grid_auto_columns": null,
            "margin": null,
            "display": null,
            "left": null
          }
        },
        "0bbb2919352a47e09cb4c0500f1a9842": {
          "model_module": "@jupyter-widgets/controls",
          "model_name": "DescriptionStyleModel",
          "state": {
            "_view_name": "StyleView",
            "_model_name": "DescriptionStyleModel",
            "description_width": "",
            "_view_module": "@jupyter-widgets/base",
            "_model_module_version": "1.5.0",
            "_view_count": null,
            "_view_module_version": "1.2.0",
            "_model_module": "@jupyter-widgets/controls"
          }
        },
        "70d3dec29ec04eb59cf94b29b2ad48b2": {
          "model_module": "@jupyter-widgets/base",
          "model_name": "LayoutModel",
          "state": {
            "_view_name": "LayoutView",
            "grid_template_rows": null,
            "right": null,
            "justify_content": null,
            "_view_module": "@jupyter-widgets/base",
            "overflow": null,
            "_model_module_version": "1.2.0",
            "_view_count": null,
            "flex_flow": null,
            "width": null,
            "min_width": null,
            "border": null,
            "align_items": null,
            "bottom": null,
            "_model_module": "@jupyter-widgets/base",
            "top": null,
            "grid_column": null,
            "overflow_y": null,
            "overflow_x": null,
            "grid_auto_flow": null,
            "grid_area": null,
            "grid_template_columns": null,
            "flex": null,
            "_model_name": "LayoutModel",
            "justify_items": null,
            "grid_row": null,
            "max_height": null,
            "align_content": null,
            "visibility": null,
            "align_self": null,
            "height": null,
            "min_height": null,
            "padding": null,
            "grid_auto_rows": null,
            "grid_gap": null,
            "max_width": null,
            "order": null,
            "_view_module_version": "1.2.0",
            "grid_template_areas": null,
            "object_position": null,
            "object_fit": null,
            "grid_auto_columns": null,
            "margin": null,
            "display": null,
            "left": null
          }
        }
      }
    },
    "accelerator": "GPU"
  },
  "cells": [
    {
      "cell_type": "markdown",
      "metadata": {
        "id": "view-in-github",
        "colab_type": "text"
      },
      "source": [
        "<a href=\"https://colab.research.google.com/github/gagan3012/wav2vec2-large-xlsr-punjabi/blob/master/Fine_Tune_XLSR_Wav2Vec2_on_Punjabi_ASR_with_%F0%9F%A4%97_Transformers.ipynb\" target=\"_parent\"><img src=\"https://colab.research.google.com/assets/colab-badge.svg\" alt=\"Open In Colab\"/></a>"
      ]
    },
    {
      "cell_type": "markdown",
      "metadata": {
        "id": "LBSYoWbi-45k"
      },
      "source": [
        "# **Fine-tuning XLSR-Wav2Vec2 for Multi-Lingual ASR with 🤗 Transformers**"
      ]
    },
    {
      "cell_type": "markdown",
      "metadata": {
        "id": "V7YOT2mnUiea"
      },
      "source": [
        "Wav2Vec2 is a pretrained model for Automatic Speech Recognition (ASR) and was released in [September 2020](https://ai.facebook.com/blog/wav2vec-20-learning-the-structure-of-speech-from-raw-audio/) by Alexei Baevski, Michael Auli, and Alex Conneau.  Soon after the superior performance of Wav2Vec2 was demonstrated on the English ASR dataset LibriSpeech, *Facebook AI* presented XLSR-Wav2Vec2 (click [here](https://arxiv.org/abs/2006.13979)). XLSR stands for *cross-lingual  speech representations* and refers to XLSR-Wav2Vec2`s ability to learn speech representations that are useful across multiple languages.\n",
        "\n",
        "Similar to Wav2Vec2, XLSR-Wav2Vec2 learns powerful speech representations from hundreds of thousands of hours of speech in more than 50 languages of unlabeled speech. Similar, to [BERT's masked language modeling](http://jalammar.github.io/illustrated-bert/), the model learns contextualized speech representations by randomly masking feature vectors before passing them to a transformer network.\n",
        "\n",
        "![wav2vec2_structure](https://raw.githubusercontent.com/patrickvonplaten/scientific_images/master/xlsr_wav2vec2.png)\n",
        "\n",
        "The authors show for the first time that massively pretraining an ASR model on cross-lingual unlabeled speech data, followed by language-specific fine-tuning on very little labeled data achieves state-of-the-art results. See Table 1-5 of the official [paper](https://arxiv.org/pdf/2006.13979.pdf)."
      ]
    },
    {
      "cell_type": "markdown",
      "metadata": {
        "id": "nT_QrfWtsxIz"
      },
      "source": [
        "In this notebook, we will give an in-detail explanation of how XLSR-Wav2Vec2's pretrained checkpoint can be fine-tuned on a low-resource ASR dataset of any language. Note that in this notebook, we will fine-tune XLSR-Wav2Vec2 without making use of a language model. It is much simpler and more efficient to use XLSR-Wav2Vec2 without a language model, but better results can be achieved by including a language model. \n",
        "\n",
        "For demonstration purposes, we fine-tune the [wav2vec2-large-xlsr-53](https://huggingface.co/facebook/wav2vec2-large-xlsr-53) on the low resource Turkish ASR dataset of [Common Voice](https://huggingface.co/datasets/common_voice) that contains just ~6h of validated training data."
      ]
    },
    {
      "cell_type": "markdown",
      "metadata": {
        "id": "Gx9OdDYrCtQ1"
      },
      "source": [
        "XLSR-Wav2Vec2 is fine-tuned using Connectionist Temporal Classification (CTC), which is an algorithm that is used to train neural networks for sequence-to-sequence problems and mainly in Automatic Speech Recognition and handwriting recognition. \n",
        "\n",
        "I highly recommend reading the blog post [Sequence Modeling with CTC (2017)](https://distill.pub/2017/ctc/) very well-written blog post by Awni Hannun."
      ]
    },
    {
      "cell_type": "markdown",
      "metadata": {
        "id": "e335hPmdtASZ"
      },
      "source": [
        "Before we start, let's install both `datasets` and `transformers` from master. Also, we need the `torchaudio` and `librosa` package to load audio files and the `jiwer` to evaluate our fine-tuned model using the [word error rate (WER)](https://huggingface.co/metrics/wer) metric ${}^1$."
      ]
    },
    {
      "cell_type": "code",
      "metadata": {
        "id": "c8eh87Hoee5d"
      },
      "source": [
        "%%capture\n",
        "!pip install datasets==1.4.1\n",
        "!pip install transformers==4.4.0\n",
        "!pip install torchaudio\n",
        "!pip install librosa\n",
        "!pip install jiwer"
      ],
      "execution_count": 1,
      "outputs": []
    },
    {
      "cell_type": "code",
      "metadata": {
        "colab": {
          "base_uri": "https://localhost:8080/"
        },
        "id": "QU7kfpx2SKnI",
        "outputId": "3dce6075-1d7b-47d8-e90b-6d67000a68cb"
      },
      "source": [
        "!git lfs install\n",
        "!git clone https://huggingface.co/gagan3012/wav2vec2-large-xlsr-punjabi\n"
      ],
      "execution_count": 2,
      "outputs": [
        {
          "output_type": "stream",
          "text": [
            "git: 'lfs' is not a git command. See 'git --help'.\n",
            "\n",
            "The most similar command is\n",
            "\tlog\n",
            "Cloning into 'wav2vec2-large-xlsr-punjabi'...\n",
            "remote: Enumerating objects: 3, done.\u001b[K\n",
            "remote: Counting objects: 100% (3/3), done.\u001b[K\n",
            "remote: Compressing objects: 100% (2/2), done.\u001b[K\n",
            "remote: Total 3 (delta 0), reused 0 (delta 0)\u001b[K\n",
            "Unpacking objects: 100% (3/3), done.\n"
          ],
          "name": "stdout"
        }
      ]
    },
    {
      "cell_type": "markdown",
      "metadata": {
        "id": "Mn9swf6EQ9Vd"
      },
      "source": [
        "\n",
        "\n",
        "\n",
        "---\n",
        "\n",
        "${}^1$ In the [paper](https://arxiv.org/pdf/2006.13979.pdf), the model was evaluated using the phoneme error rate (PER), but by far the most common metric in ASR is the word error rate (WER). To keep this notebook as general as possible we decided to evaluate the model using WER."
      ]
    },
    {
      "cell_type": "markdown",
      "metadata": {
        "id": "0mW-C1Nt-j7k"
      },
      "source": [
        "## Prepare Data, Tokenizer, Feature Extractor"
      ]
    },
    {
      "cell_type": "markdown",
      "metadata": {
        "id": "BeBosnY9BH3e"
      },
      "source": [
        "ASR models transcribe speech to text, which means that we both need a feature extractor that processes the speech signal to the model's input format, *e.g.* a feature vector, and a tokenizer that processes the model's output format to text. \n",
        "\n",
        "In 🤗 Transformers, the XLSR-Wav2Vec2 model is thus accompanied by both a tokenizer, called [Wav2Vec2CTCTokenizer](https://huggingface.co/transformers/master/model_doc/wav2vec2.html#wav2vec2ctctokenizer), and a feature extractor, called [Wav2Vec2FeatureExtractor](https://huggingface.co/transformers/master/model_doc/wav2vec2.html#wav2vec2featureextractor).\n",
        "\n",
        "Let's start by creating the tokenizer responsible for decoding the model's predictions."
      ]
    },
    {
      "cell_type": "markdown",
      "metadata": {
        "id": "sEXEWEJGQPqD"
      },
      "source": [
        "### Create Wav2Vec2CTCTokenizer"
      ]
    },
    {
      "cell_type": "markdown",
      "metadata": {
        "id": "tWmMikuNEKl_"
      },
      "source": [
        "The [pretrained Wav2Vec2 checkpoint]( ) maps the speech signal to a sequence of context representations as illustrated in the figure above. A fine-tuned XLSR-Wav2Vec2 checkpoint needs to map this sequence of context representations to its corresponding transcription so that a linear layer has to be added on top of the transformer block (shown in yellow). This linear layer is used to classifies each context representation to a token class analogous how, *e.g.*, after pretraining a linear layer is added on top of BERT's embeddings for further classification - *cf.* with *\"BERT\"* section of this [blog post](https://huggingface.co/blog/warm-starting-encoder-decoder).\n",
        "\n",
        "The output size of this layer corresponds to the number of tokens in the vocabulary, which does **not** depend on XLSR-Wav2Vec2's pretraining task, but only on the labeled dataset used for fine-tuning. So in the first step, we will take a look at Common Voice and define a vocabulary based on the dataset's transcriptions."
      ]
    },
    {
      "cell_type": "markdown",
      "metadata": {
        "id": "idBczw8mWzgt"
      },
      "source": [
        "First, let's go to [Common Voice](https://commonvoice.mozilla.org/en/datasets) and pick a language to fine-tune XLSR-Wav2Vec2 on. For this notebook, we will use Turkish. \n",
        "\n",
        "For each language-specific dataset, you can find a language code corresponding to your chosen language. On [Common Voice](https://commonvoice.mozilla.org/en/datasets), look for the field \"Version\". The language code then corresponds to the prefix before the underscore. For Turkish, *e.g.* the language code is `\"tr\"`.\n",
        "\n",
        "Great, now we can use 🤗 Datasets' simple API to download the data. The dataset name will be `\"common_voice\"`, the config name corresponds to the language code - `\"tr\"` in our case."
      ]
    },
    {
      "cell_type": "markdown",
      "metadata": {
        "id": "bee4g9rpLxll"
      },
      "source": [
        "Common Voice has many different splits including `invalidated`, which refers to data that was not rated as \"clean enough\" to be considered useful. In this notebook, we will only make use of the splits `\"train\"`, `\"validation\"` and `\"test\"`. \n",
        "\n",
        "Because the Turkish dataset is so small, we will merge both the validation and training data into a training dataset and simply use the test data for validation."
      ]
    },
    {
      "cell_type": "code",
      "metadata": {
        "id": "2MMXcWFFgCXU",
        "colab": {
          "base_uri": "https://localhost:8080/",
          "height": 309,
          "referenced_widgets": [
            "ef85338a5a0a4aa6bf5e925bd3fc7bdc",
            "a39a5f63653b45efa780c078b53e5ce0",
            "c33fb9bb766d47bd8777fbe6ef44dc04",
            "2bed834dab5a49ea9b30ca738f40c1a9",
            "5cd85f01a10c4365bc833abeac946496",
            "bde0c2b3a25b4b8fbf4517cfe918b0c3",
            "a68bdde0224f4b639f1604c28ee2da72",
            "04cb793db05c4f8190fa32c3bfd9c534",
            "b40c53e96f1343f7ba2f366208cdce75",
            "5fe834cd5895413781017c2f3f52a9ce",
            "6524794611424f709f4d3096f5a2688e",
            "0a594aa1638a42ca84f25ee2efe8091a",
            "d5431d0d50da44b6a899be609691ad26",
            "66ebf2e206794903822a38d1f2a9511b",
            "ddbaecf75f714e4ca35c55fa1704817a",
            "d0cff5bc2a8f4c14a21c417ce30219eb",
            "1949b15e1971479383edba2a26feac4a",
            "7fa020eab1b74ec6ae4033787e4e24f2",
            "9ae05613ef784db7925d563ca680f788",
            "81b636ce87594b7f808727114fa7b12d",
            "2c7c31c0ee204303b4c0c872d1dec3f0",
            "91e35cc0fdca4ffa982a3b687ad34d99",
            "5e087f7e29ec4579a3e6d403ee69f1bc",
            "08caa675963943ec9b11393280614c04",
            "cc2ede2ed6aa43359aa251a7e5fb40c9",
            "17ff1a95ec724546a7f28d4217e2eaa3",
            "172c363821da4af3bff77a084781e235",
            "6834b6830af44036bc330e5c9c017be8",
            "172f5f4c6e2146f491b18f849f56821d",
            "c59d08cc077e44f0aa94b906c4fb0dc8",
            "bc6d07f853e7469a84236dc37fe70373",
            "071a993862f14173a1cd919d85e9ca5b",
            "63611dc92a9f431db564a2d4bff18036",
            "b447da5f07b24ef3b0a5dc9bd0f4c1b9",
            "ece1a0c924854418a41e9696d1d51e1d",
            "aaa22422c4df4531b7f2455a2d1d11f7",
            "c3e5104c8bb640d6b257cb250b6fb24c",
            "75d7839a22c246129bb233d30f0e417d",
            "bc75cf21a87444479c9837d9e5776ed1",
            "4a04a6aa780741c7ae5ef03d392b4ee5",
            "157ba4a8676b4b12aab956608b162786",
            "17df0733f3d4435bb30a23dc2177b807",
            "a99b5ed6982f4c179c49592d339e8844",
            "1cb66891afe043bf90b69e74a6b1851c",
            "064c882ab2d34b589c4e4ffa1b36e666",
            "6a7e8a0013554d7a80cb3721d4db85ae",
            "5404a7a598ce4f33a06f42207f49ee6e",
            "0969361f8c2f492d8e29303c66116be2",
            "d5b216a4f30940cfa33870763623c9bd",
            "c5c2408be7094a3393ec3f7bfdcb5b0f",
            "81801b90b44c4de197d93a93eec92b6e",
            "b373b0b9e9a3459e94d5899644d0325c",
            "48562fec859041daa106c00d044cee5b",
            "4ad67c9399f44b52a82725ee7d09d794",
            "423a514944a34114b78336e9fd15b29b",
            "049f8eb8f7794b3bb40af187071fac85",
            "c474cc6d10964ee3bda22bb449941c31",
            "5cba3b0009a645a99faaa69d7faef02d",
            "fc24b7884ebc42c49660ca3a4aad7a56",
            "ac5aa624668d40a08525f9d27603bfb2",
            "a59047e75ca74ba3999c9c25026f132c",
            "00741922499042eaa0bbb2b628bc1309",
            "8dd5084e97b941688b54b1edd44f5d64",
            "9fa346914269450582e7279fe8928440"
          ]
        },
        "outputId": "1e3dcb92-6bd3-4b21-c92e-e2c43569a3db"
      },
      "source": [
        "from datasets import load_dataset, load_metric\n",
        "\n",
        "common_voice_train = load_dataset(\"common_voice\", \"pa-IN\", split=\"train+validation\")\n",
        "common_voice_test = load_dataset(\"common_voice\", \"pa-IN\", split=\"test\")"
      ],
      "execution_count": 3,
      "outputs": [
        {
          "output_type": "display_data",
          "data": {
            "application/vnd.jupyter.widget-view+json": {
              "model_id": "ef85338a5a0a4aa6bf5e925bd3fc7bdc",
              "version_minor": 0,
              "version_major": 2
            },
            "text/plain": [
              "HBox(children=(FloatProgress(value=0.0, description='Downloading', max=4323.0, style=ProgressStyle(description…"
            ]
          },
          "metadata": {
            "tags": []
          }
        },
        {
          "output_type": "stream",
          "text": [
            "Couldn't find file locally at common_voice/common_voice.py, or remotely at https://raw.githubusercontent.com/huggingface/datasets/1.4.1/datasets/common_voice/common_voice.py.\n",
            "The file was picked from the master branch on github instead at https://raw.githubusercontent.com/huggingface/datasets/master/datasets/common_voice/common_voice.py.\n"
          ],
          "name": "stderr"
        },
        {
          "output_type": "stream",
          "text": [
            "\n"
          ],
          "name": "stdout"
        },
        {
          "output_type": "display_data",
          "data": {
            "application/vnd.jupyter.widget-view+json": {
              "model_id": "b40c53e96f1343f7ba2f366208cdce75",
              "version_minor": 0,
              "version_major": 2
            },
            "text/plain": [
              "HBox(children=(FloatProgress(value=0.0, description='Downloading', max=9954.0, style=ProgressStyle(description…"
            ]
          },
          "metadata": {
            "tags": []
          }
        },
        {
          "output_type": "stream",
          "text": [
            "\n",
            "Downloading and preparing dataset common_voice/pa-IN (download: 66.52 MiB, generated: 846.02 KiB, post-processed: Unknown size, total: 67.34 MiB) to /root/.cache/huggingface/datasets/common_voice/pa-IN/6.1.0/0041e06ab061b91d0a23234a2221e87970a19cf3a81b20901474cffffeb7869f...\n"
          ],
          "name": "stdout"
        },
        {
          "output_type": "display_data",
          "data": {
            "application/vnd.jupyter.widget-view+json": {
              "model_id": "1949b15e1971479383edba2a26feac4a",
              "version_minor": 0,
              "version_major": 2
            },
            "text/plain": [
              "HBox(children=(FloatProgress(value=0.0, description='Downloading', max=69748265.0, style=ProgressStyle(descrip…"
            ]
          },
          "metadata": {
            "tags": []
          }
        },
        {
          "output_type": "stream",
          "text": [
            "\n"
          ],
          "name": "stdout"
        },
        {
          "output_type": "display_data",
          "data": {
            "application/vnd.jupyter.widget-view+json": {
              "model_id": "cc2ede2ed6aa43359aa251a7e5fb40c9",
              "version_minor": 0,
              "version_major": 2
            },
            "text/plain": [
              "HBox(children=(FloatProgress(value=1.0, bar_style='info', max=1.0), HTML(value='')))"
            ]
          },
          "metadata": {
            "tags": []
          }
        },
        {
          "output_type": "stream",
          "text": [
            "\r"
          ],
          "name": "stdout"
        },
        {
          "output_type": "display_data",
          "data": {
            "application/vnd.jupyter.widget-view+json": {
              "model_id": "63611dc92a9f431db564a2d4bff18036",
              "version_minor": 0,
              "version_major": 2
            },
            "text/plain": [
              "HBox(children=(FloatProgress(value=1.0, bar_style='info', max=1.0), HTML(value='')))"
            ]
          },
          "metadata": {
            "tags": []
          }
        },
        {
          "output_type": "stream",
          "text": [
            "\r"
          ],
          "name": "stdout"
        },
        {
          "output_type": "display_data",
          "data": {
            "application/vnd.jupyter.widget-view+json": {
              "model_id": "157ba4a8676b4b12aab956608b162786",
              "version_minor": 0,
              "version_major": 2
            },
            "text/plain": [
              "HBox(children=(FloatProgress(value=1.0, bar_style='info', max=1.0), HTML(value='')))"
            ]
          },
          "metadata": {
            "tags": []
          }
        },
        {
          "output_type": "stream",
          "text": [
            "\r"
          ],
          "name": "stdout"
        },
        {
          "output_type": "display_data",
          "data": {
            "application/vnd.jupyter.widget-view+json": {
              "model_id": "d5b216a4f30940cfa33870763623c9bd",
              "version_minor": 0,
              "version_major": 2
            },
            "text/plain": [
              "HBox(children=(FloatProgress(value=1.0, bar_style='info', max=1.0), HTML(value='')))"
            ]
          },
          "metadata": {
            "tags": []
          }
        },
        {
          "output_type": "stream",
          "text": [
            "\r"
          ],
          "name": "stdout"
        },
        {
          "output_type": "display_data",
          "data": {
            "application/vnd.jupyter.widget-view+json": {
              "model_id": "c474cc6d10964ee3bda22bb449941c31",
              "version_minor": 0,
              "version_major": 2
            },
            "text/plain": [
              "HBox(children=(FloatProgress(value=1.0, bar_style='info', max=1.0), HTML(value='')))"
            ]
          },
          "metadata": {
            "tags": []
          }
        },
        {
          "output_type": "stream",
          "text": [
            "\rDataset common_voice downloaded and prepared to /root/.cache/huggingface/datasets/common_voice/pa-IN/6.1.0/0041e06ab061b91d0a23234a2221e87970a19cf3a81b20901474cffffeb7869f. Subsequent calls will reuse this data.\n"
          ],
          "name": "stdout"
        },
        {
          "output_type": "stream",
          "text": [
            "Couldn't find file locally at common_voice/common_voice.py, or remotely at https://raw.githubusercontent.com/huggingface/datasets/1.4.1/datasets/common_voice/common_voice.py.\n",
            "The file was picked from the master branch on github instead at https://raw.githubusercontent.com/huggingface/datasets/master/datasets/common_voice/common_voice.py.\n",
            "Reusing dataset common_voice (/root/.cache/huggingface/datasets/common_voice/pa-IN/6.1.0/0041e06ab061b91d0a23234a2221e87970a19cf3a81b20901474cffffeb7869f)\n"
          ],
          "name": "stderr"
        }
      ]
    },
    {
      "cell_type": "markdown",
      "metadata": {
        "id": "ri5y5N_HMANq"
      },
      "source": [
        "Many ASR datasets only provide the target text, `'sentence'` for each audio file `'path'`. Common Voice actually provides much more information about each audio file, such as the `'accent'`, etc. However, we want to keep the notebook as general as possible, so that we will only consider the transcribed text for fine-tuning.\n",
        "\n"
      ]
    },
    {
      "cell_type": "code",
      "metadata": {
        "id": "kbyq6lDgQc2a"
      },
      "source": [
        "common_voice_train = common_voice_train.remove_columns([\"accent\", \"age\", \"client_id\", \"down_votes\", \"gender\", \"locale\", \"segment\", \"up_votes\"])\n",
        "common_voice_test = common_voice_test.remove_columns([\"accent\", \"age\", \"client_id\", \"down_votes\", \"gender\", \"locale\", \"segment\", \"up_votes\"])"
      ],
      "execution_count": 4,
      "outputs": []
    },
    {
      "cell_type": "markdown",
      "metadata": {
        "id": "Go9Hq4e4NDT9"
      },
      "source": [
        "Let's write a short function to display some random samples of the dataset and run it a couple of times to get a feeling for the transcriptions."
      ]
    },
    {
      "cell_type": "code",
      "metadata": {
        "id": "72737oog2F6U"
      },
      "source": [
        "from datasets import ClassLabel\n",
        "import random\n",
        "import pandas as pd\n",
        "from IPython.display import display, HTML\n",
        "\n",
        "def show_random_elements(dataset, num_examples=10):\n",
        "    assert num_examples <= len(dataset), \"Can't pick more elements than there are in the dataset.\"\n",
        "    picks = []\n",
        "    for _ in range(num_examples):\n",
        "        pick = random.randint(0, len(dataset)-1)\n",
        "        while pick in picks:\n",
        "            pick = random.randint(0, len(dataset)-1)\n",
        "        picks.append(pick)\n",
        "    \n",
        "    df = pd.DataFrame(dataset[picks])\n",
        "    display(HTML(df.to_html()))"
      ],
      "execution_count": 5,
      "outputs": []
    },
    {
      "cell_type": "code",
      "metadata": {
        "colab": {
          "base_uri": "https://localhost:8080/",
          "height": 665
        },
        "id": "K_JUmf3G3b9S",
        "outputId": "40a95062-10e5-4887-8b60-0f6b91ee7bcc"
      },
      "source": [
        "show_random_elements(common_voice_train.remove_columns([\"path\"]), num_examples=20)"
      ],
      "execution_count": 6,
      "outputs": [
        {
          "output_type": "display_data",
          "data": {
            "text/html": [
              "<table border=\"1\" class=\"dataframe\">\n",
              "  <thead>\n",
              "    <tr style=\"text-align: right;\">\n",
              "      <th></th>\n",
              "      <th>sentence</th>\n",
              "    </tr>\n",
              "  </thead>\n",
              "  <tbody>\n",
              "    <tr>\n",
              "      <th>0</th>\n",
              "      <td>ਪਰ ਜਿਹੜੇ ਮੁੰਡਿਆਂ ਦੀ ਪੁਲੀਸ ਨੂੰ ਭਾਲ ਸੀ</td>\n",
              "    </tr>\n",
              "    <tr>\n",
              "      <th>1</th>\n",
              "      <td>ਬੈਠੋ ਤੁਸੀਂ ਰਲ ਕੇ ਭਾਰਤ ਦੇ ਵੀਰੋ</td>\n",
              "    </tr>\n",
              "    <tr>\n",
              "      <th>2</th>\n",
              "      <td>ਮੁੰਡਾ ਹੋਇਆ ਹਜ਼ੂਰ ਸਾਹਿਬ ਪੱਗ ਬੰਨਾਂ ਕੇ ਲਿਆਵਾਂਗੇ</td>\n",
              "    </tr>\n",
              "    <tr>\n",
              "      <th>3</th>\n",
              "      <td>ਉਹ ਆਪਣੇ ਨੁਮਾਇੰਦਿਆਂ ਬਾਰੇ ਆਪ ਫੈਸਲਾ ਕਰਨ</td>\n",
              "    </tr>\n",
              "    <tr>\n",
              "      <th>4</th>\n",
              "      <td>ਉਹ ਚੁੱਪਚਾਪ ਗਿਲਾਸ ਭਰਨ ਲੱਗ ਗਈ</td>\n",
              "    </tr>\n",
              "    <tr>\n",
              "      <th>5</th>\n",
              "      <td>ਧੰਨਿ ਧੰਨਿ ਹਮਾਰੇ ਭਾਗ ਘਰਿ ਆਇਆ ਪਿਰੁ ਮੇਰਾ</td>\n",
              "    </tr>\n",
              "    <tr>\n",
              "      <th>6</th>\n",
              "      <td>ਆਪਣੀ ਤੱਸਲੀ ਲਈ ਆਪ ਵੀ ਸਵੀਕਾਰ ਨਹੀਂ ਕਰਦੇ</td>\n",
              "    </tr>\n",
              "    <tr>\n",
              "      <th>7</th>\n",
              "      <td>ਪਰ ਤੁਫੈਲ ਮੁਹੰਮਦ ਦਾ ਬੂਹਾ ਬੰਦ ਸੀ</td>\n",
              "    </tr>\n",
              "    <tr>\n",
              "      <th>8</th>\n",
              "      <td>ਗੋਲਡ ਤੇ ਸਟੀਕ ਬੈਠਿਆ ਅਭਿਨਵ ਦਾ ਨਿਸ਼ਾਨਾ</td>\n",
              "    </tr>\n",
              "    <tr>\n",
              "      <th>9</th>\n",
              "      <td>ਵੋਟਾਂ ਅਕਾਲੀਆਂ ਨੂੰ ਪਾਉਣ ਦੀ ਸ਼ਰਤ ਤੇ ਮੰਨ ਸਕਦੇ ਹਾਂ</td>\n",
              "    </tr>\n",
              "    <tr>\n",
              "      <th>10</th>\n",
              "      <td>ਸਤਿਗੁਰ ਸਤਿਗੁਰ ਜਿਹੜਾ ਕਰਦਾ ਜੀ ਸੋ ਜਾਣੋ ਅਨਡੋਲਾ</td>\n",
              "    </tr>\n",
              "    <tr>\n",
              "      <th>11</th>\n",
              "      <td>ਮਾਸ ਦੀ ਨਸਲ ਤਾ ਇੱਕ ਹੈ</td>\n",
              "    </tr>\n",
              "    <tr>\n",
              "      <th>12</th>\n",
              "      <td>ਪੁੱਤ ਨੂੰ ਜਹਿਰ ਦੇ ਰਿਹਾ ਸੀ</td>\n",
              "    </tr>\n",
              "    <tr>\n",
              "      <th>13</th>\n",
              "      <td>ਮੇਰੀਆਂ ਤੇ ਅੱਖੀਆਂ ਪੱਕ ਗਈਆਂ ਸਨ</td>\n",
              "    </tr>\n",
              "    <tr>\n",
              "      <th>14</th>\n",
              "      <td>ਫੇਰ ਟੈਕਸੀ ਲੈ ਕੇ ਸਾਡੇ ਕੋਲ਼ ਆਇਆ ਸੀ</td>\n",
              "    </tr>\n",
              "    <tr>\n",
              "      <th>15</th>\n",
              "      <td>ਪੂਰਾ ਆਸ਼੍ਰਮ ਹੈਰਾਨ ਹੋਇਆ</td>\n",
              "    </tr>\n",
              "    <tr>\n",
              "      <th>16</th>\n",
              "      <td>ਭਾਰਤੀ ਕਮਜ਼ੋਰ ਤੇ ਨਿਤਾਣੇ ਹੋ ਗਏ ਸਨ</td>\n",
              "    </tr>\n",
              "    <tr>\n",
              "      <th>17</th>\n",
              "      <td>ਭਿੰਡੀ ਦਾ ਬੂਟਾ ਫੁੱਟ ਉੱਚਾ</td>\n",
              "    </tr>\n",
              "    <tr>\n",
              "      <th>18</th>\n",
              "      <td>ਕਬੱਡੀ ਕੱਪ ਦਾ ਇਹ ਫਾਈਨਲ ਮੈਚ ਸੀ</td>\n",
              "    </tr>\n",
              "    <tr>\n",
              "      <th>19</th>\n",
              "      <td>ਨੇਰ੍ਹੇ ਵਿਚ ਕਿਰਸਾਨ ਜਗਾ ਲਉ ਬੱਤੀਆਂ</td>\n",
              "    </tr>\n",
              "  </tbody>\n",
              "</table>"
            ],
            "text/plain": [
              "<IPython.core.display.HTML object>"
            ]
          },
          "metadata": {
            "tags": []
          }
        }
      ]
    },
    {
      "cell_type": "markdown",
      "metadata": {
        "id": "fowcOllGNNju"
      },
      "source": [
        "Alright! The transcriptions look fairly clean. Having translated the transcribed sentences (I'm sadly not a native speaker in Turkish), it seems that the language corresponds more to written text than noisy dialogue. This makes sense taking into account that [Common Voice](https://huggingface.co/datasets/common_voice) is a crowd-sourced read speech corpus."
      ]
    },
    {
      "cell_type": "markdown",
      "metadata": {
        "id": "vq7OR50LN49m"
      },
      "source": [
        "We can see that the transcriptions contain some special characters, such as `,.?!;:`. Without a language model, it is much harder to classify speech chunks to such special characters because they don't really correspond to a characteristic sound unit. *E.g.*, the letter `\"s\"` has a more or less clear sound, whereas the special character `\".\"` does not.\n",
        "Also in order to understand the meaning of a speech signal, it is usually not necessary to include special characters in the transcription.\n",
        "\n",
        "In addition, we normalize the text to only have lower case letters and append a word separator token at the end."
      ]
    },
    {
      "cell_type": "code",
      "metadata": {
        "id": "svKzVJ_hQGK6"
      },
      "source": [
        "import re\n",
        "chars_to_ignore_regex = '[\\,\\?\\.\\!\\-\\;\\:\\\"\\“\\%\\‘\\”\\�]'\n",
        "\n",
        "def remove_special_characters(batch):\n",
        "    batch[\"sentence\"] = re.sub(chars_to_ignore_regex, '', batch[\"sentence\"]).lower() + \" \"\n",
        "    return batch"
      ],
      "execution_count": 7,
      "outputs": []
    },
    {
      "cell_type": "code",
      "metadata": {
        "colab": {
          "base_uri": "https://localhost:8080/",
          "height": 116,
          "referenced_widgets": [
            "1e066acfba12437c91dded09f40b9ab0",
            "00a14415cec0477f9f3a23618a04c26e",
            "89e4dd9d4bf6499fac7dda25c76dcbe9",
            "408a9a502cad4aa8882eb26a8744d364",
            "bba22280ee384237a9288598275dfe74",
            "9fe90f6aff3845efa5d882638bda735b",
            "409052af5fc9475c977af9c701e93b42",
            "c842b81e38ca49cd8efcc8d1d39e21a5",
            "27ba63b441e94e8c800a8bc28be1e5fb",
            "8d76b6007512479daa940f01cd90e6be",
            "78d643bf1745406db62baba43e751029",
            "1a332a5d20fa4b13a8fd8378e98c8b5e",
            "af47dc1b988d4b7789bc439512d943f2",
            "8112fd9e6a16442bbf7ae9becb399c7c",
            "cc488fa06e574fb6a0653962f8bd97fe",
            "d4e9067eb18046db9594745dba5c78f7"
          ]
        },
        "id": "XIHocAuTQbBR",
        "outputId": "cef0340c-ab9d-45ab-b483-2d9e98d6dfc7"
      },
      "source": [
        "common_voice_train = common_voice_train.map(remove_special_characters)\n",
        "common_voice_test = common_voice_test.map(remove_special_characters)"
      ],
      "execution_count": 8,
      "outputs": [
        {
          "output_type": "display_data",
          "data": {
            "application/vnd.jupyter.widget-view+json": {
              "model_id": "1e066acfba12437c91dded09f40b9ab0",
              "version_minor": 0,
              "version_major": 2
            },
            "text/plain": [
              "HBox(children=(FloatProgress(value=0.0, max=255.0), HTML(value='')))"
            ]
          },
          "metadata": {
            "tags": []
          }
        },
        {
          "output_type": "stream",
          "text": [
            "\n"
          ],
          "name": "stdout"
        },
        {
          "output_type": "display_data",
          "data": {
            "application/vnd.jupyter.widget-view+json": {
              "model_id": "27ba63b441e94e8c800a8bc28be1e5fb",
              "version_minor": 0,
              "version_major": 2
            },
            "text/plain": [
              "HBox(children=(FloatProgress(value=0.0, max=116.0), HTML(value='')))"
            ]
          },
          "metadata": {
            "tags": []
          }
        },
        {
          "output_type": "stream",
          "text": [
            "\n"
          ],
          "name": "stdout"
        }
      ]
    },
    {
      "cell_type": "code",
      "metadata": {
        "colab": {
          "base_uri": "https://localhost:8080/",
          "height": 357
        },
        "id": "RBDRAAYxRE6n",
        "outputId": "b29e9788-86ed-4b76-aa32-8efb73d5a095"
      },
      "source": [
        "show_random_elements(common_voice_train.remove_columns([\"path\"]))"
      ],
      "execution_count": 9,
      "outputs": [
        {
          "output_type": "display_data",
          "data": {
            "text/html": [
              "<table border=\"1\" class=\"dataframe\">\n",
              "  <thead>\n",
              "    <tr style=\"text-align: right;\">\n",
              "      <th></th>\n",
              "      <th>sentence</th>\n",
              "    </tr>\n",
              "  </thead>\n",
              "  <tbody>\n",
              "    <tr>\n",
              "      <th>0</th>\n",
              "      <td>ਉਨ੍ਹਾਂ ਨੇ ਗੁਰਸ਼ਰਨ ਸਿੰਘ ਨੂੰ ਮਹਾਨ ਕਲਾਕਾਰ ਕਿਹਾ</td>\n",
              "    </tr>\n",
              "    <tr>\n",
              "      <th>1</th>\n",
              "      <td>ਵੋਟਾਂ ਅਕਾਲੀਆਂ ਨੂੰ ਪਾਉਣ ਦੀ ਸ਼ਰਤ ਤੇ ਮੰਨ ਸਕਦੇ ਹਾਂ</td>\n",
              "    </tr>\n",
              "    <tr>\n",
              "      <th>2</th>\n",
              "      <td>ਬਿਮਾਰ ਤੰਦਰੁਸਤ ਅਮੀਰ ਗਰੀਬ ਹੋ ਗਿਆ</td>\n",
              "    </tr>\n",
              "    <tr>\n",
              "      <th>3</th>\n",
              "      <td>ਉਸੇ ਵੇਲੇ ਉਸ ਦੀ ਕੰਪਨੀ ਨੂੰ ਫੋਨ ਕਰੋ</td>\n",
              "    </tr>\n",
              "    <tr>\n",
              "      <th>4</th>\n",
              "      <td>ਘਰ ਦਾ ਬਣਿਆ ਭੋਜਨ ਹੀ ਖਾਓ</td>\n",
              "    </tr>\n",
              "    <tr>\n",
              "      <th>5</th>\n",
              "      <td>ਨਾਲੇ ਖਾਵਾਂ ਪੀਵਾਂਗੇ ਨਾਲੇ ਗੱਲਾਂ ਕਰਾਂਗੇ</td>\n",
              "    </tr>\n",
              "    <tr>\n",
              "      <th>6</th>\n",
              "      <td>ਸਾਈਕਲ ਤੇ ਸਕੂਟਰ ਵੀ ਬਹੁਤ ਚਲਾਏ ਹਨ</td>\n",
              "    </tr>\n",
              "    <tr>\n",
              "      <th>7</th>\n",
              "      <td>ਹਰ ਹੀਲੇ ਵਸੀਲੇ ਤੇ ਅਧਿਕਾਰ ਜਮਾਂਵਾਂਗਾ</td>\n",
              "    </tr>\n",
              "    <tr>\n",
              "      <th>8</th>\n",
              "      <td>ਬਾਪੂ ਦੇ ਗਰਾਂ ਵਿੱਚ ਰਹਿ ਕੇ</td>\n",
              "    </tr>\n",
              "    <tr>\n",
              "      <th>9</th>\n",
              "      <td>ਤੁਰ ਪਿਆ ਹਾਂ ਖਾਲੀ ਬਗਲੀ ਚੁੱਕ</td>\n",
              "    </tr>\n",
              "  </tbody>\n",
              "</table>"
            ],
            "text/plain": [
              "<IPython.core.display.HTML object>"
            ]
          },
          "metadata": {
            "tags": []
          }
        }
      ]
    },
    {
      "cell_type": "markdown",
      "metadata": {
        "id": "jwfaptH5RJwA"
      },
      "source": [
        "Good! This looks better. We have removed most special characters from transcriptions and normalized them to lower-case only.\n",
        "\n",
        "In CTC, it is common to classify speech chunks into letters, so we will do the same here. \n",
        "Let's extract all distinct letters of the training and test data and build our vocabulary from this set of letters.\n",
        "\n",
        "We write a mapping function that concatenates all transcriptions into one long transcription and then transforms the string into a set of chars. \n",
        "It is important to pass the argument `batched=True` to the `map(...)` function so that the mapping function has access to all transcriptions at once."
      ]
    },
    {
      "cell_type": "code",
      "metadata": {
        "id": "LwCshNbbeRZR"
      },
      "source": [
        "def extract_all_chars(batch):\n",
        "  all_text = \" \".join(batch[\"sentence\"])\n",
        "  vocab = list(set(all_text))\n",
        "  return {\"vocab\": [vocab], \"all_text\": [all_text]}"
      ],
      "execution_count": 10,
      "outputs": []
    },
    {
      "cell_type": "code",
      "metadata": {
        "colab": {
          "base_uri": "https://localhost:8080/",
          "height": 116,
          "referenced_widgets": [
            "bd6a46a8fc8846fa916e522069c17399",
            "948c946f61de4bd789b045b8b1a215a1",
            "6ef75a4d9f0749a89c4d7b0885a18db5",
            "5862b2781f8a4df1be3f39839887594c",
            "7355d0c8ef584240976413c6078223e8",
            "10b4c25671df4c0e9d4be4426fda095f",
            "87bff3bc11c540389bc8d79d2cc49625",
            "da036904465a45e990f5e67c5315a079",
            "83b0caae62414c3296678aaa719b9beb",
            "27df7710046a409685774f88f88ae61f",
            "bde861d892ec435caf6a3074fd34b112",
            "e6823ba0eb75492e95ea93ad9fa726c5",
            "a1ed7d338a414da1a591a4dd6bc3f7b7",
            "bd8a52b7abb64e919e5b18fa340c9583",
            "1aa0771d75e94fa6a715ddd6f73e3d4d",
            "68b9ccfe3d754c5b9dab47214a376e9f"
          ]
        },
        "id": "_m6uUjjcfbjH",
        "outputId": "d6b26352-3279-453f-c182-cbc609f08aae"
      },
      "source": [
        "vocab_train = common_voice_train.map(extract_all_chars, batched=True, batch_size=-1, keep_in_memory=True, remove_columns=common_voice_train.column_names)\n",
        "vocab_test = common_voice_test.map(extract_all_chars, batched=True, batch_size=-1, keep_in_memory=True, remove_columns=common_voice_test.column_names)"
      ],
      "execution_count": 11,
      "outputs": [
        {
          "output_type": "display_data",
          "data": {
            "application/vnd.jupyter.widget-view+json": {
              "model_id": "bd6a46a8fc8846fa916e522069c17399",
              "version_minor": 0,
              "version_major": 2
            },
            "text/plain": [
              "HBox(children=(FloatProgress(value=0.0, max=1.0), HTML(value='')))"
            ]
          },
          "metadata": {
            "tags": []
          }
        },
        {
          "output_type": "stream",
          "text": [
            "\n"
          ],
          "name": "stdout"
        },
        {
          "output_type": "display_data",
          "data": {
            "application/vnd.jupyter.widget-view+json": {
              "model_id": "83b0caae62414c3296678aaa719b9beb",
              "version_minor": 0,
              "version_major": 2
            },
            "text/plain": [
              "HBox(children=(FloatProgress(value=0.0, max=1.0), HTML(value='')))"
            ]
          },
          "metadata": {
            "tags": []
          }
        },
        {
          "output_type": "stream",
          "text": [
            "\n"
          ],
          "name": "stdout"
        }
      ]
    },
    {
      "cell_type": "markdown",
      "metadata": {
        "id": "7oVgE8RZSJNP"
      },
      "source": [
        "Now, we create the union of all distinct letters in the training dataset and test dataset and convert the resulting list into an enumerated dictionary."
      ]
    },
    {
      "cell_type": "code",
      "metadata": {
        "id": "aQfneNsmlJI0"
      },
      "source": [
        "vocab_list = list(set(vocab_train[\"vocab\"][0]) | set(vocab_test[\"vocab\"][0]))"
      ],
      "execution_count": 12,
      "outputs": []
    },
    {
      "cell_type": "code",
      "metadata": {
        "colab": {
          "base_uri": "https://localhost:8080/"
        },
        "id": "_0kRndSvqaKk",
        "outputId": "3821556c-2a03-48a2-d0a8-b17ea7097f9b"
      },
      "source": [
        "vocab_dict = {v: k for k, v in enumerate(vocab_list)}\n",
        "vocab_dict"
      ],
      "execution_count": 13,
      "outputs": [
        {
          "output_type": "execute_result",
          "data": {
            "text/plain": [
              "{' ': 45,\n",
              " 'ਂ': 7,\n",
              " 'ਅ': 22,\n",
              " 'ਆ': 44,\n",
              " 'ਇ': 33,\n",
              " 'ਈ': 28,\n",
              " 'ਉ': 35,\n",
              " 'ਊ': 34,\n",
              " 'ਏ': 19,\n",
              " 'ਐ': 6,\n",
              " 'ਓ': 38,\n",
              " 'ਔ': 39,\n",
              " 'ਕ': 12,\n",
              " 'ਖ': 9,\n",
              " 'ਗ': 41,\n",
              " 'ਘ': 3,\n",
              " 'ਚ': 17,\n",
              " 'ਛ': 18,\n",
              " 'ਜ': 37,\n",
              " 'ਝ': 1,\n",
              " 'ਟ': 55,\n",
              " 'ਠ': 58,\n",
              " 'ਡ': 26,\n",
              " 'ਢ': 54,\n",
              " 'ਣ': 4,\n",
              " 'ਤ': 14,\n",
              " 'ਥ': 10,\n",
              " 'ਦ': 49,\n",
              " 'ਧ': 16,\n",
              " 'ਨ': 42,\n",
              " 'ਪ': 5,\n",
              " 'ਫ': 31,\n",
              " 'ਬ': 36,\n",
              " 'ਭ': 20,\n",
              " 'ਮ': 11,\n",
              " 'ਯ': 8,\n",
              " 'ਰ': 2,\n",
              " 'ਲ': 60,\n",
              " 'ਲ਼': 15,\n",
              " 'ਵ': 61,\n",
              " 'ਸ਼': 27,\n",
              " 'ਸ': 50,\n",
              " 'ਹ': 51,\n",
              " '਼': 24,\n",
              " 'ਾ': 43,\n",
              " 'ਿ': 48,\n",
              " 'ੀ': 52,\n",
              " 'ੁ': 40,\n",
              " 'ੂ': 25,\n",
              " 'ੇ': 46,\n",
              " 'ੈ': 23,\n",
              " 'ੋ': 57,\n",
              " 'ੌ': 53,\n",
              " '੍': 0,\n",
              " 'ਖ਼': 13,\n",
              " 'ਗ਼': 29,\n",
              " 'ਜ਼': 30,\n",
              " 'ੜ': 59,\n",
              " 'ਫ਼': 47,\n",
              " 'ੰ': 32,\n",
              " 'ੱ': 21,\n",
              " '…': 56}"
            ]
          },
          "metadata": {
            "tags": []
          },
          "execution_count": 13
        }
      ]
    },
    {
      "cell_type": "markdown",
      "metadata": {
        "id": "JOSzbvs9SXT1"
      },
      "source": [
        "Cool, we see that all letters of the alphabet occur in the dataset (which is not really surprising) and we also extracted the special characters `\" \"` and `'`. Note that we did not exclude those special characters because: \n",
        "\n",
        "- The model has to learn to predict when a word is finished or else the model prediction would always be a sequence of chars which would make it impossible to separate words from each other.\n",
        "- From the transcriptions above it seems that words that include an apostrophe, such as `maktouf'un` do exist in Turkish, so I decided to keep the apostrophe in the dataset. This might be a wrong assumption though.\n",
        "\n",
        "One should always keep in mind that the data-preprocessing is a very important step before training your model. E.g., we don't want our model to differentiate between `a` and `A` just because we forgot to normalize the data. The difference between `a` and `A` does not depend on the \"sound\" of the letter at all, but more on grammatical rules - *e.g.* use a capitalized letter at the beginning of the sentence. So it is sensible to remove the difference between capitalized and non-capitalized letters so that the model has an easier time learning to transcribe speech. \n",
        "\n",
        "It is always advantageous to get help from a native speaker of the language you would like to transcribe to verify whether the assumptions you made are sensible, *e.g.* I should have made sure that keeping `'`, but removing other special characters is a sensible choice for Turkish. "
      ]
    },
    {
      "cell_type": "markdown",
      "metadata": {
        "id": "b1fBRCn-TRaO"
      },
      "source": [
        "To make it clearer that `\" \"` has its own token class, we give it a more visible character `|`. In addition, we also add an \"unknown\" token so that the model can later deal with characters not encountered in Common Voice's training set. \n",
        "\n",
        "Finally, we also add a padding token that corresponds to CTC's \"*blank token*\". The \"blank token\" is a core component of the CTC algorithm. For more information, please take a look at the \"Alignment\" section [here](https://distill.pub/2017/ctc/)."
      ]
    },
    {
      "cell_type": "code",
      "metadata": {
        "id": "npbIbBoLgaFX"
      },
      "source": [
        "vocab_dict[\"|\"] = vocab_dict[\" \"]\n",
        "del vocab_dict[\" \"]"
      ],
      "execution_count": 14,
      "outputs": []
    },
    {
      "cell_type": "code",
      "metadata": {
        "id": "znF0bNunsjbl",
        "colab": {
          "base_uri": "https://localhost:8080/"
        },
        "outputId": "d1db2a18-8c3d-4eb6-ff1d-003845a834a2"
      },
      "source": [
        "vocab_dict[\"[UNK]\"] = len(vocab_dict)\n",
        "vocab_dict[\"[PAD]\"] = len(vocab_dict)\n",
        "len(vocab_dict)"
      ],
      "execution_count": 15,
      "outputs": [
        {
          "output_type": "execute_result",
          "data": {
            "text/plain": [
              "64"
            ]
          },
          "metadata": {
            "tags": []
          },
          "execution_count": 15
        }
      ]
    },
    {
      "cell_type": "markdown",
      "metadata": {
        "id": "SFPGfet8U5sL"
      },
      "source": [
        "Cool, now our vocabulary is complete and consists of 39 tokens, which means that the linear layer that we will add on top of the pretrained XLSR-Wav2Vec2 checkpoint will have an output dimension of 39."
      ]
    },
    {
      "cell_type": "markdown",
      "metadata": {
        "id": "1CujRgBNVRaD"
      },
      "source": [
        "Let's now save the vocabulary as a json file."
      ]
    },
    {
      "cell_type": "code",
      "metadata": {
        "id": "ehyUoh9vk191"
      },
      "source": [
        "import json\n",
        "with open('vocab.json', 'w') as vocab_file:\n",
        "    json.dump(vocab_dict, vocab_file)"
      ],
      "execution_count": 16,
      "outputs": []
    },
    {
      "cell_type": "markdown",
      "metadata": {
        "id": "SHJDaKlIVVim"
      },
      "source": [
        "In a final step, we use the json file to instantiate an object of the `Wav2Vec2CTCTokenizer` class."
      ]
    },
    {
      "cell_type": "code",
      "metadata": {
        "id": "xriFGEWQkO4M"
      },
      "source": [
        "from transformers import Wav2Vec2CTCTokenizer\n",
        "\n",
        "tokenizer = Wav2Vec2CTCTokenizer(\"./vocab.json\", unk_token=\"[UNK]\", pad_token=\"[PAD]\", word_delimiter_token=\"|\")"
      ],
      "execution_count": 17,
      "outputs": []
    },
    {
      "cell_type": "markdown",
      "metadata": {
        "id": "KvL12DrNV4cx"
      },
      "source": [
        "Next, we will create the feature extractor."
      ]
    },
    {
      "cell_type": "markdown",
      "metadata": {
        "id": "mYcIiR2FQ96i"
      },
      "source": [
        "### Create XLSR-Wav2Vec2 Feature Extractor"
      ]
    },
    {
      "cell_type": "markdown",
      "metadata": {
        "id": "Y6mDEyW719rx"
      },
      "source": [
        "Speech is a continuous signal and to be treated by computers, it first has to be discretized, which is usually called **sampling**. The sampling rate hereby plays an important role in that it defines how many data points of the speech signal are measured per second. Therefore, sampling with a higher sampling rate results in a better approximation of the *real* speech signal but also necessitates more values per second.\n",
        "\n",
        "A pretrained checkpoint expects its input data to have been sampled more or less from the same distribution as the data it was trained on. The same speech signals sampled at two different rates have a very different distribution, *e.g.*, doubling the sampling rate results in data points being twice as long. Thus, \n",
        "before fine-tuning a pretrained checkpoint of an ASR model, it is crucial to verify that the sampling rate of the data that was used to pretrain the model matches the sampling rate of the dataset used to fine-tune the model.\n",
        "\n",
        "XLSR-Wav2Vec2 was pretrained on the audio data of [Babel](https://huggingface.co/datasets/librispeech_asr), \n",
        "[Multilingual LibriSpeech (MLS)](https://ai.facebook.com/blog/a-new-open-data-set-for-multilingual-speech-research/), and [Common Voice](https://huggingface.co/datasets/common_voice). Most of those datasets were sampled at 16kHz, so that Common Voice, sampled at 48kHz, has to be downsampled to 16kHz for training. Therefore, we will have to downsample our fine-tuning data to 16kHz in the following.\n",
        "\n"
      ]
    },
    {
      "cell_type": "markdown",
      "metadata": {
        "id": "KuUbPW7oV-B5"
      },
      "source": [
        "A XLSR-Wav2Vec2 feature extractor object requires the following parameters to be instantiated:\n",
        "\n",
        "- `feature_size`: Speech models take a sequence of feature vectors as an input. While the length of this sequence obviously varies, the feature size should not. In the case of Wav2Vec2, the feature size is 1 because the model was trained on the raw speech signal ${}^2$.\n",
        "- `sampling_rate`: The sampling rate at which the model is trained on.\n",
        "- `padding_value`: For batched inference, shorter inputs need to be padded with a specific value\n",
        "- `do_normalize`: Whether the input should be *zero-mean-unit-variance* normalized or not. Usually, speech models perform better when normalizing the input\n",
        "- `return_attention_mask`: Whether the model should make use of an `attention_mask` for batched inference. In general, XLSR-Wav2Vec2 models should **always** make use of the `attention_mask`."
      ]
    },
    {
      "cell_type": "code",
      "metadata": {
        "id": "kAR0-2KLkopp"
      },
      "source": [
        "from transformers import Wav2Vec2FeatureExtractor\n",
        "\n",
        "feature_extractor = Wav2Vec2FeatureExtractor(feature_size=1, sampling_rate=16000, padding_value=0.0, do_normalize=True, return_attention_mask=True)"
      ],
      "execution_count": 18,
      "outputs": []
    },
    {
      "cell_type": "markdown",
      "metadata": {
        "id": "qUETetgqYC3W"
      },
      "source": [
        "Great, XLSR-Wav2Vec2's feature extraction pipeline is thereby fully defined!\n",
        "\n",
        "To make the usage of XLSR-Wav2Vec2 as user-friendly as possible, the feature extractor and tokenizer are *wrapped* into a single `Wav2Vec2Processor` class so that one only needs a `model` and `processor` object."
      ]
    },
    {
      "cell_type": "code",
      "metadata": {
        "id": "KYZtoW-tlZgl"
      },
      "source": [
        "from transformers import Wav2Vec2Processor\n",
        "\n",
        "processor = Wav2Vec2Processor(feature_extractor=feature_extractor, tokenizer=tokenizer)"
      ],
      "execution_count": 19,
      "outputs": []
    },
    {
      "cell_type": "markdown",
      "metadata": {
        "id": "fTfFDSS0YfMN"
      },
      "source": [
        "If one wants to re-use the just created processor and the fine-tuned model of this notebook, one can mount his/her google drive to the notebook and save all relevant files there. To do so, please uncomment the following lines. \n",
        "\n",
        "We will give the fine-tuned model the name `\"wav2vec2-large-xlsr-turkish-demo\"`."
      ]
    },
    {
      "cell_type": "code",
      "metadata": {
        "id": "yq7Bzuzz4zjQ"
      },
      "source": [
        "# from google.colab import drive\n",
        "# drive.mount('/content/gdrive/')"
      ],
      "execution_count": 20,
      "outputs": []
    },
    {
      "cell_type": "code",
      "metadata": {
        "id": "Par9rpypPsml"
      },
      "source": [
        "processor.save_pretrained(\"/content/wav2vec2-large-xlsr-punjabi\")"
      ],
      "execution_count": 21,
      "outputs": []
    },
    {
      "cell_type": "markdown",
      "metadata": {
        "id": "DrKnYuvDIoOO"
      },
      "source": [
        "Next, we can prepare the dataset."
      ]
    },
    {
      "cell_type": "markdown",
      "metadata": {
        "id": "YFmShnl7RE35"
      },
      "source": [
        "### Preprocess Data\n",
        "\n",
        "So far, we have not looked at the actual values of the speech signal but just kept the path to its file in the dataset. `XLSR-Wav2Vec2` expects the audio file in the format of a 1-dimensional array, so in the first step, let's load all audio files into the dataset object.\n",
        "\n",
        "Let's first check the serialization format of the downloaded audio files by looking at the first training sample."
      ]
    },
    {
      "cell_type": "code",
      "metadata": {
        "colab": {
          "base_uri": "https://localhost:8080/"
        },
        "id": "TTCS7W6XJ9BG",
        "outputId": "04a548c1-ea2f-4e73-a409-a5f8b06c1ebf"
      },
      "source": [
        "common_voice_train[0]"
      ],
      "execution_count": 22,
      "outputs": [
        {
          "output_type": "execute_result",
          "data": {
            "text/plain": [
              "{'path': '/root/.cache/huggingface/datasets/downloads/extracted/ae32db89a891657bd6f67cdace1594c34a88e263c1e2c9bbc2a5f9a0db68675b/cv-corpus-6.1-2020-12-11/pa-IN/clips/common_voice_pa-IN_21916812.mp3',\n",
              " 'sentence': 'ਪੁੱਤ ਨੂੰ ਜਹਿਰ ਦੇ ਰਿਹਾ ਸੀ '}"
            ]
          },
          "metadata": {
            "tags": []
          },
          "execution_count": 22
        }
      ]
    },
    {
      "cell_type": "markdown",
      "metadata": {
        "id": "wSBIGEiaKHMn"
      },
      "source": [
        "Alright, the audio file is saved in the `.mp3` format. The `.mp3` format is usually not the easiest format to deal with. We found that the [`torchaudio`](https://pytorch.org/audio/stable/index.html) library works best for reading in `.mp3` data. \n",
        "\n",
        "An audio file usually stores both its values and the sampling rate with which the speech signal was digitalized. We want to store both in the dataset and write a `map(...)` function accordingly."
      ]
    },
    {
      "cell_type": "code",
      "metadata": {
        "id": "al9Luo4LPpwJ"
      },
      "source": [
        "import torchaudio\n",
        "\n",
        "def speech_file_to_array_fn(batch):\n",
        "    speech_array, sampling_rate = torchaudio.load(batch[\"path\"])\n",
        "    batch[\"speech\"] = speech_array[0].numpy()\n",
        "    batch[\"sampling_rate\"] = sampling_rate\n",
        "    batch[\"target_text\"] = batch[\"sentence\"]\n",
        "    return batch"
      ],
      "execution_count": 23,
      "outputs": []
    },
    {
      "cell_type": "code",
      "metadata": {
        "colab": {
          "base_uri": "https://localhost:8080/",
          "height": 116,
          "referenced_widgets": [
            "09be2c884bad416c92d73d84b1054411",
            "1412f6b222f5426d925b187760a4ab33",
            "682ec8784b1447c398941bf447a21f57",
            "81d9bd21b0764480b3477caa3015f39e",
            "8fd1b2ca3fb34efd90c1ba6a7c85af81",
            "4168209f6f8343388ab62f8057a88a9e",
            "3e0b30c38e604aafb4bd6eb2fcdb5fba",
            "d8b98bdedb5d40a294d6706d3e68a9f6",
            "1343c73580ab4eb6a8f3cc7078ca8d14",
            "92e7cf889ae841e189c7e169fe0c8455",
            "13ba227399e5407e9a3d21bd65f750bf",
            "a6107655d8444b17beb51897eb3b4d96",
            "b339cda5b4ec4e5e8d956453350abdac",
            "0b9d25f88678455187a2ac09ec9f6663",
            "c0801e528c214b14be01fcdaf746a41c",
            "ddccded60fde4e169bfaef2a0d71ba14"
          ]
        },
        "id": "afeicUeWlrRL",
        "outputId": "3b987c2a-69cb-42ba-c1b2-5cab30816a59"
      },
      "source": [
        "common_voice_train = common_voice_train.map(speech_file_to_array_fn, remove_columns=common_voice_train.column_names)\n",
        "common_voice_test = common_voice_test.map(speech_file_to_array_fn, remove_columns=common_voice_test.column_names)"
      ],
      "execution_count": 24,
      "outputs": [
        {
          "output_type": "display_data",
          "data": {
            "application/vnd.jupyter.widget-view+json": {
              "model_id": "09be2c884bad416c92d73d84b1054411",
              "version_minor": 0,
              "version_major": 2
            },
            "text/plain": [
              "HBox(children=(FloatProgress(value=0.0, max=255.0), HTML(value='')))"
            ]
          },
          "metadata": {
            "tags": []
          }
        },
        {
          "output_type": "stream",
          "text": [
            "\n"
          ],
          "name": "stdout"
        },
        {
          "output_type": "display_data",
          "data": {
            "application/vnd.jupyter.widget-view+json": {
              "model_id": "1343c73580ab4eb6a8f3cc7078ca8d14",
              "version_minor": 0,
              "version_major": 2
            },
            "text/plain": [
              "HBox(children=(FloatProgress(value=0.0, max=116.0), HTML(value='')))"
            ]
          },
          "metadata": {
            "tags": []
          }
        },
        {
          "output_type": "stream",
          "text": [
            "\n"
          ],
          "name": "stdout"
        }
      ]
    },
    {
      "cell_type": "markdown",
      "metadata": {
        "id": "ki5sXmzucc9Q"
      },
      "source": [
        "Great, now we've successfully read in all the audio files, but since we know that Common Voice is sampled at 48kHz, we need to resample the audio files to 16kHz. \n",
        "\n",
        "Let's make use of the [`librosa`](https://github.com/librosa/librosa) library to downsample the data."
      ]
    },
    {
      "cell_type": "code",
      "metadata": {
        "id": "6Y6AK3Z-kHwP"
      },
      "source": [
        "import librosa\n",
        "import numpy as np\n",
        "\n",
        "def resample(batch):\n",
        "    batch[\"speech\"] = librosa.resample(np.asarray(batch[\"speech\"]), 48_000, 16_000)\n",
        "    batch[\"sampling_rate\"] = 16_000\n",
        "    return batch"
      ],
      "execution_count": 25,
      "outputs": []
    },
    {
      "cell_type": "code",
      "metadata": {
        "colab": {
          "base_uri": "https://localhost:8080/",
          "height": 449,
          "referenced_widgets": [
            "47d97cd521004d32b2b30002528ef4e3",
            "9eb3ef773f8546fe8885a58116781c05",
            "219d0a34a3244750a23745c0256302e4",
            "d1776a11b9b44faba5e2f4b9ba084863",
            "0b0d152b5e2c4d6881c37ed60e01f6d4",
            "15b761e67ee64d7aa8022261ca72b0e5",
            "2e511823998845598f1f63203b25a147",
            "2ab58275689e4b928ecc4f3e8f5c540b",
            "82582e66734d4ff2a78f83659679a158",
            "dc2ae98befa34285845792639116cb48",
            "0ded08dc85564f9f92c95b50b2343c25",
            "4fe772f50047435aaca00a63ac2b3402",
            "535c4edc289443d5988a417e61940594",
            "3a8d37d31cd244a7a15a8b7f0acbc390",
            "76c1a20e000c422e96a6fca6ca8945e8",
            "1f04e1560c62465bb2d4a8fa591409b1",
            "19280877bafe4dfa94ad67260494af2d",
            "4e8b69c6a8a14d22a36b2f12fefb076c",
            "2a80705973cd404db732e85c46447dba",
            "15e8d4d597c740c48db57f50bf9fde32",
            "58cbab6a71b347c58b138c2bde07754f",
            "1b2a31c2587347aabb55b5ea13c3c4f7",
            "3ae8010d3a2245469d00826be2f3e24c",
            "7eef9661e51d44e28b2949ac1f27db76",
            "e649ef41cac1446784545d6edd63e8f6",
            "1a9de8bf8e3840748d895104d0778da1",
            "ef6e349c0e7748fab57a6977bbb200e3",
            "aa28f75b787e4e959079e3ae1a2f3b43",
            "037d45ba19b64012aeff90b7d7093e65",
            "ae78f45f23b743cdbbed6d8e220a8e18",
            "cb09720ffc8c4a409e3f69ade5597474",
            "2422db67f3af471dbf651a45308c3f06",
            "f9665c401eac4be3a0fc4dcdf42b49ca",
            "d1f069bb31964240af12e6474b38f3c1",
            "3079de09b8ba42e1b586f939b5dfb75a",
            "82826167723141a1931b9ecdb6524b87",
            "983b8398d5664b0192bd02836460b3ea",
            "66943bf4f83d47dc84129e7066eb5fb4",
            "d5b47cdde2e04129a5af19b0b3b1a888",
            "24dcc034fe754d5f9085301d2f8a1272",
            "4fda2701541049da84ab646405a4e0ad",
            "89e8e6d4589f470a84d89451213adada",
            "679a4003e9f14bc38abfc03dca8c8e37",
            "6cd26303324548f0bcb1b2bc0ea5dd7d",
            "c70598d92c3c4e549be7bdfd292897e8",
            "ed6b1e2cb24244d78fca3e0e6239c228",
            "668dda689b0544f09708202b27db6b24",
            "d013bcda78bb4e02aec4e777dee14905",
            "ee78cb3d385144849b0c1b13aef827de",
            "0df298be13c44905b0cf8eb6d6c1f14f",
            "cccd5f0842de451d8d29c62a13551ef5",
            "d0db711676c34f0a8400b7aaf7584846",
            "585af55b4c044cfb94f62f17a16f8717",
            "8c52a4b396e442adbb14b9f0ba9be7a1",
            "6e10dcc0406e41fe9000b20cfa903d1e",
            "c22294ee2e42459b82a1d007a1538f56",
            "3f49614a5034446c929cb3adabbe4089",
            "1b77b1ca7294431a91d1a390ba81b59e",
            "4532d328a6034a6fa5642be6eefa290d",
            "7f0b0b940bdc4e8f9a01ca14ba5a20cf",
            "b4254cd010f040dcb8d49c536a87b1d5",
            "d740c17b3d3f45708bb9eee2882afca8",
            "feb460d5eb4e4f71b79172af5c0c0ff1",
            "236229b2b9de4dc7a18dd84d640e3100"
          ]
        },
        "id": "Ws8DyIL_kjwT",
        "outputId": "cdec85d4-a091-41c2-9d37-d42349bf52e7"
      },
      "source": [
        "common_voice_train = common_voice_train.map(resample, num_proc=4)\n",
        "common_voice_test = common_voice_test.map(resample, num_proc=4)"
      ],
      "execution_count": 26,
      "outputs": [
        {
          "output_type": "stream",
          "text": [
            "    "
          ],
          "name": "stdout"
        },
        {
          "output_type": "display_data",
          "data": {
            "application/vnd.jupyter.widget-view+json": {
              "model_id": "47d97cd521004d32b2b30002528ef4e3",
              "version_minor": 0,
              "version_major": 2
            },
            "text/plain": [
              "HBox(children=(FloatProgress(value=0.0, description='#1', max=64.0, style=ProgressStyle(description_width='ini…"
            ]
          },
          "metadata": {
            "tags": []
          }
        },
        {
          "output_type": "display_data",
          "data": {
            "application/vnd.jupyter.widget-view+json": {
              "model_id": "82582e66734d4ff2a78f83659679a158",
              "version_minor": 0,
              "version_major": 2
            },
            "text/plain": [
              "HBox(children=(FloatProgress(value=0.0, description='#3', max=63.0, style=ProgressStyle(description_width='ini…"
            ]
          },
          "metadata": {
            "tags": []
          }
        },
        {
          "output_type": "display_data",
          "data": {
            "application/vnd.jupyter.widget-view+json": {
              "model_id": "19280877bafe4dfa94ad67260494af2d",
              "version_minor": 0,
              "version_major": 2
            },
            "text/plain": [
              "HBox(children=(FloatProgress(value=0.0, description='#2', max=64.0, style=ProgressStyle(description_width='ini…"
            ]
          },
          "metadata": {
            "tags": []
          }
        },
        {
          "output_type": "display_data",
          "data": {
            "application/vnd.jupyter.widget-view+json": {
              "model_id": "e649ef41cac1446784545d6edd63e8f6",
              "version_minor": 0,
              "version_major": 2
            },
            "text/plain": [
              "HBox(children=(FloatProgress(value=0.0, description='#0', max=64.0, style=ProgressStyle(description_width='ini…"
            ]
          },
          "metadata": {
            "tags": []
          }
        },
        {
          "output_type": "stream",
          "text": [
            "\n",
            "\n",
            "\n",
            "\n",
            "    "
          ],
          "name": "stdout"
        },
        {
          "output_type": "display_data",
          "data": {
            "application/vnd.jupyter.widget-view+json": {
              "model_id": "f9665c401eac4be3a0fc4dcdf42b49ca",
              "version_minor": 0,
              "version_major": 2
            },
            "text/plain": [
              "HBox(children=(FloatProgress(value=0.0, description='#0', max=29.0, style=ProgressStyle(description_width='ini…"
            ]
          },
          "metadata": {
            "tags": []
          }
        },
        {
          "output_type": "display_data",
          "data": {
            "application/vnd.jupyter.widget-view+json": {
              "model_id": "4fda2701541049da84ab646405a4e0ad",
              "version_minor": 0,
              "version_major": 2
            },
            "text/plain": [
              "HBox(children=(FloatProgress(value=0.0, description='#1', max=29.0, style=ProgressStyle(description_width='ini…"
            ]
          },
          "metadata": {
            "tags": []
          }
        },
        {
          "output_type": "display_data",
          "data": {
            "application/vnd.jupyter.widget-view+json": {
              "model_id": "ee78cb3d385144849b0c1b13aef827de",
              "version_minor": 0,
              "version_major": 2
            },
            "text/plain": [
              "HBox(children=(FloatProgress(value=0.0, description='#2', max=29.0, style=ProgressStyle(description_width='ini…"
            ]
          },
          "metadata": {
            "tags": []
          }
        },
        {
          "output_type": "display_data",
          "data": {
            "application/vnd.jupyter.widget-view+json": {
              "model_id": "3f49614a5034446c929cb3adabbe4089",
              "version_minor": 0,
              "version_major": 2
            },
            "text/plain": [
              "HBox(children=(FloatProgress(value=0.0, description='#3', max=29.0, style=ProgressStyle(description_width='ini…"
            ]
          },
          "metadata": {
            "tags": []
          }
        },
        {
          "output_type": "stream",
          "text": [
            "\n",
            "\n",
            "\n",
            "\n"
          ],
          "name": "stdout"
        }
      ]
    },
    {
      "cell_type": "markdown",
      "metadata": {
        "id": "SOckzFd4Mbzq"
      },
      "source": [
        "This seemed to have worked! Let's listen to a couple of audio files to better understand the dataset and verify that the audio was correctly loaded. \n",
        "\n",
        "**Note**: *You can click the following cell a couple of times to listen to different speech samples.*"
      ]
    },
    {
      "cell_type": "code",
      "metadata": {
        "colab": {
          "base_uri": "https://localhost:8080/",
          "height": 75
        },
        "id": "dueM6U7Ev0OA",
        "outputId": "7ccb431e-b220-436f-bc38-16fbc8b1748c"
      },
      "source": [
        "import IPython.display as ipd\n",
        "import numpy as np\n",
        "import random\n",
        "\n",
        "rand_int = random.randint(0, len(common_voice_train)-1)\n",
        "\n",
        "ipd.Audio(data=np.asarray(common_voice_train[rand_int][\"speech\"]), autoplay=True, rate=16000)"
      ],
      "execution_count": 27,
      "outputs": [
        {
          "output_type": "execute_result",
          "data": {
            "text/html": [
              "\n",
              "                <audio controls=\"controls\" autoplay=\"autoplay\">\n",
              "                    <source src=\"data:audio/wav;base64,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\" type=\"audio/wav\" />\n",
              "                    Your browser does not support the audio element.\n",
              "                </audio>\n",
              "              "
            ],
            "text/plain": [
              "<IPython.lib.display.Audio object>"
            ]
          },
          "metadata": {
            "tags": []
          },
          "execution_count": 27
        }
      ]
    },
    {
      "cell_type": "markdown",
      "metadata": {
        "id": "1MaL9J2dNVtG"
      },
      "source": [
        "It can be heard, that the speakers change along with their speaking rate, accent, and background environment, etc. Overall, the recordings sound acceptably clear though, which is to be expected from a crowd-sourced read speech corpus.\n",
        "\n",
        "Let's do a final check that the data is correctly prepared, by printing the shape of the speech input, its transcription, and the corresponding sampling rate.\n",
        "\n",
        "**Note**: *You can click the following cell a couple of times to verify multiple samples.*"
      ]
    },
    {
      "cell_type": "code",
      "metadata": {
        "colab": {
          "base_uri": "https://localhost:8080/"
        },
        "id": "1Po2g7YPuRTx",
        "outputId": "a874cecd-0f32-4747-e4fe-60516338967e"
      },
      "source": [
        "rand_int = random.randint(0, len(common_voice_train)-1)\n",
        "\n",
        "print(\"Target text:\", common_voice_train[rand_int][\"target_text\"])\n",
        "print(\"Input array shape:\", np.asarray(common_voice_train[rand_int][\"speech\"]).shape)\n",
        "print(\"Sampling rate:\", common_voice_train[rand_int][\"sampling_rate\"])"
      ],
      "execution_count": 28,
      "outputs": [
        {
          "output_type": "stream",
          "text": [
            "Target text: ਪਰ ਚੌਧਰੀਆਂ ਦੇ ਬੈਂਕ ਬੈਲੰਸ ਨੂੰ ਉੱਚਾ ਉਠਾਇਆ \n",
            "Input array shape: (81024,)\n",
            "Sampling rate: 16000\n"
          ],
          "name": "stdout"
        }
      ]
    },
    {
      "cell_type": "markdown",
      "metadata": {
        "id": "M9teZcSwOBJ4"
      },
      "source": [
        "Good! Everything looks fine - the data is a 1-dimensional array, the sampling rate always corresponds to 16kHz, and the target text is normalized."
      ]
    },
    {
      "cell_type": "markdown",
      "metadata": {
        "id": "k3Pbn5WvOYZF"
      },
      "source": [
        "Finally, we can process the dataset to the format expected by the model for training. We will again make use of the `map(...)` function.\n",
        "\n",
        "First, we check that the data samples have the same sampling rate of 16kHz.\n",
        "Second, we extract the `input_values` from the loaded audio file. In our case, this includes only normalization, but for other speech models, this step could correspond to extracting, *e.g.* [Log-Mel features](https://en.wikipedia.org/wiki/Mel-frequency_cepstrum). \n",
        "Third, we encode the transcriptions to label ids.\n",
        "\n",
        "**Note**: This mapping function is a good example of how the `Wav2Vec2Processor` class should be used. In \"normal\" context, calling `processor(...)` is redirected to `Wav2Vec2FeatureExtractor`'s call method. When wrapping the processor into the `as_target_processor` context, however, the same method is redirected to `Wav2Vec2CTCTokenizer`'s call method.\n",
        "For more information please check the [docs](https://huggingface.co/transformers/master/model_doc/wav2vec2.html#transformers.Wav2Vec2Processor.__call__)."
      ]
    },
    {
      "cell_type": "code",
      "metadata": {
        "id": "eJY7I0XAwe9p"
      },
      "source": [
        "def prepare_dataset(batch):\n",
        "    # check that all files have the correct sampling rate\n",
        "    assert (\n",
        "        len(set(batch[\"sampling_rate\"])) == 1\n",
        "    ), f\"Make sure all inputs have the same sampling rate of {processor.feature_extractor.sampling_rate}.\"\n",
        "\n",
        "    batch[\"input_values\"] = processor(batch[\"speech\"], sampling_rate=batch[\"sampling_rate\"][0]).input_values\n",
        "    \n",
        "    with processor.as_target_processor():\n",
        "        batch[\"labels\"] = processor(batch[\"target_text\"]).input_ids\n",
        "    return batch"
      ],
      "execution_count": 29,
      "outputs": []
    },
    {
      "cell_type": "code",
      "metadata": {
        "colab": {
          "base_uri": "https://localhost:8080/",
          "height": 504,
          "referenced_widgets": [
            "64b97061516c488391d5cad07b38f04e",
            "461c8da6840146e4996c7f2ab44a2228",
            "956d3db5146d4b60a96d107171b5254a",
            "3ad8bec4e2a441d498a06c1f6f065bf4",
            "55d3e1a0ac444bb6be665e2ca59eda7d",
            "b18e962f3fbe42adb776b97af5801cdd",
            "c41a185f3eba4aa4a644f5ae5c0e0ee7",
            "e168cb3421094bc7be38ed21c5f4e620",
            "a6a7078da9154488823b71ad6b57d3d2",
            "8d366e96f112489ab10cfa6730fb34c2",
            "0a700e58db264dfa9c037d30b46f5276",
            "b550eb8ca4e944919f899a046faf2a4e",
            "61bb316a447c47ffadcdcd4f3d224405",
            "10135d21fe754c4da0128598520d3405",
            "2d7f918f59314f9089a4a5b391e518b5",
            "d38e1e6051004812a2be096d8e14a429",
            "86a24ab720614218a79ec6a0857a6362",
            "a7bbae7810ef4d6ab0e232f4c193b824",
            "11eb3eb53d9d4427b71993c08aec6233",
            "86e76f19ac9d4d3191ee03bcdba3391d",
            "e964b44ae9164e8f9389cc10f57c2c8a",
            "a14a5269e43a40a7912a53bfe9407c0e",
            "7768dfbbd0974824b1e20cca690686a1",
            "5ffa55c0a7c14cdc9b7aaf1c9357aab9",
            "9f7e03456bca45e699e1a147ba587820",
            "d1a951e2811d4cb280f0abc4ecc825f9",
            "fb1f2f209cf54860aa44a3c724916787",
            "567bcdfa18274bf0babb784edda74a54",
            "7cccb4b28e044e61824f6e68dee73634",
            "b1331e43cb0e49dab8c38c1d7019f3ec",
            "94bf229030ec44f2828e774b2d0a8adb",
            "ba9754c053ed41ee8843d7498891cb84",
            "b74f991f52c245e6a649286eff7c9c3e",
            "5492d59748604bb69b8f8dd550b49700",
            "536c460aaff04229a79755f9b1d1af32",
            "9fc63ba873ac43cabae528513de0a19f",
            "6ccbbba9724049728953e08ff9b18dae",
            "3e043ecec2f5408d81bc1f9c28b4edf7",
            "ecfd363f28584cdf8eca151e2eb83f9b",
            "d9813b18e696495183ff370a4ff9d1ee",
            "28c83c846cad431b8b7bb8ca35f0d1be",
            "b61702c38d4a4e4c803a7d3e726a6525",
            "02017401e1624a69a1117b627f096f67",
            "f0651d4581c347a4b95585952e858f61",
            "c2cc8e2aa62f47f08b1ed432825c0999",
            "bd17aa5ac87f424697bcb357fc5f3240",
            "db09dde744b94f27b6295fa6b91358be",
            "23f14284c43648f5b0e0d1888b3bc708",
            "688387a4cc6542c5be54dd96c4af8b98",
            "7649c7cb131d42d5b4f180dc59c481c8",
            "666edc33bc8a49a4be5127ed038d25ae",
            "913bc2cfb3144013a2e6be0f32960913",
            "bed62f93cddb450583e361a0141581d8",
            "d288b1ba4f9849b393566962a7ba3cbc",
            "50f6db6ca77f499c9eaefd38aafa14a3",
            "f3de81aed18041ebbdd3f680c52a6e74",
            "fae82818b0804c84921c3f634a4cfd20",
            "b125991be1904ba6a8f09325cac83d2c",
            "09186bd54f364f7084557d1e972c8399",
            "c37cf955e2f541dc91735f7749318f87",
            "919d013b0c3d4ec9be3bcd212e439ad4",
            "bf34154169de49a78590e82af91e1b3b",
            "5332a57c683e4ac5b0cf3e41aa00a5e8",
            "e5efe076854c44faa3ea75d1fdb08662"
          ]
        },
        "id": "-np9xYK-wl8q",
        "outputId": "adcbe2fb-65ed-4dd9-d7a0-2eac8ecd4657"
      },
      "source": [
        "common_voice_train = common_voice_train.map(prepare_dataset, remove_columns=common_voice_train.column_names, batch_size=8, num_proc=4, batched=True)\n",
        "common_voice_test = common_voice_test.map(prepare_dataset, remove_columns=common_voice_test.column_names, batch_size=8, num_proc=4, batched=True)"
      ],
      "execution_count": 30,
      "outputs": [
        {
          "output_type": "stream",
          "text": [
            "/usr/local/lib/python3.7/dist-packages/numpy/core/_asarray.py:83: VisibleDeprecationWarning: Creating an ndarray from ragged nested sequences (which is a list-or-tuple of lists-or-tuples-or ndarrays with different lengths or shapes) is deprecated. If you meant to do this, you must specify 'dtype=object' when creating the ndarray\n",
            "  return array(a, dtype, copy=False, order=order)\n"
          ],
          "name": "stderr"
        },
        {
          "output_type": "stream",
          "text": [
            "    "
          ],
          "name": "stdout"
        },
        {
          "output_type": "display_data",
          "data": {
            "application/vnd.jupyter.widget-view+json": {
              "model_id": "64b97061516c488391d5cad07b38f04e",
              "version_minor": 0,
              "version_major": 2
            },
            "text/plain": [
              "HBox(children=(FloatProgress(value=0.0, description='#1', max=8.0, style=ProgressStyle(description_width='init…"
            ]
          },
          "metadata": {
            "tags": []
          }
        },
        {
          "output_type": "display_data",
          "data": {
            "application/vnd.jupyter.widget-view+json": {
              "model_id": "a6a7078da9154488823b71ad6b57d3d2",
              "version_minor": 0,
              "version_major": 2
            },
            "text/plain": [
              "HBox(children=(FloatProgress(value=0.0, description='#0', max=8.0, style=ProgressStyle(description_width='init…"
            ]
          },
          "metadata": {
            "tags": []
          }
        },
        {
          "output_type": "display_data",
          "data": {
            "application/vnd.jupyter.widget-view+json": {
              "model_id": "86a24ab720614218a79ec6a0857a6362",
              "version_minor": 0,
              "version_major": 2
            },
            "text/plain": [
              "HBox(children=(FloatProgress(value=0.0, description='#2', max=8.0, style=ProgressStyle(description_width='init…"
            ]
          },
          "metadata": {
            "tags": []
          }
        },
        {
          "output_type": "display_data",
          "data": {
            "application/vnd.jupyter.widget-view+json": {
              "model_id": "9f7e03456bca45e699e1a147ba587820",
              "version_minor": 0,
              "version_major": 2
            },
            "text/plain": [
              "HBox(children=(FloatProgress(value=0.0, description='#3', max=8.0, style=ProgressStyle(description_width='init…"
            ]
          },
          "metadata": {
            "tags": []
          }
        },
        {
          "output_type": "stream",
          "text": [
            "\n",
            "\n",
            "\n",
            "\n",
            "    "
          ],
          "name": "stdout"
        },
        {
          "output_type": "display_data",
          "data": {
            "application/vnd.jupyter.widget-view+json": {
              "model_id": "b74f991f52c245e6a649286eff7c9c3e",
              "version_minor": 0,
              "version_major": 2
            },
            "text/plain": [
              "HBox(children=(FloatProgress(value=0.0, description='#0', max=4.0, style=ProgressStyle(description_width='init…"
            ]
          },
          "metadata": {
            "tags": []
          }
        },
        {
          "output_type": "display_data",
          "data": {
            "application/vnd.jupyter.widget-view+json": {
              "model_id": "28c83c846cad431b8b7bb8ca35f0d1be",
              "version_minor": 0,
              "version_major": 2
            },
            "text/plain": [
              "HBox(children=(FloatProgress(value=0.0, description='#1', max=4.0, style=ProgressStyle(description_width='init…"
            ]
          },
          "metadata": {
            "tags": []
          }
        },
        {
          "output_type": "display_data",
          "data": {
            "application/vnd.jupyter.widget-view+json": {
              "model_id": "688387a4cc6542c5be54dd96c4af8b98",
              "version_minor": 0,
              "version_major": 2
            },
            "text/plain": [
              "HBox(children=(FloatProgress(value=0.0, description='#2', max=4.0, style=ProgressStyle(description_width='init…"
            ]
          },
          "metadata": {
            "tags": []
          }
        },
        {
          "output_type": "display_data",
          "data": {
            "application/vnd.jupyter.widget-view+json": {
              "model_id": "fae82818b0804c84921c3f634a4cfd20",
              "version_minor": 0,
              "version_major": 2
            },
            "text/plain": [
              "HBox(children=(FloatProgress(value=0.0, description='#3', max=4.0, style=ProgressStyle(description_width='init…"
            ]
          },
          "metadata": {
            "tags": []
          }
        },
        {
          "output_type": "stream",
          "text": [
            "\n",
            "\n",
            "\n",
            "\n"
          ],
          "name": "stdout"
        }
      ]
    },
    {
      "cell_type": "markdown",
      "metadata": {
        "id": "gYlQkKVoRUos"
      },
      "source": [
        "## Training\n",
        "\n",
        "The data is processed so that we are ready to start setting up the training pipeline. We will make use of 🤗's [Trainer](https://huggingface.co/transformers/master/main_classes/trainer.html?highlight=trainer) for which we essentially need to do the following:\n",
        "\n",
        "- Define a data collator. In contrast to most NLP models, XLSR-Wav2Vec2 has a much larger input length than output length. *E.g.*, a sample of input length 50000 has an output length of no more than 100. Given the large input sizes, it is much more efficient to pad the training batches dynamically meaning that all training samples should only be padded to the longest sample in their batch and not the overall longest sample. Therefore, fine-tuning XLSR-Wav2Vec2 requires a special padding data collator, which we will define below\n",
        "\n",
        "- Evaluation metric. During training, the model should be evaluated on the word error rate. We should define a `compute_metrics` function accordingly\n",
        "\n",
        "- Load a pretrained checkpoint. We need to load a pretrained checkpoint and configure it correctly for training.\n",
        "\n",
        "- Define the training configuration.\n",
        "\n",
        "After having fine-tuned the model, we will correctly evaluate it on the test data and verify that it has indeed learned to correctly transcribe speech."
      ]
    },
    {
      "cell_type": "markdown",
      "metadata": {
        "id": "Slk403unUS91"
      },
      "source": [
        "### Set-up Trainer\n",
        "\n",
        "Let's start by defining the data collator. The code for the data collator was copied from [this example](https://github.com/huggingface/transformers/blob/9a06b6b11bdfc42eea08fa91d0c737d1863c99e3/examples/research_projects/wav2vec2/run_asr.py#L81).\n",
        "\n",
        "Without going into too many details, in contrast to the common data collators, this data collator treats the `input_values` and `labels` differently and thus applies to separate padding functions on them (again making use of XLSR-Wav2Vec2's context manager). This is necessary because in speech input and output are of different modalities meaning that they should not be treated by the same padding function.\n",
        "Analogous to the common data collators, the padding tokens in the labels with `-100` so that those tokens are **not** taken into account when computing the loss."
      ]
    },
    {
      "cell_type": "code",
      "metadata": {
        "id": "tborvC9hx88e"
      },
      "source": [
        "import torch\n",
        "\n",
        "from dataclasses import dataclass, field\n",
        "from typing import Any, Dict, List, Optional, Union\n",
        "\n",
        "@dataclass\n",
        "class DataCollatorCTCWithPadding:\n",
        "    \"\"\"\n",
        "    Data collator that will dynamically pad the inputs received.\n",
        "    Args:\n",
        "        processor (:class:`~transformers.Wav2Vec2Processor`)\n",
        "            The processor used for proccessing the data.\n",
        "        padding (:obj:`bool`, :obj:`str` or :class:`~transformers.tokenization_utils_base.PaddingStrategy`, `optional`, defaults to :obj:`True`):\n",
        "            Select a strategy to pad the returned sequences (according to the model's padding side and padding index)\n",
        "            among:\n",
        "            * :obj:`True` or :obj:`'longest'`: Pad to the longest sequence in the batch (or no padding if only a single\n",
        "              sequence if provided).\n",
        "            * :obj:`'max_length'`: Pad to a maximum length specified with the argument :obj:`max_length` or to the\n",
        "              maximum acceptable input length for the model if that argument is not provided.\n",
        "            * :obj:`False` or :obj:`'do_not_pad'` (default): No padding (i.e., can output a batch with sequences of\n",
        "              different lengths).\n",
        "        max_length (:obj:`int`, `optional`):\n",
        "            Maximum length of the ``input_values`` of the returned list and optionally padding length (see above).\n",
        "        max_length_labels (:obj:`int`, `optional`):\n",
        "            Maximum length of the ``labels`` returned list and optionally padding length (see above).\n",
        "        pad_to_multiple_of (:obj:`int`, `optional`):\n",
        "            If set will pad the sequence to a multiple of the provided value.\n",
        "            This is especially useful to enable the use of Tensor Cores on NVIDIA hardware with compute capability >=\n",
        "            7.5 (Volta).\n",
        "    \"\"\"\n",
        "\n",
        "    processor: Wav2Vec2Processor\n",
        "    padding: Union[bool, str] = True\n",
        "    max_length: Optional[int] = None\n",
        "    max_length_labels: Optional[int] = None\n",
        "    pad_to_multiple_of: Optional[int] = None\n",
        "    pad_to_multiple_of_labels: Optional[int] = None\n",
        "\n",
        "    def __call__(self, features: List[Dict[str, Union[List[int], torch.Tensor]]]) -> Dict[str, torch.Tensor]:\n",
        "        # split inputs and labels since they have to be of different lenghts and need\n",
        "        # different padding methods\n",
        "        input_features = [{\"input_values\": feature[\"input_values\"]} for feature in features]\n",
        "        label_features = [{\"input_ids\": feature[\"labels\"]} for feature in features]\n",
        "\n",
        "        batch = self.processor.pad(\n",
        "            input_features,\n",
        "            padding=self.padding,\n",
        "            max_length=self.max_length,\n",
        "            pad_to_multiple_of=self.pad_to_multiple_of,\n",
        "            return_tensors=\"pt\",\n",
        "        )\n",
        "        with self.processor.as_target_processor():\n",
        "            labels_batch = self.processor.pad(\n",
        "                label_features,\n",
        "                padding=self.padding,\n",
        "                max_length=self.max_length_labels,\n",
        "                pad_to_multiple_of=self.pad_to_multiple_of_labels,\n",
        "                return_tensors=\"pt\",\n",
        "            )\n",
        "\n",
        "        # replace padding with -100 to ignore loss correctly\n",
        "        labels = labels_batch[\"input_ids\"].masked_fill(labels_batch.attention_mask.ne(1), -100)\n",
        "\n",
        "        batch[\"labels\"] = labels\n",
        "\n",
        "        return batch"
      ],
      "execution_count": 31,
      "outputs": []
    },
    {
      "cell_type": "code",
      "metadata": {
        "id": "lbQf5GuZyQ4_"
      },
      "source": [
        "data_collator = DataCollatorCTCWithPadding(processor=processor, padding=True)"
      ],
      "execution_count": 32,
      "outputs": []
    },
    {
      "cell_type": "markdown",
      "metadata": {
        "id": "xO-Zdj-5cxXp"
      },
      "source": [
        "Next, the evaluation metric is defined. As mentioned earlier, the \n",
        "predominant metric in ASR is the word error rate (WER), hence we will use it in this notebook as well."
      ]
    },
    {
      "cell_type": "code",
      "metadata": {
        "id": "9Xsux2gmyXso",
        "colab": {
          "base_uri": "https://localhost:8080/",
          "height": 67,
          "referenced_widgets": [
            "467bdf98627b430e9d2f78e3cdd91cbe",
            "146df23b076d4ff89d273b1f7b6e0b99",
            "0bd0c615ac3b4dbda3dcc6dc5865fccd",
            "89e2d7a82a82460da9cf20b8515471eb",
            "d9c6578d0a784d2ebc52777c04dafca6",
            "120a7fba7f264b968509fd97debc7926",
            "13fd5bc0966e4015a091d2180058100e",
            "1c33a4d6db6d4f7ab109e2e2e0a35af7"
          ]
        },
        "outputId": "4ff874d6-b221-4d10-cca8-182c49d4f342"
      },
      "source": [
        "wer_metric = load_metric(\"wer\")"
      ],
      "execution_count": 33,
      "outputs": [
        {
          "output_type": "display_data",
          "data": {
            "application/vnd.jupyter.widget-view+json": {
              "model_id": "467bdf98627b430e9d2f78e3cdd91cbe",
              "version_minor": 0,
              "version_major": 2
            },
            "text/plain": [
              "HBox(children=(FloatProgress(value=0.0, description='Downloading', max=1764.0, style=ProgressStyle(description…"
            ]
          },
          "metadata": {
            "tags": []
          }
        },
        {
          "output_type": "stream",
          "text": [
            "\n"
          ],
          "name": "stdout"
        }
      ]
    },
    {
      "cell_type": "markdown",
      "metadata": {
        "id": "E1qZU5p-deqB"
      },
      "source": [
        "The model will return a sequence of logit vectors:\n",
        "$\\mathbf{y}_1, \\ldots, \\mathbf{y}_m$ with $\\mathbf{y}_1 = f_{\\theta}(x_1, \\ldots, x_n)[0]$ and $n >> m$.\n",
        "\n",
        "A logit vector $\\mathbf{y}_1$ contains the log-odds for each word in the vocabulary we defined earlier, thus $\\text{len}(\\mathbf{y}_i) =$ `config.vocab_size`. We are interested in the most likely prediction of the model and thus take the `argmax(...)` of the logits. Also, we transform the encoded labels back to the original string by replacing `-100` with the `pad_token_id` and decoding the ids while making sure that consecutive tokens are **not** grouped to the same token in CTC style ${}^1$."
      ]
    },
    {
      "cell_type": "code",
      "metadata": {
        "id": "1XZ-kjweyTy_"
      },
      "source": [
        "def compute_metrics(pred):\n",
        "    pred_logits = pred.predictions\n",
        "    pred_ids = np.argmax(pred_logits, axis=-1)\n",
        "\n",
        "    pred.label_ids[pred.label_ids == -100] = processor.tokenizer.pad_token_id\n",
        "\n",
        "    pred_str = processor.batch_decode(pred_ids)\n",
        "    # we do not want to group tokens when computing the metrics\n",
        "    label_str = processor.batch_decode(pred.label_ids, group_tokens=False)\n",
        "\n",
        "    wer = wer_metric.compute(predictions=pred_str, references=label_str)\n",
        "\n",
        "    return {\"wer\": wer}"
      ],
      "execution_count": 34,
      "outputs": []
    },
    {
      "cell_type": "markdown",
      "metadata": {
        "id": "Xmgrx4bRwLIH"
      },
      "source": [
        "Now, we can load the pretrained `XLSR-Wav2Vec2` checkpoint. The tokenizer's `pad_token_id` must be to define the model's `pad_token_id` or in the case of `Wav2Vec2ForCTC` also CTC's *blank token* ${}^2$. To save GPU memory, we enable PyTorch's [gradient checkpointing](https://pytorch.org/docs/stable/checkpoint.html) and also set the loss reduction to \"*mean*\".\n",
        "\n",
        "Because the dataset is quite small (~6h of training data) and because Common Voice is quite noisy, fine-tuning Facebook's [wav2vec2-large-xlsr-53 checkpoint](https://huggingface.co/facebook/wav2vec2-large-xlsr-53) seems to require some hyper-parameter tuning. Therefore, I had to play around a bit with different values for dropout, [SpecAugment](https://arxiv.org/abs/1904.08779)'s masking dropout rate, layer dropout, and the learning rate until training seemed to be stable enough. \n",
        "\n",
        "**Note**: When using this notebook to train XLSR-Wav2Vec2 on another language of Common Voice those hyper-parameter settings might not work very well. Feel free to adapt those depending on your use case. "
      ]
    },
    {
      "cell_type": "code",
      "metadata": {
        "colab": {
          "base_uri": "https://localhost:8080/",
          "height": 171,
          "referenced_widgets": [
            "d648d701e021439692fb0a6dc07d6642",
            "7b51c539aae044b1895daaac215be4ad",
            "1275a9589c584ce79bf7a0dcb4a445bd",
            "66009caacda942cdb1fcdd0feb6c2b74",
            "0a6d0feaa32442239c518081059fad55",
            "58b5132bf6a44073a6a5177da6f1e9cf",
            "69fc9d0fae6e48cfbcffbbfa64bf0a22",
            "a1a5455e81fc45e5a30ffef27293af0e",
            "63d7bf212b62461890bd842809a30d81",
            "9e63869c864040c285487910943891d4",
            "3c193e1e6e2644fa9485e615d2aa467a",
            "0f3d71c9085e4be2b5c13e9aac0523ae",
            "a60e9d288d5a40e5a7b9b3454c8c3790",
            "9d5bf61617db452f93074edecf837442",
            "0bbb2919352a47e09cb4c0500f1a9842",
            "70d3dec29ec04eb59cf94b29b2ad48b2"
          ]
        },
        "id": "e7cqAWIayn6w",
        "outputId": "1e73052a-36cd-4ed3-85e6-60c346455701"
      },
      "source": [
        "from transformers import Wav2Vec2ForCTC\n",
        "\n",
        "model = Wav2Vec2ForCTC.from_pretrained(\n",
        "    \"facebook/wav2vec2-large-xlsr-53\", \n",
        "    attention_dropout=0.1,\n",
        "    hidden_dropout=0.1,\n",
        "    feat_proj_dropout=0.0,\n",
        "    mask_time_prob=0.05,\n",
        "    layerdrop=0.1,\n",
        "    gradient_checkpointing=True, \n",
        "    ctc_loss_reduction=\"mean\", \n",
        "    pad_token_id=processor.tokenizer.pad_token_id,\n",
        "    vocab_size=len(processor.tokenizer)\n",
        ")"
      ],
      "execution_count": 35,
      "outputs": [
        {
          "output_type": "display_data",
          "data": {
            "application/vnd.jupyter.widget-view+json": {
              "model_id": "d648d701e021439692fb0a6dc07d6642",
              "version_minor": 0,
              "version_major": 2
            },
            "text/plain": [
              "HBox(children=(FloatProgress(value=0.0, description='Downloading', max=1451.0, style=ProgressStyle(description…"
            ]
          },
          "metadata": {
            "tags": []
          }
        },
        {
          "output_type": "stream",
          "text": [
            "\n"
          ],
          "name": "stdout"
        },
        {
          "output_type": "display_data",
          "data": {
            "application/vnd.jupyter.widget-view+json": {
              "model_id": "63d7bf212b62461890bd842809a30d81",
              "version_minor": 0,
              "version_major": 2
            },
            "text/plain": [
              "HBox(children=(FloatProgress(value=0.0, description='Downloading', max=1261920069.0, style=ProgressStyle(descr…"
            ]
          },
          "metadata": {
            "tags": []
          }
        },
        {
          "output_type": "stream",
          "text": [
            "\n"
          ],
          "name": "stdout"
        },
        {
          "output_type": "stream",
          "text": [
            "Some weights of Wav2Vec2ForCTC were not initialized from the model checkpoint at facebook/wav2vec2-large-xlsr-53 and are newly initialized: ['lm_head.weight', 'lm_head.bias']\n",
            "You should probably TRAIN this model on a down-stream task to be able to use it for predictions and inference.\n"
          ],
          "name": "stderr"
        }
      ]
    },
    {
      "cell_type": "markdown",
      "metadata": {
        "id": "1DwR3XLSzGDD"
      },
      "source": [
        "The first component of XLSR-Wav2Vec2 consists of a stack of CNN layers that are used to extract acoustically meaningful - but contextually independent - features from the raw speech signal. This part of the model has already been sufficiently trained during pretraining and as stated in the [paper](https://arxiv.org/pdf/2006.13979.pdf) does not need to be fine-tuned anymore. \n",
        "Thus, we can set the `requires_grad` to `False` for all parameters of the *feature extraction* part."
      ]
    },
    {
      "cell_type": "code",
      "metadata": {
        "id": "oGI8zObtZ3V0"
      },
      "source": [
        "model.freeze_feature_extractor()"
      ],
      "execution_count": 36,
      "outputs": []
    },
    {
      "cell_type": "markdown",
      "metadata": {
        "id": "lD4aGhQM0K-D"
      },
      "source": [
        "In a final step, we define all parameters related to training. \n",
        "To give more explanation on some of the parameters:\n",
        "- `group_by_length` makes training more efficient by grouping training samples of similar input length into one batch. This can significantly speed up training time by heavily reducing the overall number of useless padding tokens that are passed through the model\n",
        "- `learning_rate` and `weight_decay` were heuristically tuned until fine-tuning has become stable. Note that those parameters strongly depend on the Common Voice dataset and might be suboptimal for other speech datasets.\n",
        "\n",
        "For more explanations on other parameters, one can take a look at the [docs](https://huggingface.co/transformers/master/main_classes/trainer.html?highlight=trainer#trainingarguments).\n",
        "\n",
        "**Note**: If one wants to save the trained models in his/her google drive the commented-out `output_dir` can be used instead."
      ]
    },
    {
      "cell_type": "code",
      "metadata": {
        "id": "KbeKSV7uzGPP"
      },
      "source": [
        "from transformers import TrainingArguments\n",
        "\n",
        "training_args = TrainingArguments(\n",
        "  output_dir=\"./wav2vec2-large-xlsr-punjabi\",\n",
        "  group_by_length=True,\n",
        "  per_device_train_batch_size=16,\n",
        "  gradient_accumulation_steps=2,\n",
        "  evaluation_strategy=\"steps\",\n",
        "  num_train_epochs=500,\n",
        "  fp16=True,\n",
        "  save_steps=-1,\n",
        "  eval_steps=100,\n",
        "  logging_steps=100,\n",
        "  learning_rate=3e-4,\n",
        "  warmup_steps=250,\n",
        "  save_total_limit=2,\n",
        ")"
      ],
      "execution_count": 37,
      "outputs": []
    },
    {
      "cell_type": "markdown",
      "metadata": {
        "id": "OsW-WZcL1ZtN"
      },
      "source": [
        "Now, all instances can be passed to Trainer and we are ready to start training!"
      ]
    },
    {
      "cell_type": "code",
      "metadata": {
        "id": "rY7vBmFCPFgC"
      },
      "source": [
        "from transformers import Trainer\n",
        "\n",
        "trainer = Trainer(\n",
        "    model=model,\n",
        "    data_collator=data_collator,\n",
        "    args=training_args,\n",
        "    compute_metrics=compute_metrics,\n",
        "    train_dataset=common_voice_train,\n",
        "    eval_dataset=common_voice_test,\n",
        "    tokenizer=processor.feature_extractor,\n",
        ")"
      ],
      "execution_count": 38,
      "outputs": []
    },
    {
      "cell_type": "markdown",
      "metadata": {
        "id": "UoXBx1JAA0DX"
      },
      "source": [
        "\n",
        "\n",
        "---\n",
        "\n",
        "${}^1$ To allow models to become independent of the speaker rate, in CTC, consecutive tokens that are identical are simply grouped as a single token. However, the encoded labels should not be grouped when decoding since they don't correspond to the predicted tokens of the model, which is why the `group_tokens=False` parameter has to be passed. If we wouldn't pass this parameter a word like `\"hello\"` would incorrectly be encoded, and decoded as `\"helo\"`.\n",
        "\n",
        "${}^2$ The blank token allows the model to predict a word, such as `\"hello\"` by forcing it to insert the blank token between the two l's. A CTC-conform prediction of `\"hello\"` of our model would be `[PAD] [PAD] \"h\" \"e\" \"e\" \"l\" \"l\" [PAD] \"l\" \"o\" \"o\" [PAD]`."
      ]
    },
    {
      "cell_type": "markdown",
      "metadata": {
        "id": "rpvZHM1xReIW"
      },
      "source": [
        "### Training"
      ]
    },
    {
      "cell_type": "markdown",
      "metadata": {
        "id": "j-3oKSzZ1hGq"
      },
      "source": [
        "Training will take between 180 and 240 minutes depending on the GPU allocated to this notebook. While the trained model yields somewhat satisfying results on *Common Voice*'s test data of Turkish, it is by no means an optimally fine-tuned model. The purpose of this notebook is to demonstrate how XLSR-Wav2Vec2's [checkpoint](https://huggingface.co/facebook/wav2vec2-large-xlsr-53) can be fine-tuned on a low-resource ASR dataset.\n",
        "\n",
        "In case you want to use this google colab to fine-tune your model, you should make sure that your training doesn't stop due to inactivity. A simple hack to prevent this is to paste the following code into the console of this tab (*right mouse click -> inspect -> Console tab and insert code*)."
      ]
    },
    {
      "cell_type": "markdown",
      "metadata": {
        "id": "VYYAvgkW4P0m"
      },
      "source": [
        "```javascript\n",
        "function ConnectButton(){\n",
        "    console.log(\"Connect pushed\"); \n",
        "    document.querySelector(\"#top-toolbar > colab-connect-button\").shadowRoot.querySelector(\"#connect\").click() \n",
        "}\n",
        "setInterval(ConnectButton,60000);\n",
        "```"
      ]
    },
    {
      "cell_type": "code",
      "metadata": {
        "id": "_UEjJqGsQw24",
        "colab": {
          "base_uri": "https://localhost:8080/",
          "height": 130
        },
        "outputId": "b28148a3-2724-421e-8321-795e1002ecba"
      },
      "source": [
        "trainer.train()"
      ],
      "execution_count": null,
      "outputs": [
        {
          "output_type": "stream",
          "text": [
            "/usr/local/lib/python3.7/dist-packages/torch/optim/lr_scheduler.py:134: UserWarning: Detected call of `lr_scheduler.step()` before `optimizer.step()`. In PyTorch 1.1.0 and later, you should call them in the opposite order: `optimizer.step()` before `lr_scheduler.step()`.  Failure to do this will result in PyTorch skipping the first value of the learning rate schedule. See more details at https://pytorch.org/docs/stable/optim.html#how-to-adjust-learning-rate\n",
            "  \"https://pytorch.org/docs/stable/optim.html#how-to-adjust-learning-rate\", UserWarning)\n"
          ],
          "name": "stderr"
        },
        {
          "output_type": "display_data",
          "data": {
            "text/html": [
              "\n",
              "    <div>\n",
              "        <style>\n",
              "            /* Turns off some styling */\n",
              "            progress {\n",
              "                /* gets rid of default border in Firefox and Opera. */\n",
              "                border: none;\n",
              "                /* Needs to be in here for Safari polyfill so background images work as expected. */\n",
              "                background-size: auto;\n",
              "            }\n",
              "        </style>\n",
              "      \n",
              "      <progress value='81' max='4000' style='width:300px; height:20px; vertical-align: middle;'></progress>\n",
              "      [  81/4000 07:36 < 6:17:39, 0.17 it/s, Epoch 10/500]\n",
              "    </div>\n",
              "    <table border=\"1\" class=\"dataframe\">\n",
              "  <thead>\n",
              "    <tr style=\"text-align: left;\">\n",
              "      <th>Step</th>\n",
              "      <th>Training Loss</th>\n",
              "      <th>Validation Loss</th>\n",
              "    </tr>\n",
              "  </thead>\n",
              "  <tbody>\n",
              "  </tbody>\n",
              "</table><p>"
            ],
            "text/plain": [
              "<IPython.core.display.HTML object>"
            ]
          },
          "metadata": {
            "tags": []
          }
        }
      ]
    },
    {
      "cell_type": "code",
      "metadata": {
        "id": "cZIAeoJ0Qu5k",
        "colab": {
          "base_uri": "https://localhost:8080/"
        },
        "outputId": "67c2eeff-c76e-42ba-9bfd-589e9a228bbd"
      },
      "source": [
        "!"
      ],
      "execution_count": 12,
      "outputs": [
        {
          "output_type": "stream",
          "text": [
            "git: 'lfs' is not a git command. See 'git --help'.\n",
            "\n",
            "The most similar command is\n",
            "\tlog\n",
            "Cloning into 'wav2vec2-large-xlsr-punjabi'...\n",
            "remote: Enumerating objects: 3, done.\u001b[K\n",
            "remote: Counting objects: 100% (3/3), done.\u001b[K\n",
            "remote: Compressing objects: 100% (2/2), done.\u001b[K\n",
            "remote: Total 3 (delta 0), reused 0 (delta 0)\u001b[K\n",
            "Unpacking objects: 100% (3/3), done.\n"
          ],
          "name": "stdout"
        }
      ]
    },
    {
      "cell_type": "markdown",
      "metadata": {
        "id": "RHIVc44_fY2N"
      },
      "source": [
        "The training loss goes down and we can see that the WER on the test set also improves nicely. Because this notebook is just for demonstration purposes, we can stop here.\n",
        "\n",
        "The resulting model of this notebook has been saved to [`patrickvonplaten/wav2vec2-large-xlsr-turkish-demo`](https://huggingface.co/patrickvonplaten/wav2vec2-large-xlsr-turkish-demo)\n",
        "\n",
        "As a final check, let's load the model and verify that it indeed has learned to transcribe Turkish speech.\n",
        "\n",
        "Let's first load the pretrained checkpoint."
      ]
    },
    {
      "cell_type": "code",
      "metadata": {
        "colab": {
          "base_uri": "https://localhost:8080/"
        },
        "id": "J8E8pxJ9hgZS",
        "outputId": "5d137935-475d-4dbf-d833-d26780311e18"
      },
      "source": [
        "model = Wav2Vec2ForCTC.from_pretrained(\"patrickvonplaten/wav2vec2-large-xlsr-turkish-demo\").to(\"cuda\")\n",
        "processor = Wav2Vec2Processor.from_pretrained(\"patrickvonplaten/wav2vec2-large-xlsr-turkish-demo\")"
      ],
      "execution_count": null,
      "outputs": [
        {
          "output_type": "stream",
          "text": [
            "Special tokens have been added in the vocabulary, make sure the associated word embedding are fine-tuned or trained.\n"
          ],
          "name": "stderr"
        }
      ]
    },
    {
      "cell_type": "markdown",
      "metadata": {
        "id": "QsfGCQYSvY8C"
      },
      "source": [
        "Now, we will just take the first example of the test set, run it through the model and take the `argmax(...)` of the logits to retrieve the predicted token ids."
      ]
    },
    {
      "cell_type": "code",
      "metadata": {
        "colab": {
          "base_uri": "https://localhost:8080/"
        },
        "id": "EA6fxk-jiHby",
        "outputId": "8b91a977-2559-4adc-8298-b4ad6b7ff196"
      },
      "source": [
        "input_dict = processor(common_voice_test[\"input_values\"][0], return_tensors=\"pt\", padding=True)\n",
        "\n",
        "logits = model(input_dict.input_values.to(\"cuda\")).logits\n",
        "\n",
        "pred_ids = torch.argmax(logits, dim=-1)[0]"
      ],
      "execution_count": null,
      "outputs": [
        {
          "output_type": "stream",
          "text": [
            "It is strongly recommended to pass the ``sampling_rate`` argument to this function.Failing to do so can result in silent errors that might be hard to debug.\n"
          ],
          "name": "stderr"
        }
      ]
    },
    {
      "cell_type": "markdown",
      "metadata": {
        "id": "1JDyVCMDvlYd"
      },
      "source": [
        "We adapted `common_voice_test` quite a bit so that the dataset instance does not contain the original sentence label anymore. Thus, we re-use the original dataset to get the label of the first example."
      ]
    },
    {
      "cell_type": "code",
      "metadata": {
        "colab": {
          "base_uri": "https://localhost:8080/"
        },
        "id": "8dPE2GRIgtx-",
        "outputId": "a211d1ee-d850-481d-8bac-dc46c3efa561"
      },
      "source": [
        "common_voice_test_transcription = load_dataset(\"common_voice\", \"pa-IN\", data_dir=\"./cv-corpus-6.1-2020-12-11\", split=\"test\")"
      ],
      "execution_count": null,
      "outputs": [
        {
          "output_type": "stream",
          "text": [
            "Using custom data configuration tr-ad9f7b76efa9f3a0\n",
            "Reusing dataset common_voice (/root/.cache/huggingface/datasets/common_voice/tr-ad9f7b76efa9f3a0/6.1.0/32954a9015faa0d840f6c6894938545c5d12bc5d8936a80079af74bf50d71564)\n"
          ],
          "name": "stderr"
        }
      ]
    },
    {
      "cell_type": "markdown",
      "metadata": {
        "id": "ApS3MmN4v5P7"
      },
      "source": [
        "Finally, we can decode the example."
      ]
    },
    {
      "cell_type": "code",
      "metadata": {
        "colab": {
          "base_uri": "https://localhost:8080/"
        },
        "id": "Phqxa1O1jMDk",
        "outputId": "60d48c9f-f745-45ac-9105-446dc71025ca"
      },
      "source": [
        "print(\"Prediction:\")\n",
        "print(processor.decode(pred_ids))\n",
        "\n",
        "print(\"\\nReference:\")\n",
        "print(common_voice_test_transcription[\"sentence\"][0].lower())\n"
      ],
      "execution_count": null,
      "outputs": [
        {
          "output_type": "stream",
          "text": [
            "Prediction:\n",
            "hata küçük şeyler için birbüy bi şeyler kolaluyor ve yenekiçük şeyler için bir bimizi inciltiyoruz\n",
            "\n",
            "Reference:\n",
            "hayatta küçük şeyleri kovalıyor ve yine küçük şeyler için birbirimizi incitiyoruz.\n"
          ],
          "name": "stdout"
        }
      ]
    },
    {
      "cell_type": "markdown",
      "metadata": {
        "id": "4n_8vhzUv7aw"
      },
      "source": [
        "Alright! The transcription can definitely be recognized from our prediction, but it is far from being perfect. Training the model a bit longer, spending more time on the data preprocessing, and especially using a language model for decoding would certainly improve the model's overall performance. \n",
        "\n",
        "For a demonstration model on a low-resource language, the results are acceptable, however 🤗."
      ]
    }
  ]
}