{
  "nbformat": 4,
  "nbformat_minor": 0,
  "metadata": {
    "colab": {
      "name": "Fine-Tune XLSR-Wav2Vec2 on Punjabi ASR with 🤗 Transformers.ipynb",
      "provenance": [],
      "collapsed_sections": [],
      "toc_visible": true,
      "machine_shape": "hm",
      "include_colab_link": true
    },
    "kernelspec": {
      "name": "python3",
      "display_name": "Python 3"
    },
    "widgets": {
      "application/vnd.jupyter.widget-state+json": {
        "eeb54138ace4443a9c1c3cd2e4ac20f1": {
          "model_module": "@jupyter-widgets/controls",
          "model_name": "HBoxModel",
          "state": {
            "_view_name": "HBoxView",
            "_dom_classes": [],
            "_model_name": "HBoxModel",
            "_view_module": "@jupyter-widgets/controls",
            "_model_module_version": "1.5.0",
            "_view_count": null,
            "_view_module_version": "1.5.0",
            "box_style": "",
            "layout": "IPY_MODEL_bb37f5be1a4547cd82ec667138714fa3",
            "_model_module": "@jupyter-widgets/controls",
            "children": [
              "IPY_MODEL_867003f1ce6c427fbd89efc3d962ebe7",
              "IPY_MODEL_831678dd35324664b90d0dfaff6785df"
            ]
          }
        },
        "bb37f5be1a4547cd82ec667138714fa3": {
          "model_module": "@jupyter-widgets/base",
          "model_name": "LayoutModel",
          "state": {
            "_view_name": "LayoutView",
            "grid_template_rows": null,
            "right": null,
            "justify_content": null,
            "_view_module": "@jupyter-widgets/base",
            "overflow": null,
            "_model_module_version": "1.2.0",
            "_view_count": null,
            "flex_flow": null,
            "width": null,
            "min_width": null,
            "border": null,
            "align_items": null,
            "bottom": null,
            "_model_module": "@jupyter-widgets/base",
            "top": null,
            "grid_column": null,
            "overflow_y": null,
            "overflow_x": null,
            "grid_auto_flow": null,
            "grid_area": null,
            "grid_template_columns": null,
            "flex": null,
            "_model_name": "LayoutModel",
            "justify_items": null,
            "grid_row": null,
            "max_height": null,
            "align_content": null,
            "visibility": null,
            "align_self": null,
            "height": null,
            "min_height": null,
            "padding": null,
            "grid_auto_rows": null,
            "grid_gap": null,
            "max_width": null,
            "order": null,
            "_view_module_version": "1.2.0",
            "grid_template_areas": null,
            "object_position": null,
            "object_fit": null,
            "grid_auto_columns": null,
            "margin": null,
            "display": null,
            "left": null
          }
        },
        "867003f1ce6c427fbd89efc3d962ebe7": {
          "model_module": "@jupyter-widgets/controls",
          "model_name": "FloatProgressModel",
          "state": {
            "_view_name": "ProgressView",
            "style": "IPY_MODEL_cca222db02634e259bf865e5ee1ec0b3",
            "_dom_classes": [],
            "description": "Downloading: ",
            "_model_name": "FloatProgressModel",
            "bar_style": "success",
            "max": 4323,
            "_view_module": "@jupyter-widgets/controls",
            "_model_module_version": "1.5.0",
            "value": 4323,
            "_view_count": null,
            "_view_module_version": "1.5.0",
            "orientation": "horizontal",
            "min": 0,
            "description_tooltip": null,
            "_model_module": "@jupyter-widgets/controls",
            "layout": "IPY_MODEL_8f2193f1440c4d34b89f7c316bcbe7d0"
          }
        },
        "831678dd35324664b90d0dfaff6785df": {
          "model_module": "@jupyter-widgets/controls",
          "model_name": "HTMLModel",
          "state": {
            "_view_name": "HTMLView",
            "style": "IPY_MODEL_fde02b5973f84528828116897f83a9cd",
            "_dom_classes": [],
            "description": "",
            "_model_name": "HTMLModel",
            "placeholder": "​",
            "_view_module": "@jupyter-widgets/controls",
            "_model_module_version": "1.5.0",
            "value": " 22.0k/? [00:00&lt;00:00, 114kB/s]",
            "_view_count": null,
            "_view_module_version": "1.5.0",
            "description_tooltip": null,
            "_model_module": "@jupyter-widgets/controls",
            "layout": "IPY_MODEL_be4ad8ea904f4658af3d1b60d38586bf"
          }
        },
        "cca222db02634e259bf865e5ee1ec0b3": {
          "model_module": "@jupyter-widgets/controls",
          "model_name": "ProgressStyleModel",
          "state": {
            "_view_name": "StyleView",
            "_model_name": "ProgressStyleModel",
            "description_width": "initial",
            "_view_module": "@jupyter-widgets/base",
            "_model_module_version": "1.5.0",
            "_view_count": null,
            "_view_module_version": "1.2.0",
            "bar_color": null,
            "_model_module": "@jupyter-widgets/controls"
          }
        },
        "8f2193f1440c4d34b89f7c316bcbe7d0": {
          "model_module": "@jupyter-widgets/base",
          "model_name": "LayoutModel",
          "state": {
            "_view_name": "LayoutView",
            "grid_template_rows": null,
            "right": null,
            "justify_content": null,
            "_view_module": "@jupyter-widgets/base",
            "overflow": null,
            "_model_module_version": "1.2.0",
            "_view_count": null,
            "flex_flow": null,
            "width": null,
            "min_width": null,
            "border": null,
            "align_items": null,
            "bottom": null,
            "_model_module": "@jupyter-widgets/base",
            "top": null,
            "grid_column": null,
            "overflow_y": null,
            "overflow_x": null,
            "grid_auto_flow": null,
            "grid_area": null,
            "grid_template_columns": null,
            "flex": null,
            "_model_name": "LayoutModel",
            "justify_items": null,
            "grid_row": null,
            "max_height": null,
            "align_content": null,
            "visibility": null,
            "align_self": null,
            "height": null,
            "min_height": null,
            "padding": null,
            "grid_auto_rows": null,
            "grid_gap": null,
            "max_width": null,
            "order": null,
            "_view_module_version": "1.2.0",
            "grid_template_areas": null,
            "object_position": null,
            "object_fit": null,
            "grid_auto_columns": null,
            "margin": null,
            "display": null,
            "left": null
          }
        },
        "fde02b5973f84528828116897f83a9cd": {
          "model_module": "@jupyter-widgets/controls",
          "model_name": "DescriptionStyleModel",
          "state": {
            "_view_name": "StyleView",
            "_model_name": "DescriptionStyleModel",
            "description_width": "",
            "_view_module": "@jupyter-widgets/base",
            "_model_module_version": "1.5.0",
            "_view_count": null,
            "_view_module_version": "1.2.0",
            "_model_module": "@jupyter-widgets/controls"
          }
        },
        "be4ad8ea904f4658af3d1b60d38586bf": {
          "model_module": "@jupyter-widgets/base",
          "model_name": "LayoutModel",
          "state": {
            "_view_name": "LayoutView",
            "grid_template_rows": null,
            "right": null,
            "justify_content": null,
            "_view_module": "@jupyter-widgets/base",
            "overflow": null,
            "_model_module_version": "1.2.0",
            "_view_count": null,
            "flex_flow": null,
            "width": null,
            "min_width": null,
            "border": null,
            "align_items": null,
            "bottom": null,
            "_model_module": "@jupyter-widgets/base",
            "top": null,
            "grid_column": null,
            "overflow_y": null,
            "overflow_x": null,
            "grid_auto_flow": null,
            "grid_area": null,
            "grid_template_columns": null,
            "flex": null,
            "_model_name": "LayoutModel",
            "justify_items": null,
            "grid_row": null,
            "max_height": null,
            "align_content": null,
            "visibility": null,
            "align_self": null,
            "height": null,
            "min_height": null,
            "padding": null,
            "grid_auto_rows": null,
            "grid_gap": null,
            "max_width": null,
            "order": null,
            "_view_module_version": "1.2.0",
            "grid_template_areas": null,
            "object_position": null,
            "object_fit": null,
            "grid_auto_columns": null,
            "margin": null,
            "display": null,
            "left": null
          }
        },
        "3bde3b16aeae48c6aca11d6c8aa8b653": {
          "model_module": "@jupyter-widgets/controls",
          "model_name": "HBoxModel",
          "state": {
            "_view_name": "HBoxView",
            "_dom_classes": [],
            "_model_name": "HBoxModel",
            "_view_module": "@jupyter-widgets/controls",
            "_model_module_version": "1.5.0",
            "_view_count": null,
            "_view_module_version": "1.5.0",
            "box_style": "",
            "layout": "IPY_MODEL_6649af0faadb4334a3ff4fb1459a4dfe",
            "_model_module": "@jupyter-widgets/controls",
            "children": [
              "IPY_MODEL_5039b178328d47c5a47dd887f16e81f6",
              "IPY_MODEL_5d769451c2254373860025e459877a60"
            ]
          }
        },
        "6649af0faadb4334a3ff4fb1459a4dfe": {
          "model_module": "@jupyter-widgets/base",
          "model_name": "LayoutModel",
          "state": {
            "_view_name": "LayoutView",
            "grid_template_rows": null,
            "right": null,
            "justify_content": null,
            "_view_module": "@jupyter-widgets/base",
            "overflow": null,
            "_model_module_version": "1.2.0",
            "_view_count": null,
            "flex_flow": null,
            "width": null,
            "min_width": null,
            "border": null,
            "align_items": null,
            "bottom": null,
            "_model_module": "@jupyter-widgets/base",
            "top": null,
            "grid_column": null,
            "overflow_y": null,
            "overflow_x": null,
            "grid_auto_flow": null,
            "grid_area": null,
            "grid_template_columns": null,
            "flex": null,
            "_model_name": "LayoutModel",
            "justify_items": null,
            "grid_row": null,
            "max_height": null,
            "align_content": null,
            "visibility": null,
            "align_self": null,
            "height": null,
            "min_height": null,
            "padding": null,
            "grid_auto_rows": null,
            "grid_gap": null,
            "max_width": null,
            "order": null,
            "_view_module_version": "1.2.0",
            "grid_template_areas": null,
            "object_position": null,
            "object_fit": null,
            "grid_auto_columns": null,
            "margin": null,
            "display": null,
            "left": null
          }
        },
        "5039b178328d47c5a47dd887f16e81f6": {
          "model_module": "@jupyter-widgets/controls",
          "model_name": "FloatProgressModel",
          "state": {
            "_view_name": "ProgressView",
            "style": "IPY_MODEL_610de9c1557b46b28d84f165a25973ee",
            "_dom_classes": [],
            "description": "Downloading: ",
            "_model_name": "FloatProgressModel",
            "bar_style": "success",
            "max": 9954,
            "_view_module": "@jupyter-widgets/controls",
            "_model_module_version": "1.5.0",
            "value": 9954,
            "_view_count": null,
            "_view_module_version": "1.5.0",
            "orientation": "horizontal",
            "min": 0,
            "description_tooltip": null,
            "_model_module": "@jupyter-widgets/controls",
            "layout": "IPY_MODEL_551237c0a12547338c76ff3578ef1e23"
          }
        },
        "5d769451c2254373860025e459877a60": {
          "model_module": "@jupyter-widgets/controls",
          "model_name": "HTMLModel",
          "state": {
            "_view_name": "HTMLView",
            "style": "IPY_MODEL_d45fed5083b140d1bbd35d8d8c556611",
            "_dom_classes": [],
            "description": "",
            "_model_name": "HTMLModel",
            "placeholder": "​",
            "_view_module": "@jupyter-widgets/controls",
            "_model_module_version": "1.5.0",
            "value": " 153k/? [00:00&lt;00:00, 1.92MB/s]",
            "_view_count": null,
            "_view_module_version": "1.5.0",
            "description_tooltip": null,
            "_model_module": "@jupyter-widgets/controls",
            "layout": "IPY_MODEL_289806410ffe41b08461667a3dae5a4c"
          }
        },
        "610de9c1557b46b28d84f165a25973ee": {
          "model_module": "@jupyter-widgets/controls",
          "model_name": "ProgressStyleModel",
          "state": {
            "_view_name": "StyleView",
            "_model_name": "ProgressStyleModel",
            "description_width": "initial",
            "_view_module": "@jupyter-widgets/base",
            "_model_module_version": "1.5.0",
            "_view_count": null,
            "_view_module_version": "1.2.0",
            "bar_color": null,
            "_model_module": "@jupyter-widgets/controls"
          }
        },
        "551237c0a12547338c76ff3578ef1e23": {
          "model_module": "@jupyter-widgets/base",
          "model_name": "LayoutModel",
          "state": {
            "_view_name": "LayoutView",
            "grid_template_rows": null,
            "right": null,
            "justify_content": null,
            "_view_module": "@jupyter-widgets/base",
            "overflow": null,
            "_model_module_version": "1.2.0",
            "_view_count": null,
            "flex_flow": null,
            "width": null,
            "min_width": null,
            "border": null,
            "align_items": null,
            "bottom": null,
            "_model_module": "@jupyter-widgets/base",
            "top": null,
            "grid_column": null,
            "overflow_y": null,
            "overflow_x": null,
            "grid_auto_flow": null,
            "grid_area": null,
            "grid_template_columns": null,
            "flex": null,
            "_model_name": "LayoutModel",
            "justify_items": null,
            "grid_row": null,
            "max_height": null,
            "align_content": null,
            "visibility": null,
            "align_self": null,
            "height": null,
            "min_height": null,
            "padding": null,
            "grid_auto_rows": null,
            "grid_gap": null,
            "max_width": null,
            "order": null,
            "_view_module_version": "1.2.0",
            "grid_template_areas": null,
            "object_position": null,
            "object_fit": null,
            "grid_auto_columns": null,
            "margin": null,
            "display": null,
            "left": null
          }
        },
        "d45fed5083b140d1bbd35d8d8c556611": {
          "model_module": "@jupyter-widgets/controls",
          "model_name": "DescriptionStyleModel",
          "state": {
            "_view_name": "StyleView",
            "_model_name": "DescriptionStyleModel",
            "description_width": "",
            "_view_module": "@jupyter-widgets/base",
            "_model_module_version": "1.5.0",
            "_view_count": null,
            "_view_module_version": "1.2.0",
            "_model_module": "@jupyter-widgets/controls"
          }
        },
        "289806410ffe41b08461667a3dae5a4c": {
          "model_module": "@jupyter-widgets/base",
          "model_name": "LayoutModel",
          "state": {
            "_view_name": "LayoutView",
            "grid_template_rows": null,
            "right": null,
            "justify_content": null,
            "_view_module": "@jupyter-widgets/base",
            "overflow": null,
            "_model_module_version": "1.2.0",
            "_view_count": null,
            "flex_flow": null,
            "width": null,
            "min_width": null,
            "border": null,
            "align_items": null,
            "bottom": null,
            "_model_module": "@jupyter-widgets/base",
            "top": null,
            "grid_column": null,
            "overflow_y": null,
            "overflow_x": null,
            "grid_auto_flow": null,
            "grid_area": null,
            "grid_template_columns": null,
            "flex": null,
            "_model_name": "LayoutModel",
            "justify_items": null,
            "grid_row": null,
            "max_height": null,
            "align_content": null,
            "visibility": null,
            "align_self": null,
            "height": null,
            "min_height": null,
            "padding": null,
            "grid_auto_rows": null,
            "grid_gap": null,
            "max_width": null,
            "order": null,
            "_view_module_version": "1.2.0",
            "grid_template_areas": null,
            "object_position": null,
            "object_fit": null,
            "grid_auto_columns": null,
            "margin": null,
            "display": null,
            "left": null
          }
        },
        "222ef3804e1b43e3937b1072c3157052": {
          "model_module": "@jupyter-widgets/controls",
          "model_name": "HBoxModel",
          "state": {
            "_view_name": "HBoxView",
            "_dom_classes": [],
            "_model_name": "HBoxModel",
            "_view_module": "@jupyter-widgets/controls",
            "_model_module_version": "1.5.0",
            "_view_count": null,
            "_view_module_version": "1.5.0",
            "box_style": "",
            "layout": "IPY_MODEL_b195e7ba75064ab09ff588a7bfb417f7",
            "_model_module": "@jupyter-widgets/controls",
            "children": [
              "IPY_MODEL_05c1f5a281cd4ef5a019c4ca2383677f",
              "IPY_MODEL_549891ac6e654c5187188aba2f9aee45"
            ]
          }
        },
        "b195e7ba75064ab09ff588a7bfb417f7": {
          "model_module": "@jupyter-widgets/base",
          "model_name": "LayoutModel",
          "state": {
            "_view_name": "LayoutView",
            "grid_template_rows": null,
            "right": null,
            "justify_content": null,
            "_view_module": "@jupyter-widgets/base",
            "overflow": null,
            "_model_module_version": "1.2.0",
            "_view_count": null,
            "flex_flow": null,
            "width": null,
            "min_width": null,
            "border": null,
            "align_items": null,
            "bottom": null,
            "_model_module": "@jupyter-widgets/base",
            "top": null,
            "grid_column": null,
            "overflow_y": null,
            "overflow_x": null,
            "grid_auto_flow": null,
            "grid_area": null,
            "grid_template_columns": null,
            "flex": null,
            "_model_name": "LayoutModel",
            "justify_items": null,
            "grid_row": null,
            "max_height": null,
            "align_content": null,
            "visibility": null,
            "align_self": null,
            "height": null,
            "min_height": null,
            "padding": null,
            "grid_auto_rows": null,
            "grid_gap": null,
            "max_width": null,
            "order": null,
            "_view_module_version": "1.2.0",
            "grid_template_areas": null,
            "object_position": null,
            "object_fit": null,
            "grid_auto_columns": null,
            "margin": null,
            "display": null,
            "left": null
          }
        },
        "05c1f5a281cd4ef5a019c4ca2383677f": {
          "model_module": "@jupyter-widgets/controls",
          "model_name": "FloatProgressModel",
          "state": {
            "_view_name": "ProgressView",
            "style": "IPY_MODEL_8a27041c95f04743a9e964a8b7b237ca",
            "_dom_classes": [],
            "description": "Downloading: 100%",
            "_model_name": "FloatProgressModel",
            "bar_style": "success",
            "max": 69748265,
            "_view_module": "@jupyter-widgets/controls",
            "_model_module_version": "1.5.0",
            "value": 69748265,
            "_view_count": null,
            "_view_module_version": "1.5.0",
            "orientation": "horizontal",
            "min": 0,
            "description_tooltip": null,
            "_model_module": "@jupyter-widgets/controls",
            "layout": "IPY_MODEL_593264639e6c4cae8583a56ebb40ff05"
          }
        },
        "549891ac6e654c5187188aba2f9aee45": {
          "model_module": "@jupyter-widgets/controls",
          "model_name": "HTMLModel",
          "state": {
            "_view_name": "HTMLView",
            "style": "IPY_MODEL_2965f3cb83de440abbee3552f4199a09",
            "_dom_classes": [],
            "description": "",
            "_model_name": "HTMLModel",
            "placeholder": "​",
            "_view_module": "@jupyter-widgets/controls",
            "_model_module_version": "1.5.0",
            "value": " 69.7M/69.7M [00:02&lt;00:00, 23.8MB/s]",
            "_view_count": null,
            "_view_module_version": "1.5.0",
            "description_tooltip": null,
            "_model_module": "@jupyter-widgets/controls",
            "layout": "IPY_MODEL_1ceee07aac32433d954eb0e445334a8e"
          }
        },
        "8a27041c95f04743a9e964a8b7b237ca": {
          "model_module": "@jupyter-widgets/controls",
          "model_name": "ProgressStyleModel",
          "state": {
            "_view_name": "StyleView",
            "_model_name": "ProgressStyleModel",
            "description_width": "initial",
            "_view_module": "@jupyter-widgets/base",
            "_model_module_version": "1.5.0",
            "_view_count": null,
            "_view_module_version": "1.2.0",
            "bar_color": null,
            "_model_module": "@jupyter-widgets/controls"
          }
        },
        "593264639e6c4cae8583a56ebb40ff05": {
          "model_module": "@jupyter-widgets/base",
          "model_name": "LayoutModel",
          "state": {
            "_view_name": "LayoutView",
            "grid_template_rows": null,
            "right": null,
            "justify_content": null,
            "_view_module": "@jupyter-widgets/base",
            "overflow": null,
            "_model_module_version": "1.2.0",
            "_view_count": null,
            "flex_flow": null,
            "width": null,
            "min_width": null,
            "border": null,
            "align_items": null,
            "bottom": null,
            "_model_module": "@jupyter-widgets/base",
            "top": null,
            "grid_column": null,
            "overflow_y": null,
            "overflow_x": null,
            "grid_auto_flow": null,
            "grid_area": null,
            "grid_template_columns": null,
            "flex": null,
            "_model_name": "LayoutModel",
            "justify_items": null,
            "grid_row": null,
            "max_height": null,
            "align_content": null,
            "visibility": null,
            "align_self": null,
            "height": null,
            "min_height": null,
            "padding": null,
            "grid_auto_rows": null,
            "grid_gap": null,
            "max_width": null,
            "order": null,
            "_view_module_version": "1.2.0",
            "grid_template_areas": null,
            "object_position": null,
            "object_fit": null,
            "grid_auto_columns": null,
            "margin": null,
            "display": null,
            "left": null
          }
        },
        "2965f3cb83de440abbee3552f4199a09": {
          "model_module": "@jupyter-widgets/controls",
          "model_name": "DescriptionStyleModel",
          "state": {
            "_view_name": "StyleView",
            "_model_name": "DescriptionStyleModel",
            "description_width": "",
            "_view_module": "@jupyter-widgets/base",
            "_model_module_version": "1.5.0",
            "_view_count": null,
            "_view_module_version": "1.2.0",
            "_model_module": "@jupyter-widgets/controls"
          }
        },
        "1ceee07aac32433d954eb0e445334a8e": {
          "model_module": "@jupyter-widgets/base",
          "model_name": "LayoutModel",
          "state": {
            "_view_name": "LayoutView",
            "grid_template_rows": null,
            "right": null,
            "justify_content": null,
            "_view_module": "@jupyter-widgets/base",
            "overflow": null,
            "_model_module_version": "1.2.0",
            "_view_count": null,
            "flex_flow": null,
            "width": null,
            "min_width": null,
            "border": null,
            "align_items": null,
            "bottom": null,
            "_model_module": "@jupyter-widgets/base",
            "top": null,
            "grid_column": null,
            "overflow_y": null,
            "overflow_x": null,
            "grid_auto_flow": null,
            "grid_area": null,
            "grid_template_columns": null,
            "flex": null,
            "_model_name": "LayoutModel",
            "justify_items": null,
            "grid_row": null,
            "max_height": null,
            "align_content": null,
            "visibility": null,
            "align_self": null,
            "height": null,
            "min_height": null,
            "padding": null,
            "grid_auto_rows": null,
            "grid_gap": null,
            "max_width": null,
            "order": null,
            "_view_module_version": "1.2.0",
            "grid_template_areas": null,
            "object_position": null,
            "object_fit": null,
            "grid_auto_columns": null,
            "margin": null,
            "display": null,
            "left": null
          }
        },
        "26704a1ac9ca4d4c93d23287deb15fb2": {
          "model_module": "@jupyter-widgets/controls",
          "model_name": "HBoxModel",
          "state": {
            "_view_name": "HBoxView",
            "_dom_classes": [],
            "_model_name": "HBoxModel",
            "_view_module": "@jupyter-widgets/controls",
            "_model_module_version": "1.5.0",
            "_view_count": null,
            "_view_module_version": "1.5.0",
            "box_style": "",
            "layout": "IPY_MODEL_f62e020f47294a92a9e883fc38bdacfd",
            "_model_module": "@jupyter-widgets/controls",
            "children": [
              "IPY_MODEL_98a68cb6cc824f17aff3d3e97f94fa9e",
              "IPY_MODEL_9694bc5fbe2e419b9be0edb7311f7c6a"
            ]
          }
        },
        "f62e020f47294a92a9e883fc38bdacfd": {
          "model_module": "@jupyter-widgets/base",
          "model_name": "LayoutModel",
          "state": {
            "_view_name": "LayoutView",
            "grid_template_rows": null,
            "right": null,
            "justify_content": null,
            "_view_module": "@jupyter-widgets/base",
            "overflow": null,
            "_model_module_version": "1.2.0",
            "_view_count": null,
            "flex_flow": null,
            "width": null,
            "min_width": null,
            "border": null,
            "align_items": null,
            "bottom": null,
            "_model_module": "@jupyter-widgets/base",
            "top": null,
            "grid_column": null,
            "overflow_y": null,
            "overflow_x": null,
            "grid_auto_flow": null,
            "grid_area": null,
            "grid_template_columns": null,
            "flex": null,
            "_model_name": "LayoutModel",
            "justify_items": null,
            "grid_row": null,
            "max_height": null,
            "align_content": null,
            "visibility": null,
            "align_self": null,
            "height": null,
            "min_height": null,
            "padding": null,
            "grid_auto_rows": null,
            "grid_gap": null,
            "max_width": null,
            "order": null,
            "_view_module_version": "1.2.0",
            "grid_template_areas": null,
            "object_position": null,
            "object_fit": null,
            "grid_auto_columns": null,
            "margin": null,
            "display": null,
            "left": null
          }
        },
        "98a68cb6cc824f17aff3d3e97f94fa9e": {
          "model_module": "@jupyter-widgets/controls",
          "model_name": "FloatProgressModel",
          "state": {
            "_view_name": "ProgressView",
            "style": "IPY_MODEL_13886eb76bb84a29a7f99e3c0f5288ff",
            "_dom_classes": [],
            "description": "",
            "_model_name": "FloatProgressModel",
            "bar_style": "info",
            "max": 1,
            "_view_module": "@jupyter-widgets/controls",
            "_model_module_version": "1.5.0",
            "value": 1,
            "_view_count": null,
            "_view_module_version": "1.5.0",
            "orientation": "horizontal",
            "min": 0,
            "description_tooltip": null,
            "_model_module": "@jupyter-widgets/controls",
            "layout": "IPY_MODEL_b8173fecdba644b793318114e4b43c36"
          }
        },
        "9694bc5fbe2e419b9be0edb7311f7c6a": {
          "model_module": "@jupyter-widgets/controls",
          "model_name": "HTMLModel",
          "state": {
            "_view_name": "HTMLView",
            "style": "IPY_MODEL_255034359e6d4f3db9c62fc796674c27",
            "_dom_classes": [],
            "description": "",
            "_model_name": "HTMLModel",
            "placeholder": "​",
            "_view_module": "@jupyter-widgets/controls",
            "_model_module_version": "1.5.0",
            "value": " 211/0 [00:04&lt;00:00,  4.91s/ examples]",
            "_view_count": null,
            "_view_module_version": "1.5.0",
            "description_tooltip": null,
            "_model_module": "@jupyter-widgets/controls",
            "layout": "IPY_MODEL_9c59a01e73374472b60fbfdb64b7f19f"
          }
        },
        "13886eb76bb84a29a7f99e3c0f5288ff": {
          "model_module": "@jupyter-widgets/controls",
          "model_name": "ProgressStyleModel",
          "state": {
            "_view_name": "StyleView",
            "_model_name": "ProgressStyleModel",
            "description_width": "initial",
            "_view_module": "@jupyter-widgets/base",
            "_model_module_version": "1.5.0",
            "_view_count": null,
            "_view_module_version": "1.2.0",
            "bar_color": null,
            "_model_module": "@jupyter-widgets/controls"
          }
        },
        "b8173fecdba644b793318114e4b43c36": {
          "model_module": "@jupyter-widgets/base",
          "model_name": "LayoutModel",
          "state": {
            "_view_name": "LayoutView",
            "grid_template_rows": null,
            "right": null,
            "justify_content": null,
            "_view_module": "@jupyter-widgets/base",
            "overflow": null,
            "_model_module_version": "1.2.0",
            "_view_count": null,
            "flex_flow": null,
            "width": null,
            "min_width": null,
            "border": null,
            "align_items": null,
            "bottom": null,
            "_model_module": "@jupyter-widgets/base",
            "top": null,
            "grid_column": null,
            "overflow_y": null,
            "overflow_x": null,
            "grid_auto_flow": null,
            "grid_area": null,
            "grid_template_columns": null,
            "flex": null,
            "_model_name": "LayoutModel",
            "justify_items": null,
            "grid_row": null,
            "max_height": null,
            "align_content": null,
            "visibility": null,
            "align_self": null,
            "height": null,
            "min_height": null,
            "padding": null,
            "grid_auto_rows": null,
            "grid_gap": null,
            "max_width": null,
            "order": null,
            "_view_module_version": "1.2.0",
            "grid_template_areas": null,
            "object_position": null,
            "object_fit": null,
            "grid_auto_columns": null,
            "margin": null,
            "display": null,
            "left": null
          }
        },
        "255034359e6d4f3db9c62fc796674c27": {
          "model_module": "@jupyter-widgets/controls",
          "model_name": "DescriptionStyleModel",
          "state": {
            "_view_name": "StyleView",
            "_model_name": "DescriptionStyleModel",
            "description_width": "",
            "_view_module": "@jupyter-widgets/base",
            "_model_module_version": "1.5.0",
            "_view_count": null,
            "_view_module_version": "1.2.0",
            "_model_module": "@jupyter-widgets/controls"
          }
        },
        "9c59a01e73374472b60fbfdb64b7f19f": {
          "model_module": "@jupyter-widgets/base",
          "model_name": "LayoutModel",
          "state": {
            "_view_name": "LayoutView",
            "grid_template_rows": null,
            "right": null,
            "justify_content": null,
            "_view_module": "@jupyter-widgets/base",
            "overflow": null,
            "_model_module_version": "1.2.0",
            "_view_count": null,
            "flex_flow": null,
            "width": null,
            "min_width": null,
            "border": null,
            "align_items": null,
            "bottom": null,
            "_model_module": "@jupyter-widgets/base",
            "top": null,
            "grid_column": null,
            "overflow_y": null,
            "overflow_x": null,
            "grid_auto_flow": null,
            "grid_area": null,
            "grid_template_columns": null,
            "flex": null,
            "_model_name": "LayoutModel",
            "justify_items": null,
            "grid_row": null,
            "max_height": null,
            "align_content": null,
            "visibility": null,
            "align_self": null,
            "height": null,
            "min_height": null,
            "padding": null,
            "grid_auto_rows": null,
            "grid_gap": null,
            "max_width": null,
            "order": null,
            "_view_module_version": "1.2.0",
            "grid_template_areas": null,
            "object_position": null,
            "object_fit": null,
            "grid_auto_columns": null,
            "margin": null,
            "display": null,
            "left": null
          }
        },
        "bf2828ba72c04482beca40705ce5f1f7": {
          "model_module": "@jupyter-widgets/controls",
          "model_name": "HBoxModel",
          "state": {
            "_view_name": "HBoxView",
            "_dom_classes": [],
            "_model_name": "HBoxModel",
            "_view_module": "@jupyter-widgets/controls",
            "_model_module_version": "1.5.0",
            "_view_count": null,
            "_view_module_version": "1.5.0",
            "box_style": "",
            "layout": "IPY_MODEL_0497b235aac24278af1e5c6db0be2a30",
            "_model_module": "@jupyter-widgets/controls",
            "children": [
              "IPY_MODEL_1fbb2969f312447fbb9b2b7654573328",
              "IPY_MODEL_e7bb0722c8994e1bb83466e444ef609a"
            ]
          }
        },
        "0497b235aac24278af1e5c6db0be2a30": {
          "model_module": "@jupyter-widgets/base",
          "model_name": "LayoutModel",
          "state": {
            "_view_name": "LayoutView",
            "grid_template_rows": null,
            "right": null,
            "justify_content": null,
            "_view_module": "@jupyter-widgets/base",
            "overflow": null,
            "_model_module_version": "1.2.0",
            "_view_count": null,
            "flex_flow": null,
            "width": null,
            "min_width": null,
            "border": null,
            "align_items": null,
            "bottom": null,
            "_model_module": "@jupyter-widgets/base",
            "top": null,
            "grid_column": null,
            "overflow_y": null,
            "overflow_x": null,
            "grid_auto_flow": null,
            "grid_area": null,
            "grid_template_columns": null,
            "flex": null,
            "_model_name": "LayoutModel",
            "justify_items": null,
            "grid_row": null,
            "max_height": null,
            "align_content": null,
            "visibility": null,
            "align_self": null,
            "height": null,
            "min_height": null,
            "padding": null,
            "grid_auto_rows": null,
            "grid_gap": null,
            "max_width": null,
            "order": null,
            "_view_module_version": "1.2.0",
            "grid_template_areas": null,
            "object_position": null,
            "object_fit": null,
            "grid_auto_columns": null,
            "margin": null,
            "display": null,
            "left": null
          }
        },
        "1fbb2969f312447fbb9b2b7654573328": {
          "model_module": "@jupyter-widgets/controls",
          "model_name": "FloatProgressModel",
          "state": {
            "_view_name": "ProgressView",
            "style": "IPY_MODEL_cdd977c1d14c437d917111285b95bad6",
            "_dom_classes": [],
            "description": "",
            "_model_name": "FloatProgressModel",
            "bar_style": "info",
            "max": 1,
            "_view_module": "@jupyter-widgets/controls",
            "_model_module_version": "1.5.0",
            "value": 1,
            "_view_count": null,
            "_view_module_version": "1.5.0",
            "orientation": "horizontal",
            "min": 0,
            "description_tooltip": null,
            "_model_module": "@jupyter-widgets/controls",
            "layout": "IPY_MODEL_0bd4b0b481f74283a0b48a36ca65b268"
          }
        },
        "e7bb0722c8994e1bb83466e444ef609a": {
          "model_module": "@jupyter-widgets/controls",
          "model_name": "HTMLModel",
          "state": {
            "_view_name": "HTMLView",
            "style": "IPY_MODEL_2679033064114b37ac5a10a8d4e858b0",
            "_dom_classes": [],
            "description": "",
            "_model_name": "HTMLModel",
            "placeholder": "​",
            "_view_module": "@jupyter-widgets/controls",
            "_model_module_version": "1.5.0",
            "value": " 116/0 [00:00&lt;00:00, 2605.90 examples/s]",
            "_view_count": null,
            "_view_module_version": "1.5.0",
            "description_tooltip": null,
            "_model_module": "@jupyter-widgets/controls",
            "layout": "IPY_MODEL_27bdf70db5b247599a86c8d309448bfb"
          }
        },
        "cdd977c1d14c437d917111285b95bad6": {
          "model_module": "@jupyter-widgets/controls",
          "model_name": "ProgressStyleModel",
          "state": {
            "_view_name": "StyleView",
            "_model_name": "ProgressStyleModel",
            "description_width": "initial",
            "_view_module": "@jupyter-widgets/base",
            "_model_module_version": "1.5.0",
            "_view_count": null,
            "_view_module_version": "1.2.0",
            "bar_color": null,
            "_model_module": "@jupyter-widgets/controls"
          }
        },
        "0bd4b0b481f74283a0b48a36ca65b268": {
          "model_module": "@jupyter-widgets/base",
          "model_name": "LayoutModel",
          "state": {
            "_view_name": "LayoutView",
            "grid_template_rows": null,
            "right": null,
            "justify_content": null,
            "_view_module": "@jupyter-widgets/base",
            "overflow": null,
            "_model_module_version": "1.2.0",
            "_view_count": null,
            "flex_flow": null,
            "width": null,
            "min_width": null,
            "border": null,
            "align_items": null,
            "bottom": null,
            "_model_module": "@jupyter-widgets/base",
            "top": null,
            "grid_column": null,
            "overflow_y": null,
            "overflow_x": null,
            "grid_auto_flow": null,
            "grid_area": null,
            "grid_template_columns": null,
            "flex": null,
            "_model_name": "LayoutModel",
            "justify_items": null,
            "grid_row": null,
            "max_height": null,
            "align_content": null,
            "visibility": null,
            "align_self": null,
            "height": null,
            "min_height": null,
            "padding": null,
            "grid_auto_rows": null,
            "grid_gap": null,
            "max_width": null,
            "order": null,
            "_view_module_version": "1.2.0",
            "grid_template_areas": null,
            "object_position": null,
            "object_fit": null,
            "grid_auto_columns": null,
            "margin": null,
            "display": null,
            "left": null
          }
        },
        "2679033064114b37ac5a10a8d4e858b0": {
          "model_module": "@jupyter-widgets/controls",
          "model_name": "DescriptionStyleModel",
          "state": {
            "_view_name": "StyleView",
            "_model_name": "DescriptionStyleModel",
            "description_width": "",
            "_view_module": "@jupyter-widgets/base",
            "_model_module_version": "1.5.0",
            "_view_count": null,
            "_view_module_version": "1.2.0",
            "_model_module": "@jupyter-widgets/controls"
          }
        },
        "27bdf70db5b247599a86c8d309448bfb": {
          "model_module": "@jupyter-widgets/base",
          "model_name": "LayoutModel",
          "state": {
            "_view_name": "LayoutView",
            "grid_template_rows": null,
            "right": null,
            "justify_content": null,
            "_view_module": "@jupyter-widgets/base",
            "overflow": null,
            "_model_module_version": "1.2.0",
            "_view_count": null,
            "flex_flow": null,
            "width": null,
            "min_width": null,
            "border": null,
            "align_items": null,
            "bottom": null,
            "_model_module": "@jupyter-widgets/base",
            "top": null,
            "grid_column": null,
            "overflow_y": null,
            "overflow_x": null,
            "grid_auto_flow": null,
            "grid_area": null,
            "grid_template_columns": null,
            "flex": null,
            "_model_name": "LayoutModel",
            "justify_items": null,
            "grid_row": null,
            "max_height": null,
            "align_content": null,
            "visibility": null,
            "align_self": null,
            "height": null,
            "min_height": null,
            "padding": null,
            "grid_auto_rows": null,
            "grid_gap": null,
            "max_width": null,
            "order": null,
            "_view_module_version": "1.2.0",
            "grid_template_areas": null,
            "object_position": null,
            "object_fit": null,
            "grid_auto_columns": null,
            "margin": null,
            "display": null,
            "left": null
          }
        },
        "ffe3e1c4916e4475a4388803e13b1591": {
          "model_module": "@jupyter-widgets/controls",
          "model_name": "HBoxModel",
          "state": {
            "_view_name": "HBoxView",
            "_dom_classes": [],
            "_model_name": "HBoxModel",
            "_view_module": "@jupyter-widgets/controls",
            "_model_module_version": "1.5.0",
            "_view_count": null,
            "_view_module_version": "1.5.0",
            "box_style": "",
            "layout": "IPY_MODEL_975bf5db6b5d42d9a4e2da9d70eef322",
            "_model_module": "@jupyter-widgets/controls",
            "children": [
              "IPY_MODEL_1a89c1cbd8c140faa0494643af2955f8",
              "IPY_MODEL_89629a97672b470ba2039a830be75727"
            ]
          }
        },
        "975bf5db6b5d42d9a4e2da9d70eef322": {
          "model_module": "@jupyter-widgets/base",
          "model_name": "LayoutModel",
          "state": {
            "_view_name": "LayoutView",
            "grid_template_rows": null,
            "right": null,
            "justify_content": null,
            "_view_module": "@jupyter-widgets/base",
            "overflow": null,
            "_model_module_version": "1.2.0",
            "_view_count": null,
            "flex_flow": null,
            "width": null,
            "min_width": null,
            "border": null,
            "align_items": null,
            "bottom": null,
            "_model_module": "@jupyter-widgets/base",
            "top": null,
            "grid_column": null,
            "overflow_y": null,
            "overflow_x": null,
            "grid_auto_flow": null,
            "grid_area": null,
            "grid_template_columns": null,
            "flex": null,
            "_model_name": "LayoutModel",
            "justify_items": null,
            "grid_row": null,
            "max_height": null,
            "align_content": null,
            "visibility": null,
            "align_self": null,
            "height": null,
            "min_height": null,
            "padding": null,
            "grid_auto_rows": null,
            "grid_gap": null,
            "max_width": null,
            "order": null,
            "_view_module_version": "1.2.0",
            "grid_template_areas": null,
            "object_position": null,
            "object_fit": null,
            "grid_auto_columns": null,
            "margin": null,
            "display": null,
            "left": null
          }
        },
        "1a89c1cbd8c140faa0494643af2955f8": {
          "model_module": "@jupyter-widgets/controls",
          "model_name": "FloatProgressModel",
          "state": {
            "_view_name": "ProgressView",
            "style": "IPY_MODEL_1e4ab8f8dd434a8c85a064ecea6196a7",
            "_dom_classes": [],
            "description": "",
            "_model_name": "FloatProgressModel",
            "bar_style": "info",
            "max": 1,
            "_view_module": "@jupyter-widgets/controls",
            "_model_module_version": "1.5.0",
            "value": 1,
            "_view_count": null,
            "_view_module_version": "1.5.0",
            "orientation": "horizontal",
            "min": 0,
            "description_tooltip": null,
            "_model_module": "@jupyter-widgets/controls",
            "layout": "IPY_MODEL_3995f159fa584beeb8156ad196daeea7"
          }
        },
        "89629a97672b470ba2039a830be75727": {
          "model_module": "@jupyter-widgets/controls",
          "model_name": "HTMLModel",
          "state": {
            "_view_name": "HTMLView",
            "style": "IPY_MODEL_49ffd3d39d5942de8f367c86f62b1a4b",
            "_dom_classes": [],
            "description": "",
            "_model_name": "HTMLModel",
            "placeholder": "​",
            "_view_module": "@jupyter-widgets/controls",
            "_model_module_version": "1.5.0",
            "value": " 44/0 [00:00&lt;00:00, 858.43 examples/s]",
            "_view_count": null,
            "_view_module_version": "1.5.0",
            "description_tooltip": null,
            "_model_module": "@jupyter-widgets/controls",
            "layout": "IPY_MODEL_e2e4093b11fe49e0a190c7ae4a0ec31b"
          }
        },
        "1e4ab8f8dd434a8c85a064ecea6196a7": {
          "model_module": "@jupyter-widgets/controls",
          "model_name": "ProgressStyleModel",
          "state": {
            "_view_name": "StyleView",
            "_model_name": "ProgressStyleModel",
            "description_width": "initial",
            "_view_module": "@jupyter-widgets/base",
            "_model_module_version": "1.5.0",
            "_view_count": null,
            "_view_module_version": "1.2.0",
            "bar_color": null,
            "_model_module": "@jupyter-widgets/controls"
          }
        },
        "3995f159fa584beeb8156ad196daeea7": {
          "model_module": "@jupyter-widgets/base",
          "model_name": "LayoutModel",
          "state": {
            "_view_name": "LayoutView",
            "grid_template_rows": null,
            "right": null,
            "justify_content": null,
            "_view_module": "@jupyter-widgets/base",
            "overflow": null,
            "_model_module_version": "1.2.0",
            "_view_count": null,
            "flex_flow": null,
            "width": null,
            "min_width": null,
            "border": null,
            "align_items": null,
            "bottom": null,
            "_model_module": "@jupyter-widgets/base",
            "top": null,
            "grid_column": null,
            "overflow_y": null,
            "overflow_x": null,
            "grid_auto_flow": null,
            "grid_area": null,
            "grid_template_columns": null,
            "flex": null,
            "_model_name": "LayoutModel",
            "justify_items": null,
            "grid_row": null,
            "max_height": null,
            "align_content": null,
            "visibility": null,
            "align_self": null,
            "height": null,
            "min_height": null,
            "padding": null,
            "grid_auto_rows": null,
            "grid_gap": null,
            "max_width": null,
            "order": null,
            "_view_module_version": "1.2.0",
            "grid_template_areas": null,
            "object_position": null,
            "object_fit": null,
            "grid_auto_columns": null,
            "margin": null,
            "display": null,
            "left": null
          }
        },
        "49ffd3d39d5942de8f367c86f62b1a4b": {
          "model_module": "@jupyter-widgets/controls",
          "model_name": "DescriptionStyleModel",
          "state": {
            "_view_name": "StyleView",
            "_model_name": "DescriptionStyleModel",
            "description_width": "",
            "_view_module": "@jupyter-widgets/base",
            "_model_module_version": "1.5.0",
            "_view_count": null,
            "_view_module_version": "1.2.0",
            "_model_module": "@jupyter-widgets/controls"
          }
        },
        "e2e4093b11fe49e0a190c7ae4a0ec31b": {
          "model_module": "@jupyter-widgets/base",
          "model_name": "LayoutModel",
          "state": {
            "_view_name": "LayoutView",
            "grid_template_rows": null,
            "right": null,
            "justify_content": null,
            "_view_module": "@jupyter-widgets/base",
            "overflow": null,
            "_model_module_version": "1.2.0",
            "_view_count": null,
            "flex_flow": null,
            "width": null,
            "min_width": null,
            "border": null,
            "align_items": null,
            "bottom": null,
            "_model_module": "@jupyter-widgets/base",
            "top": null,
            "grid_column": null,
            "overflow_y": null,
            "overflow_x": null,
            "grid_auto_flow": null,
            "grid_area": null,
            "grid_template_columns": null,
            "flex": null,
            "_model_name": "LayoutModel",
            "justify_items": null,
            "grid_row": null,
            "max_height": null,
            "align_content": null,
            "visibility": null,
            "align_self": null,
            "height": null,
            "min_height": null,
            "padding": null,
            "grid_auto_rows": null,
            "grid_gap": null,
            "max_width": null,
            "order": null,
            "_view_module_version": "1.2.0",
            "grid_template_areas": null,
            "object_position": null,
            "object_fit": null,
            "grid_auto_columns": null,
            "margin": null,
            "display": null,
            "left": null
          }
        },
        "53374f44eb754b3eb0136659f15bcb8a": {
          "model_module": "@jupyter-widgets/controls",
          "model_name": "HBoxModel",
          "state": {
            "_view_name": "HBoxView",
            "_dom_classes": [],
            "_model_name": "HBoxModel",
            "_view_module": "@jupyter-widgets/controls",
            "_model_module_version": "1.5.0",
            "_view_count": null,
            "_view_module_version": "1.5.0",
            "box_style": "",
            "layout": "IPY_MODEL_42a45bbb00fc4a5f8fbf3c8f3772b9fb",
            "_model_module": "@jupyter-widgets/controls",
            "children": [
              "IPY_MODEL_9d1476f7a0464c7bb17c050b60db7ffe",
              "IPY_MODEL_530143929b4549f0995f35d329b15386"
            ]
          }
        },
        "42a45bbb00fc4a5f8fbf3c8f3772b9fb": {
          "model_module": "@jupyter-widgets/base",
          "model_name": "LayoutModel",
          "state": {
            "_view_name": "LayoutView",
            "grid_template_rows": null,
            "right": null,
            "justify_content": null,
            "_view_module": "@jupyter-widgets/base",
            "overflow": null,
            "_model_module_version": "1.2.0",
            "_view_count": null,
            "flex_flow": null,
            "width": null,
            "min_width": null,
            "border": null,
            "align_items": null,
            "bottom": null,
            "_model_module": "@jupyter-widgets/base",
            "top": null,
            "grid_column": null,
            "overflow_y": null,
            "overflow_x": null,
            "grid_auto_flow": null,
            "grid_area": null,
            "grid_template_columns": null,
            "flex": null,
            "_model_name": "LayoutModel",
            "justify_items": null,
            "grid_row": null,
            "max_height": null,
            "align_content": null,
            "visibility": null,
            "align_self": null,
            "height": null,
            "min_height": null,
            "padding": null,
            "grid_auto_rows": null,
            "grid_gap": null,
            "max_width": null,
            "order": null,
            "_view_module_version": "1.2.0",
            "grid_template_areas": null,
            "object_position": null,
            "object_fit": null,
            "grid_auto_columns": null,
            "margin": null,
            "display": null,
            "left": null
          }
        },
        "9d1476f7a0464c7bb17c050b60db7ffe": {
          "model_module": "@jupyter-widgets/controls",
          "model_name": "FloatProgressModel",
          "state": {
            "_view_name": "ProgressView",
            "style": "IPY_MODEL_59e2b17bcb8f49418271f979e14a6061",
            "_dom_classes": [],
            "description": "",
            "_model_name": "FloatProgressModel",
            "bar_style": "info",
            "max": 1,
            "_view_module": "@jupyter-widgets/controls",
            "_model_module_version": "1.5.0",
            "value": 1,
            "_view_count": null,
            "_view_module_version": "1.5.0",
            "orientation": "horizontal",
            "min": 0,
            "description_tooltip": null,
            "_model_module": "@jupyter-widgets/controls",
            "layout": "IPY_MODEL_f58afa657ad7498ca1d5cef893d13fb3"
          }
        },
        "530143929b4549f0995f35d329b15386": {
          "model_module": "@jupyter-widgets/controls",
          "model_name": "HTMLModel",
          "state": {
            "_view_name": "HTMLView",
            "style": "IPY_MODEL_fb1f5a959f504098ab0771ed62488bcf",
            "_dom_classes": [],
            "description": "",
            "_model_name": "HTMLModel",
            "placeholder": "​",
            "_view_module": "@jupyter-widgets/controls",
            "_model_module_version": "1.5.0",
            "value": " 1411/0 [00:00&lt;00:00, 8328.04 examples/s]",
            "_view_count": null,
            "_view_module_version": "1.5.0",
            "description_tooltip": null,
            "_model_module": "@jupyter-widgets/controls",
            "layout": "IPY_MODEL_924524fd4bf7494fb84f3288747cb95d"
          }
        },
        "59e2b17bcb8f49418271f979e14a6061": {
          "model_module": "@jupyter-widgets/controls",
          "model_name": "ProgressStyleModel",
          "state": {
            "_view_name": "StyleView",
            "_model_name": "ProgressStyleModel",
            "description_width": "initial",
            "_view_module": "@jupyter-widgets/base",
            "_model_module_version": "1.5.0",
            "_view_count": null,
            "_view_module_version": "1.2.0",
            "bar_color": null,
            "_model_module": "@jupyter-widgets/controls"
          }
        },
        "f58afa657ad7498ca1d5cef893d13fb3": {
          "model_module": "@jupyter-widgets/base",
          "model_name": "LayoutModel",
          "state": {
            "_view_name": "LayoutView",
            "grid_template_rows": null,
            "right": null,
            "justify_content": null,
            "_view_module": "@jupyter-widgets/base",
            "overflow": null,
            "_model_module_version": "1.2.0",
            "_view_count": null,
            "flex_flow": null,
            "width": null,
            "min_width": null,
            "border": null,
            "align_items": null,
            "bottom": null,
            "_model_module": "@jupyter-widgets/base",
            "top": null,
            "grid_column": null,
            "overflow_y": null,
            "overflow_x": null,
            "grid_auto_flow": null,
            "grid_area": null,
            "grid_template_columns": null,
            "flex": null,
            "_model_name": "LayoutModel",
            "justify_items": null,
            "grid_row": null,
            "max_height": null,
            "align_content": null,
            "visibility": null,
            "align_self": null,
            "height": null,
            "min_height": null,
            "padding": null,
            "grid_auto_rows": null,
            "grid_gap": null,
            "max_width": null,
            "order": null,
            "_view_module_version": "1.2.0",
            "grid_template_areas": null,
            "object_position": null,
            "object_fit": null,
            "grid_auto_columns": null,
            "margin": null,
            "display": null,
            "left": null
          }
        },
        "fb1f5a959f504098ab0771ed62488bcf": {
          "model_module": "@jupyter-widgets/controls",
          "model_name": "DescriptionStyleModel",
          "state": {
            "_view_name": "StyleView",
            "_model_name": "DescriptionStyleModel",
            "description_width": "",
            "_view_module": "@jupyter-widgets/base",
            "_model_module_version": "1.5.0",
            "_view_count": null,
            "_view_module_version": "1.2.0",
            "_model_module": "@jupyter-widgets/controls"
          }
        },
        "924524fd4bf7494fb84f3288747cb95d": {
          "model_module": "@jupyter-widgets/base",
          "model_name": "LayoutModel",
          "state": {
            "_view_name": "LayoutView",
            "grid_template_rows": null,
            "right": null,
            "justify_content": null,
            "_view_module": "@jupyter-widgets/base",
            "overflow": null,
            "_model_module_version": "1.2.0",
            "_view_count": null,
            "flex_flow": null,
            "width": null,
            "min_width": null,
            "border": null,
            "align_items": null,
            "bottom": null,
            "_model_module": "@jupyter-widgets/base",
            "top": null,
            "grid_column": null,
            "overflow_y": null,
            "overflow_x": null,
            "grid_auto_flow": null,
            "grid_area": null,
            "grid_template_columns": null,
            "flex": null,
            "_model_name": "LayoutModel",
            "justify_items": null,
            "grid_row": null,
            "max_height": null,
            "align_content": null,
            "visibility": null,
            "align_self": null,
            "height": null,
            "min_height": null,
            "padding": null,
            "grid_auto_rows": null,
            "grid_gap": null,
            "max_width": null,
            "order": null,
            "_view_module_version": "1.2.0",
            "grid_template_areas": null,
            "object_position": null,
            "object_fit": null,
            "grid_auto_columns": null,
            "margin": null,
            "display": null,
            "left": null
          }
        },
        "2cedac79e4e0433686168055ca192290": {
          "model_module": "@jupyter-widgets/controls",
          "model_name": "HBoxModel",
          "state": {
            "_view_name": "HBoxView",
            "_dom_classes": [],
            "_model_name": "HBoxModel",
            "_view_module": "@jupyter-widgets/controls",
            "_model_module_version": "1.5.0",
            "_view_count": null,
            "_view_module_version": "1.5.0",
            "box_style": "",
            "layout": "IPY_MODEL_f3d926f980e04be5b7461a489748b258",
            "_model_module": "@jupyter-widgets/controls",
            "children": [
              "IPY_MODEL_06851ec089fd4c19b9eb2d72648c4b37",
              "IPY_MODEL_d320716e6079469bb40c51cfbe62cdb1"
            ]
          }
        },
        "f3d926f980e04be5b7461a489748b258": {
          "model_module": "@jupyter-widgets/base",
          "model_name": "LayoutModel",
          "state": {
            "_view_name": "LayoutView",
            "grid_template_rows": null,
            "right": null,
            "justify_content": null,
            "_view_module": "@jupyter-widgets/base",
            "overflow": null,
            "_model_module_version": "1.2.0",
            "_view_count": null,
            "flex_flow": null,
            "width": null,
            "min_width": null,
            "border": null,
            "align_items": null,
            "bottom": null,
            "_model_module": "@jupyter-widgets/base",
            "top": null,
            "grid_column": null,
            "overflow_y": null,
            "overflow_x": null,
            "grid_auto_flow": null,
            "grid_area": null,
            "grid_template_columns": null,
            "flex": null,
            "_model_name": "LayoutModel",
            "justify_items": null,
            "grid_row": null,
            "max_height": null,
            "align_content": null,
            "visibility": null,
            "align_self": null,
            "height": null,
            "min_height": null,
            "padding": null,
            "grid_auto_rows": null,
            "grid_gap": null,
            "max_width": null,
            "order": null,
            "_view_module_version": "1.2.0",
            "grid_template_areas": null,
            "object_position": null,
            "object_fit": null,
            "grid_auto_columns": null,
            "margin": null,
            "display": null,
            "left": null
          }
        },
        "06851ec089fd4c19b9eb2d72648c4b37": {
          "model_module": "@jupyter-widgets/controls",
          "model_name": "FloatProgressModel",
          "state": {
            "_view_name": "ProgressView",
            "style": "IPY_MODEL_dd2497b68f80419a8036715a30fca35e",
            "_dom_classes": [],
            "description": "",
            "_model_name": "FloatProgressModel",
            "bar_style": "info",
            "max": 1,
            "_view_module": "@jupyter-widgets/controls",
            "_model_module_version": "1.5.0",
            "value": 1,
            "_view_count": null,
            "_view_module_version": "1.5.0",
            "orientation": "horizontal",
            "min": 0,
            "description_tooltip": null,
            "_model_module": "@jupyter-widgets/controls",
            "layout": "IPY_MODEL_1c91781832dc462baede0433400d03c5"
          }
        },
        "d320716e6079469bb40c51cfbe62cdb1": {
          "model_module": "@jupyter-widgets/controls",
          "model_name": "HTMLModel",
          "state": {
            "_view_name": "HTMLView",
            "style": "IPY_MODEL_d55248e8ea5642d9b94c57051f91a169",
            "_dom_classes": [],
            "description": "",
            "_model_name": "HTMLModel",
            "placeholder": "​",
            "_view_module": "@jupyter-widgets/controls",
            "_model_module_version": "1.5.0",
            "value": " 43/0 [00:00&lt;00:00, 1044.04 examples/s]",
            "_view_count": null,
            "_view_module_version": "1.5.0",
            "description_tooltip": null,
            "_model_module": "@jupyter-widgets/controls",
            "layout": "IPY_MODEL_2487521e57d244219a692f30e7420df6"
          }
        },
        "dd2497b68f80419a8036715a30fca35e": {
          "model_module": "@jupyter-widgets/controls",
          "model_name": "ProgressStyleModel",
          "state": {
            "_view_name": "StyleView",
            "_model_name": "ProgressStyleModel",
            "description_width": "initial",
            "_view_module": "@jupyter-widgets/base",
            "_model_module_version": "1.5.0",
            "_view_count": null,
            "_view_module_version": "1.2.0",
            "bar_color": null,
            "_model_module": "@jupyter-widgets/controls"
          }
        },
        "1c91781832dc462baede0433400d03c5": {
          "model_module": "@jupyter-widgets/base",
          "model_name": "LayoutModel",
          "state": {
            "_view_name": "LayoutView",
            "grid_template_rows": null,
            "right": null,
            "justify_content": null,
            "_view_module": "@jupyter-widgets/base",
            "overflow": null,
            "_model_module_version": "1.2.0",
            "_view_count": null,
            "flex_flow": null,
            "width": null,
            "min_width": null,
            "border": null,
            "align_items": null,
            "bottom": null,
            "_model_module": "@jupyter-widgets/base",
            "top": null,
            "grid_column": null,
            "overflow_y": null,
            "overflow_x": null,
            "grid_auto_flow": null,
            "grid_area": null,
            "grid_template_columns": null,
            "flex": null,
            "_model_name": "LayoutModel",
            "justify_items": null,
            "grid_row": null,
            "max_height": null,
            "align_content": null,
            "visibility": null,
            "align_self": null,
            "height": null,
            "min_height": null,
            "padding": null,
            "grid_auto_rows": null,
            "grid_gap": null,
            "max_width": null,
            "order": null,
            "_view_module_version": "1.2.0",
            "grid_template_areas": null,
            "object_position": null,
            "object_fit": null,
            "grid_auto_columns": null,
            "margin": null,
            "display": null,
            "left": null
          }
        },
        "d55248e8ea5642d9b94c57051f91a169": {
          "model_module": "@jupyter-widgets/controls",
          "model_name": "DescriptionStyleModel",
          "state": {
            "_view_name": "StyleView",
            "_model_name": "DescriptionStyleModel",
            "description_width": "",
            "_view_module": "@jupyter-widgets/base",
            "_model_module_version": "1.5.0",
            "_view_count": null,
            "_view_module_version": "1.2.0",
            "_model_module": "@jupyter-widgets/controls"
          }
        },
        "2487521e57d244219a692f30e7420df6": {
          "model_module": "@jupyter-widgets/base",
          "model_name": "LayoutModel",
          "state": {
            "_view_name": "LayoutView",
            "grid_template_rows": null,
            "right": null,
            "justify_content": null,
            "_view_module": "@jupyter-widgets/base",
            "overflow": null,
            "_model_module_version": "1.2.0",
            "_view_count": null,
            "flex_flow": null,
            "width": null,
            "min_width": null,
            "border": null,
            "align_items": null,
            "bottom": null,
            "_model_module": "@jupyter-widgets/base",
            "top": null,
            "grid_column": null,
            "overflow_y": null,
            "overflow_x": null,
            "grid_auto_flow": null,
            "grid_area": null,
            "grid_template_columns": null,
            "flex": null,
            "_model_name": "LayoutModel",
            "justify_items": null,
            "grid_row": null,
            "max_height": null,
            "align_content": null,
            "visibility": null,
            "align_self": null,
            "height": null,
            "min_height": null,
            "padding": null,
            "grid_auto_rows": null,
            "grid_gap": null,
            "max_width": null,
            "order": null,
            "_view_module_version": "1.2.0",
            "grid_template_areas": null,
            "object_position": null,
            "object_fit": null,
            "grid_auto_columns": null,
            "margin": null,
            "display": null,
            "left": null
          }
        },
        "749149f485314076abf5cb89ce30e399": {
          "model_module": "@jupyter-widgets/controls",
          "model_name": "HBoxModel",
          "state": {
            "_view_name": "HBoxView",
            "_dom_classes": [],
            "_model_name": "HBoxModel",
            "_view_module": "@jupyter-widgets/controls",
            "_model_module_version": "1.5.0",
            "_view_count": null,
            "_view_module_version": "1.5.0",
            "box_style": "",
            "layout": "IPY_MODEL_5c145c7a6c264051abbb223e475786cf",
            "_model_module": "@jupyter-widgets/controls",
            "children": [
              "IPY_MODEL_c72205cc8eba4ceb9b9c998b428a2c9d",
              "IPY_MODEL_e138671a3653444d8b5c80281cd1a693"
            ]
          }
        },
        "5c145c7a6c264051abbb223e475786cf": {
          "model_module": "@jupyter-widgets/base",
          "model_name": "LayoutModel",
          "state": {
            "_view_name": "LayoutView",
            "grid_template_rows": null,
            "right": null,
            "justify_content": null,
            "_view_module": "@jupyter-widgets/base",
            "overflow": null,
            "_model_module_version": "1.2.0",
            "_view_count": null,
            "flex_flow": null,
            "width": null,
            "min_width": null,
            "border": null,
            "align_items": null,
            "bottom": null,
            "_model_module": "@jupyter-widgets/base",
            "top": null,
            "grid_column": null,
            "overflow_y": null,
            "overflow_x": null,
            "grid_auto_flow": null,
            "grid_area": null,
            "grid_template_columns": null,
            "flex": null,
            "_model_name": "LayoutModel",
            "justify_items": null,
            "grid_row": null,
            "max_height": null,
            "align_content": null,
            "visibility": null,
            "align_self": null,
            "height": null,
            "min_height": null,
            "padding": null,
            "grid_auto_rows": null,
            "grid_gap": null,
            "max_width": null,
            "order": null,
            "_view_module_version": "1.2.0",
            "grid_template_areas": null,
            "object_position": null,
            "object_fit": null,
            "grid_auto_columns": null,
            "margin": null,
            "display": null,
            "left": null
          }
        },
        "c72205cc8eba4ceb9b9c998b428a2c9d": {
          "model_module": "@jupyter-widgets/controls",
          "model_name": "FloatProgressModel",
          "state": {
            "_view_name": "ProgressView",
            "style": "IPY_MODEL_21802660f80e418aae8028e4b82afde0",
            "_dom_classes": [],
            "description": "100%",
            "_model_name": "FloatProgressModel",
            "bar_style": "success",
            "max": 255,
            "_view_module": "@jupyter-widgets/controls",
            "_model_module_version": "1.5.0",
            "value": 255,
            "_view_count": null,
            "_view_module_version": "1.5.0",
            "orientation": "horizontal",
            "min": 0,
            "description_tooltip": null,
            "_model_module": "@jupyter-widgets/controls",
            "layout": "IPY_MODEL_f47fd6edf8fd412eb35c9a6482fc380c"
          }
        },
        "e138671a3653444d8b5c80281cd1a693": {
          "model_module": "@jupyter-widgets/controls",
          "model_name": "HTMLModel",
          "state": {
            "_view_name": "HTMLView",
            "style": "IPY_MODEL_a4c36e1d0dbb429182ea9470de3cdcb0",
            "_dom_classes": [],
            "description": "",
            "_model_name": "HTMLModel",
            "placeholder": "​",
            "_view_module": "@jupyter-widgets/controls",
            "_model_module_version": "1.5.0",
            "value": " 255/255 [00:09&lt;00:00, 25.95ex/s]",
            "_view_count": null,
            "_view_module_version": "1.5.0",
            "description_tooltip": null,
            "_model_module": "@jupyter-widgets/controls",
            "layout": "IPY_MODEL_12cabe6e48bf478b8d2507ddf76eb29e"
          }
        },
        "21802660f80e418aae8028e4b82afde0": {
          "model_module": "@jupyter-widgets/controls",
          "model_name": "ProgressStyleModel",
          "state": {
            "_view_name": "StyleView",
            "_model_name": "ProgressStyleModel",
            "description_width": "initial",
            "_view_module": "@jupyter-widgets/base",
            "_model_module_version": "1.5.0",
            "_view_count": null,
            "_view_module_version": "1.2.0",
            "bar_color": null,
            "_model_module": "@jupyter-widgets/controls"
          }
        },
        "f47fd6edf8fd412eb35c9a6482fc380c": {
          "model_module": "@jupyter-widgets/base",
          "model_name": "LayoutModel",
          "state": {
            "_view_name": "LayoutView",
            "grid_template_rows": null,
            "right": null,
            "justify_content": null,
            "_view_module": "@jupyter-widgets/base",
            "overflow": null,
            "_model_module_version": "1.2.0",
            "_view_count": null,
            "flex_flow": null,
            "width": null,
            "min_width": null,
            "border": null,
            "align_items": null,
            "bottom": null,
            "_model_module": "@jupyter-widgets/base",
            "top": null,
            "grid_column": null,
            "overflow_y": null,
            "overflow_x": null,
            "grid_auto_flow": null,
            "grid_area": null,
            "grid_template_columns": null,
            "flex": null,
            "_model_name": "LayoutModel",
            "justify_items": null,
            "grid_row": null,
            "max_height": null,
            "align_content": null,
            "visibility": null,
            "align_self": null,
            "height": null,
            "min_height": null,
            "padding": null,
            "grid_auto_rows": null,
            "grid_gap": null,
            "max_width": null,
            "order": null,
            "_view_module_version": "1.2.0",
            "grid_template_areas": null,
            "object_position": null,
            "object_fit": null,
            "grid_auto_columns": null,
            "margin": null,
            "display": null,
            "left": null
          }
        },
        "a4c36e1d0dbb429182ea9470de3cdcb0": {
          "model_module": "@jupyter-widgets/controls",
          "model_name": "DescriptionStyleModel",
          "state": {
            "_view_name": "StyleView",
            "_model_name": "DescriptionStyleModel",
            "description_width": "",
            "_view_module": "@jupyter-widgets/base",
            "_model_module_version": "1.5.0",
            "_view_count": null,
            "_view_module_version": "1.2.0",
            "_model_module": "@jupyter-widgets/controls"
          }
        },
        "12cabe6e48bf478b8d2507ddf76eb29e": {
          "model_module": "@jupyter-widgets/base",
          "model_name": "LayoutModel",
          "state": {
            "_view_name": "LayoutView",
            "grid_template_rows": null,
            "right": null,
            "justify_content": null,
            "_view_module": "@jupyter-widgets/base",
            "overflow": null,
            "_model_module_version": "1.2.0",
            "_view_count": null,
            "flex_flow": null,
            "width": null,
            "min_width": null,
            "border": null,
            "align_items": null,
            "bottom": null,
            "_model_module": "@jupyter-widgets/base",
            "top": null,
            "grid_column": null,
            "overflow_y": null,
            "overflow_x": null,
            "grid_auto_flow": null,
            "grid_area": null,
            "grid_template_columns": null,
            "flex": null,
            "_model_name": "LayoutModel",
            "justify_items": null,
            "grid_row": null,
            "max_height": null,
            "align_content": null,
            "visibility": null,
            "align_self": null,
            "height": null,
            "min_height": null,
            "padding": null,
            "grid_auto_rows": null,
            "grid_gap": null,
            "max_width": null,
            "order": null,
            "_view_module_version": "1.2.0",
            "grid_template_areas": null,
            "object_position": null,
            "object_fit": null,
            "grid_auto_columns": null,
            "margin": null,
            "display": null,
            "left": null
          }
        },
        "7118e9c56c22450b9ef2e3d4437ec470": {
          "model_module": "@jupyter-widgets/controls",
          "model_name": "HBoxModel",
          "state": {
            "_view_name": "HBoxView",
            "_dom_classes": [],
            "_model_name": "HBoxModel",
            "_view_module": "@jupyter-widgets/controls",
            "_model_module_version": "1.5.0",
            "_view_count": null,
            "_view_module_version": "1.5.0",
            "box_style": "",
            "layout": "IPY_MODEL_cd8e7e4550104d55890e78383fbf261c",
            "_model_module": "@jupyter-widgets/controls",
            "children": [
              "IPY_MODEL_edc8d9371f0d4a46a60c91d46469e9b4",
              "IPY_MODEL_3193971d852e4b8abbdc0f9ab571583e"
            ]
          }
        },
        "cd8e7e4550104d55890e78383fbf261c": {
          "model_module": "@jupyter-widgets/base",
          "model_name": "LayoutModel",
          "state": {
            "_view_name": "LayoutView",
            "grid_template_rows": null,
            "right": null,
            "justify_content": null,
            "_view_module": "@jupyter-widgets/base",
            "overflow": null,
            "_model_module_version": "1.2.0",
            "_view_count": null,
            "flex_flow": null,
            "width": null,
            "min_width": null,
            "border": null,
            "align_items": null,
            "bottom": null,
            "_model_module": "@jupyter-widgets/base",
            "top": null,
            "grid_column": null,
            "overflow_y": null,
            "overflow_x": null,
            "grid_auto_flow": null,
            "grid_area": null,
            "grid_template_columns": null,
            "flex": null,
            "_model_name": "LayoutModel",
            "justify_items": null,
            "grid_row": null,
            "max_height": null,
            "align_content": null,
            "visibility": null,
            "align_self": null,
            "height": null,
            "min_height": null,
            "padding": null,
            "grid_auto_rows": null,
            "grid_gap": null,
            "max_width": null,
            "order": null,
            "_view_module_version": "1.2.0",
            "grid_template_areas": null,
            "object_position": null,
            "object_fit": null,
            "grid_auto_columns": null,
            "margin": null,
            "display": null,
            "left": null
          }
        },
        "edc8d9371f0d4a46a60c91d46469e9b4": {
          "model_module": "@jupyter-widgets/controls",
          "model_name": "FloatProgressModel",
          "state": {
            "_view_name": "ProgressView",
            "style": "IPY_MODEL_8d67915cfc314643b7b7f0043de819cd",
            "_dom_classes": [],
            "description": "100%",
            "_model_name": "FloatProgressModel",
            "bar_style": "success",
            "max": 116,
            "_view_module": "@jupyter-widgets/controls",
            "_model_module_version": "1.5.0",
            "value": 116,
            "_view_count": null,
            "_view_module_version": "1.5.0",
            "orientation": "horizontal",
            "min": 0,
            "description_tooltip": null,
            "_model_module": "@jupyter-widgets/controls",
            "layout": "IPY_MODEL_03c39b53ef4a4d018e4f0011e4048dad"
          }
        },
        "3193971d852e4b8abbdc0f9ab571583e": {
          "model_module": "@jupyter-widgets/controls",
          "model_name": "HTMLModel",
          "state": {
            "_view_name": "HTMLView",
            "style": "IPY_MODEL_e51820dfcd854f0bbd640a82fba9b9c1",
            "_dom_classes": [],
            "description": "",
            "_model_name": "HTMLModel",
            "placeholder": "​",
            "_view_module": "@jupyter-widgets/controls",
            "_model_module_version": "1.5.0",
            "value": " 116/116 [00:00&lt;00:00, 1050.50ex/s]",
            "_view_count": null,
            "_view_module_version": "1.5.0",
            "description_tooltip": null,
            "_model_module": "@jupyter-widgets/controls",
            "layout": "IPY_MODEL_d7ca34e1d69443acb739fec71d600de4"
          }
        },
        "8d67915cfc314643b7b7f0043de819cd": {
          "model_module": "@jupyter-widgets/controls",
          "model_name": "ProgressStyleModel",
          "state": {
            "_view_name": "StyleView",
            "_model_name": "ProgressStyleModel",
            "description_width": "initial",
            "_view_module": "@jupyter-widgets/base",
            "_model_module_version": "1.5.0",
            "_view_count": null,
            "_view_module_version": "1.2.0",
            "bar_color": null,
            "_model_module": "@jupyter-widgets/controls"
          }
        },
        "03c39b53ef4a4d018e4f0011e4048dad": {
          "model_module": "@jupyter-widgets/base",
          "model_name": "LayoutModel",
          "state": {
            "_view_name": "LayoutView",
            "grid_template_rows": null,
            "right": null,
            "justify_content": null,
            "_view_module": "@jupyter-widgets/base",
            "overflow": null,
            "_model_module_version": "1.2.0",
            "_view_count": null,
            "flex_flow": null,
            "width": null,
            "min_width": null,
            "border": null,
            "align_items": null,
            "bottom": null,
            "_model_module": "@jupyter-widgets/base",
            "top": null,
            "grid_column": null,
            "overflow_y": null,
            "overflow_x": null,
            "grid_auto_flow": null,
            "grid_area": null,
            "grid_template_columns": null,
            "flex": null,
            "_model_name": "LayoutModel",
            "justify_items": null,
            "grid_row": null,
            "max_height": null,
            "align_content": null,
            "visibility": null,
            "align_self": null,
            "height": null,
            "min_height": null,
            "padding": null,
            "grid_auto_rows": null,
            "grid_gap": null,
            "max_width": null,
            "order": null,
            "_view_module_version": "1.2.0",
            "grid_template_areas": null,
            "object_position": null,
            "object_fit": null,
            "grid_auto_columns": null,
            "margin": null,
            "display": null,
            "left": null
          }
        },
        "e51820dfcd854f0bbd640a82fba9b9c1": {
          "model_module": "@jupyter-widgets/controls",
          "model_name": "DescriptionStyleModel",
          "state": {
            "_view_name": "StyleView",
            "_model_name": "DescriptionStyleModel",
            "description_width": "",
            "_view_module": "@jupyter-widgets/base",
            "_model_module_version": "1.5.0",
            "_view_count": null,
            "_view_module_version": "1.2.0",
            "_model_module": "@jupyter-widgets/controls"
          }
        },
        "d7ca34e1d69443acb739fec71d600de4": {
          "model_module": "@jupyter-widgets/base",
          "model_name": "LayoutModel",
          "state": {
            "_view_name": "LayoutView",
            "grid_template_rows": null,
            "right": null,
            "justify_content": null,
            "_view_module": "@jupyter-widgets/base",
            "overflow": null,
            "_model_module_version": "1.2.0",
            "_view_count": null,
            "flex_flow": null,
            "width": null,
            "min_width": null,
            "border": null,
            "align_items": null,
            "bottom": null,
            "_model_module": "@jupyter-widgets/base",
            "top": null,
            "grid_column": null,
            "overflow_y": null,
            "overflow_x": null,
            "grid_auto_flow": null,
            "grid_area": null,
            "grid_template_columns": null,
            "flex": null,
            "_model_name": "LayoutModel",
            "justify_items": null,
            "grid_row": null,
            "max_height": null,
            "align_content": null,
            "visibility": null,
            "align_self": null,
            "height": null,
            "min_height": null,
            "padding": null,
            "grid_auto_rows": null,
            "grid_gap": null,
            "max_width": null,
            "order": null,
            "_view_module_version": "1.2.0",
            "grid_template_areas": null,
            "object_position": null,
            "object_fit": null,
            "grid_auto_columns": null,
            "margin": null,
            "display": null,
            "left": null
          }
        },
        "1cc36a4a58b54ddc92d18d3567a7ab34": {
          "model_module": "@jupyter-widgets/controls",
          "model_name": "HBoxModel",
          "state": {
            "_view_name": "HBoxView",
            "_dom_classes": [],
            "_model_name": "HBoxModel",
            "_view_module": "@jupyter-widgets/controls",
            "_model_module_version": "1.5.0",
            "_view_count": null,
            "_view_module_version": "1.5.0",
            "box_style": "",
            "layout": "IPY_MODEL_2b53189622494bbe81c87a4ae8165868",
            "_model_module": "@jupyter-widgets/controls",
            "children": [
              "IPY_MODEL_298031db9bb7409db3c7a40d9fa9549b",
              "IPY_MODEL_4d510831357c42b1902e08e8826ac98b"
            ]
          }
        },
        "2b53189622494bbe81c87a4ae8165868": {
          "model_module": "@jupyter-widgets/base",
          "model_name": "LayoutModel",
          "state": {
            "_view_name": "LayoutView",
            "grid_template_rows": null,
            "right": null,
            "justify_content": null,
            "_view_module": "@jupyter-widgets/base",
            "overflow": null,
            "_model_module_version": "1.2.0",
            "_view_count": null,
            "flex_flow": null,
            "width": null,
            "min_width": null,
            "border": null,
            "align_items": null,
            "bottom": null,
            "_model_module": "@jupyter-widgets/base",
            "top": null,
            "grid_column": null,
            "overflow_y": null,
            "overflow_x": null,
            "grid_auto_flow": null,
            "grid_area": null,
            "grid_template_columns": null,
            "flex": null,
            "_model_name": "LayoutModel",
            "justify_items": null,
            "grid_row": null,
            "max_height": null,
            "align_content": null,
            "visibility": null,
            "align_self": null,
            "height": null,
            "min_height": null,
            "padding": null,
            "grid_auto_rows": null,
            "grid_gap": null,
            "max_width": null,
            "order": null,
            "_view_module_version": "1.2.0",
            "grid_template_areas": null,
            "object_position": null,
            "object_fit": null,
            "grid_auto_columns": null,
            "margin": null,
            "display": null,
            "left": null
          }
        },
        "298031db9bb7409db3c7a40d9fa9549b": {
          "model_module": "@jupyter-widgets/controls",
          "model_name": "FloatProgressModel",
          "state": {
            "_view_name": "ProgressView",
            "style": "IPY_MODEL_e0960d90d1f04a0bad2147d41bcf098a",
            "_dom_classes": [],
            "description": "100%",
            "_model_name": "FloatProgressModel",
            "bar_style": "success",
            "max": 1,
            "_view_module": "@jupyter-widgets/controls",
            "_model_module_version": "1.5.0",
            "value": 1,
            "_view_count": null,
            "_view_module_version": "1.5.0",
            "orientation": "horizontal",
            "min": 0,
            "description_tooltip": null,
            "_model_module": "@jupyter-widgets/controls",
            "layout": "IPY_MODEL_3e41fe65a79f478ca4db390fbbd01b18"
          }
        },
        "4d510831357c42b1902e08e8826ac98b": {
          "model_module": "@jupyter-widgets/controls",
          "model_name": "HTMLModel",
          "state": {
            "_view_name": "HTMLView",
            "style": "IPY_MODEL_ff18a55f207647be83094516c4066d03",
            "_dom_classes": [],
            "description": "",
            "_model_name": "HTMLModel",
            "placeholder": "​",
            "_view_module": "@jupyter-widgets/controls",
            "_model_module_version": "1.5.0",
            "value": " 1/1 [00:09&lt;00:00,  9.67s/ba]",
            "_view_count": null,
            "_view_module_version": "1.5.0",
            "description_tooltip": null,
            "_model_module": "@jupyter-widgets/controls",
            "layout": "IPY_MODEL_6006fc85c7ce43e19dd36ac67489ec82"
          }
        },
        "e0960d90d1f04a0bad2147d41bcf098a": {
          "model_module": "@jupyter-widgets/controls",
          "model_name": "ProgressStyleModel",
          "state": {
            "_view_name": "StyleView",
            "_model_name": "ProgressStyleModel",
            "description_width": "initial",
            "_view_module": "@jupyter-widgets/base",
            "_model_module_version": "1.5.0",
            "_view_count": null,
            "_view_module_version": "1.2.0",
            "bar_color": null,
            "_model_module": "@jupyter-widgets/controls"
          }
        },
        "3e41fe65a79f478ca4db390fbbd01b18": {
          "model_module": "@jupyter-widgets/base",
          "model_name": "LayoutModel",
          "state": {
            "_view_name": "LayoutView",
            "grid_template_rows": null,
            "right": null,
            "justify_content": null,
            "_view_module": "@jupyter-widgets/base",
            "overflow": null,
            "_model_module_version": "1.2.0",
            "_view_count": null,
            "flex_flow": null,
            "width": null,
            "min_width": null,
            "border": null,
            "align_items": null,
            "bottom": null,
            "_model_module": "@jupyter-widgets/base",
            "top": null,
            "grid_column": null,
            "overflow_y": null,
            "overflow_x": null,
            "grid_auto_flow": null,
            "grid_area": null,
            "grid_template_columns": null,
            "flex": null,
            "_model_name": "LayoutModel",
            "justify_items": null,
            "grid_row": null,
            "max_height": null,
            "align_content": null,
            "visibility": null,
            "align_self": null,
            "height": null,
            "min_height": null,
            "padding": null,
            "grid_auto_rows": null,
            "grid_gap": null,
            "max_width": null,
            "order": null,
            "_view_module_version": "1.2.0",
            "grid_template_areas": null,
            "object_position": null,
            "object_fit": null,
            "grid_auto_columns": null,
            "margin": null,
            "display": null,
            "left": null
          }
        },
        "ff18a55f207647be83094516c4066d03": {
          "model_module": "@jupyter-widgets/controls",
          "model_name": "DescriptionStyleModel",
          "state": {
            "_view_name": "StyleView",
            "_model_name": "DescriptionStyleModel",
            "description_width": "",
            "_view_module": "@jupyter-widgets/base",
            "_model_module_version": "1.5.0",
            "_view_count": null,
            "_view_module_version": "1.2.0",
            "_model_module": "@jupyter-widgets/controls"
          }
        },
        "6006fc85c7ce43e19dd36ac67489ec82": {
          "model_module": "@jupyter-widgets/base",
          "model_name": "LayoutModel",
          "state": {
            "_view_name": "LayoutView",
            "grid_template_rows": null,
            "right": null,
            "justify_content": null,
            "_view_module": "@jupyter-widgets/base",
            "overflow": null,
            "_model_module_version": "1.2.0",
            "_view_count": null,
            "flex_flow": null,
            "width": null,
            "min_width": null,
            "border": null,
            "align_items": null,
            "bottom": null,
            "_model_module": "@jupyter-widgets/base",
            "top": null,
            "grid_column": null,
            "overflow_y": null,
            "overflow_x": null,
            "grid_auto_flow": null,
            "grid_area": null,
            "grid_template_columns": null,
            "flex": null,
            "_model_name": "LayoutModel",
            "justify_items": null,
            "grid_row": null,
            "max_height": null,
            "align_content": null,
            "visibility": null,
            "align_self": null,
            "height": null,
            "min_height": null,
            "padding": null,
            "grid_auto_rows": null,
            "grid_gap": null,
            "max_width": null,
            "order": null,
            "_view_module_version": "1.2.0",
            "grid_template_areas": null,
            "object_position": null,
            "object_fit": null,
            "grid_auto_columns": null,
            "margin": null,
            "display": null,
            "left": null
          }
        },
        "3876a74bb303461dafc2698210da1593": {
          "model_module": "@jupyter-widgets/controls",
          "model_name": "HBoxModel",
          "state": {
            "_view_name": "HBoxView",
            "_dom_classes": [],
            "_model_name": "HBoxModel",
            "_view_module": "@jupyter-widgets/controls",
            "_model_module_version": "1.5.0",
            "_view_count": null,
            "_view_module_version": "1.5.0",
            "box_style": "",
            "layout": "IPY_MODEL_eb0951ceed904f97ac836f5a95083b53",
            "_model_module": "@jupyter-widgets/controls",
            "children": [
              "IPY_MODEL_481cecefbdf040dfb22d50f17071502a",
              "IPY_MODEL_9e30203f9e5840c2b8ff2072ce236e72"
            ]
          }
        },
        "eb0951ceed904f97ac836f5a95083b53": {
          "model_module": "@jupyter-widgets/base",
          "model_name": "LayoutModel",
          "state": {
            "_view_name": "LayoutView",
            "grid_template_rows": null,
            "right": null,
            "justify_content": null,
            "_view_module": "@jupyter-widgets/base",
            "overflow": null,
            "_model_module_version": "1.2.0",
            "_view_count": null,
            "flex_flow": null,
            "width": null,
            "min_width": null,
            "border": null,
            "align_items": null,
            "bottom": null,
            "_model_module": "@jupyter-widgets/base",
            "top": null,
            "grid_column": null,
            "overflow_y": null,
            "overflow_x": null,
            "grid_auto_flow": null,
            "grid_area": null,
            "grid_template_columns": null,
            "flex": null,
            "_model_name": "LayoutModel",
            "justify_items": null,
            "grid_row": null,
            "max_height": null,
            "align_content": null,
            "visibility": null,
            "align_self": null,
            "height": null,
            "min_height": null,
            "padding": null,
            "grid_auto_rows": null,
            "grid_gap": null,
            "max_width": null,
            "order": null,
            "_view_module_version": "1.2.0",
            "grid_template_areas": null,
            "object_position": null,
            "object_fit": null,
            "grid_auto_columns": null,
            "margin": null,
            "display": null,
            "left": null
          }
        },
        "481cecefbdf040dfb22d50f17071502a": {
          "model_module": "@jupyter-widgets/controls",
          "model_name": "FloatProgressModel",
          "state": {
            "_view_name": "ProgressView",
            "style": "IPY_MODEL_c4f5a36d00b54c48a6de7f3a35aa2fae",
            "_dom_classes": [],
            "description": "100%",
            "_model_name": "FloatProgressModel",
            "bar_style": "success",
            "max": 1,
            "_view_module": "@jupyter-widgets/controls",
            "_model_module_version": "1.5.0",
            "value": 1,
            "_view_count": null,
            "_view_module_version": "1.5.0",
            "orientation": "horizontal",
            "min": 0,
            "description_tooltip": null,
            "_model_module": "@jupyter-widgets/controls",
            "layout": "IPY_MODEL_0ed1e84d3a2c4fce8b2053a57426f48a"
          }
        },
        "9e30203f9e5840c2b8ff2072ce236e72": {
          "model_module": "@jupyter-widgets/controls",
          "model_name": "HTMLModel",
          "state": {
            "_view_name": "HTMLView",
            "style": "IPY_MODEL_95aa861a48544ab99b9881eb4227973b",
            "_dom_classes": [],
            "description": "",
            "_model_name": "HTMLModel",
            "placeholder": "​",
            "_view_module": "@jupyter-widgets/controls",
            "_model_module_version": "1.5.0",
            "value": " 1/1 [00:00&lt;00:00,  7.62ba/s]",
            "_view_count": null,
            "_view_module_version": "1.5.0",
            "description_tooltip": null,
            "_model_module": "@jupyter-widgets/controls",
            "layout": "IPY_MODEL_abfc3693e8a74f63ae626ba698ca927b"
          }
        },
        "c4f5a36d00b54c48a6de7f3a35aa2fae": {
          "model_module": "@jupyter-widgets/controls",
          "model_name": "ProgressStyleModel",
          "state": {
            "_view_name": "StyleView",
            "_model_name": "ProgressStyleModel",
            "description_width": "initial",
            "_view_module": "@jupyter-widgets/base",
            "_model_module_version": "1.5.0",
            "_view_count": null,
            "_view_module_version": "1.2.0",
            "bar_color": null,
            "_model_module": "@jupyter-widgets/controls"
          }
        },
        "0ed1e84d3a2c4fce8b2053a57426f48a": {
          "model_module": "@jupyter-widgets/base",
          "model_name": "LayoutModel",
          "state": {
            "_view_name": "LayoutView",
            "grid_template_rows": null,
            "right": null,
            "justify_content": null,
            "_view_module": "@jupyter-widgets/base",
            "overflow": null,
            "_model_module_version": "1.2.0",
            "_view_count": null,
            "flex_flow": null,
            "width": null,
            "min_width": null,
            "border": null,
            "align_items": null,
            "bottom": null,
            "_model_module": "@jupyter-widgets/base",
            "top": null,
            "grid_column": null,
            "overflow_y": null,
            "overflow_x": null,
            "grid_auto_flow": null,
            "grid_area": null,
            "grid_template_columns": null,
            "flex": null,
            "_model_name": "LayoutModel",
            "justify_items": null,
            "grid_row": null,
            "max_height": null,
            "align_content": null,
            "visibility": null,
            "align_self": null,
            "height": null,
            "min_height": null,
            "padding": null,
            "grid_auto_rows": null,
            "grid_gap": null,
            "max_width": null,
            "order": null,
            "_view_module_version": "1.2.0",
            "grid_template_areas": null,
            "object_position": null,
            "object_fit": null,
            "grid_auto_columns": null,
            "margin": null,
            "display": null,
            "left": null
          }
        },
        "95aa861a48544ab99b9881eb4227973b": {
          "model_module": "@jupyter-widgets/controls",
          "model_name": "DescriptionStyleModel",
          "state": {
            "_view_name": "StyleView",
            "_model_name": "DescriptionStyleModel",
            "description_width": "",
            "_view_module": "@jupyter-widgets/base",
            "_model_module_version": "1.5.0",
            "_view_count": null,
            "_view_module_version": "1.2.0",
            "_model_module": "@jupyter-widgets/controls"
          }
        },
        "abfc3693e8a74f63ae626ba698ca927b": {
          "model_module": "@jupyter-widgets/base",
          "model_name": "LayoutModel",
          "state": {
            "_view_name": "LayoutView",
            "grid_template_rows": null,
            "right": null,
            "justify_content": null,
            "_view_module": "@jupyter-widgets/base",
            "overflow": null,
            "_model_module_version": "1.2.0",
            "_view_count": null,
            "flex_flow": null,
            "width": null,
            "min_width": null,
            "border": null,
            "align_items": null,
            "bottom": null,
            "_model_module": "@jupyter-widgets/base",
            "top": null,
            "grid_column": null,
            "overflow_y": null,
            "overflow_x": null,
            "grid_auto_flow": null,
            "grid_area": null,
            "grid_template_columns": null,
            "flex": null,
            "_model_name": "LayoutModel",
            "justify_items": null,
            "grid_row": null,
            "max_height": null,
            "align_content": null,
            "visibility": null,
            "align_self": null,
            "height": null,
            "min_height": null,
            "padding": null,
            "grid_auto_rows": null,
            "grid_gap": null,
            "max_width": null,
            "order": null,
            "_view_module_version": "1.2.0",
            "grid_template_areas": null,
            "object_position": null,
            "object_fit": null,
            "grid_auto_columns": null,
            "margin": null,
            "display": null,
            "left": null
          }
        },
        "26659223749148d9a0bdee3c5a711196": {
          "model_module": "@jupyter-widgets/controls",
          "model_name": "HBoxModel",
          "state": {
            "_view_name": "HBoxView",
            "_dom_classes": [],
            "_model_name": "HBoxModel",
            "_view_module": "@jupyter-widgets/controls",
            "_model_module_version": "1.5.0",
            "_view_count": null,
            "_view_module_version": "1.5.0",
            "box_style": "",
            "layout": "IPY_MODEL_1c4681d633cf4cea98ad68c561845a5a",
            "_model_module": "@jupyter-widgets/controls",
            "children": [
              "IPY_MODEL_92a17c33006a41adb98f69541ca28f1f",
              "IPY_MODEL_b692e687104b40b794676d3eaed1bf5b"
            ]
          }
        },
        "1c4681d633cf4cea98ad68c561845a5a": {
          "model_module": "@jupyter-widgets/base",
          "model_name": "LayoutModel",
          "state": {
            "_view_name": "LayoutView",
            "grid_template_rows": null,
            "right": null,
            "justify_content": null,
            "_view_module": "@jupyter-widgets/base",
            "overflow": null,
            "_model_module_version": "1.2.0",
            "_view_count": null,
            "flex_flow": null,
            "width": null,
            "min_width": null,
            "border": null,
            "align_items": null,
            "bottom": null,
            "_model_module": "@jupyter-widgets/base",
            "top": null,
            "grid_column": null,
            "overflow_y": null,
            "overflow_x": null,
            "grid_auto_flow": null,
            "grid_area": null,
            "grid_template_columns": null,
            "flex": null,
            "_model_name": "LayoutModel",
            "justify_items": null,
            "grid_row": null,
            "max_height": null,
            "align_content": null,
            "visibility": null,
            "align_self": null,
            "height": null,
            "min_height": null,
            "padding": null,
            "grid_auto_rows": null,
            "grid_gap": null,
            "max_width": null,
            "order": null,
            "_view_module_version": "1.2.0",
            "grid_template_areas": null,
            "object_position": null,
            "object_fit": null,
            "grid_auto_columns": null,
            "margin": null,
            "display": null,
            "left": null
          }
        },
        "92a17c33006a41adb98f69541ca28f1f": {
          "model_module": "@jupyter-widgets/controls",
          "model_name": "FloatProgressModel",
          "state": {
            "_view_name": "ProgressView",
            "style": "IPY_MODEL_63c1debb733146e9b5529e98793541ed",
            "_dom_classes": [],
            "description": "100%",
            "_model_name": "FloatProgressModel",
            "bar_style": "success",
            "max": 255,
            "_view_module": "@jupyter-widgets/controls",
            "_model_module_version": "1.5.0",
            "value": 255,
            "_view_count": null,
            "_view_module_version": "1.5.0",
            "orientation": "horizontal",
            "min": 0,
            "description_tooltip": null,
            "_model_module": "@jupyter-widgets/controls",
            "layout": "IPY_MODEL_a61a3c1f4be14da1be505f2df9958890"
          }
        },
        "b692e687104b40b794676d3eaed1bf5b": {
          "model_module": "@jupyter-widgets/controls",
          "model_name": "HTMLModel",
          "state": {
            "_view_name": "HTMLView",
            "style": "IPY_MODEL_002cdfd55d4a4a5995c8aa6bdd11ab44",
            "_dom_classes": [],
            "description": "",
            "_model_name": "HTMLModel",
            "placeholder": "​",
            "_view_module": "@jupyter-widgets/controls",
            "_model_module_version": "1.5.0",
            "value": " 255/255 [00:09&lt;00:00, 27.44ex/s]",
            "_view_count": null,
            "_view_module_version": "1.5.0",
            "description_tooltip": null,
            "_model_module": "@jupyter-widgets/controls",
            "layout": "IPY_MODEL_17e794cc5f984c51b06b60dc2ac36229"
          }
        },
        "63c1debb733146e9b5529e98793541ed": {
          "model_module": "@jupyter-widgets/controls",
          "model_name": "ProgressStyleModel",
          "state": {
            "_view_name": "StyleView",
            "_model_name": "ProgressStyleModel",
            "description_width": "initial",
            "_view_module": "@jupyter-widgets/base",
            "_model_module_version": "1.5.0",
            "_view_count": null,
            "_view_module_version": "1.2.0",
            "bar_color": null,
            "_model_module": "@jupyter-widgets/controls"
          }
        },
        "a61a3c1f4be14da1be505f2df9958890": {
          "model_module": "@jupyter-widgets/base",
          "model_name": "LayoutModel",
          "state": {
            "_view_name": "LayoutView",
            "grid_template_rows": null,
            "right": null,
            "justify_content": null,
            "_view_module": "@jupyter-widgets/base",
            "overflow": null,
            "_model_module_version": "1.2.0",
            "_view_count": null,
            "flex_flow": null,
            "width": null,
            "min_width": null,
            "border": null,
            "align_items": null,
            "bottom": null,
            "_model_module": "@jupyter-widgets/base",
            "top": null,
            "grid_column": null,
            "overflow_y": null,
            "overflow_x": null,
            "grid_auto_flow": null,
            "grid_area": null,
            "grid_template_columns": null,
            "flex": null,
            "_model_name": "LayoutModel",
            "justify_items": null,
            "grid_row": null,
            "max_height": null,
            "align_content": null,
            "visibility": null,
            "align_self": null,
            "height": null,
            "min_height": null,
            "padding": null,
            "grid_auto_rows": null,
            "grid_gap": null,
            "max_width": null,
            "order": null,
            "_view_module_version": "1.2.0",
            "grid_template_areas": null,
            "object_position": null,
            "object_fit": null,
            "grid_auto_columns": null,
            "margin": null,
            "display": null,
            "left": null
          }
        },
        "002cdfd55d4a4a5995c8aa6bdd11ab44": {
          "model_module": "@jupyter-widgets/controls",
          "model_name": "DescriptionStyleModel",
          "state": {
            "_view_name": "StyleView",
            "_model_name": "DescriptionStyleModel",
            "description_width": "",
            "_view_module": "@jupyter-widgets/base",
            "_model_module_version": "1.5.0",
            "_view_count": null,
            "_view_module_version": "1.2.0",
            "_model_module": "@jupyter-widgets/controls"
          }
        },
        "17e794cc5f984c51b06b60dc2ac36229": {
          "model_module": "@jupyter-widgets/base",
          "model_name": "LayoutModel",
          "state": {
            "_view_name": "LayoutView",
            "grid_template_rows": null,
            "right": null,
            "justify_content": null,
            "_view_module": "@jupyter-widgets/base",
            "overflow": null,
            "_model_module_version": "1.2.0",
            "_view_count": null,
            "flex_flow": null,
            "width": null,
            "min_width": null,
            "border": null,
            "align_items": null,
            "bottom": null,
            "_model_module": "@jupyter-widgets/base",
            "top": null,
            "grid_column": null,
            "overflow_y": null,
            "overflow_x": null,
            "grid_auto_flow": null,
            "grid_area": null,
            "grid_template_columns": null,
            "flex": null,
            "_model_name": "LayoutModel",
            "justify_items": null,
            "grid_row": null,
            "max_height": null,
            "align_content": null,
            "visibility": null,
            "align_self": null,
            "height": null,
            "min_height": null,
            "padding": null,
            "grid_auto_rows": null,
            "grid_gap": null,
            "max_width": null,
            "order": null,
            "_view_module_version": "1.2.0",
            "grid_template_areas": null,
            "object_position": null,
            "object_fit": null,
            "grid_auto_columns": null,
            "margin": null,
            "display": null,
            "left": null
          }
        },
        "2a9503f293e8435683d5da33716bd257": {
          "model_module": "@jupyter-widgets/controls",
          "model_name": "HBoxModel",
          "state": {
            "_view_name": "HBoxView",
            "_dom_classes": [],
            "_model_name": "HBoxModel",
            "_view_module": "@jupyter-widgets/controls",
            "_model_module_version": "1.5.0",
            "_view_count": null,
            "_view_module_version": "1.5.0",
            "box_style": "",
            "layout": "IPY_MODEL_ae355697f52b40d5b22a8f69566b59b2",
            "_model_module": "@jupyter-widgets/controls",
            "children": [
              "IPY_MODEL_c454812d67334e4e9e7f53e5f559b98d",
              "IPY_MODEL_c034b2f47a404ee585ad5d733008d84c"
            ]
          }
        },
        "ae355697f52b40d5b22a8f69566b59b2": {
          "model_module": "@jupyter-widgets/base",
          "model_name": "LayoutModel",
          "state": {
            "_view_name": "LayoutView",
            "grid_template_rows": null,
            "right": null,
            "justify_content": null,
            "_view_module": "@jupyter-widgets/base",
            "overflow": null,
            "_model_module_version": "1.2.0",
            "_view_count": null,
            "flex_flow": null,
            "width": null,
            "min_width": null,
            "border": null,
            "align_items": null,
            "bottom": null,
            "_model_module": "@jupyter-widgets/base",
            "top": null,
            "grid_column": null,
            "overflow_y": null,
            "overflow_x": null,
            "grid_auto_flow": null,
            "grid_area": null,
            "grid_template_columns": null,
            "flex": null,
            "_model_name": "LayoutModel",
            "justify_items": null,
            "grid_row": null,
            "max_height": null,
            "align_content": null,
            "visibility": null,
            "align_self": null,
            "height": null,
            "min_height": null,
            "padding": null,
            "grid_auto_rows": null,
            "grid_gap": null,
            "max_width": null,
            "order": null,
            "_view_module_version": "1.2.0",
            "grid_template_areas": null,
            "object_position": null,
            "object_fit": null,
            "grid_auto_columns": null,
            "margin": null,
            "display": null,
            "left": null
          }
        },
        "c454812d67334e4e9e7f53e5f559b98d": {
          "model_module": "@jupyter-widgets/controls",
          "model_name": "FloatProgressModel",
          "state": {
            "_view_name": "ProgressView",
            "style": "IPY_MODEL_c971d8dbab0a445a98fd1a23126d22d9",
            "_dom_classes": [],
            "description": "100%",
            "_model_name": "FloatProgressModel",
            "bar_style": "success",
            "max": 116,
            "_view_module": "@jupyter-widgets/controls",
            "_model_module_version": "1.5.0",
            "value": 116,
            "_view_count": null,
            "_view_module_version": "1.5.0",
            "orientation": "horizontal",
            "min": 0,
            "description_tooltip": null,
            "_model_module": "@jupyter-widgets/controls",
            "layout": "IPY_MODEL_5a7253e7b7804732906357f08030f1c8"
          }
        },
        "c034b2f47a404ee585ad5d733008d84c": {
          "model_module": "@jupyter-widgets/controls",
          "model_name": "HTMLModel",
          "state": {
            "_view_name": "HTMLView",
            "style": "IPY_MODEL_7315ca7227fc4caaaaac35b15fedb064",
            "_dom_classes": [],
            "description": "",
            "_model_name": "HTMLModel",
            "placeholder": "​",
            "_view_module": "@jupyter-widgets/controls",
            "_model_module_version": "1.5.0",
            "value": " 116/116 [00:02&lt;00:00, 44.83ex/s]",
            "_view_count": null,
            "_view_module_version": "1.5.0",
            "description_tooltip": null,
            "_model_module": "@jupyter-widgets/controls",
            "layout": "IPY_MODEL_673a7e4843bd4de98da43001f423b9af"
          }
        },
        "c971d8dbab0a445a98fd1a23126d22d9": {
          "model_module": "@jupyter-widgets/controls",
          "model_name": "ProgressStyleModel",
          "state": {
            "_view_name": "StyleView",
            "_model_name": "ProgressStyleModel",
            "description_width": "initial",
            "_view_module": "@jupyter-widgets/base",
            "_model_module_version": "1.5.0",
            "_view_count": null,
            "_view_module_version": "1.2.0",
            "bar_color": null,
            "_model_module": "@jupyter-widgets/controls"
          }
        },
        "5a7253e7b7804732906357f08030f1c8": {
          "model_module": "@jupyter-widgets/base",
          "model_name": "LayoutModel",
          "state": {
            "_view_name": "LayoutView",
            "grid_template_rows": null,
            "right": null,
            "justify_content": null,
            "_view_module": "@jupyter-widgets/base",
            "overflow": null,
            "_model_module_version": "1.2.0",
            "_view_count": null,
            "flex_flow": null,
            "width": null,
            "min_width": null,
            "border": null,
            "align_items": null,
            "bottom": null,
            "_model_module": "@jupyter-widgets/base",
            "top": null,
            "grid_column": null,
            "overflow_y": null,
            "overflow_x": null,
            "grid_auto_flow": null,
            "grid_area": null,
            "grid_template_columns": null,
            "flex": null,
            "_model_name": "LayoutModel",
            "justify_items": null,
            "grid_row": null,
            "max_height": null,
            "align_content": null,
            "visibility": null,
            "align_self": null,
            "height": null,
            "min_height": null,
            "padding": null,
            "grid_auto_rows": null,
            "grid_gap": null,
            "max_width": null,
            "order": null,
            "_view_module_version": "1.2.0",
            "grid_template_areas": null,
            "object_position": null,
            "object_fit": null,
            "grid_auto_columns": null,
            "margin": null,
            "display": null,
            "left": null
          }
        },
        "7315ca7227fc4caaaaac35b15fedb064": {
          "model_module": "@jupyter-widgets/controls",
          "model_name": "DescriptionStyleModel",
          "state": {
            "_view_name": "StyleView",
            "_model_name": "DescriptionStyleModel",
            "description_width": "",
            "_view_module": "@jupyter-widgets/base",
            "_model_module_version": "1.5.0",
            "_view_count": null,
            "_view_module_version": "1.2.0",
            "_model_module": "@jupyter-widgets/controls"
          }
        },
        "673a7e4843bd4de98da43001f423b9af": {
          "model_module": "@jupyter-widgets/base",
          "model_name": "LayoutModel",
          "state": {
            "_view_name": "LayoutView",
            "grid_template_rows": null,
            "right": null,
            "justify_content": null,
            "_view_module": "@jupyter-widgets/base",
            "overflow": null,
            "_model_module_version": "1.2.0",
            "_view_count": null,
            "flex_flow": null,
            "width": null,
            "min_width": null,
            "border": null,
            "align_items": null,
            "bottom": null,
            "_model_module": "@jupyter-widgets/base",
            "top": null,
            "grid_column": null,
            "overflow_y": null,
            "overflow_x": null,
            "grid_auto_flow": null,
            "grid_area": null,
            "grid_template_columns": null,
            "flex": null,
            "_model_name": "LayoutModel",
            "justify_items": null,
            "grid_row": null,
            "max_height": null,
            "align_content": null,
            "visibility": null,
            "align_self": null,
            "height": null,
            "min_height": null,
            "padding": null,
            "grid_auto_rows": null,
            "grid_gap": null,
            "max_width": null,
            "order": null,
            "_view_module_version": "1.2.0",
            "grid_template_areas": null,
            "object_position": null,
            "object_fit": null,
            "grid_auto_columns": null,
            "margin": null,
            "display": null,
            "left": null
          }
        },
        "202a0c2754ac4b36a708dbc4ba6fbd47": {
          "model_module": "@jupyter-widgets/controls",
          "model_name": "HBoxModel",
          "state": {
            "_view_name": "HBoxView",
            "_dom_classes": [],
            "_model_name": "HBoxModel",
            "_view_module": "@jupyter-widgets/controls",
            "_model_module_version": "1.5.0",
            "_view_count": null,
            "_view_module_version": "1.5.0",
            "box_style": "",
            "layout": "IPY_MODEL_bcd44767cf7f4161996c0b75e4783e20",
            "_model_module": "@jupyter-widgets/controls",
            "children": [
              "IPY_MODEL_ba3e6c3e940540d581746d363ed13e64",
              "IPY_MODEL_447c80c2956245f5a3454f422663f870"
            ]
          }
        },
        "bcd44767cf7f4161996c0b75e4783e20": {
          "model_module": "@jupyter-widgets/base",
          "model_name": "LayoutModel",
          "state": {
            "_view_name": "LayoutView",
            "grid_template_rows": null,
            "right": null,
            "justify_content": null,
            "_view_module": "@jupyter-widgets/base",
            "overflow": null,
            "_model_module_version": "1.2.0",
            "_view_count": null,
            "flex_flow": null,
            "width": null,
            "min_width": null,
            "border": null,
            "align_items": null,
            "bottom": null,
            "_model_module": "@jupyter-widgets/base",
            "top": null,
            "grid_column": null,
            "overflow_y": null,
            "overflow_x": null,
            "grid_auto_flow": null,
            "grid_area": null,
            "grid_template_columns": null,
            "flex": null,
            "_model_name": "LayoutModel",
            "justify_items": null,
            "grid_row": null,
            "max_height": null,
            "align_content": null,
            "visibility": null,
            "align_self": null,
            "height": null,
            "min_height": null,
            "padding": null,
            "grid_auto_rows": null,
            "grid_gap": null,
            "max_width": null,
            "order": null,
            "_view_module_version": "1.2.0",
            "grid_template_areas": null,
            "object_position": null,
            "object_fit": null,
            "grid_auto_columns": null,
            "margin": null,
            "display": null,
            "left": null
          }
        },
        "ba3e6c3e940540d581746d363ed13e64": {
          "model_module": "@jupyter-widgets/controls",
          "model_name": "FloatProgressModel",
          "state": {
            "_view_name": "ProgressView",
            "style": "IPY_MODEL_03071f1100454cb7ab4bd257e37f0ebd",
            "_dom_classes": [],
            "description": "#1: 100%",
            "_model_name": "FloatProgressModel",
            "bar_style": "success",
            "max": 64,
            "_view_module": "@jupyter-widgets/controls",
            "_model_module_version": "1.5.0",
            "value": 64,
            "_view_count": null,
            "_view_module_version": "1.5.0",
            "orientation": "horizontal",
            "min": 0,
            "description_tooltip": null,
            "_model_module": "@jupyter-widgets/controls",
            "layout": "IPY_MODEL_a62c6f752dff49b4a1e470ad94511647"
          }
        },
        "447c80c2956245f5a3454f422663f870": {
          "model_module": "@jupyter-widgets/controls",
          "model_name": "HTMLModel",
          "state": {
            "_view_name": "HTMLView",
            "style": "IPY_MODEL_164f99269f3a4d32b31b55716569d4d7",
            "_dom_classes": [],
            "description": "",
            "_model_name": "HTMLModel",
            "placeholder": "​",
            "_view_module": "@jupyter-widgets/controls",
            "_model_module_version": "1.5.0",
            "value": " 64/64 [00:49&lt;00:00,  1.30ex/s]",
            "_view_count": null,
            "_view_module_version": "1.5.0",
            "description_tooltip": null,
            "_model_module": "@jupyter-widgets/controls",
            "layout": "IPY_MODEL_25c2aea52eb94ad09f154590fadff692"
          }
        },
        "03071f1100454cb7ab4bd257e37f0ebd": {
          "model_module": "@jupyter-widgets/controls",
          "model_name": "ProgressStyleModel",
          "state": {
            "_view_name": "StyleView",
            "_model_name": "ProgressStyleModel",
            "description_width": "initial",
            "_view_module": "@jupyter-widgets/base",
            "_model_module_version": "1.5.0",
            "_view_count": null,
            "_view_module_version": "1.2.0",
            "bar_color": null,
            "_model_module": "@jupyter-widgets/controls"
          }
        },
        "a62c6f752dff49b4a1e470ad94511647": {
          "model_module": "@jupyter-widgets/base",
          "model_name": "LayoutModel",
          "state": {
            "_view_name": "LayoutView",
            "grid_template_rows": null,
            "right": null,
            "justify_content": null,
            "_view_module": "@jupyter-widgets/base",
            "overflow": null,
            "_model_module_version": "1.2.0",
            "_view_count": null,
            "flex_flow": null,
            "width": null,
            "min_width": null,
            "border": null,
            "align_items": null,
            "bottom": null,
            "_model_module": "@jupyter-widgets/base",
            "top": null,
            "grid_column": null,
            "overflow_y": null,
            "overflow_x": null,
            "grid_auto_flow": null,
            "grid_area": null,
            "grid_template_columns": null,
            "flex": null,
            "_model_name": "LayoutModel",
            "justify_items": null,
            "grid_row": null,
            "max_height": null,
            "align_content": null,
            "visibility": null,
            "align_self": null,
            "height": null,
            "min_height": null,
            "padding": null,
            "grid_auto_rows": null,
            "grid_gap": null,
            "max_width": null,
            "order": null,
            "_view_module_version": "1.2.0",
            "grid_template_areas": null,
            "object_position": null,
            "object_fit": null,
            "grid_auto_columns": null,
            "margin": null,
            "display": null,
            "left": null
          }
        },
        "164f99269f3a4d32b31b55716569d4d7": {
          "model_module": "@jupyter-widgets/controls",
          "model_name": "DescriptionStyleModel",
          "state": {
            "_view_name": "StyleView",
            "_model_name": "DescriptionStyleModel",
            "description_width": "",
            "_view_module": "@jupyter-widgets/base",
            "_model_module_version": "1.5.0",
            "_view_count": null,
            "_view_module_version": "1.2.0",
            "_model_module": "@jupyter-widgets/controls"
          }
        },
        "25c2aea52eb94ad09f154590fadff692": {
          "model_module": "@jupyter-widgets/base",
          "model_name": "LayoutModel",
          "state": {
            "_view_name": "LayoutView",
            "grid_template_rows": null,
            "right": null,
            "justify_content": null,
            "_view_module": "@jupyter-widgets/base",
            "overflow": null,
            "_model_module_version": "1.2.0",
            "_view_count": null,
            "flex_flow": null,
            "width": null,
            "min_width": null,
            "border": null,
            "align_items": null,
            "bottom": null,
            "_model_module": "@jupyter-widgets/base",
            "top": null,
            "grid_column": null,
            "overflow_y": null,
            "overflow_x": null,
            "grid_auto_flow": null,
            "grid_area": null,
            "grid_template_columns": null,
            "flex": null,
            "_model_name": "LayoutModel",
            "justify_items": null,
            "grid_row": null,
            "max_height": null,
            "align_content": null,
            "visibility": null,
            "align_self": null,
            "height": null,
            "min_height": null,
            "padding": null,
            "grid_auto_rows": null,
            "grid_gap": null,
            "max_width": null,
            "order": null,
            "_view_module_version": "1.2.0",
            "grid_template_areas": null,
            "object_position": null,
            "object_fit": null,
            "grid_auto_columns": null,
            "margin": null,
            "display": null,
            "left": null
          }
        },
        "bcdc911bf75f4d44a7a40947a4b2f9cb": {
          "model_module": "@jupyter-widgets/controls",
          "model_name": "HBoxModel",
          "state": {
            "_view_name": "HBoxView",
            "_dom_classes": [],
            "_model_name": "HBoxModel",
            "_view_module": "@jupyter-widgets/controls",
            "_model_module_version": "1.5.0",
            "_view_count": null,
            "_view_module_version": "1.5.0",
            "box_style": "",
            "layout": "IPY_MODEL_e5a1410278cf4933a7b566cab9c9aee7",
            "_model_module": "@jupyter-widgets/controls",
            "children": [
              "IPY_MODEL_f0dfe2db7475499387ffd7d75edff955",
              "IPY_MODEL_1b830e1bfb46412a8c6c11084265955b"
            ]
          }
        },
        "e5a1410278cf4933a7b566cab9c9aee7": {
          "model_module": "@jupyter-widgets/base",
          "model_name": "LayoutModel",
          "state": {
            "_view_name": "LayoutView",
            "grid_template_rows": null,
            "right": null,
            "justify_content": null,
            "_view_module": "@jupyter-widgets/base",
            "overflow": null,
            "_model_module_version": "1.2.0",
            "_view_count": null,
            "flex_flow": null,
            "width": null,
            "min_width": null,
            "border": null,
            "align_items": null,
            "bottom": null,
            "_model_module": "@jupyter-widgets/base",
            "top": null,
            "grid_column": null,
            "overflow_y": null,
            "overflow_x": null,
            "grid_auto_flow": null,
            "grid_area": null,
            "grid_template_columns": null,
            "flex": null,
            "_model_name": "LayoutModel",
            "justify_items": null,
            "grid_row": null,
            "max_height": null,
            "align_content": null,
            "visibility": null,
            "align_self": null,
            "height": null,
            "min_height": null,
            "padding": null,
            "grid_auto_rows": null,
            "grid_gap": null,
            "max_width": null,
            "order": null,
            "_view_module_version": "1.2.0",
            "grid_template_areas": null,
            "object_position": null,
            "object_fit": null,
            "grid_auto_columns": null,
            "margin": null,
            "display": null,
            "left": null
          }
        },
        "f0dfe2db7475499387ffd7d75edff955": {
          "model_module": "@jupyter-widgets/controls",
          "model_name": "FloatProgressModel",
          "state": {
            "_view_name": "ProgressView",
            "style": "IPY_MODEL_28b2e59613e648628a921b8762a86910",
            "_dom_classes": [],
            "description": "#0: 100%",
            "_model_name": "FloatProgressModel",
            "bar_style": "success",
            "max": 64,
            "_view_module": "@jupyter-widgets/controls",
            "_model_module_version": "1.5.0",
            "value": 64,
            "_view_count": null,
            "_view_module_version": "1.5.0",
            "orientation": "horizontal",
            "min": 0,
            "description_tooltip": null,
            "_model_module": "@jupyter-widgets/controls",
            "layout": "IPY_MODEL_760d9ca1f2434eddba8f682f02fb967d"
          }
        },
        "1b830e1bfb46412a8c6c11084265955b": {
          "model_module": "@jupyter-widgets/controls",
          "model_name": "HTMLModel",
          "state": {
            "_view_name": "HTMLView",
            "style": "IPY_MODEL_9903c0dd7541474dbbeb228b8b73b7e5",
            "_dom_classes": [],
            "description": "",
            "_model_name": "HTMLModel",
            "placeholder": "​",
            "_view_module": "@jupyter-widgets/controls",
            "_model_module_version": "1.5.0",
            "value": " 64/64 [00:51&lt;00:00,  1.25ex/s]",
            "_view_count": null,
            "_view_module_version": "1.5.0",
            "description_tooltip": null,
            "_model_module": "@jupyter-widgets/controls",
            "layout": "IPY_MODEL_c74198192e894cdbaa5e51e6808888ce"
          }
        },
        "28b2e59613e648628a921b8762a86910": {
          "model_module": "@jupyter-widgets/controls",
          "model_name": "ProgressStyleModel",
          "state": {
            "_view_name": "StyleView",
            "_model_name": "ProgressStyleModel",
            "description_width": "initial",
            "_view_module": "@jupyter-widgets/base",
            "_model_module_version": "1.5.0",
            "_view_count": null,
            "_view_module_version": "1.2.0",
            "bar_color": null,
            "_model_module": "@jupyter-widgets/controls"
          }
        },
        "760d9ca1f2434eddba8f682f02fb967d": {
          "model_module": "@jupyter-widgets/base",
          "model_name": "LayoutModel",
          "state": {
            "_view_name": "LayoutView",
            "grid_template_rows": null,
            "right": null,
            "justify_content": null,
            "_view_module": "@jupyter-widgets/base",
            "overflow": null,
            "_model_module_version": "1.2.0",
            "_view_count": null,
            "flex_flow": null,
            "width": null,
            "min_width": null,
            "border": null,
            "align_items": null,
            "bottom": null,
            "_model_module": "@jupyter-widgets/base",
            "top": null,
            "grid_column": null,
            "overflow_y": null,
            "overflow_x": null,
            "grid_auto_flow": null,
            "grid_area": null,
            "grid_template_columns": null,
            "flex": null,
            "_model_name": "LayoutModel",
            "justify_items": null,
            "grid_row": null,
            "max_height": null,
            "align_content": null,
            "visibility": null,
            "align_self": null,
            "height": null,
            "min_height": null,
            "padding": null,
            "grid_auto_rows": null,
            "grid_gap": null,
            "max_width": null,
            "order": null,
            "_view_module_version": "1.2.0",
            "grid_template_areas": null,
            "object_position": null,
            "object_fit": null,
            "grid_auto_columns": null,
            "margin": null,
            "display": null,
            "left": null
          }
        },
        "9903c0dd7541474dbbeb228b8b73b7e5": {
          "model_module": "@jupyter-widgets/controls",
          "model_name": "DescriptionStyleModel",
          "state": {
            "_view_name": "StyleView",
            "_model_name": "DescriptionStyleModel",
            "description_width": "",
            "_view_module": "@jupyter-widgets/base",
            "_model_module_version": "1.5.0",
            "_view_count": null,
            "_view_module_version": "1.2.0",
            "_model_module": "@jupyter-widgets/controls"
          }
        },
        "c74198192e894cdbaa5e51e6808888ce": {
          "model_module": "@jupyter-widgets/base",
          "model_name": "LayoutModel",
          "state": {
            "_view_name": "LayoutView",
            "grid_template_rows": null,
            "right": null,
            "justify_content": null,
            "_view_module": "@jupyter-widgets/base",
            "overflow": null,
            "_model_module_version": "1.2.0",
            "_view_count": null,
            "flex_flow": null,
            "width": null,
            "min_width": null,
            "border": null,
            "align_items": null,
            "bottom": null,
            "_model_module": "@jupyter-widgets/base",
            "top": null,
            "grid_column": null,
            "overflow_y": null,
            "overflow_x": null,
            "grid_auto_flow": null,
            "grid_area": null,
            "grid_template_columns": null,
            "flex": null,
            "_model_name": "LayoutModel",
            "justify_items": null,
            "grid_row": null,
            "max_height": null,
            "align_content": null,
            "visibility": null,
            "align_self": null,
            "height": null,
            "min_height": null,
            "padding": null,
            "grid_auto_rows": null,
            "grid_gap": null,
            "max_width": null,
            "order": null,
            "_view_module_version": "1.2.0",
            "grid_template_areas": null,
            "object_position": null,
            "object_fit": null,
            "grid_auto_columns": null,
            "margin": null,
            "display": null,
            "left": null
          }
        },
        "f8c8c5d627a347d78548f56605f26c72": {
          "model_module": "@jupyter-widgets/controls",
          "model_name": "HBoxModel",
          "state": {
            "_view_name": "HBoxView",
            "_dom_classes": [],
            "_model_name": "HBoxModel",
            "_view_module": "@jupyter-widgets/controls",
            "_model_module_version": "1.5.0",
            "_view_count": null,
            "_view_module_version": "1.5.0",
            "box_style": "",
            "layout": "IPY_MODEL_6c30925c907d47c290eaf2c16ac8e205",
            "_model_module": "@jupyter-widgets/controls",
            "children": [
              "IPY_MODEL_ac3e9d4c248b4343b5e3c419a6e897b0",
              "IPY_MODEL_fb9f537b058845479f1f1594168e0bbf"
            ]
          }
        },
        "6c30925c907d47c290eaf2c16ac8e205": {
          "model_module": "@jupyter-widgets/base",
          "model_name": "LayoutModel",
          "state": {
            "_view_name": "LayoutView",
            "grid_template_rows": null,
            "right": null,
            "justify_content": null,
            "_view_module": "@jupyter-widgets/base",
            "overflow": null,
            "_model_module_version": "1.2.0",
            "_view_count": null,
            "flex_flow": null,
            "width": null,
            "min_width": null,
            "border": null,
            "align_items": null,
            "bottom": null,
            "_model_module": "@jupyter-widgets/base",
            "top": null,
            "grid_column": null,
            "overflow_y": null,
            "overflow_x": null,
            "grid_auto_flow": null,
            "grid_area": null,
            "grid_template_columns": null,
            "flex": null,
            "_model_name": "LayoutModel",
            "justify_items": null,
            "grid_row": null,
            "max_height": null,
            "align_content": null,
            "visibility": null,
            "align_self": null,
            "height": null,
            "min_height": null,
            "padding": null,
            "grid_auto_rows": null,
            "grid_gap": null,
            "max_width": null,
            "order": null,
            "_view_module_version": "1.2.0",
            "grid_template_areas": null,
            "object_position": null,
            "object_fit": null,
            "grid_auto_columns": null,
            "margin": null,
            "display": null,
            "left": null
          }
        },
        "ac3e9d4c248b4343b5e3c419a6e897b0": {
          "model_module": "@jupyter-widgets/controls",
          "model_name": "FloatProgressModel",
          "state": {
            "_view_name": "ProgressView",
            "style": "IPY_MODEL_c4cae9af98494a0492650f2140808672",
            "_dom_classes": [],
            "description": "#2: 100%",
            "_model_name": "FloatProgressModel",
            "bar_style": "success",
            "max": 64,
            "_view_module": "@jupyter-widgets/controls",
            "_model_module_version": "1.5.0",
            "value": 64,
            "_view_count": null,
            "_view_module_version": "1.5.0",
            "orientation": "horizontal",
            "min": 0,
            "description_tooltip": null,
            "_model_module": "@jupyter-widgets/controls",
            "layout": "IPY_MODEL_602a3a1b34da414b94704d536480df76"
          }
        },
        "fb9f537b058845479f1f1594168e0bbf": {
          "model_module": "@jupyter-widgets/controls",
          "model_name": "HTMLModel",
          "state": {
            "_view_name": "HTMLView",
            "style": "IPY_MODEL_d10532e8d15a49c5be42019f249789ed",
            "_dom_classes": [],
            "description": "",
            "_model_name": "HTMLModel",
            "placeholder": "​",
            "_view_module": "@jupyter-widgets/controls",
            "_model_module_version": "1.5.0",
            "value": " 64/64 [00:47&lt;00:00,  1.34ex/s]",
            "_view_count": null,
            "_view_module_version": "1.5.0",
            "description_tooltip": null,
            "_model_module": "@jupyter-widgets/controls",
            "layout": "IPY_MODEL_e8e1790405604195b9e45c4c62da03da"
          }
        },
        "c4cae9af98494a0492650f2140808672": {
          "model_module": "@jupyter-widgets/controls",
          "model_name": "ProgressStyleModel",
          "state": {
            "_view_name": "StyleView",
            "_model_name": "ProgressStyleModel",
            "description_width": "initial",
            "_view_module": "@jupyter-widgets/base",
            "_model_module_version": "1.5.0",
            "_view_count": null,
            "_view_module_version": "1.2.0",
            "bar_color": null,
            "_model_module": "@jupyter-widgets/controls"
          }
        },
        "602a3a1b34da414b94704d536480df76": {
          "model_module": "@jupyter-widgets/base",
          "model_name": "LayoutModel",
          "state": {
            "_view_name": "LayoutView",
            "grid_template_rows": null,
            "right": null,
            "justify_content": null,
            "_view_module": "@jupyter-widgets/base",
            "overflow": null,
            "_model_module_version": "1.2.0",
            "_view_count": null,
            "flex_flow": null,
            "width": null,
            "min_width": null,
            "border": null,
            "align_items": null,
            "bottom": null,
            "_model_module": "@jupyter-widgets/base",
            "top": null,
            "grid_column": null,
            "overflow_y": null,
            "overflow_x": null,
            "grid_auto_flow": null,
            "grid_area": null,
            "grid_template_columns": null,
            "flex": null,
            "_model_name": "LayoutModel",
            "justify_items": null,
            "grid_row": null,
            "max_height": null,
            "align_content": null,
            "visibility": null,
            "align_self": null,
            "height": null,
            "min_height": null,
            "padding": null,
            "grid_auto_rows": null,
            "grid_gap": null,
            "max_width": null,
            "order": null,
            "_view_module_version": "1.2.0",
            "grid_template_areas": null,
            "object_position": null,
            "object_fit": null,
            "grid_auto_columns": null,
            "margin": null,
            "display": null,
            "left": null
          }
        },
        "d10532e8d15a49c5be42019f249789ed": {
          "model_module": "@jupyter-widgets/controls",
          "model_name": "DescriptionStyleModel",
          "state": {
            "_view_name": "StyleView",
            "_model_name": "DescriptionStyleModel",
            "description_width": "",
            "_view_module": "@jupyter-widgets/base",
            "_model_module_version": "1.5.0",
            "_view_count": null,
            "_view_module_version": "1.2.0",
            "_model_module": "@jupyter-widgets/controls"
          }
        },
        "e8e1790405604195b9e45c4c62da03da": {
          "model_module": "@jupyter-widgets/base",
          "model_name": "LayoutModel",
          "state": {
            "_view_name": "LayoutView",
            "grid_template_rows": null,
            "right": null,
            "justify_content": null,
            "_view_module": "@jupyter-widgets/base",
            "overflow": null,
            "_model_module_version": "1.2.0",
            "_view_count": null,
            "flex_flow": null,
            "width": null,
            "min_width": null,
            "border": null,
            "align_items": null,
            "bottom": null,
            "_model_module": "@jupyter-widgets/base",
            "top": null,
            "grid_column": null,
            "overflow_y": null,
            "overflow_x": null,
            "grid_auto_flow": null,
            "grid_area": null,
            "grid_template_columns": null,
            "flex": null,
            "_model_name": "LayoutModel",
            "justify_items": null,
            "grid_row": null,
            "max_height": null,
            "align_content": null,
            "visibility": null,
            "align_self": null,
            "height": null,
            "min_height": null,
            "padding": null,
            "grid_auto_rows": null,
            "grid_gap": null,
            "max_width": null,
            "order": null,
            "_view_module_version": "1.2.0",
            "grid_template_areas": null,
            "object_position": null,
            "object_fit": null,
            "grid_auto_columns": null,
            "margin": null,
            "display": null,
            "left": null
          }
        },
        "522ab8e96ef248bcaaf75d37fa90aad3": {
          "model_module": "@jupyter-widgets/controls",
          "model_name": "HBoxModel",
          "state": {
            "_view_name": "HBoxView",
            "_dom_classes": [],
            "_model_name": "HBoxModel",
            "_view_module": "@jupyter-widgets/controls",
            "_model_module_version": "1.5.0",
            "_view_count": null,
            "_view_module_version": "1.5.0",
            "box_style": "",
            "layout": "IPY_MODEL_7993923de5ef420c855764cbb3bfc971",
            "_model_module": "@jupyter-widgets/controls",
            "children": [
              "IPY_MODEL_52f3aa61ea974695bebb9c9f5827f20a",
              "IPY_MODEL_60b32f15de3a40d78d2e985e1c1ee328"
            ]
          }
        },
        "7993923de5ef420c855764cbb3bfc971": {
          "model_module": "@jupyter-widgets/base",
          "model_name": "LayoutModel",
          "state": {
            "_view_name": "LayoutView",
            "grid_template_rows": null,
            "right": null,
            "justify_content": null,
            "_view_module": "@jupyter-widgets/base",
            "overflow": null,
            "_model_module_version": "1.2.0",
            "_view_count": null,
            "flex_flow": null,
            "width": null,
            "min_width": null,
            "border": null,
            "align_items": null,
            "bottom": null,
            "_model_module": "@jupyter-widgets/base",
            "top": null,
            "grid_column": null,
            "overflow_y": null,
            "overflow_x": null,
            "grid_auto_flow": null,
            "grid_area": null,
            "grid_template_columns": null,
            "flex": null,
            "_model_name": "LayoutModel",
            "justify_items": null,
            "grid_row": null,
            "max_height": null,
            "align_content": null,
            "visibility": null,
            "align_self": null,
            "height": null,
            "min_height": null,
            "padding": null,
            "grid_auto_rows": null,
            "grid_gap": null,
            "max_width": null,
            "order": null,
            "_view_module_version": "1.2.0",
            "grid_template_areas": null,
            "object_position": null,
            "object_fit": null,
            "grid_auto_columns": null,
            "margin": null,
            "display": null,
            "left": null
          }
        },
        "52f3aa61ea974695bebb9c9f5827f20a": {
          "model_module": "@jupyter-widgets/controls",
          "model_name": "FloatProgressModel",
          "state": {
            "_view_name": "ProgressView",
            "style": "IPY_MODEL_473c3be9e5c34b5a91b8e96cad245f3f",
            "_dom_classes": [],
            "description": "#3: 100%",
            "_model_name": "FloatProgressModel",
            "bar_style": "success",
            "max": 63,
            "_view_module": "@jupyter-widgets/controls",
            "_model_module_version": "1.5.0",
            "value": 63,
            "_view_count": null,
            "_view_module_version": "1.5.0",
            "orientation": "horizontal",
            "min": 0,
            "description_tooltip": null,
            "_model_module": "@jupyter-widgets/controls",
            "layout": "IPY_MODEL_07492e1d31e24437b5cc256290935cdf"
          }
        },
        "60b32f15de3a40d78d2e985e1c1ee328": {
          "model_module": "@jupyter-widgets/controls",
          "model_name": "HTMLModel",
          "state": {
            "_view_name": "HTMLView",
            "style": "IPY_MODEL_d4fd7f5d1238447b94132ee3aa3d1bbe",
            "_dom_classes": [],
            "description": "",
            "_model_name": "HTMLModel",
            "placeholder": "​",
            "_view_module": "@jupyter-widgets/controls",
            "_model_module_version": "1.5.0",
            "value": " 63/63 [00:50&lt;00:00,  1.26ex/s]",
            "_view_count": null,
            "_view_module_version": "1.5.0",
            "description_tooltip": null,
            "_model_module": "@jupyter-widgets/controls",
            "layout": "IPY_MODEL_477bf8fb343d4bd09277cfa1b7e80787"
          }
        },
        "473c3be9e5c34b5a91b8e96cad245f3f": {
          "model_module": "@jupyter-widgets/controls",
          "model_name": "ProgressStyleModel",
          "state": {
            "_view_name": "StyleView",
            "_model_name": "ProgressStyleModel",
            "description_width": "initial",
            "_view_module": "@jupyter-widgets/base",
            "_model_module_version": "1.5.0",
            "_view_count": null,
            "_view_module_version": "1.2.0",
            "bar_color": null,
            "_model_module": "@jupyter-widgets/controls"
          }
        },
        "07492e1d31e24437b5cc256290935cdf": {
          "model_module": "@jupyter-widgets/base",
          "model_name": "LayoutModel",
          "state": {
            "_view_name": "LayoutView",
            "grid_template_rows": null,
            "right": null,
            "justify_content": null,
            "_view_module": "@jupyter-widgets/base",
            "overflow": null,
            "_model_module_version": "1.2.0",
            "_view_count": null,
            "flex_flow": null,
            "width": null,
            "min_width": null,
            "border": null,
            "align_items": null,
            "bottom": null,
            "_model_module": "@jupyter-widgets/base",
            "top": null,
            "grid_column": null,
            "overflow_y": null,
            "overflow_x": null,
            "grid_auto_flow": null,
            "grid_area": null,
            "grid_template_columns": null,
            "flex": null,
            "_model_name": "LayoutModel",
            "justify_items": null,
            "grid_row": null,
            "max_height": null,
            "align_content": null,
            "visibility": null,
            "align_self": null,
            "height": null,
            "min_height": null,
            "padding": null,
            "grid_auto_rows": null,
            "grid_gap": null,
            "max_width": null,
            "order": null,
            "_view_module_version": "1.2.0",
            "grid_template_areas": null,
            "object_position": null,
            "object_fit": null,
            "grid_auto_columns": null,
            "margin": null,
            "display": null,
            "left": null
          }
        },
        "d4fd7f5d1238447b94132ee3aa3d1bbe": {
          "model_module": "@jupyter-widgets/controls",
          "model_name": "DescriptionStyleModel",
          "state": {
            "_view_name": "StyleView",
            "_model_name": "DescriptionStyleModel",
            "description_width": "",
            "_view_module": "@jupyter-widgets/base",
            "_model_module_version": "1.5.0",
            "_view_count": null,
            "_view_module_version": "1.2.0",
            "_model_module": "@jupyter-widgets/controls"
          }
        },
        "477bf8fb343d4bd09277cfa1b7e80787": {
          "model_module": "@jupyter-widgets/base",
          "model_name": "LayoutModel",
          "state": {
            "_view_name": "LayoutView",
            "grid_template_rows": null,
            "right": null,
            "justify_content": null,
            "_view_module": "@jupyter-widgets/base",
            "overflow": null,
            "_model_module_version": "1.2.0",
            "_view_count": null,
            "flex_flow": null,
            "width": null,
            "min_width": null,
            "border": null,
            "align_items": null,
            "bottom": null,
            "_model_module": "@jupyter-widgets/base",
            "top": null,
            "grid_column": null,
            "overflow_y": null,
            "overflow_x": null,
            "grid_auto_flow": null,
            "grid_area": null,
            "grid_template_columns": null,
            "flex": null,
            "_model_name": "LayoutModel",
            "justify_items": null,
            "grid_row": null,
            "max_height": null,
            "align_content": null,
            "visibility": null,
            "align_self": null,
            "height": null,
            "min_height": null,
            "padding": null,
            "grid_auto_rows": null,
            "grid_gap": null,
            "max_width": null,
            "order": null,
            "_view_module_version": "1.2.0",
            "grid_template_areas": null,
            "object_position": null,
            "object_fit": null,
            "grid_auto_columns": null,
            "margin": null,
            "display": null,
            "left": null
          }
        },
        "45c87c136fd14b08b1c57c8a9646fb08": {
          "model_module": "@jupyter-widgets/controls",
          "model_name": "HBoxModel",
          "state": {
            "_view_name": "HBoxView",
            "_dom_classes": [],
            "_model_name": "HBoxModel",
            "_view_module": "@jupyter-widgets/controls",
            "_model_module_version": "1.5.0",
            "_view_count": null,
            "_view_module_version": "1.5.0",
            "box_style": "",
            "layout": "IPY_MODEL_c4a463dc2deb453a8c6ee8ce9045fa92",
            "_model_module": "@jupyter-widgets/controls",
            "children": [
              "IPY_MODEL_03a45330455a4620972f9187287e56b5",
              "IPY_MODEL_d5dc2d9a1c3b4fd1b3d9fd25d314b22e"
            ]
          }
        },
        "c4a463dc2deb453a8c6ee8ce9045fa92": {
          "model_module": "@jupyter-widgets/base",
          "model_name": "LayoutModel",
          "state": {
            "_view_name": "LayoutView",
            "grid_template_rows": null,
            "right": null,
            "justify_content": null,
            "_view_module": "@jupyter-widgets/base",
            "overflow": null,
            "_model_module_version": "1.2.0",
            "_view_count": null,
            "flex_flow": null,
            "width": null,
            "min_width": null,
            "border": null,
            "align_items": null,
            "bottom": null,
            "_model_module": "@jupyter-widgets/base",
            "top": null,
            "grid_column": null,
            "overflow_y": null,
            "overflow_x": null,
            "grid_auto_flow": null,
            "grid_area": null,
            "grid_template_columns": null,
            "flex": null,
            "_model_name": "LayoutModel",
            "justify_items": null,
            "grid_row": null,
            "max_height": null,
            "align_content": null,
            "visibility": null,
            "align_self": null,
            "height": null,
            "min_height": null,
            "padding": null,
            "grid_auto_rows": null,
            "grid_gap": null,
            "max_width": null,
            "order": null,
            "_view_module_version": "1.2.0",
            "grid_template_areas": null,
            "object_position": null,
            "object_fit": null,
            "grid_auto_columns": null,
            "margin": null,
            "display": null,
            "left": null
          }
        },
        "03a45330455a4620972f9187287e56b5": {
          "model_module": "@jupyter-widgets/controls",
          "model_name": "FloatProgressModel",
          "state": {
            "_view_name": "ProgressView",
            "style": "IPY_MODEL_d0a39e31a9484fbda72820582a6ce048",
            "_dom_classes": [],
            "description": "#0: 100%",
            "_model_name": "FloatProgressModel",
            "bar_style": "success",
            "max": 29,
            "_view_module": "@jupyter-widgets/controls",
            "_model_module_version": "1.5.0",
            "value": 29,
            "_view_count": null,
            "_view_module_version": "1.5.0",
            "orientation": "horizontal",
            "min": 0,
            "description_tooltip": null,
            "_model_module": "@jupyter-widgets/controls",
            "layout": "IPY_MODEL_c2fce861505a4a6b8be7273bff9657e4"
          }
        },
        "d5dc2d9a1c3b4fd1b3d9fd25d314b22e": {
          "model_module": "@jupyter-widgets/controls",
          "model_name": "HTMLModel",
          "state": {
            "_view_name": "HTMLView",
            "style": "IPY_MODEL_dcdf28dc9c854de9a6b9af64d345df16",
            "_dom_classes": [],
            "description": "",
            "_model_name": "HTMLModel",
            "placeholder": "​",
            "_view_module": "@jupyter-widgets/controls",
            "_model_module_version": "1.5.0",
            "value": " 29/29 [00:22&lt;00:00,  1.29ex/s]",
            "_view_count": null,
            "_view_module_version": "1.5.0",
            "description_tooltip": null,
            "_model_module": "@jupyter-widgets/controls",
            "layout": "IPY_MODEL_8bb810b1431643a09b68dd827d0fcff1"
          }
        },
        "d0a39e31a9484fbda72820582a6ce048": {
          "model_module": "@jupyter-widgets/controls",
          "model_name": "ProgressStyleModel",
          "state": {
            "_view_name": "StyleView",
            "_model_name": "ProgressStyleModel",
            "description_width": "initial",
            "_view_module": "@jupyter-widgets/base",
            "_model_module_version": "1.5.0",
            "_view_count": null,
            "_view_module_version": "1.2.0",
            "bar_color": null,
            "_model_module": "@jupyter-widgets/controls"
          }
        },
        "c2fce861505a4a6b8be7273bff9657e4": {
          "model_module": "@jupyter-widgets/base",
          "model_name": "LayoutModel",
          "state": {
            "_view_name": "LayoutView",
            "grid_template_rows": null,
            "right": null,
            "justify_content": null,
            "_view_module": "@jupyter-widgets/base",
            "overflow": null,
            "_model_module_version": "1.2.0",
            "_view_count": null,
            "flex_flow": null,
            "width": null,
            "min_width": null,
            "border": null,
            "align_items": null,
            "bottom": null,
            "_model_module": "@jupyter-widgets/base",
            "top": null,
            "grid_column": null,
            "overflow_y": null,
            "overflow_x": null,
            "grid_auto_flow": null,
            "grid_area": null,
            "grid_template_columns": null,
            "flex": null,
            "_model_name": "LayoutModel",
            "justify_items": null,
            "grid_row": null,
            "max_height": null,
            "align_content": null,
            "visibility": null,
            "align_self": null,
            "height": null,
            "min_height": null,
            "padding": null,
            "grid_auto_rows": null,
            "grid_gap": null,
            "max_width": null,
            "order": null,
            "_view_module_version": "1.2.0",
            "grid_template_areas": null,
            "object_position": null,
            "object_fit": null,
            "grid_auto_columns": null,
            "margin": null,
            "display": null,
            "left": null
          }
        },
        "dcdf28dc9c854de9a6b9af64d345df16": {
          "model_module": "@jupyter-widgets/controls",
          "model_name": "DescriptionStyleModel",
          "state": {
            "_view_name": "StyleView",
            "_model_name": "DescriptionStyleModel",
            "description_width": "",
            "_view_module": "@jupyter-widgets/base",
            "_model_module_version": "1.5.0",
            "_view_count": null,
            "_view_module_version": "1.2.0",
            "_model_module": "@jupyter-widgets/controls"
          }
        },
        "8bb810b1431643a09b68dd827d0fcff1": {
          "model_module": "@jupyter-widgets/base",
          "model_name": "LayoutModel",
          "state": {
            "_view_name": "LayoutView",
            "grid_template_rows": null,
            "right": null,
            "justify_content": null,
            "_view_module": "@jupyter-widgets/base",
            "overflow": null,
            "_model_module_version": "1.2.0",
            "_view_count": null,
            "flex_flow": null,
            "width": null,
            "min_width": null,
            "border": null,
            "align_items": null,
            "bottom": null,
            "_model_module": "@jupyter-widgets/base",
            "top": null,
            "grid_column": null,
            "overflow_y": null,
            "overflow_x": null,
            "grid_auto_flow": null,
            "grid_area": null,
            "grid_template_columns": null,
            "flex": null,
            "_model_name": "LayoutModel",
            "justify_items": null,
            "grid_row": null,
            "max_height": null,
            "align_content": null,
            "visibility": null,
            "align_self": null,
            "height": null,
            "min_height": null,
            "padding": null,
            "grid_auto_rows": null,
            "grid_gap": null,
            "max_width": null,
            "order": null,
            "_view_module_version": "1.2.0",
            "grid_template_areas": null,
            "object_position": null,
            "object_fit": null,
            "grid_auto_columns": null,
            "margin": null,
            "display": null,
            "left": null
          }
        },
        "072b42e0b9944c3ba8ecb8ace860a967": {
          "model_module": "@jupyter-widgets/controls",
          "model_name": "HBoxModel",
          "state": {
            "_view_name": "HBoxView",
            "_dom_classes": [],
            "_model_name": "HBoxModel",
            "_view_module": "@jupyter-widgets/controls",
            "_model_module_version": "1.5.0",
            "_view_count": null,
            "_view_module_version": "1.5.0",
            "box_style": "",
            "layout": "IPY_MODEL_a8a927e1b26f4c31856517d28f415ff5",
            "_model_module": "@jupyter-widgets/controls",
            "children": [
              "IPY_MODEL_4c3675a694fd4ee093ba1368e12de21c",
              "IPY_MODEL_e478a496fded42a2a14ca7d54469bd2d"
            ]
          }
        },
        "a8a927e1b26f4c31856517d28f415ff5": {
          "model_module": "@jupyter-widgets/base",
          "model_name": "LayoutModel",
          "state": {
            "_view_name": "LayoutView",
            "grid_template_rows": null,
            "right": null,
            "justify_content": null,
            "_view_module": "@jupyter-widgets/base",
            "overflow": null,
            "_model_module_version": "1.2.0",
            "_view_count": null,
            "flex_flow": null,
            "width": null,
            "min_width": null,
            "border": null,
            "align_items": null,
            "bottom": null,
            "_model_module": "@jupyter-widgets/base",
            "top": null,
            "grid_column": null,
            "overflow_y": null,
            "overflow_x": null,
            "grid_auto_flow": null,
            "grid_area": null,
            "grid_template_columns": null,
            "flex": null,
            "_model_name": "LayoutModel",
            "justify_items": null,
            "grid_row": null,
            "max_height": null,
            "align_content": null,
            "visibility": null,
            "align_self": null,
            "height": null,
            "min_height": null,
            "padding": null,
            "grid_auto_rows": null,
            "grid_gap": null,
            "max_width": null,
            "order": null,
            "_view_module_version": "1.2.0",
            "grid_template_areas": null,
            "object_position": null,
            "object_fit": null,
            "grid_auto_columns": null,
            "margin": null,
            "display": null,
            "left": null
          }
        },
        "4c3675a694fd4ee093ba1368e12de21c": {
          "model_module": "@jupyter-widgets/controls",
          "model_name": "FloatProgressModel",
          "state": {
            "_view_name": "ProgressView",
            "style": "IPY_MODEL_dcb3cc0e6bc34aa1bb42c1aa0c2f98e4",
            "_dom_classes": [],
            "description": "#1: 100%",
            "_model_name": "FloatProgressModel",
            "bar_style": "success",
            "max": 29,
            "_view_module": "@jupyter-widgets/controls",
            "_model_module_version": "1.5.0",
            "value": 29,
            "_view_count": null,
            "_view_module_version": "1.5.0",
            "orientation": "horizontal",
            "min": 0,
            "description_tooltip": null,
            "_model_module": "@jupyter-widgets/controls",
            "layout": "IPY_MODEL_260dca96b11249a1a404894b354ae15f"
          }
        },
        "e478a496fded42a2a14ca7d54469bd2d": {
          "model_module": "@jupyter-widgets/controls",
          "model_name": "HTMLModel",
          "state": {
            "_view_name": "HTMLView",
            "style": "IPY_MODEL_b920af926e7347fa9f4a27743270021f",
            "_dom_classes": [],
            "description": "",
            "_model_name": "HTMLModel",
            "placeholder": "​",
            "_view_module": "@jupyter-widgets/controls",
            "_model_module_version": "1.5.0",
            "value": " 29/29 [00:22&lt;00:00,  1.31ex/s]",
            "_view_count": null,
            "_view_module_version": "1.5.0",
            "description_tooltip": null,
            "_model_module": "@jupyter-widgets/controls",
            "layout": "IPY_MODEL_0931b268a7ae4f09b64523cf3c7a3d0a"
          }
        },
        "dcb3cc0e6bc34aa1bb42c1aa0c2f98e4": {
          "model_module": "@jupyter-widgets/controls",
          "model_name": "ProgressStyleModel",
          "state": {
            "_view_name": "StyleView",
            "_model_name": "ProgressStyleModel",
            "description_width": "initial",
            "_view_module": "@jupyter-widgets/base",
            "_model_module_version": "1.5.0",
            "_view_count": null,
            "_view_module_version": "1.2.0",
            "bar_color": null,
            "_model_module": "@jupyter-widgets/controls"
          }
        },
        "260dca96b11249a1a404894b354ae15f": {
          "model_module": "@jupyter-widgets/base",
          "model_name": "LayoutModel",
          "state": {
            "_view_name": "LayoutView",
            "grid_template_rows": null,
            "right": null,
            "justify_content": null,
            "_view_module": "@jupyter-widgets/base",
            "overflow": null,
            "_model_module_version": "1.2.0",
            "_view_count": null,
            "flex_flow": null,
            "width": null,
            "min_width": null,
            "border": null,
            "align_items": null,
            "bottom": null,
            "_model_module": "@jupyter-widgets/base",
            "top": null,
            "grid_column": null,
            "overflow_y": null,
            "overflow_x": null,
            "grid_auto_flow": null,
            "grid_area": null,
            "grid_template_columns": null,
            "flex": null,
            "_model_name": "LayoutModel",
            "justify_items": null,
            "grid_row": null,
            "max_height": null,
            "align_content": null,
            "visibility": null,
            "align_self": null,
            "height": null,
            "min_height": null,
            "padding": null,
            "grid_auto_rows": null,
            "grid_gap": null,
            "max_width": null,
            "order": null,
            "_view_module_version": "1.2.0",
            "grid_template_areas": null,
            "object_position": null,
            "object_fit": null,
            "grid_auto_columns": null,
            "margin": null,
            "display": null,
            "left": null
          }
        },
        "b920af926e7347fa9f4a27743270021f": {
          "model_module": "@jupyter-widgets/controls",
          "model_name": "DescriptionStyleModel",
          "state": {
            "_view_name": "StyleView",
            "_model_name": "DescriptionStyleModel",
            "description_width": "",
            "_view_module": "@jupyter-widgets/base",
            "_model_module_version": "1.5.0",
            "_view_count": null,
            "_view_module_version": "1.2.0",
            "_model_module": "@jupyter-widgets/controls"
          }
        },
        "0931b268a7ae4f09b64523cf3c7a3d0a": {
          "model_module": "@jupyter-widgets/base",
          "model_name": "LayoutModel",
          "state": {
            "_view_name": "LayoutView",
            "grid_template_rows": null,
            "right": null,
            "justify_content": null,
            "_view_module": "@jupyter-widgets/base",
            "overflow": null,
            "_model_module_version": "1.2.0",
            "_view_count": null,
            "flex_flow": null,
            "width": null,
            "min_width": null,
            "border": null,
            "align_items": null,
            "bottom": null,
            "_model_module": "@jupyter-widgets/base",
            "top": null,
            "grid_column": null,
            "overflow_y": null,
            "overflow_x": null,
            "grid_auto_flow": null,
            "grid_area": null,
            "grid_template_columns": null,
            "flex": null,
            "_model_name": "LayoutModel",
            "justify_items": null,
            "grid_row": null,
            "max_height": null,
            "align_content": null,
            "visibility": null,
            "align_self": null,
            "height": null,
            "min_height": null,
            "padding": null,
            "grid_auto_rows": null,
            "grid_gap": null,
            "max_width": null,
            "order": null,
            "_view_module_version": "1.2.0",
            "grid_template_areas": null,
            "object_position": null,
            "object_fit": null,
            "grid_auto_columns": null,
            "margin": null,
            "display": null,
            "left": null
          }
        },
        "c68d7505bf734de2a97f77d1f276993a": {
          "model_module": "@jupyter-widgets/controls",
          "model_name": "HBoxModel",
          "state": {
            "_view_name": "HBoxView",
            "_dom_classes": [],
            "_model_name": "HBoxModel",
            "_view_module": "@jupyter-widgets/controls",
            "_model_module_version": "1.5.0",
            "_view_count": null,
            "_view_module_version": "1.5.0",
            "box_style": "",
            "layout": "IPY_MODEL_8e1f290716b148a59cea1332105ef14c",
            "_model_module": "@jupyter-widgets/controls",
            "children": [
              "IPY_MODEL_0020db4f251644a8968470030ac08394",
              "IPY_MODEL_783a1f3ed90941378bf3d4fca4abf17c"
            ]
          }
        },
        "8e1f290716b148a59cea1332105ef14c": {
          "model_module": "@jupyter-widgets/base",
          "model_name": "LayoutModel",
          "state": {
            "_view_name": "LayoutView",
            "grid_template_rows": null,
            "right": null,
            "justify_content": null,
            "_view_module": "@jupyter-widgets/base",
            "overflow": null,
            "_model_module_version": "1.2.0",
            "_view_count": null,
            "flex_flow": null,
            "width": null,
            "min_width": null,
            "border": null,
            "align_items": null,
            "bottom": null,
            "_model_module": "@jupyter-widgets/base",
            "top": null,
            "grid_column": null,
            "overflow_y": null,
            "overflow_x": null,
            "grid_auto_flow": null,
            "grid_area": null,
            "grid_template_columns": null,
            "flex": null,
            "_model_name": "LayoutModel",
            "justify_items": null,
            "grid_row": null,
            "max_height": null,
            "align_content": null,
            "visibility": null,
            "align_self": null,
            "height": null,
            "min_height": null,
            "padding": null,
            "grid_auto_rows": null,
            "grid_gap": null,
            "max_width": null,
            "order": null,
            "_view_module_version": "1.2.0",
            "grid_template_areas": null,
            "object_position": null,
            "object_fit": null,
            "grid_auto_columns": null,
            "margin": null,
            "display": null,
            "left": null
          }
        },
        "0020db4f251644a8968470030ac08394": {
          "model_module": "@jupyter-widgets/controls",
          "model_name": "FloatProgressModel",
          "state": {
            "_view_name": "ProgressView",
            "style": "IPY_MODEL_dff1e34fc660471aa063d3da204e5f90",
            "_dom_classes": [],
            "description": "#2: 100%",
            "_model_name": "FloatProgressModel",
            "bar_style": "success",
            "max": 29,
            "_view_module": "@jupyter-widgets/controls",
            "_model_module_version": "1.5.0",
            "value": 29,
            "_view_count": null,
            "_view_module_version": "1.5.0",
            "orientation": "horizontal",
            "min": 0,
            "description_tooltip": null,
            "_model_module": "@jupyter-widgets/controls",
            "layout": "IPY_MODEL_fbaf3c9acaba461eb3ab466e48b54e28"
          }
        },
        "783a1f3ed90941378bf3d4fca4abf17c": {
          "model_module": "@jupyter-widgets/controls",
          "model_name": "HTMLModel",
          "state": {
            "_view_name": "HTMLView",
            "style": "IPY_MODEL_87b6bd925a2049d096de3457d03019a0",
            "_dom_classes": [],
            "description": "",
            "_model_name": "HTMLModel",
            "placeholder": "​",
            "_view_module": "@jupyter-widgets/controls",
            "_model_module_version": "1.5.0",
            "value": " 29/29 [00:23&lt;00:00,  1.22ex/s]",
            "_view_count": null,
            "_view_module_version": "1.5.0",
            "description_tooltip": null,
            "_model_module": "@jupyter-widgets/controls",
            "layout": "IPY_MODEL_fcba53b704c4477db6a27aded8fa5b95"
          }
        },
        "dff1e34fc660471aa063d3da204e5f90": {
          "model_module": "@jupyter-widgets/controls",
          "model_name": "ProgressStyleModel",
          "state": {
            "_view_name": "StyleView",
            "_model_name": "ProgressStyleModel",
            "description_width": "initial",
            "_view_module": "@jupyter-widgets/base",
            "_model_module_version": "1.5.0",
            "_view_count": null,
            "_view_module_version": "1.2.0",
            "bar_color": null,
            "_model_module": "@jupyter-widgets/controls"
          }
        },
        "fbaf3c9acaba461eb3ab466e48b54e28": {
          "model_module": "@jupyter-widgets/base",
          "model_name": "LayoutModel",
          "state": {
            "_view_name": "LayoutView",
            "grid_template_rows": null,
            "right": null,
            "justify_content": null,
            "_view_module": "@jupyter-widgets/base",
            "overflow": null,
            "_model_module_version": "1.2.0",
            "_view_count": null,
            "flex_flow": null,
            "width": null,
            "min_width": null,
            "border": null,
            "align_items": null,
            "bottom": null,
            "_model_module": "@jupyter-widgets/base",
            "top": null,
            "grid_column": null,
            "overflow_y": null,
            "overflow_x": null,
            "grid_auto_flow": null,
            "grid_area": null,
            "grid_template_columns": null,
            "flex": null,
            "_model_name": "LayoutModel",
            "justify_items": null,
            "grid_row": null,
            "max_height": null,
            "align_content": null,
            "visibility": null,
            "align_self": null,
            "height": null,
            "min_height": null,
            "padding": null,
            "grid_auto_rows": null,
            "grid_gap": null,
            "max_width": null,
            "order": null,
            "_view_module_version": "1.2.0",
            "grid_template_areas": null,
            "object_position": null,
            "object_fit": null,
            "grid_auto_columns": null,
            "margin": null,
            "display": null,
            "left": null
          }
        },
        "87b6bd925a2049d096de3457d03019a0": {
          "model_module": "@jupyter-widgets/controls",
          "model_name": "DescriptionStyleModel",
          "state": {
            "_view_name": "StyleView",
            "_model_name": "DescriptionStyleModel",
            "description_width": "",
            "_view_module": "@jupyter-widgets/base",
            "_model_module_version": "1.5.0",
            "_view_count": null,
            "_view_module_version": "1.2.0",
            "_model_module": "@jupyter-widgets/controls"
          }
        },
        "fcba53b704c4477db6a27aded8fa5b95": {
          "model_module": "@jupyter-widgets/base",
          "model_name": "LayoutModel",
          "state": {
            "_view_name": "LayoutView",
            "grid_template_rows": null,
            "right": null,
            "justify_content": null,
            "_view_module": "@jupyter-widgets/base",
            "overflow": null,
            "_model_module_version": "1.2.0",
            "_view_count": null,
            "flex_flow": null,
            "width": null,
            "min_width": null,
            "border": null,
            "align_items": null,
            "bottom": null,
            "_model_module": "@jupyter-widgets/base",
            "top": null,
            "grid_column": null,
            "overflow_y": null,
            "overflow_x": null,
            "grid_auto_flow": null,
            "grid_area": null,
            "grid_template_columns": null,
            "flex": null,
            "_model_name": "LayoutModel",
            "justify_items": null,
            "grid_row": null,
            "max_height": null,
            "align_content": null,
            "visibility": null,
            "align_self": null,
            "height": null,
            "min_height": null,
            "padding": null,
            "grid_auto_rows": null,
            "grid_gap": null,
            "max_width": null,
            "order": null,
            "_view_module_version": "1.2.0",
            "grid_template_areas": null,
            "object_position": null,
            "object_fit": null,
            "grid_auto_columns": null,
            "margin": null,
            "display": null,
            "left": null
          }
        },
        "09906cade82d4d8eb4e6b363e606ef38": {
          "model_module": "@jupyter-widgets/controls",
          "model_name": "HBoxModel",
          "state": {
            "_view_name": "HBoxView",
            "_dom_classes": [],
            "_model_name": "HBoxModel",
            "_view_module": "@jupyter-widgets/controls",
            "_model_module_version": "1.5.0",
            "_view_count": null,
            "_view_module_version": "1.5.0",
            "box_style": "",
            "layout": "IPY_MODEL_62bdfa3c977a4f9e89481b4f9cd1f523",
            "_model_module": "@jupyter-widgets/controls",
            "children": [
              "IPY_MODEL_7cb52e069a8042549ef4e56a970d5424",
              "IPY_MODEL_a9c0327f15114d8da263577d036137fa"
            ]
          }
        },
        "62bdfa3c977a4f9e89481b4f9cd1f523": {
          "model_module": "@jupyter-widgets/base",
          "model_name": "LayoutModel",
          "state": {
            "_view_name": "LayoutView",
            "grid_template_rows": null,
            "right": null,
            "justify_content": null,
            "_view_module": "@jupyter-widgets/base",
            "overflow": null,
            "_model_module_version": "1.2.0",
            "_view_count": null,
            "flex_flow": null,
            "width": null,
            "min_width": null,
            "border": null,
            "align_items": null,
            "bottom": null,
            "_model_module": "@jupyter-widgets/base",
            "top": null,
            "grid_column": null,
            "overflow_y": null,
            "overflow_x": null,
            "grid_auto_flow": null,
            "grid_area": null,
            "grid_template_columns": null,
            "flex": null,
            "_model_name": "LayoutModel",
            "justify_items": null,
            "grid_row": null,
            "max_height": null,
            "align_content": null,
            "visibility": null,
            "align_self": null,
            "height": null,
            "min_height": null,
            "padding": null,
            "grid_auto_rows": null,
            "grid_gap": null,
            "max_width": null,
            "order": null,
            "_view_module_version": "1.2.0",
            "grid_template_areas": null,
            "object_position": null,
            "object_fit": null,
            "grid_auto_columns": null,
            "margin": null,
            "display": null,
            "left": null
          }
        },
        "7cb52e069a8042549ef4e56a970d5424": {
          "model_module": "@jupyter-widgets/controls",
          "model_name": "FloatProgressModel",
          "state": {
            "_view_name": "ProgressView",
            "style": "IPY_MODEL_9549004cf5664e51b5a71d64b73ca65c",
            "_dom_classes": [],
            "description": "#3: 100%",
            "_model_name": "FloatProgressModel",
            "bar_style": "success",
            "max": 29,
            "_view_module": "@jupyter-widgets/controls",
            "_model_module_version": "1.5.0",
            "value": 29,
            "_view_count": null,
            "_view_module_version": "1.5.0",
            "orientation": "horizontal",
            "min": 0,
            "description_tooltip": null,
            "_model_module": "@jupyter-widgets/controls",
            "layout": "IPY_MODEL_9ffcef51bdbb4906a02a39f132a9b201"
          }
        },
        "a9c0327f15114d8da263577d036137fa": {
          "model_module": "@jupyter-widgets/controls",
          "model_name": "HTMLModel",
          "state": {
            "_view_name": "HTMLView",
            "style": "IPY_MODEL_48599989fe4e4ff8bc7541148e93f836",
            "_dom_classes": [],
            "description": "",
            "_model_name": "HTMLModel",
            "placeholder": "​",
            "_view_module": "@jupyter-widgets/controls",
            "_model_module_version": "1.5.0",
            "value": " 29/29 [00:23&lt;00:00,  1.26ex/s]",
            "_view_count": null,
            "_view_module_version": "1.5.0",
            "description_tooltip": null,
            "_model_module": "@jupyter-widgets/controls",
            "layout": "IPY_MODEL_dfc66a7106b24884b75707dbebec6c94"
          }
        },
        "9549004cf5664e51b5a71d64b73ca65c": {
          "model_module": "@jupyter-widgets/controls",
          "model_name": "ProgressStyleModel",
          "state": {
            "_view_name": "StyleView",
            "_model_name": "ProgressStyleModel",
            "description_width": "initial",
            "_view_module": "@jupyter-widgets/base",
            "_model_module_version": "1.5.0",
            "_view_count": null,
            "_view_module_version": "1.2.0",
            "bar_color": null,
            "_model_module": "@jupyter-widgets/controls"
          }
        },
        "9ffcef51bdbb4906a02a39f132a9b201": {
          "model_module": "@jupyter-widgets/base",
          "model_name": "LayoutModel",
          "state": {
            "_view_name": "LayoutView",
            "grid_template_rows": null,
            "right": null,
            "justify_content": null,
            "_view_module": "@jupyter-widgets/base",
            "overflow": null,
            "_model_module_version": "1.2.0",
            "_view_count": null,
            "flex_flow": null,
            "width": null,
            "min_width": null,
            "border": null,
            "align_items": null,
            "bottom": null,
            "_model_module": "@jupyter-widgets/base",
            "top": null,
            "grid_column": null,
            "overflow_y": null,
            "overflow_x": null,
            "grid_auto_flow": null,
            "grid_area": null,
            "grid_template_columns": null,
            "flex": null,
            "_model_name": "LayoutModel",
            "justify_items": null,
            "grid_row": null,
            "max_height": null,
            "align_content": null,
            "visibility": null,
            "align_self": null,
            "height": null,
            "min_height": null,
            "padding": null,
            "grid_auto_rows": null,
            "grid_gap": null,
            "max_width": null,
            "order": null,
            "_view_module_version": "1.2.0",
            "grid_template_areas": null,
            "object_position": null,
            "object_fit": null,
            "grid_auto_columns": null,
            "margin": null,
            "display": null,
            "left": null
          }
        },
        "48599989fe4e4ff8bc7541148e93f836": {
          "model_module": "@jupyter-widgets/controls",
          "model_name": "DescriptionStyleModel",
          "state": {
            "_view_name": "StyleView",
            "_model_name": "DescriptionStyleModel",
            "description_width": "",
            "_view_module": "@jupyter-widgets/base",
            "_model_module_version": "1.5.0",
            "_view_count": null,
            "_view_module_version": "1.2.0",
            "_model_module": "@jupyter-widgets/controls"
          }
        },
        "dfc66a7106b24884b75707dbebec6c94": {
          "model_module": "@jupyter-widgets/base",
          "model_name": "LayoutModel",
          "state": {
            "_view_name": "LayoutView",
            "grid_template_rows": null,
            "right": null,
            "justify_content": null,
            "_view_module": "@jupyter-widgets/base",
            "overflow": null,
            "_model_module_version": "1.2.0",
            "_view_count": null,
            "flex_flow": null,
            "width": null,
            "min_width": null,
            "border": null,
            "align_items": null,
            "bottom": null,
            "_model_module": "@jupyter-widgets/base",
            "top": null,
            "grid_column": null,
            "overflow_y": null,
            "overflow_x": null,
            "grid_auto_flow": null,
            "grid_area": null,
            "grid_template_columns": null,
            "flex": null,
            "_model_name": "LayoutModel",
            "justify_items": null,
            "grid_row": null,
            "max_height": null,
            "align_content": null,
            "visibility": null,
            "align_self": null,
            "height": null,
            "min_height": null,
            "padding": null,
            "grid_auto_rows": null,
            "grid_gap": null,
            "max_width": null,
            "order": null,
            "_view_module_version": "1.2.0",
            "grid_template_areas": null,
            "object_position": null,
            "object_fit": null,
            "grid_auto_columns": null,
            "margin": null,
            "display": null,
            "left": null
          }
        },
        "375b9bfdac314d78a3a174d6c84b90f0": {
          "model_module": "@jupyter-widgets/controls",
          "model_name": "HBoxModel",
          "state": {
            "_view_name": "HBoxView",
            "_dom_classes": [],
            "_model_name": "HBoxModel",
            "_view_module": "@jupyter-widgets/controls",
            "_model_module_version": "1.5.0",
            "_view_count": null,
            "_view_module_version": "1.5.0",
            "box_style": "",
            "layout": "IPY_MODEL_528b18f4f49a4d2fa69a2f51645fbf7f",
            "_model_module": "@jupyter-widgets/controls",
            "children": [
              "IPY_MODEL_773c1ba771404d758d5fa0a85a9a1532",
              "IPY_MODEL_f1330720d3d34c3a87f962a31feb9fee"
            ]
          }
        },
        "528b18f4f49a4d2fa69a2f51645fbf7f": {
          "model_module": "@jupyter-widgets/base",
          "model_name": "LayoutModel",
          "state": {
            "_view_name": "LayoutView",
            "grid_template_rows": null,
            "right": null,
            "justify_content": null,
            "_view_module": "@jupyter-widgets/base",
            "overflow": null,
            "_model_module_version": "1.2.0",
            "_view_count": null,
            "flex_flow": null,
            "width": null,
            "min_width": null,
            "border": null,
            "align_items": null,
            "bottom": null,
            "_model_module": "@jupyter-widgets/base",
            "top": null,
            "grid_column": null,
            "overflow_y": null,
            "overflow_x": null,
            "grid_auto_flow": null,
            "grid_area": null,
            "grid_template_columns": null,
            "flex": null,
            "_model_name": "LayoutModel",
            "justify_items": null,
            "grid_row": null,
            "max_height": null,
            "align_content": null,
            "visibility": null,
            "align_self": null,
            "height": null,
            "min_height": null,
            "padding": null,
            "grid_auto_rows": null,
            "grid_gap": null,
            "max_width": null,
            "order": null,
            "_view_module_version": "1.2.0",
            "grid_template_areas": null,
            "object_position": null,
            "object_fit": null,
            "grid_auto_columns": null,
            "margin": null,
            "display": null,
            "left": null
          }
        },
        "773c1ba771404d758d5fa0a85a9a1532": {
          "model_module": "@jupyter-widgets/controls",
          "model_name": "FloatProgressModel",
          "state": {
            "_view_name": "ProgressView",
            "style": "IPY_MODEL_675bd9fa70724a0991b14ec9ba7f9a71",
            "_dom_classes": [],
            "description": "#0: 100%",
            "_model_name": "FloatProgressModel",
            "bar_style": "success",
            "max": 8,
            "_view_module": "@jupyter-widgets/controls",
            "_model_module_version": "1.5.0",
            "value": 8,
            "_view_count": null,
            "_view_module_version": "1.5.0",
            "orientation": "horizontal",
            "min": 0,
            "description_tooltip": null,
            "_model_module": "@jupyter-widgets/controls",
            "layout": "IPY_MODEL_23bf738733984768bf293663f7ef43fc"
          }
        },
        "f1330720d3d34c3a87f962a31feb9fee": {
          "model_module": "@jupyter-widgets/controls",
          "model_name": "HTMLModel",
          "state": {
            "_view_name": "HTMLView",
            "style": "IPY_MODEL_13f694d22024404a80bd13dba687be0a",
            "_dom_classes": [],
            "description": "",
            "_model_name": "HTMLModel",
            "placeholder": "​",
            "_view_module": "@jupyter-widgets/controls",
            "_model_module_version": "1.5.0",
            "value": " 8/8 [00:09&lt;00:00,  1.19s/ba]",
            "_view_count": null,
            "_view_module_version": "1.5.0",
            "description_tooltip": null,
            "_model_module": "@jupyter-widgets/controls",
            "layout": "IPY_MODEL_535d9f6673904479ad0b2ecc516e95d5"
          }
        },
        "675bd9fa70724a0991b14ec9ba7f9a71": {
          "model_module": "@jupyter-widgets/controls",
          "model_name": "ProgressStyleModel",
          "state": {
            "_view_name": "StyleView",
            "_model_name": "ProgressStyleModel",
            "description_width": "initial",
            "_view_module": "@jupyter-widgets/base",
            "_model_module_version": "1.5.0",
            "_view_count": null,
            "_view_module_version": "1.2.0",
            "bar_color": null,
            "_model_module": "@jupyter-widgets/controls"
          }
        },
        "23bf738733984768bf293663f7ef43fc": {
          "model_module": "@jupyter-widgets/base",
          "model_name": "LayoutModel",
          "state": {
            "_view_name": "LayoutView",
            "grid_template_rows": null,
            "right": null,
            "justify_content": null,
            "_view_module": "@jupyter-widgets/base",
            "overflow": null,
            "_model_module_version": "1.2.0",
            "_view_count": null,
            "flex_flow": null,
            "width": null,
            "min_width": null,
            "border": null,
            "align_items": null,
            "bottom": null,
            "_model_module": "@jupyter-widgets/base",
            "top": null,
            "grid_column": null,
            "overflow_y": null,
            "overflow_x": null,
            "grid_auto_flow": null,
            "grid_area": null,
            "grid_template_columns": null,
            "flex": null,
            "_model_name": "LayoutModel",
            "justify_items": null,
            "grid_row": null,
            "max_height": null,
            "align_content": null,
            "visibility": null,
            "align_self": null,
            "height": null,
            "min_height": null,
            "padding": null,
            "grid_auto_rows": null,
            "grid_gap": null,
            "max_width": null,
            "order": null,
            "_view_module_version": "1.2.0",
            "grid_template_areas": null,
            "object_position": null,
            "object_fit": null,
            "grid_auto_columns": null,
            "margin": null,
            "display": null,
            "left": null
          }
        },
        "13f694d22024404a80bd13dba687be0a": {
          "model_module": "@jupyter-widgets/controls",
          "model_name": "DescriptionStyleModel",
          "state": {
            "_view_name": "StyleView",
            "_model_name": "DescriptionStyleModel",
            "description_width": "",
            "_view_module": "@jupyter-widgets/base",
            "_model_module_version": "1.5.0",
            "_view_count": null,
            "_view_module_version": "1.2.0",
            "_model_module": "@jupyter-widgets/controls"
          }
        },
        "535d9f6673904479ad0b2ecc516e95d5": {
          "model_module": "@jupyter-widgets/base",
          "model_name": "LayoutModel",
          "state": {
            "_view_name": "LayoutView",
            "grid_template_rows": null,
            "right": null,
            "justify_content": null,
            "_view_module": "@jupyter-widgets/base",
            "overflow": null,
            "_model_module_version": "1.2.0",
            "_view_count": null,
            "flex_flow": null,
            "width": null,
            "min_width": null,
            "border": null,
            "align_items": null,
            "bottom": null,
            "_model_module": "@jupyter-widgets/base",
            "top": null,
            "grid_column": null,
            "overflow_y": null,
            "overflow_x": null,
            "grid_auto_flow": null,
            "grid_area": null,
            "grid_template_columns": null,
            "flex": null,
            "_model_name": "LayoutModel",
            "justify_items": null,
            "grid_row": null,
            "max_height": null,
            "align_content": null,
            "visibility": null,
            "align_self": null,
            "height": null,
            "min_height": null,
            "padding": null,
            "grid_auto_rows": null,
            "grid_gap": null,
            "max_width": null,
            "order": null,
            "_view_module_version": "1.2.0",
            "grid_template_areas": null,
            "object_position": null,
            "object_fit": null,
            "grid_auto_columns": null,
            "margin": null,
            "display": null,
            "left": null
          }
        },
        "53a0b7a94b9e4689a39d58a8574e3f84": {
          "model_module": "@jupyter-widgets/controls",
          "model_name": "HBoxModel",
          "state": {
            "_view_name": "HBoxView",
            "_dom_classes": [],
            "_model_name": "HBoxModel",
            "_view_module": "@jupyter-widgets/controls",
            "_model_module_version": "1.5.0",
            "_view_count": null,
            "_view_module_version": "1.5.0",
            "box_style": "",
            "layout": "IPY_MODEL_b8f679cd00ac4aadb3965edbe7c19365",
            "_model_module": "@jupyter-widgets/controls",
            "children": [
              "IPY_MODEL_41d0becfbedc4a1a8b787cb2a423d61f",
              "IPY_MODEL_37afddc1fe3944ae9ca6015d18ec8fdc"
            ]
          }
        },
        "b8f679cd00ac4aadb3965edbe7c19365": {
          "model_module": "@jupyter-widgets/base",
          "model_name": "LayoutModel",
          "state": {
            "_view_name": "LayoutView",
            "grid_template_rows": null,
            "right": null,
            "justify_content": null,
            "_view_module": "@jupyter-widgets/base",
            "overflow": null,
            "_model_module_version": "1.2.0",
            "_view_count": null,
            "flex_flow": null,
            "width": null,
            "min_width": null,
            "border": null,
            "align_items": null,
            "bottom": null,
            "_model_module": "@jupyter-widgets/base",
            "top": null,
            "grid_column": null,
            "overflow_y": null,
            "overflow_x": null,
            "grid_auto_flow": null,
            "grid_area": null,
            "grid_template_columns": null,
            "flex": null,
            "_model_name": "LayoutModel",
            "justify_items": null,
            "grid_row": null,
            "max_height": null,
            "align_content": null,
            "visibility": null,
            "align_self": null,
            "height": null,
            "min_height": null,
            "padding": null,
            "grid_auto_rows": null,
            "grid_gap": null,
            "max_width": null,
            "order": null,
            "_view_module_version": "1.2.0",
            "grid_template_areas": null,
            "object_position": null,
            "object_fit": null,
            "grid_auto_columns": null,
            "margin": null,
            "display": null,
            "left": null
          }
        },
        "41d0becfbedc4a1a8b787cb2a423d61f": {
          "model_module": "@jupyter-widgets/controls",
          "model_name": "FloatProgressModel",
          "state": {
            "_view_name": "ProgressView",
            "style": "IPY_MODEL_353303f642b94cc7a4af5ebc52eafad4",
            "_dom_classes": [],
            "description": "#1: 100%",
            "_model_name": "FloatProgressModel",
            "bar_style": "success",
            "max": 8,
            "_view_module": "@jupyter-widgets/controls",
            "_model_module_version": "1.5.0",
            "value": 8,
            "_view_count": null,
            "_view_module_version": "1.5.0",
            "orientation": "horizontal",
            "min": 0,
            "description_tooltip": null,
            "_model_module": "@jupyter-widgets/controls",
            "layout": "IPY_MODEL_dedd310babc446c28ed6cbe98ba732b0"
          }
        },
        "37afddc1fe3944ae9ca6015d18ec8fdc": {
          "model_module": "@jupyter-widgets/controls",
          "model_name": "HTMLModel",
          "state": {
            "_view_name": "HTMLView",
            "style": "IPY_MODEL_9bd77bb2d78c4eb68ba10614299a8f72",
            "_dom_classes": [],
            "description": "",
            "_model_name": "HTMLModel",
            "placeholder": "​",
            "_view_module": "@jupyter-widgets/controls",
            "_model_module_version": "1.5.0",
            "value": " 8/8 [00:09&lt;00:00,  1.14s/ba]",
            "_view_count": null,
            "_view_module_version": "1.5.0",
            "description_tooltip": null,
            "_model_module": "@jupyter-widgets/controls",
            "layout": "IPY_MODEL_9f71abbfd0364bfaa99bdbf4db50bb27"
          }
        },
        "353303f642b94cc7a4af5ebc52eafad4": {
          "model_module": "@jupyter-widgets/controls",
          "model_name": "ProgressStyleModel",
          "state": {
            "_view_name": "StyleView",
            "_model_name": "ProgressStyleModel",
            "description_width": "initial",
            "_view_module": "@jupyter-widgets/base",
            "_model_module_version": "1.5.0",
            "_view_count": null,
            "_view_module_version": "1.2.0",
            "bar_color": null,
            "_model_module": "@jupyter-widgets/controls"
          }
        },
        "dedd310babc446c28ed6cbe98ba732b0": {
          "model_module": "@jupyter-widgets/base",
          "model_name": "LayoutModel",
          "state": {
            "_view_name": "LayoutView",
            "grid_template_rows": null,
            "right": null,
            "justify_content": null,
            "_view_module": "@jupyter-widgets/base",
            "overflow": null,
            "_model_module_version": "1.2.0",
            "_view_count": null,
            "flex_flow": null,
            "width": null,
            "min_width": null,
            "border": null,
            "align_items": null,
            "bottom": null,
            "_model_module": "@jupyter-widgets/base",
            "top": null,
            "grid_column": null,
            "overflow_y": null,
            "overflow_x": null,
            "grid_auto_flow": null,
            "grid_area": null,
            "grid_template_columns": null,
            "flex": null,
            "_model_name": "LayoutModel",
            "justify_items": null,
            "grid_row": null,
            "max_height": null,
            "align_content": null,
            "visibility": null,
            "align_self": null,
            "height": null,
            "min_height": null,
            "padding": null,
            "grid_auto_rows": null,
            "grid_gap": null,
            "max_width": null,
            "order": null,
            "_view_module_version": "1.2.0",
            "grid_template_areas": null,
            "object_position": null,
            "object_fit": null,
            "grid_auto_columns": null,
            "margin": null,
            "display": null,
            "left": null
          }
        },
        "9bd77bb2d78c4eb68ba10614299a8f72": {
          "model_module": "@jupyter-widgets/controls",
          "model_name": "DescriptionStyleModel",
          "state": {
            "_view_name": "StyleView",
            "_model_name": "DescriptionStyleModel",
            "description_width": "",
            "_view_module": "@jupyter-widgets/base",
            "_model_module_version": "1.5.0",
            "_view_count": null,
            "_view_module_version": "1.2.0",
            "_model_module": "@jupyter-widgets/controls"
          }
        },
        "9f71abbfd0364bfaa99bdbf4db50bb27": {
          "model_module": "@jupyter-widgets/base",
          "model_name": "LayoutModel",
          "state": {
            "_view_name": "LayoutView",
            "grid_template_rows": null,
            "right": null,
            "justify_content": null,
            "_view_module": "@jupyter-widgets/base",
            "overflow": null,
            "_model_module_version": "1.2.0",
            "_view_count": null,
            "flex_flow": null,
            "width": null,
            "min_width": null,
            "border": null,
            "align_items": null,
            "bottom": null,
            "_model_module": "@jupyter-widgets/base",
            "top": null,
            "grid_column": null,
            "overflow_y": null,
            "overflow_x": null,
            "grid_auto_flow": null,
            "grid_area": null,
            "grid_template_columns": null,
            "flex": null,
            "_model_name": "LayoutModel",
            "justify_items": null,
            "grid_row": null,
            "max_height": null,
            "align_content": null,
            "visibility": null,
            "align_self": null,
            "height": null,
            "min_height": null,
            "padding": null,
            "grid_auto_rows": null,
            "grid_gap": null,
            "max_width": null,
            "order": null,
            "_view_module_version": "1.2.0",
            "grid_template_areas": null,
            "object_position": null,
            "object_fit": null,
            "grid_auto_columns": null,
            "margin": null,
            "display": null,
            "left": null
          }
        },
        "93a1e4fc2a9c4c379859f0d047a837be": {
          "model_module": "@jupyter-widgets/controls",
          "model_name": "HBoxModel",
          "state": {
            "_view_name": "HBoxView",
            "_dom_classes": [],
            "_model_name": "HBoxModel",
            "_view_module": "@jupyter-widgets/controls",
            "_model_module_version": "1.5.0",
            "_view_count": null,
            "_view_module_version": "1.5.0",
            "box_style": "",
            "layout": "IPY_MODEL_da400118b01b4697b5322766793793b1",
            "_model_module": "@jupyter-widgets/controls",
            "children": [
              "IPY_MODEL_a9155468b9994b69b1357c7adb542f6c",
              "IPY_MODEL_a048c82f719e47de850ba56b70eae8f0"
            ]
          }
        },
        "da400118b01b4697b5322766793793b1": {
          "model_module": "@jupyter-widgets/base",
          "model_name": "LayoutModel",
          "state": {
            "_view_name": "LayoutView",
            "grid_template_rows": null,
            "right": null,
            "justify_content": null,
            "_view_module": "@jupyter-widgets/base",
            "overflow": null,
            "_model_module_version": "1.2.0",
            "_view_count": null,
            "flex_flow": null,
            "width": null,
            "min_width": null,
            "border": null,
            "align_items": null,
            "bottom": null,
            "_model_module": "@jupyter-widgets/base",
            "top": null,
            "grid_column": null,
            "overflow_y": null,
            "overflow_x": null,
            "grid_auto_flow": null,
            "grid_area": null,
            "grid_template_columns": null,
            "flex": null,
            "_model_name": "LayoutModel",
            "justify_items": null,
            "grid_row": null,
            "max_height": null,
            "align_content": null,
            "visibility": null,
            "align_self": null,
            "height": null,
            "min_height": null,
            "padding": null,
            "grid_auto_rows": null,
            "grid_gap": null,
            "max_width": null,
            "order": null,
            "_view_module_version": "1.2.0",
            "grid_template_areas": null,
            "object_position": null,
            "object_fit": null,
            "grid_auto_columns": null,
            "margin": null,
            "display": null,
            "left": null
          }
        },
        "a9155468b9994b69b1357c7adb542f6c": {
          "model_module": "@jupyter-widgets/controls",
          "model_name": "FloatProgressModel",
          "state": {
            "_view_name": "ProgressView",
            "style": "IPY_MODEL_0995ddabc6b94523ba067387694d715d",
            "_dom_classes": [],
            "description": "#3: 100%",
            "_model_name": "FloatProgressModel",
            "bar_style": "success",
            "max": 8,
            "_view_module": "@jupyter-widgets/controls",
            "_model_module_version": "1.5.0",
            "value": 8,
            "_view_count": null,
            "_view_module_version": "1.5.0",
            "orientation": "horizontal",
            "min": 0,
            "description_tooltip": null,
            "_model_module": "@jupyter-widgets/controls",
            "layout": "IPY_MODEL_8ac30778954b4f3eae4850340d7ded07"
          }
        },
        "a048c82f719e47de850ba56b70eae8f0": {
          "model_module": "@jupyter-widgets/controls",
          "model_name": "HTMLModel",
          "state": {
            "_view_name": "HTMLView",
            "style": "IPY_MODEL_fd724e6abf954f269da22269ab00e791",
            "_dom_classes": [],
            "description": "",
            "_model_name": "HTMLModel",
            "placeholder": "​",
            "_view_module": "@jupyter-widgets/controls",
            "_model_module_version": "1.5.0",
            "value": " 8/8 [00:09&lt;00:00,  1.16s/ba]",
            "_view_count": null,
            "_view_module_version": "1.5.0",
            "description_tooltip": null,
            "_model_module": "@jupyter-widgets/controls",
            "layout": "IPY_MODEL_25fa5a4e20a74e10b6ebfe93ac2c256d"
          }
        },
        "0995ddabc6b94523ba067387694d715d": {
          "model_module": "@jupyter-widgets/controls",
          "model_name": "ProgressStyleModel",
          "state": {
            "_view_name": "StyleView",
            "_model_name": "ProgressStyleModel",
            "description_width": "initial",
            "_view_module": "@jupyter-widgets/base",
            "_model_module_version": "1.5.0",
            "_view_count": null,
            "_view_module_version": "1.2.0",
            "bar_color": null,
            "_model_module": "@jupyter-widgets/controls"
          }
        },
        "8ac30778954b4f3eae4850340d7ded07": {
          "model_module": "@jupyter-widgets/base",
          "model_name": "LayoutModel",
          "state": {
            "_view_name": "LayoutView",
            "grid_template_rows": null,
            "right": null,
            "justify_content": null,
            "_view_module": "@jupyter-widgets/base",
            "overflow": null,
            "_model_module_version": "1.2.0",
            "_view_count": null,
            "flex_flow": null,
            "width": null,
            "min_width": null,
            "border": null,
            "align_items": null,
            "bottom": null,
            "_model_module": "@jupyter-widgets/base",
            "top": null,
            "grid_column": null,
            "overflow_y": null,
            "overflow_x": null,
            "grid_auto_flow": null,
            "grid_area": null,
            "grid_template_columns": null,
            "flex": null,
            "_model_name": "LayoutModel",
            "justify_items": null,
            "grid_row": null,
            "max_height": null,
            "align_content": null,
            "visibility": null,
            "align_self": null,
            "height": null,
            "min_height": null,
            "padding": null,
            "grid_auto_rows": null,
            "grid_gap": null,
            "max_width": null,
            "order": null,
            "_view_module_version": "1.2.0",
            "grid_template_areas": null,
            "object_position": null,
            "object_fit": null,
            "grid_auto_columns": null,
            "margin": null,
            "display": null,
            "left": null
          }
        },
        "fd724e6abf954f269da22269ab00e791": {
          "model_module": "@jupyter-widgets/controls",
          "model_name": "DescriptionStyleModel",
          "state": {
            "_view_name": "StyleView",
            "_model_name": "DescriptionStyleModel",
            "description_width": "",
            "_view_module": "@jupyter-widgets/base",
            "_model_module_version": "1.5.0",
            "_view_count": null,
            "_view_module_version": "1.2.0",
            "_model_module": "@jupyter-widgets/controls"
          }
        },
        "25fa5a4e20a74e10b6ebfe93ac2c256d": {
          "model_module": "@jupyter-widgets/base",
          "model_name": "LayoutModel",
          "state": {
            "_view_name": "LayoutView",
            "grid_template_rows": null,
            "right": null,
            "justify_content": null,
            "_view_module": "@jupyter-widgets/base",
            "overflow": null,
            "_model_module_version": "1.2.0",
            "_view_count": null,
            "flex_flow": null,
            "width": null,
            "min_width": null,
            "border": null,
            "align_items": null,
            "bottom": null,
            "_model_module": "@jupyter-widgets/base",
            "top": null,
            "grid_column": null,
            "overflow_y": null,
            "overflow_x": null,
            "grid_auto_flow": null,
            "grid_area": null,
            "grid_template_columns": null,
            "flex": null,
            "_model_name": "LayoutModel",
            "justify_items": null,
            "grid_row": null,
            "max_height": null,
            "align_content": null,
            "visibility": null,
            "align_self": null,
            "height": null,
            "min_height": null,
            "padding": null,
            "grid_auto_rows": null,
            "grid_gap": null,
            "max_width": null,
            "order": null,
            "_view_module_version": "1.2.0",
            "grid_template_areas": null,
            "object_position": null,
            "object_fit": null,
            "grid_auto_columns": null,
            "margin": null,
            "display": null,
            "left": null
          }
        },
        "15c7d0017c9b4d1f836f49d05fd37d54": {
          "model_module": "@jupyter-widgets/controls",
          "model_name": "HBoxModel",
          "state": {
            "_view_name": "HBoxView",
            "_dom_classes": [],
            "_model_name": "HBoxModel",
            "_view_module": "@jupyter-widgets/controls",
            "_model_module_version": "1.5.0",
            "_view_count": null,
            "_view_module_version": "1.5.0",
            "box_style": "",
            "layout": "IPY_MODEL_53d1ff57fd2444d6aef63313a6ba8235",
            "_model_module": "@jupyter-widgets/controls",
            "children": [
              "IPY_MODEL_58428e64fcda40f98ecb25d05a9978c7",
              "IPY_MODEL_212c234d08384f69b3b8cff290ab0702"
            ]
          }
        },
        "53d1ff57fd2444d6aef63313a6ba8235": {
          "model_module": "@jupyter-widgets/base",
          "model_name": "LayoutModel",
          "state": {
            "_view_name": "LayoutView",
            "grid_template_rows": null,
            "right": null,
            "justify_content": null,
            "_view_module": "@jupyter-widgets/base",
            "overflow": null,
            "_model_module_version": "1.2.0",
            "_view_count": null,
            "flex_flow": null,
            "width": null,
            "min_width": null,
            "border": null,
            "align_items": null,
            "bottom": null,
            "_model_module": "@jupyter-widgets/base",
            "top": null,
            "grid_column": null,
            "overflow_y": null,
            "overflow_x": null,
            "grid_auto_flow": null,
            "grid_area": null,
            "grid_template_columns": null,
            "flex": null,
            "_model_name": "LayoutModel",
            "justify_items": null,
            "grid_row": null,
            "max_height": null,
            "align_content": null,
            "visibility": null,
            "align_self": null,
            "height": null,
            "min_height": null,
            "padding": null,
            "grid_auto_rows": null,
            "grid_gap": null,
            "max_width": null,
            "order": null,
            "_view_module_version": "1.2.0",
            "grid_template_areas": null,
            "object_position": null,
            "object_fit": null,
            "grid_auto_columns": null,
            "margin": null,
            "display": null,
            "left": null
          }
        },
        "58428e64fcda40f98ecb25d05a9978c7": {
          "model_module": "@jupyter-widgets/controls",
          "model_name": "FloatProgressModel",
          "state": {
            "_view_name": "ProgressView",
            "style": "IPY_MODEL_a3fd798dbcaa4bc38db32fb31764518e",
            "_dom_classes": [],
            "description": "#2: 100%",
            "_model_name": "FloatProgressModel",
            "bar_style": "success",
            "max": 8,
            "_view_module": "@jupyter-widgets/controls",
            "_model_module_version": "1.5.0",
            "value": 8,
            "_view_count": null,
            "_view_module_version": "1.5.0",
            "orientation": "horizontal",
            "min": 0,
            "description_tooltip": null,
            "_model_module": "@jupyter-widgets/controls",
            "layout": "IPY_MODEL_1b60fbf2bfd44a829a32142a88bc5ee0"
          }
        },
        "212c234d08384f69b3b8cff290ab0702": {
          "model_module": "@jupyter-widgets/controls",
          "model_name": "HTMLModel",
          "state": {
            "_view_name": "HTMLView",
            "style": "IPY_MODEL_9df1d616a6e74ad3a731e8e8bc76910b",
            "_dom_classes": [],
            "description": "",
            "_model_name": "HTMLModel",
            "placeholder": "​",
            "_view_module": "@jupyter-widgets/controls",
            "_model_module_version": "1.5.0",
            "value": " 8/8 [00:08&lt;00:00,  1.12s/ba]",
            "_view_count": null,
            "_view_module_version": "1.5.0",
            "description_tooltip": null,
            "_model_module": "@jupyter-widgets/controls",
            "layout": "IPY_MODEL_760bc9331d1040ddad17a23448631482"
          }
        },
        "a3fd798dbcaa4bc38db32fb31764518e": {
          "model_module": "@jupyter-widgets/controls",
          "model_name": "ProgressStyleModel",
          "state": {
            "_view_name": "StyleView",
            "_model_name": "ProgressStyleModel",
            "description_width": "initial",
            "_view_module": "@jupyter-widgets/base",
            "_model_module_version": "1.5.0",
            "_view_count": null,
            "_view_module_version": "1.2.0",
            "bar_color": null,
            "_model_module": "@jupyter-widgets/controls"
          }
        },
        "1b60fbf2bfd44a829a32142a88bc5ee0": {
          "model_module": "@jupyter-widgets/base",
          "model_name": "LayoutModel",
          "state": {
            "_view_name": "LayoutView",
            "grid_template_rows": null,
            "right": null,
            "justify_content": null,
            "_view_module": "@jupyter-widgets/base",
            "overflow": null,
            "_model_module_version": "1.2.0",
            "_view_count": null,
            "flex_flow": null,
            "width": null,
            "min_width": null,
            "border": null,
            "align_items": null,
            "bottom": null,
            "_model_module": "@jupyter-widgets/base",
            "top": null,
            "grid_column": null,
            "overflow_y": null,
            "overflow_x": null,
            "grid_auto_flow": null,
            "grid_area": null,
            "grid_template_columns": null,
            "flex": null,
            "_model_name": "LayoutModel",
            "justify_items": null,
            "grid_row": null,
            "max_height": null,
            "align_content": null,
            "visibility": null,
            "align_self": null,
            "height": null,
            "min_height": null,
            "padding": null,
            "grid_auto_rows": null,
            "grid_gap": null,
            "max_width": null,
            "order": null,
            "_view_module_version": "1.2.0",
            "grid_template_areas": null,
            "object_position": null,
            "object_fit": null,
            "grid_auto_columns": null,
            "margin": null,
            "display": null,
            "left": null
          }
        },
        "9df1d616a6e74ad3a731e8e8bc76910b": {
          "model_module": "@jupyter-widgets/controls",
          "model_name": "DescriptionStyleModel",
          "state": {
            "_view_name": "StyleView",
            "_model_name": "DescriptionStyleModel",
            "description_width": "",
            "_view_module": "@jupyter-widgets/base",
            "_model_module_version": "1.5.0",
            "_view_count": null,
            "_view_module_version": "1.2.0",
            "_model_module": "@jupyter-widgets/controls"
          }
        },
        "760bc9331d1040ddad17a23448631482": {
          "model_module": "@jupyter-widgets/base",
          "model_name": "LayoutModel",
          "state": {
            "_view_name": "LayoutView",
            "grid_template_rows": null,
            "right": null,
            "justify_content": null,
            "_view_module": "@jupyter-widgets/base",
            "overflow": null,
            "_model_module_version": "1.2.0",
            "_view_count": null,
            "flex_flow": null,
            "width": null,
            "min_width": null,
            "border": null,
            "align_items": null,
            "bottom": null,
            "_model_module": "@jupyter-widgets/base",
            "top": null,
            "grid_column": null,
            "overflow_y": null,
            "overflow_x": null,
            "grid_auto_flow": null,
            "grid_area": null,
            "grid_template_columns": null,
            "flex": null,
            "_model_name": "LayoutModel",
            "justify_items": null,
            "grid_row": null,
            "max_height": null,
            "align_content": null,
            "visibility": null,
            "align_self": null,
            "height": null,
            "min_height": null,
            "padding": null,
            "grid_auto_rows": null,
            "grid_gap": null,
            "max_width": null,
            "order": null,
            "_view_module_version": "1.2.0",
            "grid_template_areas": null,
            "object_position": null,
            "object_fit": null,
            "grid_auto_columns": null,
            "margin": null,
            "display": null,
            "left": null
          }
        },
        "17cfabd17f404b9ca20fd05827ad3681": {
          "model_module": "@jupyter-widgets/controls",
          "model_name": "HBoxModel",
          "state": {
            "_view_name": "HBoxView",
            "_dom_classes": [],
            "_model_name": "HBoxModel",
            "_view_module": "@jupyter-widgets/controls",
            "_model_module_version": "1.5.0",
            "_view_count": null,
            "_view_module_version": "1.5.0",
            "box_style": "",
            "layout": "IPY_MODEL_b4f739ecfe3d47e59e8afb82592e1455",
            "_model_module": "@jupyter-widgets/controls",
            "children": [
              "IPY_MODEL_8d4e9ff224544d6eb2609c24c312db01",
              "IPY_MODEL_eff73059b5c142eeb14d41892f40ce52"
            ]
          }
        },
        "b4f739ecfe3d47e59e8afb82592e1455": {
          "model_module": "@jupyter-widgets/base",
          "model_name": "LayoutModel",
          "state": {
            "_view_name": "LayoutView",
            "grid_template_rows": null,
            "right": null,
            "justify_content": null,
            "_view_module": "@jupyter-widgets/base",
            "overflow": null,
            "_model_module_version": "1.2.0",
            "_view_count": null,
            "flex_flow": null,
            "width": null,
            "min_width": null,
            "border": null,
            "align_items": null,
            "bottom": null,
            "_model_module": "@jupyter-widgets/base",
            "top": null,
            "grid_column": null,
            "overflow_y": null,
            "overflow_x": null,
            "grid_auto_flow": null,
            "grid_area": null,
            "grid_template_columns": null,
            "flex": null,
            "_model_name": "LayoutModel",
            "justify_items": null,
            "grid_row": null,
            "max_height": null,
            "align_content": null,
            "visibility": null,
            "align_self": null,
            "height": null,
            "min_height": null,
            "padding": null,
            "grid_auto_rows": null,
            "grid_gap": null,
            "max_width": null,
            "order": null,
            "_view_module_version": "1.2.0",
            "grid_template_areas": null,
            "object_position": null,
            "object_fit": null,
            "grid_auto_columns": null,
            "margin": null,
            "display": null,
            "left": null
          }
        },
        "8d4e9ff224544d6eb2609c24c312db01": {
          "model_module": "@jupyter-widgets/controls",
          "model_name": "FloatProgressModel",
          "state": {
            "_view_name": "ProgressView",
            "style": "IPY_MODEL_137abe903e5c4ec9b107d892d75bb28f",
            "_dom_classes": [],
            "description": "#3: 100%",
            "_model_name": "FloatProgressModel",
            "bar_style": "success",
            "max": 4,
            "_view_module": "@jupyter-widgets/controls",
            "_model_module_version": "1.5.0",
            "value": 4,
            "_view_count": null,
            "_view_module_version": "1.5.0",
            "orientation": "horizontal",
            "min": 0,
            "description_tooltip": null,
            "_model_module": "@jupyter-widgets/controls",
            "layout": "IPY_MODEL_8abf557d97de46e5b815bdd49aa039b6"
          }
        },
        "eff73059b5c142eeb14d41892f40ce52": {
          "model_module": "@jupyter-widgets/controls",
          "model_name": "HTMLModel",
          "state": {
            "_view_name": "HTMLView",
            "style": "IPY_MODEL_f85d2404ef5b44149c82c589afbd255c",
            "_dom_classes": [],
            "description": "",
            "_model_name": "HTMLModel",
            "placeholder": "​",
            "_view_module": "@jupyter-widgets/controls",
            "_model_module_version": "1.5.0",
            "value": " 4/4 [00:04&lt;00:00,  1.07s/ba]",
            "_view_count": null,
            "_view_module_version": "1.5.0",
            "description_tooltip": null,
            "_model_module": "@jupyter-widgets/controls",
            "layout": "IPY_MODEL_c8feafa4a34040749db63eabd6641bab"
          }
        },
        "137abe903e5c4ec9b107d892d75bb28f": {
          "model_module": "@jupyter-widgets/controls",
          "model_name": "ProgressStyleModel",
          "state": {
            "_view_name": "StyleView",
            "_model_name": "ProgressStyleModel",
            "description_width": "initial",
            "_view_module": "@jupyter-widgets/base",
            "_model_module_version": "1.5.0",
            "_view_count": null,
            "_view_module_version": "1.2.0",
            "bar_color": null,
            "_model_module": "@jupyter-widgets/controls"
          }
        },
        "8abf557d97de46e5b815bdd49aa039b6": {
          "model_module": "@jupyter-widgets/base",
          "model_name": "LayoutModel",
          "state": {
            "_view_name": "LayoutView",
            "grid_template_rows": null,
            "right": null,
            "justify_content": null,
            "_view_module": "@jupyter-widgets/base",
            "overflow": null,
            "_model_module_version": "1.2.0",
            "_view_count": null,
            "flex_flow": null,
            "width": null,
            "min_width": null,
            "border": null,
            "align_items": null,
            "bottom": null,
            "_model_module": "@jupyter-widgets/base",
            "top": null,
            "grid_column": null,
            "overflow_y": null,
            "overflow_x": null,
            "grid_auto_flow": null,
            "grid_area": null,
            "grid_template_columns": null,
            "flex": null,
            "_model_name": "LayoutModel",
            "justify_items": null,
            "grid_row": null,
            "max_height": null,
            "align_content": null,
            "visibility": null,
            "align_self": null,
            "height": null,
            "min_height": null,
            "padding": null,
            "grid_auto_rows": null,
            "grid_gap": null,
            "max_width": null,
            "order": null,
            "_view_module_version": "1.2.0",
            "grid_template_areas": null,
            "object_position": null,
            "object_fit": null,
            "grid_auto_columns": null,
            "margin": null,
            "display": null,
            "left": null
          }
        },
        "f85d2404ef5b44149c82c589afbd255c": {
          "model_module": "@jupyter-widgets/controls",
          "model_name": "DescriptionStyleModel",
          "state": {
            "_view_name": "StyleView",
            "_model_name": "DescriptionStyleModel",
            "description_width": "",
            "_view_module": "@jupyter-widgets/base",
            "_model_module_version": "1.5.0",
            "_view_count": null,
            "_view_module_version": "1.2.0",
            "_model_module": "@jupyter-widgets/controls"
          }
        },
        "c8feafa4a34040749db63eabd6641bab": {
          "model_module": "@jupyter-widgets/base",
          "model_name": "LayoutModel",
          "state": {
            "_view_name": "LayoutView",
            "grid_template_rows": null,
            "right": null,
            "justify_content": null,
            "_view_module": "@jupyter-widgets/base",
            "overflow": null,
            "_model_module_version": "1.2.0",
            "_view_count": null,
            "flex_flow": null,
            "width": null,
            "min_width": null,
            "border": null,
            "align_items": null,
            "bottom": null,
            "_model_module": "@jupyter-widgets/base",
            "top": null,
            "grid_column": null,
            "overflow_y": null,
            "overflow_x": null,
            "grid_auto_flow": null,
            "grid_area": null,
            "grid_template_columns": null,
            "flex": null,
            "_model_name": "LayoutModel",
            "justify_items": null,
            "grid_row": null,
            "max_height": null,
            "align_content": null,
            "visibility": null,
            "align_self": null,
            "height": null,
            "min_height": null,
            "padding": null,
            "grid_auto_rows": null,
            "grid_gap": null,
            "max_width": null,
            "order": null,
            "_view_module_version": "1.2.0",
            "grid_template_areas": null,
            "object_position": null,
            "object_fit": null,
            "grid_auto_columns": null,
            "margin": null,
            "display": null,
            "left": null
          }
        },
        "8b434bc7099e4d0b982eb8d5d4b7f6e5": {
          "model_module": "@jupyter-widgets/controls",
          "model_name": "HBoxModel",
          "state": {
            "_view_name": "HBoxView",
            "_dom_classes": [],
            "_model_name": "HBoxModel",
            "_view_module": "@jupyter-widgets/controls",
            "_model_module_version": "1.5.0",
            "_view_count": null,
            "_view_module_version": "1.5.0",
            "box_style": "",
            "layout": "IPY_MODEL_689d9615289e4345ab0fc7a072d24d2c",
            "_model_module": "@jupyter-widgets/controls",
            "children": [
              "IPY_MODEL_feaeb7e885264c4d9cfc049bc368136a",
              "IPY_MODEL_c999004a4e0f4434a96c41d0bfd284e0"
            ]
          }
        },
        "689d9615289e4345ab0fc7a072d24d2c": {
          "model_module": "@jupyter-widgets/base",
          "model_name": "LayoutModel",
          "state": {
            "_view_name": "LayoutView",
            "grid_template_rows": null,
            "right": null,
            "justify_content": null,
            "_view_module": "@jupyter-widgets/base",
            "overflow": null,
            "_model_module_version": "1.2.0",
            "_view_count": null,
            "flex_flow": null,
            "width": null,
            "min_width": null,
            "border": null,
            "align_items": null,
            "bottom": null,
            "_model_module": "@jupyter-widgets/base",
            "top": null,
            "grid_column": null,
            "overflow_y": null,
            "overflow_x": null,
            "grid_auto_flow": null,
            "grid_area": null,
            "grid_template_columns": null,
            "flex": null,
            "_model_name": "LayoutModel",
            "justify_items": null,
            "grid_row": null,
            "max_height": null,
            "align_content": null,
            "visibility": null,
            "align_self": null,
            "height": null,
            "min_height": null,
            "padding": null,
            "grid_auto_rows": null,
            "grid_gap": null,
            "max_width": null,
            "order": null,
            "_view_module_version": "1.2.0",
            "grid_template_areas": null,
            "object_position": null,
            "object_fit": null,
            "grid_auto_columns": null,
            "margin": null,
            "display": null,
            "left": null
          }
        },
        "feaeb7e885264c4d9cfc049bc368136a": {
          "model_module": "@jupyter-widgets/controls",
          "model_name": "FloatProgressModel",
          "state": {
            "_view_name": "ProgressView",
            "style": "IPY_MODEL_ae78538acd91415393f52907efa8c484",
            "_dom_classes": [],
            "description": "#2: 100%",
            "_model_name": "FloatProgressModel",
            "bar_style": "success",
            "max": 4,
            "_view_module": "@jupyter-widgets/controls",
            "_model_module_version": "1.5.0",
            "value": 4,
            "_view_count": null,
            "_view_module_version": "1.5.0",
            "orientation": "horizontal",
            "min": 0,
            "description_tooltip": null,
            "_model_module": "@jupyter-widgets/controls",
            "layout": "IPY_MODEL_b1a9aa0034734468b2cf292b37eb61e0"
          }
        },
        "c999004a4e0f4434a96c41d0bfd284e0": {
          "model_module": "@jupyter-widgets/controls",
          "model_name": "HTMLModel",
          "state": {
            "_view_name": "HTMLView",
            "style": "IPY_MODEL_11d6b39ab4c04c23ad654e29a8f5be4f",
            "_dom_classes": [],
            "description": "",
            "_model_name": "HTMLModel",
            "placeholder": "​",
            "_view_module": "@jupyter-widgets/controls",
            "_model_module_version": "1.5.0",
            "value": " 4/4 [00:04&lt;00:00,  1.11s/ba]",
            "_view_count": null,
            "_view_module_version": "1.5.0",
            "description_tooltip": null,
            "_model_module": "@jupyter-widgets/controls",
            "layout": "IPY_MODEL_d0c434873a754237a7455be00ab365fc"
          }
        },
        "ae78538acd91415393f52907efa8c484": {
          "model_module": "@jupyter-widgets/controls",
          "model_name": "ProgressStyleModel",
          "state": {
            "_view_name": "StyleView",
            "_model_name": "ProgressStyleModel",
            "description_width": "initial",
            "_view_module": "@jupyter-widgets/base",
            "_model_module_version": "1.5.0",
            "_view_count": null,
            "_view_module_version": "1.2.0",
            "bar_color": null,
            "_model_module": "@jupyter-widgets/controls"
          }
        },
        "b1a9aa0034734468b2cf292b37eb61e0": {
          "model_module": "@jupyter-widgets/base",
          "model_name": "LayoutModel",
          "state": {
            "_view_name": "LayoutView",
            "grid_template_rows": null,
            "right": null,
            "justify_content": null,
            "_view_module": "@jupyter-widgets/base",
            "overflow": null,
            "_model_module_version": "1.2.0",
            "_view_count": null,
            "flex_flow": null,
            "width": null,
            "min_width": null,
            "border": null,
            "align_items": null,
            "bottom": null,
            "_model_module": "@jupyter-widgets/base",
            "top": null,
            "grid_column": null,
            "overflow_y": null,
            "overflow_x": null,
            "grid_auto_flow": null,
            "grid_area": null,
            "grid_template_columns": null,
            "flex": null,
            "_model_name": "LayoutModel",
            "justify_items": null,
            "grid_row": null,
            "max_height": null,
            "align_content": null,
            "visibility": null,
            "align_self": null,
            "height": null,
            "min_height": null,
            "padding": null,
            "grid_auto_rows": null,
            "grid_gap": null,
            "max_width": null,
            "order": null,
            "_view_module_version": "1.2.0",
            "grid_template_areas": null,
            "object_position": null,
            "object_fit": null,
            "grid_auto_columns": null,
            "margin": null,
            "display": null,
            "left": null
          }
        },
        "11d6b39ab4c04c23ad654e29a8f5be4f": {
          "model_module": "@jupyter-widgets/controls",
          "model_name": "DescriptionStyleModel",
          "state": {
            "_view_name": "StyleView",
            "_model_name": "DescriptionStyleModel",
            "description_width": "",
            "_view_module": "@jupyter-widgets/base",
            "_model_module_version": "1.5.0",
            "_view_count": null,
            "_view_module_version": "1.2.0",
            "_model_module": "@jupyter-widgets/controls"
          }
        },
        "d0c434873a754237a7455be00ab365fc": {
          "model_module": "@jupyter-widgets/base",
          "model_name": "LayoutModel",
          "state": {
            "_view_name": "LayoutView",
            "grid_template_rows": null,
            "right": null,
            "justify_content": null,
            "_view_module": "@jupyter-widgets/base",
            "overflow": null,
            "_model_module_version": "1.2.0",
            "_view_count": null,
            "flex_flow": null,
            "width": null,
            "min_width": null,
            "border": null,
            "align_items": null,
            "bottom": null,
            "_model_module": "@jupyter-widgets/base",
            "top": null,
            "grid_column": null,
            "overflow_y": null,
            "overflow_x": null,
            "grid_auto_flow": null,
            "grid_area": null,
            "grid_template_columns": null,
            "flex": null,
            "_model_name": "LayoutModel",
            "justify_items": null,
            "grid_row": null,
            "max_height": null,
            "align_content": null,
            "visibility": null,
            "align_self": null,
            "height": null,
            "min_height": null,
            "padding": null,
            "grid_auto_rows": null,
            "grid_gap": null,
            "max_width": null,
            "order": null,
            "_view_module_version": "1.2.0",
            "grid_template_areas": null,
            "object_position": null,
            "object_fit": null,
            "grid_auto_columns": null,
            "margin": null,
            "display": null,
            "left": null
          }
        },
        "c546fd87dcb84cbb9ecefda28a5f4772": {
          "model_module": "@jupyter-widgets/controls",
          "model_name": "HBoxModel",
          "state": {
            "_view_name": "HBoxView",
            "_dom_classes": [],
            "_model_name": "HBoxModel",
            "_view_module": "@jupyter-widgets/controls",
            "_model_module_version": "1.5.0",
            "_view_count": null,
            "_view_module_version": "1.5.0",
            "box_style": "",
            "layout": "IPY_MODEL_2dd63fd6731c48e0aaa0b6c97b3128a1",
            "_model_module": "@jupyter-widgets/controls",
            "children": [
              "IPY_MODEL_878b4aa5bdf64db2b9009121357fd185",
              "IPY_MODEL_483fb7cd527d4c34a85cbac3eb7d61f1"
            ]
          }
        },
        "2dd63fd6731c48e0aaa0b6c97b3128a1": {
          "model_module": "@jupyter-widgets/base",
          "model_name": "LayoutModel",
          "state": {
            "_view_name": "LayoutView",
            "grid_template_rows": null,
            "right": null,
            "justify_content": null,
            "_view_module": "@jupyter-widgets/base",
            "overflow": null,
            "_model_module_version": "1.2.0",
            "_view_count": null,
            "flex_flow": null,
            "width": null,
            "min_width": null,
            "border": null,
            "align_items": null,
            "bottom": null,
            "_model_module": "@jupyter-widgets/base",
            "top": null,
            "grid_column": null,
            "overflow_y": null,
            "overflow_x": null,
            "grid_auto_flow": null,
            "grid_area": null,
            "grid_template_columns": null,
            "flex": null,
            "_model_name": "LayoutModel",
            "justify_items": null,
            "grid_row": null,
            "max_height": null,
            "align_content": null,
            "visibility": null,
            "align_self": null,
            "height": null,
            "min_height": null,
            "padding": null,
            "grid_auto_rows": null,
            "grid_gap": null,
            "max_width": null,
            "order": null,
            "_view_module_version": "1.2.0",
            "grid_template_areas": null,
            "object_position": null,
            "object_fit": null,
            "grid_auto_columns": null,
            "margin": null,
            "display": null,
            "left": null
          }
        },
        "878b4aa5bdf64db2b9009121357fd185": {
          "model_module": "@jupyter-widgets/controls",
          "model_name": "FloatProgressModel",
          "state": {
            "_view_name": "ProgressView",
            "style": "IPY_MODEL_bdac9dc0f1b54a3aabf7aa2a26f50932",
            "_dom_classes": [],
            "description": "#1: 100%",
            "_model_name": "FloatProgressModel",
            "bar_style": "success",
            "max": 4,
            "_view_module": "@jupyter-widgets/controls",
            "_model_module_version": "1.5.0",
            "value": 4,
            "_view_count": null,
            "_view_module_version": "1.5.0",
            "orientation": "horizontal",
            "min": 0,
            "description_tooltip": null,
            "_model_module": "@jupyter-widgets/controls",
            "layout": "IPY_MODEL_389c67170d844520bb2c50cd48a7cffa"
          }
        },
        "483fb7cd527d4c34a85cbac3eb7d61f1": {
          "model_module": "@jupyter-widgets/controls",
          "model_name": "HTMLModel",
          "state": {
            "_view_name": "HTMLView",
            "style": "IPY_MODEL_148871c4f6ca4e6aba0af9b0037f7b85",
            "_dom_classes": [],
            "description": "",
            "_model_name": "HTMLModel",
            "placeholder": "​",
            "_view_module": "@jupyter-widgets/controls",
            "_model_module_version": "1.5.0",
            "value": " 4/4 [00:04&lt;00:00,  1.04s/ba]",
            "_view_count": null,
            "_view_module_version": "1.5.0",
            "description_tooltip": null,
            "_model_module": "@jupyter-widgets/controls",
            "layout": "IPY_MODEL_f737018ec4524a2781e66dfae11ec5ef"
          }
        },
        "bdac9dc0f1b54a3aabf7aa2a26f50932": {
          "model_module": "@jupyter-widgets/controls",
          "model_name": "ProgressStyleModel",
          "state": {
            "_view_name": "StyleView",
            "_model_name": "ProgressStyleModel",
            "description_width": "initial",
            "_view_module": "@jupyter-widgets/base",
            "_model_module_version": "1.5.0",
            "_view_count": null,
            "_view_module_version": "1.2.0",
            "bar_color": null,
            "_model_module": "@jupyter-widgets/controls"
          }
        },
        "389c67170d844520bb2c50cd48a7cffa": {
          "model_module": "@jupyter-widgets/base",
          "model_name": "LayoutModel",
          "state": {
            "_view_name": "LayoutView",
            "grid_template_rows": null,
            "right": null,
            "justify_content": null,
            "_view_module": "@jupyter-widgets/base",
            "overflow": null,
            "_model_module_version": "1.2.0",
            "_view_count": null,
            "flex_flow": null,
            "width": null,
            "min_width": null,
            "border": null,
            "align_items": null,
            "bottom": null,
            "_model_module": "@jupyter-widgets/base",
            "top": null,
            "grid_column": null,
            "overflow_y": null,
            "overflow_x": null,
            "grid_auto_flow": null,
            "grid_area": null,
            "grid_template_columns": null,
            "flex": null,
            "_model_name": "LayoutModel",
            "justify_items": null,
            "grid_row": null,
            "max_height": null,
            "align_content": null,
            "visibility": null,
            "align_self": null,
            "height": null,
            "min_height": null,
            "padding": null,
            "grid_auto_rows": null,
            "grid_gap": null,
            "max_width": null,
            "order": null,
            "_view_module_version": "1.2.0",
            "grid_template_areas": null,
            "object_position": null,
            "object_fit": null,
            "grid_auto_columns": null,
            "margin": null,
            "display": null,
            "left": null
          }
        },
        "148871c4f6ca4e6aba0af9b0037f7b85": {
          "model_module": "@jupyter-widgets/controls",
          "model_name": "DescriptionStyleModel",
          "state": {
            "_view_name": "StyleView",
            "_model_name": "DescriptionStyleModel",
            "description_width": "",
            "_view_module": "@jupyter-widgets/base",
            "_model_module_version": "1.5.0",
            "_view_count": null,
            "_view_module_version": "1.2.0",
            "_model_module": "@jupyter-widgets/controls"
          }
        },
        "f737018ec4524a2781e66dfae11ec5ef": {
          "model_module": "@jupyter-widgets/base",
          "model_name": "LayoutModel",
          "state": {
            "_view_name": "LayoutView",
            "grid_template_rows": null,
            "right": null,
            "justify_content": null,
            "_view_module": "@jupyter-widgets/base",
            "overflow": null,
            "_model_module_version": "1.2.0",
            "_view_count": null,
            "flex_flow": null,
            "width": null,
            "min_width": null,
            "border": null,
            "align_items": null,
            "bottom": null,
            "_model_module": "@jupyter-widgets/base",
            "top": null,
            "grid_column": null,
            "overflow_y": null,
            "overflow_x": null,
            "grid_auto_flow": null,
            "grid_area": null,
            "grid_template_columns": null,
            "flex": null,
            "_model_name": "LayoutModel",
            "justify_items": null,
            "grid_row": null,
            "max_height": null,
            "align_content": null,
            "visibility": null,
            "align_self": null,
            "height": null,
            "min_height": null,
            "padding": null,
            "grid_auto_rows": null,
            "grid_gap": null,
            "max_width": null,
            "order": null,
            "_view_module_version": "1.2.0",
            "grid_template_areas": null,
            "object_position": null,
            "object_fit": null,
            "grid_auto_columns": null,
            "margin": null,
            "display": null,
            "left": null
          }
        },
        "e252c58f3fca4ae4a249fbec6df87c0e": {
          "model_module": "@jupyter-widgets/controls",
          "model_name": "HBoxModel",
          "state": {
            "_view_name": "HBoxView",
            "_dom_classes": [],
            "_model_name": "HBoxModel",
            "_view_module": "@jupyter-widgets/controls",
            "_model_module_version": "1.5.0",
            "_view_count": null,
            "_view_module_version": "1.5.0",
            "box_style": "",
            "layout": "IPY_MODEL_ca2a1fb2e7cb42949754946c424be94f",
            "_model_module": "@jupyter-widgets/controls",
            "children": [
              "IPY_MODEL_263232be1668462e8c9d98240159b6d7",
              "IPY_MODEL_8ebb08cafc824b7dae14391d5a371cfe"
            ]
          }
        },
        "ca2a1fb2e7cb42949754946c424be94f": {
          "model_module": "@jupyter-widgets/base",
          "model_name": "LayoutModel",
          "state": {
            "_view_name": "LayoutView",
            "grid_template_rows": null,
            "right": null,
            "justify_content": null,
            "_view_module": "@jupyter-widgets/base",
            "overflow": null,
            "_model_module_version": "1.2.0",
            "_view_count": null,
            "flex_flow": null,
            "width": null,
            "min_width": null,
            "border": null,
            "align_items": null,
            "bottom": null,
            "_model_module": "@jupyter-widgets/base",
            "top": null,
            "grid_column": null,
            "overflow_y": null,
            "overflow_x": null,
            "grid_auto_flow": null,
            "grid_area": null,
            "grid_template_columns": null,
            "flex": null,
            "_model_name": "LayoutModel",
            "justify_items": null,
            "grid_row": null,
            "max_height": null,
            "align_content": null,
            "visibility": null,
            "align_self": null,
            "height": null,
            "min_height": null,
            "padding": null,
            "grid_auto_rows": null,
            "grid_gap": null,
            "max_width": null,
            "order": null,
            "_view_module_version": "1.2.0",
            "grid_template_areas": null,
            "object_position": null,
            "object_fit": null,
            "grid_auto_columns": null,
            "margin": null,
            "display": null,
            "left": null
          }
        },
        "263232be1668462e8c9d98240159b6d7": {
          "model_module": "@jupyter-widgets/controls",
          "model_name": "FloatProgressModel",
          "state": {
            "_view_name": "ProgressView",
            "style": "IPY_MODEL_81b0f46e587d4acbbfc0f67f9135e2ad",
            "_dom_classes": [],
            "description": "#0: 100%",
            "_model_name": "FloatProgressModel",
            "bar_style": "success",
            "max": 4,
            "_view_module": "@jupyter-widgets/controls",
            "_model_module_version": "1.5.0",
            "value": 4,
            "_view_count": null,
            "_view_module_version": "1.5.0",
            "orientation": "horizontal",
            "min": 0,
            "description_tooltip": null,
            "_model_module": "@jupyter-widgets/controls",
            "layout": "IPY_MODEL_bc52bcc81c3a434ba1aa4294e26d5308"
          }
        },
        "8ebb08cafc824b7dae14391d5a371cfe": {
          "model_module": "@jupyter-widgets/controls",
          "model_name": "HTMLModel",
          "state": {
            "_view_name": "HTMLView",
            "style": "IPY_MODEL_b9c151231d1c43709bd3d6c7b86378a5",
            "_dom_classes": [],
            "description": "",
            "_model_name": "HTMLModel",
            "placeholder": "​",
            "_view_module": "@jupyter-widgets/controls",
            "_model_module_version": "1.5.0",
            "value": " 4/4 [00:04&lt;00:00,  1.06s/ba]",
            "_view_count": null,
            "_view_module_version": "1.5.0",
            "description_tooltip": null,
            "_model_module": "@jupyter-widgets/controls",
            "layout": "IPY_MODEL_b13455b245f94470b0437e1b70e957dc"
          }
        },
        "81b0f46e587d4acbbfc0f67f9135e2ad": {
          "model_module": "@jupyter-widgets/controls",
          "model_name": "ProgressStyleModel",
          "state": {
            "_view_name": "StyleView",
            "_model_name": "ProgressStyleModel",
            "description_width": "initial",
            "_view_module": "@jupyter-widgets/base",
            "_model_module_version": "1.5.0",
            "_view_count": null,
            "_view_module_version": "1.2.0",
            "bar_color": null,
            "_model_module": "@jupyter-widgets/controls"
          }
        },
        "bc52bcc81c3a434ba1aa4294e26d5308": {
          "model_module": "@jupyter-widgets/base",
          "model_name": "LayoutModel",
          "state": {
            "_view_name": "LayoutView",
            "grid_template_rows": null,
            "right": null,
            "justify_content": null,
            "_view_module": "@jupyter-widgets/base",
            "overflow": null,
            "_model_module_version": "1.2.0",
            "_view_count": null,
            "flex_flow": null,
            "width": null,
            "min_width": null,
            "border": null,
            "align_items": null,
            "bottom": null,
            "_model_module": "@jupyter-widgets/base",
            "top": null,
            "grid_column": null,
            "overflow_y": null,
            "overflow_x": null,
            "grid_auto_flow": null,
            "grid_area": null,
            "grid_template_columns": null,
            "flex": null,
            "_model_name": "LayoutModel",
            "justify_items": null,
            "grid_row": null,
            "max_height": null,
            "align_content": null,
            "visibility": null,
            "align_self": null,
            "height": null,
            "min_height": null,
            "padding": null,
            "grid_auto_rows": null,
            "grid_gap": null,
            "max_width": null,
            "order": null,
            "_view_module_version": "1.2.0",
            "grid_template_areas": null,
            "object_position": null,
            "object_fit": null,
            "grid_auto_columns": null,
            "margin": null,
            "display": null,
            "left": null
          }
        },
        "b9c151231d1c43709bd3d6c7b86378a5": {
          "model_module": "@jupyter-widgets/controls",
          "model_name": "DescriptionStyleModel",
          "state": {
            "_view_name": "StyleView",
            "_model_name": "DescriptionStyleModel",
            "description_width": "",
            "_view_module": "@jupyter-widgets/base",
            "_model_module_version": "1.5.0",
            "_view_count": null,
            "_view_module_version": "1.2.0",
            "_model_module": "@jupyter-widgets/controls"
          }
        },
        "b13455b245f94470b0437e1b70e957dc": {
          "model_module": "@jupyter-widgets/base",
          "model_name": "LayoutModel",
          "state": {
            "_view_name": "LayoutView",
            "grid_template_rows": null,
            "right": null,
            "justify_content": null,
            "_view_module": "@jupyter-widgets/base",
            "overflow": null,
            "_model_module_version": "1.2.0",
            "_view_count": null,
            "flex_flow": null,
            "width": null,
            "min_width": null,
            "border": null,
            "align_items": null,
            "bottom": null,
            "_model_module": "@jupyter-widgets/base",
            "top": null,
            "grid_column": null,
            "overflow_y": null,
            "overflow_x": null,
            "grid_auto_flow": null,
            "grid_area": null,
            "grid_template_columns": null,
            "flex": null,
            "_model_name": "LayoutModel",
            "justify_items": null,
            "grid_row": null,
            "max_height": null,
            "align_content": null,
            "visibility": null,
            "align_self": null,
            "height": null,
            "min_height": null,
            "padding": null,
            "grid_auto_rows": null,
            "grid_gap": null,
            "max_width": null,
            "order": null,
            "_view_module_version": "1.2.0",
            "grid_template_areas": null,
            "object_position": null,
            "object_fit": null,
            "grid_auto_columns": null,
            "margin": null,
            "display": null,
            "left": null
          }
        },
        "03e0f01c1dd84b118a77ccb537efb66e": {
          "model_module": "@jupyter-widgets/controls",
          "model_name": "HBoxModel",
          "state": {
            "_view_name": "HBoxView",
            "_dom_classes": [],
            "_model_name": "HBoxModel",
            "_view_module": "@jupyter-widgets/controls",
            "_model_module_version": "1.5.0",
            "_view_count": null,
            "_view_module_version": "1.5.0",
            "box_style": "",
            "layout": "IPY_MODEL_89698a235d614ccbaf322ac2f3147596",
            "_model_module": "@jupyter-widgets/controls",
            "children": [
              "IPY_MODEL_684fb368723f41ee97a33fdee41b252a",
              "IPY_MODEL_9fe8fa07e0b74f74905a137773bf93ea"
            ]
          }
        },
        "89698a235d614ccbaf322ac2f3147596": {
          "model_module": "@jupyter-widgets/base",
          "model_name": "LayoutModel",
          "state": {
            "_view_name": "LayoutView",
            "grid_template_rows": null,
            "right": null,
            "justify_content": null,
            "_view_module": "@jupyter-widgets/base",
            "overflow": null,
            "_model_module_version": "1.2.0",
            "_view_count": null,
            "flex_flow": null,
            "width": null,
            "min_width": null,
            "border": null,
            "align_items": null,
            "bottom": null,
            "_model_module": "@jupyter-widgets/base",
            "top": null,
            "grid_column": null,
            "overflow_y": null,
            "overflow_x": null,
            "grid_auto_flow": null,
            "grid_area": null,
            "grid_template_columns": null,
            "flex": null,
            "_model_name": "LayoutModel",
            "justify_items": null,
            "grid_row": null,
            "max_height": null,
            "align_content": null,
            "visibility": null,
            "align_self": null,
            "height": null,
            "min_height": null,
            "padding": null,
            "grid_auto_rows": null,
            "grid_gap": null,
            "max_width": null,
            "order": null,
            "_view_module_version": "1.2.0",
            "grid_template_areas": null,
            "object_position": null,
            "object_fit": null,
            "grid_auto_columns": null,
            "margin": null,
            "display": null,
            "left": null
          }
        },
        "684fb368723f41ee97a33fdee41b252a": {
          "model_module": "@jupyter-widgets/controls",
          "model_name": "FloatProgressModel",
          "state": {
            "_view_name": "ProgressView",
            "style": "IPY_MODEL_b2e2966c5b214c98baaf8ab2be43d0c4",
            "_dom_classes": [],
            "description": "Downloading: ",
            "_model_name": "FloatProgressModel",
            "bar_style": "success",
            "max": 1764,
            "_view_module": "@jupyter-widgets/controls",
            "_model_module_version": "1.5.0",
            "value": 1764,
            "_view_count": null,
            "_view_module_version": "1.5.0",
            "orientation": "horizontal",
            "min": 0,
            "description_tooltip": null,
            "_model_module": "@jupyter-widgets/controls",
            "layout": "IPY_MODEL_a46ec8e5754c425e99b90f76b0ce07aa"
          }
        },
        "9fe8fa07e0b74f74905a137773bf93ea": {
          "model_module": "@jupyter-widgets/controls",
          "model_name": "HTMLModel",
          "state": {
            "_view_name": "HTMLView",
            "style": "IPY_MODEL_8051308073454593b1790252ba7932a6",
            "_dom_classes": [],
            "description": "",
            "_model_name": "HTMLModel",
            "placeholder": "​",
            "_view_module": "@jupyter-widgets/controls",
            "_model_module_version": "1.5.0",
            "value": " 3.90k/? [00:23&lt;00:00, 168B/s]",
            "_view_count": null,
            "_view_module_version": "1.5.0",
            "description_tooltip": null,
            "_model_module": "@jupyter-widgets/controls",
            "layout": "IPY_MODEL_4986fc3ef53948e8b6d10a70925c6365"
          }
        },
        "b2e2966c5b214c98baaf8ab2be43d0c4": {
          "model_module": "@jupyter-widgets/controls",
          "model_name": "ProgressStyleModel",
          "state": {
            "_view_name": "StyleView",
            "_model_name": "ProgressStyleModel",
            "description_width": "initial",
            "_view_module": "@jupyter-widgets/base",
            "_model_module_version": "1.5.0",
            "_view_count": null,
            "_view_module_version": "1.2.0",
            "bar_color": null,
            "_model_module": "@jupyter-widgets/controls"
          }
        },
        "a46ec8e5754c425e99b90f76b0ce07aa": {
          "model_module": "@jupyter-widgets/base",
          "model_name": "LayoutModel",
          "state": {
            "_view_name": "LayoutView",
            "grid_template_rows": null,
            "right": null,
            "justify_content": null,
            "_view_module": "@jupyter-widgets/base",
            "overflow": null,
            "_model_module_version": "1.2.0",
            "_view_count": null,
            "flex_flow": null,
            "width": null,
            "min_width": null,
            "border": null,
            "align_items": null,
            "bottom": null,
            "_model_module": "@jupyter-widgets/base",
            "top": null,
            "grid_column": null,
            "overflow_y": null,
            "overflow_x": null,
            "grid_auto_flow": null,
            "grid_area": null,
            "grid_template_columns": null,
            "flex": null,
            "_model_name": "LayoutModel",
            "justify_items": null,
            "grid_row": null,
            "max_height": null,
            "align_content": null,
            "visibility": null,
            "align_self": null,
            "height": null,
            "min_height": null,
            "padding": null,
            "grid_auto_rows": null,
            "grid_gap": null,
            "max_width": null,
            "order": null,
            "_view_module_version": "1.2.0",
            "grid_template_areas": null,
            "object_position": null,
            "object_fit": null,
            "grid_auto_columns": null,
            "margin": null,
            "display": null,
            "left": null
          }
        },
        "8051308073454593b1790252ba7932a6": {
          "model_module": "@jupyter-widgets/controls",
          "model_name": "DescriptionStyleModel",
          "state": {
            "_view_name": "StyleView",
            "_model_name": "DescriptionStyleModel",
            "description_width": "",
            "_view_module": "@jupyter-widgets/base",
            "_model_module_version": "1.5.0",
            "_view_count": null,
            "_view_module_version": "1.2.0",
            "_model_module": "@jupyter-widgets/controls"
          }
        },
        "4986fc3ef53948e8b6d10a70925c6365": {
          "model_module": "@jupyter-widgets/base",
          "model_name": "LayoutModel",
          "state": {
            "_view_name": "LayoutView",
            "grid_template_rows": null,
            "right": null,
            "justify_content": null,
            "_view_module": "@jupyter-widgets/base",
            "overflow": null,
            "_model_module_version": "1.2.0",
            "_view_count": null,
            "flex_flow": null,
            "width": null,
            "min_width": null,
            "border": null,
            "align_items": null,
            "bottom": null,
            "_model_module": "@jupyter-widgets/base",
            "top": null,
            "grid_column": null,
            "overflow_y": null,
            "overflow_x": null,
            "grid_auto_flow": null,
            "grid_area": null,
            "grid_template_columns": null,
            "flex": null,
            "_model_name": "LayoutModel",
            "justify_items": null,
            "grid_row": null,
            "max_height": null,
            "align_content": null,
            "visibility": null,
            "align_self": null,
            "height": null,
            "min_height": null,
            "padding": null,
            "grid_auto_rows": null,
            "grid_gap": null,
            "max_width": null,
            "order": null,
            "_view_module_version": "1.2.0",
            "grid_template_areas": null,
            "object_position": null,
            "object_fit": null,
            "grid_auto_columns": null,
            "margin": null,
            "display": null,
            "left": null
          }
        },
        "a18487ac8c43467d8717c16b2ad1841f": {
          "model_module": "@jupyter-widgets/controls",
          "model_name": "HBoxModel",
          "state": {
            "_view_name": "HBoxView",
            "_dom_classes": [],
            "_model_name": "HBoxModel",
            "_view_module": "@jupyter-widgets/controls",
            "_model_module_version": "1.5.0",
            "_view_count": null,
            "_view_module_version": "1.5.0",
            "box_style": "",
            "layout": "IPY_MODEL_e396092962fc407dbe5eb26dd5df9dba",
            "_model_module": "@jupyter-widgets/controls",
            "children": [
              "IPY_MODEL_86395345591444299f6e49af78a68d85",
              "IPY_MODEL_26d2005c7ea14e3f90b274fae6ab6d3f"
            ]
          }
        },
        "e396092962fc407dbe5eb26dd5df9dba": {
          "model_module": "@jupyter-widgets/base",
          "model_name": "LayoutModel",
          "state": {
            "_view_name": "LayoutView",
            "grid_template_rows": null,
            "right": null,
            "justify_content": null,
            "_view_module": "@jupyter-widgets/base",
            "overflow": null,
            "_model_module_version": "1.2.0",
            "_view_count": null,
            "flex_flow": null,
            "width": null,
            "min_width": null,
            "border": null,
            "align_items": null,
            "bottom": null,
            "_model_module": "@jupyter-widgets/base",
            "top": null,
            "grid_column": null,
            "overflow_y": null,
            "overflow_x": null,
            "grid_auto_flow": null,
            "grid_area": null,
            "grid_template_columns": null,
            "flex": null,
            "_model_name": "LayoutModel",
            "justify_items": null,
            "grid_row": null,
            "max_height": null,
            "align_content": null,
            "visibility": null,
            "align_self": null,
            "height": null,
            "min_height": null,
            "padding": null,
            "grid_auto_rows": null,
            "grid_gap": null,
            "max_width": null,
            "order": null,
            "_view_module_version": "1.2.0",
            "grid_template_areas": null,
            "object_position": null,
            "object_fit": null,
            "grid_auto_columns": null,
            "margin": null,
            "display": null,
            "left": null
          }
        },
        "86395345591444299f6e49af78a68d85": {
          "model_module": "@jupyter-widgets/controls",
          "model_name": "FloatProgressModel",
          "state": {
            "_view_name": "ProgressView",
            "style": "IPY_MODEL_2a4650591e3e493281ce6b712f98bcd7",
            "_dom_classes": [],
            "description": "Downloading: 100%",
            "_model_name": "FloatProgressModel",
            "bar_style": "success",
            "max": 1451,
            "_view_module": "@jupyter-widgets/controls",
            "_model_module_version": "1.5.0",
            "value": 1451,
            "_view_count": null,
            "_view_module_version": "1.5.0",
            "orientation": "horizontal",
            "min": 0,
            "description_tooltip": null,
            "_model_module": "@jupyter-widgets/controls",
            "layout": "IPY_MODEL_4bceeb445e404ffbbad944f8b9aefbc8"
          }
        },
        "26d2005c7ea14e3f90b274fae6ab6d3f": {
          "model_module": "@jupyter-widgets/controls",
          "model_name": "HTMLModel",
          "state": {
            "_view_name": "HTMLView",
            "style": "IPY_MODEL_476cf3921ff34609be72179b297bceb0",
            "_dom_classes": [],
            "description": "",
            "_model_name": "HTMLModel",
            "placeholder": "​",
            "_view_module": "@jupyter-widgets/controls",
            "_model_module_version": "1.5.0",
            "value": " 1.45k/1.45k [00:22&lt;00:00, 63.2B/s]",
            "_view_count": null,
            "_view_module_version": "1.5.0",
            "description_tooltip": null,
            "_model_module": "@jupyter-widgets/controls",
            "layout": "IPY_MODEL_6b70310adef04de99c97753e471a0892"
          }
        },
        "2a4650591e3e493281ce6b712f98bcd7": {
          "model_module": "@jupyter-widgets/controls",
          "model_name": "ProgressStyleModel",
          "state": {
            "_view_name": "StyleView",
            "_model_name": "ProgressStyleModel",
            "description_width": "initial",
            "_view_module": "@jupyter-widgets/base",
            "_model_module_version": "1.5.0",
            "_view_count": null,
            "_view_module_version": "1.2.0",
            "bar_color": null,
            "_model_module": "@jupyter-widgets/controls"
          }
        },
        "4bceeb445e404ffbbad944f8b9aefbc8": {
          "model_module": "@jupyter-widgets/base",
          "model_name": "LayoutModel",
          "state": {
            "_view_name": "LayoutView",
            "grid_template_rows": null,
            "right": null,
            "justify_content": null,
            "_view_module": "@jupyter-widgets/base",
            "overflow": null,
            "_model_module_version": "1.2.0",
            "_view_count": null,
            "flex_flow": null,
            "width": null,
            "min_width": null,
            "border": null,
            "align_items": null,
            "bottom": null,
            "_model_module": "@jupyter-widgets/base",
            "top": null,
            "grid_column": null,
            "overflow_y": null,
            "overflow_x": null,
            "grid_auto_flow": null,
            "grid_area": null,
            "grid_template_columns": null,
            "flex": null,
            "_model_name": "LayoutModel",
            "justify_items": null,
            "grid_row": null,
            "max_height": null,
            "align_content": null,
            "visibility": null,
            "align_self": null,
            "height": null,
            "min_height": null,
            "padding": null,
            "grid_auto_rows": null,
            "grid_gap": null,
            "max_width": null,
            "order": null,
            "_view_module_version": "1.2.0",
            "grid_template_areas": null,
            "object_position": null,
            "object_fit": null,
            "grid_auto_columns": null,
            "margin": null,
            "display": null,
            "left": null
          }
        },
        "476cf3921ff34609be72179b297bceb0": {
          "model_module": "@jupyter-widgets/controls",
          "model_name": "DescriptionStyleModel",
          "state": {
            "_view_name": "StyleView",
            "_model_name": "DescriptionStyleModel",
            "description_width": "",
            "_view_module": "@jupyter-widgets/base",
            "_model_module_version": "1.5.0",
            "_view_count": null,
            "_view_module_version": "1.2.0",
            "_model_module": "@jupyter-widgets/controls"
          }
        },
        "6b70310adef04de99c97753e471a0892": {
          "model_module": "@jupyter-widgets/base",
          "model_name": "LayoutModel",
          "state": {
            "_view_name": "LayoutView",
            "grid_template_rows": null,
            "right": null,
            "justify_content": null,
            "_view_module": "@jupyter-widgets/base",
            "overflow": null,
            "_model_module_version": "1.2.0",
            "_view_count": null,
            "flex_flow": null,
            "width": null,
            "min_width": null,
            "border": null,
            "align_items": null,
            "bottom": null,
            "_model_module": "@jupyter-widgets/base",
            "top": null,
            "grid_column": null,
            "overflow_y": null,
            "overflow_x": null,
            "grid_auto_flow": null,
            "grid_area": null,
            "grid_template_columns": null,
            "flex": null,
            "_model_name": "LayoutModel",
            "justify_items": null,
            "grid_row": null,
            "max_height": null,
            "align_content": null,
            "visibility": null,
            "align_self": null,
            "height": null,
            "min_height": null,
            "padding": null,
            "grid_auto_rows": null,
            "grid_gap": null,
            "max_width": null,
            "order": null,
            "_view_module_version": "1.2.0",
            "grid_template_areas": null,
            "object_position": null,
            "object_fit": null,
            "grid_auto_columns": null,
            "margin": null,
            "display": null,
            "left": null
          }
        },
        "937a3b4f72a64f9cbbcf1fc665cc0efd": {
          "model_module": "@jupyter-widgets/controls",
          "model_name": "HBoxModel",
          "state": {
            "_view_name": "HBoxView",
            "_dom_classes": [],
            "_model_name": "HBoxModel",
            "_view_module": "@jupyter-widgets/controls",
            "_model_module_version": "1.5.0",
            "_view_count": null,
            "_view_module_version": "1.5.0",
            "box_style": "",
            "layout": "IPY_MODEL_da10bc1d851a4ab8a2cd22ab743bf28b",
            "_model_module": "@jupyter-widgets/controls",
            "children": [
              "IPY_MODEL_fc590c6c0f57483ea1a087c140895675",
              "IPY_MODEL_4445de3477ff47ea865021a5638c88ec"
            ]
          }
        },
        "da10bc1d851a4ab8a2cd22ab743bf28b": {
          "model_module": "@jupyter-widgets/base",
          "model_name": "LayoutModel",
          "state": {
            "_view_name": "LayoutView",
            "grid_template_rows": null,
            "right": null,
            "justify_content": null,
            "_view_module": "@jupyter-widgets/base",
            "overflow": null,
            "_model_module_version": "1.2.0",
            "_view_count": null,
            "flex_flow": null,
            "width": null,
            "min_width": null,
            "border": null,
            "align_items": null,
            "bottom": null,
            "_model_module": "@jupyter-widgets/base",
            "top": null,
            "grid_column": null,
            "overflow_y": null,
            "overflow_x": null,
            "grid_auto_flow": null,
            "grid_area": null,
            "grid_template_columns": null,
            "flex": null,
            "_model_name": "LayoutModel",
            "justify_items": null,
            "grid_row": null,
            "max_height": null,
            "align_content": null,
            "visibility": null,
            "align_self": null,
            "height": null,
            "min_height": null,
            "padding": null,
            "grid_auto_rows": null,
            "grid_gap": null,
            "max_width": null,
            "order": null,
            "_view_module_version": "1.2.0",
            "grid_template_areas": null,
            "object_position": null,
            "object_fit": null,
            "grid_auto_columns": null,
            "margin": null,
            "display": null,
            "left": null
          }
        },
        "fc590c6c0f57483ea1a087c140895675": {
          "model_module": "@jupyter-widgets/controls",
          "model_name": "FloatProgressModel",
          "state": {
            "_view_name": "ProgressView",
            "style": "IPY_MODEL_6a8dafa14c7e4613ac8dbfbc0bdf7fc8",
            "_dom_classes": [],
            "description": "Downloading: 100%",
            "_model_name": "FloatProgressModel",
            "bar_style": "success",
            "max": 1261920069,
            "_view_module": "@jupyter-widgets/controls",
            "_model_module_version": "1.5.0",
            "value": 1261920069,
            "_view_count": null,
            "_view_module_version": "1.5.0",
            "orientation": "horizontal",
            "min": 0,
            "description_tooltip": null,
            "_model_module": "@jupyter-widgets/controls",
            "layout": "IPY_MODEL_433cda94588045f4bdb12ad575a58584"
          }
        },
        "4445de3477ff47ea865021a5638c88ec": {
          "model_module": "@jupyter-widgets/controls",
          "model_name": "HTMLModel",
          "state": {
            "_view_name": "HTMLView",
            "style": "IPY_MODEL_96900bd4e8414fe4b98508c6be965b52",
            "_dom_classes": [],
            "description": "",
            "_model_name": "HTMLModel",
            "placeholder": "​",
            "_view_module": "@jupyter-widgets/controls",
            "_model_module_version": "1.5.0",
            "value": " 1.26G/1.26G [00:22&lt;00:00, 57.2MB/s]",
            "_view_count": null,
            "_view_module_version": "1.5.0",
            "description_tooltip": null,
            "_model_module": "@jupyter-widgets/controls",
            "layout": "IPY_MODEL_6d014ebe31ba461f99a7c183edefca45"
          }
        },
        "6a8dafa14c7e4613ac8dbfbc0bdf7fc8": {
          "model_module": "@jupyter-widgets/controls",
          "model_name": "ProgressStyleModel",
          "state": {
            "_view_name": "StyleView",
            "_model_name": "ProgressStyleModel",
            "description_width": "initial",
            "_view_module": "@jupyter-widgets/base",
            "_model_module_version": "1.5.0",
            "_view_count": null,
            "_view_module_version": "1.2.0",
            "bar_color": null,
            "_model_module": "@jupyter-widgets/controls"
          }
        },
        "433cda94588045f4bdb12ad575a58584": {
          "model_module": "@jupyter-widgets/base",
          "model_name": "LayoutModel",
          "state": {
            "_view_name": "LayoutView",
            "grid_template_rows": null,
            "right": null,
            "justify_content": null,
            "_view_module": "@jupyter-widgets/base",
            "overflow": null,
            "_model_module_version": "1.2.0",
            "_view_count": null,
            "flex_flow": null,
            "width": null,
            "min_width": null,
            "border": null,
            "align_items": null,
            "bottom": null,
            "_model_module": "@jupyter-widgets/base",
            "top": null,
            "grid_column": null,
            "overflow_y": null,
            "overflow_x": null,
            "grid_auto_flow": null,
            "grid_area": null,
            "grid_template_columns": null,
            "flex": null,
            "_model_name": "LayoutModel",
            "justify_items": null,
            "grid_row": null,
            "max_height": null,
            "align_content": null,
            "visibility": null,
            "align_self": null,
            "height": null,
            "min_height": null,
            "padding": null,
            "grid_auto_rows": null,
            "grid_gap": null,
            "max_width": null,
            "order": null,
            "_view_module_version": "1.2.0",
            "grid_template_areas": null,
            "object_position": null,
            "object_fit": null,
            "grid_auto_columns": null,
            "margin": null,
            "display": null,
            "left": null
          }
        },
        "96900bd4e8414fe4b98508c6be965b52": {
          "model_module": "@jupyter-widgets/controls",
          "model_name": "DescriptionStyleModel",
          "state": {
            "_view_name": "StyleView",
            "_model_name": "DescriptionStyleModel",
            "description_width": "",
            "_view_module": "@jupyter-widgets/base",
            "_model_module_version": "1.5.0",
            "_view_count": null,
            "_view_module_version": "1.2.0",
            "_model_module": "@jupyter-widgets/controls"
          }
        },
        "6d014ebe31ba461f99a7c183edefca45": {
          "model_module": "@jupyter-widgets/base",
          "model_name": "LayoutModel",
          "state": {
            "_view_name": "LayoutView",
            "grid_template_rows": null,
            "right": null,
            "justify_content": null,
            "_view_module": "@jupyter-widgets/base",
            "overflow": null,
            "_model_module_version": "1.2.0",
            "_view_count": null,
            "flex_flow": null,
            "width": null,
            "min_width": null,
            "border": null,
            "align_items": null,
            "bottom": null,
            "_model_module": "@jupyter-widgets/base",
            "top": null,
            "grid_column": null,
            "overflow_y": null,
            "overflow_x": null,
            "grid_auto_flow": null,
            "grid_area": null,
            "grid_template_columns": null,
            "flex": null,
            "_model_name": "LayoutModel",
            "justify_items": null,
            "grid_row": null,
            "max_height": null,
            "align_content": null,
            "visibility": null,
            "align_self": null,
            "height": null,
            "min_height": null,
            "padding": null,
            "grid_auto_rows": null,
            "grid_gap": null,
            "max_width": null,
            "order": null,
            "_view_module_version": "1.2.0",
            "grid_template_areas": null,
            "object_position": null,
            "object_fit": null,
            "grid_auto_columns": null,
            "margin": null,
            "display": null,
            "left": null
          }
        },
        "06ca2bfa4b1f479ba29e8bcccbf9f0d2": {
          "model_module": "@jupyter-widgets/controls",
          "model_name": "HBoxModel",
          "state": {
            "_view_name": "HBoxView",
            "_dom_classes": [],
            "_model_name": "HBoxModel",
            "_view_module": "@jupyter-widgets/controls",
            "_model_module_version": "1.5.0",
            "_view_count": null,
            "_view_module_version": "1.5.0",
            "box_style": "",
            "layout": "IPY_MODEL_fe339b456b2f44b0afe6bb384be7a349",
            "_model_module": "@jupyter-widgets/controls",
            "children": [
              "IPY_MODEL_79ce67c154d64d8da014225bb35f3324",
              "IPY_MODEL_88dcbeab90584fdb8e4dea17f3e24657"
            ]
          }
        },
        "fe339b456b2f44b0afe6bb384be7a349": {
          "model_module": "@jupyter-widgets/base",
          "model_name": "LayoutModel",
          "state": {
            "_view_name": "LayoutView",
            "grid_template_rows": null,
            "right": null,
            "justify_content": null,
            "_view_module": "@jupyter-widgets/base",
            "overflow": null,
            "_model_module_version": "1.2.0",
            "_view_count": null,
            "flex_flow": null,
            "width": null,
            "min_width": null,
            "border": null,
            "align_items": null,
            "bottom": null,
            "_model_module": "@jupyter-widgets/base",
            "top": null,
            "grid_column": null,
            "overflow_y": null,
            "overflow_x": null,
            "grid_auto_flow": null,
            "grid_area": null,
            "grid_template_columns": null,
            "flex": null,
            "_model_name": "LayoutModel",
            "justify_items": null,
            "grid_row": null,
            "max_height": null,
            "align_content": null,
            "visibility": null,
            "align_self": null,
            "height": null,
            "min_height": null,
            "padding": null,
            "grid_auto_rows": null,
            "grid_gap": null,
            "max_width": null,
            "order": null,
            "_view_module_version": "1.2.0",
            "grid_template_areas": null,
            "object_position": null,
            "object_fit": null,
            "grid_auto_columns": null,
            "margin": null,
            "display": null,
            "left": null
          }
        },
        "79ce67c154d64d8da014225bb35f3324": {
          "model_module": "@jupyter-widgets/controls",
          "model_name": "FloatProgressModel",
          "state": {
            "_view_name": "ProgressView",
            "style": "IPY_MODEL_ce4cf80282944dedaae24b9a95107fc7",
            "_dom_classes": [],
            "description": "Downloading: 100%",
            "_model_name": "FloatProgressModel",
            "bar_style": "success",
            "max": 1558,
            "_view_module": "@jupyter-widgets/controls",
            "_model_module_version": "1.5.0",
            "value": 1558,
            "_view_count": null,
            "_view_module_version": "1.5.0",
            "orientation": "horizontal",
            "min": 0,
            "description_tooltip": null,
            "_model_module": "@jupyter-widgets/controls",
            "layout": "IPY_MODEL_04ed842bbef6464caa9f1b071442d5a3"
          }
        },
        "88dcbeab90584fdb8e4dea17f3e24657": {
          "model_module": "@jupyter-widgets/controls",
          "model_name": "HTMLModel",
          "state": {
            "_view_name": "HTMLView",
            "style": "IPY_MODEL_ecab1e844ec84c8fa45f6bba1bf299a9",
            "_dom_classes": [],
            "description": "",
            "_model_name": "HTMLModel",
            "placeholder": "​",
            "_view_module": "@jupyter-widgets/controls",
            "_model_module_version": "1.5.0",
            "value": " 1.56k/1.56k [00:00&lt;00:00, 5.63kB/s]",
            "_view_count": null,
            "_view_module_version": "1.5.0",
            "description_tooltip": null,
            "_model_module": "@jupyter-widgets/controls",
            "layout": "IPY_MODEL_93e91a718bbd4b7cb9c583e13dacdd93"
          }
        },
        "ce4cf80282944dedaae24b9a95107fc7": {
          "model_module": "@jupyter-widgets/controls",
          "model_name": "ProgressStyleModel",
          "state": {
            "_view_name": "StyleView",
            "_model_name": "ProgressStyleModel",
            "description_width": "initial",
            "_view_module": "@jupyter-widgets/base",
            "_model_module_version": "1.5.0",
            "_view_count": null,
            "_view_module_version": "1.2.0",
            "bar_color": null,
            "_model_module": "@jupyter-widgets/controls"
          }
        },
        "04ed842bbef6464caa9f1b071442d5a3": {
          "model_module": "@jupyter-widgets/base",
          "model_name": "LayoutModel",
          "state": {
            "_view_name": "LayoutView",
            "grid_template_rows": null,
            "right": null,
            "justify_content": null,
            "_view_module": "@jupyter-widgets/base",
            "overflow": null,
            "_model_module_version": "1.2.0",
            "_view_count": null,
            "flex_flow": null,
            "width": null,
            "min_width": null,
            "border": null,
            "align_items": null,
            "bottom": null,
            "_model_module": "@jupyter-widgets/base",
            "top": null,
            "grid_column": null,
            "overflow_y": null,
            "overflow_x": null,
            "grid_auto_flow": null,
            "grid_area": null,
            "grid_template_columns": null,
            "flex": null,
            "_model_name": "LayoutModel",
            "justify_items": null,
            "grid_row": null,
            "max_height": null,
            "align_content": null,
            "visibility": null,
            "align_self": null,
            "height": null,
            "min_height": null,
            "padding": null,
            "grid_auto_rows": null,
            "grid_gap": null,
            "max_width": null,
            "order": null,
            "_view_module_version": "1.2.0",
            "grid_template_areas": null,
            "object_position": null,
            "object_fit": null,
            "grid_auto_columns": null,
            "margin": null,
            "display": null,
            "left": null
          }
        },
        "ecab1e844ec84c8fa45f6bba1bf299a9": {
          "model_module": "@jupyter-widgets/controls",
          "model_name": "DescriptionStyleModel",
          "state": {
            "_view_name": "StyleView",
            "_model_name": "DescriptionStyleModel",
            "description_width": "",
            "_view_module": "@jupyter-widgets/base",
            "_model_module_version": "1.5.0",
            "_view_count": null,
            "_view_module_version": "1.2.0",
            "_model_module": "@jupyter-widgets/controls"
          }
        },
        "93e91a718bbd4b7cb9c583e13dacdd93": {
          "model_module": "@jupyter-widgets/base",
          "model_name": "LayoutModel",
          "state": {
            "_view_name": "LayoutView",
            "grid_template_rows": null,
            "right": null,
            "justify_content": null,
            "_view_module": "@jupyter-widgets/base",
            "overflow": null,
            "_model_module_version": "1.2.0",
            "_view_count": null,
            "flex_flow": null,
            "width": null,
            "min_width": null,
            "border": null,
            "align_items": null,
            "bottom": null,
            "_model_module": "@jupyter-widgets/base",
            "top": null,
            "grid_column": null,
            "overflow_y": null,
            "overflow_x": null,
            "grid_auto_flow": null,
            "grid_area": null,
            "grid_template_columns": null,
            "flex": null,
            "_model_name": "LayoutModel",
            "justify_items": null,
            "grid_row": null,
            "max_height": null,
            "align_content": null,
            "visibility": null,
            "align_self": null,
            "height": null,
            "min_height": null,
            "padding": null,
            "grid_auto_rows": null,
            "grid_gap": null,
            "max_width": null,
            "order": null,
            "_view_module_version": "1.2.0",
            "grid_template_areas": null,
            "object_position": null,
            "object_fit": null,
            "grid_auto_columns": null,
            "margin": null,
            "display": null,
            "left": null
          }
        },
        "c3d6d9b34e774ad48cdf2fb4a85b27a5": {
          "model_module": "@jupyter-widgets/controls",
          "model_name": "HBoxModel",
          "state": {
            "_view_name": "HBoxView",
            "_dom_classes": [],
            "_model_name": "HBoxModel",
            "_view_module": "@jupyter-widgets/controls",
            "_model_module_version": "1.5.0",
            "_view_count": null,
            "_view_module_version": "1.5.0",
            "box_style": "",
            "layout": "IPY_MODEL_578f1a02119a470284e5aa49ba2f96b0",
            "_model_module": "@jupyter-widgets/controls",
            "children": [
              "IPY_MODEL_148e327a7121418ea3d3fb0c25a513e9",
              "IPY_MODEL_346c3c902c564f908013ff7acbdefb28"
            ]
          }
        },
        "578f1a02119a470284e5aa49ba2f96b0": {
          "model_module": "@jupyter-widgets/base",
          "model_name": "LayoutModel",
          "state": {
            "_view_name": "LayoutView",
            "grid_template_rows": null,
            "right": null,
            "justify_content": null,
            "_view_module": "@jupyter-widgets/base",
            "overflow": null,
            "_model_module_version": "1.2.0",
            "_view_count": null,
            "flex_flow": null,
            "width": null,
            "min_width": null,
            "border": null,
            "align_items": null,
            "bottom": null,
            "_model_module": "@jupyter-widgets/base",
            "top": null,
            "grid_column": null,
            "overflow_y": null,
            "overflow_x": null,
            "grid_auto_flow": null,
            "grid_area": null,
            "grid_template_columns": null,
            "flex": null,
            "_model_name": "LayoutModel",
            "justify_items": null,
            "grid_row": null,
            "max_height": null,
            "align_content": null,
            "visibility": null,
            "align_self": null,
            "height": null,
            "min_height": null,
            "padding": null,
            "grid_auto_rows": null,
            "grid_gap": null,
            "max_width": null,
            "order": null,
            "_view_module_version": "1.2.0",
            "grid_template_areas": null,
            "object_position": null,
            "object_fit": null,
            "grid_auto_columns": null,
            "margin": null,
            "display": null,
            "left": null
          }
        },
        "148e327a7121418ea3d3fb0c25a513e9": {
          "model_module": "@jupyter-widgets/controls",
          "model_name": "FloatProgressModel",
          "state": {
            "_view_name": "ProgressView",
            "style": "IPY_MODEL_c6594d1614794a4f880fb2a5e28a839d",
            "_dom_classes": [],
            "description": "Downloading: 100%",
            "_model_name": "FloatProgressModel",
            "bar_style": "success",
            "max": 1262196247,
            "_view_module": "@jupyter-widgets/controls",
            "_model_module_version": "1.5.0",
            "value": 1262196247,
            "_view_count": null,
            "_view_module_version": "1.5.0",
            "orientation": "horizontal",
            "min": 0,
            "description_tooltip": null,
            "_model_module": "@jupyter-widgets/controls",
            "layout": "IPY_MODEL_547b9cca54ef4cb2b2d8a985e3c0bc0f"
          }
        },
        "346c3c902c564f908013ff7acbdefb28": {
          "model_module": "@jupyter-widgets/controls",
          "model_name": "HTMLModel",
          "state": {
            "_view_name": "HTMLView",
            "style": "IPY_MODEL_926e37ab9dc14cb1939bc03012301d1f",
            "_dom_classes": [],
            "description": "",
            "_model_name": "HTMLModel",
            "placeholder": "​",
            "_view_module": "@jupyter-widgets/controls",
            "_model_module_version": "1.5.0",
            "value": " 1.26G/1.26G [00:31&lt;00:00, 39.7MB/s]",
            "_view_count": null,
            "_view_module_version": "1.5.0",
            "description_tooltip": null,
            "_model_module": "@jupyter-widgets/controls",
            "layout": "IPY_MODEL_a3cbede8535147c4b77828c3b39192e5"
          }
        },
        "c6594d1614794a4f880fb2a5e28a839d": {
          "model_module": "@jupyter-widgets/controls",
          "model_name": "ProgressStyleModel",
          "state": {
            "_view_name": "StyleView",
            "_model_name": "ProgressStyleModel",
            "description_width": "initial",
            "_view_module": "@jupyter-widgets/base",
            "_model_module_version": "1.5.0",
            "_view_count": null,
            "_view_module_version": "1.2.0",
            "bar_color": null,
            "_model_module": "@jupyter-widgets/controls"
          }
        },
        "547b9cca54ef4cb2b2d8a985e3c0bc0f": {
          "model_module": "@jupyter-widgets/base",
          "model_name": "LayoutModel",
          "state": {
            "_view_name": "LayoutView",
            "grid_template_rows": null,
            "right": null,
            "justify_content": null,
            "_view_module": "@jupyter-widgets/base",
            "overflow": null,
            "_model_module_version": "1.2.0",
            "_view_count": null,
            "flex_flow": null,
            "width": null,
            "min_width": null,
            "border": null,
            "align_items": null,
            "bottom": null,
            "_model_module": "@jupyter-widgets/base",
            "top": null,
            "grid_column": null,
            "overflow_y": null,
            "overflow_x": null,
            "grid_auto_flow": null,
            "grid_area": null,
            "grid_template_columns": null,
            "flex": null,
            "_model_name": "LayoutModel",
            "justify_items": null,
            "grid_row": null,
            "max_height": null,
            "align_content": null,
            "visibility": null,
            "align_self": null,
            "height": null,
            "min_height": null,
            "padding": null,
            "grid_auto_rows": null,
            "grid_gap": null,
            "max_width": null,
            "order": null,
            "_view_module_version": "1.2.0",
            "grid_template_areas": null,
            "object_position": null,
            "object_fit": null,
            "grid_auto_columns": null,
            "margin": null,
            "display": null,
            "left": null
          }
        },
        "926e37ab9dc14cb1939bc03012301d1f": {
          "model_module": "@jupyter-widgets/controls",
          "model_name": "DescriptionStyleModel",
          "state": {
            "_view_name": "StyleView",
            "_model_name": "DescriptionStyleModel",
            "description_width": "",
            "_view_module": "@jupyter-widgets/base",
            "_model_module_version": "1.5.0",
            "_view_count": null,
            "_view_module_version": "1.2.0",
            "_model_module": "@jupyter-widgets/controls"
          }
        },
        "a3cbede8535147c4b77828c3b39192e5": {
          "model_module": "@jupyter-widgets/base",
          "model_name": "LayoutModel",
          "state": {
            "_view_name": "LayoutView",
            "grid_template_rows": null,
            "right": null,
            "justify_content": null,
            "_view_module": "@jupyter-widgets/base",
            "overflow": null,
            "_model_module_version": "1.2.0",
            "_view_count": null,
            "flex_flow": null,
            "width": null,
            "min_width": null,
            "border": null,
            "align_items": null,
            "bottom": null,
            "_model_module": "@jupyter-widgets/base",
            "top": null,
            "grid_column": null,
            "overflow_y": null,
            "overflow_x": null,
            "grid_auto_flow": null,
            "grid_area": null,
            "grid_template_columns": null,
            "flex": null,
            "_model_name": "LayoutModel",
            "justify_items": null,
            "grid_row": null,
            "max_height": null,
            "align_content": null,
            "visibility": null,
            "align_self": null,
            "height": null,
            "min_height": null,
            "padding": null,
            "grid_auto_rows": null,
            "grid_gap": null,
            "max_width": null,
            "order": null,
            "_view_module_version": "1.2.0",
            "grid_template_areas": null,
            "object_position": null,
            "object_fit": null,
            "grid_auto_columns": null,
            "margin": null,
            "display": null,
            "left": null
          }
        },
        "55cbe4d3454147a09f15d9a62afdff91": {
          "model_module": "@jupyter-widgets/controls",
          "model_name": "HBoxModel",
          "state": {
            "_view_name": "HBoxView",
            "_dom_classes": [],
            "_model_name": "HBoxModel",
            "_view_module": "@jupyter-widgets/controls",
            "_model_module_version": "1.5.0",
            "_view_count": null,
            "_view_module_version": "1.5.0",
            "box_style": "",
            "layout": "IPY_MODEL_3f714862f1c74f9ba244205efa8d7336",
            "_model_module": "@jupyter-widgets/controls",
            "children": [
              "IPY_MODEL_da18af8f77184630b2394a1e6b6ab59d",
              "IPY_MODEL_6e4f63e360ea4e41b48654f79a805017"
            ]
          }
        },
        "3f714862f1c74f9ba244205efa8d7336": {
          "model_module": "@jupyter-widgets/base",
          "model_name": "LayoutModel",
          "state": {
            "_view_name": "LayoutView",
            "grid_template_rows": null,
            "right": null,
            "justify_content": null,
            "_view_module": "@jupyter-widgets/base",
            "overflow": null,
            "_model_module_version": "1.2.0",
            "_view_count": null,
            "flex_flow": null,
            "width": null,
            "min_width": null,
            "border": null,
            "align_items": null,
            "bottom": null,
            "_model_module": "@jupyter-widgets/base",
            "top": null,
            "grid_column": null,
            "overflow_y": null,
            "overflow_x": null,
            "grid_auto_flow": null,
            "grid_area": null,
            "grid_template_columns": null,
            "flex": null,
            "_model_name": "LayoutModel",
            "justify_items": null,
            "grid_row": null,
            "max_height": null,
            "align_content": null,
            "visibility": null,
            "align_self": null,
            "height": null,
            "min_height": null,
            "padding": null,
            "grid_auto_rows": null,
            "grid_gap": null,
            "max_width": null,
            "order": null,
            "_view_module_version": "1.2.0",
            "grid_template_areas": null,
            "object_position": null,
            "object_fit": null,
            "grid_auto_columns": null,
            "margin": null,
            "display": null,
            "left": null
          }
        },
        "da18af8f77184630b2394a1e6b6ab59d": {
          "model_module": "@jupyter-widgets/controls",
          "model_name": "FloatProgressModel",
          "state": {
            "_view_name": "ProgressView",
            "style": "IPY_MODEL_ab9f712d620c444d9922b4153bb03c4b",
            "_dom_classes": [],
            "description": "Downloading: 100%",
            "_model_name": "FloatProgressModel",
            "bar_style": "success",
            "max": 158,
            "_view_module": "@jupyter-widgets/controls",
            "_model_module_version": "1.5.0",
            "value": 158,
            "_view_count": null,
            "_view_module_version": "1.5.0",
            "orientation": "horizontal",
            "min": 0,
            "description_tooltip": null,
            "_model_module": "@jupyter-widgets/controls",
            "layout": "IPY_MODEL_1466884bc92f4cfcbdb034c4ccb2e324"
          }
        },
        "6e4f63e360ea4e41b48654f79a805017": {
          "model_module": "@jupyter-widgets/controls",
          "model_name": "HTMLModel",
          "state": {
            "_view_name": "HTMLView",
            "style": "IPY_MODEL_78486766f3a8460498b27cac88817167",
            "_dom_classes": [],
            "description": "",
            "_model_name": "HTMLModel",
            "placeholder": "​",
            "_view_module": "@jupyter-widgets/controls",
            "_model_module_version": "1.5.0",
            "value": " 158/158 [00:00&lt;00:00, 953B/s]",
            "_view_count": null,
            "_view_module_version": "1.5.0",
            "description_tooltip": null,
            "_model_module": "@jupyter-widgets/controls",
            "layout": "IPY_MODEL_7c3b548837ff44d5926b3dc3a403dbf3"
          }
        },
        "ab9f712d620c444d9922b4153bb03c4b": {
          "model_module": "@jupyter-widgets/controls",
          "model_name": "ProgressStyleModel",
          "state": {
            "_view_name": "StyleView",
            "_model_name": "ProgressStyleModel",
            "description_width": "initial",
            "_view_module": "@jupyter-widgets/base",
            "_model_module_version": "1.5.0",
            "_view_count": null,
            "_view_module_version": "1.2.0",
            "bar_color": null,
            "_model_module": "@jupyter-widgets/controls"
          }
        },
        "1466884bc92f4cfcbdb034c4ccb2e324": {
          "model_module": "@jupyter-widgets/base",
          "model_name": "LayoutModel",
          "state": {
            "_view_name": "LayoutView",
            "grid_template_rows": null,
            "right": null,
            "justify_content": null,
            "_view_module": "@jupyter-widgets/base",
            "overflow": null,
            "_model_module_version": "1.2.0",
            "_view_count": null,
            "flex_flow": null,
            "width": null,
            "min_width": null,
            "border": null,
            "align_items": null,
            "bottom": null,
            "_model_module": "@jupyter-widgets/base",
            "top": null,
            "grid_column": null,
            "overflow_y": null,
            "overflow_x": null,
            "grid_auto_flow": null,
            "grid_area": null,
            "grid_template_columns": null,
            "flex": null,
            "_model_name": "LayoutModel",
            "justify_items": null,
            "grid_row": null,
            "max_height": null,
            "align_content": null,
            "visibility": null,
            "align_self": null,
            "height": null,
            "min_height": null,
            "padding": null,
            "grid_auto_rows": null,
            "grid_gap": null,
            "max_width": null,
            "order": null,
            "_view_module_version": "1.2.0",
            "grid_template_areas": null,
            "object_position": null,
            "object_fit": null,
            "grid_auto_columns": null,
            "margin": null,
            "display": null,
            "left": null
          }
        },
        "78486766f3a8460498b27cac88817167": {
          "model_module": "@jupyter-widgets/controls",
          "model_name": "DescriptionStyleModel",
          "state": {
            "_view_name": "StyleView",
            "_model_name": "DescriptionStyleModel",
            "description_width": "",
            "_view_module": "@jupyter-widgets/base",
            "_model_module_version": "1.5.0",
            "_view_count": null,
            "_view_module_version": "1.2.0",
            "_model_module": "@jupyter-widgets/controls"
          }
        },
        "7c3b548837ff44d5926b3dc3a403dbf3": {
          "model_module": "@jupyter-widgets/base",
          "model_name": "LayoutModel",
          "state": {
            "_view_name": "LayoutView",
            "grid_template_rows": null,
            "right": null,
            "justify_content": null,
            "_view_module": "@jupyter-widgets/base",
            "overflow": null,
            "_model_module_version": "1.2.0",
            "_view_count": null,
            "flex_flow": null,
            "width": null,
            "min_width": null,
            "border": null,
            "align_items": null,
            "bottom": null,
            "_model_module": "@jupyter-widgets/base",
            "top": null,
            "grid_column": null,
            "overflow_y": null,
            "overflow_x": null,
            "grid_auto_flow": null,
            "grid_area": null,
            "grid_template_columns": null,
            "flex": null,
            "_model_name": "LayoutModel",
            "justify_items": null,
            "grid_row": null,
            "max_height": null,
            "align_content": null,
            "visibility": null,
            "align_self": null,
            "height": null,
            "min_height": null,
            "padding": null,
            "grid_auto_rows": null,
            "grid_gap": null,
            "max_width": null,
            "order": null,
            "_view_module_version": "1.2.0",
            "grid_template_areas": null,
            "object_position": null,
            "object_fit": null,
            "grid_auto_columns": null,
            "margin": null,
            "display": null,
            "left": null
          }
        },
        "d2b58ef3577e4bb986a6194dfe7e6af4": {
          "model_module": "@jupyter-widgets/controls",
          "model_name": "HBoxModel",
          "state": {
            "_view_name": "HBoxView",
            "_dom_classes": [],
            "_model_name": "HBoxModel",
            "_view_module": "@jupyter-widgets/controls",
            "_model_module_version": "1.5.0",
            "_view_count": null,
            "_view_module_version": "1.5.0",
            "box_style": "",
            "layout": "IPY_MODEL_96813e8785ed4ebd8082925c522395b1",
            "_model_module": "@jupyter-widgets/controls",
            "children": [
              "IPY_MODEL_e546b6112bf740c284e1167121e7b01d",
              "IPY_MODEL_a26b6eb82bc248338986a87d8bcd35fe"
            ]
          }
        },
        "96813e8785ed4ebd8082925c522395b1": {
          "model_module": "@jupyter-widgets/base",
          "model_name": "LayoutModel",
          "state": {
            "_view_name": "LayoutView",
            "grid_template_rows": null,
            "right": null,
            "justify_content": null,
            "_view_module": "@jupyter-widgets/base",
            "overflow": null,
            "_model_module_version": "1.2.0",
            "_view_count": null,
            "flex_flow": null,
            "width": null,
            "min_width": null,
            "border": null,
            "align_items": null,
            "bottom": null,
            "_model_module": "@jupyter-widgets/base",
            "top": null,
            "grid_column": null,
            "overflow_y": null,
            "overflow_x": null,
            "grid_auto_flow": null,
            "grid_area": null,
            "grid_template_columns": null,
            "flex": null,
            "_model_name": "LayoutModel",
            "justify_items": null,
            "grid_row": null,
            "max_height": null,
            "align_content": null,
            "visibility": null,
            "align_self": null,
            "height": null,
            "min_height": null,
            "padding": null,
            "grid_auto_rows": null,
            "grid_gap": null,
            "max_width": null,
            "order": null,
            "_view_module_version": "1.2.0",
            "grid_template_areas": null,
            "object_position": null,
            "object_fit": null,
            "grid_auto_columns": null,
            "margin": null,
            "display": null,
            "left": null
          }
        },
        "e546b6112bf740c284e1167121e7b01d": {
          "model_module": "@jupyter-widgets/controls",
          "model_name": "FloatProgressModel",
          "state": {
            "_view_name": "ProgressView",
            "style": "IPY_MODEL_e200d6dae47b4f0895d63d09b7b9995e",
            "_dom_classes": [],
            "description": "Downloading: 100%",
            "_model_name": "FloatProgressModel",
            "bar_style": "success",
            "max": 696,
            "_view_module": "@jupyter-widgets/controls",
            "_model_module_version": "1.5.0",
            "value": 696,
            "_view_count": null,
            "_view_module_version": "1.5.0",
            "orientation": "horizontal",
            "min": 0,
            "description_tooltip": null,
            "_model_module": "@jupyter-widgets/controls",
            "layout": "IPY_MODEL_d16573ef6b6a487f847f98a1148e25ae"
          }
        },
        "a26b6eb82bc248338986a87d8bcd35fe": {
          "model_module": "@jupyter-widgets/controls",
          "model_name": "HTMLModel",
          "state": {
            "_view_name": "HTMLView",
            "style": "IPY_MODEL_d30a87b1e2a74467a50d4de3bdeac683",
            "_dom_classes": [],
            "description": "",
            "_model_name": "HTMLModel",
            "placeholder": "​",
            "_view_module": "@jupyter-widgets/controls",
            "_model_module_version": "1.5.0",
            "value": " 696/696 [00:00&lt;00:00, 8.32kB/s]",
            "_view_count": null,
            "_view_module_version": "1.5.0",
            "description_tooltip": null,
            "_model_module": "@jupyter-widgets/controls",
            "layout": "IPY_MODEL_b72dd465763c45e8b1ea56d4d35137b2"
          }
        },
        "e200d6dae47b4f0895d63d09b7b9995e": {
          "model_module": "@jupyter-widgets/controls",
          "model_name": "ProgressStyleModel",
          "state": {
            "_view_name": "StyleView",
            "_model_name": "ProgressStyleModel",
            "description_width": "initial",
            "_view_module": "@jupyter-widgets/base",
            "_model_module_version": "1.5.0",
            "_view_count": null,
            "_view_module_version": "1.2.0",
            "bar_color": null,
            "_model_module": "@jupyter-widgets/controls"
          }
        },
        "d16573ef6b6a487f847f98a1148e25ae": {
          "model_module": "@jupyter-widgets/base",
          "model_name": "LayoutModel",
          "state": {
            "_view_name": "LayoutView",
            "grid_template_rows": null,
            "right": null,
            "justify_content": null,
            "_view_module": "@jupyter-widgets/base",
            "overflow": null,
            "_model_module_version": "1.2.0",
            "_view_count": null,
            "flex_flow": null,
            "width": null,
            "min_width": null,
            "border": null,
            "align_items": null,
            "bottom": null,
            "_model_module": "@jupyter-widgets/base",
            "top": null,
            "grid_column": null,
            "overflow_y": null,
            "overflow_x": null,
            "grid_auto_flow": null,
            "grid_area": null,
            "grid_template_columns": null,
            "flex": null,
            "_model_name": "LayoutModel",
            "justify_items": null,
            "grid_row": null,
            "max_height": null,
            "align_content": null,
            "visibility": null,
            "align_self": null,
            "height": null,
            "min_height": null,
            "padding": null,
            "grid_auto_rows": null,
            "grid_gap": null,
            "max_width": null,
            "order": null,
            "_view_module_version": "1.2.0",
            "grid_template_areas": null,
            "object_position": null,
            "object_fit": null,
            "grid_auto_columns": null,
            "margin": null,
            "display": null,
            "left": null
          }
        },
        "d30a87b1e2a74467a50d4de3bdeac683": {
          "model_module": "@jupyter-widgets/controls",
          "model_name": "DescriptionStyleModel",
          "state": {
            "_view_name": "StyleView",
            "_model_name": "DescriptionStyleModel",
            "description_width": "",
            "_view_module": "@jupyter-widgets/base",
            "_model_module_version": "1.5.0",
            "_view_count": null,
            "_view_module_version": "1.2.0",
            "_model_module": "@jupyter-widgets/controls"
          }
        },
        "b72dd465763c45e8b1ea56d4d35137b2": {
          "model_module": "@jupyter-widgets/base",
          "model_name": "LayoutModel",
          "state": {
            "_view_name": "LayoutView",
            "grid_template_rows": null,
            "right": null,
            "justify_content": null,
            "_view_module": "@jupyter-widgets/base",
            "overflow": null,
            "_model_module_version": "1.2.0",
            "_view_count": null,
            "flex_flow": null,
            "width": null,
            "min_width": null,
            "border": null,
            "align_items": null,
            "bottom": null,
            "_model_module": "@jupyter-widgets/base",
            "top": null,
            "grid_column": null,
            "overflow_y": null,
            "overflow_x": null,
            "grid_auto_flow": null,
            "grid_area": null,
            "grid_template_columns": null,
            "flex": null,
            "_model_name": "LayoutModel",
            "justify_items": null,
            "grid_row": null,
            "max_height": null,
            "align_content": null,
            "visibility": null,
            "align_self": null,
            "height": null,
            "min_height": null,
            "padding": null,
            "grid_auto_rows": null,
            "grid_gap": null,
            "max_width": null,
            "order": null,
            "_view_module_version": "1.2.0",
            "grid_template_areas": null,
            "object_position": null,
            "object_fit": null,
            "grid_auto_columns": null,
            "margin": null,
            "display": null,
            "left": null
          }
        },
        "7dbc6b7783404f7cbe456951d2bb35c4": {
          "model_module": "@jupyter-widgets/controls",
          "model_name": "HBoxModel",
          "state": {
            "_view_name": "HBoxView",
            "_dom_classes": [],
            "_model_name": "HBoxModel",
            "_view_module": "@jupyter-widgets/controls",
            "_model_module_version": "1.5.0",
            "_view_count": null,
            "_view_module_version": "1.5.0",
            "box_style": "",
            "layout": "IPY_MODEL_e5cefd422a324440a45ff639f50e68b1",
            "_model_module": "@jupyter-widgets/controls",
            "children": [
              "IPY_MODEL_bf84ff4391ba4a27a362d00288612fe3",
              "IPY_MODEL_3c9eea97c65b4c6e9222b17233ab9ad6"
            ]
          }
        },
        "e5cefd422a324440a45ff639f50e68b1": {
          "model_module": "@jupyter-widgets/base",
          "model_name": "LayoutModel",
          "state": {
            "_view_name": "LayoutView",
            "grid_template_rows": null,
            "right": null,
            "justify_content": null,
            "_view_module": "@jupyter-widgets/base",
            "overflow": null,
            "_model_module_version": "1.2.0",
            "_view_count": null,
            "flex_flow": null,
            "width": null,
            "min_width": null,
            "border": null,
            "align_items": null,
            "bottom": null,
            "_model_module": "@jupyter-widgets/base",
            "top": null,
            "grid_column": null,
            "overflow_y": null,
            "overflow_x": null,
            "grid_auto_flow": null,
            "grid_area": null,
            "grid_template_columns": null,
            "flex": null,
            "_model_name": "LayoutModel",
            "justify_items": null,
            "grid_row": null,
            "max_height": null,
            "align_content": null,
            "visibility": null,
            "align_self": null,
            "height": null,
            "min_height": null,
            "padding": null,
            "grid_auto_rows": null,
            "grid_gap": null,
            "max_width": null,
            "order": null,
            "_view_module_version": "1.2.0",
            "grid_template_areas": null,
            "object_position": null,
            "object_fit": null,
            "grid_auto_columns": null,
            "margin": null,
            "display": null,
            "left": null
          }
        },
        "bf84ff4391ba4a27a362d00288612fe3": {
          "model_module": "@jupyter-widgets/controls",
          "model_name": "FloatProgressModel",
          "state": {
            "_view_name": "ProgressView",
            "style": "IPY_MODEL_0b0c18b54b2e4908bc4bb694978cb660",
            "_dom_classes": [],
            "description": "Downloading: 100%",
            "_model_name": "FloatProgressModel",
            "bar_style": "success",
            "max": 138,
            "_view_module": "@jupyter-widgets/controls",
            "_model_module_version": "1.5.0",
            "value": 138,
            "_view_count": null,
            "_view_module_version": "1.5.0",
            "orientation": "horizontal",
            "min": 0,
            "description_tooltip": null,
            "_model_module": "@jupyter-widgets/controls",
            "layout": "IPY_MODEL_1b6ff086b3ed4800941a7bbc1381d216"
          }
        },
        "3c9eea97c65b4c6e9222b17233ab9ad6": {
          "model_module": "@jupyter-widgets/controls",
          "model_name": "HTMLModel",
          "state": {
            "_view_name": "HTMLView",
            "style": "IPY_MODEL_286d87c3fd214a8eae3d26e8263b5e0f",
            "_dom_classes": [],
            "description": "",
            "_model_name": "HTMLModel",
            "placeholder": "​",
            "_view_module": "@jupyter-widgets/controls",
            "_model_module_version": "1.5.0",
            "value": " 138/138 [00:12&lt;00:00, 10.7B/s]",
            "_view_count": null,
            "_view_module_version": "1.5.0",
            "description_tooltip": null,
            "_model_module": "@jupyter-widgets/controls",
            "layout": "IPY_MODEL_dadb16b6932746fd85e5e66e4e6f8d9e"
          }
        },
        "0b0c18b54b2e4908bc4bb694978cb660": {
          "model_module": "@jupyter-widgets/controls",
          "model_name": "ProgressStyleModel",
          "state": {
            "_view_name": "StyleView",
            "_model_name": "ProgressStyleModel",
            "description_width": "initial",
            "_view_module": "@jupyter-widgets/base",
            "_model_module_version": "1.5.0",
            "_view_count": null,
            "_view_module_version": "1.2.0",
            "bar_color": null,
            "_model_module": "@jupyter-widgets/controls"
          }
        },
        "1b6ff086b3ed4800941a7bbc1381d216": {
          "model_module": "@jupyter-widgets/base",
          "model_name": "LayoutModel",
          "state": {
            "_view_name": "LayoutView",
            "grid_template_rows": null,
            "right": null,
            "justify_content": null,
            "_view_module": "@jupyter-widgets/base",
            "overflow": null,
            "_model_module_version": "1.2.0",
            "_view_count": null,
            "flex_flow": null,
            "width": null,
            "min_width": null,
            "border": null,
            "align_items": null,
            "bottom": null,
            "_model_module": "@jupyter-widgets/base",
            "top": null,
            "grid_column": null,
            "overflow_y": null,
            "overflow_x": null,
            "grid_auto_flow": null,
            "grid_area": null,
            "grid_template_columns": null,
            "flex": null,
            "_model_name": "LayoutModel",
            "justify_items": null,
            "grid_row": null,
            "max_height": null,
            "align_content": null,
            "visibility": null,
            "align_self": null,
            "height": null,
            "min_height": null,
            "padding": null,
            "grid_auto_rows": null,
            "grid_gap": null,
            "max_width": null,
            "order": null,
            "_view_module_version": "1.2.0",
            "grid_template_areas": null,
            "object_position": null,
            "object_fit": null,
            "grid_auto_columns": null,
            "margin": null,
            "display": null,
            "left": null
          }
        },
        "286d87c3fd214a8eae3d26e8263b5e0f": {
          "model_module": "@jupyter-widgets/controls",
          "model_name": "DescriptionStyleModel",
          "state": {
            "_view_name": "StyleView",
            "_model_name": "DescriptionStyleModel",
            "description_width": "",
            "_view_module": "@jupyter-widgets/base",
            "_model_module_version": "1.5.0",
            "_view_count": null,
            "_view_module_version": "1.2.0",
            "_model_module": "@jupyter-widgets/controls"
          }
        },
        "dadb16b6932746fd85e5e66e4e6f8d9e": {
          "model_module": "@jupyter-widgets/base",
          "model_name": "LayoutModel",
          "state": {
            "_view_name": "LayoutView",
            "grid_template_rows": null,
            "right": null,
            "justify_content": null,
            "_view_module": "@jupyter-widgets/base",
            "overflow": null,
            "_model_module_version": "1.2.0",
            "_view_count": null,
            "flex_flow": null,
            "width": null,
            "min_width": null,
            "border": null,
            "align_items": null,
            "bottom": null,
            "_model_module": "@jupyter-widgets/base",
            "top": null,
            "grid_column": null,
            "overflow_y": null,
            "overflow_x": null,
            "grid_auto_flow": null,
            "grid_area": null,
            "grid_template_columns": null,
            "flex": null,
            "_model_name": "LayoutModel",
            "justify_items": null,
            "grid_row": null,
            "max_height": null,
            "align_content": null,
            "visibility": null,
            "align_self": null,
            "height": null,
            "min_height": null,
            "padding": null,
            "grid_auto_rows": null,
            "grid_gap": null,
            "max_width": null,
            "order": null,
            "_view_module_version": "1.2.0",
            "grid_template_areas": null,
            "object_position": null,
            "object_fit": null,
            "grid_auto_columns": null,
            "margin": null,
            "display": null,
            "left": null
          }
        },
        "558baaa105054eefb102773422f17693": {
          "model_module": "@jupyter-widgets/controls",
          "model_name": "HBoxModel",
          "state": {
            "_view_name": "HBoxView",
            "_dom_classes": [],
            "_model_name": "HBoxModel",
            "_view_module": "@jupyter-widgets/controls",
            "_model_module_version": "1.5.0",
            "_view_count": null,
            "_view_module_version": "1.5.0",
            "box_style": "",
            "layout": "IPY_MODEL_29e889b3d0a44a6ea5efc41c5cb9e840",
            "_model_module": "@jupyter-widgets/controls",
            "children": [
              "IPY_MODEL_0d873ff023284573b5ae3dfcebc148ad",
              "IPY_MODEL_88d45d6555cd4909a3a468c605cd5f6b"
            ]
          }
        },
        "29e889b3d0a44a6ea5efc41c5cb9e840": {
          "model_module": "@jupyter-widgets/base",
          "model_name": "LayoutModel",
          "state": {
            "_view_name": "LayoutView",
            "grid_template_rows": null,
            "right": null,
            "justify_content": null,
            "_view_module": "@jupyter-widgets/base",
            "overflow": null,
            "_model_module_version": "1.2.0",
            "_view_count": null,
            "flex_flow": null,
            "width": null,
            "min_width": null,
            "border": null,
            "align_items": null,
            "bottom": null,
            "_model_module": "@jupyter-widgets/base",
            "top": null,
            "grid_column": null,
            "overflow_y": null,
            "overflow_x": null,
            "grid_auto_flow": null,
            "grid_area": null,
            "grid_template_columns": null,
            "flex": null,
            "_model_name": "LayoutModel",
            "justify_items": null,
            "grid_row": null,
            "max_height": null,
            "align_content": null,
            "visibility": null,
            "align_self": null,
            "height": null,
            "min_height": null,
            "padding": null,
            "grid_auto_rows": null,
            "grid_gap": null,
            "max_width": null,
            "order": null,
            "_view_module_version": "1.2.0",
            "grid_template_areas": null,
            "object_position": null,
            "object_fit": null,
            "grid_auto_columns": null,
            "margin": null,
            "display": null,
            "left": null
          }
        },
        "0d873ff023284573b5ae3dfcebc148ad": {
          "model_module": "@jupyter-widgets/controls",
          "model_name": "FloatProgressModel",
          "state": {
            "_view_name": "ProgressView",
            "style": "IPY_MODEL_f53fe5f8cea44e14a46744d8d3b9b895",
            "_dom_classes": [],
            "description": "Downloading: 100%",
            "_model_name": "FloatProgressModel",
            "bar_style": "success",
            "max": 85,
            "_view_module": "@jupyter-widgets/controls",
            "_model_module_version": "1.5.0",
            "value": 85,
            "_view_count": null,
            "_view_module_version": "1.5.0",
            "orientation": "horizontal",
            "min": 0,
            "description_tooltip": null,
            "_model_module": "@jupyter-widgets/controls",
            "layout": "IPY_MODEL_3fed2655081c4e8f908c6f73ea41edcc"
          }
        },
        "88d45d6555cd4909a3a468c605cd5f6b": {
          "model_module": "@jupyter-widgets/controls",
          "model_name": "HTMLModel",
          "state": {
            "_view_name": "HTMLView",
            "style": "IPY_MODEL_79893e9c60484983b329c17ed8e6b619",
            "_dom_classes": [],
            "description": "",
            "_model_name": "HTMLModel",
            "placeholder": "​",
            "_view_module": "@jupyter-widgets/controls",
            "_model_module_version": "1.5.0",
            "value": " 85.0/85.0 [00:12&lt;00:00, 6.67B/s]",
            "_view_count": null,
            "_view_module_version": "1.5.0",
            "description_tooltip": null,
            "_model_module": "@jupyter-widgets/controls",
            "layout": "IPY_MODEL_e22f482f210246b4ab8dffbcfc8b2ebf"
          }
        },
        "f53fe5f8cea44e14a46744d8d3b9b895": {
          "model_module": "@jupyter-widgets/controls",
          "model_name": "ProgressStyleModel",
          "state": {
            "_view_name": "StyleView",
            "_model_name": "ProgressStyleModel",
            "description_width": "initial",
            "_view_module": "@jupyter-widgets/base",
            "_model_module_version": "1.5.0",
            "_view_count": null,
            "_view_module_version": "1.2.0",
            "bar_color": null,
            "_model_module": "@jupyter-widgets/controls"
          }
        },
        "3fed2655081c4e8f908c6f73ea41edcc": {
          "model_module": "@jupyter-widgets/base",
          "model_name": "LayoutModel",
          "state": {
            "_view_name": "LayoutView",
            "grid_template_rows": null,
            "right": null,
            "justify_content": null,
            "_view_module": "@jupyter-widgets/base",
            "overflow": null,
            "_model_module_version": "1.2.0",
            "_view_count": null,
            "flex_flow": null,
            "width": null,
            "min_width": null,
            "border": null,
            "align_items": null,
            "bottom": null,
            "_model_module": "@jupyter-widgets/base",
            "top": null,
            "grid_column": null,
            "overflow_y": null,
            "overflow_x": null,
            "grid_auto_flow": null,
            "grid_area": null,
            "grid_template_columns": null,
            "flex": null,
            "_model_name": "LayoutModel",
            "justify_items": null,
            "grid_row": null,
            "max_height": null,
            "align_content": null,
            "visibility": null,
            "align_self": null,
            "height": null,
            "min_height": null,
            "padding": null,
            "grid_auto_rows": null,
            "grid_gap": null,
            "max_width": null,
            "order": null,
            "_view_module_version": "1.2.0",
            "grid_template_areas": null,
            "object_position": null,
            "object_fit": null,
            "grid_auto_columns": null,
            "margin": null,
            "display": null,
            "left": null
          }
        },
        "79893e9c60484983b329c17ed8e6b619": {
          "model_module": "@jupyter-widgets/controls",
          "model_name": "DescriptionStyleModel",
          "state": {
            "_view_name": "StyleView",
            "_model_name": "DescriptionStyleModel",
            "description_width": "",
            "_view_module": "@jupyter-widgets/base",
            "_model_module_version": "1.5.0",
            "_view_count": null,
            "_view_module_version": "1.2.0",
            "_model_module": "@jupyter-widgets/controls"
          }
        },
        "e22f482f210246b4ab8dffbcfc8b2ebf": {
          "model_module": "@jupyter-widgets/base",
          "model_name": "LayoutModel",
          "state": {
            "_view_name": "LayoutView",
            "grid_template_rows": null,
            "right": null,
            "justify_content": null,
            "_view_module": "@jupyter-widgets/base",
            "overflow": null,
            "_model_module_version": "1.2.0",
            "_view_count": null,
            "flex_flow": null,
            "width": null,
            "min_width": null,
            "border": null,
            "align_items": null,
            "bottom": null,
            "_model_module": "@jupyter-widgets/base",
            "top": null,
            "grid_column": null,
            "overflow_y": null,
            "overflow_x": null,
            "grid_auto_flow": null,
            "grid_area": null,
            "grid_template_columns": null,
            "flex": null,
            "_model_name": "LayoutModel",
            "justify_items": null,
            "grid_row": null,
            "max_height": null,
            "align_content": null,
            "visibility": null,
            "align_self": null,
            "height": null,
            "min_height": null,
            "padding": null,
            "grid_auto_rows": null,
            "grid_gap": null,
            "max_width": null,
            "order": null,
            "_view_module_version": "1.2.0",
            "grid_template_areas": null,
            "object_position": null,
            "object_fit": null,
            "grid_auto_columns": null,
            "margin": null,
            "display": null,
            "left": null
          }
        },
        "11f4097e5e7f4d3db6a737ee169a1715": {
          "model_module": "@jupyter-widgets/controls",
          "model_name": "HBoxModel",
          "state": {
            "_view_name": "HBoxView",
            "_dom_classes": [],
            "_model_name": "HBoxModel",
            "_view_module": "@jupyter-widgets/controls",
            "_model_module_version": "1.5.0",
            "_view_count": null,
            "_view_module_version": "1.5.0",
            "box_style": "",
            "layout": "IPY_MODEL_31fda392553f43168204d94a336b4f17",
            "_model_module": "@jupyter-widgets/controls",
            "children": [
              "IPY_MODEL_f2f52034b11a41dfb1fdf5ffa6fc4c79",
              "IPY_MODEL_c5e33a86a6be4e2caac076fb55d986eb"
            ]
          }
        },
        "31fda392553f43168204d94a336b4f17": {
          "model_module": "@jupyter-widgets/base",
          "model_name": "LayoutModel",
          "state": {
            "_view_name": "LayoutView",
            "grid_template_rows": null,
            "right": null,
            "justify_content": null,
            "_view_module": "@jupyter-widgets/base",
            "overflow": null,
            "_model_module_version": "1.2.0",
            "_view_count": null,
            "flex_flow": null,
            "width": null,
            "min_width": null,
            "border": null,
            "align_items": null,
            "bottom": null,
            "_model_module": "@jupyter-widgets/base",
            "top": null,
            "grid_column": null,
            "overflow_y": null,
            "overflow_x": null,
            "grid_auto_flow": null,
            "grid_area": null,
            "grid_template_columns": null,
            "flex": null,
            "_model_name": "LayoutModel",
            "justify_items": null,
            "grid_row": null,
            "max_height": null,
            "align_content": null,
            "visibility": null,
            "align_self": null,
            "height": null,
            "min_height": null,
            "padding": null,
            "grid_auto_rows": null,
            "grid_gap": null,
            "max_width": null,
            "order": null,
            "_view_module_version": "1.2.0",
            "grid_template_areas": null,
            "object_position": null,
            "object_fit": null,
            "grid_auto_columns": null,
            "margin": null,
            "display": null,
            "left": null
          }
        },
        "f2f52034b11a41dfb1fdf5ffa6fc4c79": {
          "model_module": "@jupyter-widgets/controls",
          "model_name": "FloatProgressModel",
          "state": {
            "_view_name": "ProgressView",
            "style": "IPY_MODEL_0ed92dd323b646a682fad407b51121b6",
            "_dom_classes": [],
            "description": "",
            "_model_name": "FloatProgressModel",
            "bar_style": "info",
            "max": 1,
            "_view_module": "@jupyter-widgets/controls",
            "_model_module_version": "1.5.0",
            "value": 1,
            "_view_count": null,
            "_view_module_version": "1.5.0",
            "orientation": "horizontal",
            "min": 0,
            "description_tooltip": null,
            "_model_module": "@jupyter-widgets/controls",
            "layout": "IPY_MODEL_979faef23d934efa9122fd23488e0de4"
          }
        },
        "c5e33a86a6be4e2caac076fb55d986eb": {
          "model_module": "@jupyter-widgets/controls",
          "model_name": "HTMLModel",
          "state": {
            "_view_name": "HTMLView",
            "style": "IPY_MODEL_7d4ed3d427cd4173912ad95bc119ce3f",
            "_dom_classes": [],
            "description": "",
            "_model_name": "HTMLModel",
            "placeholder": "​",
            "_view_module": "@jupyter-widgets/controls",
            "_model_module_version": "1.5.0",
            "value": " 211/0 [00:00&lt;00:00, 3592.63 examples/s]",
            "_view_count": null,
            "_view_module_version": "1.5.0",
            "description_tooltip": null,
            "_model_module": "@jupyter-widgets/controls",
            "layout": "IPY_MODEL_29e8e22cc71440b384eeb2036e6cd199"
          }
        },
        "0ed92dd323b646a682fad407b51121b6": {
          "model_module": "@jupyter-widgets/controls",
          "model_name": "ProgressStyleModel",
          "state": {
            "_view_name": "StyleView",
            "_model_name": "ProgressStyleModel",
            "description_width": "initial",
            "_view_module": "@jupyter-widgets/base",
            "_model_module_version": "1.5.0",
            "_view_count": null,
            "_view_module_version": "1.2.0",
            "bar_color": null,
            "_model_module": "@jupyter-widgets/controls"
          }
        },
        "979faef23d934efa9122fd23488e0de4": {
          "model_module": "@jupyter-widgets/base",
          "model_name": "LayoutModel",
          "state": {
            "_view_name": "LayoutView",
            "grid_template_rows": null,
            "right": null,
            "justify_content": null,
            "_view_module": "@jupyter-widgets/base",
            "overflow": null,
            "_model_module_version": "1.2.0",
            "_view_count": null,
            "flex_flow": null,
            "width": null,
            "min_width": null,
            "border": null,
            "align_items": null,
            "bottom": null,
            "_model_module": "@jupyter-widgets/base",
            "top": null,
            "grid_column": null,
            "overflow_y": null,
            "overflow_x": null,
            "grid_auto_flow": null,
            "grid_area": null,
            "grid_template_columns": null,
            "flex": null,
            "_model_name": "LayoutModel",
            "justify_items": null,
            "grid_row": null,
            "max_height": null,
            "align_content": null,
            "visibility": null,
            "align_self": null,
            "height": null,
            "min_height": null,
            "padding": null,
            "grid_auto_rows": null,
            "grid_gap": null,
            "max_width": null,
            "order": null,
            "_view_module_version": "1.2.0",
            "grid_template_areas": null,
            "object_position": null,
            "object_fit": null,
            "grid_auto_columns": null,
            "margin": null,
            "display": null,
            "left": null
          }
        },
        "7d4ed3d427cd4173912ad95bc119ce3f": {
          "model_module": "@jupyter-widgets/controls",
          "model_name": "DescriptionStyleModel",
          "state": {
            "_view_name": "StyleView",
            "_model_name": "DescriptionStyleModel",
            "description_width": "",
            "_view_module": "@jupyter-widgets/base",
            "_model_module_version": "1.5.0",
            "_view_count": null,
            "_view_module_version": "1.2.0",
            "_model_module": "@jupyter-widgets/controls"
          }
        },
        "29e8e22cc71440b384eeb2036e6cd199": {
          "model_module": "@jupyter-widgets/base",
          "model_name": "LayoutModel",
          "state": {
            "_view_name": "LayoutView",
            "grid_template_rows": null,
            "right": null,
            "justify_content": null,
            "_view_module": "@jupyter-widgets/base",
            "overflow": null,
            "_model_module_version": "1.2.0",
            "_view_count": null,
            "flex_flow": null,
            "width": null,
            "min_width": null,
            "border": null,
            "align_items": null,
            "bottom": null,
            "_model_module": "@jupyter-widgets/base",
            "top": null,
            "grid_column": null,
            "overflow_y": null,
            "overflow_x": null,
            "grid_auto_flow": null,
            "grid_area": null,
            "grid_template_columns": null,
            "flex": null,
            "_model_name": "LayoutModel",
            "justify_items": null,
            "grid_row": null,
            "max_height": null,
            "align_content": null,
            "visibility": null,
            "align_self": null,
            "height": null,
            "min_height": null,
            "padding": null,
            "grid_auto_rows": null,
            "grid_gap": null,
            "max_width": null,
            "order": null,
            "_view_module_version": "1.2.0",
            "grid_template_areas": null,
            "object_position": null,
            "object_fit": null,
            "grid_auto_columns": null,
            "margin": null,
            "display": null,
            "left": null
          }
        },
        "13a592efbe544eb5990c14ce749aa27d": {
          "model_module": "@jupyter-widgets/controls",
          "model_name": "HBoxModel",
          "state": {
            "_view_name": "HBoxView",
            "_dom_classes": [],
            "_model_name": "HBoxModel",
            "_view_module": "@jupyter-widgets/controls",
            "_model_module_version": "1.5.0",
            "_view_count": null,
            "_view_module_version": "1.5.0",
            "box_style": "",
            "layout": "IPY_MODEL_d4a594cefc2e4ab28b6f0e492c02185c",
            "_model_module": "@jupyter-widgets/controls",
            "children": [
              "IPY_MODEL_ebc1a6d9eaf94e1f802ce1aec0c8427d",
              "IPY_MODEL_7da9f3436cd749cc83c85930bda2d3b5"
            ]
          }
        },
        "d4a594cefc2e4ab28b6f0e492c02185c": {
          "model_module": "@jupyter-widgets/base",
          "model_name": "LayoutModel",
          "state": {
            "_view_name": "LayoutView",
            "grid_template_rows": null,
            "right": null,
            "justify_content": null,
            "_view_module": "@jupyter-widgets/base",
            "overflow": null,
            "_model_module_version": "1.2.0",
            "_view_count": null,
            "flex_flow": null,
            "width": null,
            "min_width": null,
            "border": null,
            "align_items": null,
            "bottom": null,
            "_model_module": "@jupyter-widgets/base",
            "top": null,
            "grid_column": null,
            "overflow_y": null,
            "overflow_x": null,
            "grid_auto_flow": null,
            "grid_area": null,
            "grid_template_columns": null,
            "flex": null,
            "_model_name": "LayoutModel",
            "justify_items": null,
            "grid_row": null,
            "max_height": null,
            "align_content": null,
            "visibility": null,
            "align_self": null,
            "height": null,
            "min_height": null,
            "padding": null,
            "grid_auto_rows": null,
            "grid_gap": null,
            "max_width": null,
            "order": null,
            "_view_module_version": "1.2.0",
            "grid_template_areas": null,
            "object_position": null,
            "object_fit": null,
            "grid_auto_columns": null,
            "margin": null,
            "display": null,
            "left": null
          }
        },
        "ebc1a6d9eaf94e1f802ce1aec0c8427d": {
          "model_module": "@jupyter-widgets/controls",
          "model_name": "FloatProgressModel",
          "state": {
            "_view_name": "ProgressView",
            "style": "IPY_MODEL_2b1ee14dd5fa4905888b0720ac85aab1",
            "_dom_classes": [],
            "description": "",
            "_model_name": "FloatProgressModel",
            "bar_style": "info",
            "max": 1,
            "_view_module": "@jupyter-widgets/controls",
            "_model_module_version": "1.5.0",
            "value": 1,
            "_view_count": null,
            "_view_module_version": "1.5.0",
            "orientation": "horizontal",
            "min": 0,
            "description_tooltip": null,
            "_model_module": "@jupyter-widgets/controls",
            "layout": "IPY_MODEL_4338537b7996463ea5e15ffb35136f2f"
          }
        },
        "7da9f3436cd749cc83c85930bda2d3b5": {
          "model_module": "@jupyter-widgets/controls",
          "model_name": "HTMLModel",
          "state": {
            "_view_name": "HTMLView",
            "style": "IPY_MODEL_f3fec2c96f884bd29580b86a876d0599",
            "_dom_classes": [],
            "description": "",
            "_model_name": "HTMLModel",
            "placeholder": "​",
            "_view_module": "@jupyter-widgets/controls",
            "_model_module_version": "1.5.0",
            "value": " 116/0 [00:00&lt;00:00, 2704.24 examples/s]",
            "_view_count": null,
            "_view_module_version": "1.5.0",
            "description_tooltip": null,
            "_model_module": "@jupyter-widgets/controls",
            "layout": "IPY_MODEL_ab08ebd1440746c387369df4ba36342f"
          }
        },
        "2b1ee14dd5fa4905888b0720ac85aab1": {
          "model_module": "@jupyter-widgets/controls",
          "model_name": "ProgressStyleModel",
          "state": {
            "_view_name": "StyleView",
            "_model_name": "ProgressStyleModel",
            "description_width": "initial",
            "_view_module": "@jupyter-widgets/base",
            "_model_module_version": "1.5.0",
            "_view_count": null,
            "_view_module_version": "1.2.0",
            "bar_color": null,
            "_model_module": "@jupyter-widgets/controls"
          }
        },
        "4338537b7996463ea5e15ffb35136f2f": {
          "model_module": "@jupyter-widgets/base",
          "model_name": "LayoutModel",
          "state": {
            "_view_name": "LayoutView",
            "grid_template_rows": null,
            "right": null,
            "justify_content": null,
            "_view_module": "@jupyter-widgets/base",
            "overflow": null,
            "_model_module_version": "1.2.0",
            "_view_count": null,
            "flex_flow": null,
            "width": null,
            "min_width": null,
            "border": null,
            "align_items": null,
            "bottom": null,
            "_model_module": "@jupyter-widgets/base",
            "top": null,
            "grid_column": null,
            "overflow_y": null,
            "overflow_x": null,
            "grid_auto_flow": null,
            "grid_area": null,
            "grid_template_columns": null,
            "flex": null,
            "_model_name": "LayoutModel",
            "justify_items": null,
            "grid_row": null,
            "max_height": null,
            "align_content": null,
            "visibility": null,
            "align_self": null,
            "height": null,
            "min_height": null,
            "padding": null,
            "grid_auto_rows": null,
            "grid_gap": null,
            "max_width": null,
            "order": null,
            "_view_module_version": "1.2.0",
            "grid_template_areas": null,
            "object_position": null,
            "object_fit": null,
            "grid_auto_columns": null,
            "margin": null,
            "display": null,
            "left": null
          }
        },
        "f3fec2c96f884bd29580b86a876d0599": {
          "model_module": "@jupyter-widgets/controls",
          "model_name": "DescriptionStyleModel",
          "state": {
            "_view_name": "StyleView",
            "_model_name": "DescriptionStyleModel",
            "description_width": "",
            "_view_module": "@jupyter-widgets/base",
            "_model_module_version": "1.5.0",
            "_view_count": null,
            "_view_module_version": "1.2.0",
            "_model_module": "@jupyter-widgets/controls"
          }
        },
        "ab08ebd1440746c387369df4ba36342f": {
          "model_module": "@jupyter-widgets/base",
          "model_name": "LayoutModel",
          "state": {
            "_view_name": "LayoutView",
            "grid_template_rows": null,
            "right": null,
            "justify_content": null,
            "_view_module": "@jupyter-widgets/base",
            "overflow": null,
            "_model_module_version": "1.2.0",
            "_view_count": null,
            "flex_flow": null,
            "width": null,
            "min_width": null,
            "border": null,
            "align_items": null,
            "bottom": null,
            "_model_module": "@jupyter-widgets/base",
            "top": null,
            "grid_column": null,
            "overflow_y": null,
            "overflow_x": null,
            "grid_auto_flow": null,
            "grid_area": null,
            "grid_template_columns": null,
            "flex": null,
            "_model_name": "LayoutModel",
            "justify_items": null,
            "grid_row": null,
            "max_height": null,
            "align_content": null,
            "visibility": null,
            "align_self": null,
            "height": null,
            "min_height": null,
            "padding": null,
            "grid_auto_rows": null,
            "grid_gap": null,
            "max_width": null,
            "order": null,
            "_view_module_version": "1.2.0",
            "grid_template_areas": null,
            "object_position": null,
            "object_fit": null,
            "grid_auto_columns": null,
            "margin": null,
            "display": null,
            "left": null
          }
        },
        "191de19cb15742859441eebee898dc6b": {
          "model_module": "@jupyter-widgets/controls",
          "model_name": "HBoxModel",
          "state": {
            "_view_name": "HBoxView",
            "_dom_classes": [],
            "_model_name": "HBoxModel",
            "_view_module": "@jupyter-widgets/controls",
            "_model_module_version": "1.5.0",
            "_view_count": null,
            "_view_module_version": "1.5.0",
            "box_style": "",
            "layout": "IPY_MODEL_f82bd8d34a694098b5353eb06775f9a2",
            "_model_module": "@jupyter-widgets/controls",
            "children": [
              "IPY_MODEL_8f28183b58ec4d36ae9796e7670adbf2",
              "IPY_MODEL_7584debcd5834f6187b8473edad28cfe"
            ]
          }
        },
        "f82bd8d34a694098b5353eb06775f9a2": {
          "model_module": "@jupyter-widgets/base",
          "model_name": "LayoutModel",
          "state": {
            "_view_name": "LayoutView",
            "grid_template_rows": null,
            "right": null,
            "justify_content": null,
            "_view_module": "@jupyter-widgets/base",
            "overflow": null,
            "_model_module_version": "1.2.0",
            "_view_count": null,
            "flex_flow": null,
            "width": null,
            "min_width": null,
            "border": null,
            "align_items": null,
            "bottom": null,
            "_model_module": "@jupyter-widgets/base",
            "top": null,
            "grid_column": null,
            "overflow_y": null,
            "overflow_x": null,
            "grid_auto_flow": null,
            "grid_area": null,
            "grid_template_columns": null,
            "flex": null,
            "_model_name": "LayoutModel",
            "justify_items": null,
            "grid_row": null,
            "max_height": null,
            "align_content": null,
            "visibility": null,
            "align_self": null,
            "height": null,
            "min_height": null,
            "padding": null,
            "grid_auto_rows": null,
            "grid_gap": null,
            "max_width": null,
            "order": null,
            "_view_module_version": "1.2.0",
            "grid_template_areas": null,
            "object_position": null,
            "object_fit": null,
            "grid_auto_columns": null,
            "margin": null,
            "display": null,
            "left": null
          }
        },
        "8f28183b58ec4d36ae9796e7670adbf2": {
          "model_module": "@jupyter-widgets/controls",
          "model_name": "FloatProgressModel",
          "state": {
            "_view_name": "ProgressView",
            "style": "IPY_MODEL_5bef7c5339274d4ba8f92ea7a59a8618",
            "_dom_classes": [],
            "description": "",
            "_model_name": "FloatProgressModel",
            "bar_style": "info",
            "max": 1,
            "_view_module": "@jupyter-widgets/controls",
            "_model_module_version": "1.5.0",
            "value": 1,
            "_view_count": null,
            "_view_module_version": "1.5.0",
            "orientation": "horizontal",
            "min": 0,
            "description_tooltip": null,
            "_model_module": "@jupyter-widgets/controls",
            "layout": "IPY_MODEL_ce0e86ef73564a39b29f39a3e9919f3f"
          }
        },
        "7584debcd5834f6187b8473edad28cfe": {
          "model_module": "@jupyter-widgets/controls",
          "model_name": "HTMLModel",
          "state": {
            "_view_name": "HTMLView",
            "style": "IPY_MODEL_a6616f3a80ff44ecb8a1e9d81e586e7e",
            "_dom_classes": [],
            "description": "",
            "_model_name": "HTMLModel",
            "placeholder": "​",
            "_view_module": "@jupyter-widgets/controls",
            "_model_module_version": "1.5.0",
            "value": " 44/0 [00:00&lt;00:00, 1174.94 examples/s]",
            "_view_count": null,
            "_view_module_version": "1.5.0",
            "description_tooltip": null,
            "_model_module": "@jupyter-widgets/controls",
            "layout": "IPY_MODEL_8f74c7195660435a8ea5e55b29d6cfdd"
          }
        },
        "5bef7c5339274d4ba8f92ea7a59a8618": {
          "model_module": "@jupyter-widgets/controls",
          "model_name": "ProgressStyleModel",
          "state": {
            "_view_name": "StyleView",
            "_model_name": "ProgressStyleModel",
            "description_width": "initial",
            "_view_module": "@jupyter-widgets/base",
            "_model_module_version": "1.5.0",
            "_view_count": null,
            "_view_module_version": "1.2.0",
            "bar_color": null,
            "_model_module": "@jupyter-widgets/controls"
          }
        },
        "ce0e86ef73564a39b29f39a3e9919f3f": {
          "model_module": "@jupyter-widgets/base",
          "model_name": "LayoutModel",
          "state": {
            "_view_name": "LayoutView",
            "grid_template_rows": null,
            "right": null,
            "justify_content": null,
            "_view_module": "@jupyter-widgets/base",
            "overflow": null,
            "_model_module_version": "1.2.0",
            "_view_count": null,
            "flex_flow": null,
            "width": null,
            "min_width": null,
            "border": null,
            "align_items": null,
            "bottom": null,
            "_model_module": "@jupyter-widgets/base",
            "top": null,
            "grid_column": null,
            "overflow_y": null,
            "overflow_x": null,
            "grid_auto_flow": null,
            "grid_area": null,
            "grid_template_columns": null,
            "flex": null,
            "_model_name": "LayoutModel",
            "justify_items": null,
            "grid_row": null,
            "max_height": null,
            "align_content": null,
            "visibility": null,
            "align_self": null,
            "height": null,
            "min_height": null,
            "padding": null,
            "grid_auto_rows": null,
            "grid_gap": null,
            "max_width": null,
            "order": null,
            "_view_module_version": "1.2.0",
            "grid_template_areas": null,
            "object_position": null,
            "object_fit": null,
            "grid_auto_columns": null,
            "margin": null,
            "display": null,
            "left": null
          }
        },
        "a6616f3a80ff44ecb8a1e9d81e586e7e": {
          "model_module": "@jupyter-widgets/controls",
          "model_name": "DescriptionStyleModel",
          "state": {
            "_view_name": "StyleView",
            "_model_name": "DescriptionStyleModel",
            "description_width": "",
            "_view_module": "@jupyter-widgets/base",
            "_model_module_version": "1.5.0",
            "_view_count": null,
            "_view_module_version": "1.2.0",
            "_model_module": "@jupyter-widgets/controls"
          }
        },
        "8f74c7195660435a8ea5e55b29d6cfdd": {
          "model_module": "@jupyter-widgets/base",
          "model_name": "LayoutModel",
          "state": {
            "_view_name": "LayoutView",
            "grid_template_rows": null,
            "right": null,
            "justify_content": null,
            "_view_module": "@jupyter-widgets/base",
            "overflow": null,
            "_model_module_version": "1.2.0",
            "_view_count": null,
            "flex_flow": null,
            "width": null,
            "min_width": null,
            "border": null,
            "align_items": null,
            "bottom": null,
            "_model_module": "@jupyter-widgets/base",
            "top": null,
            "grid_column": null,
            "overflow_y": null,
            "overflow_x": null,
            "grid_auto_flow": null,
            "grid_area": null,
            "grid_template_columns": null,
            "flex": null,
            "_model_name": "LayoutModel",
            "justify_items": null,
            "grid_row": null,
            "max_height": null,
            "align_content": null,
            "visibility": null,
            "align_self": null,
            "height": null,
            "min_height": null,
            "padding": null,
            "grid_auto_rows": null,
            "grid_gap": null,
            "max_width": null,
            "order": null,
            "_view_module_version": "1.2.0",
            "grid_template_areas": null,
            "object_position": null,
            "object_fit": null,
            "grid_auto_columns": null,
            "margin": null,
            "display": null,
            "left": null
          }
        },
        "5089dea1eb944068a65ea31b7a4b54a6": {
          "model_module": "@jupyter-widgets/controls",
          "model_name": "HBoxModel",
          "state": {
            "_view_name": "HBoxView",
            "_dom_classes": [],
            "_model_name": "HBoxModel",
            "_view_module": "@jupyter-widgets/controls",
            "_model_module_version": "1.5.0",
            "_view_count": null,
            "_view_module_version": "1.5.0",
            "box_style": "",
            "layout": "IPY_MODEL_0405f1ac1a9c4fa38ad11621e0f421ee",
            "_model_module": "@jupyter-widgets/controls",
            "children": [
              "IPY_MODEL_8dad21532bda4176a830e73ca4a8e51b",
              "IPY_MODEL_f9c6d6762220460c91bd39f8967a9fdc"
            ]
          }
        },
        "0405f1ac1a9c4fa38ad11621e0f421ee": {
          "model_module": "@jupyter-widgets/base",
          "model_name": "LayoutModel",
          "state": {
            "_view_name": "LayoutView",
            "grid_template_rows": null,
            "right": null,
            "justify_content": null,
            "_view_module": "@jupyter-widgets/base",
            "overflow": null,
            "_model_module_version": "1.2.0",
            "_view_count": null,
            "flex_flow": null,
            "width": null,
            "min_width": null,
            "border": null,
            "align_items": null,
            "bottom": null,
            "_model_module": "@jupyter-widgets/base",
            "top": null,
            "grid_column": null,
            "overflow_y": null,
            "overflow_x": null,
            "grid_auto_flow": null,
            "grid_area": null,
            "grid_template_columns": null,
            "flex": null,
            "_model_name": "LayoutModel",
            "justify_items": null,
            "grid_row": null,
            "max_height": null,
            "align_content": null,
            "visibility": null,
            "align_self": null,
            "height": null,
            "min_height": null,
            "padding": null,
            "grid_auto_rows": null,
            "grid_gap": null,
            "max_width": null,
            "order": null,
            "_view_module_version": "1.2.0",
            "grid_template_areas": null,
            "object_position": null,
            "object_fit": null,
            "grid_auto_columns": null,
            "margin": null,
            "display": null,
            "left": null
          }
        },
        "8dad21532bda4176a830e73ca4a8e51b": {
          "model_module": "@jupyter-widgets/controls",
          "model_name": "FloatProgressModel",
          "state": {
            "_view_name": "ProgressView",
            "style": "IPY_MODEL_1e8b4fd500ad4a27949c3e9f3952e5f4",
            "_dom_classes": [],
            "description": "",
            "_model_name": "FloatProgressModel",
            "bar_style": "info",
            "max": 1,
            "_view_module": "@jupyter-widgets/controls",
            "_model_module_version": "1.5.0",
            "value": 1,
            "_view_count": null,
            "_view_module_version": "1.5.0",
            "orientation": "horizontal",
            "min": 0,
            "description_tooltip": null,
            "_model_module": "@jupyter-widgets/controls",
            "layout": "IPY_MODEL_8c48054d2f3d4eecaf44e02018f5772e"
          }
        },
        "f9c6d6762220460c91bd39f8967a9fdc": {
          "model_module": "@jupyter-widgets/controls",
          "model_name": "HTMLModel",
          "state": {
            "_view_name": "HTMLView",
            "style": "IPY_MODEL_ece1467e291440289d025673907fb837",
            "_dom_classes": [],
            "description": "",
            "_model_name": "HTMLModel",
            "placeholder": "​",
            "_view_module": "@jupyter-widgets/controls",
            "_model_module_version": "1.5.0",
            "value": " 1411/0 [00:00&lt;00:00, 6576.93 examples/s]",
            "_view_count": null,
            "_view_module_version": "1.5.0",
            "description_tooltip": null,
            "_model_module": "@jupyter-widgets/controls",
            "layout": "IPY_MODEL_01de8a3b6009462584318992798c9b72"
          }
        },
        "1e8b4fd500ad4a27949c3e9f3952e5f4": {
          "model_module": "@jupyter-widgets/controls",
          "model_name": "ProgressStyleModel",
          "state": {
            "_view_name": "StyleView",
            "_model_name": "ProgressStyleModel",
            "description_width": "initial",
            "_view_module": "@jupyter-widgets/base",
            "_model_module_version": "1.5.0",
            "_view_count": null,
            "_view_module_version": "1.2.0",
            "bar_color": null,
            "_model_module": "@jupyter-widgets/controls"
          }
        },
        "8c48054d2f3d4eecaf44e02018f5772e": {
          "model_module": "@jupyter-widgets/base",
          "model_name": "LayoutModel",
          "state": {
            "_view_name": "LayoutView",
            "grid_template_rows": null,
            "right": null,
            "justify_content": null,
            "_view_module": "@jupyter-widgets/base",
            "overflow": null,
            "_model_module_version": "1.2.0",
            "_view_count": null,
            "flex_flow": null,
            "width": null,
            "min_width": null,
            "border": null,
            "align_items": null,
            "bottom": null,
            "_model_module": "@jupyter-widgets/base",
            "top": null,
            "grid_column": null,
            "overflow_y": null,
            "overflow_x": null,
            "grid_auto_flow": null,
            "grid_area": null,
            "grid_template_columns": null,
            "flex": null,
            "_model_name": "LayoutModel",
            "justify_items": null,
            "grid_row": null,
            "max_height": null,
            "align_content": null,
            "visibility": null,
            "align_self": null,
            "height": null,
            "min_height": null,
            "padding": null,
            "grid_auto_rows": null,
            "grid_gap": null,
            "max_width": null,
            "order": null,
            "_view_module_version": "1.2.0",
            "grid_template_areas": null,
            "object_position": null,
            "object_fit": null,
            "grid_auto_columns": null,
            "margin": null,
            "display": null,
            "left": null
          }
        },
        "ece1467e291440289d025673907fb837": {
          "model_module": "@jupyter-widgets/controls",
          "model_name": "DescriptionStyleModel",
          "state": {
            "_view_name": "StyleView",
            "_model_name": "DescriptionStyleModel",
            "description_width": "",
            "_view_module": "@jupyter-widgets/base",
            "_model_module_version": "1.5.0",
            "_view_count": null,
            "_view_module_version": "1.2.0",
            "_model_module": "@jupyter-widgets/controls"
          }
        },
        "01de8a3b6009462584318992798c9b72": {
          "model_module": "@jupyter-widgets/base",
          "model_name": "LayoutModel",
          "state": {
            "_view_name": "LayoutView",
            "grid_template_rows": null,
            "right": null,
            "justify_content": null,
            "_view_module": "@jupyter-widgets/base",
            "overflow": null,
            "_model_module_version": "1.2.0",
            "_view_count": null,
            "flex_flow": null,
            "width": null,
            "min_width": null,
            "border": null,
            "align_items": null,
            "bottom": null,
            "_model_module": "@jupyter-widgets/base",
            "top": null,
            "grid_column": null,
            "overflow_y": null,
            "overflow_x": null,
            "grid_auto_flow": null,
            "grid_area": null,
            "grid_template_columns": null,
            "flex": null,
            "_model_name": "LayoutModel",
            "justify_items": null,
            "grid_row": null,
            "max_height": null,
            "align_content": null,
            "visibility": null,
            "align_self": null,
            "height": null,
            "min_height": null,
            "padding": null,
            "grid_auto_rows": null,
            "grid_gap": null,
            "max_width": null,
            "order": null,
            "_view_module_version": "1.2.0",
            "grid_template_areas": null,
            "object_position": null,
            "object_fit": null,
            "grid_auto_columns": null,
            "margin": null,
            "display": null,
            "left": null
          }
        },
        "57b20404b8f0418eb096ee5b00ae8a29": {
          "model_module": "@jupyter-widgets/controls",
          "model_name": "HBoxModel",
          "state": {
            "_view_name": "HBoxView",
            "_dom_classes": [],
            "_model_name": "HBoxModel",
            "_view_module": "@jupyter-widgets/controls",
            "_model_module_version": "1.5.0",
            "_view_count": null,
            "_view_module_version": "1.5.0",
            "box_style": "",
            "layout": "IPY_MODEL_77578eca1a1a44d0a99f09458c71f6f3",
            "_model_module": "@jupyter-widgets/controls",
            "children": [
              "IPY_MODEL_0c68274b316f41aa9d1618d38627bf2a",
              "IPY_MODEL_be8c64da0f59473a9ae98bf52e9627c6"
            ]
          }
        },
        "77578eca1a1a44d0a99f09458c71f6f3": {
          "model_module": "@jupyter-widgets/base",
          "model_name": "LayoutModel",
          "state": {
            "_view_name": "LayoutView",
            "grid_template_rows": null,
            "right": null,
            "justify_content": null,
            "_view_module": "@jupyter-widgets/base",
            "overflow": null,
            "_model_module_version": "1.2.0",
            "_view_count": null,
            "flex_flow": null,
            "width": null,
            "min_width": null,
            "border": null,
            "align_items": null,
            "bottom": null,
            "_model_module": "@jupyter-widgets/base",
            "top": null,
            "grid_column": null,
            "overflow_y": null,
            "overflow_x": null,
            "grid_auto_flow": null,
            "grid_area": null,
            "grid_template_columns": null,
            "flex": null,
            "_model_name": "LayoutModel",
            "justify_items": null,
            "grid_row": null,
            "max_height": null,
            "align_content": null,
            "visibility": null,
            "align_self": null,
            "height": null,
            "min_height": null,
            "padding": null,
            "grid_auto_rows": null,
            "grid_gap": null,
            "max_width": null,
            "order": null,
            "_view_module_version": "1.2.0",
            "grid_template_areas": null,
            "object_position": null,
            "object_fit": null,
            "grid_auto_columns": null,
            "margin": null,
            "display": null,
            "left": null
          }
        },
        "0c68274b316f41aa9d1618d38627bf2a": {
          "model_module": "@jupyter-widgets/controls",
          "model_name": "FloatProgressModel",
          "state": {
            "_view_name": "ProgressView",
            "style": "IPY_MODEL_c2c81291f8f349418c38e96e0d754264",
            "_dom_classes": [],
            "description": "",
            "_model_name": "FloatProgressModel",
            "bar_style": "info",
            "max": 1,
            "_view_module": "@jupyter-widgets/controls",
            "_model_module_version": "1.5.0",
            "value": 1,
            "_view_count": null,
            "_view_module_version": "1.5.0",
            "orientation": "horizontal",
            "min": 0,
            "description_tooltip": null,
            "_model_module": "@jupyter-widgets/controls",
            "layout": "IPY_MODEL_b170b223528c4c62b8f22fb714d9fee7"
          }
        },
        "be8c64da0f59473a9ae98bf52e9627c6": {
          "model_module": "@jupyter-widgets/controls",
          "model_name": "HTMLModel",
          "state": {
            "_view_name": "HTMLView",
            "style": "IPY_MODEL_3a917b1e04c44d6b930ab7d659c5127b",
            "_dom_classes": [],
            "description": "",
            "_model_name": "HTMLModel",
            "placeholder": "​",
            "_view_module": "@jupyter-widgets/controls",
            "_model_module_version": "1.5.0",
            "value": " 43/0 [00:00&lt;00:00, 1455.56 examples/s]",
            "_view_count": null,
            "_view_module_version": "1.5.0",
            "description_tooltip": null,
            "_model_module": "@jupyter-widgets/controls",
            "layout": "IPY_MODEL_58b521f8bac0448984c95e51c13d38c8"
          }
        },
        "c2c81291f8f349418c38e96e0d754264": {
          "model_module": "@jupyter-widgets/controls",
          "model_name": "ProgressStyleModel",
          "state": {
            "_view_name": "StyleView",
            "_model_name": "ProgressStyleModel",
            "description_width": "initial",
            "_view_module": "@jupyter-widgets/base",
            "_model_module_version": "1.5.0",
            "_view_count": null,
            "_view_module_version": "1.2.0",
            "bar_color": null,
            "_model_module": "@jupyter-widgets/controls"
          }
        },
        "b170b223528c4c62b8f22fb714d9fee7": {
          "model_module": "@jupyter-widgets/base",
          "model_name": "LayoutModel",
          "state": {
            "_view_name": "LayoutView",
            "grid_template_rows": null,
            "right": null,
            "justify_content": null,
            "_view_module": "@jupyter-widgets/base",
            "overflow": null,
            "_model_module_version": "1.2.0",
            "_view_count": null,
            "flex_flow": null,
            "width": null,
            "min_width": null,
            "border": null,
            "align_items": null,
            "bottom": null,
            "_model_module": "@jupyter-widgets/base",
            "top": null,
            "grid_column": null,
            "overflow_y": null,
            "overflow_x": null,
            "grid_auto_flow": null,
            "grid_area": null,
            "grid_template_columns": null,
            "flex": null,
            "_model_name": "LayoutModel",
            "justify_items": null,
            "grid_row": null,
            "max_height": null,
            "align_content": null,
            "visibility": null,
            "align_self": null,
            "height": null,
            "min_height": null,
            "padding": null,
            "grid_auto_rows": null,
            "grid_gap": null,
            "max_width": null,
            "order": null,
            "_view_module_version": "1.2.0",
            "grid_template_areas": null,
            "object_position": null,
            "object_fit": null,
            "grid_auto_columns": null,
            "margin": null,
            "display": null,
            "left": null
          }
        },
        "3a917b1e04c44d6b930ab7d659c5127b": {
          "model_module": "@jupyter-widgets/controls",
          "model_name": "DescriptionStyleModel",
          "state": {
            "_view_name": "StyleView",
            "_model_name": "DescriptionStyleModel",
            "description_width": "",
            "_view_module": "@jupyter-widgets/base",
            "_model_module_version": "1.5.0",
            "_view_count": null,
            "_view_module_version": "1.2.0",
            "_model_module": "@jupyter-widgets/controls"
          }
        },
        "58b521f8bac0448984c95e51c13d38c8": {
          "model_module": "@jupyter-widgets/base",
          "model_name": "LayoutModel",
          "state": {
            "_view_name": "LayoutView",
            "grid_template_rows": null,
            "right": null,
            "justify_content": null,
            "_view_module": "@jupyter-widgets/base",
            "overflow": null,
            "_model_module_version": "1.2.0",
            "_view_count": null,
            "flex_flow": null,
            "width": null,
            "min_width": null,
            "border": null,
            "align_items": null,
            "bottom": null,
            "_model_module": "@jupyter-widgets/base",
            "top": null,
            "grid_column": null,
            "overflow_y": null,
            "overflow_x": null,
            "grid_auto_flow": null,
            "grid_area": null,
            "grid_template_columns": null,
            "flex": null,
            "_model_name": "LayoutModel",
            "justify_items": null,
            "grid_row": null,
            "max_height": null,
            "align_content": null,
            "visibility": null,
            "align_self": null,
            "height": null,
            "min_height": null,
            "padding": null,
            "grid_auto_rows": null,
            "grid_gap": null,
            "max_width": null,
            "order": null,
            "_view_module_version": "1.2.0",
            "grid_template_areas": null,
            "object_position": null,
            "object_fit": null,
            "grid_auto_columns": null,
            "margin": null,
            "display": null,
            "left": null
          }
        },
        "9983544f4beb4dbcaaeb8296cc4ef972": {
          "model_module": "@jupyter-widgets/controls",
          "model_name": "HBoxModel",
          "state": {
            "_view_name": "HBoxView",
            "_dom_classes": [],
            "_model_name": "HBoxModel",
            "_view_module": "@jupyter-widgets/controls",
            "_model_module_version": "1.5.0",
            "_view_count": null,
            "_view_module_version": "1.5.0",
            "box_style": "",
            "layout": "IPY_MODEL_8236b597baf6410a85c1329af3a38e16",
            "_model_module": "@jupyter-widgets/controls",
            "children": [
              "IPY_MODEL_023524124d19475bbd6fa0a9e7a6acb3",
              "IPY_MODEL_db237e7319b342cf8cbc17d6ede9fb42"
            ]
          }
        },
        "8236b597baf6410a85c1329af3a38e16": {
          "model_module": "@jupyter-widgets/base",
          "model_name": "LayoutModel",
          "state": {
            "_view_name": "LayoutView",
            "grid_template_rows": null,
            "right": null,
            "justify_content": null,
            "_view_module": "@jupyter-widgets/base",
            "overflow": null,
            "_model_module_version": "1.2.0",
            "_view_count": null,
            "flex_flow": null,
            "width": null,
            "min_width": null,
            "border": null,
            "align_items": null,
            "bottom": null,
            "_model_module": "@jupyter-widgets/base",
            "top": null,
            "grid_column": null,
            "overflow_y": null,
            "overflow_x": null,
            "grid_auto_flow": null,
            "grid_area": null,
            "grid_template_columns": null,
            "flex": null,
            "_model_name": "LayoutModel",
            "justify_items": null,
            "grid_row": null,
            "max_height": null,
            "align_content": null,
            "visibility": null,
            "align_self": null,
            "height": null,
            "min_height": null,
            "padding": null,
            "grid_auto_rows": null,
            "grid_gap": null,
            "max_width": null,
            "order": null,
            "_view_module_version": "1.2.0",
            "grid_template_areas": null,
            "object_position": null,
            "object_fit": null,
            "grid_auto_columns": null,
            "margin": null,
            "display": null,
            "left": null
          }
        },
        "023524124d19475bbd6fa0a9e7a6acb3": {
          "model_module": "@jupyter-widgets/controls",
          "model_name": "FloatProgressModel",
          "state": {
            "_view_name": "ProgressView",
            "style": "IPY_MODEL_92bffd6abfdc40088240a984d829bea3",
            "_dom_classes": [],
            "description": "100%",
            "_model_name": "FloatProgressModel",
            "bar_style": "success",
            "max": 15,
            "_view_module": "@jupyter-widgets/controls",
            "_model_module_version": "1.5.0",
            "value": 15,
            "_view_count": null,
            "_view_module_version": "1.5.0",
            "orientation": "horizontal",
            "min": 0,
            "description_tooltip": null,
            "_model_module": "@jupyter-widgets/controls",
            "layout": "IPY_MODEL_263f6e7c798a48819272348fe9647517"
          }
        },
        "db237e7319b342cf8cbc17d6ede9fb42": {
          "model_module": "@jupyter-widgets/controls",
          "model_name": "HTMLModel",
          "state": {
            "_view_name": "HTMLView",
            "style": "IPY_MODEL_895c299d45e048ddbf83a92b2352b02f",
            "_dom_classes": [],
            "description": "",
            "_model_name": "HTMLModel",
            "placeholder": "​",
            "_view_module": "@jupyter-widgets/controls",
            "_model_module_version": "1.5.0",
            "value": " 15/15 [00:10&lt;00:00,  1.46ba/s]",
            "_view_count": null,
            "_view_module_version": "1.5.0",
            "description_tooltip": null,
            "_model_module": "@jupyter-widgets/controls",
            "layout": "IPY_MODEL_cae95e43c45149e3bc64495674780ff5"
          }
        },
        "92bffd6abfdc40088240a984d829bea3": {
          "model_module": "@jupyter-widgets/controls",
          "model_name": "ProgressStyleModel",
          "state": {
            "_view_name": "StyleView",
            "_model_name": "ProgressStyleModel",
            "description_width": "initial",
            "_view_module": "@jupyter-widgets/base",
            "_model_module_version": "1.5.0",
            "_view_count": null,
            "_view_module_version": "1.2.0",
            "bar_color": null,
            "_model_module": "@jupyter-widgets/controls"
          }
        },
        "263f6e7c798a48819272348fe9647517": {
          "model_module": "@jupyter-widgets/base",
          "model_name": "LayoutModel",
          "state": {
            "_view_name": "LayoutView",
            "grid_template_rows": null,
            "right": null,
            "justify_content": null,
            "_view_module": "@jupyter-widgets/base",
            "overflow": null,
            "_model_module_version": "1.2.0",
            "_view_count": null,
            "flex_flow": null,
            "width": null,
            "min_width": null,
            "border": null,
            "align_items": null,
            "bottom": null,
            "_model_module": "@jupyter-widgets/base",
            "top": null,
            "grid_column": null,
            "overflow_y": null,
            "overflow_x": null,
            "grid_auto_flow": null,
            "grid_area": null,
            "grid_template_columns": null,
            "flex": null,
            "_model_name": "LayoutModel",
            "justify_items": null,
            "grid_row": null,
            "max_height": null,
            "align_content": null,
            "visibility": null,
            "align_self": null,
            "height": null,
            "min_height": null,
            "padding": null,
            "grid_auto_rows": null,
            "grid_gap": null,
            "max_width": null,
            "order": null,
            "_view_module_version": "1.2.0",
            "grid_template_areas": null,
            "object_position": null,
            "object_fit": null,
            "grid_auto_columns": null,
            "margin": null,
            "display": null,
            "left": null
          }
        },
        "895c299d45e048ddbf83a92b2352b02f": {
          "model_module": "@jupyter-widgets/controls",
          "model_name": "DescriptionStyleModel",
          "state": {
            "_view_name": "StyleView",
            "_model_name": "DescriptionStyleModel",
            "description_width": "",
            "_view_module": "@jupyter-widgets/base",
            "_model_module_version": "1.5.0",
            "_view_count": null,
            "_view_module_version": "1.2.0",
            "_model_module": "@jupyter-widgets/controls"
          }
        },
        "cae95e43c45149e3bc64495674780ff5": {
          "model_module": "@jupyter-widgets/base",
          "model_name": "LayoutModel",
          "state": {
            "_view_name": "LayoutView",
            "grid_template_rows": null,
            "right": null,
            "justify_content": null,
            "_view_module": "@jupyter-widgets/base",
            "overflow": null,
            "_model_module_version": "1.2.0",
            "_view_count": null,
            "flex_flow": null,
            "width": null,
            "min_width": null,
            "border": null,
            "align_items": null,
            "bottom": null,
            "_model_module": "@jupyter-widgets/base",
            "top": null,
            "grid_column": null,
            "overflow_y": null,
            "overflow_x": null,
            "grid_auto_flow": null,
            "grid_area": null,
            "grid_template_columns": null,
            "flex": null,
            "_model_name": "LayoutModel",
            "justify_items": null,
            "grid_row": null,
            "max_height": null,
            "align_content": null,
            "visibility": null,
            "align_self": null,
            "height": null,
            "min_height": null,
            "padding": null,
            "grid_auto_rows": null,
            "grid_gap": null,
            "max_width": null,
            "order": null,
            "_view_module_version": "1.2.0",
            "grid_template_areas": null,
            "object_position": null,
            "object_fit": null,
            "grid_auto_columns": null,
            "margin": null,
            "display": null,
            "left": null
          }
        },
        "56e31e9c4316477a9f2c609ee7407219": {
          "model_module": "@jupyter-widgets/controls",
          "model_name": "HBoxModel",
          "state": {
            "_view_name": "HBoxView",
            "_dom_classes": [],
            "_model_name": "HBoxModel",
            "_view_module": "@jupyter-widgets/controls",
            "_model_module_version": "1.5.0",
            "_view_count": null,
            "_view_module_version": "1.5.0",
            "box_style": "",
            "layout": "IPY_MODEL_a3502928fd254288b258479122d134e6",
            "_model_module": "@jupyter-widgets/controls",
            "children": [
              "IPY_MODEL_1ab6c9b82ce841fa8f9c48b990a34ee9",
              "IPY_MODEL_cbfbac06aa484b9e9d5680c0ace4bb15"
            ]
          }
        },
        "a3502928fd254288b258479122d134e6": {
          "model_module": "@jupyter-widgets/base",
          "model_name": "LayoutModel",
          "state": {
            "_view_name": "LayoutView",
            "grid_template_rows": null,
            "right": null,
            "justify_content": null,
            "_view_module": "@jupyter-widgets/base",
            "overflow": null,
            "_model_module_version": "1.2.0",
            "_view_count": null,
            "flex_flow": null,
            "width": null,
            "min_width": null,
            "border": null,
            "align_items": null,
            "bottom": null,
            "_model_module": "@jupyter-widgets/base",
            "top": null,
            "grid_column": null,
            "overflow_y": null,
            "overflow_x": null,
            "grid_auto_flow": null,
            "grid_area": null,
            "grid_template_columns": null,
            "flex": null,
            "_model_name": "LayoutModel",
            "justify_items": null,
            "grid_row": null,
            "max_height": null,
            "align_content": null,
            "visibility": null,
            "align_self": null,
            "height": null,
            "min_height": null,
            "padding": null,
            "grid_auto_rows": null,
            "grid_gap": null,
            "max_width": null,
            "order": null,
            "_view_module_version": "1.2.0",
            "grid_template_areas": null,
            "object_position": null,
            "object_fit": null,
            "grid_auto_columns": null,
            "margin": null,
            "display": null,
            "left": null
          }
        },
        "1ab6c9b82ce841fa8f9c48b990a34ee9": {
          "model_module": "@jupyter-widgets/controls",
          "model_name": "FloatProgressModel",
          "state": {
            "_view_name": "ProgressView",
            "style": "IPY_MODEL_6f4d20c535114076bd60b5258ab98844",
            "_dom_classes": [],
            "description": "100%",
            "_model_name": "FloatProgressModel",
            "bar_style": "success",
            "max": 116,
            "_view_module": "@jupyter-widgets/controls",
            "_model_module_version": "1.5.0",
            "value": 116,
            "_view_count": null,
            "_view_module_version": "1.5.0",
            "orientation": "horizontal",
            "min": 0,
            "description_tooltip": null,
            "_model_module": "@jupyter-widgets/controls",
            "layout": "IPY_MODEL_9b9045de45fb4750842adb0e02aae586"
          }
        },
        "cbfbac06aa484b9e9d5680c0ace4bb15": {
          "model_module": "@jupyter-widgets/controls",
          "model_name": "HTMLModel",
          "state": {
            "_view_name": "HTMLView",
            "style": "IPY_MODEL_5c3417106a6647f28f6daf3d098f545e",
            "_dom_classes": [],
            "description": "",
            "_model_name": "HTMLModel",
            "placeholder": "​",
            "_view_module": "@jupyter-widgets/controls",
            "_model_module_version": "1.5.0",
            "value": " 116/116 [00:04&lt;00:00, 26.84ex/s]",
            "_view_count": null,
            "_view_module_version": "1.5.0",
            "description_tooltip": null,
            "_model_module": "@jupyter-widgets/controls",
            "layout": "IPY_MODEL_aa7332252f294aa4aefcfc9a75ce2acc"
          }
        },
        "6f4d20c535114076bd60b5258ab98844": {
          "model_module": "@jupyter-widgets/controls",
          "model_name": "ProgressStyleModel",
          "state": {
            "_view_name": "StyleView",
            "_model_name": "ProgressStyleModel",
            "description_width": "initial",
            "_view_module": "@jupyter-widgets/base",
            "_model_module_version": "1.5.0",
            "_view_count": null,
            "_view_module_version": "1.2.0",
            "bar_color": null,
            "_model_module": "@jupyter-widgets/controls"
          }
        },
        "9b9045de45fb4750842adb0e02aae586": {
          "model_module": "@jupyter-widgets/base",
          "model_name": "LayoutModel",
          "state": {
            "_view_name": "LayoutView",
            "grid_template_rows": null,
            "right": null,
            "justify_content": null,
            "_view_module": "@jupyter-widgets/base",
            "overflow": null,
            "_model_module_version": "1.2.0",
            "_view_count": null,
            "flex_flow": null,
            "width": null,
            "min_width": null,
            "border": null,
            "align_items": null,
            "bottom": null,
            "_model_module": "@jupyter-widgets/base",
            "top": null,
            "grid_column": null,
            "overflow_y": null,
            "overflow_x": null,
            "grid_auto_flow": null,
            "grid_area": null,
            "grid_template_columns": null,
            "flex": null,
            "_model_name": "LayoutModel",
            "justify_items": null,
            "grid_row": null,
            "max_height": null,
            "align_content": null,
            "visibility": null,
            "align_self": null,
            "height": null,
            "min_height": null,
            "padding": null,
            "grid_auto_rows": null,
            "grid_gap": null,
            "max_width": null,
            "order": null,
            "_view_module_version": "1.2.0",
            "grid_template_areas": null,
            "object_position": null,
            "object_fit": null,
            "grid_auto_columns": null,
            "margin": null,
            "display": null,
            "left": null
          }
        },
        "5c3417106a6647f28f6daf3d098f545e": {
          "model_module": "@jupyter-widgets/controls",
          "model_name": "DescriptionStyleModel",
          "state": {
            "_view_name": "StyleView",
            "_model_name": "DescriptionStyleModel",
            "description_width": "",
            "_view_module": "@jupyter-widgets/base",
            "_model_module_version": "1.5.0",
            "_view_count": null,
            "_view_module_version": "1.2.0",
            "_model_module": "@jupyter-widgets/controls"
          }
        },
        "aa7332252f294aa4aefcfc9a75ce2acc": {
          "model_module": "@jupyter-widgets/base",
          "model_name": "LayoutModel",
          "state": {
            "_view_name": "LayoutView",
            "grid_template_rows": null,
            "right": null,
            "justify_content": null,
            "_view_module": "@jupyter-widgets/base",
            "overflow": null,
            "_model_module_version": "1.2.0",
            "_view_count": null,
            "flex_flow": null,
            "width": null,
            "min_width": null,
            "border": null,
            "align_items": null,
            "bottom": null,
            "_model_module": "@jupyter-widgets/base",
            "top": null,
            "grid_column": null,
            "overflow_y": null,
            "overflow_x": null,
            "grid_auto_flow": null,
            "grid_area": null,
            "grid_template_columns": null,
            "flex": null,
            "_model_name": "LayoutModel",
            "justify_items": null,
            "grid_row": null,
            "max_height": null,
            "align_content": null,
            "visibility": null,
            "align_self": null,
            "height": null,
            "min_height": null,
            "padding": null,
            "grid_auto_rows": null,
            "grid_gap": null,
            "max_width": null,
            "order": null,
            "_view_module_version": "1.2.0",
            "grid_template_areas": null,
            "object_position": null,
            "object_fit": null,
            "grid_auto_columns": null,
            "margin": null,
            "display": null,
            "left": null
          }
        }
      }
    },
    "accelerator": "GPU"
  },
  "cells": [
    {
      "cell_type": "markdown",
      "metadata": {
        "id": "view-in-github",
        "colab_type": "text"
      },
      "source": [
        "<a href=\"https://colab.research.google.com/github/gagan3012/wav2vec2-finetune/blob/master/Fine_Tune_XLSR_Wav2Vec2_on_Punjabi_ASR_with_%F0%9F%A4%97_Transformers.ipynb\" target=\"_parent\"><img src=\"https://colab.research.google.com/assets/colab-badge.svg\" alt=\"Open In Colab\"/></a>"
      ]
    },
    {
      "cell_type": "markdown",
      "metadata": {
        "id": "LBSYoWbi-45k"
      },
      "source": [
        "# **Fine-tuning XLSR-Wav2Vec2 for Multi-Lingual ASR with 🤗 Transformers**"
      ]
    },
    {
      "cell_type": "markdown",
      "metadata": {
        "id": "V7YOT2mnUiea"
      },
      "source": [
        "Wav2Vec2 is a pretrained model for Automatic Speech Recognition (ASR) and was released in [September 2020](https://ai.facebook.com/blog/wav2vec-20-learning-the-structure-of-speech-from-raw-audio/) by Alexei Baevski, Michael Auli, and Alex Conneau.  Soon after the superior performance of Wav2Vec2 was demonstrated on the English ASR dataset LibriSpeech, *Facebook AI* presented XLSR-Wav2Vec2 (click [here](https://arxiv.org/abs/2006.13979)). XLSR stands for *cross-lingual  speech representations* and refers to XLSR-Wav2Vec2`s ability to learn speech representations that are useful across multiple languages.\n",
        "\n",
        "Similar to Wav2Vec2, XLSR-Wav2Vec2 learns powerful speech representations from hundreds of thousands of hours of speech in more than 50 languages of unlabeled speech. Similar, to [BERT's masked language modeling](http://jalammar.github.io/illustrated-bert/), the model learns contextualized speech representations by randomly masking feature vectors before passing them to a transformer network.\n",
        "\n",
        "![wav2vec2_structure](https://raw.githubusercontent.com/patrickvonplaten/scientific_images/master/xlsr_wav2vec2.png)\n",
        "\n",
        "The authors show for the first time that massively pretraining an ASR model on cross-lingual unlabeled speech data, followed by language-specific fine-tuning on very little labeled data achieves state-of-the-art results. See Table 1-5 of the official [paper](https://arxiv.org/pdf/2006.13979.pdf)."
      ]
    },
    {
      "cell_type": "markdown",
      "metadata": {
        "id": "nT_QrfWtsxIz"
      },
      "source": [
        "In this notebook, we will give an in-detail explanation of how XLSR-Wav2Vec2's pretrained checkpoint can be fine-tuned on a low-resource ASR dataset of any language. Note that in this notebook, we will fine-tune XLSR-Wav2Vec2 without making use of a language model. It is much simpler and more efficient to use XLSR-Wav2Vec2 without a language model, but better results can be achieved by including a language model. \n",
        "\n",
        "For demonstration purposes, we fine-tune the [wav2vec2-large-xlsr-53](https://huggingface.co/facebook/wav2vec2-large-xlsr-53) on the low resource Turkish ASR dataset of [Common Voice](https://huggingface.co/datasets/common_voice) that contains just ~6h of validated training data."
      ]
    },
    {
      "cell_type": "markdown",
      "metadata": {
        "id": "Gx9OdDYrCtQ1"
      },
      "source": [
        "XLSR-Wav2Vec2 is fine-tuned using Connectionist Temporal Classification (CTC), which is an algorithm that is used to train neural networks for sequence-to-sequence problems and mainly in Automatic Speech Recognition and handwriting recognition. \n",
        "\n",
        "I highly recommend reading the blog post [Sequence Modeling with CTC (2017)](https://distill.pub/2017/ctc/) very well-written blog post by Awni Hannun."
      ]
    },
    {
      "cell_type": "markdown",
      "metadata": {
        "id": "e335hPmdtASZ"
      },
      "source": [
        "Before we start, let's install both `datasets` and `transformers` from master. Also, we need the `torchaudio` and `librosa` package to load audio files and the `jiwer` to evaluate our fine-tuned model using the [word error rate (WER)](https://huggingface.co/metrics/wer) metric ${}^1$."
      ]
    },
    {
      "cell_type": "code",
      "metadata": {
        "id": "c8eh87Hoee5d"
      },
      "source": [
        "%%capture\n",
        "!pip install datasets==1.4.1\n",
        "!pip install transformers==4.4.0\n",
        "!pip install torchaudio\n",
        "!pip install librosa\n",
        "!pip install jiwer"
      ],
      "execution_count": 1,
      "outputs": []
    },
    {
      "cell_type": "markdown",
      "metadata": {
        "id": "Mn9swf6EQ9Vd"
      },
      "source": [
        "\n",
        "\n",
        "\n",
        "---\n",
        "\n",
        "${}^1$ In the [paper](https://arxiv.org/pdf/2006.13979.pdf), the model was evaluated using the phoneme error rate (PER), but by far the most common metric in ASR is the word error rate (WER). To keep this notebook as general as possible we decided to evaluate the model using WER."
      ]
    },
    {
      "cell_type": "markdown",
      "metadata": {
        "id": "0mW-C1Nt-j7k"
      },
      "source": [
        "## Prepare Data, Tokenizer, Feature Extractor"
      ]
    },
    {
      "cell_type": "markdown",
      "metadata": {
        "id": "BeBosnY9BH3e"
      },
      "source": [
        "ASR models transcribe speech to text, which means that we both need a feature extractor that processes the speech signal to the model's input format, *e.g.* a feature vector, and a tokenizer that processes the model's output format to text. \n",
        "\n",
        "In 🤗 Transformers, the XLSR-Wav2Vec2 model is thus accompanied by both a tokenizer, called [Wav2Vec2CTCTokenizer](https://huggingface.co/transformers/master/model_doc/wav2vec2.html#wav2vec2ctctokenizer), and a feature extractor, called [Wav2Vec2FeatureExtractor](https://huggingface.co/transformers/master/model_doc/wav2vec2.html#wav2vec2featureextractor).\n",
        "\n",
        "Let's start by creating the tokenizer responsible for decoding the model's predictions."
      ]
    },
    {
      "cell_type": "markdown",
      "metadata": {
        "id": "sEXEWEJGQPqD"
      },
      "source": [
        "### Create Wav2Vec2CTCTokenizer"
      ]
    },
    {
      "cell_type": "markdown",
      "metadata": {
        "id": "tWmMikuNEKl_"
      },
      "source": [
        "The [pretrained Wav2Vec2 checkpoint]( ) maps the speech signal to a sequence of context representations as illustrated in the figure above. A fine-tuned XLSR-Wav2Vec2 checkpoint needs to map this sequence of context representations to its corresponding transcription so that a linear layer has to be added on top of the transformer block (shown in yellow). This linear layer is used to classifies each context representation to a token class analogous how, *e.g.*, after pretraining a linear layer is added on top of BERT's embeddings for further classification - *cf.* with *\"BERT\"* section of this [blog post](https://huggingface.co/blog/warm-starting-encoder-decoder).\n",
        "\n",
        "The output size of this layer corresponds to the number of tokens in the vocabulary, which does **not** depend on XLSR-Wav2Vec2's pretraining task, but only on the labeled dataset used for fine-tuning. So in the first step, we will take a look at Common Voice and define a vocabulary based on the dataset's transcriptions."
      ]
    },
    {
      "cell_type": "markdown",
      "metadata": {
        "id": "idBczw8mWzgt"
      },
      "source": [
        "First, let's go to [Common Voice](https://commonvoice.mozilla.org/en/datasets) and pick a language to fine-tune XLSR-Wav2Vec2 on. For this notebook, we will use Turkish. \n",
        "\n",
        "For each language-specific dataset, you can find a language code corresponding to your chosen language. On [Common Voice](https://commonvoice.mozilla.org/en/datasets), look for the field \"Version\". The language code then corresponds to the prefix before the underscore. For Turkish, *e.g.* the language code is `\"tr\"`.\n",
        "\n",
        "Great, now we can use 🤗 Datasets' simple API to download the data. The dataset name will be `\"common_voice\"`, the config name corresponds to the language code - `\"tr\"` in our case."
      ]
    },
    {
      "cell_type": "markdown",
      "metadata": {
        "id": "bee4g9rpLxll"
      },
      "source": [
        "Common Voice has many different splits including `invalidated`, which refers to data that was not rated as \"clean enough\" to be considered useful. In this notebook, we will only make use of the splits `\"train\"`, `\"validation\"` and `\"test\"`. \n",
        "\n",
        "Because the Turkish dataset is so small, we will merge both the validation and training data into a training dataset and simply use the test data for validation."
      ]
    },
    {
      "cell_type": "code",
      "metadata": {
        "id": "2MMXcWFFgCXU",
        "colab": {
          "base_uri": "https://localhost:8080/",
          "height": 309,
          "referenced_widgets": [
            "eeb54138ace4443a9c1c3cd2e4ac20f1",
            "bb37f5be1a4547cd82ec667138714fa3",
            "867003f1ce6c427fbd89efc3d962ebe7",
            "831678dd35324664b90d0dfaff6785df",
            "cca222db02634e259bf865e5ee1ec0b3",
            "8f2193f1440c4d34b89f7c316bcbe7d0",
            "fde02b5973f84528828116897f83a9cd",
            "be4ad8ea904f4658af3d1b60d38586bf",
            "3bde3b16aeae48c6aca11d6c8aa8b653",
            "6649af0faadb4334a3ff4fb1459a4dfe",
            "5039b178328d47c5a47dd887f16e81f6",
            "5d769451c2254373860025e459877a60",
            "610de9c1557b46b28d84f165a25973ee",
            "551237c0a12547338c76ff3578ef1e23",
            "d45fed5083b140d1bbd35d8d8c556611",
            "289806410ffe41b08461667a3dae5a4c",
            "222ef3804e1b43e3937b1072c3157052",
            "b195e7ba75064ab09ff588a7bfb417f7",
            "05c1f5a281cd4ef5a019c4ca2383677f",
            "549891ac6e654c5187188aba2f9aee45",
            "8a27041c95f04743a9e964a8b7b237ca",
            "593264639e6c4cae8583a56ebb40ff05",
            "2965f3cb83de440abbee3552f4199a09",
            "1ceee07aac32433d954eb0e445334a8e",
            "26704a1ac9ca4d4c93d23287deb15fb2",
            "f62e020f47294a92a9e883fc38bdacfd",
            "98a68cb6cc824f17aff3d3e97f94fa9e",
            "9694bc5fbe2e419b9be0edb7311f7c6a",
            "13886eb76bb84a29a7f99e3c0f5288ff",
            "b8173fecdba644b793318114e4b43c36",
            "255034359e6d4f3db9c62fc796674c27",
            "9c59a01e73374472b60fbfdb64b7f19f",
            "bf2828ba72c04482beca40705ce5f1f7",
            "0497b235aac24278af1e5c6db0be2a30",
            "1fbb2969f312447fbb9b2b7654573328",
            "e7bb0722c8994e1bb83466e444ef609a",
            "cdd977c1d14c437d917111285b95bad6",
            "0bd4b0b481f74283a0b48a36ca65b268",
            "2679033064114b37ac5a10a8d4e858b0",
            "27bdf70db5b247599a86c8d309448bfb",
            "ffe3e1c4916e4475a4388803e13b1591",
            "975bf5db6b5d42d9a4e2da9d70eef322",
            "1a89c1cbd8c140faa0494643af2955f8",
            "89629a97672b470ba2039a830be75727",
            "1e4ab8f8dd434a8c85a064ecea6196a7",
            "3995f159fa584beeb8156ad196daeea7",
            "49ffd3d39d5942de8f367c86f62b1a4b",
            "e2e4093b11fe49e0a190c7ae4a0ec31b",
            "53374f44eb754b3eb0136659f15bcb8a",
            "42a45bbb00fc4a5f8fbf3c8f3772b9fb",
            "9d1476f7a0464c7bb17c050b60db7ffe",
            "530143929b4549f0995f35d329b15386",
            "59e2b17bcb8f49418271f979e14a6061",
            "f58afa657ad7498ca1d5cef893d13fb3",
            "fb1f5a959f504098ab0771ed62488bcf",
            "924524fd4bf7494fb84f3288747cb95d",
            "2cedac79e4e0433686168055ca192290",
            "f3d926f980e04be5b7461a489748b258",
            "06851ec089fd4c19b9eb2d72648c4b37",
            "d320716e6079469bb40c51cfbe62cdb1",
            "dd2497b68f80419a8036715a30fca35e",
            "1c91781832dc462baede0433400d03c5",
            "d55248e8ea5642d9b94c57051f91a169",
            "2487521e57d244219a692f30e7420df6"
          ]
        },
        "outputId": "792f4a8d-5d74-4979-f2f6-f625825b8baa"
      },
      "source": [
        "from datasets import load_dataset, load_metric\n",
        "\n",
        "common_voice_train = load_dataset(\"common_voice\", \"pa-IN\", split=\"train+validation\")\n",
        "common_voice_test = load_dataset(\"common_voice\", \"pa-IN\", split=\"test\")"
      ],
      "execution_count": null,
      "outputs": [
        {
          "output_type": "display_data",
          "data": {
            "application/vnd.jupyter.widget-view+json": {
              "model_id": "eeb54138ace4443a9c1c3cd2e4ac20f1",
              "version_minor": 0,
              "version_major": 2
            },
            "text/plain": [
              "HBox(children=(FloatProgress(value=0.0, description='Downloading', max=4323.0, style=ProgressStyle(description…"
            ]
          },
          "metadata": {
            "tags": []
          }
        },
        {
          "output_type": "stream",
          "text": [
            "Couldn't find file locally at common_voice/common_voice.py, or remotely at https://raw.githubusercontent.com/huggingface/datasets/1.4.1/datasets/common_voice/common_voice.py.\n",
            "The file was picked from the master branch on github instead at https://raw.githubusercontent.com/huggingface/datasets/master/datasets/common_voice/common_voice.py.\n"
          ],
          "name": "stderr"
        },
        {
          "output_type": "stream",
          "text": [
            "\n"
          ],
          "name": "stdout"
        },
        {
          "output_type": "display_data",
          "data": {
            "application/vnd.jupyter.widget-view+json": {
              "model_id": "3bde3b16aeae48c6aca11d6c8aa8b653",
              "version_minor": 0,
              "version_major": 2
            },
            "text/plain": [
              "HBox(children=(FloatProgress(value=0.0, description='Downloading', max=9954.0, style=ProgressStyle(description…"
            ]
          },
          "metadata": {
            "tags": []
          }
        },
        {
          "output_type": "stream",
          "text": [
            "\n",
            "Downloading and preparing dataset common_voice/pa-IN (download: 66.52 MiB, generated: 846.02 KiB, post-processed: Unknown size, total: 67.34 MiB) to /root/.cache/huggingface/datasets/common_voice/pa-IN/6.1.0/0041e06ab061b91d0a23234a2221e87970a19cf3a81b20901474cffffeb7869f...\n"
          ],
          "name": "stdout"
        },
        {
          "output_type": "display_data",
          "data": {
            "application/vnd.jupyter.widget-view+json": {
              "model_id": "222ef3804e1b43e3937b1072c3157052",
              "version_minor": 0,
              "version_major": 2
            },
            "text/plain": [
              "HBox(children=(FloatProgress(value=0.0, description='Downloading', max=69748265.0, style=ProgressStyle(descrip…"
            ]
          },
          "metadata": {
            "tags": []
          }
        },
        {
          "output_type": "stream",
          "text": [
            "\n"
          ],
          "name": "stdout"
        },
        {
          "output_type": "display_data",
          "data": {
            "application/vnd.jupyter.widget-view+json": {
              "model_id": "26704a1ac9ca4d4c93d23287deb15fb2",
              "version_minor": 0,
              "version_major": 2
            },
            "text/plain": [
              "HBox(children=(FloatProgress(value=1.0, bar_style='info', max=1.0), HTML(value='')))"
            ]
          },
          "metadata": {
            "tags": []
          }
        },
        {
          "output_type": "stream",
          "text": [
            "\r"
          ],
          "name": "stdout"
        },
        {
          "output_type": "display_data",
          "data": {
            "application/vnd.jupyter.widget-view+json": {
              "model_id": "bf2828ba72c04482beca40705ce5f1f7",
              "version_minor": 0,
              "version_major": 2
            },
            "text/plain": [
              "HBox(children=(FloatProgress(value=1.0, bar_style='info', max=1.0), HTML(value='')))"
            ]
          },
          "metadata": {
            "tags": []
          }
        },
        {
          "output_type": "stream",
          "text": [
            "\r"
          ],
          "name": "stdout"
        },
        {
          "output_type": "display_data",
          "data": {
            "application/vnd.jupyter.widget-view+json": {
              "model_id": "ffe3e1c4916e4475a4388803e13b1591",
              "version_minor": 0,
              "version_major": 2
            },
            "text/plain": [
              "HBox(children=(FloatProgress(value=1.0, bar_style='info', max=1.0), HTML(value='')))"
            ]
          },
          "metadata": {
            "tags": []
          }
        },
        {
          "output_type": "stream",
          "text": [
            "\r"
          ],
          "name": "stdout"
        },
        {
          "output_type": "display_data",
          "data": {
            "application/vnd.jupyter.widget-view+json": {
              "model_id": "53374f44eb754b3eb0136659f15bcb8a",
              "version_minor": 0,
              "version_major": 2
            },
            "text/plain": [
              "HBox(children=(FloatProgress(value=1.0, bar_style='info', max=1.0), HTML(value='')))"
            ]
          },
          "metadata": {
            "tags": []
          }
        },
        {
          "output_type": "stream",
          "text": [
            "\r"
          ],
          "name": "stdout"
        },
        {
          "output_type": "display_data",
          "data": {
            "application/vnd.jupyter.widget-view+json": {
              "model_id": "2cedac79e4e0433686168055ca192290",
              "version_minor": 0,
              "version_major": 2
            },
            "text/plain": [
              "HBox(children=(FloatProgress(value=1.0, bar_style='info', max=1.0), HTML(value='')))"
            ]
          },
          "metadata": {
            "tags": []
          }
        },
        {
          "output_type": "stream",
          "text": [
            "\rDataset common_voice downloaded and prepared to /root/.cache/huggingface/datasets/common_voice/pa-IN/6.1.0/0041e06ab061b91d0a23234a2221e87970a19cf3a81b20901474cffffeb7869f. Subsequent calls will reuse this data.\n"
          ],
          "name": "stdout"
        },
        {
          "output_type": "stream",
          "text": [
            "Couldn't find file locally at common_voice/common_voice.py, or remotely at https://raw.githubusercontent.com/huggingface/datasets/1.4.1/datasets/common_voice/common_voice.py.\n",
            "The file was picked from the master branch on github instead at https://raw.githubusercontent.com/huggingface/datasets/master/datasets/common_voice/common_voice.py.\n",
            "Reusing dataset common_voice (/root/.cache/huggingface/datasets/common_voice/pa-IN/6.1.0/0041e06ab061b91d0a23234a2221e87970a19cf3a81b20901474cffffeb7869f)\n"
          ],
          "name": "stderr"
        }
      ]
    },
    {
      "cell_type": "markdown",
      "metadata": {
        "id": "ri5y5N_HMANq"
      },
      "source": [
        "Many ASR datasets only provide the target text, `'sentence'` for each audio file `'path'`. Common Voice actually provides much more information about each audio file, such as the `'accent'`, etc. However, we want to keep the notebook as general as possible, so that we will only consider the transcribed text for fine-tuning.\n",
        "\n"
      ]
    },
    {
      "cell_type": "code",
      "metadata": {
        "id": "kbyq6lDgQc2a"
      },
      "source": [
        "common_voice_train = common_voice_train.remove_columns([\"accent\", \"age\", \"client_id\", \"down_votes\", \"gender\", \"locale\", \"segment\", \"up_votes\"])\n",
        "common_voice_test = common_voice_test.remove_columns([\"accent\", \"age\", \"client_id\", \"down_votes\", \"gender\", \"locale\", \"segment\", \"up_votes\"])"
      ],
      "execution_count": null,
      "outputs": []
    },
    {
      "cell_type": "markdown",
      "metadata": {
        "id": "Go9Hq4e4NDT9"
      },
      "source": [
        "Let's write a short function to display some random samples of the dataset and run it a couple of times to get a feeling for the transcriptions."
      ]
    },
    {
      "cell_type": "code",
      "metadata": {
        "id": "72737oog2F6U"
      },
      "source": [
        "from datasets import ClassLabel\n",
        "import random\n",
        "import pandas as pd\n",
        "from IPython.display import display, HTML\n",
        "\n",
        "def show_random_elements(dataset, num_examples=10):\n",
        "    assert num_examples <= len(dataset), \"Can't pick more elements than there are in the dataset.\"\n",
        "    picks = []\n",
        "    for _ in range(num_examples):\n",
        "        pick = random.randint(0, len(dataset)-1)\n",
        "        while pick in picks:\n",
        "            pick = random.randint(0, len(dataset)-1)\n",
        "        picks.append(pick)\n",
        "    \n",
        "    df = pd.DataFrame(dataset[picks])\n",
        "    display(HTML(df.to_html()))"
      ],
      "execution_count": null,
      "outputs": []
    },
    {
      "cell_type": "code",
      "metadata": {
        "colab": {
          "base_uri": "https://localhost:8080/",
          "height": 665
        },
        "id": "K_JUmf3G3b9S",
        "outputId": "19268762-ced4-4583-d696-aa6822e15518"
      },
      "source": [
        "show_random_elements(common_voice_train.remove_columns([\"path\"]), num_examples=20)"
      ],
      "execution_count": null,
      "outputs": [
        {
          "output_type": "display_data",
          "data": {
            "text/html": [
              "<table border=\"1\" class=\"dataframe\">\n",
              "  <thead>\n",
              "    <tr style=\"text-align: right;\">\n",
              "      <th></th>\n",
              "      <th>sentence</th>\n",
              "    </tr>\n",
              "  </thead>\n",
              "  <tbody>\n",
              "    <tr>\n",
              "      <th>0</th>\n",
              "      <td>ਅੱਗੇ ਗੱਲ ਇਕ ਹੋਰ ਕੱਪ ਦੀ ਕਰਦੇ ਹਾਂ</td>\n",
              "    </tr>\n",
              "    <tr>\n",
              "      <th>1</th>\n",
              "      <td>ਅਸੀਂ ਦੋਨੋਂ ਦੋਸਤ ਟੀ ਵੀ ਵੇਖਣ ਲੱਗ ਪਏ</td>\n",
              "    </tr>\n",
              "    <tr>\n",
              "      <th>2</th>\n",
              "      <td>ਕੋਈ ਨਜ਼ਰ ਵੀ ਐਸੀ ਦੇਖੀ ਨਾ</td>\n",
              "    </tr>\n",
              "    <tr>\n",
              "      <th>3</th>\n",
              "      <td>ਤੋਂ ਉਹ ਲਗਾਤਾਰ ਲਿਖ ਰਿਹੈ</td>\n",
              "    </tr>\n",
              "    <tr>\n",
              "      <th>4</th>\n",
              "      <td>ਜਿੰਦੇ ਨੇ ਟੀਕਾ ਨਹੀਂ ਸੀ ਲਵਾਇਆ</td>\n",
              "    </tr>\n",
              "    <tr>\n",
              "      <th>5</th>\n",
              "      <td>ਅਖਿਆ ਮਾਤਾ ਜੀ ਇੱਕ ਝਲਕ ਪੁਆਓ ਮੈਨੂੰ</td>\n",
              "    </tr>\n",
              "    <tr>\n",
              "      <th>6</th>\n",
              "      <td>ਜਹਿਰ ਕੇ ਬਦਲੇ ਦੂ ਮੈਂ ਅੰਮ੍ਰਿਤ ਤੁਝ ਕੋ</td>\n",
              "    </tr>\n",
              "    <tr>\n",
              "      <th>7</th>\n",
              "      <td>ਮੈਨੂੰ ਤਾਂ ਰਸੋਈ ਦੇ ਕੰਮ ਬਾਰੇ</td>\n",
              "    </tr>\n",
              "    <tr>\n",
              "      <th>8</th>\n",
              "      <td>ਕਿਧਰੇ ਮਨੁੱਖੀ ਬੰਬ ਆਪਣਾ ਕਾਰਾ ਕਰ ਰਹੇ ਹਨ</td>\n",
              "    </tr>\n",
              "    <tr>\n",
              "      <th>9</th>\n",
              "      <td>ਪੁਲਾੜ ਵਿੱਚ ਵੀ ਉਡਾਰੀਆਂ ਮਾਰ ਰਹੀਆਂ ਹਨ</td>\n",
              "    </tr>\n",
              "    <tr>\n",
              "      <th>10</th>\n",
              "      <td>ਫੇਰ ਨਵੀਂਆਂ ਰਾਜਨੀਤਕ ਸਮੱਸਿਆਵਾਂ ਸ਼ੁਰੂ ਹੋ ਗਈਆਂ</td>\n",
              "    </tr>\n",
              "    <tr>\n",
              "      <th>11</th>\n",
              "      <td>ਅਰੁਣ ਸ਼ੋਰੀ ਵੀ ਭਾਜਪਾ ਦੇ ਖਿਲਾਫ਼ ਬੋਲਿਆ</td>\n",
              "    </tr>\n",
              "    <tr>\n",
              "      <th>12</th>\n",
              "      <td>ਮੇਰੇ ਲਈ ਉਹ ਬੜੀ ਵਿਲੱਖਣ ਸੀ</td>\n",
              "    </tr>\n",
              "    <tr>\n",
              "      <th>13</th>\n",
              "      <td>ਉਸੇ ਵੇਲੇ ਉਸ ਦੀ ਕੰਪਨੀ ਨੂੰ ਫੋਨ ਕਰੋ</td>\n",
              "    </tr>\n",
              "    <tr>\n",
              "      <th>14</th>\n",
              "      <td>ਭਾਰਤੀ ਕਮਜ਼ੋਰ ਤੇ ਨਿਤਾਣੇ ਹੋ ਗਏ ਸਨ</td>\n",
              "    </tr>\n",
              "    <tr>\n",
              "      <th>15</th>\n",
              "      <td>ਬੰਬਈ ਅੱਜ ਵੀ ਉਸ ਤਰਾ੍ਹਂ ਹੀ ਕਾਇਮ ਹੈ</td>\n",
              "    </tr>\n",
              "    <tr>\n",
              "      <th>16</th>\n",
              "      <td>ਹੁਣ ਮੈਂ ਉਣੱਤਰਵੇਂ ਸਾਲ ਚ ਹਾਂ</td>\n",
              "    </tr>\n",
              "    <tr>\n",
              "      <th>17</th>\n",
              "      <td>ਇਕ ਪਾਸੇ ਦਸਤਾਰਬੰਦੀ ਦਾ ਮੁਕਾਬਲਾ ਹੋ ਰਿਹਾ ਸੀ</td>\n",
              "    </tr>\n",
              "    <tr>\n",
              "      <th>18</th>\n",
              "      <td>ਕਬੱਡੀ ਕੱਪ ਦਾ ਇਹ ਫਾਈਨਲ ਮੈਚ ਸੀ</td>\n",
              "    </tr>\n",
              "    <tr>\n",
              "      <th>19</th>\n",
              "      <td>ਇਸ ਮੌਕੇ ਸਰਚਾਂਦ ਸਿੰਘ ਵੀ ਮੌਜੂਦ ਸਨ</td>\n",
              "    </tr>\n",
              "  </tbody>\n",
              "</table>"
            ],
            "text/plain": [
              "<IPython.core.display.HTML object>"
            ]
          },
          "metadata": {
            "tags": []
          }
        }
      ]
    },
    {
      "cell_type": "markdown",
      "metadata": {
        "id": "fowcOllGNNju"
      },
      "source": [
        "Alright! The transcriptions look fairly clean. Having translated the transcribed sentences (I'm sadly not a native speaker in Turkish), it seems that the language corresponds more to written text than noisy dialogue. This makes sense taking into account that [Common Voice](https://huggingface.co/datasets/common_voice) is a crowd-sourced read speech corpus."
      ]
    },
    {
      "cell_type": "markdown",
      "metadata": {
        "id": "vq7OR50LN49m"
      },
      "source": [
        "We can see that the transcriptions contain some special characters, such as `,.?!;:`. Without a language model, it is much harder to classify speech chunks to such special characters because they don't really correspond to a characteristic sound unit. *E.g.*, the letter `\"s\"` has a more or less clear sound, whereas the special character `\".\"` does not.\n",
        "Also in order to understand the meaning of a speech signal, it is usually not necessary to include special characters in the transcription.\n",
        "\n",
        "In addition, we normalize the text to only have lower case letters and append a word separator token at the end."
      ]
    },
    {
      "cell_type": "code",
      "metadata": {
        "id": "svKzVJ_hQGK6"
      },
      "source": [
        "import re\n",
        "chars_to_ignore_regex = '[\\,\\?\\.\\!\\-\\;\\:\\\"\\“\\%\\‘\\”\\�]'\n",
        "\n",
        "def remove_special_characters(batch):\n",
        "    batch[\"sentence\"] = re.sub(chars_to_ignore_regex, '', batch[\"sentence\"]).lower() + \" \"\n",
        "    return batch"
      ],
      "execution_count": null,
      "outputs": []
    },
    {
      "cell_type": "code",
      "metadata": {
        "colab": {
          "base_uri": "https://localhost:8080/",
          "height": 116,
          "referenced_widgets": [
            "749149f485314076abf5cb89ce30e399",
            "5c145c7a6c264051abbb223e475786cf",
            "c72205cc8eba4ceb9b9c998b428a2c9d",
            "e138671a3653444d8b5c80281cd1a693",
            "21802660f80e418aae8028e4b82afde0",
            "f47fd6edf8fd412eb35c9a6482fc380c",
            "a4c36e1d0dbb429182ea9470de3cdcb0",
            "12cabe6e48bf478b8d2507ddf76eb29e",
            "7118e9c56c22450b9ef2e3d4437ec470",
            "cd8e7e4550104d55890e78383fbf261c",
            "edc8d9371f0d4a46a60c91d46469e9b4",
            "3193971d852e4b8abbdc0f9ab571583e",
            "8d67915cfc314643b7b7f0043de819cd",
            "03c39b53ef4a4d018e4f0011e4048dad",
            "e51820dfcd854f0bbd640a82fba9b9c1",
            "d7ca34e1d69443acb739fec71d600de4"
          ]
        },
        "id": "XIHocAuTQbBR",
        "outputId": "e4e4708f-8b99-4619-8685-4cd7c1bcae3e"
      },
      "source": [
        "common_voice_train = common_voice_train.map(remove_special_characters)\n",
        "common_voice_test = common_voice_test.map(remove_special_characters)"
      ],
      "execution_count": null,
      "outputs": [
        {
          "output_type": "display_data",
          "data": {
            "application/vnd.jupyter.widget-view+json": {
              "model_id": "749149f485314076abf5cb89ce30e399",
              "version_minor": 0,
              "version_major": 2
            },
            "text/plain": [
              "HBox(children=(FloatProgress(value=0.0, max=255.0), HTML(value='')))"
            ]
          },
          "metadata": {
            "tags": []
          }
        },
        {
          "output_type": "stream",
          "text": [
            "\n"
          ],
          "name": "stdout"
        },
        {
          "output_type": "display_data",
          "data": {
            "application/vnd.jupyter.widget-view+json": {
              "model_id": "7118e9c56c22450b9ef2e3d4437ec470",
              "version_minor": 0,
              "version_major": 2
            },
            "text/plain": [
              "HBox(children=(FloatProgress(value=0.0, max=116.0), HTML(value='')))"
            ]
          },
          "metadata": {
            "tags": []
          }
        },
        {
          "output_type": "stream",
          "text": [
            "\n"
          ],
          "name": "stdout"
        }
      ]
    },
    {
      "cell_type": "code",
      "metadata": {
        "colab": {
          "base_uri": "https://localhost:8080/",
          "height": 357
        },
        "id": "RBDRAAYxRE6n",
        "outputId": "ff7dc01c-cad3-4c71-a77d-8e04e53db121"
      },
      "source": [
        "show_random_elements(common_voice_train.remove_columns([\"path\"]))"
      ],
      "execution_count": null,
      "outputs": [
        {
          "output_type": "display_data",
          "data": {
            "text/html": [
              "<table border=\"1\" class=\"dataframe\">\n",
              "  <thead>\n",
              "    <tr style=\"text-align: right;\">\n",
              "      <th></th>\n",
              "      <th>sentence</th>\n",
              "    </tr>\n",
              "  </thead>\n",
              "  <tbody>\n",
              "    <tr>\n",
              "      <th>0</th>\n",
              "      <td>ਹਰ ਪਾਸੇ ਹਰਿਆਲੀ ਹੀ ਹਰਿਆਲੀ ਹੈ</td>\n",
              "    </tr>\n",
              "    <tr>\n",
              "      <th>1</th>\n",
              "      <td>ਇਸ ਤਰ੍ਹਾਂ ਵਕਤ ਠੁਮਕ ਠੁਮਕ ਪੱਬ ਧਰਦਾ ਗਿਆ ਸੀ</td>\n",
              "    </tr>\n",
              "    <tr>\n",
              "      <th>2</th>\n",
              "      <td>ਇਹੀ ਰਾਸ਼ਟਰਪਤੀ ਜ਼ਰਦਾਰੀ ਅਤੇ ਉਨ੍ਹਾਂ ਦਾ ਸੰਦੇਸ਼ ਹੈ</td>\n",
              "    </tr>\n",
              "    <tr>\n",
              "      <th>3</th>\n",
              "      <td>ਕੀ ਬਣੂੰ ਦੁਨੀਆਂ ਦਾ ਸੱਚੇ ਪਾਤਸ਼ਾਹ ਵਾਹਿਗੁਰੂ ਜਾਣੇ</td>\n",
              "    </tr>\n",
              "    <tr>\n",
              "      <th>4</th>\n",
              "      <td>ਭਗਤ ਸਿੰਘ ਰਾਜਗੁਰੂ ਸੁਖਦੇਵ</td>\n",
              "    </tr>\n",
              "    <tr>\n",
              "      <th>5</th>\n",
              "      <td>ਲਾਟੀ ਦੀ ਦੁਕਾਨ ਤੇ ਬੈਠ ਕੇ ਚਾਹ ਪਾਣੀ ਛਕਦੇ</td>\n",
              "    </tr>\n",
              "    <tr>\n",
              "      <th>6</th>\n",
              "      <td>ਸਿਖ਼ਰ ਦੁਪਹਿਰਾਂ ਵਾਂਗ ਸਾਡਾ ਇਹ ਹਾਲ ਸੀ</td>\n",
              "    </tr>\n",
              "    <tr>\n",
              "      <th>7</th>\n",
              "      <td>ਦਿਲ ਦਿਮਾਗ ਚ ਡੂੰਘੀ ਤਰ੍ਹਾਂ ਵਸ ਜਾਂਦੀ ਹੈ</td>\n",
              "    </tr>\n",
              "    <tr>\n",
              "      <th>8</th>\n",
              "      <td>ਪਰ ਤੁਫੈਲ ਮੁਹੰਮਦ ਦਾ ਬੂਹਾ ਬੰਦ ਸੀ</td>\n",
              "    </tr>\n",
              "    <tr>\n",
              "      <th>9</th>\n",
              "      <td>ਇਸ ਨੂੰ ਖਤਮ ਕਰਨ ਲਈ ਸਰਗਰਮ ਵੀ ਹਨ</td>\n",
              "    </tr>\n",
              "  </tbody>\n",
              "</table>"
            ],
            "text/plain": [
              "<IPython.core.display.HTML object>"
            ]
          },
          "metadata": {
            "tags": []
          }
        }
      ]
    },
    {
      "cell_type": "markdown",
      "metadata": {
        "id": "jwfaptH5RJwA"
      },
      "source": [
        "Good! This looks better. We have removed most special characters from transcriptions and normalized them to lower-case only.\n",
        "\n",
        "In CTC, it is common to classify speech chunks into letters, so we will do the same here. \n",
        "Let's extract all distinct letters of the training and test data and build our vocabulary from this set of letters.\n",
        "\n",
        "We write a mapping function that concatenates all transcriptions into one long transcription and then transforms the string into a set of chars. \n",
        "It is important to pass the argument `batched=True` to the `map(...)` function so that the mapping function has access to all transcriptions at once."
      ]
    },
    {
      "cell_type": "code",
      "metadata": {
        "id": "LwCshNbbeRZR"
      },
      "source": [
        "def extract_all_chars(batch):\n",
        "  all_text = \" \".join(batch[\"sentence\"])\n",
        "  vocab = list(set(all_text))\n",
        "  return {\"vocab\": [vocab], \"all_text\": [all_text]}"
      ],
      "execution_count": null,
      "outputs": []
    },
    {
      "cell_type": "code",
      "metadata": {
        "colab": {
          "base_uri": "https://localhost:8080/",
          "height": 116,
          "referenced_widgets": [
            "1cc36a4a58b54ddc92d18d3567a7ab34",
            "2b53189622494bbe81c87a4ae8165868",
            "298031db9bb7409db3c7a40d9fa9549b",
            "4d510831357c42b1902e08e8826ac98b",
            "e0960d90d1f04a0bad2147d41bcf098a",
            "3e41fe65a79f478ca4db390fbbd01b18",
            "ff18a55f207647be83094516c4066d03",
            "6006fc85c7ce43e19dd36ac67489ec82",
            "3876a74bb303461dafc2698210da1593",
            "eb0951ceed904f97ac836f5a95083b53",
            "481cecefbdf040dfb22d50f17071502a",
            "9e30203f9e5840c2b8ff2072ce236e72",
            "c4f5a36d00b54c48a6de7f3a35aa2fae",
            "0ed1e84d3a2c4fce8b2053a57426f48a",
            "95aa861a48544ab99b9881eb4227973b",
            "abfc3693e8a74f63ae626ba698ca927b"
          ]
        },
        "id": "_m6uUjjcfbjH",
        "outputId": "0c7f0696-2efa-4228-8f57-881d9b98eacf"
      },
      "source": [
        "vocab_train = common_voice_train.map(extract_all_chars, batched=True, batch_size=-1, keep_in_memory=True, remove_columns=common_voice_train.column_names)\n",
        "vocab_test = common_voice_test.map(extract_all_chars, batched=True, batch_size=-1, keep_in_memory=True, remove_columns=common_voice_test.column_names)"
      ],
      "execution_count": null,
      "outputs": [
        {
          "output_type": "display_data",
          "data": {
            "application/vnd.jupyter.widget-view+json": {
              "model_id": "1cc36a4a58b54ddc92d18d3567a7ab34",
              "version_minor": 0,
              "version_major": 2
            },
            "text/plain": [
              "HBox(children=(FloatProgress(value=0.0, max=1.0), HTML(value='')))"
            ]
          },
          "metadata": {
            "tags": []
          }
        },
        {
          "output_type": "stream",
          "text": [
            "\n"
          ],
          "name": "stdout"
        },
        {
          "output_type": "display_data",
          "data": {
            "application/vnd.jupyter.widget-view+json": {
              "model_id": "3876a74bb303461dafc2698210da1593",
              "version_minor": 0,
              "version_major": 2
            },
            "text/plain": [
              "HBox(children=(FloatProgress(value=0.0, max=1.0), HTML(value='')))"
            ]
          },
          "metadata": {
            "tags": []
          }
        },
        {
          "output_type": "stream",
          "text": [
            "\n"
          ],
          "name": "stdout"
        }
      ]
    },
    {
      "cell_type": "markdown",
      "metadata": {
        "id": "7oVgE8RZSJNP"
      },
      "source": [
        "Now, we create the union of all distinct letters in the training dataset and test dataset and convert the resulting list into an enumerated dictionary."
      ]
    },
    {
      "cell_type": "code",
      "metadata": {
        "id": "aQfneNsmlJI0"
      },
      "source": [
        "vocab_list = list(set(vocab_train[\"vocab\"][0]) | set(vocab_test[\"vocab\"][0]))"
      ],
      "execution_count": null,
      "outputs": []
    },
    {
      "cell_type": "code",
      "metadata": {
        "colab": {
          "base_uri": "https://localhost:8080/"
        },
        "id": "_0kRndSvqaKk",
        "outputId": "6faff916-6159-44ee-f2ec-d05a96b4b65e"
      },
      "source": [
        "vocab_dict = {v: k for k, v in enumerate(vocab_list)}\n",
        "vocab_dict"
      ],
      "execution_count": null,
      "outputs": [
        {
          "output_type": "execute_result",
          "data": {
            "text/plain": [
              "{' ': 47,\n",
              " 'ਂ': 42,\n",
              " 'ਅ': 16,\n",
              " 'ਆ': 48,\n",
              " 'ਇ': 9,\n",
              " 'ਈ': 2,\n",
              " 'ਉ': 35,\n",
              " 'ਊ': 29,\n",
              " 'ਏ': 50,\n",
              " 'ਐ': 33,\n",
              " 'ਓ': 28,\n",
              " 'ਔ': 5,\n",
              " 'ਕ': 27,\n",
              " 'ਖ': 52,\n",
              " 'ਗ': 6,\n",
              " 'ਘ': 25,\n",
              " 'ਚ': 39,\n",
              " 'ਛ': 19,\n",
              " 'ਜ': 26,\n",
              " 'ਝ': 49,\n",
              " 'ਟ': 45,\n",
              " 'ਠ': 59,\n",
              " 'ਡ': 24,\n",
              " 'ਢ': 13,\n",
              " 'ਣ': 23,\n",
              " 'ਤ': 32,\n",
              " 'ਥ': 60,\n",
              " 'ਦ': 18,\n",
              " 'ਧ': 40,\n",
              " 'ਨ': 8,\n",
              " 'ਪ': 10,\n",
              " 'ਫ': 4,\n",
              " 'ਬ': 56,\n",
              " 'ਭ': 31,\n",
              " 'ਮ': 53,\n",
              " 'ਯ': 34,\n",
              " 'ਰ': 14,\n",
              " 'ਲ': 57,\n",
              " 'ਲ਼': 1,\n",
              " 'ਵ': 55,\n",
              " 'ਸ਼': 0,\n",
              " 'ਸ': 30,\n",
              " 'ਹ': 41,\n",
              " '਼': 51,\n",
              " 'ਾ': 17,\n",
              " 'ਿ': 44,\n",
              " 'ੀ': 15,\n",
              " 'ੁ': 12,\n",
              " 'ੂ': 21,\n",
              " 'ੇ': 11,\n",
              " 'ੈ': 22,\n",
              " 'ੋ': 46,\n",
              " 'ੌ': 58,\n",
              " '੍': 43,\n",
              " 'ਖ਼': 54,\n",
              " 'ਗ਼': 36,\n",
              " 'ਜ਼': 20,\n",
              " 'ੜ': 3,\n",
              " 'ਫ਼': 7,\n",
              " 'ੰ': 38,\n",
              " 'ੱ': 37,\n",
              " '…': 61}"
            ]
          },
          "metadata": {
            "tags": []
          },
          "execution_count": 12
        }
      ]
    },
    {
      "cell_type": "markdown",
      "metadata": {
        "id": "JOSzbvs9SXT1"
      },
      "source": [
        "Cool, we see that all letters of the alphabet occur in the dataset (which is not really surprising) and we also extracted the special characters `\" \"` and `'`. Note that we did not exclude those special characters because: \n",
        "\n",
        "- The model has to learn to predict when a word is finished or else the model prediction would always be a sequence of chars which would make it impossible to separate words from each other.\n",
        "- From the transcriptions above it seems that words that include an apostrophe, such as `maktouf'un` do exist in Turkish, so I decided to keep the apostrophe in the dataset. This might be a wrong assumption though.\n",
        "\n",
        "One should always keep in mind that the data-preprocessing is a very important step before training your model. E.g., we don't want our model to differentiate between `a` and `A` just because we forgot to normalize the data. The difference between `a` and `A` does not depend on the \"sound\" of the letter at all, but more on grammatical rules - *e.g.* use a capitalized letter at the beginning of the sentence. So it is sensible to remove the difference between capitalized and non-capitalized letters so that the model has an easier time learning to transcribe speech. \n",
        "\n",
        "It is always advantageous to get help from a native speaker of the language you would like to transcribe to verify whether the assumptions you made are sensible, *e.g.* I should have made sure that keeping `'`, but removing other special characters is a sensible choice for Turkish. "
      ]
    },
    {
      "cell_type": "markdown",
      "metadata": {
        "id": "b1fBRCn-TRaO"
      },
      "source": [
        "To make it clearer that `\" \"` has its own token class, we give it a more visible character `|`. In addition, we also add an \"unknown\" token so that the model can later deal with characters not encountered in Common Voice's training set. \n",
        "\n",
        "Finally, we also add a padding token that corresponds to CTC's \"*blank token*\". The \"blank token\" is a core component of the CTC algorithm. For more information, please take a look at the \"Alignment\" section [here](https://distill.pub/2017/ctc/)."
      ]
    },
    {
      "cell_type": "code",
      "metadata": {
        "id": "npbIbBoLgaFX"
      },
      "source": [
        "vocab_dict[\"|\"] = vocab_dict[\" \"]\n",
        "del vocab_dict[\" \"]"
      ],
      "execution_count": null,
      "outputs": []
    },
    {
      "cell_type": "code",
      "metadata": {
        "id": "znF0bNunsjbl",
        "colab": {
          "base_uri": "https://localhost:8080/"
        },
        "outputId": "57c12cd7-968a-4e98-e5df-32d5da190e28"
      },
      "source": [
        "vocab_dict[\"[UNK]\"] = len(vocab_dict)\n",
        "vocab_dict[\"[PAD]\"] = len(vocab_dict)\n",
        "len(vocab_dict)"
      ],
      "execution_count": null,
      "outputs": [
        {
          "output_type": "execute_result",
          "data": {
            "text/plain": [
              "64"
            ]
          },
          "metadata": {
            "tags": []
          },
          "execution_count": 14
        }
      ]
    },
    {
      "cell_type": "markdown",
      "metadata": {
        "id": "SFPGfet8U5sL"
      },
      "source": [
        "Cool, now our vocabulary is complete and consists of 39 tokens, which means that the linear layer that we will add on top of the pretrained XLSR-Wav2Vec2 checkpoint will have an output dimension of 39."
      ]
    },
    {
      "cell_type": "markdown",
      "metadata": {
        "id": "1CujRgBNVRaD"
      },
      "source": [
        "Let's now save the vocabulary as a json file."
      ]
    },
    {
      "cell_type": "code",
      "metadata": {
        "id": "ehyUoh9vk191"
      },
      "source": [
        "import json\n",
        "with open('vocab.json', 'w') as vocab_file:\n",
        "    json.dump(vocab_dict, vocab_file)"
      ],
      "execution_count": null,
      "outputs": []
    },
    {
      "cell_type": "markdown",
      "metadata": {
        "id": "SHJDaKlIVVim"
      },
      "source": [
        "In a final step, we use the json file to instantiate an object of the `Wav2Vec2CTCTokenizer` class."
      ]
    },
    {
      "cell_type": "code",
      "metadata": {
        "id": "xriFGEWQkO4M"
      },
      "source": [
        "from transformers import Wav2Vec2CTCTokenizer\n",
        "\n",
        "tokenizer = Wav2Vec2CTCTokenizer(\"./vocab.json\", unk_token=\"[UNK]\", pad_token=\"[PAD]\", word_delimiter_token=\"|\")"
      ],
      "execution_count": null,
      "outputs": []
    },
    {
      "cell_type": "markdown",
      "metadata": {
        "id": "KvL12DrNV4cx"
      },
      "source": [
        "Next, we will create the feature extractor."
      ]
    },
    {
      "cell_type": "markdown",
      "metadata": {
        "id": "mYcIiR2FQ96i"
      },
      "source": [
        "### Create XLSR-Wav2Vec2 Feature Extractor"
      ]
    },
    {
      "cell_type": "markdown",
      "metadata": {
        "id": "Y6mDEyW719rx"
      },
      "source": [
        "Speech is a continuous signal and to be treated by computers, it first has to be discretized, which is usually called **sampling**. The sampling rate hereby plays an important role in that it defines how many data points of the speech signal are measured per second. Therefore, sampling with a higher sampling rate results in a better approximation of the *real* speech signal but also necessitates more values per second.\n",
        "\n",
        "A pretrained checkpoint expects its input data to have been sampled more or less from the same distribution as the data it was trained on. The same speech signals sampled at two different rates have a very different distribution, *e.g.*, doubling the sampling rate results in data points being twice as long. Thus, \n",
        "before fine-tuning a pretrained checkpoint of an ASR model, it is crucial to verify that the sampling rate of the data that was used to pretrain the model matches the sampling rate of the dataset used to fine-tune the model.\n",
        "\n",
        "XLSR-Wav2Vec2 was pretrained on the audio data of [Babel](https://huggingface.co/datasets/librispeech_asr), \n",
        "[Multilingual LibriSpeech (MLS)](https://ai.facebook.com/blog/a-new-open-data-set-for-multilingual-speech-research/), and [Common Voice](https://huggingface.co/datasets/common_voice). Most of those datasets were sampled at 16kHz, so that Common Voice, sampled at 48kHz, has to be downsampled to 16kHz for training. Therefore, we will have to downsample our fine-tuning data to 16kHz in the following.\n",
        "\n"
      ]
    },
    {
      "cell_type": "markdown",
      "metadata": {
        "id": "KuUbPW7oV-B5"
      },
      "source": [
        "A XLSR-Wav2Vec2 feature extractor object requires the following parameters to be instantiated:\n",
        "\n",
        "- `feature_size`: Speech models take a sequence of feature vectors as an input. While the length of this sequence obviously varies, the feature size should not. In the case of Wav2Vec2, the feature size is 1 because the model was trained on the raw speech signal ${}^2$.\n",
        "- `sampling_rate`: The sampling rate at which the model is trained on.\n",
        "- `padding_value`: For batched inference, shorter inputs need to be padded with a specific value\n",
        "- `do_normalize`: Whether the input should be *zero-mean-unit-variance* normalized or not. Usually, speech models perform better when normalizing the input\n",
        "- `return_attention_mask`: Whether the model should make use of an `attention_mask` for batched inference. In general, XLSR-Wav2Vec2 models should **always** make use of the `attention_mask`."
      ]
    },
    {
      "cell_type": "code",
      "metadata": {
        "id": "kAR0-2KLkopp"
      },
      "source": [
        "from transformers import Wav2Vec2FeatureExtractor\n",
        "\n",
        "feature_extractor = Wav2Vec2FeatureExtractor(feature_size=1, sampling_rate=16000, padding_value=0.0, do_normalize=True, return_attention_mask=True)"
      ],
      "execution_count": null,
      "outputs": []
    },
    {
      "cell_type": "markdown",
      "metadata": {
        "id": "qUETetgqYC3W"
      },
      "source": [
        "Great, XLSR-Wav2Vec2's feature extraction pipeline is thereby fully defined!\n",
        "\n",
        "To make the usage of XLSR-Wav2Vec2 as user-friendly as possible, the feature extractor and tokenizer are *wrapped* into a single `Wav2Vec2Processor` class so that one only needs a `model` and `processor` object."
      ]
    },
    {
      "cell_type": "code",
      "metadata": {
        "id": "KYZtoW-tlZgl"
      },
      "source": [
        "from transformers import Wav2Vec2Processor\n",
        "\n",
        "processor = Wav2Vec2Processor(feature_extractor=feature_extractor, tokenizer=tokenizer)"
      ],
      "execution_count": null,
      "outputs": []
    },
    {
      "cell_type": "markdown",
      "metadata": {
        "id": "fTfFDSS0YfMN"
      },
      "source": [
        "If one wants to re-use the just created processor and the fine-tuned model of this notebook, one can mount his/her google drive to the notebook and save all relevant files there. To do so, please uncomment the following lines. \n",
        "\n",
        "We will give the fine-tuned model the name `\"wav2vec2-large-xlsr-turkish-demo\"`."
      ]
    },
    {
      "cell_type": "code",
      "metadata": {
        "id": "yq7Bzuzz4zjQ"
      },
      "source": [
        "# from google.colab import drive\n",
        "# drive.mount('/content/gdrive/')"
      ],
      "execution_count": null,
      "outputs": []
    },
    {
      "cell_type": "code",
      "metadata": {
        "id": "Par9rpypPsml"
      },
      "source": [
        "processor.save_pretrained(\"/content/wav2vec2-large-xlsr-punjabi/checkpoint-4000\")"
      ],
      "execution_count": null,
      "outputs": []
    },
    {
      "cell_type": "markdown",
      "metadata": {
        "id": "DrKnYuvDIoOO"
      },
      "source": [
        "Next, we can prepare the dataset."
      ]
    },
    {
      "cell_type": "markdown",
      "metadata": {
        "id": "YFmShnl7RE35"
      },
      "source": [
        "### Preprocess Data\n",
        "\n",
        "So far, we have not looked at the actual values of the speech signal but just kept the path to its file in the dataset. `XLSR-Wav2Vec2` expects the audio file in the format of a 1-dimensional array, so in the first step, let's load all audio files into the dataset object.\n",
        "\n",
        "Let's first check the serialization format of the downloaded audio files by looking at the first training sample."
      ]
    },
    {
      "cell_type": "code",
      "metadata": {
        "colab": {
          "base_uri": "https://localhost:8080/"
        },
        "id": "TTCS7W6XJ9BG",
        "outputId": "4f4203e5-1c14-4429-89c1-be563b4bf760"
      },
      "source": [
        "common_voice_train[0]"
      ],
      "execution_count": null,
      "outputs": [
        {
          "output_type": "execute_result",
          "data": {
            "text/plain": [
              "{'path': '/root/.cache/huggingface/datasets/downloads/extracted/ae32db89a891657bd6f67cdace1594c34a88e263c1e2c9bbc2a5f9a0db68675b/cv-corpus-6.1-2020-12-11/pa-IN/clips/common_voice_pa-IN_21916812.mp3',\n",
              " 'sentence': 'ਪੁੱਤ ਨੂੰ ਜਹਿਰ ਦੇ ਰਿਹਾ ਸੀ '}"
            ]
          },
          "metadata": {
            "tags": []
          },
          "execution_count": 21
        }
      ]
    },
    {
      "cell_type": "markdown",
      "metadata": {
        "id": "wSBIGEiaKHMn"
      },
      "source": [
        "Alright, the audio file is saved in the `.mp3` format. The `.mp3` format is usually not the easiest format to deal with. We found that the [`torchaudio`](https://pytorch.org/audio/stable/index.html) library works best for reading in `.mp3` data. \n",
        "\n",
        "An audio file usually stores both its values and the sampling rate with which the speech signal was digitalized. We want to store both in the dataset and write a `map(...)` function accordingly."
      ]
    },
    {
      "cell_type": "code",
      "metadata": {
        "id": "al9Luo4LPpwJ"
      },
      "source": [
        "import torchaudio\n",
        "\n",
        "def speech_file_to_array_fn(batch):\n",
        "    speech_array, sampling_rate = torchaudio.load(batch[\"path\"])\n",
        "    batch[\"speech\"] = speech_array[0].numpy()\n",
        "    batch[\"sampling_rate\"] = sampling_rate\n",
        "    batch[\"target_text\"] = batch[\"sentence\"]\n",
        "    return batch"
      ],
      "execution_count": null,
      "outputs": []
    },
    {
      "cell_type": "code",
      "metadata": {
        "colab": {
          "base_uri": "https://localhost:8080/",
          "height": 116,
          "referenced_widgets": [
            "26659223749148d9a0bdee3c5a711196",
            "1c4681d633cf4cea98ad68c561845a5a",
            "92a17c33006a41adb98f69541ca28f1f",
            "b692e687104b40b794676d3eaed1bf5b",
            "63c1debb733146e9b5529e98793541ed",
            "a61a3c1f4be14da1be505f2df9958890",
            "002cdfd55d4a4a5995c8aa6bdd11ab44",
            "17e794cc5f984c51b06b60dc2ac36229",
            "2a9503f293e8435683d5da33716bd257",
            "ae355697f52b40d5b22a8f69566b59b2",
            "c454812d67334e4e9e7f53e5f559b98d",
            "c034b2f47a404ee585ad5d733008d84c",
            "c971d8dbab0a445a98fd1a23126d22d9",
            "5a7253e7b7804732906357f08030f1c8",
            "7315ca7227fc4caaaaac35b15fedb064",
            "673a7e4843bd4de98da43001f423b9af"
          ]
        },
        "id": "afeicUeWlrRL",
        "outputId": "1395d753-da14-4f6f-87b3-10c6ba93d50c"
      },
      "source": [
        "common_voice_train = common_voice_train.map(speech_file_to_array_fn, remove_columns=common_voice_train.column_names)\n",
        "common_voice_test = common_voice_test.map(speech_file_to_array_fn, remove_columns=common_voice_test.column_names)"
      ],
      "execution_count": null,
      "outputs": [
        {
          "output_type": "display_data",
          "data": {
            "application/vnd.jupyter.widget-view+json": {
              "model_id": "26659223749148d9a0bdee3c5a711196",
              "version_minor": 0,
              "version_major": 2
            },
            "text/plain": [
              "HBox(children=(FloatProgress(value=0.0, max=255.0), HTML(value='')))"
            ]
          },
          "metadata": {
            "tags": []
          }
        },
        {
          "output_type": "stream",
          "text": [
            "\n"
          ],
          "name": "stdout"
        },
        {
          "output_type": "display_data",
          "data": {
            "application/vnd.jupyter.widget-view+json": {
              "model_id": "2a9503f293e8435683d5da33716bd257",
              "version_minor": 0,
              "version_major": 2
            },
            "text/plain": [
              "HBox(children=(FloatProgress(value=0.0, max=116.0), HTML(value='')))"
            ]
          },
          "metadata": {
            "tags": []
          }
        },
        {
          "output_type": "stream",
          "text": [
            "\n"
          ],
          "name": "stdout"
        }
      ]
    },
    {
      "cell_type": "markdown",
      "metadata": {
        "id": "ki5sXmzucc9Q"
      },
      "source": [
        "Great, now we've successfully read in all the audio files, but since we know that Common Voice is sampled at 48kHz, we need to resample the audio files to 16kHz. \n",
        "\n",
        "Let's make use of the [`librosa`](https://github.com/librosa/librosa) library to downsample the data."
      ]
    },
    {
      "cell_type": "code",
      "metadata": {
        "id": "6Y6AK3Z-kHwP"
      },
      "source": [
        "import librosa\n",
        "import numpy as np\n",
        "\n",
        "def resample(batch):\n",
        "    batch[\"speech\"] = librosa.resample(np.asarray(batch[\"speech\"]), 48_000, 16_000)\n",
        "    batch[\"sampling_rate\"] = 16_000\n",
        "    return batch"
      ],
      "execution_count": null,
      "outputs": []
    },
    {
      "cell_type": "code",
      "metadata": {
        "colab": {
          "base_uri": "https://localhost:8080/",
          "height": 449,
          "referenced_widgets": [
            "202a0c2754ac4b36a708dbc4ba6fbd47",
            "bcd44767cf7f4161996c0b75e4783e20",
            "ba3e6c3e940540d581746d363ed13e64",
            "447c80c2956245f5a3454f422663f870",
            "03071f1100454cb7ab4bd257e37f0ebd",
            "a62c6f752dff49b4a1e470ad94511647",
            "164f99269f3a4d32b31b55716569d4d7",
            "25c2aea52eb94ad09f154590fadff692",
            "bcdc911bf75f4d44a7a40947a4b2f9cb",
            "e5a1410278cf4933a7b566cab9c9aee7",
            "f0dfe2db7475499387ffd7d75edff955",
            "1b830e1bfb46412a8c6c11084265955b",
            "28b2e59613e648628a921b8762a86910",
            "760d9ca1f2434eddba8f682f02fb967d",
            "9903c0dd7541474dbbeb228b8b73b7e5",
            "c74198192e894cdbaa5e51e6808888ce",
            "f8c8c5d627a347d78548f56605f26c72",
            "6c30925c907d47c290eaf2c16ac8e205",
            "ac3e9d4c248b4343b5e3c419a6e897b0",
            "fb9f537b058845479f1f1594168e0bbf",
            "c4cae9af98494a0492650f2140808672",
            "602a3a1b34da414b94704d536480df76",
            "d10532e8d15a49c5be42019f249789ed",
            "e8e1790405604195b9e45c4c62da03da",
            "522ab8e96ef248bcaaf75d37fa90aad3",
            "7993923de5ef420c855764cbb3bfc971",
            "52f3aa61ea974695bebb9c9f5827f20a",
            "60b32f15de3a40d78d2e985e1c1ee328",
            "473c3be9e5c34b5a91b8e96cad245f3f",
            "07492e1d31e24437b5cc256290935cdf",
            "d4fd7f5d1238447b94132ee3aa3d1bbe",
            "477bf8fb343d4bd09277cfa1b7e80787",
            "45c87c136fd14b08b1c57c8a9646fb08",
            "c4a463dc2deb453a8c6ee8ce9045fa92",
            "03a45330455a4620972f9187287e56b5",
            "d5dc2d9a1c3b4fd1b3d9fd25d314b22e",
            "d0a39e31a9484fbda72820582a6ce048",
            "c2fce861505a4a6b8be7273bff9657e4",
            "dcdf28dc9c854de9a6b9af64d345df16",
            "8bb810b1431643a09b68dd827d0fcff1",
            "072b42e0b9944c3ba8ecb8ace860a967",
            "a8a927e1b26f4c31856517d28f415ff5",
            "4c3675a694fd4ee093ba1368e12de21c",
            "e478a496fded42a2a14ca7d54469bd2d",
            "dcb3cc0e6bc34aa1bb42c1aa0c2f98e4",
            "260dca96b11249a1a404894b354ae15f",
            "b920af926e7347fa9f4a27743270021f",
            "0931b268a7ae4f09b64523cf3c7a3d0a",
            "c68d7505bf734de2a97f77d1f276993a",
            "8e1f290716b148a59cea1332105ef14c",
            "0020db4f251644a8968470030ac08394",
            "783a1f3ed90941378bf3d4fca4abf17c",
            "dff1e34fc660471aa063d3da204e5f90",
            "fbaf3c9acaba461eb3ab466e48b54e28",
            "87b6bd925a2049d096de3457d03019a0",
            "fcba53b704c4477db6a27aded8fa5b95",
            "09906cade82d4d8eb4e6b363e606ef38",
            "62bdfa3c977a4f9e89481b4f9cd1f523",
            "7cb52e069a8042549ef4e56a970d5424",
            "a9c0327f15114d8da263577d036137fa",
            "9549004cf5664e51b5a71d64b73ca65c",
            "9ffcef51bdbb4906a02a39f132a9b201",
            "48599989fe4e4ff8bc7541148e93f836",
            "dfc66a7106b24884b75707dbebec6c94"
          ]
        },
        "id": "Ws8DyIL_kjwT",
        "outputId": "c40321ec-9495-418a-b196-9611bcea51e0"
      },
      "source": [
        "common_voice_train = common_voice_train.map(resample, num_proc=4)\n",
        "common_voice_test = common_voice_test.map(resample, num_proc=4)"
      ],
      "execution_count": null,
      "outputs": [
        {
          "output_type": "stream",
          "text": [
            "    "
          ],
          "name": "stdout"
        },
        {
          "output_type": "display_data",
          "data": {
            "application/vnd.jupyter.widget-view+json": {
              "model_id": "202a0c2754ac4b36a708dbc4ba6fbd47",
              "version_minor": 0,
              "version_major": 2
            },
            "text/plain": [
              "HBox(children=(FloatProgress(value=0.0, description='#1', max=64.0, style=ProgressStyle(description_width='ini…"
            ]
          },
          "metadata": {
            "tags": []
          }
        },
        {
          "output_type": "display_data",
          "data": {
            "application/vnd.jupyter.widget-view+json": {
              "model_id": "bcdc911bf75f4d44a7a40947a4b2f9cb",
              "version_minor": 0,
              "version_major": 2
            },
            "text/plain": [
              "HBox(children=(FloatProgress(value=0.0, description='#0', max=64.0, style=ProgressStyle(description_width='ini…"
            ]
          },
          "metadata": {
            "tags": []
          }
        },
        {
          "output_type": "display_data",
          "data": {
            "application/vnd.jupyter.widget-view+json": {
              "model_id": "f8c8c5d627a347d78548f56605f26c72",
              "version_minor": 0,
              "version_major": 2
            },
            "text/plain": [
              "HBox(children=(FloatProgress(value=0.0, description='#2', max=64.0, style=ProgressStyle(description_width='ini…"
            ]
          },
          "metadata": {
            "tags": []
          }
        },
        {
          "output_type": "display_data",
          "data": {
            "application/vnd.jupyter.widget-view+json": {
              "model_id": "522ab8e96ef248bcaaf75d37fa90aad3",
              "version_minor": 0,
              "version_major": 2
            },
            "text/plain": [
              "HBox(children=(FloatProgress(value=0.0, description='#3', max=63.0, style=ProgressStyle(description_width='ini…"
            ]
          },
          "metadata": {
            "tags": []
          }
        },
        {
          "output_type": "stream",
          "text": [
            "\n",
            "\n",
            "\n",
            "\n",
            "    "
          ],
          "name": "stdout"
        },
        {
          "output_type": "display_data",
          "data": {
            "application/vnd.jupyter.widget-view+json": {
              "model_id": "45c87c136fd14b08b1c57c8a9646fb08",
              "version_minor": 0,
              "version_major": 2
            },
            "text/plain": [
              "HBox(children=(FloatProgress(value=0.0, description='#0', max=29.0, style=ProgressStyle(description_width='ini…"
            ]
          },
          "metadata": {
            "tags": []
          }
        },
        {
          "output_type": "display_data",
          "data": {
            "application/vnd.jupyter.widget-view+json": {
              "model_id": "072b42e0b9944c3ba8ecb8ace860a967",
              "version_minor": 0,
              "version_major": 2
            },
            "text/plain": [
              "HBox(children=(FloatProgress(value=0.0, description='#1', max=29.0, style=ProgressStyle(description_width='ini…"
            ]
          },
          "metadata": {
            "tags": []
          }
        },
        {
          "output_type": "display_data",
          "data": {
            "application/vnd.jupyter.widget-view+json": {
              "model_id": "c68d7505bf734de2a97f77d1f276993a",
              "version_minor": 0,
              "version_major": 2
            },
            "text/plain": [
              "HBox(children=(FloatProgress(value=0.0, description='#2', max=29.0, style=ProgressStyle(description_width='ini…"
            ]
          },
          "metadata": {
            "tags": []
          }
        },
        {
          "output_type": "display_data",
          "data": {
            "application/vnd.jupyter.widget-view+json": {
              "model_id": "09906cade82d4d8eb4e6b363e606ef38",
              "version_minor": 0,
              "version_major": 2
            },
            "text/plain": [
              "HBox(children=(FloatProgress(value=0.0, description='#3', max=29.0, style=ProgressStyle(description_width='ini…"
            ]
          },
          "metadata": {
            "tags": []
          }
        },
        {
          "output_type": "stream",
          "text": [
            "\n",
            "\n",
            "\n",
            "\n"
          ],
          "name": "stdout"
        }
      ]
    },
    {
      "cell_type": "markdown",
      "metadata": {
        "id": "SOckzFd4Mbzq"
      },
      "source": [
        "This seemed to have worked! Let's listen to a couple of audio files to better understand the dataset and verify that the audio was correctly loaded. \n",
        "\n",
        "**Note**: *You can click the following cell a couple of times to listen to different speech samples.*"
      ]
    },
    {
      "cell_type": "code",
      "metadata": {
        "colab": {
          "base_uri": "https://localhost:8080/",
          "height": 75
        },
        "id": "dueM6U7Ev0OA",
        "outputId": "b7413190-ed1c-47d1-8ebc-30c14ab242fa"
      },
      "source": [
        "import IPython.display as ipd\n",
        "import numpy as np\n",
        "import random\n",
        "\n",
        "rand_int = random.randint(0, len(common_voice_train)-1)\n",
        "\n",
        "ipd.Audio(data=np.asarray(common_voice_train[rand_int][\"speech\"]), autoplay=True, rate=16000)"
      ],
      "execution_count": null,
      "outputs": [
        {
          "output_type": "execute_result",
          "data": {
            "text/html": [
              "\n",
              "                <audio controls=\"controls\" autoplay=\"autoplay\">\n",
              "                    <source src=\"data:audio/wav;base64,UklGRiTLAQBXQVZFZm10IBAAAAABAAEAgD4AAAB9AAACABAAZGF0YQDLAQAAAAAAAAAAAAAAAAAAAAAAAAAAAAAAAAAAAAAAAAAAAAAAAAAAAAAAAAAAAAAAAAAAAAAAAAAAAAAAAAAAAAAAAAAAAAAAAAAAAAAAAAAAAAAAAAAAAAAAAAAAAAAAAAAAAAAAAAAAAAAAAAAAAAAAAAAAAAAAAAAAAAAAAAAAAAAAAAAAAAAAAAAAAAAAAAAAAAAAAAAAAAAAAAAAAAAAAAAAAAAAAAAAAAAAAAAAAAAAAAAAAAAAAAAAAAAAAAAAAAAAAAAAAAAAAAAAAAAAAAAAAAAAAAAAAAAAAAAAAAAAAAAAAAAAAAAAAAAAAAAAAAAAAAAAAAAAAAAAAAAAAAAAAAAAAAAAAAAAAAAAAAAAAAAAAAAAAAAAAAAAAAAAAAAAAAAAAAAAAAAAAAAAAAAAAAAAAAAAAAAAAAAAAAAAAAAAAAAAAAAAAAAAAAAAAAAAAAAAAAAAAAAAAAAAAAAAAAAAAAAAAAAAAAAAAAAAAAAAAAAAAAAAAAAAAAAAAAAAAAAAAAAAAAAAAAAAAAAAAAAAAAAAAAAAAAAAAAAAAAAAAAAAAAAAAAAAAAAAAAAAAAAAAAAAAAAAAAAAAAAAAAAAAAAAAAAAAAAAAAAAAAAAAAAAAAAAAAAAAAAAAAAAAAAAAAAAAAAAAAAAAAAAAAAAAAAAAAAAAAAAAAAAAAAAAAAAAAAAAAAAAAAAAAAAAAAAAAAAAAAAAAAAAAAAAAAAAAAAAAAAAAAAAAAAAAAAAAAAAAAAAAAAAAAAAAAAAAAAAAAAAAAAAAAAAAAAAAAAAAAAAAAAAAAAAAAAAAAAAAAAAAAAAAAAAAAAAAAAAAAAAAAAAAAAAAAAAAAAAAAAAAAAAAAAAAAAAAAAAAAAAAAAAAAAAAAAAAAAAAAAAAAAAAAAAAAAAAAAAAAAAAAAAAAAAAAAAAAAAAAAAAAAAAAAAAAAAAAAAAAAAAAAAAAAAAAAAAAAAAAAAAAAAAAAAAAAAAAAAAAAAAAAAAAAAAAAAAAAAAAAAAAAAAAAAAAAAAAAAAAAAAAAAAAAAAAAAAAAAAAAAAAAAAEAAAAAAAAAAAAAAAAAAAAAAAAAAAAAAAAA//8AAAAAAAD//wAAAAD+/wAA/v///wEAAAAAAAIAAQD//wEAAAD///7/AAAAAP7/AgABAAAAAQAEAP//AAAAAPz/AAD9//7///8AAAAA/f////7/AAD9//v////7////AAD6//z/AAAEAAEAAAD8//7///8AAAAA/P8AABYAFQAIAA4ABwALAAgA8//0/wEACwALAP3/DQAIAAwAEwAHAAsADQAgABwAEgAKABsAEAD//w8AAwALABUAGQAaABgAHQAeABkABAAPAAsACQAcAAcA+f/+/wYAAwDr/+v//P/0/+7/9P/+//H/9v8GAAMA/P8DAPz/8v8EAAcAAgDq/9v/4//h/+b/7f/2//3/+f/4/+3/9P/v/+//+/8MABUABAASABUADwAIAAAA+f/X/9//+P/u//7/EwAFAP7/BwASABYAAAD+/woACQAgACgAHwAeAB8AIAASABQAGQAVABsAIwAdACAAFgAFAPT/9f8YAAMADQAXABIADAAOACAADAAGAPX/BgAOAA0ACwAOAAcA/v8MAAAABAD5/wQAHwAnABgAAAACAPv/8//6/wMADgAYAB4AFgAYABEAEAAxABYAAAAMAPz/DgAVAPz//P8DAA8ACgALAAAABgAFAPH/8v/e/+z/5//Z/+b/6P/v//z/+v8DAAkABAD8//b/AwD7/wUAFQARABcACwAQAAcA//8QAAEAAgD9//L/+v/7//z/+P/x/+j/8f/y/wcAEwAPABYACwACAP7/AADt/+b/6f/1/wkADwAkAB4AFAAVABUAEgAEAP7//f8FAAAABQD5/+n/AAAJAP3/AQAVAAoA+v/+/wkAAQD2//L/AAD0//T/FwAVABcAHwAQAAUA8v/v//H/+P/+//v/FQAMABYACgD6/wkABwAUAPz/+f/+//v/AgAFAP//8v/i/+X//f8HAP//BgAMAAMADwAEAA0A/f/3/wIA9f8HAAoABgAUABQABQAaABUADgAYABMAIgAUAAsAAQDy//T/7f/1/w0AHgAUAB8AGwAbACsA/P/2//3/5//2/wUABQAUABYAHQAkAA4ACwAHAA4ADAAPABQADwAMAA4ABgD6/wQA///5//n/DAAFAAoADwD0//D/AAAEAPX/8//Z//b/DwDv/wQACAAQABIA+f8FAP7/5f/x//v/5v/+/wUACwAUAA0ADQAFAPn/AQACAPT/EQDv////CwD2//T/7P8AABEADAD2//n/8//2/woAEAAGAOf/5f8CAAAA+/8CAAYAAAAAAPr/AgD+//j/AAAUABAABAANABEAGwAHAAUADwAGAPn/GwAbABsAGwD8/+3//v8UAAwADgAQABUACgAAAPL/+P8NAPj/AAAAAOn/CAAaAA8A/v8AAAYADQDy//3/GAD//wAA9f/7/wIA+//9/wsABAAGAAkA9/8BABAAAwAOAA0A9v/8/+r/+v8LAAAA9v8DAAwAAAAKAPj/7v8BABcADAAJACAACAD5/wQA//8JACgAFgAAABEABAD/////9P/5//X/7//9/wQA/P////j/BQAUABcAEQAPAAUA//8NABIA+v/o//b/9f/8//v/9//v/+3/+P8CAOz/1P/T/8v/9v8CAPX/BQAAAPX//f8IAAMACQD2/+j////l/+T/AgAFABAACQANAAMA8/8GAPz/CQAeABEAAwD+/wAABgABAAMA/P/o/+//8v/3/+////8SAPf/BwAeAAwALQAfAAwAHQD9/wsAHgAKABgAFQAIABMAFgAgABwAHwAFAPb/EAAaACUAIQAnADYAIgAZABAABgAKAAIA/f8FABwACgALAAcAAgAEAP7/BgAKAAMADgAMAAYAFgD8//v/BQD6/+7/9P/v//3/+//9/wYA7//t//D/9f/v/+b/3f/u/+z/1f/l/97/0//l/+T/5P/m/97/8//8/+n/7//c/+j/4v/q//P/z//a/9r/3v/i/+X/5P/s/+//3//b/+b/9v/4/+//+P/3/+f/7P/c/+L/8P/a/8//0P/e/9//9f/s/+X/7//f/+D/9P/9/+7/DQANAA8ACgD7/x0AKAAhAAcACAAgABQAAgAbAB0AGQAZAP3/IAAtAA8AEQAcACIAJQAaAAUAEwAdACQAEwARACMADgATABEAHQAKAAsAIQAOACgAJQAhADMAOAA6AC8AHwAlACAAAAANABQACQANAPH/AAAPABYAFgAeADcAKQA4ACoAJgAgABcAHwAKAAMAAQAFAP3/6//p//b////2////+P/0/+D/8//3/+b/AQD5/+v/2//f/9//3P/R/97/7P/0//3//P8CAPH/8v/8/+v/5P/g/8D/z//x/93/5//w//H/AwDu/9b/y//d/+j/4//l//H/7f/h/+T/8v/s/9z/+v/s/+//AwD3//r/CwAQAA4ACwAAAAQACAAKAPz/AAAPABQAHgAkADAAHwAbABEACAAXAPb/DAAkAAkACQALACYAKgATABAABgD4//T/BgAKAAIADwALABEAFgAXAB8AIgArAB0AKwAlAAsAAwANABAAHgAoABAALAApACEAJAAmACsAHQAkACAAEwAhABcAGgAvACIAHAACAA4AEgD5//T//f8AAPD/BgATABIAGgAOAAIABgAEAP///v/t//L/9f/v//z//v/2//v////b/9b/7//0//z/6//r//L/2//m/+v/7P/1/+j/5//o/+3/4P/t//D/7P/1/9L/4P/q/+P/6v/2//r/5//s//v/6f/c//D/8f/O/9n/8//x//7/AAD///f/+//6//X/9v/l/+D/3P/f/93/4v/x//r//f8cAB0ACAAnAPn/7f8AAPj/AQAKAA4AEQAOAAAAAQDi/+//AQDx/wAA/v/z/wgAAAD7/wYA9f/q//r/7P/p////EwATABYAMAAFAO7///8TAA0ACQAcABgA/f/+/wEA9/8AAPX/+P8NAAQA9v/z//7/DAAIAAgABgD5//7/AAAEAA8A/v8DABQAEwADAAQA+/8BAA0AFwAbABEAFAD3/+7/7P/+//L/7P8AAPT/8f/9/xEADgAOAPj/+f8AAOX/BAAMAPv/CAAEAPn/+P8LACAAIQAGAPn/DQAJAAMABwASAAoA+v/p/+z/BAD6//L/BAAMAAoACgD+//n/9v/+//T/AQAKAPL/AQAWAA4AEAAWABIAMgA6ADAADQALAA8A/P8QAAkACAD8/wAAEgAAAAQA9/8EAAAA7//s/+n/9//n/+7/AQD1//b/BwAFABEAEAAVACMAHwAJAAAAAQAAAP3//P8ZABsACQAIABAACgAPAP///v/+/wUAFwD//wUABQD6////BgAAAAAADwAFAPv/7v/q/wgA///u//b/AAAGAOr/9v8gABAA7/8CABgA/P/7/xMACgATABIADgAQAO7/7P/v//3//P///wwAAAAEAAAA6f/q//3//P8DAP7/AwAEAPL/9//2/+//AAAMAAIABwAUABYADAAXAAcA6P/1//H/7v/t//f/DwAcABkA+f/5//T/7//0/xEACgAGAAIA8P/5/+z/8f/p//j/9/8DAA0ABgARAAkAEwD//+r/5//m//H/AgAUAAYAAAD7//n//f/0//T/2//f//j/DAAMAPP/+f/o//D/+v/x//v/+v/z////AAAAAP//AwARAPr/+f8MABsAGwAHAAAAAAD+//P/7v/3/wYAHgAOAPf/8v/u/wkADQAAAOz/3v/t/wAABgD3//b/9//7/wcAFQANABcABQD5/woACAATABQAFQAKAAwA6v/a/+L/3//0//b/6P/n//T/6f/1/wsA/P///woA/v///xgAHwAKABoADgDz/+P/8/8OAAYABAD+/+3/8//x/+7/+P/U/9X/5v/4/wgA/f8CAAgAFAAiAAgA9P/o/+n//f/t/+X/7/8EAAUAAgANAAIADgAHAAsAFgAOACIAKAAfAAwA+//3//r/BgD8/wUADgD5//T//P8CAO//5v/3//7/+v8VABoAEQAGAPv/8//k/+3/5/8BAAUA//////z/CAD//wAADAADAAYAAQD2/wwA+P/4////CAAMAAEAAADx/wQAEQAKABoAEQD4/xMAAwAPACcAHQArAB8AHAAWAAMACgAIAPz/+P/6//z/+f8KAAsAGwAqAA8ADwD+//r/EAANABYAIwA0ADYALQAlABMAFgAcAP3/BgAMAA0ACQD9//v/+/8NAPr/6//t/+v/7f/0/+j/4v/h//v/AwD+/wQA+//5//v/BQACABIABgD8/wkA9f/m/9z/5v/0/+j/8v8AAPH/7v/z//P/4//Z/+L/6//r/+T/7//m/+f/7//r/87/y//i/+P/7f/w/woAHgASABYAGwAUABEADQAHAAMABQADAPT/5f/M/93/1v/b/+7/8f8NAAEAAQAPABwAMgArAB4AJwAOAAoADwAZABgABAAPAAkAAwD7/+b/9f/t/9T/5v/t//D/8v/8/wUA/f/+/wQA/f/v/+X/5P/w//D/7v//////CAD5//z/EgACAAcABAD3/wUADAADABQAGAAkACgAFwAWACQAKgAPAP//CQAFAAsACAANAC8AGgANABkAFAAiAB0ABgAPAAkAAAD//wUA/f8FAAsAFgAWAAMAGgAGAPT/8//y/9b/yf/z//n/9v8JAAYAEQDy/+n/6v/m//P/4//y/+n/BAD8//j/CQAAAP7/5v/s/+3/3f/U/9X/5P/8/wUACwAPABsAGwAPABUAHQAbAA0AAAD5//n/9v/7//7/CAD1//T/AgD2//3//v8BAPL/5f/j/9n/7v/9//L/7v/w/+z//v/4/+b/4//o//v/CQAUACgALwAVABIA+v/r/+f/5v/r/+L/4v/g/+X/7//h/97/4//R//T/6//u/+7/5v8HAAoAEwAcABcABQAUACEABQAGAPv/8P8QAAoACgAIABAAKAAHAO7/7P/q/9j/4v/5/+7//P8NAP7/9//4//D/7v/b/9z/4P/L/9D/2v/m//D//f///wcAJQARAAwACgAIAA4ABwAnABQACgAWABsAIgAVAC0AHQALABYADgAeACUAGwAdACMAGgAnACUAJgA0AB4AJAAYAA4ADgAaAAUA9P8TAB4AGgAbACQAHgAfAA4A+/8BAPz//P8DAPP/+f/+/+f/yv/T/9n/3f/n/93/9f/v/+j/2f/W/wIA7P/t/+P/2f/z/+L/3v/R/+P/8f/8/wEACAAnABsAGgASABEAEwAPABoAGQAQABAAGQAEAP//AgDZ/+z/BQD6//X//v8AAO//9//k/+//8f/v/wcAEQAZACMAFAAbACMAGAAXAAoA+v8HABMA4f/m/9z/z//j/93/8P/t/+3/7f/d/9r/6P/8/97/0//T/+n//v/n/+r/1P/N/+L/6P/1/wsAFwD8//v/GgARAAgAAAAGAAMACAD+/wAAEAAMACMACQAAAAkAEwD///T/CgDz/+f/7v/1/+D/4v/5//X/6f/u/+3/7P/z/+H/zP/u//n/AAAHAAgACAD5/w0ABAAWACcAJQACAAwAJQAIAAsAAwAOAAQA9/8IABQABAAHAA0ABQA1ACkABAAKAA4ABwD8/wgA+v/+//3/3v/s//r/BAAMAAYAEAATAAcACwAVAA8A9v/1/wMAAwAAAAIA+P/z//f/2//h//v/+f/w/9v/zf/p/9//2f/o/+//AwABAA4AFAAPAAsACgAAAAUAEAAPACIAHgAYAAEA5v/6////BgAdABIAFwAFAPv/GwAXAA4AAgD5/wAA7//v//H/2v/r//T/3f/g/wAADQAAAAcAJQAPAPf//v/h/+T//P/v/+b/+P////f/3v/Q/+z/8f/j//f/9//q/wAA9P/p//r/7P/c/+P/3//e/+P/2//L/7z/wv/I/+z/8//t//v/5//p/+z/wf/K/+r/9/8QAAwAHQAQAAMAAQAEAAoAFAArAB8AEwAiACwAHgA3AC8AHQAeABMAGwArAAkADgAUAOT/7f/0//7/+P8FAA4A///9/+z/5//t/wIADwAKAAUAGgAmAAsA+/8FAAMAAAAMABEAMgAwACoAJAAKABAAGgAXABMAGgDr/+L/6P/x/wgA/P8DAP//DQAAAPj/DwAOAPb/+f/x//T/DAD4/wEA/P/x/wwAAAD7/w8A/P/y//f/DgAgAA0AAgACAAQA/f/3//T/CAD9/+T/zP/F//P/6v/w/wYA/f8DAPX/BwAdAAMA6//3/wQADAALAOv/FgApABEAGAALAAQAAQD2////AADs/+v/5f/+//r/7v8CAAsAEAD8/+b/8P8HAAkABgAPABMABQD4/xEACwDq/+L/yv/l//X/3f/n//H/AAAFAOr/1P/9/wkA8v/6//P/8//q/+j/+//8/wAABgDw/+3/+P/j/+H/6f/+/wEA8P/+//7/+//2//L/BwD9//7/CgABAP3/8//p//f/DQAFABUABQD7/w4A9v8MABYAGwAQAOX/9v8IAAIA/P8AAP3//P/5/wMADQAGAAkA/f/3//z/DgD9/+3/8v/k/+D/6f8HAAcAAAACABkAHgASAC0AKwALAAAA+P/s/+//AwD7/wAA7//a/wAA2P/q/w4A5f/j/+j/2//q/+P/0//b/+L/AAABAPn/BwAgAAMA9f8NACQAIQAVACIAHAAlAB4AJQA2ACgAIgAmABgAQQBEAB8AMAAhABkAGwAGAAAAGwAVAAsAAwABAPf/2v/n/+f/3v/d/87/0v/g/8D/uf/O/+b/5//R/8z/0P/0/+3/7P/2/+v/BAALAAoAAAD6//T/8P8AAPn/AADz/+7//f/v//L/9//+/wYA+f/n//X//P/u/+v/8v/1//v/7v/j//T/8//r//b/9P/d//P/EgAHABYAEAAFABYAEAAVAP///v8LABMAGwAgADQAHwAXAA0ACgAeAA4A8P/x//X/3//M/8r/4//t/9b/5P/4/+X/8//g/83/5v/d/9r/4v/j//D/+v/l//v/AgD8/wMAAAAbACMAIAAwADkAHAADAAsAHgAeABYAFgANABEAHQAlABoAGAAeAA4AAgAHAPz/8v/f/8//4P/l//f/+/8NAA8A/P8XABgAIQAfAPn/+v/y/+7/BAD7//L/6P/h/9j/5//8/wcACwDq//P/BAAOABsAEAAFABQAEwAKAAoAFwAdABUABwAGACoAIAAkAC4AEAAQAB8ACwAdACMAGAATABQAIgAbABYABAAZACUAFgAVAAoACQD3/+r/6P/0/w8A9//j/+P/4//o/8v/w//G/8H/1P/Z/97/0//M/8v/xv/e/9X/zP/Q/9j/5P/a/87/6P/s//P/+P/r//7/DAANAPj/6f/1/xAADgAVAAsADQAOAAgA/P8MACsAJQAiAAoAFwAaACMALAAUAAMAAAABAA8AJAAoABwAIQAXAAgADwAGABAAIQAUAP//FAAXAA4ADAACABQAEQAIAP7//f8DAP//5v/V/+3/5v/U/9n/0v/C/83/z//h//X/9v8FAPv/AgAGAPL/4v/g/+L/9v/o/+v//P/3/wAADQAZABsAOAA3ACQAGgAJAAEAFwASAA0AFwAYAAkACAAAAPj//f/0//z/9v8BAPT/8//q//X/BgDy//L/+f/8//D/9//8/wEACgD2/+b/9f/0/+//7f/o/+3///8gABMABQAiABAAJwAaAAkARgAzADQAJQAaACcAIAAhACYALQASAB4AIAAgACcAGwAlAAAA//8GAPr/BwDk/+z/4v/a/+n/8f/e/8n/zP/M/9j/xv/N/8//zP/b/+X/2//1/9z/yf/h/8b/0P/y/+//EAARAPz/BQDr//7/BgD///7/FAAtADsAKgAjADgANAAxABsAEwAmABcA+P/6//D/FAANAOT/9P/v/+3/7f/s/+v/9v/9////BQARABsA8//x/wkA6v/Z/8r/3v8CAO3/4//p//f/AAD2/9j/zv/V/9f/1//f/+L/5f/f/9r/+v8OAP//6v/p//H/9v/4/wwADQAKAAEAAAAOABAABgD4//j/CgAgACIAHwAkAAMA/f8IAPj/BwAIAP7/5v/y//P//P8EAAAACQAAAO7/5P/v//T////0/+P/4f8BAPn/5v/m/9H/2//u//j/DQAYABAAFAAJAAIABwD+//3/AgD5//r/BgAWAB8A9f/9/wcA/v8PAOr/7v/z//j/AAAAABoAJgAqABQAAgAAAAIABQAMAB0AHwAaABwAFgAaAA0AGgAVAA0AHgAdABcABwAOAPz//v8KAAkABwD2/+P/4v/x//3/AADw/+X/2v/j/+3/5P/e/+//9P/y/wkAGQAqAB8ACwAEAAEADAATAA8A//8XACkALgA1ABsAJgARAAsADAAUABsAEQAmABAACgAOAAwAEgALAP7/BAD9//7/8//k//X/6//3/wQA7//l/9//5P/k/9X/9v8KAP7////c/8X/yf/Z/+X/2P/c//T/5v/m/+j/xv/k/9j/8/8DAO7//P/3/wMA+P8GABEAFQAsABgABwDz//r/EAAQABYA/v8FAAcAJAATAOb/7f/Z/+3/8f8EAOT/3f/k//D/EADt//X/6f/s//D/2f/c//P/EQAAAP7//P/l/+r/7v/6//3/DAD6/+H/7f/d/9H/2//0//j///8EAPv/6P/s//v//P/4/wcAGAAaABUADQAMAAoAJgAgABYAGwAMAAAA+/8AAPf/AAABABUACwD+/w0ABAAVAP3/AAAKAAEAAwD3//v/9/8DAAoA9v/k//L/9v/Y/+3/7f/k//3/6v/j/9f/0f/W/+b/7f/e/+z/6f/k/+H/z//a/+j///8bAPv/9v/0/9//5//q/wQAHQAGAA4ADgD9/wUACAARAAcAAAADAPP/9P/q//L/EAAaABYAFgAUABMAIwAQABoAKQApABUADAAEAAUAFgADABYAEgD9/+r/+v8EAOv/9//v/+f/7P/M/9f/6P/r//j//v8ZACQAGQAIAPz/6f/9//H/BgANANv/+//4//r/AADw//z/EgAQABMAHgAkAB0ADgAGAAYAAgDu//b/AAAAAA8ACQAAAAYA+f/v//D//f/+////HwANAAMA/f/o/9v/4P/4/wAAFAAOAAIABAD5/+3/6//z/xYAFwAKAPX/6v/7//f/6P/3/wMABwAcAPj/4P/s//D/9v/u/+P/7v/k/+r/1//P/9P/8/8nACEAFwD9/wsA9f/u//f/DQAcACUAEgAFAB8A+v8AAPP/AwAUAAMACAAJAAAABQDz//X/GgACAPz/8v/w//v/9f8BAPb/1v/g/+v/8v/7/+f/6f/l/9v/2f/t////DgAhABQAEgADACAAIwAKABEABQAHAPD/5v/k/+j/BADr/97/5f/V/9r/8/8gAAYA+//8//P//P/+/woA/f8SAAQAAAAUAP7/AQAAAAgAEQAJABIABQD9/wEA+P///wEAAAAUAAsABAAHAO7/AgARAAsAEgACAPj/5f/g/9H/xf/5//T/8P/z//D/AQDp//z/9P/0//X/8/8LAAQAAwANACcAKgAYAA0ADgASAPn//P8XABMAKQAYAA0AAwDg/+j/1//s/wwABgAEAAgABQDy/+b/4//5/+//7P/6/+P/6f/d/9n/AwAAAAYABwD1//n/8P/y/w0AFgAVAAkA7//p/9f/7v/5/xIAKgAHAPv/8v/a/8D/0//h//z/BQD1//n/6f/b/+H//f/7/+b/8//3/+z/5v/z/xIADwAAAPn/+f8BAPP/7v8JACIADQAAAAAA8f/n//r/CwASAAoABQADAOf/9/8BABAAIAAZABYAEwD7/+z///8MAA0A/f/6/wkADAAZACIAHQAyADQAMQAoAB4AIQARABcALwAoABgACwAFAAQA9P/z/+7/+v/0//D/8//j/+//4f/2//n/5//u/+L/4v/y//f//v/6//D////2//H/DQALAAEAEwAjACkAIgA4AB8AFAAmABwAKQAuACsAHAALAAYAAgADABkAEQABAAsACQADAAsAEgD+////CQD3//z/AgD//wcAEwAbACEAHwAZABcAGAAbACAAHQAMAAUACwD//wQAAAAOACkAMgA3ABgAJAAIAP7/FwD+/wQADgACAAgABwD0/+r/CwAgAA8AEgASAAYA9P/9/xAAJAAnABoA/P/r/+7/1//z/wkA//8EAAcAEAAEAAEAHwALABMAFQDz/wMA///+/wIA+/8DAAgACAD6/+3/7v8AAAwADQAOAAYA8//x/wcAAQD7/wMA/P/9/wIA8f/6/wIAAAD9//r/BQDw/+P/8f/n/+3/9v/o//T/+f/r/+T/6P/v////BQAMAAAA6f/v/wAACQADAAsAAQAIABIACgAQABUAGwAVAAwABwD2//T//P/0/wEACgAGAAwAJgAnAAQABQD4/wUACwD6//b/7//5//r/GgAfAA4AFgANAA8ACQD+/w8AFAAQAA4ABQANAAAA6//m/9n/6//5////DwD3//D/9f/w//n//f/7//f//v/u/+n/9//g//D/DwD6//H/8v/4/+j/7f8IAPf//f/w/+X/6v/v/+T/6v/9////BADz//z/9P/2/wcACwAXAAMA7//3/wAACwAWABMAHwArACUAEwAEAAkADwAeABYA//8BAAIA7P/v/wcADAAHAAYABQACAPr/+P8JABYADAAiACkA/v/7/wkAFgAHAAwADgD//wEA+f/8/wAAAADw//v/BgAAAAYA/P/7//7/CAAYAAUA/v8UABgAKAAkAA0A/f8AAA0AGQAvABkAEgApADAAFgAMAA0ADwALAP7/+//k/+j/8/8IACEAEAAKAAgAEgAlACEAEwADAAEADwAKAAwACgABAAEADwAtAB8AAgAAAAkAGAAdABIACAD3/+r/8/8FAAAA+/8FABIAJgAPABYAJwASABcAIQAnAAwACAAOAPz/9v/9/wUABwARAA0ADgACAP//BwAKABEACgAXAAsACgAlABoAGAAYACcAJgAdAB8AJwAuABMACgACAAAA///+//v/6/////v/DwAvABUAKgAzAC0AJwAkADYANgAjABkAFgATAAEABwAOAAYACAD0//D/8//9/+r//v8gABgAJAAZACQALgAsABEAHQA7AA8AFAAOABkAGgD6/w8AHgAbABMAEgAJAP7/CQAHAAwAGgD8/x8ALAAKAAgAAAAPABgAFAAZABUAFQAnABsAJgAyABgAHgAvAEIASgA1AB8ADgARACcAEgAZACsAIAAsAC0AJQAMAAwAEAAkADUADAAIABAADAASAAwADgADAAIAEwAMAP7/+/8EAPr/AQAUAAQA+//6/w0A+//w//3/AQAOABIAFAD7/wkAFwAbACMADAAWABIACQD4/97/AgD9//H/BgAAAAAA+v/4/wkADgAVAAwAAQAFAAMADAD0/woAJQApAD0AJwATABAAAwD+/y4ANgAmACgADgAOAAsABgANACIALQAkACoAGAANAA4ACgAIAA4AIwAoACYALQAqACAAIQA6AC8AJgAuAB0AFQAhACYAEwASAAgAEwAjAB0AGQAZABsAFgAfADEANgAYACEAPQBMAE8AUwBJAD8AVgA8ADgASAA9ACcAFAAKAAYACwARACcAMQAhABsAEgAWADMAHQAaACoAJAA6ACkAKQA2ACYAGgAQABoAIgAcAAsABQAhAD8ALgAkABwACgABAAoAGwAdACEAIQAhACAADwAPAAUA9/8MAAQAAAAIAA0AAgAAAAUA/f8JACoAQwA5ADIALwAvACMAEAA9AEkAPABOAD8APgA4ABEAAAD9/wYAAQABABUACwAbABkAEQAtAB0ANABbAEIARABGACcAKQA7ADcAIwAbAB0AHAAaABQACQAdADwALgAwAB0AEgAsACQAOAA6AC0AKwAmACsALQAgAAwAFgAaABsAFwAGAAAACwAWAAMAEwAmAB4AGgAYABYADAAjACwALwAxACwAJgAaAC0ANwA8ADAANQA0ACEAFAANABYAIAAnACkAMwBFAEAAMgA4ADoAOQA/ADcAKgAqAB4AKAARAAsAEAAFAAsABAD+/wYAGwAkAC0ALwAlAAwAGwAmAB4ANQA3ACYAMgAfAAkACwAMABIAGwAPABEAHwDr//L/KgA5AD8AMAAUACYAOQAmABAALQA2ABYACgAIAAEA8v/2/wUAHAAdACQAEAAMAB0ADwAEABgAJwAZABwABgDu/+//DwAeACsANQAYABkAKgAYAAAA+////wMAGAASAAIADAAEAAMA/P/5/wAADAAKAPv/8//1/wkACQAJABcAFAATAAkABAAFAA4AHgAVACwAHQAOABUADgAIAAUACQAJABsAEwAUAA0AKQAlAA8AIAApADMAHAAeABwAGwApAA8A/f8JABAABwABAAkAEgAbADIAKgAYAC4AIwAbADMAMQARABYAEQANABMAAAD3//T/CAD1//P//v8IABIAAQAJAAAACgAiAA8ABQApAC8AIgAtACkAHgArADAAKwA4AEMAMQATABcAEwAJAAMA9/8LAAoAAgDs/+b/HQAdABkAFQAnACYAFQAgABgAEgAXABcAEwA8ACIA/f8FAAgAAADf//X/AwD1/wAA8P/v/wcAFgAVABwAJgAbAB4ADgAbACsADwD3//X/+v/9/wgA8v/4/yIANAAzAB8AJQAkAAYAJwA+AD8AQAA2ACIAFQAwABcAAAAVAB4ACwALABoA+P/q/xAAGwAMABsAJwAFACsAQgAUACEAKQAuAC0AKQAjABwAIgApACAAEAATAAsADgD5//z/BQAJAP7/+v8BAOL/3P/U/9X/8v/h/8z/7f/w/+j/6//0/+v/7P/w/+3/6//W/9////8TABAACgDs//n/IAAbACQAHgAeACIALQA3AB8ALwAyABwAJwAeAB0AAQDn//v/7v8AAAoABgAbABAA/v/9/+//+P8TABYACgD6/wAABgDy//D/9f8EABYACQAYACYAGQAWAAwADgAaAB8ALAAjAAQA7//2//j/9P/6//L/5P/o/9z/1f/X/9b/2P/S/9T/2v/k/97/6f/p//v/AwDy/+z/BAAvABAA+P/1/wEAKQAxAC0AIgARACUAGwAFAPv/9P/4/+3/+//4/+n/6v/l/+//BADm/+7/AwAHAPr/3v/0/+b/8/8MABUAGAD//+v/BAACAAUA///r/wMA7f/y//f/7f/v//b/DQARAAgADQANABYAIAACAP3/6v/7/xAAAAD+//H/7P/k/9v/6P/m/97/5//a/+T/0//Y/9j/1v/3//H/1v/U/97/1v/y/+X/8f/f/9v/8P/m/9//z//J/8D/4//i/+X/5f/v/+X/1P/V/9n/7f/y//L/5P/v//b/EQAUAA8A//8FABoAGQAlABYAFAAMAAcACQABAOb/6P/w/+L/5P/5/+P/4f/v//D/+f/j/+L/4P/p/+H/8f/j/+3/CAD3/+f/5P8BAO3/4f/R/8r/2f/X/8r/xP+x/9H/3//B/9z/0P+5/9P/3//k/+7/0P/R/93//f8XAO7/7P8DAAAA+//5/+j/4f/o/+T/+//5/+//8v/z//7/CAAEAO//AgD8//T/+v/z/woACQAVABoAFQAcAAgA+v/w////9//s//7//v8DAPz/+v/+//j/6f/U/9T/5P/2//P/8f/c/+X/7v/y//r/BAAdAAoAGQAhACsAKwAbABMAHAAjABcAKwAeABEA9f/1//P/8f8EAPT/8P/p/+j/7P////b/7/8DAAoAJwAtABgAFgApABoADwAnACAAIAAmABUA/v8FAO//+v8RAP7/DAD/////DQD5//H/AwDq/9H/9f/n/9b/4v/Y/9H/6v/k/+z/8//M/9n/zv/K/8X/1P/l/+3//f/5/wMA6f/9//7//P8JAAEABAARACIAEQAaAP7/BAAbAPb/+P/y/+b/2f/i/8v/uf/B/7H/yv+0/7b/w/+t/8//3P/T/+X/6v/t/+L/1v/Z/9z/2//q/9r/1v/k/+D/6v/u//3/3v/Y/8L/yP/j/9L/z//d/+L/6P/9//n/DwD+//H//P8FAPz/DgAkAAcADgAAAAEACwD4////+//3/9r/2//t/9r/zv/D/9D/x//g/+r/4v/h/+7/5v/d/wAA+v8PAAUA+/8ZABEADAATAAQAEgAqABsAAwD5//b/9v/+/wMA5//b/9b/3//g/8r/4//W/7n/5P/3/9v/6v/a/93/8//s/9n/1v/k/9f/1f/k/wIA6v/s//v/+f/9//r/AwAGAPv/8v/6//P/7v/u/woA/P/r/wEA8//7/+z/3v/i/8f/5P/u/+f/3//h/9T/1P/Y/87/4f/S/+3/9v8CAAkADwAhABMAJgAuAC4AIwAgADQAOAAuACUAIwAMAAoADgARABMA9f/g/97/9f/k//P/8//r/wIA4//j//T/8v/r/+j/1//f/+P/5P/m/+P/8v/v//v/8f/t//P/4//o/9z/7//r/93/0//H//T/6P8PAAwA3f/q/+//6//e/+b/2f/d/+z/7//n//z/8//c//j//f8CAAEABAD+//X/+//w//n/8//8/wgA/f8JAAcA6//i//X/AQARAAMAAAAFAAgA//8BAA4A7v/4/+7/+P/4/wIADADq//X/+P8CAP//DQD4//P/+P/y/wUA6f/o/+//5v/b/+T/0P/Y//D/3//Z/9//8v/h/+X/2P/T/+r/9P/3//H/6//k/wEA/f8JAA4AAAAeABcAFgAZACAACgAOAC0ADgAQAAMA9v/t//r/+//2/xAA+P/0/+n/9f/5/+n/4v/c/+n/5f/o/+v//v/9//v/9//7/wIA5//r/+f/4f/v/wgA/P/b/9v/y//U/+r/3v/O/9n/5v/x//v/7//z/w4ABQD1/wkAAgD6//v/5//x//r/7//w/wIABwD7//j/8P/9/wYA9f8DAAUAAwAWABQADAADAA0ABQANABsABAALAAkAAwADAAQACwD9//3/CgAAAAMAAgD4//v//v/9/wUAFwAFAAMAAAD2//X/7//r/+z/8v/k/+L/5P/l/+n/1v/W/+j/+P8AAOb/4//2/wwACgD0//r//P/p/+D/5//s/+b/3P/W/wAADgD9/w4A8P/7//f/AAANAPz/BgD//wgABAAVABAABwAAAA8AFAALABUABAATAAsADgAdACMAGQARAAkACAASAPr//P8AAPP/AAAPAPX//v8NAAYABwD+//P/6//y//P/7v/y/+3/6//y/+D/5//S/8v/2f/O/9v/4v/o/+P/2v/l//L//P/x//v/5f/N//P/5v/h/+X/1v/k////EAAVAAkAEgAYABEACAADABUACQAHAA8ADAAGAO//6//9//7/9v/4//H/5//1/wAADAAgABwAFAATAAoACgATABcACQD2//T/CgAVAPn///8BAPP/9f/s//f/6f/n/+b/6P8BAPv/9f/z/+z/6P/s/+b/6f/y//X/9P/2//T/8//z/+n/3P/S/+X/5f/0//v/AAD3/wQAGQALABkA+f/3/wIAAAAHAPb/6v/v//b/7//1//f//v8GAP7/9f/0//z/8f/w//b/+P/7//v/AAAAAP//8//0//3/+P/7/wAA8P/8/wUA+//2/+3/8//x//P/9//0//b/9P/r/+v/4//b/+r/9P/w/+v/8//6//j/+/8DAAQA+P/4//P/8v8AAPf/7v/3//b/7v/1////AwD8//b////y/+b//f8BAP3///8BAAoAFgAfABEA/P/0/wMABQAJAA4AAwAGAAYACAANABIADwAJABIACQAHAA4AAwAJAAUA/f8AAAgACgAOAA8AFQAUAAgABAAAAAYA+P/5/+v/6f/z/+f/6P/0/wAA7f/2/+//7/8BAPL/6//W/9v/5//h/+H/4//p//H/8f/9/wMA+f/j/+//DAD8/wYABgD5//n/+/8CAAUAIgAdABAADQAQAAcA//8KAP3/9//u//H/CwAVAA4AAgAGABMADgAUAB0ADAD9/wUA+f/w/wcA9//v//n/+v8AAAQAAQD9/wcABQAEAP7/8P8AAAAACgAPAAYACAD///v//P8IAAIACAD///b/AwD3//L/7v/2/+z/9v8DAP7/EQAFAAIABgAGAAgABQASAAEA+/8JAAEAAgACAPL/9f8DAA8AEgAOAPP/7//w/+T/+v/5//z///8EAAMAAgAUAA0AAgD4//3/EQARAAUAFQAMAAYACwDy//L/AQD3//v//P/0//j/6P/5/wYA9v8LABkAFQAWAAwAAwAWABYAAwAAAAAA/v/w/+3/6P/p//T/7f/z//3/BAAEAPn/8//x/+r/8v8HAPz/AQAKAP//IAAgAP////8DAOL/4P/1/+X/6//u//f/9////wAA9P8DAAQABwAJAAAA///z/+7/9v/y//j/9/8CAA0ACAARABEABwD5/wAA8P/j/+v/7f///wAA/f/6/wQAAQD7/wgABQAIAP//6v/h/9//8f/0//z/AQD5/wkACQAJABIAEwAOAAsAAADz/wkAAgDt//X/8f/7/xUA///3/wsADQAHAAAA/f/j//P/AgD+/wAA//8IAAUADQAKAAQABQD8//H/AAAKAAsACgD0//L/9//h/+D/7f/t//v//v/5//b/+f/2//z/BwD5/////v/4////AgD9/wIAHQARAAQAAAAAABEACQD+/wMACgACAPv/9v/2//7/+f/q//D/9f/p//n/AQD8//3//f/8/wEAAgD//wAACgAHAAEADwAEAAQAAAAAAAwAAQD3//z/DgAGAAoAAADs//X/8//w/+j/7P8BAAYACQAIAA8AFwAHAAUA4v/T/+f/7P/2/+P/3//z/wMAEQANAAoAAAD7/wkABADq/+X/6//u/wEAAAD4//7/BQAJABEAGQAWABMAAgAAABEABwD5/+z/6P/y//X/8v/y/wQACwD+/wIAAwD///j/+P/5/+D/3//w//b////8/+7/7P/s/+b/4v/q/+//7//0//j/AADt/+L/7P/w//r/9f/0//////8HAAwABAD+/+7/4//o//P//v8CAPz/BADy/+r/8v/q/97/yv/W/+f/7v/j/+b/+//6//L/7v/8/wkABQAGAAUAAgDz/+f/8f/x/+3/+f/9////BADz/wAAJAAuABwAFgAWABIABAAAAAEA+P/y//P////5//3/AAAAAAQA+f/0/+3/6v/3//X/9//9/wIA+v/t//L//f/6/+H/7v/5/wAA///1//b/5P/p/+r/5f/n/+3/8/8AAP7/6f/x//D/7//q/+z/5v/i/+X/4//m/93/4P/o/+v/5v8KACAAAAAAAAAA/v8EAPv/EgAeAA0ABwAGABQADwAXACAALgA5ACYAJQAjABsAIQARABIACADw//r/BwAVAA8ACgARADIALAAOAAIA/v8FAPn/9f/y//P/AQDy//D/+v/t//b/8v/9/wMA9f/2/+D/2f/j/9H/1v/k/8z/vP/I/+L/+f/5//X///8BAPn/7//z//P/8f/x/+v/7//0//v///8EAAAA/v/2/wwAMQA5ADUALQAxACMAEwANABMAEwAOACMAPAAzACMAHQAdACIACgAOAAsAAQACAA0AGgAXABYAEAAWABUAGgATAA8AHwAbAAcAAAAAAP3//P/7//r///8BAPr/+f/x//H////x/93/2v/p/+X/4f/g/9r/7v/j/+H/4f/W/+j/6P/Y/8n/wv/S/+j/3f/O/+H/6P/i/+b/6f/x//X/9v/n/+//AQAMAA8ABwAJAAAA/P/4//z/AQAMABIACQABAAMA/f/6/wEAAwD//wAACgAFAPr/9v8BAPj/9f/3//L/6P/v//T/8//8/wYAAQABAAkAAQAFAP3//v8EAA4AAwD6//X/+f8FAAUAAgD6////DwAWAA4AEwAEAP///f/u//P/+v/w/+D/4f/h/+///f8EAAYAAwADAPL/8//1//r/AwAGAAEA5v/i/+v/8P/4//3/AAD4/+//8P/s//j/7f/h/9z/2//m/+P/4v/g/+n/6P/y//3/9v/3//b/+v/2//H//P8CAAoAAgD//wEA/f8BAP///P///wEAAAD5//r/BAALAAoACAANAAoAFAAhABsAKwAoABwAHAAVAA4ADwANAPn/9/8PADIALAAVABQAEwANAP//BgALAP//+P/u//T/6v/l//H/6f/x//7/AAAHAAUA+f/z//j/+v/5//r/3//W/+D/5v/z//T//v8AAPP/7v/r//X/+//8//n/2P/Q/+D/4v/k/+3/8P/4//T/+f/4//D//v///wMABQAKAA4AAAAAAAkAAQAJAAIA9P/+/wcA///6//r/8P/t/+j/8P/t/+7/4v/J/8r/0P/V/9v/4f/q/+//7P/p/+z/6v/1//r/5P/q/+7//v////3/IAAcAA0ACgATAA4ABwAGAA0AHAAgABcAGQAiACEAGgASABAACwAKAAwAGAALAP7/BAALAAYAAQD//wAAAgADABMAFgARAA4AEwAPAAUA8//p/+j/AAAUAAoADQAJABcAHwAJAP7//v/3/+3/8v/7//P//P/w/+f/8//1//r/6f/7/wUA/f/9//T/8f/z/+7/7f/q/+7/+v/4//z/AAACAAEAAwACAAAAAwAJAAkAAwD7//r/9f/s/+7/+v/+//H/9f/z//D/7P/t//f/4P/X/+j/5//0//P/8v/2//L/AgD6//P//P8HABIABgD6/wkABQADAAcAAQABAAAAEAAVABkADAAGAA0ADgAOAAsACAAGAAQAAAARAAwAAQAKAAcAAgADAPn/+f8FAAsAFAAWABMACQANABoAHwATAAQA+v/3//7///8TABgACwAJAAQA+f/0/wEA/v/4//T//P////f/+f/r//D/AgD5//X////9////AQAFAPr/8//6//r/9v/7//z//f8HAP//9v/x//j/+f/q/+L/2v/j//r/+//8//r/8v/0//r////9/wQA+f/3/wMAAgD9/wAA+//6/wMAAAAIAAAA9v/7/wIA//8EAP7/BgASAP7//P8HAAQA+f/8/wAABQD2////AgARACcADQAJAA0ABgAFAAkA+v/5//z/8P/4//z/7//z/wEA+//8/wYAAAD2//j/+f/3//v/+//3//n/+//u/+//+v/2/wAABAD3/wAAAQD3/wAA/f/+/////v8DAP//8v/y//7///8RABUAAAAGAAYA//8FAAAA//8FAAAA+P8AAAIA+P/z//3/BQAGAA4A9f/2//v/7P/1//n/2v/e/+n/6f/t/97/7f/t//f/7//9/wcA9P/8//f///8QAAQA+v8CAPz/CAAWAA8ADAAVABYACQD9/wAABwAAAP3/AAAQAAQAFgAYAA0AFQAHABkAFgAOAAYADwAbABMAGwAUABQAEgAMAAIA//8TABgADgD///r//v8BAAEA9//z//P/9f/t//L/+v/u/+v/7P/z//n/9f/5/wAAAAADAAoAIAAXAAQADwAEAAgAEAATAA0ABQAGAPz/CAAVABQA///z/xEACwD9/yIAJwAWACAAFgAbACAAHAAfAB4AEgAHABYAHAAaABcAGgAKAAQADAAOABoACQAAAAcABQAEAA0ADQD0//L////8/wYAAQACAAYA+/8FAAoAAQD5//n/+//4////BwAUABYAAwAJABIADQAAAAAABwAEAAYA/P8CAAoA9v/t//n/8v/y/wMA///y//r/9f8AAAUA+v/9/+//2f/m//b/5P/5//b/6//1//T/9//4/+7/5P8AAPr/9P8AAPP/9f////7/BQAHAAMADwAXAAkAAgAHAAIA+P8AAAcA7P/0//3/8P8AAP7/9/8QAAkABwAbAA8ADQAMAAkAFQATAAQA9v/0//D/8/8DAPv/8P/v//j/9P/3//j/9P/7//b/8//w/wEA///3/wYACAAPABYAEgAQABEAFwAIAAAAAwAAAAIA8f/y/wUADgAXAAwACgAYAB4AIgAYABAADAAAAAoADQAXAA8ABQAZAAIA/f8IAAAA9P/+//L/6/8OAP3//P/7/+P/8P////7/9P8CAA8ADAAGAP//DAAWAAAAAAALAAEABQAEAPf/+v/7//b/9//5/+z/7f/8//n//P///wUAAAD0//b///8SABEAEgARAAUAAgAIAAcADAAPABEAIAATAAkADwAUAPr/8/8AAPr/+P/5//D/+f8IAPj/AgDz/+v/+f/3/wAA+/8GAP3/FgAeAP7/GgAWABEAFAAPAAkA//8AAAQAFAAGAPv/EQAEAPn/GgAQAP3/DgAPAAUAJgAnAA8AKgAqACMALwAqABsAEwAbABsAHgAQAAsADQD8/wcADQAJAAgAEQAdAB0AGgAUAB8AGAARABsAHgAeABsAGAAdAB8AGwAdABoAEQATABsAEwAPAAwABwAGAAgA//8JABUADQAKAAYABQDx//f/CAAAAP3//f/3//j//P/v/+//DAAOAPr/+//2//v/CgAEAAQADAD6//f/DwALAAUAAgD7//L//f/8//r/AADv//f//f/x//7//v/v//X/CAD+//n/DAD//wYAGQAXABIAGgAPAAsAEgAEAAAAAwALAO7/6f/w//D/8//+/wkA+P/x//X/8//4/wAA8v/t//D/CAAPAAYAAgACAAgA/v8GAAIA+//3//v//P/x//r/9f/z/wYA///t//T/9f/r/+X/6v/v//v/8//x//v/5//k/+n/4//k//r//P/l//X/9P/7/wgA+v/q/+j////z/+//+f/v//H/+v/9//f/+v/7/wkACwAHAAIA+P/+//f//P/x/+//+P/y////+//t/+7/9P/q/+3//v/q/+X/8v/q/+j/4//V/93/6f/k/+T/7P/q/+D/6v/j/+D/7f/e/9L/2v/g/+L/4v/u/+f/8v8AAPT/DwALAAkAAADr/+n/8v/0/xEAFgD4/wAA/P/6/+f/7//s//D//v/5//n/9P8FAAAA/P/9/wMA+//s/+3/+f8EAPf/+P///wAA/P/4//X/+//6/wAA9f/k//b/8//x//3//P/x//P/BAD8//n/8f/n/wEA8P/q//f/8f/o//v//f/u/wAA8v/+/xEAAAD7/woAAQD8/wwAHwAdABAAGAASABAABQD4//n/+P/5/wAAAwAKABEADQAXAAcA+v8QABIACAAIAPz/BAAYABEAFQAaABEAFwAdABYAHgAnACMAEAAMAP//9//4//L//f/2//L/5f/V/97/7P/y/+z/6f/y//T/8v/8/wEA8//5/wAA/f/y//f/AwD6//z/6v/u//P/5v/x/+3/7v/x/+X/5v/m//D/+P/3/+r/2v/c/93/5//j/+H/5//5//H/4P/r/+n/7P/u//D/8//s//H/+v/p/97/5P/R/8//5//u/+j/6P/t/+n/8f/1/+n/6f/4/wQAAADv//v/AADv//n/+f/r//r/AQD6/wQA+v/v//b/8//t//b//v8BAPn/7P/3/wIA8P/W/+L/2P/N/9j/1//W/+T/4//d//P/6//h/+f/4f/c/+j/5//i/+z/6f/i/+P/4f/s//r/5v/k/+//6P/f/+D/5P/w////6P/f/+r/2v/b/9//1f/f/9v/4f/v/+z/6v/r//D/9v/2//P/AQAAAAAA/P8AAAEA7v8PABoA+//5/wEA/v///wAA8v/v//z/+//r/+n/7P/o//z////2//f//P8AAPf/8v/p/+//+P/4/+v/1//l/+r/5f/g/+T/7//p/+j/4v/u//H/7//s/+T/4//s//z/8//3/+3/5v/t/+j/2f/X/+T/7P/v//D/AgD+/+//9P/3/+//8P/x/+j/5f/i/+j/9P/x/+//6f/5/wAA/f8GAPr/9v/y//j/AAD5//P/9P/w//T/+f/6////AgAGAAAABwAXAAcADAASAPn/+f/8//z//v/z//r/AgAAAAAA9//x////8v/l/+v/7P/t/+b/6//n/+f/+//7//7///8AAP//8f/t//n//f/2/+//6v/s/+f/6P/r/+z/7f/q/+f/3//R/9L/1v/U/97/5P/o/+r/5//e/87/1//p/+r/8f/t/9v/2f/b/+j/6P/o/+3/5//p/9r/4//l/9r/5//t/+r/6P/w/+b/4//r/+z/6//g/+j/8v/s/+n/+P/1//H/8v/z/wgACgADAPX/+v8AAPf/8f/x//f/7//z/+v/8f/2/+3/7//s//D/+f/w/+f/7v/r/+//9P/v/+v/5P/n/+7/7f/0/wAAAgD+/wMA/f/z//H//P8KAAUAAwD9//P/+f/+/wMAAAD//wcAAAD2/wAADQD/////AQD9//7//P8CAP7/8v/u/+r/8P/7/wAA+v/n/+7/+f/l/+D/5f/l/+b/6//l/9X/3//L/8H/z/+//7P/r/+6/8X/s/+2/8f/x//M/9T/1//S/9D/uv+6/87/1//f/+P/5//s/+P/4v/s/+P/2v/e/+r/3//Y/+z/AADz/+z/9f/6//b/7v/1/+b/4f/o/+r/6f/f/+T/4f/g/+3/6f/i/+z/8f/g/9f/4v8AAAYA7v/d/9z/5v/k/+L/6//y//n/8P/o//D/+P/8//f/9//6/wEABAAGAP//DgAVAAkABgD+/wAA9P/4//f/9P/4//3/9P/u/+v/7//3/+v/7P/n/+7/7//y//L/5f/e/93/2P/Y/9f/zv/O/9D/0f/U/+b/6v/j/+P/5v/q/+n/5f/p/+//9P/x//T//P/6//P/5v/r//D/9v/3//H/7v/v//n/+f/3/+3/9f/7//n/AAD3//P/7v////7/9/8CAPj/AQD+//j//P///wEA8v/y//v/7f/o/+r/9//3/+v/9//0/+P/1v/l//L/7P/v//D/7P/s/+P/8//4/+3/9P/n/+f/+f/+//7//v/1//r/+//4/wMACgAAAPv/+P/t/+z/7v/w/wIABwD6//v///8HAAUA//8NAAYA//8GAAAA9f/w//z/BAD8//H/9v/1//7/AwAAAAAABAATAAkACQAFAAIA8//o//7//v/1//z/AAAAAAEADgAQABUAIAATAA4AEwAhABcADgAUABgAEwAUAA8AGQApAB8ALAAjAB4AJQAsACIAEAAEAP///f/4//j/5f/r//b/8f/y//f/AAAHAAUA/P/6/+3/5P8CAAsA/v/4//b////5//v/+v8JABUADQAOAAUACQAGAPr/+v8DAAwACwALAAoAAAADAAwAAgD+//j/9v/k/97/6v/u//j/9f/x//L/9f/6//P/8v/9//7//P8WAAwA+f/9//f/BwAHAAoAFAAPAAoACAAAAPr/BgAPAA0A9f/t//v//v/3/+z/5f/i/+r/6f/m//H/+//5//r//v/9/wEADAAPAAcAAwACAAMACgAAAAUA9v/t/wcAAAAAAPj/+P/8//3/AQDy//H/6P/m//X/+f/v/+n/6v/t//T/DgAPAAEAEQD//wUADwAEAA0ACwACAPz/DQAUABUAFAAGAP3/CAAYABcADgAHAAAA/P8AAPT/8P/9/wEABAAKAAoADgAAAPv/DwAHAAAABQATABsAEgAcACAAFgAXAAMADgAIAAAAEQAGAA8ADAAGAPz/+/8EAPf/8f/0//n/AADw/+n/8v/y//L/9f/6/wgABAD3//3/9//z/97/4f/v/+b/7//o//L/9v/l/+X/4P/m/+7/9f8AAO//+v8HAAQAAAD5//b/7v/n/93/1v/a//f/BAD2//L/AwABAAUA+//r/+3/2//g/+P/6v/s//P/AAD//wMACQAJAAMA//8DAAgABAAPABUADwAZACYAOABBAC8ALwAsACwAKAAeADAAIAAVABUAFAASAAgABgD//+//1v/N/9D/1v/Y/9f/5f/u/+b/4//f/9P/1//Z/9X/2P/g/+b/2f/Q/8//wf/H/7r/qf+4/6//u//E/7//vf+6/77/xf/T/9n/0f/O/9H/x//Y/9r/5f/4/+z/9P/5/w4AIAAcACoAJQAoAEMARwBGAFMAWgBbAGEAYABkAGUAUQBHADwAOABTAE8AMAAhACgAKQATABYADgALAAMA+f8LAAAA9P/8/wgAAAD8//7/9P/x/93/2P/i/+H/1//J/7//uP+q/5P/mP+c/47/ff+A/4f/h/+G/3//kv+P/4f/if95/3r/cv9l/3j/jv+j/6z/pP/A/9r/3f/z/w8AGAAZACQALwBCAFEAUgBVAFoAZgBdAFoAXgBcAGIAWwBZAE8AVgBnAGgAcQBzAGcAYwBlAE4AOwBNAFoAQgA/AD4ANAAtABsAJwAhABcAEQD3//L//f/7/+n/4f/H/7H/tf+4/63/p/+u/6//uP+u/6n/r/+s/6b/n/+8/8X/u//M/7b/qP+t/73/1v/Z/+T/3f/Z/+3/AAAIAAQAJAA2ACcAOABOAGUAaQBtAHoAggCOAIoAjACVAKgAugDCALoAowCWAJQAnwCcAJwAigB0AGgARgA2ACIABQD2/+X/0v/L/73/t/+n/5v/nf+G/23/a/9r/2D/Xv9Z/1D/Wv9q/2z/dP9o/1L/V/9t/23/YP9p/2b/af9q/3r/jf+L/4//jP+U/5b/nf+m/6j/tP+2/7T/wv/f/+f//P8PAAsAEQAdADMAQQBEAFUAZABmAGMAWgBPAFQAWABXAFYAOAAbABMAEQAAAPn/AQAAAPT/5P/e/9b/0//M/7//zf/L/6j/r/+v/6f/pv+a/6P/qf+x/6z/oP+V/6D/tv+8/73/tv+7/7r/uP/K/+n/8f/s/+//+v////b/9v/7/wEABQAVABoAIwAiABsAKAAeACEAJAAfACkAJAAdABIABwAIAAYA+v/p/+r/3f/F/8f/vP+s/5j/cf9s/2b/Qf9A/0r/Rf89/yz/Mv85/yz/Kv8v/yz/Nv88/z//RP9A/1H/Xv9s/3j/e/+F/5z/vv/P/9D/5v8HABsAJwA2AFQAaABpAHEAhACSAJgAnQCtALcAsgCrAK8AlQCJAJsAiwCAAG0AWgBUAE0AQQAuAB0ACwAEAPv/7//m/97/2v/G/8j/zf/O/8v/x//O/9P/3f/w/wEA/P/4//n/+P////////8FAAcA/P/s/+b/4P/r/+7/6P/j/+H/4f/e/+L/4v/g/+T/+/8DAAUAEAAIAAoAHQA1AD8AMgAzAD4AQQBDAFMAYAByAHwAdQB/AG8AdAB8AHcAjQCXAJ4AkgCIAI0AhgCHAIgAiwCRAI8AeQBsAHsAdQBnAE0AOgA2ACoAJgAaAAoA/f/p/93/3//X/8f/0//X/7z/uP+//7j/sf+y/8H/z//R/9D/xP/L/9n/0v/J/9b/1v/S/9v/2P/f/97/1f/V/9H/0P/U/9X/5f/o/+L/4v/Z/8f/uv+7/77/wP/H/+j/+//x/+f/6v/w/+3/8/8CABUAFwAHAAQAAAD9/woAFwAQAPr/CgAXAAkAEQAbAB8AIQAjACIAMgA6AEEAUQBWAG8AcQB0AIsAlACxAMUA1gDqAOQA8gDzAOsA9wD2APEA8QD4AOkA0QC5AKwApwCVAIMAdgBgADwAIQALAPT/7P/g/9D/yf+//7D/n/+X/4z/hf9w/17/Wv9L/0T/Nf8s/xX/8P7W/rr+mP6B/mf+VP5X/jL+F/4I/vf98P3h/dj9yP3D/b79sf2w/af9o/2n/b39zv3T/fD9BP4Y/jD+SP5s/pn+zf75/in/WP+H/8r/EQBUAKIA2AAJATgBdQG7AesBIAJPApACyQL1AicDUAOAA7wD9AMmBFsEhgSfBLAEvATOBNQE2QThBM4ExgSSBEcEAAS1A3kDLwPqAq0CWAIJAr0BVgESAckAhQBMAAwAxf9//zv/+P6q/lX+Gf7L/Yj9If3D/Hr88PtW+7v6GPqe+TH5sPgw+L33SvfM9mb27PV+9Rf1yfSI9EH0CPTV86fzefNm80/zT/NJ84PzxfPw8zr0ffTr9Hj1HPbE9o73dviI+ab6t/vw/HD+5f9GAc8CbAQJBnoH+wifCioMog0XD2IQoBG8ErEThBQzFdcVWhamFrkWoxZOFu0VRhWLFMYT0xLkEccQlw9gDiMNzAtvChQJzwejBm0FOwQcA/cBCwE0AEj/i/7L/VL9w/wh/Mn7afsc+9P6qPqM+nD6Uvob+gz64Pm3+bT5f/k9+ej4fPgZ+JL3DfeY9hD2ifXO9Bv0XfOF8svx/PA48HDvsO7T7RLtiuzk63DrCuuV6mHqSOpa6pzq6Oq967fs1+1C7+Pwt/J49Jz2yPgX+8T9iABCA+0FkggSC5UN/w9qEroUrxZpGA0aZxuSHKAdLB5zHk0e3R1jHa4cuRtkGuMYTRdbFVcTYRFBD/sMkQpTCCIGBgQTAg8AJf5S/J/6KvkE+BD3Tvbc9X/1PvU69Wf1svUY9q72Yvf795/4dPll+jX79vu6/Ez96f10/vT+Zf+N/3z/hf+G/2r/RP8N/9n+cv7l/V796fxn/Nz7PPvD+lD6+vnF+Yf5a/kh+fL4y/jD+AP5Lvlf+ZX5zfkR+l361fpZ+877Pfyu/DH9tv02/sL+Uf+5/zcAwQA/AbYBMAKhAuUCEwNiA90DJwRfBI0EsQTIBOEEBwUsBUEFLwUhBQEF6ATUBNQE0ATDBK0EjwSLBGEENAQUBPYD3gO2A40DWQMvAwgDzgLHArsCpwKeAnoCbgJNAv8BvAGiAX8BagGBAYoBkQGIAVwBIgH8ANcAmgBcAAoAyv+H/zD/+/6d/iP+oP3u/FT8ufsl+176iPm6+MH3zfbX9dz0wvOB8i/x6u+37pLtauxs61nqReli6KLnA+eS5ljmI+ZW5hznhOhF6irsQu6B8OjyufUR+a38dgA3BPAHmwtDD/ISfRbfGewcrB8mImMkaSYBKC4p0SnhKVspjiiSJykmPSQVIsYfQh2oGsgXyRSmEYAOQgsNCAIFGgKW/xv9xPq9+PL2fPVo9I/zBfO+8onywfIs89fzwfSd9cX2D/hm+bv6IPyL/er+FAD5AOwBvwKHA/4DNQRIBDIEAgS2A2IDugIQAicB7f/A/pn9QPzs+oj5C/iq9kn1BPTV8sLxs/DE77ru8u1l7dDsT+zK61br3+qL6mTqf+qJ6qfqsOqW6qfqruoC60vrb+ue6xns2ezN7WDvUfF587P1Afib+lj9GAAZAyQGRQl5DGoPTBIxFdMXJBocHCceHyDMIWIjdSQkJUolDiWKJIYjQCKfILYekhxqGk0YCRarEzkRcg55C6QI5wVZAysBS/9W/ZT7FPrI+NH36fYX9pj1cfVq9XX10PVF9pD26PZj9+f3i/hT+TT6Gvvv+6n8Bf1R/aT9q/2i/aD9bf1j/WD9+fxz/LL7yfrN+bP4uPfJ9rT1fPQ+8x3yA/Hs78buX+0M7JLqNelZ6G3nuuYU5irlNeQC47PhruDe36rfZ+BF4vfk4+fz6sLtqvCS88n2zvpj/1MEJwmvDc0RzhVgGaIc4R/6Iogl3Cd9Krcsky5nLysvIi4uLPwpiiciJeIiXSDYHTgbUxhUFQUSgA6ICnIGswJq/9T86PpT+fL3mvYu9Rv0W/MC89Hy8vKP8yf0JPVQ9mT3lPiO+b/60PvH/Cf+R/9YAEwBDwKXAvcCRgM2A8YCHQJDAWYAyP8X/2X+Z/32+wL69PcH9j/01/Kj8avwnu+M7q3tJu2a7B3sUOsX6vrovufr5sLm3uYt533nS+fY5sblTeSi4r/g198h4BziLOW36IPsdu/q8TT06fax+lT/YQSCCSEOJBLsFU8ZsBzEH8EioyV4KL0rli4yMcky6DLZMckvly07K8ooeSYpJJgh3R7aG6kYKBUEEbcMbwh9BOUA4f2H+235gfec9fvzrfKW8bfwO/Ah8EzwpPBp8Y7yYPM09OH0vfX79lr48/l8+9v82/2Q/k///P9VAIEAOwAXAPX/t/+x/37/Dv8b/qv88fpZ+cP3Vvb29Gnz6/F98D/vIu4e7R3s2+pJ6cHnfOaK5a7kEORf4+Lh6N+h3VrbYdmp11bX0djS28TfxuPq5wHrAu1E79byNviI/hYFfQssEc0VtRmAHakhyCV6KQotrzA9NFc3mDloOqc5gzdZNBsxly5qLEgqoydxJN8guhzJGH0U1w81C3kGeQIn/5X8l/p6+G32WfRe8v7wXPA48D3wN/BR8N3w2/Fz81f1FPeI+KL5xvoi/AD+FwCqARsDHwTHBD8F2QWYBgoHEwdQBmMFjATJAyUDHwJ4AG3+/Pu7+df3H/af9Ejz1/FY8Anvze3g7MbrUuqo6BPnyOXs5IvkK+S+4+niyOF44NLextxK2q7XItbL1mbZe93x4TXmb+lA6yTtjvDg9T38pAKuCA8OrBLVFiAbAiDAJP8o0Sy0MNI0cjjwOjA8CTxJOrc35zRlMikweS1PKv8m0yOqIBkd+RgsFPwOzQkMBb0BOv+h/PH5EPdy9EnyovCO77/u6u0P7YnsG+2g7qjwdPLg8/z0BfaA94z5LPyF/jwAJAGfAY0CtwMHBSgG+wZHB+gGfQYhBvEFIAWEAzMB8v7W/Nj6PfkS+OD2MPVf84HxLvB77pfsnerF6NTmz+Rq42/ik+FT4DzfOt523ZTcyNo22GfVa9KA0N3Qf9Nw1zDbft4M4YfjiebT6uXwwPeJ/pYEQgrhD00VfRqRH3Ak0SjJLP0w0TVKOps9VT+dP6A+VDyUOQU3jjTWMaEuZStIKJQkICAjG+QVwBCOC8AGwQI8/7j73feR9CzybPAe79/tLe1t7MLrs+sj7IjtCu9v8Pnx5vM59sT4Evs9/QP/OgBuAakCmARyBhEIYQn/CVgKRwrmCWkJhAgkB0gFIAM7ARv/+vzi+sD49vbz9BbzO/FY74XtVut+6QLoWeb55GfjAOL/4MLfo96O3dDc6NtE2i/YutX90nnQM8/xz0HSXNWb2LPbvd4u4iTmYusq8kz5xP9oBfEKUhCxFSobxiD0JesqWy/EM7o4CD1xQCVCf0LCQdc/lj0jO6U41TUuMnsuuiqYJj4iNx3/F6kSCg3hB/sCnf5l+kj2MPOo8OXuee1j7MHrCuu36sTqOut17Kft++4O8Z/zofZ++eL7Df7E/ysBjgIZBDoGKAi6Cf0KwQtCDC0MqQsxC1MK7QgwB0UFZgMVAZz+jvzP+v/4ufZg9DXy8++v7Wvroenv5+HlzOO14Q7gcd5+3MTahtmU2GjXqdWo0wbRos3SyrfJtMoJzRzQftPc1qXasd6m4/zp+PCN94D9kgMwCt8QkRdKHu4j1CgZLT0xSjZpOwpAj0NeReVFzETLQktATz1LOoc2qTLiLuoq+iZ0IlIdMRiHEh8N/QcRAwD/jfrL9sLzAvEm723t5eur6n7pKemP6cvqCu3t7tzwxPJ39MT2HPnK+73+DAErA8QESQYxCLgJTgtxDPMMfg1qDWANPA1nDAsLhwjkBfkCDgD2/e37NvpA+Mv1hvMD8cvunew46lroN+ZE5GbiIOA63kvcVdq42IPX29bc1YnU39Ki0LzOtsxvy2fLH8wZzrTQa9Qe2Tne4+NV6QXv8vTA+kUBSwiFD6MWFB0nI28ofS14Mgw3vzsQQLZDTUaxRwJI7kaRRJdBBj4yOkQ2AjL3LdYp7yQGIP4akBX5DwEKYgQa/2X6nPZD85Dweu5I7I3qN+lM6A/oNOgU6VHqBewa7o7wM/P19ab4R/u3/ef/MgIrBFQGUQjRCTELKAwhDRgOjg6wDkEOCw1yC1QJIwcRBcECjgBI/gP8zvmH91X1HvO18EHu4etF6aLm5+Mh4V7ez9up2d7Xm9Yv1fTTpdLW0BzP/sz2ytnIA8dXxufG5cjpy4bPvNNi2GDdCOMm6fXv9/bt/eEEOwzGE+oatCGgJ+8sizFCNjQ77z89RB9HuEgWSSZIkEbCQyJADDxZNw8zJy9mK8QnNiO7HegXnhHrC1UGMwG9/ED4hvR38QHvVO3K6yXqw+ji597nkug76kjsXu5Z8DvygvQP99b5jfz9/l0BoAPMBRIIGAoZDIANag4yD7APLxAkEK4PxQ4yDWALMAmKBtgD7ABJ/ur7kvmV9yL1dfLf7yPtw+p46EbmEuSf4UffJN1r27jZEdiL1vvUX9Ol0S/Qcs5OzCnKKcgNxzTHjMj1ykjOQ9IB11/cNOKB6O7uhfUZ/N8CawpaEhAaNiFfJ/Ms6zHWNh08AUF9RYVIKUr+SrtK1UnMR6RE50AMPBc3rDJsLnMq7yWKILgaUhQ5DsYImwPs/mP6Mfap8pfvSu2e6wTqrOhy5/HmQ+ed6NbqLO3F7w/yWPTd9nb5O/zm/lsBrAO/BRAIbAqYDJoOzg/NEJQR7RELEpkRwRAsD+kMrQodCLQFiAMKAXn+qPvj+FL2vPMn8XXuv+sn6YjmQuTX4UHf4dxs2lHYYda81GHT1dFE0K3OfswnytPHrsXGxNrEMsbHyPjLDtDA1ALaA+CZ5nPtevSX+6oCTwpJEiIaoiE2KMAtsTJSNyY8/kCARWBJu0vfTM5MkEtwSQZGqkG4PGQ3kDIMLrEpNiXcHyUaExQIDnYI3AK5/eH4W/St8JvtcOvQ6Tzoz+bZ5enlteZO6KPq2Own75/xRvRT95n66f2qAPQCIQUPB1QJswsKDgkQWRGSEmETABQ6FJkTVxKOEHMOyAv7CFMGiAOFAIn9uvrR9yn1ZfKz7zXtjuoD6JHlJuOb4DPeDtwN2jXYqNZD1cvTb9I90eDPGM7vyxzJYsYAxXXECMXxxsnJrc1p0iLYgN785IHrpfG/90b+XQV/DfQVzh2vJG0qVC8HND05fD4/Q0xHCkr+SxhNL00kTIxJh0XnP8Y5WzSKL1ArGycvIuEc7BbGEBsLfwXS/zf6D/WS8ELtOOvB6Vro3+af5abkmeSf5XTnzukl7Ofu1/EY9Yz4t/uS/q4AiAKCBAQHDwoEDYsPMxFUEhMTchN1ExQTNxKiEHYO4AtbCQoHigTFAc7+tfuC+Fb1fPIL8LXtP+vO6FDmzuNO4fPeuNx22mjYitYd1fvTFNMR0nzQYs6/yx3Jj8a3xNHD88NdxSvITcxz0XbXrd3n4+Lp0+/19aj8MgRhDNIU4BwnJHYqLTAaNZc5Nj5vQkBGcEm9S0lNkE1YTJhJZkV6QPo6VDUKMCwrmSaGIXgcTxeLEZQLbgVm/7P5o/Ru8CPtz+ot6RroQOd+5i/mduY052joIOpV7Drvo/JW9vz5cP1NAI8CiwSvBh8JsAtEDl8QRxInFLcVWhY2FkcVrhOQEf4OmAxFCgIIlgXpAioAc/2I+nX3OPT38OTtw+o26P7lxeNa4Z3e1dsA2X7WItQt0oHQ0M4gzWDLasnpxkrE9sFDwNK//8DewyPIa82d0zDa2uCA5/ztcfQt+1YCagpKEx0cUiSIK98xMDfSOyRAKkTsR9tKyExcTjBPsk60TN9Iz0MKPsk31DFmLDgn5CElHJEW9BBwCxcGUABw+tD0tO9264/o4OYB5pblSeVM5YTlP+aK5y/pXusS7lDx9fTQ+F/8bf9sAiwFnAcZCo0M8g4EEdUSghQxFogXpBfOFmAVWhPsEEcOvgtLCbMGBgQgAVD+Qvvp94n08vBh7QnqUOcI5Q3jIuH73rDcP9qy1zbV5dK20MvOGc1xy5jJhsc+xfXCScG+wMLBS8RCyF3Ng9NK2hrh/ee47oL1RvxlA1QLpRNkHMUkVixKMzg5Aj7kQVdFTkhvStxLw0waTXlMYUq7RrZBuzshNWYuQShnIpoc3hY2EbELRAYpARP87fbZ8RHtEenz5eLj9OLn4lPj+ePq5F/mV+iJ6s/sNu/l8TT1Dvkn/UoB8AQFCEIKEQxSDrAQ/hLEFPgVzhY4F1cXzBa6FTUU/xEQD74LtAjyBUIDfQCN/fL6jvi89YvyQO8R7ODorOWz4t3fEN3v2XrWw9IUz0fLCsebwn+9L7hOszivxqx2rGyuGbKVt+C+KMgn1L/hT+9g+z4Fjw3vFFgcZCVFMNY7mUaST5ZWtVvGXqNfJ1/gXeZb0Vg/VLlNikSlOPUqQR0FERYHW/9u+HLxc+qc44Ldz9gp1vLVBdha28LfI+X/6mXxA/iD/lsFlQw+FNEbMiKIJhUoMCc0JPggsh4/HQwc3Bl9FgMS3QxKCOoE4wKyAUIB2gHLAnoDaQOiAoIBAQE1Ad8BngI/AoEAy/1P+rX2n/Op8FPtUelD5JneUNmt1EHQsssdx3vCJ74pus61hbHureCqNKhFpeShM55Vmo6X9JgkouGy2Mdt3yv45Q8qJKozSkGhUI9hs3Ble/9/un00dCJlI1dLTnJJjUSkPG0yGyYKGKsJXP63+IH2vPQe8t7uLuxa6VTnC+nS79T5pALsB74JvAk7CS4KHA7OFCcblh2RG7wWyBHcDLQI6gYnCfcNABEbD9QHLwCH/YUBDgpaE8YY/xfNEv8MpApUDQwT2Re9GlQb9xjfE1AN5AcMBpYHpQi5BkQASPUs6TjgJd0G36Pi6OMf4ZTbYNW20RbSENYH3OjgCeIa337Zm9Pkz97OgM87z6zMh8ZuvRyzvqjLoNWbiZgXl5eZUqGarZy95tKq7EcH9B3YLtA97k3hXSNrwnSdeYl3xm6gY3hafVT3TaBE5DnvL5ol1hjeC+EB7vvL9yj0+vAE76ft8ey47on0hv0oBWIJYAv/DCcP+hFtFWAZ2BzyHXUb4xc7FbcSow/JC3gJ0QkgCoIGcP/2+t/8TwP8CUQNRQ2uCyAKyApzD10WJRo3Ga0W5hXcFoYWgRPXDxcOLw3YCekDufsz8uPpPuXV5AvlvuJu3bTYFNex18HYR9mY2g7cUNzf26fakdgW19jWOtfg1e7Q+MfQvoG5WbZAsXSoRJ24kkiQKZiWqBu9ZtEo5h77ZQ/CIE4yr0cqXppv73eYd+VwCWfoXLNWzlOmT0JGPDdpJzEa+g8HCOICxf+S/Cz4SfKM7SPsHO5q8zP70gKFBywIUgevCDwNVRMyGKkaphpVGDoUQhABDwMSmhaYFnsPtgTw/P76X/xZ/4QDiAeTCLwFswJABJwK2xFlF94a3xsfGVwUfBHME/oYJhsmGAwSXwtyBIn+r/oN+MfzWuxd5JTeyNqi14HVytY42p/bM9le1hfXpdtM4C/i7OEq4Eje6dvm2UfZIdiN0qXK6sNGv1u4NazrnnqXtpv7pjS1y8Jp0wToMPymDwQivTZ8S1RclWZja3hrD2XjXPpW1FT+UCBHDDnrKQQfQReqEEgJtQHr+gL1yvGZ75bvTvGV9Cf5vP6iAzkFlQUJB7gL0xGhFhgYMxZ9E3oSXROcE30SqBHhEtQSHA0RBIv9YPwGANYFOwqHCokGwgGDAQ8I5hBTFkEXYhajFZYUwBQBF1AaHRwvGvQUDw6/B2IC3v4J/WD5B/Jc6IDgnNya2/Lb+tp/2SvZU9kP2d3Y5NpZ3t7h4uPJ4o/fitvy2FHZ8Ntj2wbU4snewZK9N7lksieoDp57ndyopLqRyLvQ19xK8woQiCfsN41GG1UNYDhlAGfgZV1itVruUq5NGkcdO4ArtSBqHD4ZgBDJA9f5CPWk8oDwf/Bq8n7zpPMB9uj7xwFMBGQFzgn1EC8VHhQAEU8RqRREF24XtRTSEGEM6QlrDEoQ3A47BrP+MQDpBx0NBwyvCHAHFQkKC1MNOBB2EYMQ+A+lEh8VQhQOEWgPbRDgD5kKWANY/+P8Y/jM8bDsPuoq5w3idd1W3Pjcctvj2LXZ4twg3qbc39uI3WLec91Q2/nZM9on2NHS0czWyKnEFL4ftVSrWqP8odWqd7ohyXHR3dpD7RkGQRsnKkw620zQWyNhN2DaXjVeYlv1VRVRY0ubQBgxnCRCH8gcWBbrCk0Awvn39EvweO4g8Wv0gfUH9u/4Vf3vADAEwgiqDoEStxKhEXoSYBQYFv0X3RrBG/MWJQ49CNgJAg0jDKEHywTWA6QB6/9lAYkGoAqOCoUIVwgMC8QNQQ/3ERkVoxVGE1oQIQ+BDmkM9AgDBrYCpvz48+bsg+pU6pHowuNA3o/a1tjz2KPa3dzo3cDcOty13tThR+Jb4Qnhn+FH4b7daNiU04PR7s72yP+/UrRxqWSmSbFaxWzTw9TR1vvnnANaGcolOjM6RJdQmlIsUVJT8lUPVNdOKktORtM70S5PJoEkkiJGGggNmgG2+zv4YfX89Hn2yfXL8tzy+fcu/bP+QQCTBCIJOQrGCEoKjg65EaESABQpF/AWwBDSCN4Hng3eD3gKMALl/s7/JgDA/wMCaAbdBmQCCv8BAnkIxQzWDCkMaA0aDs4MHAt9C7kMBwvDBhMCvP1u+f70J/J18OvswOY94hji6eJa4RHerNxA3gzgHeAy4G3iY+Wr5e/jyOIX4mvg4Nxb2X7Xx9R7zrbFSb00tv+u7K4hvfLQMtoy1prZ4/FiER8joCdZL5w+fkq4TKdLaUz+TAdKAUa5Q4Y/DDYYKwomEifAJH4ZDwvRAm8BJv9u+nL2e/Q/8gjwHPID9+r51PnC+y0BXQVFBdwEjwmIEBkUERRIFaYYLBm9FJsQwBJFFzoVvwy7BiIIzAp9CMME5wToBpoFwwHCAFcEIAiICAsHVAd8CawKuglqCOcItAkdCDMEbgCC/b75QPUG8t7v8Ouo5hbkn+Mf4p/eLtwx3areQN4y3aTeTOG74eHgV+Gh4lHhQN3J2anYp9Yt0ZvKBMWpv9S1xK1ntubMAN012xrZreo9B34aSyKLLCo8MUbsRjpHlEu/TVxKdUcVSLxEfTm2Lc4pXSuDKDMdQw+XBvkCM/4b+br3Hfg29rLxXPE39vb5ifqb+6UA7gUoBh0EhQa+DdEVKRrpGDwUfBCmEbwV1hdJFn0QsQhSBC4FeQiJCL8EzQE6Am8DigG2/kAAuQWWCfIIsQaQBhoIEgqtC8sMHgzfB6IBAv5d/qj9cvj/8fnu4u00637mvuLw4STiCuKF4ETeYdw83OzeQ+I541vgid3l3abfJt9R2z7XCNSr0I7MFMfAwOm4irXhwMfU6t5r2PvUKuiTBc4WWxvuIbAurzcqOlI94kINRYFCekHBQjw/zTT0LAouJTH8K/YdaRF5DeUNDAuxBNH/lv1p+z75d/kJ+/n6MPrx+zH/HgBH/s39hgK7CSMP/RBBDy0N7w2iERsVPRUcEygQ3gz1CpoKnQr6CZkIoQcNB5AFjQK7/5kASAVfCE8GQAI+AUoE7QfvCAMHbgTrAuQAm/3U+rn5i/iK9WzyRPCu7TLq3+dp6BzpyeZy4m7fV9/u3yjgMuCB313eFt753jTfBN7I2/vYC9an0/nQhcsSxK29Wr1KyOjX9d282PXZCe6ZBSAPDBEyGnApzDH3MRkzmzeEO3w9tUA6Q+E+ETbFMRQ1kTeFMbglJBxWGMMVaxAhClMHdAZpAgn9OfoV+oj5MfgU+dL6zvpn+TP5TP36A9MH/wb2BQgJRg0kDgMN7w0CEc4RcQ66Cp8KVg38DuQN2AuvCogJ3Qc4BjsF9wWkBp8FCQPAALAADwHiABIAi/5I/GD5Off09Wv0KvK28KjwFvB+7U3qnOnJ6irrWOrl6Wbpo+eb5hnoceru6orqHOut62TqiOgd52DkQuHw3rzcz9gq00jPD9Bu1rndvd853rjhzu0R+dr9AgEeCDURnhWwFwQbmh98I48msyvQMJ4ykTDNLoAwozI8MZUrKycLJQQh+BoAFtcUQhP+DuMKkQirBm0D/QDL/5P+Mv0K/cH9Fv1x+1T7nP39//gAKAEuAU4BAwIeAxMEugR7Bd8G2AciCFEIpQgrCQAJUwhHB8cGQwdSB7UG/AX6BWwG7QVYBGECzADp/+D+eP28+/D5dPha99z2efaf9XL0SvOd8hTySvGo8D3wou+h7uHtbu027Qnt0+z87DLt3+xE63ro7OXt4wDivd+Q3OnYR9Ue04HT9tXV2O/aud2G4ZnlKuq174j11/l5/RIChQd+DFURFRcHHakikyf7K1cvbTFAM9U0YzXmNJozDTK6LzUt3yoJKCUlCyKoHrca9BaCE4wP9QohB8QEUAIo/3/80fom+YT2d/TG823z2vIi8lnyyPJG80n0IvZa+F76XPyv/VT+Nv9tAZcDVQSkBJwFIAfUBwoIMAjMB7sH9wf9Bk8EiQFlAHn/gP2K+1n6PPki9/f0uPPO8kPxEu/q7A7rDOqC6WLobub85PDkQeQc4qvf5d1u3JXaQtin1ZDTy9Ld0/nVPdgM2w7fSuM352vsxvJ1+GX89v+QBK4J0w4ZFLIZAx9RJEopHC3UL9AxHDRaNTU1XTTGMr4w8y3eK6YpdiYRI6gftBzeGJQUcRAGDPAHowSbAmMAwf2V+3P5q/f/9VL1BfUd9CvzPvIh8l/yZfN09az3m/nN+iH8yv16/y0ByQInBB0FxQU0Bs0GbQcmCLcIgggmCLEHvwYrBVIDsgHv/xb+X/yL+pX4evbg9P3zA/OJ8Y3v9u3k7J7r6uk56AXn6uUO5S7kFuOA4Xrf9N3T3F7b8tgt1oLUi9TQ1fXXptqw3f3g1uTv6azvNfV/+XD9SgIoBw0M0xAhFrcbdCFFJ+YrzC+vMlA1djdnOEY4yzYCNZwy3y8eLSUqCydbIwcgjhyVGGgUsA9ACwMHYQNoAKf9Rfvb+MH2IfUv9Ljz+fKt8oLyJ/Lx8UvylfMp9R/3Gvnp+ob8/P2f/1oBLAOQBG4FGQa0BlsH7gd/COMIJwlXCTgJoghIB6wF8gMfAlkAnP6x/Iv6hfiw9ur0O/N08bbvQO6K7E/qFuh15inlEeQs4/DhOuBk3ozcRtvb2Q7YGdYg1GnTZdPc1HbXLNqv3Ujh8OUv62bwXPVP+S/+EwPzB/gMKBIRGGodOCOjKE8tEjG3M5c23zhSOi866jhPN9w0hzLYLxgtPioWJ4ojMh8QGy0W4BDbC3QHCATEAL39ifrV9/T1efSd82TyWvFO8E/vLe9w7zPwUvGO8wz2MPjo+e/6e/ww/hkA+QEPA9sDTgTyBKEFogbUB1AImAhCCMcHCAfZBXQEXgJTAIH+6fx7+6/50/fQ9eTzLPI58B/u8Ovd6Qvoo+ZU5UzkZuM+4sTgBd9m3bbb+tkU2K7VddP50YzRYNJM1O3W6dkq3bHgPuVw6qLvVfSE+PD8ngHuBo0MOxLqF2UdbiMuKcotXTEQNH42XDgNOu06eDr7OMQ2hTTPMeAuhyu2J+ojpR8hGxEWwxCtCy4HzgOuAMn9bfoJ90b0GvLT8Jfv4e5w7jjuee7D7oTvqvDJ8kD1jPe5+Sv7u/wg/uL/xgEoA5wEsgXWBsIHhggrCWIJqAm8CZMJDQkpCLYG3QRZA8IBSQDM/vP88PrW+KP2Q/Q78njwvO7i7BbrFekr58jlPOTO4rvgid6U3H3aKdkW19HUndIh0ZjRzdKW1fnXfdqc3eTgSOZ160bxNvZV+nj/9QPwCTUPYBSOGf8dtCMeKNwsPzB+Mu80BDbfN0o4KTj1NqA0rjKPLx4tuilmJhoj7x4xG0gWzhH7DM8IagXPARb/mfvu+DX22/NS8izwFe/e7VLtOu087brtEe6P72zxLPTB9qT4jfq++4r9Ov8EAcQCPQT6BUMH3AitCRIKZAo7Cl0K9wk3CasH4gUUBAoCmwDG/h39U/tc+Zb3GPXQ8nnwXO6Z7MLqGukN5+fkpOLj4FffSt1X20zZb9ch1bXSrtDtzmXOK89o0QPU0dYy2ijeiONc6YnvU/Vy+pj/CgUhC9cQbRZ2G2IguyW9KqkvgDNgNkM4yDkhO307VzvmOdw3YDVxMpIvWSz4KBYlGyHdHEwYcRNsDs0JZgWIAQH+N/vC+F72L/Td8RbwwO4x7gTuEu4O7sbtUO5C71vx4fMu9mj43/mV+zf9G//6AHcCRQSvBVQHzQjPCasK9Ao9C10LGgsgCogIuQa8BNUC0ADe/s/8uPrI+KD2g/Qe8sTvrO2z69LpvecK5mXk2OKE4e7fNN5R3HXap9jb1p3UTdJb0AbPHc9n0MPSLtXG1zjbfd/s5I7qTvC79QT7rwCBBqIMLhK1F0Qd1iKDKJQtFTJeNQc4Hjq3O948sTzsOzk6ADi1Ndoy0i9ELIEoiyRLIPcbMBdsEq0NVglsBcUBv/7E+xb5ivY89G3y4PDN78juUe4c7h3ure5m787wc/JF9BX24fes+TD76/xm/igADQLzAxAGkAfoCL8Jcwr3CsMKRQo8CSoIrQbuBBUD/QAh/0D9nfvZ+QP4s/UZ89vwhu6t7NbqDuln5+Lls+RZ48vhrt+t3d7bItqC2EnWsNM/0brPfs+e0KzS9tSQ16ral96L4xHpq+7t88v40f08Ax0J6g5hFLkZQx/pJDMqXi+VM9w2XTkfO688ST31PJU7oDlVN7o0IjLdLk4rUSckI/sefRrsFbMQnwseBxYDBABA/Zr65vd19YXz7fEQ8S/wme857wLvce8E8E3x8PLx9Ar36Pjx+ov8G/59/xcB0wJaBCYGoAcbCUkKFgvEC+QLmgvyCgwKywg6B4MFjgOWAcP/8v3b+635s/ds9Srz/fCm7pjsPerx50fmwuRJ47Xh39/r3QncNtqf2NzWV9Sd0WrPRM4zzjTPAtEi07XV5dju3Bbiu+dD7Yzyl/cX/ewC0wi3Dn4UExpsH7Yk9CneLq4y0jVWOOw58DpFO+w64jkaOOY1hDOnMGkt4ykwJnwiXR7uGTcVPBB6CxUHQAPq/9z81fnx9oL0i/II8b/v8e5z7g/uEe537kvvfPDc8YvzcfVf9/H4Kfpi+7v8cP42AC0C4wM5BVMGQwdmCDUJwgnWCW4JvQikB0gGpwToAv0ADf9g/Xb7W/k89+30ovJl8GLuOezj6dHn6uVQ5OTiOuE03xjdQNuH2dHXrdUL05jQ0M45zsDOQNAx0p3Urdem28jgQuby6zrxX/b3+9UBEQgBDoETCRmLHgQkiCmzLvYyXjbjONU6TzzxPOo83jtMOk042zUpM+QvPCwwKO4jVx+rGtUVrhDMC1oHbQMEABz9qPoe+In1KPMD8UzvAe4p7ZzskOz57MHtKu/x8OTyDPUT9/X4rPr++yf9lP47AM4BsgNyBeIGOgg+CSgK4grtCkQKkAmGCEMH3gUqBHECTwBX/qP82fo0+SL3xvRy8irwCu4L7OXp1uf45fXjQuIV4BLee9yx2jrZQtcQ1eHSBNFK0LfQENLT0zvW/Nhg3O/gFeaY67DwoPWJ+qP/bgUdC8QQBxYiG0UgKSUrKuUuvTKANWs3sDh8OdY5TTkqOHI26jMYMf8t3Cp8J7Ejmx8+G8gWCBKGDS8J/QRJAcf9uvoU+Iz1UPNh8dPvku7E7Rftouyq7PPsy+0S7/vwIvNS9VL39viw+i38zf2h/20BIwOWBOsFJQdHCFgJHApgCg8KjAniCNIHhwb5BDcDPwFv/5j9r/vL+XP3DvXM8ojwZu497PDp2ee+5bvj8uG232fdXNt22fTXQ9Yx1AHSBNA1z3fPxdDe0ivV0dcI277fg+VP6/rwFvYa+08A9QXyC1wRXxYQG80fxiTfKaIuMjK8NH022zeeOJ84wTcTNu0zLTE0LvcqmSf+Ix0gPxxIGCEUdA+4Co0G7wKx/9P8NvrU95f1xPN28lXxlPDd71TvOu9x7zDwQfGQ8i30D/YQ+P35tPs1/Yr+xP85Aa8CCwRNBUgGRwc8CDAJ7QkQCpkJnwhoBzsG5wRSA18BOf9S/Yr76vk8+FX2VPQa8rjvhe0y653oYeZQ5HriX+AQ3gTc7tlS2NXWR9Vl04vRmNCk0C3SiNTx1ufZX93J4SrnhuzV8YT2Avvd//QEaApcDwQUpRiMHfIiHygALbAwkjMFNr430jieONo3XzZOND4y4S9GLSsqwiYkI0wfUhsFF1sSww1xCXgF3QGU/vP7jPmT99z1OPTr8tLxE/GD8D/wP/CM8D/xdvIj9P/1zfex+Yb7B/1N/n//QgDsANMBgwJtAxsEzQShBTUGzgbZBnUGsAXBBMgDcgL9AGH/u/0T/Gn67Pg/94D1k/Nt8XPvAe2e6mDoROZm5B7i7t+73aPb1NkH2EfWY9Sq0trR5dFB00fVmNdy2rrdNOJh58js9fF/9tj6aP9wBJ8JkA53EyMY+BwkIi8n0CtiLy4yUzTKNbU2vDbPNVw0cTJvMF0ulitvKLMkBiFRHZEZtBUYEcAMfwj2BPABOP+O/L75jPd/9UT0ifOi8snx4PB78J3wGfEQ8hvzgPQb9qr3QPmL+qf76fz6/fj+BADmAKkBXQI5AyIEEgVsBVMF8QSABEIEjAOOAjMBn/9D/gP9uvtx+sP48fYk9VfzwfHX79ztiut96ZDnfOVd4wLh6t633ATbLdlN147VNtQW1OrU1tYH2a7b2N7p4uTnEO1L8uH2XPvo/9AEDwrsDs4TWBgpHU8iFieVK+ouqzG0M0U1XTYyNo01BzRiMowwUi7YK3coHSWVIR0emRp6FicSbA0nCXUFMwJX/z78ZvnR9sz0ffNf8pTxkPDF74Xvye+j8Ivx4/JX9Pj1mvcM+XL6pfvi/P/9Lf9OAGgBYQI1Ay8EFgX0BUgGKgayBRUFjQSZA00CaQB9/rr8Nfu/+eT37fX780ryz/BM74Ltb+tc6X3nuOXY49HhmN8n3QDbP9mw1xTWjdSc09XTVtWY1yvaCd104Mfk2+k470f0zvg9/doBLQeIDKkRZBbcGrcflySiKestIDGSMzw12za5N8Q31zYXNSszrjBOLncrEihAJCkgURxVGEgU6g9LCyoHfAN+AOD9FfuN+E/2lfRW83HygPGQ8OvvpO8t8CHxX/Lb80P12/Z6+DH6yfsb/Uv+Z//AAPYBDAMBBOcEqwUzBpUGqgZmBvkFXQViBN4C4wDd/tr8CvsW+eP2r/Se8qvwvu7f7LnqcuhI5knkoeLS4One5NzX2jfZwNd71qjUCtOb0lDTg9UA2H/aYd3P4IrlDOvL8A/2hvoI/9sDhAkODxQUvBj0HMgh+CY6LJ0wjDMPNus3dDliOvE5dDgiNrozGjGWLqgrvyeaI2AfyRtPGEgU7g8mC/MGUQNIAIn9QPqE9zf1pPPB8szxyPCi7/ru3+5F7z/wFPEf8lnzufSN9i/4zvlR+6L86v07/3IAOgHuAcICYwPuA0cEfASqBJgEWASjAykCSgBm/n78rvqB+CT28PPf8Rfwiu7Q7KzqQejY5c/j4OGp30PdwNpy2F7Wk9Qm06bRBNGX0XbTVNZf2ePcuOAs5WfqMfD/9d/6mv9nBIIJFg8kFCAZ+R3WIsMnqSxHMY804zZsOIg5IDqhOV44GDZ2M6Uw9C1sK+onQCQzICMcIxikE1APnQp9BugCqv8o/TX6m/dg9YLzTPL78PLvpO7I7Xntvu3k7tXvWPEm8wf1Fffo+OP6I/wy/UD+BP8IAIcAFgGbAQsCqQIUA5gDhgMXA4ECgQFjAMP+2vy7+lv4KPYX9EjynvDz7jbtZ+uj6dnnDuYS5MjhVt/b3J/apdii1prUldJT0WLR1NKJ1WbYjNsw327jhujW7anzCfnD/dYCIwj8DVATRhgoHbMhwiagK1gwLzTQNtM48DnfOqY6RDkcN1806DHqLg0soSh3JFwgARxVGCwUpw8fC4sGPgMqAHv9rPqf90T1IvMd8l/xfPCf72nuz+3g7bbu0O8R8bryqfQa94/5xvtG/YD+t/+uAO0BzAJvA/IDUQTCBNQEAwX3BJ8EVATDA/QCfAFz///8P/q+94L1lfPV8QnwVe6J7Lrq8+jn5t3knuIR4JLdXduA2WDXedW603DSptLx08/WItph3R/h7eTv6T3vuPQM+mX+eQOPCC4O8xPFGI4duCFZJgYrlC/ZM1U2STg9ObE5pzkaOOo1zDLyLyAtDioNJxQj/x7GGtcW7RJuDhMKhgXBAYj+a/vF+OT1V/OU8dTwf/AV8MfvKe/M7i3vKfBG8Xvy7/N99bP39fmw+yD9I/76/u//HgE7AuUCMQNqA5cDywMRBPQDhwO7AqcBdADZ/tD89/kg96H0WPLN8P/uSO1i6+foAecs5aXjf+Ge3g3cANnY1vbU59JH0WbPA88Q0NLSldYT2lLeH+LE5j7sv/Gu9z/8NwFrBu0LOxJGF1Yc0yChJfgquC+RNJU3wjlBO/E7bzxeO485qjZ4M7gwiy07KuYlXiG1HAEYvhNIDwALQQYHApf+lPsA+RD2kvOj8SXwge/X7iHuku0D7YXtfe637yrxavI79IL29fgN+1n8cf1D/lf/rgCWAXkC5gI+A3sDkgOJAxEDqgLcAewAxv8D/tD7HfmN9iT0DvJD8ErufOwz6gToGub/4//hWN+93Abandey1ZvT3NHiz17PZtA7007X59o93xXjuuc97cHyxviS/X0Cdwe2DM8S8RdOHQkipSaXKwMwlDSvN0Y6tjsnPPk7bDp2OF415DGVLvMqmiekI2kfGBtbFmwS8g3cCXgF2QBb/dr5MveL9OXxye8P7lntrezO62LrQOtb7O7to+9f8cvyg/SC9ir5wvvK/V//eQCyAVADwAQFBk4GEgbOBYsF6AXTBZQFfAS4Ah0BJ/8y/bL66fcx9djy6PAt72LtJutK6YrnPuaX5Cjiad+928bYFtaC07LRo898z/jQG9Sp2FDce+Dz4zzoze1b8+X5TP+0BNMJgg4qFA8ZrB7DI3koty2RMfY1uTi9OmI8azwsPcI8qjy2Oxc4ijMOLZAn1yKhHngb1Rb1EY0L4QTp/nX5Z/Zr9MXz6vIw8XXvTu117HHsw+wp7ZjsvuwB7vrwYvV0+WT9j//3ACcCnwKPA5oDfQRIBREGAweuBmMG7ASIA1ECAQGh/8L9ePsr+YX2lvNd8Jnsa+kU5oPj2OAj3q7bH9ns1lPTf86AyJvB2Lvdttmz9rJgtd69qsmI10vju+s/84j6YQS+DzwbBybCLuI3HUH2STpRI1SAVK1ShlGfUIlP900CShZFET4/NccqVh6OEikIvf9K+VvyxO3a6Xjnp+Xo4p7hXN/S30zhWeTK6FDtK/R0+goBbQXZBnoHRwdaCcsLNQ5pEF4RKBPYE08UjhMrEY4OCQteCA0G0QOqAlgBVwBQ/hf7Gvg/9MHxhO/47TTtRewn7IPrleo06ETkQeDq3FjbNtpo2LfWaNQF0znQU8wYyN3C5b8BvNm4obSrsAmzsrz5zjLijfIJ/4sJnRVaIakstDXePJFDkkpQU3Na5V3+XGhYxFPeTU5HOkCxODAy0ypTI+Ea9xAcBtz6aPE86uzkNOHH35zgKuPY5jzry+8083f1fvcv+u39+wLBCAIQTxffHNsf+x/uHpgbjxeSEzwQZw7/DF0MgQstCmQIpQV4Amv++Pn99eXyk/FW8Zbx3PHh8Zbx5/DJ72Tunuxu6yzqU+li6PXmquWZ43XiC98V2zXWC9LuznXKf8Z+wUi+3bpZt3Ozta66q5Oto7eLyercBPDYAeUTlyXpMJQ5Bj7iQxBJbU1kUwFY9FzDXQlcGFhpUb1IdD3FMbwm+RxCFnsQvwsBBh8A/vn88i/sz+Vn4t7gtuHm5PnqDfPI+sUAIgV/CMALAQ7uEL0UBBnuHPEepiBpIWwhKB+MGpUVGhGkDcIKCAi7Bk0GqQYvBoEE6QFB/v/6H/do81/v6ezc64jr3uuA6x7sXusa6mzn+uMC4XHdZts82dTXFNbx0wvSu87byvfE2r4tuTS037AsrQGq/aY1qxe338kk3snwggWVGForkzY0P+pF8UtjUS9TqlZUWWlc/lxqWpRWHFCLR8g8ezBLJTgaNhGcCMgBYPyD95/zy+6b6u7lw+Kb4JPgmuPu6Hfwa/jV/yQHUA2FEtoU6xTxFJ4UlRSPE/oSKhNTE4YSxA8JDYEKjQcpBGkAoP3/+zz7Pfrq+Tb63fo8+yf6gvjY9pv1cvTf8iHyR/LG8gPzk/KS8l3x8e7l6o7mMuJf3arYRtRj0FrMeMjhw9a/jrsPuMazCq8+qa2kdqh9sh7E8Naa7EYFwxwdMsw+mkhqTfpPDlAETidPLVD9Um9V/lcgWhFYwlFaR/E6Cy08Hp0QFQTn+371kPGW8K/vdO/H7Bfq9eZt5XrltOZl6ifv9/bZ/y0KLhMuGoAe/B+RH94cvBn1FE0Qawu7B9YFCgV9BBQEmgO3ArIArfxn+A/0KfFX77zucO/C8Zb0DvjF+gH9kv5f/v/8Avrk9kb0WfIY8FjuTez46rPoy+WG4TXdGtiX0TzMkMQivsW2hrEIrTapK6aVpS2t6bg9yibbTe99BVgaCywLOLpBo0iTTaBNrEzKS6lMdk/uUKNRUFHbT5xMRkXcOv8tDCG0FKMHLP1R80XunOrK5x7nnuX45kTnl+ht6gDtg/Fw9W771gA2ByQNrRHhFvQZhRzUG9sZoBfSExgQ+QqpB5UF+gOVAnEA5P88/9r+of2g+xf6xPeX9QPzG/ED8BPwI/Hc8YrydvPO9PL1z/U+9KfxIO9J7I7oHuWu4R/fa9zD2FrVC9KnzsDI8MGyuw61Rq6JpW6hLqWosI3AXtHI58AAgBqZLjE94kmnUulXA1ZUUnNP7E0mThNNSk3hTQ5Oj0xyRi8+sDLkJasXYQf8+dTtaOaE4AHcVdtw3JDg4ON25/Dq/e708tD1ovhj+3X/TwThCJYNcBKzFqsa0RxkHfgbcBhxEwIOMwmjBD8Bnf5W/Ub9Mf11/lH/FADL/7f9Qvwg+tn3M/WJ89DyAPPU84b0f/Xb9YT1ZfTk8rTvWusC5uzgjdzR11nTMM+bzIvKpcZowuu9vLkWtVCue6q7qw+0jsCJz2XjM/r0ElQnLjnYSOhUulwiXEZZK1UQUStNUkhvRcRD1EI2QR8+XToZNDksfiEdFZMJe/3e8/jpYOI13tbc4t0X34nimufr7i31c/qO/2sEAgp/DfgPyRGPE3IVBhaiFpsWuhbIFpUUCxPzEDoPiA0KCmwH0wMSAcD8NvgJ9UrymfAV7gXtNu3j7vbwfvJd9DX2Zvfe9m719PJc7zPryOUQ4e/cEdps10nVbtPf0QrRV86Gyr7ELr+juPuw7KgDpdSn07AIvoTOJOTe/EcWRCurPkZOaFoKYMBe8FtJV+hSWU1GSC5FEERjQ2BCCkHkPqg6ZjPcKJAcAxAPA5D2IOo+4HbZ6tU11Z3WaNuc4l3r+/MY/BwEOwtgENATRRV4FqsWxBWYFC0TWRIIEc8Pnw41DjMOCQ1JCw0JVwb6A9D/5Puv9yr0CfGH7Wrr0uk86knqYOuj7E7uKPAv8OjvN+/j7fzrZug25Jbgft2Q2x/ZW9d41t7VLdUK00fPossOxrO/hLexsZOxxLW6v8LLKd4+82cKxB91MnNFFFOGXAVe8Fu8WGFTRk1uRdI/4zwFO4U5ezd6Nuo0eTHoK0Mj7hp8EGQFEvlG7U3kotyw2EjWzNiF3ark2eza9DL+ggUuDJYQRROPFHcTXxHdDqgM7QrrCNwHFQelB7wIYwklCl4JtggcB4oEKwGN/Ir4EfSj79Hr4uhh6M3oMuqg61Ttk+/x8KzxqfDp7nbsjejV4wTemtnf1QPTTtGCz9XPvM/2zqLN6cpjxx7CorzmuXO6TL8ix6TTO+Sn90UMCh86M1BEclKSWvtcD16WW1dXUFCWSMVCUj2kOCI0ujDLLqUrYyilIi0dqhaDDt0Fsvuv84zr+ORs34rccd0L4OzkUuq/8Sb6QwL+CVUQuxXTGAAaVxlmF7oUJBHWDVAKSgd/BZ0EFwW1BSQG2QZ6BoQFXwNWAAT9ovgx9DrvlOvl6HznheeC563otOnF6inr/Opc6s3oguYD48ffkNyh2SrXKdSO0vDQG89qzVHKfsd4w8m/er1xvprDeMtd19zkBfb2B6cYuynyNzZFsk3SUdZTqFLFUERMKkfTQek8pDj/M2MwdiyKKDkk6h6oGVETlgxcBZH9ivau7/fpUeUy423jbeWz6Ozsd/Lr+DD/zQSQCQ0Nhg+AED8QEA+4DYgLegn6BioFkgQ7BHwElQQXBZUF4QQbA+4Azv1p+hb2bPEn7frpx+eE5nPmo+bi5w/pP+ow61LryOpU6QznTuS+4S7fXd2o2zHagtmG2NzXjtZ31JjR0c0ey8XJQ8uez/rWB+Kb7uf9IA0tHHYr4Td2Qo5I2UvjTJtLg0lfRSVBijx1OHg1pjF/LuoqdyeII+IdzBiJEkQMlwWR/lb4FvNK737sXevd66rtfPDw8973kvwKAXMF4giOC4cNpw72DmMOUQ3BC/4JwwcRBsMELATDA4QDYgPpAhkCMgFw/6z8SPl79YDxRu3g6QfnpOUS5SzlrOVD5iDn9Odh6CLoUOcG5nzk6eI24UzfEN733NLbA9r813zVh9L+zkPLE8nkyU/OMNW03s/qf/kqCVMY9CUaMrg88kNbR5lHIUanQ+0/ZDvtNmQz1jC5LnYsOSpCKOElWSIGHhcZKRPbDEQGyP8B+vP07PDF7fHrVevL6zztde+J8nP1+fgf/Af/zAGWAwgFfQXsBecFVgVTBPICBgIjAUQAFv+Y/d38+fvJ+lv5Zfec9Snzl/Cd7bLqPehe5sjkn+N/40DjB+RJ5Fbk2eT45A/lsOQC5NPiu+E24DreVtz/2fzXK9az1DHVttcM3e7k7O5s+qMHFRXUIdItgzefP61E60bBRpZEWEFtPSs5azVhMo4vQC1GK2YpHyefJAEh3xxXGPkSIw3DBpkA6Poc9iDyB+9K7RHtFu7r71DyDvUO+AX7nf1u/5oAQAGjAVABoQDn/xn/mP64/cX8/PuB+/D64/ms+PH2KfVh8wHxpu437FjqTegu5pXkW+P+4l/iAeLD4bHh1OGq4XThEuHF4DfgPN9X3mjdQtz32qjZntgn2MTY5toq3/Dlj+4D+VwEbRBeHPEmRDBFN308Kz+HP+A9yDq3N5I0ejGILiUsmCotKX8nUCVoIiUfnho6FVgPEAnUAkb9dPh69NDxgfCM8EDxyPJG9SP4ufoF/en+nADMAbkCVgORA+0DSwT0BBoFFgUGBc4E/QNhAoIArf54/PT5bff49GrzzfGE8I7vJe/a7kXudO047IXrdOpV6RnoLOce5+3mDuc454nnGujW5zXn1OV65AzjROHf37jeQt+44QDmVew09Nb9qAj4Es0ceyXmLLQySzbCN2Q3CjbPMzExYi7/KysqmigQJ2AlKyOcIDUdBhlTFCUP/gn3BLQA8/w1+gr4qPYb9gv2t/ai9+T4TPqO+5L82P3B/rb/mQBYAUgCAwP6A68ENwU3Ba4E2gNQAnYABv5F+z/46fSb8Ujuh+tK6bLnxeZR5j3mJeb65T7lUeRd47nhN+DL3vXd990J3rveyN+C4UDj1+Qs5vTmkee353/nKuev547pJ+1R8oX5QAJ6DDwXaCH0KtwyZTluPWE/ij+iPkk95Tq4ONs2czWVNC8zvzHVL/EsHylzIxEdxhUMDi4GUv6R98Dxju1i6lfoaOfq5hTnKef15rzm4+UC5fHj6uKw4tXiMeQH5lDo++og7T/vcfDk8HvwMe/N7aHrKOmA5ibkYeLw4FLgS+Df4LPhveK14zTkROQX5GTjkuIF4tvhiOKW45zlGuiq6kPtau8R8cfxyPEv8SnwT+9J7uTt5e428U71c/roAJcI/hBfGSMh/ye6LdQyiDa/OEo6ZjsnPLc83zxzPTo+Cz+UPzA/Pz4qPEw5LzX/L1sqfSRBH4cafRZ7EywRdQ8ODvYM2gueCnYJ3QdMBqcEGQP6AR0BnABYAE0AcgCEAE0AaP/i/cL7TPgc9ErvFOoQ5Yvgg9zR2A7WJtQ30/nST9NZ1ObVz9e42YLbdt2f39bhHuT55aXnTull6vbqAuuo6iTqkOkj6fvoTOlo6u7rn+3i78zyIvYs+t/++gPoCSYQtxZWHTkjoCgJLQ8wIDL8MtgyKDKNMMUuBC0WK0kpZicnJYIijR9NHMEY/xRNEaANIwq3BncDXgCR/Tn7GPl990j2RPVc9ITztfLK8QvxifBA8DvwE/BN8E3wFPDI77DuT+2Q6+3pxOgO6FbnEufg5kDmYeX7417iyeCw3w3fbN/H4ALj9uQn5ovmauVp42rgCd1C2ovYKNhb2QbcXuDa5WPr4fDi9Wb6T/56AekDrgVYB7EI5wn0CogLiQx4DTcOGQ/cD5QQFRHzEUMTrxSUFsoYyxodHVsfACFGIt0ioyKAIcMfLB35GaEWMhO/DyUM/AhCBrsDhwHj/6b+wf1O/fL81vzQ/B39d/2i/Qf+Yf4C/8n/tgCuAYoCdQMlBLgEHQUhBewEfQQfBOsDDgTUBE4F2wXYBrsHdwj3CEAJ+AiaCEsIqQcSB6kGdwY9BsMFCgXLA1MCmwDP/jr9y/uw+pL5rfgA+Fz3zfZL9vX1qvWy9eb1PPai9hD3vPdb+DH5N/pf+4/8nv2K/iL/yv9YAMwAXgEKAtkCpgObBJUFgwaKB1QI6whYCZAJoQljCSoJvAgrCHcHvwYoBjsFaQRfAw8CsAAc/6D9G/yx+mX5Ifgc9z72ePXd9GT0E/Q49Lr0XPUe9kT3vPjv+Sz7kvzZ/Rf/QwBqAWUCGQPlA7YEZAUhBtQGbwfoB0wIhQhUCBkIBQjZB7wHeQcVB98GiwYuBqYFEgWRBB0E1wOFA04DCQPfAucC4AK8AnACcAJ3AkkCFgLDAYIB+gBIAKX/w/7c/cf8zfvq+vD54fis95L2gvWE9GXzSPJN8VzwjO/m7lru5O237bHtg+1r7Znt8O0o7nzuAu907//vkPCJ8ZXykvOV9H/1sfa196j4uvmZ+m/7K/zP/GP99f2j/jj/NAAwAfcB1gK4A4sERAUEBpUGOAfvB1AIggjVCPwIKQlDCSoJBQnkCOoI0QiOCFUI6wdWB9cGUQbQBRQFoQRkBOwDfwNOAykD4wKfAnkCXgJeApcCogKeAtkCAAMOA0UDfgOgA4IDegNWAxYDygJfAg8ClgEFAS8Ahf/p/hn+Xf3O/Dr8W/vF+n/6+Plq+Qr5svho+Dn4K/hL+L74wfiW+NP4O/lm+YH5ovmP+Y/5nfmx+aL5yPni+f35Gvoc+kH6Yvp7+rv6Dvtz+8v7MPy0/AL9lf0h/qz+Zf8MAK0ASQHzAXcC5wJqA8QDHAR9BMIE7AQtBVkFQQUeBQEF8wSnBG0ETgQuBEUEUwRqBGoEcQSgBN4EMQWDBeoFagbkBlsHqwcUCIwI4Qg6CYkJ2QnqCUgKowquCr0KzgoRC+MKngprCvcJzgnUCdYJ0gnSCesJ6wkKCv8JpQlxCRIJwwh3CBcIuwdTBzgHAgfQBoIGFQamBTYF7AR6BOkDVQPtAnEC8AFPAb4AVgDf/5f/Lv/N/pn+bf5i/mL+ff6P/tX+IP8r/2T/mv/B/97/IQBoAIsA1QADAQkBEgEAAQIBBAHfAOYA7QDfAMMApQCXAHQAXQBMAAsA2f/J/5j/f/9b/z7/KP8R//z+uf6W/nL+Of4F/sD9fP1W/Tj9Jf3j/MH8wPyX/H78Zvxg/E38SvxS/ED8M/xT/IP80/zz/AH9Rv1t/aj9t/26/fb9Jf5Y/o3+sf7B/pH+mP69/qf+of6r/rL+s/7I/un+6/7Q/sD+0f7g/tz+3f7R/tD+/v4p/07/m//g/xoAZACUALsAAgE6AVQBgwGsAdYB9wEBAggCFAIuAlACUgJVAnACoQLGAs0C/gIOAw0DCQMMAx0D+wLIAqsCowJ/AmYCVwIkAvgB8AHSAbABmgGRAZQBdwF0AXkBZwFmAYMBrQGOAW8BkgGDAYgBhwFtAYYBigGdAaQBqAG0AawB8gEcAlACqgLRAikDgwOwA+UD/wMFBBwENQRDBEUERgRKBHEEjASFBFkEQQQnBAME7wO9A60DiQNaA2cDTwMVAwcD7AK8AokCcwJVAioCCwLyAeYBxgGgAYUBXQFAATUBLQEjARcBHAELAecA5ADqAMcAowCrAJMAPwAZAB8AAADA/6H/nP+N/0n/L/83/xv/Df8H//L+y/63/rL+xf60/qf+r/66/sz+uv6s/rD+uf7z/gf/8P4Y/zf/Yf90/3H/j/+j/7D/3P8NADkAfACqAMQA9AAuAUoBdgGiAZkBnwGkAc4B6gHXAewBBQL1AcYBxgHHAaEBkAGbAZQBagE8ATIBJAHfAL0A3QDaANMA6QDuAO4A6QAAAf8A8AAhAUoBVQFdAXEBeAGDAXUBbQGGAYMBoAGzAaQBjQGBAZsBjgF9AZIBjwGXAZwBngGKAXEBcQGXAboBlgGVAaQBpgGtAbIB2wHbAboBxAG+AcABkgGQAZcBgQGLAWYBaAFYAVABUQFVAVABMAEiASYBVQFHAT8BUgFmAXkBVQF/AaUBogG4AdQB/wEdAv4BBwIqAhYCGQIOAgUCFAIdAswBpQHEAaMBewFUATEBGwEDAfsA+QDpAPUA6wD8AAsB+QAOAT8BdAFrAXMBhwGCAZgBmwGTAY0BcQFqAVEBLgE6ATwBMwEyAR8B+gDjAPQAGgEGAf4AIAEfARIBFgEdASYBEgEAAR8BKQEeAQcBAQEPAfsA9QDxAOgA7QDoANsAzwDKAMsAxgC4AM0A7gDzAOgA+wAWAQQBCQEiAS4BGQEcASIBLgF7AWEBRQFcAVEBaQGGAXgBVgFzAVwBNgFEASUB+ADrAPUAtACXAIMAbAB3AGEAVwBgAGQASQBfAEwAPAB5AI8AkwCyAMAA0wAGARUBJQEbASwBUgF1AYYBggGcAZUBmgGbAbABxgGUAYEBggFoAVwBSQFBATsBKQExASgBHQEaARUBAwH8AAABBQEAAfgA/gD6ABIB8wDqAAUBEwElARMBFAEGAQ0BEQELASoBEAEQASYBIwE3AfwA4AAFAecA2ADLAMUA0gDQAMwA1wDcAOsA7QDkAPIA4ADzAAkB6QDsAPgAxQC2AMIAwgC/AKgApACZAIsAdwBkAF4AXgBUAF0AYQBfAJoAngCOAMYA3ADWAPgAGgFAAVQBSwFvAXQBUgE6ASwBOQEQAfIA9wDXAMAAsACkAK8AmwCkAK0AdACGAKwArgCAAH0AnAB/AI8AswDIAL0AtAC2ALEAvgCqAKoAtQDEAOAA2gDPAMkAxgDIAPAA7gDrAMkAswC2AL0AywC2AOEA3ADyAOkA4ADzANAA0ADIAMoAxgDvAMEAmQC6AJ4AlQCHAHAAbgBpAFcATwBTAFwAWABSAFsAYwBZAFcAbgBpAHEAfABpAG0AdgB5AH0AlgCfAI0AewBrAIEAfwBYAFEAaABzAHMAZgBdAGsAYQBbAEIAQgBIAEsAYQBHAD8AMQAXAPj//v8BAPX/CAAJAP3/CAAAAP3/AQDt//7///8CAPf///8eACoAIgAcACQAJAA7AEYATABPAFkAUwBpAFMASgBTADgAPQAdAAYABQDw/7//sP+w/6f/l/+b/7D/of+l/7f/mf+M/6D/kP+O/7H/xv/N/9r/5//1//j/BwAhAC8AOAAfACUAQwA7AEEARABNAF0AVQBXAFYATABQAFYAYABVAGIAgABdAG0AhQCNAJcAkgC4ALEAqgCjAJcAnACHAH4AbgB3AHQAVQBdAGAATQA5ADEAPQBKACoAFgAgAC0AQABHAEQAIAAUACsAMgBKAGIATwBNAFEARQA6AC8ANgAuACEALwAaAPn////7/w4AGwAMABwACAARABcA9/8LAAAAGQA0ADEAGQAxAH8AiQBpAGUAhwCbAIUAXACAAH0AgAB6AFEAUgBQAFUAPwAkACwANQAgAB8AUgBhAFcAcgCBAJEAowDHAL0ArQCuALAAugCfAH8AfgB+AF8AYgBfAFIARwBVAF8AOAAhABgADAAEAPr/AwD4/+P/5v/M/7//sv/T/7r/pf/Q/7P/r/+n/6H/jf+b/6T/kP+i/5P/oP+X/3n/bP9h/2T/Pf9C/23/RP8c/y//Rv81/yT/N/9I/03/jP+x/5j/oP+9/9//5P8KAGQAqgCSAGwAcgCIAG0AQwBYAHoAgAB5AIUAfQB5AHEAhwCdAJgAmQC3ANMAsQCYAJYApwCMAE4APAAkACgAPwAvAEcAcwB9AHkAewBuAGgAfQBzACoA4/8EADEA4P+h/+n/9/+1/7r/4P+2/4r/o/+h/4X/f/+b/6f/tv+g/+r/VQBVAGAAqADqAK0AiwCQAGEABADX/8b/sf8q/xT/s//H/2X/jwDIAyEEVQLvAooEjANsAagBdwHR/8L/uACAAMr/ZgALAbcA/P/AAgQHEwa4BM8FdQUAAiAAlwC8/gD9mP0F/jz+xf/uAK8AXgBaAKH/C/89/+f+ev7X/t/+Pf6X/fn84fsi+2D7KPsM+7z7Lfw//An74/kQ+rP5XviX9474EfkO+db5cPpd+uT5pPlA+Tv4HPfo9vr2H/dA+Nr5ufqq+jT7bftn+or5gPmf+YD5IPqB+zn9i/7Q/gn/cf9z/23/MwA3AW0D2QXRBiAIqQnJCZMI/wdCB7gG3gY6B6IH/QfKCBoJsQjgBxcH3AV9BB4DigPOBLQEFgVYBvgGAwZnBRUFKwQJA7AC2wKEAnQCYALHAY0A9v5i/QH8uflU90T2GPXM88nyffL/8XDxnPGY8OPuN+6o7ofuSu6f7qDvuPD28LPwUPB48HDwlfCt8Cbxv/HR8X3xuPD775Pvz+527XjsDe0e7h3v2PN3+fD+iQR7CngQRRW+GlEfSiOIJoQpdCxUL+ov3C31K3EpzySwHzccWxhKFDQR/Q9XDvwLzgqgCeoISghCCLoJ7QqWC/kMuA48D5YOVg4MDt4MZwvGCl4KUgnvB8EGXQURBO4Bdf/4/fX7NvoX+IT2XfXV88XyhPHD8I7w3fDM8Vbz+vTR9kX5S/vz+5j7evoy+GH1OfJ47uTqieeG5A3ireDk3wPf2t573uDdiN1K3Vfdhdwe2i3YAdaC0a3L8MbSwqy8hrmZvwjRV+dP++cSgi4eR/9WrF3vX0Jds1ZyTjdGIz4KNrMumSZTH94VqAoe/33yKOnt5JXkOOb36lfzAv59BWUJxQyzDl4PhQ5tDrUPeRNxF8QZ3huAHLEbehfGELgKWgaXAkn/dvxF+w38Z/sZ+nb4Xfa99LT0w/V49/757f0eBBwJ9gwCD3AOMg2XCl4HbgN//wj9Ufzu+675s/YL9Prxse8f7KXoruZ15oXn6uhi6qPrbuzA7Nrtru7U7rTuZO7k793wdPH88EPvLuxs5ibgNdhTzrTDFLtpsgSpKKOLqy/A5tR96Rb+txxTOYRJ7FDxUhNX6FR4T2VHpUAHOpMxxymlHqkUeAeo+wXw2OZk5AHknuWu5/nwgPxEBR8J6wt2EeoThhNcEf4SChYWGBoZmBmnGrQYEBVOEBoN8gnABSUCHv+h/pL97fvB+Yn4c/h/+PD4evn3/P4AxQXNCXMMRQ9NEIgP7AxEChYHBAR0AFP+Af9s/uT8pPkd96T0nO8Y6hfl9eFg4ODg0uIo5d3n4upZ7uPvy+/37gXvuu928KXxFvGj8aDxi/DA7urqVuaI4AvZVs42xP+5Ya+BoyOdFahXvnnaXvTRD60wAk5LYaJmaWXzXRlTzEXVN3ot1yHWGMsRCA3pCOYBtvmz8NzqYOhz6mHsiu+5+AIEVw/8FS4bzB9bIYQe0RqAGaIW+BPrDxgP0g99DH4K2wg7CKQGfQPkASQCMgLL/5b+Tv2N/Rn+Zvy0/Fb9xv87AlcD0AR9B2cKiQrkCYYHIgaZBPMBHwAN/k79S/xO+3v5ZPd+9NjvO+yL6Mnl2eS65E7mT+it6U7sqe/x8VnzqvMN9Lf0qfTk9AP1ZPPF7yLsgems5+LkyeAP3FrV+86XycfCZre8qn2pNrmj0wbvEAkYJuZEYl6uawxsmWGMT6g8hyupHbUQ3AXkAKD+ff43/sb8GPit8SnumO/l9Xz7EwLwCrgUKh7xIw4mkiKpGu0Spw1TCXkDD/9k/Xz+9ABhA+8FAQWkAbsArwN4BWkD9QCsAQ8GkQhICEMHDQbeBCsDgAKvAqQCZgIjBKYHBgo5CycJZwXcAar+hP0W/Dj61Pic+Ob4cPk3+dP2JfQu8TTvpO3+63Dr+euH7anvLPKA8xD0SfTN85zzEPI98LTvv+4c7Qzqn+fi5p/muuTc4EvcktaF0WPJY70fsWer5LWEzDDokQQ0IQxA2ls/bTNwj2dwVjVB6SwzGh8LsP+r+Fz2WveG+vf82/zP+Mn0BPUk+Ur/vQRPC70UNR+aJ2srPyoZJdEdQhVbDU0GXf/z+cr2JvcZ+v/89f0x/qUAFgVRCcEKuQlzCEYIAgmdCK8GbQSQAhYCIQK5AhUECQWrBd0F6QYICJYHSAUDAtX++vv7+aj3YvVu837yNPOy84vzBPOP8ZrvPO497RvtEu0b7VvuUPAo8uvyN/OV8ubxIvFl75ntw+oe6cDolufu5bvjRuJ54YTfANvW1VfQ0shzv+Czl64Mt7zLWed0AxQhd0DyXEduSHGbaJ1WbUBKKJgSdwGs9FjtFOug7i/1v/wcAfgABQA+AKEDOAfzCUcN0hJeGn4gECSOJAQiWRzoFHkOdgnYBBEAPPy3+/H+9wLSBNwDlgJwA6MFcwZuBHoC9AP6B0ELPgzwC8ELgAyRDOMK9gj5BooFMgQ7A2oDuwPLAu3/wf05/Nj68/eQ8+jwz/Dr8oLzDfMp89vz0PQ99EjzFfO08+3zY/MN81zz5/M382vxle9Y7oTtE+xj6jbp5unG67Trcemd5g7lHuTX4ZnccNW9zuXGlLw2sdGtqbj9zY7nOgKHIEpBxF0QbUpuMGVJVMU+MSYMD+f83/Am6nvoFu0u9okAGAcECeQJVwsLDRIN3QsJDK4PWxXwGTEckxwWHK4Z1hScDjEIKQN//yn8oPo1/Ob/XAOOBLsEJAUuBU0DCgDq/cj9K//V/8MARgOiBl4JsgkUCZUItwhvCCgHyQX3BAYFmARgAzYBFv5k+tf1ePE37gXssOoe63Hu4vLS9pL46PiL+ZP5nvg29qrzdvHM7wPvuO1W7E/r7+pf63fs6O0O7+/vpu/M7sntj+xe6rPmd+Ng4fPfj9162VTTycv/wpu5QLZ/vTjPmOfkAp4gHT/dWbxp92xJZE9S/jrRIGgICvUK6d7jFeXy7IL5cQcSEpYXrRj8Fs8Tew/KCksHgQfzC4wSeRifG54c+RsSGboTxgtPA/n8nvlu+Pj4A/zTAI4GKwuUDV4ONQ0tCpYFWgHY/jD+L/+4AEcC5gOsBe4GhwcuB/sFIgXQBIMFjAYxB9wGewUcA0n/7vom9hXyue457EnrLewC71LyVfU/9yT4Z/fL9CjxjO296+Dqd+oq6xzt2e+08uf0rvVf9a/zefGK7/PtrutJ6avnz+Xr4wDimeBx33vcrtdO0FrHOr04shKvK7a+yJPhbP1EHXA8X1c3YpJgyVUkRpw0iB6NCkH6m/MV82X3s/8mCI0RdRclG/kaNRi2FKIQww7vDQgQQBQGGQId1B2LHAcZCRSvDX8G5gDG/cz9wf/XAhMHyQqVDREOGQznB9QB2vue9t3zw/Nm9tf7HwPUCh0QSxIyEtcPSAyxB/8DPgONBJwHGwqzC6QLXglBBbf/Ovpm9OPuaepz6EDpxOsz77Xy0/W8+N76Gfvy+cv3VfUY81Txfu/a7gXvee/w713vNe/n7QTsK+oK6avozOft5mDlGOTc4hvgR9ya13bSwszMxI6777BSq6Kv7r4t1/PyNhMOM0RPNF6rXv5VpUc2OMwi0A2v/Jz01fOy9ST7wAHvC/UTJRlTGrMYzBZGFF0TzRIQFCMW9BhPG/gbQBuaGAwVbRDHClQF3gAi/jL9Gf69ACAE3gclCjUL5gqqCXIHHQRJAOT85fvi+039N//2ASIFywdqCewJPQtCDKwMCgyQC1QLigptCAUFzwFP/9L8MPni9PDwc+5X7YXtLu7g72LybPXP96L4AvkC+UH5JPjI9YPywe9q7YHrgOra6SPrUexb7VXuRu9L75PtRutA6Ibkx+Ck3MnY/tQb0LfLm8VRv7+1na1Rr/q6QdC256MEHyTmQYBUKVetU6dLmUFCL1Majwng/2/8ovl4/A4DBw0/FeoZDR0oHBgZCBRuEP0PuA/rD/oQ8hMcF6sXUBajEx8STw8SCxgHTQQBBDgE8QSHBY4GnQbcBUQFLgVLBdADyAElAAL/cP2k/Hz9IQEoBuYJAA0KEFUSiRKxEPsNTQzoCa4GIwMAAfIAtwBXAIj+9fxa+tD2YPPc8L3wGPGX8tL0zffH+RL6KvkR+Cb3sPSr8Q/vIO7L7R3tduzK7NLtkO4h71DvUu8k7hDsUOnP5HXg9dsC2KDTes2cxxvAcbj/rAKmyKnWuGbRiuoZC0AsP0pCWXlZOVVaSzVAXCrfFUoGhf28+b/1nfme/4AJrRDgFdwZYRnBF6MTzBIVE8ESWRMcFFoXpxi8F0wV+RHzD2kLNwfEAuIAmwFeArwEQwWWBggGRgUjBekEsAURBIEC9/+3/RL8DPv6/KYA7gVQCsgNrBD7EQASFBA1DoEMlgp4CIAFfAMhAYb+QPtn92j0sfEb8KPudO7d7qfvDfFG8ij0xPVX97v32fca90n15PKG7+LsPeuy6rzqQOvu60Dtse6G7+/ux+zE6ePlOuAz2jnV5dGgzzLMeMhYwvy66K8cqAmqzLY4zl/ofQmfK9JJpFreXAZYG03CP/gpvhQiBIv66/bb9Pf45f+dCvQTCBpWHRgcXRpgF0IVxRPbEtkUNBc3GV8YOhYuFAcR+gysB2gESQIsATQB/QHABM8GrAe9B3MHugdfB2AHBAcpBuQE5QLbAewAuQF9A8MGVQqaDOMOKBAfEQAQzg1HC/cIvQYeBJ0CqgHWAOv+uPsy+Fj08O/T69XoGuiV6DXqNe1k8ZL2ufri/e7+bf6D/Iz4TfQP8AXtTuv56g/sJO2G7lnvr++V73bueuwr6W7k3d9o3NTZ79YU0vTMl8bvvlmy96Vco++sk8Fn2I70DhX8NXNLQ1A0T61KAEV/NaIg3BAzCPsDJv73/OAB1wkdEdsU2BixG74bjRk2GNYZBhlfF1QWuhdRGd4VjBH6DhwQtw/DCzUITgYKCAIIwgZVBukGzAfGBZ4DcgHIAesCyAOSBMkDQgN8AkUCYAI3BDsIvQwLEQsTIhOHEl0QCw27CN4FqQP6ATEAKf0K+/H4cfde9e7y+/Dy73jvmO7x7YHunvBy8wr2o/iw+t/7KPwb+/X4X/bC89/w3+7d7EzsWOzv7CztIe1G7WXsA+on5nriWd+83GPZ39VU0ezM/sWuvQ+ypKoSrUy5Is7k5DgDcSInP6lNYVDoTsZI4j4kK7AYUwsBBAv+Fvnx+hgB5gjNDmoTRBgKG7YaOBhtFjMWbBQ1E80SnRS9FagThBHKD4wPrQx5CIMEUwKsAdb+F/3a/B7/wACeAacD3QZ1CrQLWQw+DJoLPgk6BtMDmgPLBJEGAAoODjMSWhS7FHETvhCODH8H/gK4//T8x/ru+DL4APiB9sr0CvMv8j/wMu6L7Irs0O7z8Kbzp/Xj9yT5yPh899j1EPXT8wXyAvCa7pDuju7i7Yjtlu277XLrL+hO5M/hoN+C3LPZqNUT0unKX8Jitl+u7K/VurDPBuj1BicmDUGnThtQTUwyRGg4kiUBFN0HgwFY/V/68vz4AxsMPxIXFk8ZjRpqGbEWXhQAFJETvRMwFDEVMRUSE/YQdw+kDnUMFgknBsUEIASVAmYBbwHFAgUDFwLnAVsD+gUmB80HXAh9CH4HJwWYA+gDNQZ5CS4NERGEFIkWPxbXE9MPmQtsB68DaQF4/zD+IP2A+5L5bvZk8yzwve0b7OLpHenS6X/s4+/S8sX1HPgy+cr3HfWq8inw2O0w6xjqxepm7EntBe1J7oPvrfCw7qHrA+h85LvgDdu11uzSwNAcy4zDK7ltspezZ7w1z2fmbwQOIgw8wkomTh1Lh0KjN4ImUxbMCSEDtP8P/az+GwQaDHISaxYcGWoaBBqqF3EVPxWxFaoWShctGMsXDRbyE1wRHRDNDSMLdgikBs8FnAS/A1cDvQRbBQ8FNQWvBogJoQoWCqwI6Ad+BtIDKgI8A3wHOQsQDpgQWRNUFRoUPxGUDZIKTQehAwkB5P/y//D+Nf0s+yP5zPZ680/wJe5r7NrqkepA7ILvl/IF9Sf3Ovgx9zDztO5W66vocubU5Snocuyk7yDwQfAb8N/v5O1G66/oP+ey5Y7iv96A2UDVTc4ixj26SLF8r962RMi43S78YxuQOVZLjFFpUPdH5jzBKf8Y6QqTA7T+9/p3/FEAtgdpDB4QXBOoFZUWjxXwFJIV7xZCGBEYZhjkFzkWChT8EM8Pjw1OC/EH0QQ6A0kBdwCP/0IA8AC1AVwDlgWLCAMKhAqxCTwIbQXdAuMBlQOhBu0IaQv7DKIO2w7TDUUMdgqSCDAGBgQ5AhIBHAAG/3X9NPs3+LP0pvE6757teuxi7N/tL/AA85z0cvUM9sz1dPTS8Wjv2O2D7CvrQ+pI6lfrH+yV6wPrKurQ6dnnvORC4TLeDtwX2BDUhM+Ny33G/L1mtbeyN7k0ySneTfnqFww1d0nTTwNPWEf+PLos9xu6Dk4GRQIq/iz/vQKvCOsNehLEFvAY2hizFgYW+xawF6UYRBrKHHkesRyEGRoWIRT6EK0LeQYhAiEBZwCqAIABYQPvBVgGiwZOBl0IDgu6DGsNlgwaC7IIKgY3BA4EiAXQB8IKrgyzDYENSQxfCnIHAwVLA5EC4gGGAE/+7vsz+SD2kfKh75HsEeqb6GnoU+rM7InwrvPD9p/3evYC9PHw4u6z7DPrxunP6fDqluum6xrr9uqb68XrM+oc5xjkMeLj36Lcpdie1QnS0suSwju457XwupDJYd5h+bwZKzamS8xSwVIfSyY+hi2SGvwMGgOv/tf8xf5aBEwKTxAlFDAWaBZaFM8SHhJUE8MUuRZRGiwdrR5jHAAYXBNqDkYJBARzAJn/qQBKAhoEjAalCHEK0ApKClsJSgfsBIYCAgGz/xb/r/9GArAFVAgKCrELIA4MD6QORw2GDPULoglxByQFbQQgA6wAHv7Q+lX4NPSU8NntRexo6z/rNu2K7+zyFvYG+Tb7lfoe+CL0uO9a68Dm4uOl40vm5OgE623sf+0+7nztKOyM6NTkn+HF3uzbbdeQ027PlcoBwzq4abPXtlDFUtoK9OsTSzKXS+NVUVb1TupB3TGsHQwPMwSOALz/pQGnB6kLjBBjEl0UqBTJEloRDRGAFOIWvhmwHGIf0iBCHokZURTiD4kLiQZIA+wBjgIaBLYFcggOCjILvQkmB9MEqgOLA2MDygPMBG8GzgbtBn4GaAidCmEMQw2aDSgOwQz4CiMIJgcCBwcHzQfLBx0HUwQPACz8C/g49Mbw6+567kzuC+/U73zyffXd9yr5B/kr+Dj1R/Ep7RHqpehN6NDolOkF6xvswute6iXo5ub55LHhId9W3ejc7tp313DT6M1txpK70rRCthLCttZ/8PsQkjBOShRX5VcMUZJCQjEgHrcPOgZ9Ab0A9gKWCFMMaw6kDoIOAg4iDLgKwgshEC8VNhqhHiEh4SAmHVgX1xDjCkQG2QMXBNkFHAe4B4sImgjtB/sENgIoARICYgMvBIYGRAkwDDIL2wcuBZADsAIcAYkBywQ4CQUNIw8OEUURTg5yCZIEpwEQ/hv7zfma+s37cPpx+Kv2n/Xr8tHvS+607jLwsvCs8abylvPn8uPwD++t7NDqZOha57vmSeZb5vPlEOcZ5/zmd+XX4pnh3eBF4DrdkdnK1ZjR7sotwHi5y7tyyOjarPHwDYoq2EFdTBdNZkeTPAIu4R5PFTQPKQu5CCwJGQyYDOAKXgkoCncLrwpYC5UPdhZiHLEf2CEpIhIfHBjiD8MJvQVeAz4CuQMvB1gK0wvQC+kMmw3DDN4JSQd9Bt8FMAV8BA8GQwneCoUKrwiKBz4GgwSZA6gEPghWCz4OBhBgETURzA5rCxsIawXPAan+cPwU/Jb7dPnn9tb02/L/7yzuNO4w8ELyM/Mt9GH0n/Mj8QTutOsU6QbnhOWD5ZLmkueL6Rbrn+uM6oboQuZw467haOA/3+PcJdlE1FbMt8E6t0+1JL+30ZHpYgWuI9M9S002UANLeUAcMo4iCRbnDpoK7QfJB30JJQpTB+MDeAJwA8AE3wblDDAVFx0NIQIjFCO8H7YYHhD5CvYHDwaSBC4F5wcKCcgHIwX1Aw0EAASvA0QEhQVvBrcG5wbpBx0IbwdzBXsDOgIWAUMB1wHHA5oGwgnSDB4Org4uDdIKFQj+BMwBN/6H/OH7rPxH/HT6dPjx9Vv0UfKU8WzySPRG9iv3Rvcz9Tnyru5Q6yboTeXa5EXlnebW513phesk7EjrAOnG5grkZuE94Azgf9/h3EDZ2tNty8q/Xbbhty/F3tqk9KYQKCxzQYtMUExdRAg46CpDIOQY0hRAEuQQfQ9hDJcH7gGl/RD7Nfug/80HghExGSUehSBsHzcbbhR2DcwHkQROBGsGCApPDGsNFgwwCW8F5gFMAKT/kgGhBNAIzgsQDMgL7wplCmcINgZlBQ8GiAcGCD8J7gk1CrQJFQjVBgYFngNLAqEBrAG8Af4BPwHOAOD/4v0P+x73TPWJ9C307vNi9Gf23Pdq+LH2k/UR9CDx++3p6sDqTOtl7FDteO3K7N7qO+lq53fmJeWm4+3j8+Rs5S3iQ9yD1fDMKMK7tJmtlrJSxRHh+f0JG5Ez9UV6TdNKhUHENM0pTyH+HSQcaBpoFx4S7wwdBlv/fvjd9M72kv2zCOkSIhsuH6IfMx0UGLASfw1zC2ULYg39ELMTWxT/EBkM+wbDArj/T/1w/fn/VgQHCcANDRGQEZ4ObQnmBD8CdAJNBEwH1Ao9DtoQeREcD+IKNQf5BGwEuQTxBUIHagf5BRsDm/8o+4H24vJY8Rzy8POO9Qn2nvV29ALzAPLr8Lfvku5Q7S3sU+uF6pTpYui45vrkw+Oa4znjouKV4j7jgeRa5J3jt+FP3tLZONNRyxvB1LjBt3jBadUa7dcFPRuXK901RzuEPBM4ljGSK9so6SdRJhAkYB80GNIPSAh2Ag/+EvzR/J4AMAV5CQYN8w3hDLgJ2AbpBTQHywrbDnwSrBS/FXMVGxN/D/QKmAfDBasF0wYiCIEJyAlLCVcHigT5Abz/j/5R/jz/ZABdAYYCiwPPBOAE/wSNBWkGZQfEB6QIkAj5B7EGewW5BJcCj/+9+/r3HfXC8rDxi/F+8VTxB/EW8RXxK/Ec8XbxQfIj84701vVC9z344vj5+Ff4pPfI97T4Kvnm+Db3RvV087/xRfA27r3r8OiG5SrhP92f2/Xc3uHE6CDwFPZj+pT+LANiCEMMjg53DwEQDhGdEsgTwRNoEzUTLhPbEjoSfBGxEE8QyRDPEboS7xKYEp4RhxB/D9EOOQ54DRINygx3DMsLMQt8CtoJBwkwCF4HKAY4BYYEFQTOA1kDsQLNAcQALQABALD/Xv8x/xb/N/9Q/7//xwCvAeoCAQQCBU8GEweDB68HXQf1Bi0GLgU0BKwCPQHO/77+jf0Z/NH6ofkT+b74dPhY+BX4kffu9h72l/VD9S31RPVz9aD14vUp9k72IPa59Vj14PTx86vyz/ES8eDwwPBB8JrvuO4/7hjuye0t7absguzR7Jjtqu7Z7wzxKvJt8/P0aPZU+J361vw9/40BBQQ3BvIHAwrsC3EN/Q7lEPASsxQ6FoEXzhiyGTkaZxq7GdUYvBedFnoVLBQEE/gRNhF0EHsPOA6lDCILxQlWCHMGUAR/AgIB1P/T/un9DP1X/Pf7yPu6+x38Jf1f/p3/rQCYAXECAAO5A3kETwUiBsoGaAd6BwkHWAajBcIEwwP3AlQC5wFZAYUAMv+o/WX8efv6+h76BPke+Iz3e/dQ9zD34faP9pH2DvZm9Yb0k/O88v7xlPHy8HPw0O+h7+PvDvBp8GHwKvB377XuPe4Z7nruH+8R8B/xevL384L1N/fI+FP6Gfws/lsAbAJXBMEFDgePCGIKeAxQDgEQfBHgElIUzxX9FuMXbhiDGFEY4RdaF6MW0RVFFdAUMRRkEzkSRhEiEMwOYw2sC9QJvgfLBe8DZgIPAe3/+/7s/Qb9QPyx+5P70/th/BL9uP2K/mT/IQDcAIMBTAIFA5UD8QPEA20DFwP1AvACvQJ0Av0BaAHCAO//7/79/fL8Bfw++6D6H/qX+TX53vi8+Mr48/jJ+GD4+vew95H3SPfC9j/2vfVT9Qz1tPSQ9If0efRh9CL0r/M287XybfIp8p3x4/D+71Xv4O757rXv5PBR8rLzFfWv9ov4sPoI/Sj/WwG5AzAGuAgNCxoNAw/WEIUSCBQ2FQcWqBYmF3cXlhf+FscVDhT+EfkP8A0UDJsKaAmQCBEIdQfQBuMFxwSdA8ACcwJJAkcCMQIrAi0CbwLgAhkDWANxA9YDmAQ+Bc8FIgYWBuAFhAX8BG8E4gOFAzkD6QKGAukBRQHuANUA6QDVAD0Aa/9X/pX9B/1v/Oz7Vfvm+mf6PPo/+jn6Hvpt+Xj4+/cv+IT4wfhM+FD3dfa99Vf1PvVR9WT1FPUb9ODyEvI68jbzSvSH9H7zRfG47tXsIexR7IzsUuxl65zq+Oq27ODvfvNh9iD49Pj5+S78zP+OBHUJrw2mECgSThPzFGkXVRqsHMgdYx08HDEb4Rr/GrsaVhlQFm0SfA5aCzQJ8QcJB7QFBwQtApIAnv9T/4T/AQAcAOj/wv8gAJkBYQPSBIcFgAVcBdMFHAe/CAQKWArTCaoIeAfdBsoG9gb0Bj8GIQXnA70C1QELAW4A9/+C/0L/Lv8P//r+If55/JT6Dfnf+Nr5pfpg+vL4sfbp9HT0MfVp9kj3I/dc9oX1QPXx9X32Sfbn9FzzpPIT8630LPZ29r70FvJO75rtm+367qDwbPDX7erpruYo5TXlV+VP5DjjBOSj56Xt5PPS+I77kPzb/ZQAagXzC8cSYRijHIwfqiHuIwgmNCcEJ4IlHCNKIW4gcSCvIEwfuhs3FioQAgthB+gEuQKwAJT+LP3S/Cr9jP0z/Sr8LPst+3v8//75AQYFyAfxCYQLXAzqDBwNBQ2+DFcMQQyXDCYNAQ2VC8cIJAWvAe7+Pv2Q/I/81/wc/QD9dfzE+yz77fp6+q353via+PP4iPke+vj5YvlJ+Of2zPUx9Qr1GPWp9G/zL/Io8b3wl/A+8IrvkO6l7YTtQO677zvxBvJX8cru4+vg6QbqQ+st7Hvry+hL5Y7ht95s3aTd9N845Evp5O6y9Nj6jgEhCHINBxGPE/AWjxzfIxorKTAYMgAyXDFvMDwvRy0kKvAmHSSNIS4fuBupFk8QNQnEAnL9N/l69gD1ivSl9M70DfXn9VH3QPmM+4j9V//kAZEFJgqeDpIRohL9Eb0QeRArERMSdRL9ED0O/grFB+kE8gHD/pX7D/n991f4PfnE+YL5g/hl9+X2Ffci+Hv59vqe+2X74frp+Uv50Pgg+Cr3+/Wh9Kfz+vI18vjw2e5k7B/q3ujF6EHpaOnb6NXn8uZ15tTl6uRs4yjimuGT4WjhduAj3hfautTTzvzKEMyI04XfX+xs91EAQwjwD74WhRtiHpkhqid1MPY5OEE5RGBDNkCwO2w2kjD7KuAmSSSmImYgZhx2FsoOUgZI/qf3LvMX8T3x6/Lq9Hb2Vvet9+333/i8+rL92wEXBzgN6xIjF0AZVBmJGKoXKBcSFx0X8xY0FpgUSxEzDJQGPAEI/eX5h/cS9nL1UfUb9Un09vLA8fXwFfHa8R7zlvT+9TP3P/ja+IH4a/cC9i311PRn9KnzAfM58iXxv+9c7QLrhemk6GjosueB5l7lF+QS4yniheGo4EPfMt1C27fZztaA0drJe8JywF3H1tXo5pf0af0QBB8LiBO2GrwecCF3JhUwwDyIR+tMNEwRR51AYTrMNKAvnipWJiIjhCAgHWsXqA6jAyb5LfEI7YDstu1Q75Tw9PG582r1D/bh9WP2ffk4ADYJIBKyGBMcZx35HWkenB6PHVsb8xgXF5AW9RVOE8INbgar/077qPmr+Bj36PQ08zXzWPQG9Z30tfO78031XfdG+UP6/vrf+wz8ePtF+m75UPku+e33nvWH8+XxefD77VDqcedy5rrmMubB4zfgrN333DHdi91b3a3cJdul2MDVEtP0z7fKNsPRvNK+fsys4IHyLfx/ABsGgQ9zGfoeTCB7IzwtDDyVSdtPbE6YSHRBezpYNKEvCCxUKP4jgh+KG5AXCBFXBr/50+9K6wXsNO7D7hjuJu5m8IXzRvXl9JT0KPdQ/sEIihM2G44ecx/jH0Uh4yHvH7cb7RdVF1EZ7xqJGI8RDQlKAun+/fw7+sb2I/TJ8331kfed9x72lfSr9JP2W/jq+UX7zfw2/tX+hP4R/tv9Tf14/Gn7z/py+un4q/VC8b3s+Ole6GHm++OS4WXge+Bk4Ibf/N2u3ArcStoy1wnUYtHLztDJOcJ+vAHAh86+4N7tlfMo+ZMDdRBwGVEbyRsiIsgu7TteRFJHmEfoRQ1B2TnzMgUurirDJtwhrB56HFcYRBAIBJP4cvEy7jjt/esK6yXs7+7R8dbylvG18IPyTfeu/kMHtw/gFpAbuR3EHk0f/h6SHeAa9RgWGfYZVhnCFQoQ6gnfBLAA5Py1+SL3I/Vm86fyRvNC9ID0wfNx84j0dvZ7+Ej6gPve/Hf+pv/2AKMBAAGt/0T+Tf29++n4nvWx8iDwrO3m6mnnXeQT4ubgX+BB37fdbtz729nbcNon10/TudBmzyvMSsWbvUG+8Mqe293n4Oyr8eL7iQgcEnIVaBarG6kmszLDO8NA7EI7Qg0+Hjk3Nsw0PjLSLPclnyL2IYUfuBgSDdkBKPuy+Nn39fR+8LLucvAr9Jz2ovWp8zv0Rvit/p0FrQvUEOEUzBdgGjEd8h6IHu8avhfHFxYZLRn1FSIRwAxbCWMGrQLn/SX67fc59iT1ufQf9Xz1NvXZ9P70Y/VJ9vn3jvn7+nT81/0O/0j/Yv7k/F37ePqM+e/3NPa/9FnzffGU7mPrO+mL50Ll0eJF4ebgxeBd4PTfpd463DjZBNaY037RBc5FyG3DdsZy0cfdDOb06VLvIfh9AV8I0wvmDu0VTiA2KjwxFDUmN0M3fDWIM3IynDA9LQ8pVyb6JbIkeSALGREQtgglBFcBc/5U+y35t/hB+cv5L/pm+On1u/VV+Fr9ZAI1Bv0JSw1HEHAT4BQJFWQUrBOAFO8V2RYkF6kV2hIHEEENEQqvBcsBTgC3/8n+qf1J/Pn6Yvn99wD3JvaX9Ub2gvc8+Ir5E/uq+y/7TvpQ+TP5UPk5+d/4Pfh9+I/4lPe99W7zEvFg77XtXuwo6+zpe+nw6E/oLOjb58jl3+J84AHfht0D2xLXyNLoz8LRPdly4NLkeect60Xxtfey/VkCEAUOCX4QVxnrH5gjIyabJz4o3Ci6Kn8r9ykzKHonpCdHJjcjHR+RGV0UXBHNDt4KKAYGAyYCCAE1/5T9S/vA+Ln3E/mp+6j9pv+lArcFPwhWCm8MNg42DzwQbxE5EwoVGBbaFewT0hFiEN4OwgxUCecFgQMPAsIBwwDh/fT5QPdD9uj1NfW29Nr0I/WC9qn40/l0+aT4x/ik+WP6NfuF+7X64Pkp+qT69fku+PX1VvSI8//yAPMB8hbw5u4/7kvuA+6v7Nzrx+tj65LqSOm057Xl3eO+4qXgQt4p3mDh9OUR6ZbrDu9782X2TfjD+vv8CwAhBOgIWw0xEIETkhdcGZYZfRo6HLIcrhuAG3wcxxyoG1MauRhJFsETdhIsEYMOqwtuCk0KbAmMCBAIMAf/BfMFQwcBCPsHUQgjCaMJKQr5CpsLvAqLCeMJ7Ap1C4gK8gl9CVcIeAcMByEGWASfAlMBVgCx/0r/Uv4C/c/72vsb/Lr7yvu6+4b7fPsP/Aj9yvuM+QP6svsr/Nr6j/mi+Q/5N/dw9/T3T/ZX9Zz10fW49PTz3fQi9O/wq/E29FjzdvLD82D0HPOy8lrzGfRC88fxxvEv8s3x2vCP8JDwdu577arwD/Ms86r07veF+Aj4Sfu6/bz84fz//74C6wMWBlIJgAvXCxcMEA7HEP8QdQ+GEEQTnhPAEnITOhO9EM4PDBGNELoNoQ0WD3ANnwxVDhYN2QkmCmsLaAoXCZcJygnWCLoIWQk7CCAHzwcnB8MFBQU2BngHNAWAAgQFZAa7AdQAVAQpA8P+Zf9FA5cBWv3w/mYCyACo/dH+OQG8/sH6X/0rAFv7y/ho/Sz/mfkh92T86/tt9U32Uvps+Hr1ufWB+KT6F/iI9c/4pfoV9+b2avoM+v30Gfcm/pD5EPOV+lj9NvPb8zb9V/qU86/4Ffue9Ln09vnM9nPyLvfU+K/0vfZy+rT36fbv+sL7dfnO/NwA2v46/1sDvQXdA7IDoAcuCL0HzQnnCtAKpAtHDIwM/AwqDcwMyQsJDF4NPw2QC0MMfQ5sC4oIdwtxCqEFrQbECMMEYQQwCpkH4AA1BvAJHgHDAGAIjQR//7QE0AZmANAATQc2ApP9xgSiA3z9mQEeA3kAkABnAb4CngA9/+MBZQB7/kL+9/5SAOz8Zfwd/wv9xvc3/Dn/lvMi+JkCwPgp9aH8pv6b+BX1Jf2F/iX2wPe5/nb7E/jA+7X9hfpx+Bj99/tB+Mr6G/ow+AD67Pmb9ub31fqB+Rj3lfnk+7P2wvbl+vH6MPkm96P7S/1L+DL7RABB/mT5b/22A/b95PpPAigFhf6QAEMHcQJkAbEDfwLWAr8CUQN/BOQDPQTmBVEFVgZVAw4Dwgh2BVcAqAV+CYADEwT9B/IIvgUUAsoHLQmXAMYCWQofBS4ATgbLCy8CAgCtCXgHe/5MA+kJQAM9A+MGxwdmBLACBAYABaYBCgHxArwA+/8CAsIA+v9XAFQA5v8w/YL/2f7K+2X+3P20/mL9k/1Z/zP7cPsa/8H9Z/gP+zkC9/tc+fL/2v0e+Wn4eP5i+lr2//uY/Fb6IvnI/8/4tPjI/CD58/pc+GD6iPtx+gb56AB1/B/4+AEY/a75fP3fARf+efrAASAEZf3m/8wEGf88//IDuwGU/9QD4AM0AHYD2AXJAHwA4wYeBNn+FwQwCEECW/1MByIJU/3i/24KYgQj+6QGWgk4/lIA9AidBHb9CwbGBd4B2APMAvEI8wRGAfgGyQdAAioDRAjiAv8BMwQ+BEj+lAD5A6b50fwyBWv6/fcpA8T7JPhX+3D70/rq9nP5z/tI/ar1o/h1Az/3zPGsAbL/je4yAcUCHO8FAdsCHPZV+4wCof0b9aYCvwFJ9EkC4gO89VAA/wUW90D9vQYz+ef9Owmn+fX8eQu2/GX6MwvxAo34gQlKBuD5fgdwCeb79wPeD8f7kAGYEyj+q/8vEg8GPP2VDFEOCfwgCW0Vh/1pBqkTDQKbBPYPdAas/poPwQlG+1sN3wp4/boHXgs5/RkDkQr3+8H+5QcnAFT9PgUlAyL+ngC+AJb/FP3d/s3/GPpyAM4BnfiS+0gEjPue9CoCzv1h9WD+W/4K90T8igAl9lX3zgGx+l7v3PwaBLzvPvTPBfX1T/H4/0D2DvMn+9b2GPK3+nD56/Aj/Bn2VPIQ/Rr0BPJY+/z46O+++Bz/ofF293n///Zu9yX96/349kn56gX7+U30WQewBHD0dv/NDkT7ifcYD2EDKfhVCQAJgP4JBI4M+QWFAfkKcAwyAeoGOw+tAw4FoQ2jCNAEiQhfC0wGuwULCIgGXAgKAR4HSg6c+vIEPRJf/Hj+NhCTA274DArXCdn3JAS9DrH8tP23CwQHXfs/A4ELLv+T/2sIPwST/LAF6QZv+78CMgkb/sH5VgqYAs/1/gSTBKL7RvtRA2z/9vhnAAH/R/sO/T/+UPsk/AH8Vftr+7b6Q/3k+iz5Kv1N/Zj2d/rk/6/2Bvh8/xD7lfUO/VUBsPRq+bUDiPeD9XAD4f0E9F3/AwPG9kf6ngQR+Z75IgIQ+5P6cgB6/tr6YABx/nz/U/yO/FcDbfoS/KIDDAFD+YUCHAaX+U7+SAd1/vD5uQfOAYz9TwRvAucBmwL+AkkBjgOFAEkDgQIUArMDogP1BoH+6gaVCDH93ANzCXX/SwR5BioFywc1/5gKlQbdATQG9wZUBYEBjwicBE0CogXFBuUBLQQwBpoCdAJMAoUEUAIIAewCkAMhAJz+0gT4/7X70gHeAaL9AfplBQf9cficA6j8Vfut/AYB7PtI+pr/QQCa+fD5jwRu/cz2tAGZA4b36f1wBCz/e/orAd8DUfzl/E0FKAGn+PAFFwVW+nb/2Qjs/jb5JQW6BAv8i/xLChwCtPfnBtkIDvm1/OoLuf8H+TkFdwdg/EX8pAyE/Rr6vgkUAeT6ngHJB4b9DvxJCBEDNfkABWwFUvuh/roG5f8D+nIIPASx/OcBrQjG/sL7iwcfAh0AmAFIA0QFl/9i/ucJEQKd+PMI7QZQ9s4BngsC+Nv+6Qk4+6D/WgVm/oD7TgMHAjT6+ADtAsH8a/y5Ain7Bv33/6z7aAA3+vD/fv9u+YkA8P4X+zEBI/zk/CMC1PmNAFP/PP4Y/2YBfv/+/HAFU/w+/lIFuP0//v8ETQD7/QUDowR//V0A8wa2/k4A8gRnAkIArQMRA9QCxgDzBlQDd/0KCwEBRf9cBmwHLP+OAPEKpwAv/jcGogaF+vUE6wf0/qQAPQXyBZD7gAOgBDwAXAFVA+kCRgDvA4QExv8XAKgJnf5X/WQJf/5f/nEGiAKQ/kQCnQaS/iUAnAMx/yUCsP9D/j0E3wM5+cYDOwa0+G4AhQV//g36rgV5Adf5SQLKAqH8pP1SAvz+Qv1r/esBf/zf/HwBS/9W/UP+egNw+lP9VQIg//L6EQENA+76AQLVAAL9NADLAb38LwFD/+7/LQIS/bsA2ABXAVj7MQSzADz77QKpAFz9sv7ZAzX9fwGwAPb+aQS5AE79GwROA1n86AJmArQAzAD3AK8DRQQ5/JAFUAbu+ckFQAR//2wBAAQ8BK3+UANZBaj9ngJLBIf/ZwHCApEEcP6cAlsElP+kA0AALAOxA4r9ZQVkAq7+VgQaAm8ChABRA6ED8f7WAuIDSwCBAZwEKAINAFYDqQNQ/5cApwRnAWH/7AKQA3QCAP9tBJIDtgDAAVYC8QRp/EoEpANR/hUCLgQXAZD9/AYh/ZEA4QOw/Y0DW/91AnoCov1dAU0Dov9g/DcFjARe+GAFDwaV+BADswQa/mP/agPCAzT9mADuBa7+jf2BBaIBAP34AoADzP30AIQDFAClAhv/cgNXA8X7VQOxBHP7eAFxB+P6EwQSAlv/kgJj/QIGav4v/v4EXQFl/X8DrQI5/TICpwFY//gBxgCg/4oEGf59AaQEh/7lAWsC2gBEAB0BoQJh/tABmAK8/hYDWABgAGwA5gAyAOIAkQCxACACG/9UAQYB3QA4/qoDtQBC/h4DrAAlAuH82gTiAjT7zgXsAUz9+gHIASgB0P8YAAwFXP9MAGUDdwC/ALcAKgMq/7UBpgJnAHMAqAHcAhz+MALfA+T9BALJBEb9bgK8A+f9vgRnAOL/5gR7/8kAtQC2BHT+mQAUBlX9iQQ6Afn/8gP4AGf//wSFAYP9OAacAcL7/QQpA4f77ARYATkBkv/dAmsCUP00BEMA8AGW/p8CiwLh/E0C7AGj/uQABgLP/18BdgAtANYCDP54AEQFAfpyAS0GdPkZANcF8/sV/0cDyACt/8f+5gNOAPX8KAOXAk/90ABmAyUAD/6rA4YAUv/BAtX/FgIjAIoAnwGjAJT+lAReAGT8DQX4AFT8QwE+BAH8bwC4A9b9FgEpAWz/QgHn/5T/qQCvAaj9LgAXBJL6LwVxAVD5igkH/3P5Jgi0Afj5gwW7ApT8AAXhAGT+yQOWAkH9nALRBm77hgGUBwX+CP4zBv0Co/rrBVQDEfvLBaIAUf2HBMkB7P1lAKwFav7Z+xkIawAD+rEHpQKg+hAFnQSJ+p8D3QWn+WAEvgTe+40DRAIgAQkBfQCiAyEBdf/0AYUELP2sAGAHIvwG/yYIFP5L/N4HIP8X/OEGlf+9+2AI4/9u+kIJT//u/LoEiACx/wMAcQIX/xAAjwLq/c8BdwJQ/9//RANqAEj8ZQRIAP/8WAL+Aev+Vf9WBA7/sv80AuH/FgF1/xECVv9BAPEDPf7s/4oECQIj/CIEmgUt+vwBpQXl/BX+WwdtAWr6ZgcaBDz73QDRBnwB4/iwCAgGSPbGBM0HjPvX+1MJ3QK/9vYGCwaQ+7/+gwarBbz2RwQpC8f3Gf+OCk0A2vk9B7QFfPrgAk0GrP+8/h8FLgSJ/SQAkQZtABz8sgUVBW381wCYB2f/Of3rBakCDf+EAdYDJQVD/RkAWwcx/9r7IwVvBQ/6kgKoBSP81QHw/9YAaAP3/SIChwIv/8j/ZgGO/4b/pAK2/uX/SwMAAID/SACtAIEBAP6n/2AD5v4r/68Cpf9ZAS8CHv10ApsCP/vrALsF1/u8/HIIS/16+4wHz/0M/gUE6v5u/+ECj/9j/jUDxv7I/4sBqf7HAa4CSf9JAWEEVgBb/yUC9QFW/vr/sgKvALT+EgMwAf3/FAOM/psBjAD3/mEBX/+KAJ4DMwCK/3wG9ABE/VMFOAE3+4wCtwE7/OIBpgKh/58C2wMmAqwAcQKuAFn+ogA7/5X91ACHAaz+LAJfA+v/vgCQArf/Gf7jABsATf7+/9MBFwGKAWUCEgFUAQQBSv+C/9j/1v6E/7IA1AB6AiIBHgHZAucAKv9vAM3/af4QAOD///8EAA0BZQC3AFQBCAH4APH/y/9l/xT/n/5lAE3+NADAAZ8AoAD9AOMCAf/8/1YB+/+7/yn/9AAJAJD/hgG0/zMAkQAs/2kAKgD9/9QAUgGL/+EAJAKb/5v/vgN+Au7/owRpA/QA8wH7AeUAxQDfAvMBRALsAs0BqwHSAJEB0wG//yMB1gI2ALAA8gFgAcEA4wBLAp4AjwF4ArkARQEYAtoBBwF/Ac8CNwLSAaUCbQF6AVwCwQCZAMABvgFNAQsBhgL0AVwBiwAl/5MAAv9v/7gASAAVAlIBSwBXAesALQAy/2gASgGJAEMB8QFIAhoBEAH8AOr/owCKACv/gwCbAKv/8ABFAXMBOwGaAZgBsACrAMAACgAB/83/mf9P/4b/3v8mAbMAggDdAM8ANgCV/sL+6/8N/8z/EQLzAegBWwLuAGsAWADb/p7+CQDm/wMAbwEcAnACKwL2Ak0CZgDMAA4AB/+J/0EALwBvAOsBWwEmAj0CEgEpApYB5QDbAPMA1gBQAckBKAHOATwCqQGCAc8BFAErAToBvwBSAYEBogGNAWECNQK+AUUBOQBlAFMAwv+O/+kAjAHIABAByQFzAfwA5wAAAc4ApQCUAJAA7ABFAa0B0gBGAd0BVQCVAJ0ACQBfABgAFwDq/yEAxwATAJsAtAHlAPAAOQGJAN//bP/p/gL/Vf/7/nn/9P9aABIB3QBsANgAYACx//H/0f+z/+f/WACZABkBzgHDARICjALZAUEBnACL/z//HP8d//j/UwCrAHoBRAEZAcEAPACa/xX/PP9Z/93/igDsAG8BkwJ5AgoC1gFHAScBkwDCAAsB8QC3Af8BEAJQAuEBVQENAaoADgAVAOb/MwDXAOYAJgH6AOkAowB+AFIA/P8PAEsAYACvACwBFgERAagANgD1/3r/gf/C/yMAzwBpAeIB6AE0AaYAHQA4/9L+mv6M/r7+AP8B/zv/Yv/l/vb+9/7I/oX+PP40/lP+Rv5W/nX+dP7H/un+Jf8O/w3/cv9k/0z/Sf9L/y7/Kf+j/6L/fv98/4L/g/9P/yn/gv79/r//hv/a/14ASQBJAGoAPQARACMAiQCtAPMAowEtAmQCrQLcAjcDhwOCA0gEGwVmBbgFOQaFBmkGdwYpBroF3wWuBeIFIgb0BTMGaQaEBmgGagZ4BlgGXgZvBk0GOgY3BuEFzQWrBVQFQwVzBTMFqQTRBKIEHgSVAx0DfgL7AcYBwADE/6P+Uf1I/FT75vma+Pb3VfeI9vD1T/UI9IXz3PIT8ifxf/DE8N3wA/Ee8aHx0/Ei8vrxnvHr8cnxV/IN81jzovON87bz/vMW9MPzgvMJ9BL0CvTi867zuvPA80j0//QB9m732vl9/D3/zQEIBAEHewmQC4gNWg/uECIS/xN6FSEW7RZmF6IXahfPFi0WfxXPFPcToRInER4QfA78DIULFAotCRQIYge2BucFYQXzBGQE+AOJA2YDDQPXAgwD5QIbAyQDrwOrAz4DaAM2A2YDbQNhA3QCaQFNAU8A6/7B/QH9Pvw5+6D68vkv+WL4tvco97T2PPa19eH1JPZY9rv25/az9vX25vYA9kP1n/QM9N3yH/LO8YrxqfE68ePwIvGC8U7xyvCM8BLwNe9X7nrtvuyK65Lqa+rh6f3oaeeF5Q/jQOCh3VXay9YZ1a7V/dfQ2w3h2+jn8bn7nAVxDp8W2hxDIcAkCyd9J5Qm0SW8JdclYCUrJZQlVSUmJHEiuR9yG1gWrxBMCjEEv/4E+nH2I/RO87jzB/Xd9s745foV/W3+Vv9GAAkBmwGMAmkEdwaZCJYKxQx9D7gR2BLfEgcS3BA8DwMNcQoyCGMGRAXYBKIEQQUNBs8G0gfTCHkJhAljCRkJ4wi9CPMH7gZ4BukFKwU9BPwCyAEtAE3+aPyR+tf48/Yj9ezzAPMJ8j7xrPCB8JvwoPCJ8HnwD/Ck71Lvue7b7d/sq+vq6T7oeOaL5E7ijeBR4O3hzOSP6BnuKvUt/VAFXQ3VFGEbxyDQJMMndimnKccotyeYJkoltiMmItIgSB+kHaMbghh0FAQQKAvzBd0AP/zk92T0vPJp8svyxfN59eb3qvor/Sj/ygByAuUDSQXJBmsISQoODPANjQ+nEDER7xALEDEOqgvpCG4FsQEq/jr7mPhP9sX0yPNa8xDz//Lu8vXyrfIj8qfxBvGO8Cbw7O+173zvn+/R79zv4O+X70Hvq+6a7UfsAuvk6WTo8uYd5qflXuWc5QnmAub25eLlw+Vb5f3jyOFD34XcatlG1ijTQ9CWzmvPBdPe2Brg3ehU8yj/YQteFsAfSScFLTYxzzOhNN8zljJ5MWowgS/SLu8tUyzdKfAmuCNNH0gZSBIZC3UEt/6a+TL1D/LH8HfxYfPI9WT4Ovsj/gcBTgMeBfMGBgkOC3INghC7E+8W6Rk9HKYdfB5DHqgc9hnJFmcTsw/IC10IkwV3A9ABVgCZ/1j/Cv9f/uD9Wf2o/Gn8XPwg/Pv7rPyV/TH+uP4X/yD/0v4i/g79gPvC+dj3UfX48hTxT+8H7S7r6enG6AXoUudd5vXk1OOp4jDhlt+D3fraWtgn1eHRrc6ryxLJb8c7yGXMctNQ22Xk1e/j/G4JRBTCHAIjdCfqKVUqOCkwJ5skbiIbIYkgHyCwH9seRR3GGp0XVBNDDRQGov4u+Nbyeu4q66bpP+q37Lnwb/Ua+kr+UgLBBTsIyQkeCyMM1AwvDtUQRRTpF34bZB4SIX8jqiTjI4Mh2x2wGT4VXhC0C60HZwQGAukADAHJAZcCCQMlA2kDVgO3Aj4BY/+w/WH8uPtc+137hftF/Fz9Nf4k/5H/KP8W/if89PnH94r1KvN78Ivuwu2o7c7t6+3i7YftXO017UbssOqz6MTlNeK53mbb+ddS1DjRYs8E0VDWZd005XjuP/ovB3MTmx08JWIqDS7RLycwiS/oLfkrKyp0KVopbynoKCgn7CPnH1AbsxVdDlgFdfw99aPv+erF5+vl4uXl5/TqUe648fv0uPel+W37G/0a/0sBDwOKBW0JdA5/EwgY5xtHH9EhJSNBI8wh+x6mGsEVaBE3DUwJqwWaApAAh/9h/zH/tP7V/Yr8Ovsw+ur4Pvec9YT0J/RH9A31sfVP9hf31PdP+K74hPhm90b2B/X28/DyA/IN8Sbwru9i70Hv7e6k7t/tBu0o7Ffr5+om6szo3+YQ5WjjZOHC3uvbGtkg1yfW3Nec3I3ilek18t/8RwgPE5Qb/CGlJogp6yrNKuUpHygaJr4kWSRmJDQkoiMyIocfCxzGF0QSWwvqA7L8O/Ye8Z/tnuum6v/qy+yw7+Dyv/X796T5cvsr/cT+owDGAlQFnAi1DMgQYxScF0ka3xsbHCwbSxnHFgEUmhDbDNwJmQfvBTEE2QLQAQABjwDM/+/+zf2b/Fn7QvqV+Vn5Z/mo+SP6lvpU+yr8j/yV/Hb8OvzB+xD7o/px+jr6Qfp9+pv6g/pY+uf5KflG+Cv3w/X789Xxwu8N7oTsW+va6RHov+Zq5P/g6twn2AfToc2YyXXI38vh0r7b6+aW9IIEYBTGIeIrMjMWOFQ6gjqPOVo4/TakNT81VDYOOIQ4vTahMoosDSX7GzcRSwXZ+brwZupe5jzk/uN/5RvoEuu37bzvwPD48CDxt/Fz8132R/o+/wsFmAvqEQwX7BonHYgdGBzuGXUXyhTWEZgO9QtYCr8JbgnuCMAHEAYfBBgCjP9O/DD5lvbh9Cf0kPT99WX3m/jj+QT7nftD+136/viD93f2Afbe9R/2v/ZO9+P3ePjw+OX4Q/jz9jX1ofMx8tzwfu8V7lDt+ezT7LTsUuzd6xfrL+of6fTns+Zg5SXkGeP74lTjqONJ5J3lk+it7G7xzPYQ/KsBwgd0DdAScRf1GosdNh8nINYgmiH+Ia8hzCATIEof3B2UG3YY/BQ4EYsNuwnjBY4C1f+S/br7nPpC+kj6m/rZ+u76gPsm/OH8m/1Q/pL/LQEoAwIFlgZqCFAKLwy7DbgONw/+DvoNPA3ODJYMmQx/DK4M3QwgDdsM1AvTCSgHiQT0AZz/aP2b+zj6TvnO+Of4F/n++F34fPf/9mj29/Wl9RX1j/R69Mj0ZPXS9Rj2g/YE94f3N/dc9kD10vP58bzvvO0U7Kzqgumz6IPoeuin5/jl2eK83tTZI9RkzqPI+cR6xR3LjdTs37vsQPrwB/oTVh13JAwpZytRLN4tazEuNm07rz8EQxNFS0VWQ4s9ZzQ/KZUdfxK+CIUBVPzS+AX24/Ph8n7xTO9866/mIeK23o7dm94g4lznA+7/9fz9SAU2CzoPfhEgEiQSpBJtE4UUHBYLGP4ZfxsMHP0afBinFPEPaAsWB1gDfADb/nr+zv5O/xz/VP7G/G76c/dA9LvxAvB17wrw2vG+9Nz3N/pL+wP7MfpK+cD3APZ79LPz/PON9d33Ofr6+5H8FPzZ+lb5PPe/9DfyXPB772jvK/DD8PjwZPD07v/soOpY6C7mv+RB5OzkeuZg6HXq2evV7GrtAO4U7wrxVvSA+Lj9YgNhCVMPTxRGGOYaiBxzHdIdRR4CHz8gmSHEInIjVyO6Iikhkx4fGwgX7BI6DyUMnAl/B24FQQMRAfD+x/xY+qT3NPVH8xzyAvIY82L1RPgl+7v9KQBxAhYE+gS7BTEGngZbB4oIigrWDOoO4w8pENQPvg4TDWwKWwc0BMMBXgB6/33+Q/3O+wz6Dvhu9mH1qfRY9Hn0P/VW9o33UPjI+Pn4tfiD+IX4xvgH+W75t/n9+eH5FfkL+Lf2LfVI81vxbu+V7TXs+eqy6UHokuaK5HThk9072cLUT9DJy/fIBcqzz3DYsuKx7Z/4dAK2CZYPPBUwGl0eRSL/J7Uv0zcXPypEjEbTRWJCWT2EN4AxvitdJnAhMx2+GQ8WuxBGCdEAtPg78e/qZuYc5EbjeOOj5EzmCejm6APpK+m96dPr0+8g9VH7aAExBwoMiA+iEbYS3hMWFWcW+Bf4GToc2B0yHgEdlhrCFtsR1wxfCJQFnAPJASUAYP6P/Bj6Ivf/8+jwZe7g7Kfsse2i77XxJvPF88fzpfOr88PzOPQx9fT2Pvm2+wf+Nf8f//v9LfwW+jH4EffO9uf2y/Z39i72UvVV88TwCO6y683pf+gc6K/omuky6rLq6urY6prqj+pc67DsXu6b8K3zUPc2+0D/AgNvBkkJ0wskDoIQIRPUFaEYNRt2HSgfViDnILYgzR9XHrYcxhrBGPEW+xTKEjgQQQ3uCZgGnQMxAVv/vP18/Gj7jfrw+b/5RPop+xT83fy//R//uwA5Am0DnQTcBcsGhAdACGIJUQqWCl4KXArcCmYLmAtMC7cKqAkjCCwGEQQ1AnwAC/8D/nH9I/2c/GX7n/kz+FL3svYA9pn1kvVQ9br00fPo8gzyBPEk8NHvIvCl8JfwCPDE7hDtrevv6m7qS+nh58jml+UW44ffXtvX1tvRrc2kzjLV7t1t5SXrEfCN87H1UPhR/ncHxxADGUYhsymWMIY0pjXoNRA2wjaoOCg7fj0OPn47WTVHLfwlVyBNG/sVGRGzDJoHEwFJ+pr0P+/26evlFuSQ5I/lCOZC5i/muuWN5TnnAOvY78P0MvkH/V0APgPuBYsIsAqgDM0OEBHvEnwU0RU0Fu0U1RJbEb0QJxDFDukMpQrGB1UEAQGE/nD8SPoR+Ez2/fSg8zXyzfB774zuLO5y7vLuQe917/PvivBp8fPyyfSu9in4Qvle+kj75ftC/G78S/y8+yH7//o/+wz7GfqL+N32E/Ur82zxFfAW7+rt4+w37L3rI+sa6sfofef+5uDnY+kk6/Dscu/f8hn2RPmd/D8AsAO3BtIJdw12EdUUiRf9GWQceh66H2ggpSAdIckhqCHLIFEfmR1EGyMYTBU+E80R1A/jDOYJMwdXBFMBPv80/lL99fup+jj6VvqI+n36rvpU+xP89vxl/jgAbAHAAfoB2wJXBF0FcwU1BSsFawU8BQ0FlgXjBfYEpQJ5AFj/Yv4O/Zn75/pf+sT4efak9N7zf/MJ83jy+vGi8T/xCPHx8P7wFPH38MbwePB88BXxrvHP8X3xnvC971Pv8u4f7sPsZetk6sjoo+UB4nzeMtqg1GLRFNRd2wTjj+Z359Dnmued6D3uIvoLBxcPZREsEo8UpxhOHlclSy0NM7k02TM6Mzc0ZTXTNOYyLTG4L8IsZCc/IaAbFBbsD0sLNwlvBw8Dxfsq9VLxuu8+7+rv/vDy72ns0ehl6Obqju6C8vv07vVv9m73y/k0/cwBowZkCcwJ9gmjCx0OGhA/EUEShRI6EagPlA6jDekLLwreCHkHxQV8AyUBwf59/IP6DfnM90r2f/SY8uLwf+/x7jXvwe/97yzwUvC18JPxBfPl9E72GPdt9xH4ZfhL+K/4U/mH+cT49/eq9y/3OvYY9XD06vPv8pzxO/Dl7lTtRewU7HrsZexT6w3qVukn6oDsY/CA9Nb2SvfP9wH60/2AAmAH9gvnDvEPqRDwEtgWQRutHiAgHCBwH5geQh6cHkMfZx+nHfAaSRj6FQkU8BHQD0gNKwrNBvAD0gHW/6r9o/s2+n35FvlZ+EX3uPbN9hn3/vfg+TT8O/1w/J37a/zG/oUBzQNzBQAGbwXIBEQFewfPCX4KUAlPB7QF0ASdBMgExQR2A34ARf1a+6P68/nx+Hz3mfWb8wfyQfHu8KDw0+8r78juLO7U7a/txe337WrttOyu7IHs3+t06jrp8ehY6CjnX+U141vg3dt52PDaHeKk6OXoreQG43vkP+ha75z6EwXpBiUCdAAEB/8RoBviISol7CT9IaghKCfyLwc2TTVZMGorwChsKBQp4SlIKc8kihzJFPgQRBC7DrAKQwY9Aqn9bfjX9Ir0pfSB8oDv6u0L7untge157sHwuPI587bzh/Vo+B37XP0RAOIC+wQxBk8HmAljDPEN2Q1XDa0NGw7UDVMN3QzGC98JkQeYBXEEMwO5AbD/Pf0D+3T4Mval9MjzUvMD8iXw2+7R7fnsLu1f7s3vQPAu8HHwkvAD8WbyW/TV9UH2zPWC9ZP1F/YA91P3FfdH9kf1EPTe8vvxevFN8ZTwdu8r7hztIOxI64DrF+5H8sjz/PF88MnyB/jR/KQA5gONBdEEZwVcCq8RLhdXGI8XJxdpGNUb8B8sI98jfCG4HYYbaxyaHoceWRtpF3sUzRHzDtUMdgvHCe4FlgEj/xr+Rf3F+2L6ofkS+aD3G/YE9iL3XPgC+cD5nvo8+7D76vxE/60BHANYA38DWgRKBdoFOQarBuoGEAaTBMkD5gOYAwMCzP/2/Wb8h/pu+Q75TPhS9pLzlPF98NXvVO9Y71vvee4j7T3s8utE7MLsS+0Q7h7ulu0m7GTqf+pu7GPt0uvJ6KblWON+4QzjbOit7Kfr8+XU49LnNO0A8rj2T/tE/CH6bPvNAvYLNBG9EvYT1hYdGuccSiExJmMpcinNJ+YnQSn3KWEpPyj5J6omZSLZHfAahhm4FzYUNRBtDCcIDQRAAbH/wP5o+8f2jPM28kTy7vFU8e3wwe9y7hzvdfH89Ar39vZb94n4a/q4/Dr/5gHUAy8EqQRRBbAGpQhtCe4J6QltCYwIIgeQBn4GjgUQBKcBDP9V/bT7GvrM+GL3gfU388fw3O/V72Dv0+4k7s3t1+3e7Q/um+467/zvbvAA8enxovI485Tz1vMW9Dr0vPSN9SL1BPQT8wHzJfOD8UrwHvD07rDtiu22747yNfJg8OnvKPJL9qn5I/z//cH+If/WAQQHpgxMEHcQdBASEkwVLhlaG6gc6hxrHDkc+RuPHBMdABzoGQcYpxY/FXYSqQ86DmgMEwovBxcEygECAOb+EP5W/LH6NPkJ+LL31/ed+I74r/ch9yX4/vlV+0b8H/3E/bH9cf42AAkC2QLLAtICXAPNA2sDdAM2BJUEiQPxARQBDAH//6j98/sU+3P6lvh39ov1fvSD8qTwAPAM8Evvwe067YTtOO1i7IvrcuvK6/Lrm+us6hPqVequ6ijqlenB6N7mEOQG4zvnl+xm7dDp1Ofs6g7vqPH+9OP5cvzC+3v84gJwC3MPow8aEXIVjBmyG6weXCMoJqwmkSZoJ5ooOiisJ6knxyc6JhQiYx2eGwcbERlSFoERxAxyCOMEfgMWAnv/Bvvs9XXz3vOZ813ypvAG7/LuDu/97/fxFPOg82f00vaz+qP8kvxK/VIAZARgBmYGBQc/CCkJfwoTDFwNWgxWCREIuQj4CSsJ4QU/A/oAGf8f/tX8IPuL+Hj1S/Mi8mDxh/BB713uBu7q7Orruuti7Gntou2I7b/tY+7l7jLv1e+U8JLwM/B08BTxUPEW8dPww/DY8B3wAu8S7q/uX/Gy8+v0HvTU8hL0uPch/Bf/MABEAOYA8gMcCY8Ngg9TEDMRDxMzFkgZ5htHHWkdWR1cHQcecR7dHUkdsxwtG7gYNhYQFMkSgxEzD3cM3whVBQIDpAEoAb7/Df18+jv5+vhx+Jr3w/bM9uD2xfYJ94n3SPjC+Cr6L/zI/Zr+J/8VAfYCJQQWBYUFHwbMBh8HHwdwB2MHGQatBAIEyQOHAoAAp/7g/FD7r/kx+Pj2fvUw8yHxU/DG78buqu1M7UPshur46VPq2+p56vfpMup26fDnA+h76dLpq+iJ5ybnh+VJ43DlPutB7irryucg623xXfST9db53f4CAM//MwRyDBkRNBEWE+sYUh2qHCId0SLoJzAoTya4Jhoo5ibHJOskGybNI+EdNhnXGKUY7xSNEBIN7QnlBekBdwBB/6D8D/nn9e70U/To8k7ywfJi8t7wE/DN8Yb0gPXB9Zv2JPjo+er6lfw5/y8BsQENAnoE/wZkCNwIRwkECvYJzwlmCY0JXgnsB3QGFAUFBPMByv9y/iv8pvlj97H1KfQj8nHwxO5j7S7sKOvc6tnqvuo86jzqyuow6/fry+xn7Vjt0O0s76vv0e/f77jwM/Hc8IfwOPDD8EnwqO/s8IHz6vU79un15/bc+Nj7Fv/5Ae0D0QSuBVkIMA3uEIcSEBN3FOMWsBhAGvQbgR1mHvYdSx0ZHe4cdxycG8sawBggFoYT0xGPEGwORgwxCdwF6gLhACQA+/54/MH5PfiH+Gn49Pai9Vj1mvY690n3Z/cU+BX54Pl4+6T9of/c/+X/DwGnAu8DYQQkBScGOAaLBZAFVwZZBtoETQPUAn4CKAGA/0D+6/zZ+qD4Ovfh9Rn0PfL78DzwcO6L7PzryOsM683pHOkN6ajo9ucn6MbofOjz5+Dn7Ode51nmceaG5jvksOLk5Wzrou0D66bpWe3+8Ur1p/h4/acAxQAcAiEIrA9aE8oUqBeRG1gdjx6tIlsnpCgDKCkogClGKTAneiaFJvIlYSLLHfgasRiNFSgSiA8qDIAH6gFI/vH8ifso+b/1EvNR8Yvvy+6772Hwg++l7hvw2/Jj9B30P/Wg+K77T/6v/xwBSQJJAzsGEgotDMALCwu9CykNsw2jDagNsQzRChIJAwiMB54F0QJpAHP+ffyI+Tf3u/W5883xAPC+7hrt+eri6YHps+lj6bLoiugF6Zbp9+nA6oDr3+vC6zDsRu1M7WHtqO197l3vDO+a7iruOO6O7eftZfC984P1xvS39Br2O/lK/dgApgNKBE8EcQafCmsPVBJyEzgUPxXBFkcZDBzHHfkdvx0GHiMeBR5rHdgcNBzOGsMYjBZxFB4S2w8XDlQMLwoEB80DZwG1/2b+Gf3o+4D63fiI90X3Kvf59tr2EffR90P4Wfgr+Y76CvxX/WT+AwBKAewBsAK7A7QEbgXVBSsGFQbIBWsFNQX0BOYDsAI4AQAAY/6G/F77UPr7+NH2wvQ388zxVvBG78zuTu6s7cfrAeqE6b3pd+ry6tLqNeqG6Unp4+kX6l/pbOi+6Jzp8+gz5sbkMee76qjt4u1z7t3vQ/Ca8m/34v1GAvYClwOTBg8LZA9iE8oXAxvyG2wcAh/HIvwk4SV9JkoniSbFJIgjuiIBIqwfRR15G8oYqBRgEJUNUQsRCXwGswPGAFP9nvrt+KH3yvZU9VD0yfPz8hzyfvGB8o3zGfWo9k73Gvix+AD6A/xY/kQAfwFmAkcDUQRjBWcGbgcCCBkI+wfTB3EHwwZmBpwF/wTAA/wBmQDm/kj9DvtG+TD49PY/9UHzz/EC8ZrwEPCz73Tv0u5j7qDuI+/T70HwqvAa8VXxfPGv8Zjye/On823ze/Nb80rzb/OJ8x/0A/Sh82nzwfPh9N71t/Yy95v3N/gb+Z/6Hf10//4ARgLAA4MF7AdoCnMMgA4LEJIRsRLsEwEVshWCFhwXmBdUF78WJRaEFdQUBRQTEwESfhDNDsUM2QoDCRkHtgUhBN4COQF5/yH+6Pz/+1L79Po1+qj5kPmF+bz5w/nj+WX6w/py+0D8FP2y/fP9X/75/tX/SwCPAAMBJQHzAIAASABFADUA8f+K/wP/4P3g/DL8mvvw+k/6nfn5+Ij47vev9yj3ePb89XP1HvXz9LL0ZfQk9AT06fMV9H302vQq9S/1VfV19bf1s/XB9RT2iPbX9pH2jfaX9h/3u/cU+Gz4nPjN+P34c/lM+gf7mPtD/Oj8qf3Z/g0AMQFXAg0D8APjBBYGRgc+CC4JoQk9CugKlQtRDNYMQQ19DXkNgQ10DXsNjA1tDTwN4AxqDNgLPQvECj8KrAn/CDsImweJBoIFfARqA70CCAJ1AeQAPQCO/yn/4f6Z/nD+Ov4f/gD+9v0a/kD+X/59/pX+n/61/r3+0f77/t/+0P7J/o3+YP5F/vf9r/2J/SX9xfyB/Cb8zvuK+0/7Avvm+tH6ovqH+nX6W/ow+i369Pnf+Qb6BvoL+vX54fnV+Rr6Mvog+kH6FfoI+vj5Bfop+u752/nH+bb5u/mv+aX5ofmc+YX5QvkT+Sn5OvlJ+VD5OPl7+ez5YPrf+hr7kPsp/Mn8eP1w/lP////lAMIBxAKHA0MECwW9BYIGKwfCB18I5QhhCekJJgo/CnkKsgrWCvAKwwqdCmIK+wmuCU8JAAmLCOgHcAcHB24G0wVKBaYEFQSkAzcDqQIpArkBTAEMAccAdgAAALH/Qf/k/sz+of5T/q/9Wv0Z/cL8kPww/PH7wPtr+1j7E/vD+on6Svpa+kX6OPo/+j76Vvp3+pj6wfrZ+sP66voi+0j7e/tZ+0v7avuB+6H7qfu0+7n7oPup+8/7t/uS+4D7ifuM+4r7a/s8+z37QftC+zT7Jvsc+xj7J/sw+0T7evuW+6772/sK/EP8lfzq/Dz9sf0j/nX+1f45/5r//v+LAHEBGwJFAngCEwOnAxIEYQTGBDQFiQXrBTYGogboBhUHVgd7B6kHzQf1BzIIRghJCFMIPAgsCCYIDgjYB6QHhgcvB6YGMQbFBTAFlQQnBIcDzgJDAo8BvQAaAGj/qf77/XP97PxT/OL7afsG+7H6Zvoc+v754Pm6+eD5+vn/+SH6U/qI+s76DvtU+5f7vPvn+zD8XPx//LX8t/yv/Nz8+PwR/R79FP0c/Sz9Kv3+/PT88Pzf/Mn8t/ym/Gf8P/w6/CT8IfwZ/Pv73fvj+/n79vvz+/37EPww/HD8ePxd/GH8oPzX/AL9UP1d/Vj9f/28/fX9F/4z/m/+nP7E/vL+H/9T/2//zv9CAF0A1QBFAYsBNwKyAjcDuAMkBJoENgXFBSYGrAZHB8EHGAiHCMoIEglbCZIJwwnkCbYJiwluCSYJBAmMCCMIewe8BhsGZAXXBBgETwNuApEB3QBNAJf/2f4w/o/9Ff2V/B/8uvtf+xX70/ql+o36c/pp+m76h/py+oL6t/rF+t/6E/tK+1P7ePu8+9f7+/tX/Ij8uPz//Cb9Q/1W/Wb9cf15/YD9iP2f/a/9xv3h/c/97P0N/hH+Cf7+/QP+8/0c/jb+B/74/fv9+v3f/dH9xf2y/ar9of2D/Un9Mf0R/Rn98/yy/JT8dvxc/ET8LfwQ/Af89vsK/Bf8OfxA/If85fz5/E393/1d/p7+OP+1/0UA5QBTARYCvQIzA8MDWATeBDcFkgX9BUQGjQbUBvkG8Qb2BvkG7gbmBskGfgYRBsYFdwUZBb8EVATYA1wD+wKEAhECpAE/AcsAYgAOAIv/If/h/pT+H/7l/bT9Z/08/SP93vyh/Jn8dvxS/FX8LPwN/Br8L/xi/Fv8TPw2/Bz8R/yN/IL8f/yo/Jr8gPyO/Jz8kfy1/Mz8y/y8/MP80vzL/AT9CP37/Db9Tf1h/Yn9p/2S/XL9l/2i/ZL9ov2r/aP9of2l/aT9n/2o/az9lf1i/U79Rf0o/SP9FP0A/fL85/zl/ND84fwD/QT9Ov1b/Wj9lv25/dj9Nv6s/uH+Iv+L/9r/MQCuABMBXAGyAQsCOgK+AkUDfQPOAxQEVgR6BLgE2gTrBBMFFAU3BRwF+AT8BNMEswSkBI8EWgQwBBEEkAMzA/ACiwJAAgQCvwFYARABvQBwABYAx/+H/yX/7P62/nn+Rf4H/s79sP16/Ur9Pf3+/O38zPyY/Jj8ifxo/Fz8a/xR/Hn8cfxk/G/8Y/x//H38nPyt/L381fzy/Af9IP0n/TT9Vv1e/Xn9df2E/Yv9g/2O/Z39mv2S/cX92v3T/eP9//0Q/iD+JP4H/hP+IP4f/hL+Gv4c/g3+CP4g/jz++v3p/e/96P3Y/bD9qf2Y/Xn9gf1u/Ur9Yv1w/W39Z/1S/U/9XP1v/X39f/3c/Qz+Lf57/qv+DP9n/7f/BwBdAK8A7gA+AY0B8gFKAq0CBgNPA6MD0wMABPgDAwQ2BD0EOQRfBFsEMAQqBBUE4wOeA4oDYQMlA+4ClQIwAuEBoQFGARUB4ACMAFsALQDd/6j/h/9a/yT/8v68/p7+kP51/mv+XP5P/lD+U/5f/mT+Wv5Y/kT+Rf5K/kv+Pv4i/g/+Jf4s/jn+UP5D/lL+IP4A/vD9zP0B/gv+9f0H/vz9Af74/Qb+9/3n/fr9/f39/er99v3o/e39+v3a/dP93f3I/br9jf1k/Wf9XP0i/fz8//zQ/LP8rPya/IP8ZPwz/Bb8HPw9/DX8Bvz6+yz8cvyB/KD8z/zu/Aj9Nf2R/d/9HP5V/oz+Bv+L/7X/FgB6AIwA6wBfAboB6AFCAoUCjwLcAhUDLwMqAzgDMwNVA44DggNeAw4D1QKkAocCjgJ9AmICFwLFAbIBrAGQAWUBNQH9AL0AkwCCAGMAcwCFAG4ANwADAN3/a/8s//b+w/7H/s3+5v6Y/nz+hf5a/l7+Pv73/ar9i/20/dj9B/4f/v797/3r/fv9Cf6s/mT/if+o/7n/rv/T/4r/mf+C/1cAVgPRBGoEOAOmArL/H/0w//cB2QPZA/YCxAA7/rj8BPwj/Jn8Hf0K/W/8U/sY+fv2r/Yv90D4ePk/+ob6mfl5+LP3rfeh+Ir5wvo7/GX9of2S/ZL9Yv29/bf+AQBTAWMCIwNTA8UCiwJ/AgkD2AOWBJIFMwbCBoMGLgYiBqcFuAVfBmkHcAh5CEMIbQdABqQFvgaaCPQIsggtB5AG6AZkBuIFyAROBHADMgLCASwBywCw/97+oP60/Tb95/xx/AP8e/th+1z7R/vG+yj85/zZ/ff9Hv5P/vv+ff+W/8f/P/8z/3L+H/0T/NL6dfoN+oH5GPkJ+LD2mfVC9E7zG/Nj8yrzJ/M+9RL35/Y/9SL0ofTC9bH3K/lB+dn4CPcN9Zj07fOW83DzyvMc9PnyXvGe7wXu/uxN7eDux/A38r7yifES8pXzyvSA96/6N/5KAOQCggbICDMKdAziD4kTYRasGHUaTxv1GwocrRxRHf8dph3/Gx8bjhnPF9MVixNZEX0P+g3NC9UJ8wduBfICsAEAAUAAkv+A/zb/Nf75/Wn+of8kAZ4CggP7A5UE1AQJBcMFQwdqCOEIUQnnCFoHzwW1BLYDpQLiAXsAuP4B/Lf4VPZC9D/zvfHJ773taeuy6WXoxueP5/XmqOb65gjnMueV56DnNefq50HoKuj06LzpRupr6U3oKOfU5DXj5+JR4xjkCOPd4cbefduz2KrWhNxP5pnyUPnX+QP7pfvhAXQLjhdrJWItaDGWMyI10zhLOp88d0GtRR9IEESNPU41HiwtJo4hoiDtHScW4gse/wT2ou926uToVOcv5Xfh7N1O3MLaj9xC4L/mp+7289T2UvjC+wQBEAdWDkQWihsqHWoduB0+Howf6SB8IdogNB6bGkMVwQ4ICkcGTwRHA/kAn/1N+Bbyme1K7R7vUvD58KLw4O947rLthu9E8ov18fi9+2P9zf1e/eX8XP5IAQgEegT8Aq0AEP6h/L77DPsW+nP4/fbu82rwcusk59bl6eQ45Urjo98r21/XcdQG1HzVm9UG1V7SP9H3z9LP3s6z0BnZW+dX+LcBPgTxATgEvgw2G2YrSDirP30+DjzBOjg9MEDEQfVCBETLQuY7qDAsJLwaphUTFMoSjQ5vA1T1gOmn48HkfuYH5xfm7+LG36jfo+JR6EzuuvRn+1wBPgZVCKcKog4OFQocVCGzI+cjPCH4HVAcqBscHQgbIhe/EcELMAcoAY38A/q5+Cj4WvUj8aztE+uk6sLruO5o8d3xhvH68Krxk/O39ov64f1EAAwAGP8o/4P/HwDLAPwA5v86/tr7z/nR93T14/MI8vDwmO5261fom+U35TTkkuN94bje99xi2+vamNoE2rHbDd393FXcIte006TRXtha52n3YgO7AxgC4QFiCrIY+ifaNIw6QzqvN/g37jnVPHQ95D7TP2M9zDXhKYAeHBeaFKoU4BPTDG4AefId6irpduts7d3syepL57nkYOVU6T3vxvSH+i0BowaECd4JPQsDEKQXQR6+IU0i/h1uGcAWrheIGhoaMBagDzgJwARMAU/+1PxN+v/3OfV48oTwuu057KDsjO+C8i3z6PEI8d3x4vT79036e/uY+yn7//ot/MT9N/76/Nf7Nfo7+TH4p/bb9Ezz8fHi8LLvXe2R6sfnRuc66Ifoz+YV5C/hNt9z3pbeL99B32Pf7d2l3NraRNeU1JHUxN0W7Nf5QwIhAq0CYAboDyketSvANVw5JDcTNaY2sTlfPDw8lTtUOvQ1Sy63JBUdZhgaFmsUKhFaCZb9j/PN7uHwh/N287Twcuyd6VnoausU8YL2m/o5/lkDMQgPCbEIzQlrDwcYrB01H6ob/BXIEDgQcxTiF2UW4A8ZCEQDGQECADH/aP1v+8v3vvQz8/HxTPEf8CTx/POU9a/0J/IP8jz1kPpS/sf+xv3h+6j6j/st/iQBjQHp/n77CPmV+Aj43fal9HzzvPKX8IfuCet66RHpBOkG6jvoJ+ZU45HhvuIU5JbkWOPv4bvg8N9M3/Te9dxI2xbbFuHM7I733P7H/xoCZgdqD8kZACQXLJIvQC/lLuMxHjacNz42ojTzM/UxySoPI9YcXhkVF00Tlg4GCKH/hvff8370cvYE9cjwq+7j7kTwUPPC9qf6hv2W/40DNQmhDcoPLRB9Eg0Y0RoTG7AYNBZFFb0UVRUaFCwQDguHBZwCaQIdAlv/ufrl9i70XPP98m3zhfP58obyg/IE9Dj1Ifbv9lD5rvwi/kb9zPut/KH96v5GAA0AtP4t+6D4LPj++I/4yPX18hfxte9S7cXqWekI6D3n4OWG5GTjHOHh4OHhTeMF5HfiKOFs4ajhzeFV4UDgBeC93rPhquvC9lsAnAEBAkUHWQ5qGHcegSWyKncreSvyK9MvHDL+MP4t2ywIKyEmah9aGqoXjBQNEbcMPAjCAXz6Cfbr9VD3bPZg89zwUvAg8erzXfdp+9T+6gB8BIYH/QlDDAoO8xEiFv8YEBkPF+wUExOOEhcTnhLdD/kKpQUwAsUAmABU/hz7X/e/8+Tx8fB78YDxEPHH8I3xGfJV8urymvNu9uX4nPoE+/T6hvsm/KH9CwCSAUEAIf4O+w76D/pL+YX4Y/Zs9NHxUu8M7o/tceyN6nPohea/5G/je+Mk5MrjAeLH4LzgzOHR4V7gM98w3xTfoN+35TTv7vif/JD81gBcCGUSPxkzHsYj6ibTKHUq7C1CMaMw+y3CLMQssCmKJLQflhxOGnEWJRJkDfgHngGw/Dv7hvs3+rL2LvO/8kD03fbl+Q78Tv5+AHwEnQnsDdMPvg9oEEUULBisGZAYRBaMFLkSrxGmEDAP2guTB0UDNwBD/rv70vhv9t/0XPPJ8Vbw4O+K7/3vrfDW8eTyVvOW82b0y/Z7+ET5SvmV+kD8yvwL/Sv9av09/fj8V/xP/Dv7bfnO91T2pfUq9LXyGPEo8Dbuout/6d7nv+fU5vjlvuQd5EHjWOIc4tzh4eG14HTg1uBL4djjjekA8sP49vnU+t//AgmWEmMYwRuKHichiSPsJm4qcSzRK8cpBilNKK0lCCJdHvkbvhlIFoURqgt0BjoCNgB+/6/+tPtc98z0JvWc94H5E/sx/Aj+DgHhBJEIZApTC04Mdw+qE44VBRVzE+wSxxKfEhES4w9yDIoIrgXBA+MBCP+m+zf4rvU99NnyWfIA8TTvLu7A7pjwSfHy8Fjw+/AA8031n/Y399H3Wfjg+XD7OP3g/VX9b/3k/cT+r/65/QX87voC+uX4fvfA9ab0MfOF8Wfvge3U61jqOen15/Pm+OWi5JXjc+O34wPkGuT84xbkPeXt6WXwA/Yd+ej4/vokAeYJKRK2FkcYvBhJG+cfSCVcKJcooie3JusmjyZ+Je4iDCC4HZob7xhEFU4RPA1gCtEIwAehBUQC2v63/fz+ZQAXAS4ADf8w/yMBJwS5BtUHxwcKCOIIsArmC+cLBQtbCZkIEAgpBwIGKQRpArsAi/8T/t37Q/kp92b2TvWL9Ifz9vFz8I/vHPD38BTxCvA773Tv4vB88kjzsvN286XzlfRL9iP4/fio+Pf3WPhq+VL6gPot+gX6jPnI+Hn4KfjM96r2Ffa69Wv0e/I48ODude1/7L7rVOu46ibpZOc+5+XqGPC79D/21PW596f8sgMoCsMOLBESEtwTYxdqHGEg1CFgIRsgHiBkIB4h3yAmH5MczhjdFXsTvRFqD68MFApuB84EuwGc/57+j/4k/sn9dv2V/Lf8t/1hAOsC3AMxBHkEogVVB8AIuAkuCmMJSwjGB7UH6QdEB8MFLwRKAmkAh/5h/XP88Pro+ND2p/V/9H/zR/Lb8aHxMvGU8P/vpO99773wufHA8nDyY/Fr8e/ydPU194b3ofYQ9mT2DPi8+Sv7QfsH+mr5xvn9+qH7WftH+s/4u/dV96z3kvev9ib1qfNV84rzs/Mj847yR/Kf82b2Fvle+h36Cvuu/VwCZQawCKAJCArEC6gO4xHLE6AUOBQgFOcUexXdFasVIBX3E6kSORHmD60Obw0oDNMKewmAB38FygNhA6UDowPkAhYBmf9j/70AKgLsAl0CQgH0APUB3AP7BOQEmAOFAuYCfwSwBSkFrgN7AhYCCwLxAZYBhgAx/8r9yvxY/ML7vfoh+Yb3hvZF9ub1YPWW9Przs/OO84LzuPPy89/zJvQ49LT0PvUF9tr2tveE+Iv4pfgz+YD67fup/FP8Gvxk/PL8xf0e/gv+0f0H/c37FvsL+wH7wvow+rr49fbQ9dH2hfld+1z77fkl+fv5gfwBAPQCZgQPBBwDMAORBVQJVQxTDVIMwgoMCk0LEg76D7gPHg6TDOALQgwUDVwNZwyTCr8IhgfaBmoG1wUoBcEE1AO7Ai8CEwJrAp4CXAIFAvEBAQI8Au0CYgOeA18DuAK1AkwD0QPLA7IDMgOoAmUCYgKIAu0BEAFBAOH/Sv8n/pL9+fxq/JD7Mfot+YL4ZPhc+BP4rffU9gv26vWm9pr3HPh6+Fv4TfgQ+Wj6t/t6/NL87Pwi/Q7+XP9hAOQA0ACsALMA+gB+AdQB0AF2AZoAhAAxAVwBDgFVAMv/ZP8C/wf/Kv8R/3n+8/3N/bP92/2v/Qr9HP0G/uD+vv4t/tX9Hf4D/+b/BQGiAY8BBAFsALwA/wF5A0QE+wPlAt8BUAEMApwDrwQ3BEoCdAD8/yIBiQJwAyoDowEPAHr/PACOAZUCdQJQAU0A4P/J/1QAKAGuAaYBwABLALUAqQFEAlcCiAJBAh8CMgJ2AugCrwIcAncBQQE/AfgAgADc/0n/tf5S/hf+2v2E/R79sfxI/Pj7Evyr/A39Jf3a/HD8hvxG/Rv+o/4n/zL/7/4v//b/twBUAaIBSwHqAPoAQQGeAQECBwKtASIBvwCoALoAGgFhARgBaQD4/9L/9P9vAK0AgAAlAOX/yP/W//b/CAAvAEAAIgAFAAUA8//9/0UAmQC0AHUAGAD7/0oAmQDnAPkAwACAAG8AlQCzAPcA+gDVAJAAawCtAOcA2QCcALMAhwBMAFUAggB6ADcAEQDa/zMAmACaAFoAGgAmAEAAaACDALQAmABKACkAOwBmAGoAagA1APD/0f+j/5b/Yv8c/83+Wf42/u/98P3i/YP9Lv2O/Hf8pvzR/Jz8Ovwo/Cj8dfyX/J/8y/w5/aX94P1E/o3+mf7E/if/c//W/zEAMgAiAGsAzADvABIBIAEpARIB9wD2ADoBhQFhASgBqQCWAOgAAAEMAQUB3gB+AFIAhAC4ALUAnAB/AIUAiwCdALcAzADWALcAggBRAGQAVgCSAK8AYABeAGoAegB5AIMAmQCVAGcATQBbAEoAQQBdAFkATgBVAGgAbQBYAIgAkACKAJQAYwBJAFIAbgBvAEwAMAAIAPH/AQAFAAcAIgA1ABwAGAAyAEMAQQA9ADcAJgDy/7v/vP+l/47/af9N/zT/DP8K/wb/Ev8N/8b+m/7F/uv+8/79/if/M/8o/0L/Tv9W/3n/sf8DADMATACWALcAyADdAPwAJwFVAXYBXQE8AUcBcwGNAckBzwGVAZQBygERAlYCUwImAj8CJQICAiQCNwIuAhMC8QHQAc8ByQGcAYEBYQFOATQBBwHsAK8AfwBcAE4ASQAzAPr/wv+2/7j/y/+6/7z/w/+W/3f/ov/I/9r/0f+x/5v/kf/I/w0AJwAOAAAAv/+M/7X/4v8KAAAAzf/B/8v/1P/w/+//4/+x/4r/hf+V/9L/0f+t/5H/lv+i/6f/hv9b/zb/Dv8M/9/+w/6n/pX+sv69/sj+xP76/hn/6P7W/u3+N/9x/3f/a/9g/27/iv+n//D//v/f/+7/BwBAAHIAlQCTAMMA+ADtAA8BNQFzAZABgwGUAaIBjwGpAdkB3AHjAeAB6wHwAdIBwAHJAdUBwQGNAXUBawF1AXkBUwE2ARgBGgELAfQA7wDSAL8AsQCnAIgAcQB1AH0AcwBXAEIAIwALAA0A+//z/woAIwAvAB4AIwAlAEMAZgBPAEgAJwAbAFYAeQBlAGEAegCGAHYAdgCPAIMAhQCIAHAAZgB1AH4AYwBcAE4AGADv//X/0f99/0v/Kf8B/+3+7v7g/t7+0P7Y/gn/GP8d/yv/Kf8w/1z/af+B/53/m/+Y/6n/vv+i/6v/1//6/wUAAQBCAHsAnQCoAKsAtwDCALsAvQDUANQAEgEyAVMBcwF/AY0BjQGTAZMBkgGNAZgBmQGmAagBqAGPAWsBcQFoAUQBGAEhARoB7wD0AOsA0QC/AMUAwAC3ALsAkgBWAD4ASQBgAFoAQwDj/+D/XQBPACsAQgAmAM3/0v/m/woANwA9AEsAQABCAFAAYABWAGMAZwB3AJIAjgCNAK4AwgDIANQA3ADZALwAtQC2AMEAtQCPAH4AewB0AGUANgDy/+T/4v/b/9T/tf+o/5//k/97/3D/YP9c/1f/Tf9H/0f/Pf85/0P/N/9L/3T/k/+i/8n/0//W/+b/+P/u/+f/GAAuACcAMQBNAGcAmACuAJoAuADvABkBQgFkAYYBogHPAcoBwgHMAdQByAG8AdABzwHPAaIBiwGJAYYBkgGOAXwBXQFZAUcBLAEaAQcB9ADgAOUA8ADgAK4AkgCLAHYAYwBWAEMANgAvACwAEwAdACEAAgANABEAAwD3//j/4/8QADAAEAD8/+v/9//v//T/AwAQAOv/3f/m/9//AwAYAAMA+v/7//3/BADl/9f/3P/e/9v/3P/Y/9b/2f/G/9b/0f/G/8//0//I/9f/7P/1/xEAEwD8//L/DQAJAPn/CwAXACkAUwBaAGgAgQCJAK8AwgC7ALwA4wDwABABFwH5AD0BXQFMAVUBfAFpAVkBZAFkAXoBdwFXAUUBVAFJAUkBVQE+ASkBIAEXAfYA4wD0AOUA4ADlANQAtgC9AMEApwCVAJsAtgCfAKYApwCUAIsAjgCUAIEAeAB2AGMAVAA+AC4ALQAhAAYA5v/t/93/1v/u/+r/1f/O/7z/wP/S/7z/t/+l/6D/sv+3/8n/wf+y/63/qf+m/7D/yP/S/8P/xv/h/7//sf+U/4r/nf+T/6n/qf+v/6j/rv+z/6T/pP+T/5b/pP+p/7H/uf+p/6T/ov+1/83/v//T/9n/2//W/+z/FgAuAE4AUwB2AKYAtQC+AOQA/AD/APsA/QARATEBUgFAAUgBXgFJAVkBXgFlAWEBWgF1AXUBbQFfAU4BMwEtATABMwEsATABOQE+ATMBJAEZARUBGAEAAfoA4QDOALgArAC7AKMAhgCWAIcAdgByAFIAUwBAADIANQAyADwANwAjACEAHgAZABAA/f8CAPn/7f/7/+P/zf/j/9L/tf+s/6T/mP+J/43/fP99/2//Vv9d/1//Wf9V/2L/W/9R/1H/Qv9I/0b/N/82/zn/Pv8w/zb/X/+E/3T/bP+E/4b/qP+z/7P/xf/U/+L/4/8HACIAJgAyACEAIwA+AFIAZgBlAHEAYABRAGIAWwB5AHoAaAB4AHEAiwCWAIQAigB5AHsAhACNAKcArgCpALkA1wDjAPQA6wDmAO0A1wDXAMwAyADWAOEA4wDZAPMA+ADqAOcA4QDYAMsAxgCxALUAogCuANAAsgCmAJEAkgCTAIkAeQBvAHEAVABLAEIASgBOAD0ATABWAEYAQABJADwAMQBDADoAMwAuABsAFwATACEAHwAZAB0AGQAFAAsACwAFAA4AAQABAAEADQDy/+v/9f/e/+H/0P/k/+X/3f/a/8//3v/Q/93/2f/J/8T/zP/v/+v/1P/e/93/u//J/8f/w//z//H/EwArACMAMQA5ADkAPABCAEYAXgB5AHQAbAB6AGkAigCSAHgAggCIAIcAiACSAI4AjgCHAHcAcQBsAG4AgwCCAJAAhQBxAHIAbQB4AHAAdABkAF0AWwBWAGAAYgB1AIAAdwBrAHEAbQB3AHMAaQB0AFcATwBhAHcAfwBxAHAAbwB2AHcAcQBlAFcAUABAAEoAYwBrAGIAXQBPAEoAQAA8AFUAQAA6AEoAVABWAE8ARgBKAFQATgBHAHAAegBhAHgAbABbAF8AWgBCAEQAPQBMAFEASwBdAFoAXwBSAHAAaQBSAGEAVgBNAEQAUQBiAGkAZgBUAGAAZQBZAGIAYgBmAGIAWwBhAGgAXgBsAGEASABFACsAKAASAAAAFAATABsAJgAhADYAJAAeACMAGwArACwAKQAwAC4AMgA3ADAAOwAwADQANgBBAEoAOgAoAA8AEQAWABQAHwAkAB4ABQAIAB4AEgAnACwAJwA0ABkAIAA6ACQAJQAhABUAGQAwAE0ARQBDAFEAUABFAFUAZQB3AGEATABqAFgAXwCXAJAAiACDAIYAhwB1AGoAXABnAGoAbwB8AIQAZABaAFoAPQBVAEwANABHAEAASwBfAFUAVgBXAFIAYQBdAFAAVQBFAEEATQBXAEsASwBJACkANQBFAEcAQwBDAEgARwBiAFwAWABgAEYAQwBKAEQASABTAFIASQBQAE4AVQBmAFwAVABLAEMAQgBKAEIAWgBwAGYAVgA8AEIAPQA3AEIARABGADoAIAAzAEgANwBFAE4AVgBOADUARQAyAD4ASQBFAGAAYABUAE8AXQBkAGkAUwBKAFMASwBQAFgAXABdAFkATAAoACsAOgArADgAPQA6ADgALAApABwAHAAgACEAKQAvADQALQAxACUAFAAaACUAHAA9AF0ARwA0AC0ALgAmACkALQAuADQAHgARAC4APwA/AD8AOwBMAEYAPABCAD4APgA0AEEATABFAEoAUQBSAFcAWABjAGcAXQBkAEgAagCAAGQAbABXAFUAWQBcAFQAUABaAFAATgBRAFMAPwAxADIAOAAnABMAFwAaABwAFwAbABYAFQAYABUADwARABYADgAVABQABAAAABQAGQArADMAEgAbAAoA7v8AABMAEAAeADsARwBFAD8ARwBEAEUARQBCAEwAcABvAGYAggByAG8AaQBqAHMAawCDAIEAeQB4AH0AdgBiAGsAXABAADMAKwAnACMALwBGAEkASwBYAD0AFAAJAAwAFQAEAAEAGAAWABQAAwD6//P/9P8IABAASABUADoARwBSAEYAKgAIAOr/6f/c/+3/9f///w8AHwAwAB8AMQAvABYADgAGAPT/CQA0ADoAQgBGAC0AAgAEAPX/3f/5//z/EwA6AGoAlQCRAJsAlwBzAEgASAAvAAcAEAASACsAawCiAI0AgABrAE4ARQAiABMALQBZAFIAVABpAEwAPwAzAC4AQQBWAFMARwBlAFUAVABtAHMAdwCGAJEAbgBTADYABwD4/xIAIAA6AEkAcwCVAI0AcQA6AAAA4P/g//D/KgBOAHAAgwCCAFoAHwD2/8v/xf/j/xEAPgBPAEoAPwAlABAA9P/o//z/KwA4ADQAPgAdAAAA6v/I/9//KwBeAG8AiQBxADMA+v/3/xAARQCsAJ8AmgBnAL7/L/8P/wv/XADGA7sFUga2BdUCQf+0/Kb7efuS/bMA6QJYBB0EJAKf/0b9vPvT+9j97P94AV4CuAE5AJ/+h/6U/1QBNgMRBEYDDgGU/gP82frn+wz+lwDVAi4DoQFF/6386fom++f8Uf/PAdwCXALOAPD+2/3O/f3+7AC3ApQDVwMLAm0AWv/o/mP/NwDhAB0BzADZ/3r+/P0L/nH+of+fABYB+wBwALP/7f45/6gApgFVAgwDLwONA3ME1QSpBA4E4gHA/vz77Plw+ZT6j/wo/zkBBQJlAYT/m/1w/JL8BP43AHYCsAPTA8YCFwGf/+T+Zv8pAUUDcQTsBOgDqAFs/739Of3C/TL/fAApAQoBBQAn/5z+0P6q/xoBlQLfAoACcAHN/4/+dv5r/5wAHQIPA6ACfgEGAJv+of2V/fj9m/5a/7f/1P9k/xX/Iv78/Pb8kPxR/HL94v5i/2sCxAXqBesH0wnoCKoGMgRlAWL+sP1c/v3/xwI1B5EKGQqbCG8DzPt69mXzcPIK9Qn6i/1aACsBy/7v+775Ufka+xX/SQLwA0YEfAIkACz9hPuB+8P8d/9lAc0BAAEH/2n7Z/mw+Qj6P/zE/uj/QQDx//v+uP0e/Tj9PP6m/+kAEAJ4AhwC5gFUAsICfQOuBA4FPgQ6AyACsgBgAKgAHwHiAVACQAJDAf//NP/6/hf/hP9yAN4AkwAYAHH/j/5S/in/YwB9AZgCdgNDA3oCzwEJASQADgAxAHIADgFzAYEBXgHBADgA8/+D/5z/7f8vAE0AKgCV/6j+0/0Y/VP8wvui+yH8MP1d/vr+IP/i/gD+Iv0a/NX7JPyS/A792fwk/HH6QPml+IL3DPY19ab1JPaf9j728/SS8/nyKvXm+e0BBQrLD34UIBd8F0IWbhVdFKcUqRbZF3gY7Ra2ExkPpAnYBTwDJgL9AN0BWQS7BVEGBAVBA2QAAf+3/6kA3gE0AzQFfAaIBm8F6AJHAI7/xwF0Bd4IAgvvCtYJhwfOBBgCwgAvAkoFewgEChkKZAefAjv+1/vD+wr96v7MAF8CsgKbAEf9MvqS92v2YPWq9Pb0zvOu8V7vXe1+6wDpcOdu5/boSOx17i3vPO7R6jjnkuET3KHYWNS/0EzNbsp0xue9t7N7qnex/MWz5OQFfiGFQDhSLFvUWd9Q/0ZnOdAycS4YLEEmSxtuDqD/1fN77HbotOdo7rb6gAfFEB0VqhULElwP7Q6dDzoQQRHSFPAXShoyGK0ShAtzBL4A+P76/wMA+P8tAFL/fP7F+l72x/JW8WXynvUR+0gBsgiaD8IUaxZ7FB0RSA3RCoAJvwiUBwQG4wMdAbz/dv2C+0v5SfhO+Qn6U/uS+0H7h/qm+tX6FvoO+Ij3u/fj95z49Pix+Qv5HfkY+vf6GvrH+Tv7JPzn+576t/lB9xbzZu/p6wvoOuS34pXi9OFq4Z/g1OEN4hrhud7A2WDVrs6Pxyi/orL7rNW5Vd1DCSctg0meYLFueWwRXgZFcienDi4ANf5L/in/MP8r/q/8f/sD/CD65Pmi/0ENjxwQJjAriyoeJSMc7BN+DZ8GDwLVAG8GGgwOD5QOOQqWB8QE3QJGANH9V/1O/TD+Wv5+/p79YPv5+8T+7gJHB8kLqhGzFrgY0RceFooRbgtFBXIA0f0U/Pf7Gvz1+2z7BfsB+qb3OfUK9MX0cPfF+p397P5O/9L9c/q29qbzUPOe9K73XftS/kH/rv50/LL4GfMt7RPrievx7XjvLPAN8Z7x7fAb7hDqxeZx5dPktuXu5f/kWeOy4Ane0diq0anHWb7fwXHUn/GjDN0k6z4vU75cGFcsSfczgxsWCKX8zvk5+Hv61v0MBPEKKA2GDfsKggzPDngSkxapGaAc1huPG2AY0xRSDk4HmwIwANoBwQPXB4AJOQynDeUMtAkbBIUA3fxX+4r5z/qi/jMDQAjhC4kNdgyHCpQIhgfdBQMF4AXZCEALTAquBhcC+/32+H/0RvH87zbwTPIu9r359ft++9D6c/qw+RD4l/Vh9Er0LfYr+BX5+Plf+s35ovdr9o71fPSG8yTz4fS09ab1BvVn9M/zuvFp7z3tVez36+DrWuuP6pzqgOos6lHpvujS57vmY+Qq4T/dvNdh1hbc+Onm+x0M0xtYK785XUJYQTQ3KygqGnkNvQN//F34s/jX+1UDpgsiE9AWPBfmF24YLxmHF6oV0BMOE0ITNxPmEuQP0ws4B9IEdwSlBBUEtALNA9wGDwqICnoIEwXjAa3/Uf5J/Z/7jfsE/twDXApwDnIPrQ0kC38IngZnBAkCuf/7/vkAdAJrAjcAU/2G+hP4lvZX9Zj0z/RH98v5NftU+9T6VvrC+Bz3y/XG9er1BPax9iH4OPmG+Lr32PYA9hv0kvEi8AjwffAG8QLywfId85ryJvKI8Rnw4+0v6zjpUujF6JHpe+pR63TryuqJ6IPlOuJq3dvZl9u95N3zywPkEo0g+SsaMooxzStQInQX9AvDA7MA2gEJBP0FJgpWD80UJBfkFmUVVBNKEiMRuhEzEmUS7RE1EVoRJBCzDT0J5gXXAzEDsQOgAxAFqAbnCB0K4glACNkEpQHV/oD9xfxX/S//lQJMBjUIswheBw8GZgSSAhcBYACwAC4BCAKXAssCLAE//gb7gvhq96L2ZPbU9vX4p/s6/gAA2QA1AUUAK/8w/Wb7dflG90/2IfYM91L3nvf591H4avha96b2rfUS9XT09POS83PykfGf8A3xE/K78jPzbvNX9Dz1pfUe9RP0uPKG8dDwePDg8KLw+O9l77Xvw/Bm8HDvee9j8iT4zP5oBQIMwBIZGMEbbR2XHGgZ1RQvEY0Pag+yDswNyg6gEaEUjxWJFN8SjBF/EIYPmg4HDi0OnA5DEH4SjBNrEqUPdw0oDDMLPgmGBr8EUQQOBYUF/gUkBqsFFQVaBAIEXwOWAgICMgKrAsYChgK8AWQB3AAVALH/x/8wAEwAhACYAEoAz/9j/9P+9/32/On7ovvm+2b88/zl/Ir8Wvxw/Ff8tfuI+gr56Pcb9772bvat9a303POx87TzlvOQ8+/zd/TQ9DH1mPW+9Zb1EfVP9Ezz7/Gl8NDvVe8Y7+Xux+4R77HvXPB68AHwUe+S7n3t9+tm6uro+efD6GDshPJR+iQCfQnaEIEXeByvHuEekx2RG+4Y5xU/E80QQA86Do0Onw8ZEVsS7RKIE60TDBTfE5ETGhOWEkAS5xE3EvcRgRFzEAUPeA2OC6sJkwcHBrUE8AOzA/QDoQQDBf0EYgSCA1EC8gCW/7b+jP63/h//kv9UAPYAGwHiAIsAiACKAM4AOwGmAekB8gHfAXoBtACZ/4f+V/0Y/LT6TflZ+LP3+vds+Iv4o/h3+E34sPf69kz27fXH9YP1vPUU9pj23fbP9rD2hPaS9qb2BPc39zD3BPeg9tX1gfTC8sbwnO8U7zPvsO+P8Mzx2PKU88Pzs/OW8ojwH+7P6/vp1eey5dbkAOZS6VHuefTs+2kEHQ3wFE8bNyAWI5AjJCKKH0scoxi/FKQRIxAdEPEQORJ6E5kUchWqFWAVgxRrE9kRYxBcD/gO6A6SDmkO6Q2PDboMiAsYCmYI/QZ8BawEvgMMA38CBwLnAX0BcQEwASAB4ABkAAsApv+S/17/Rv97/0EA/wCDAfgBOwKLApcC0AJ7A1gECAVCBekEBAR0AgAAOf14+iD4ZfYL9YH0+fTK9aL2i/eL+HH56vmt+ev4Fvga90f2yvWs9cX1CfZn9uv2jvfN97H3Xfc29+P2NfZM9Uv0SPMH8vfwMPAH8P7vte9+717vte/J77jvc+/57nHuS+1g7Hfr/epF61rsV+/N81D5/v7eBNcKXRBkFSUZJxwzHiEfEB/RHSwcbBqUGHMWgRQXE10S8RGWEZARpBHIEa4RJRFVEJoP7A47DosN+QyHDNUL8grVCboIxAeQBkEF2QPLAjsCwgFSAeAAsgDBAP8ADAEUAS4BQQF2AZ0B+gFbAqECtQKfAqQCpQK0Am0CLgL0AacBbwGLAG7/O/4Y/QH8A/s++rn5l/lI+Qz5zvh1+Bz4k/cL95/2a/Z09qD29/Zh97T38fcW+AT44vec97v3JPjI+Mj5VPru+jn7T/tC+776L/pu+dL4Xvjs9433SvdF9173uvdO+Pf4sPlE+u/6YPut+9X7qPuL+2X7TPsj+x77Qfv7+339A/+gAHkB6gEQAuoByQGEAawB2wGVApIDMgXqBlkI2gkRC58Mzg3zDq4PGRCpEBcRjhHBEdIRrhFqEesQDhBND80OUg7XDTYNqwwxDJQLAAtkCtcJFAmPCCwIzwd+B+sGfwbjBWcF7QRwBLgDzALwAfMAx/+E/mr9S/x9+9b6kvpx+mH6UPpx+qf6vPrz+gD7IPsD++z64PrA+o36Zfoq+tn5i/lA+RL54fja+Pv4QfmM+f35PvpG+kT6OPol+hv6D/rl+dD5nfkx+bv4U/ja90v3yfZ39kP2Dfbs9ez1+fUf9kX2V/Yq9hn2RPZV9nH2B/aO9Rz1u/SZ9G70jPTn9P71YPca+ZH6r/u4/EH9GP7T/rT/rQDKAZsD7AVuCLQKywzJDsMQhRL3EzcVERYEF/oXZRiMGD8Y2BdMF4gWkBVxFIoTxxJPEqsR/hBbEK4P3g6fDUMMggreCGAH/gXGBKgD4wLPAdAA4//l/vv9U/30/Nn83vy//Kn8Xfw9/OD7e/sm++j6GfuH+y/8a/yI/K38/vxB/Rz93fyY/Fj8NPwb/N77sfum+9n7D/wl/Dz8D/zq+9r7ffv7+nn6EfrV+YD5JPns+Gj43/d/9yr3ufbv9T/1kfQC9JDzCvM88mbx8fCe8JHwRfB677ru+u1W7ZPs3+uZ6wPswu0G8J3yj/QG9iH3y/e/+Fv5hfri+/L90wDrAxoHOgqIDZ8QtRNgFiMYQBknGhUbyRv2Gx8cIBwXHB4c4RtCG1oaTRkpGBcXyhV/FCwT+xF4EJkOpAyACokIgwbaBJQDdwK0AUYB7wB5ANz/K/96/u39of1P/Qj96fwT/Wj9zP33/R/+Wf6h/hT/LP92/77/JQB7AI8AgAAxAAQAnP8X/xv+jP1w/Tn9Hf3a/KH8Rfzc+1n74fos+n35CPmT+Er4y/d19xT3hfYS9qT1WfXN9B30lfM689XyY/IM8vnxP/Jy8l3y/fGV8WLxWPEE8U7wk+/s7izuRu1u7KzrIuxP7sXxFvU99874gPkG+vT54vlx+nn7mv1aAG0DKQYMCQsMPg9xEnMVrxctGZcagRu4HJcdDh5rHs0eOR/0Hh0eTx2pHOEbBBv0GcgYbRftFT0UExK7D4kNjwt5CXEHsgU6BCQDVgKjAdcAMQCs/z7/rf4G/lP9yPxk/Cb8BPzN++T7kPuQ+/H7Y/zP/BH9jf0Q/pz+yP6j/hb+k/0n/fH80vzE/Ov81Py3/Gf8Svw6/PP7wvuR+1r7E/uG+gP6t/lY+Qj5t/hd+AH4ovdK9+T2Vfbr9bT1kvVn9TP10/Rx9DP0yPNb85nyCvKo8RTxXfBg7yru4Oxq6/zpGukB6azqhe358NPzfvVA9jT2/vV49dX1I/dg+U/8Vf+OAoEFPQgxC28OshGQFOwWzxgwGmYbWRxMHSke7x50H3MfBx9GHpQdwxy2G4MafxmBGFUXhxUOE04QoQ1QC/QI3wbCBF0DuALtAR0Bz/+a/qX95vx+/Ab8m/sv++f6pfpO+v/52Pkl+sb6i/st/O38k/05/gz/k//N/2n/Mv8F/9D+uf6w/ub+Av82/xH/zv4v/nj9+vx3/Ar8efvO+iL6tvlM+QT5m/h3+HD4KPj/95L3I/eh9lb2D/Z49QP1VvS786bzlvNE87LyF/Ky8XXxUPHH8PHv4O6n7WLs0epn6dXoGOrl7Hbwn/OQ9an2+PYH98j2A/c8+GP6Rv0sABkDxwXmCGAM8A9fExgWUxgVGrwbKB1CHjgfLSD2IFQhDiHwH8Ie4h0hHY0c7htHG2sa+BgqF+cUNRJvD9QMTQoVCEAGrASAA2wCXQEjABj/N/5x/er8nvzB/MP8ivwQ/Hz7D/vX+vL6Kvuc+238fv11/j3/5/9cALsABQE1AQEBtgCBAEgAUABVAGMAQQDu/4P/i/5+/dX8d/zk+/r6D/o0+dz4ufh/+On3GveU9hX21vV+9Rj18fQG9cf06vOs8nDx2vCt8Ovw0/Be8Abwze/F72/vIO/O7l/u1O3d7LXr+uqp6w7uZPFq9GP2ivcT+E74GPh5+PL5GvwH//wBNAUNCJ0KMQ2nDxISFBTZFWYX8hh+GrkbvRzBHXge1B6oHtId7BwvHIUb6BoeGkYZPhjlFkMVJxOjECsOEwwACjQIqQY+BRwE7AK6AWQABf+b/WD81PvP+yX8UfxX/BH8tft1+zD7Gfsk+4X7APyf/CD9t/06/qr+QP+J/9n/nP9W/+f+Xv4w/uL96/3Q/eL98v25/UH9ZPz1+6/7Z/v7+m36HfqO+Rv5lvjf9xj3ZfYH9qr1PPWY9En06fNu87zyJfLi8XTxTPHR8CjwUe+G7hLuuO2d7Tnt4+xs7IjrcOqV6Qfqzevq7mTyAvWp9pf35veN92739/eC+RD8BP81AlYFYwhtC6sOxBEgFBIWsxcoGXwacRteHF4dTB7bHrUeFR5VHd4cohxFHKYb5hrhGbwYbxd6FRATWxDWDXELAwndBjQFJARlA50CXQHV/xz+tPzZ+4D7nPul+6X7Rfvm+nX6LPpS+oD6KPu/+yT8aPz6/K79VP4h/5v/CwDy/6j/Pv/S/uX+y/6y/nT+I/7C/Sn9pPwz/O77r/tu+//6ZPrd+Uz5zfhF+JD3zvYA9lT12fSC9DL0A/Ti82zz8PKV8nfymPK/8rHyKPI08VLw6e+d71rv6u5H7mPtH+zI6o/pZOkZ62fuC/L89K32dPf69xL4DfhY+HX5sPuR/vcBWAWFCPQLZQ+7EnQVaRftGD0a5xtIHWAeWR8vIBIhTCHDIMYfwB6xHZIciBuLGr8ZOhmCGDEXQBW/EiwQpg0yC98IyAYRBaIDOwKUANr+Yf1F/I37F/vZ+rv6g/oY+pn5H/m4+Jn4jvhp+Hb4wfhQ+Q/69PrQ+5L8LP2o/SL+WP54/nn+mP68/pP+Kv6x/Wv9Ef2s/Dz81PuG+y37+/rB+mX6+/mW+RX5KPgS9wP2G/V/9CD0y/N48zLzFvPo8mjy5fF48UjxGvGo8PHvGe+F7vftbO3G7M/roupL6T3oqedf6MHqGe5i8djzevUk9kL27vWi9af2Zfj6+l/+1AGTBfwIWAyuD7oSZhWrF64ZZxsjHage2R/mIMAhOCIqIkkhRiBBHzEewB2VHX0d0Bx/G2UZzhYsFHQRvw7qC5EJlQdCBhEFoAMNAi4AyP4t/Zb7WPpV+Sn5QPkS+an4IviV9wb3bvYg9kH20Pa+97D4u/mk+oX7dfwV/XH9hf2p/dv90f3V/dH9t/3s/U/+mv6p/kb+wv05/Z78FPyX+0L7/fqq+gP6D/kb+Cb3SvaO9fb0rvRu9Cn00PMa80HylPFU8T7xHfG78CTweu/p7ofu9+1j7Zjslute6gHpKeiS6NvqRu7b8YP0J/Y190/38/ak9mv3YvkM/GT/tQK/BdMI+wsOD9gRWhSIFpkYjRoOHAMdnx1EHtoeFh/LHiQebR3oHGoc/RuWG/kaJhoTGXgXXRX5EpoQSw4fDEIKPwhgBtoEeQMeAs0An//X/hX+b/3I/BD8u/sW+1r6svk0+QX5CvlH+az5E/qJ+gL7gvsl/Jb8K/2z/QX+If4G/uX9iv0c/dH8lfw6/Pr72/vP+7T7afv0+m361PkX+Uj4qvd/92X3OPfH9j72qvUj9Vv0XvPS8inywfF18Rfx2vCn8Mnw6vC/8Fvwsu8E76juXe4R7rntPe2j7P/rdute61rs7e5L8iv1Cfcu+K34q/jH+GT53/rk/Ff/8AF6BBUHzgnjDPgPpxLkFPIWyhhpGowbJRzGHIgdOx47Hpsd2hw0HMkbjRslG5kaOhqLGVIYUBb5E8sR3w8SDi0MQAogCDsGcwTNAoEB4wCYACIA0f+F/yz/av5y/Uz8H/uB+lX6Q/pV+rL6TvsW/Or8rf1c/uT+Rf+J/57/l/94/33/YP8m/7v+U/6k/cD8ifxm/Lv8/PzM/G38qvvh+gD69/j590n3nPbY9RH1OPR58+fyXvIU8o/x7fB18MbvHO+I7lDuSe4u7sTtGu1I7GfrxOpl6kvqTupL6ivqG+oO6tzqwexd70HyFvSO9ZH26vZV99/3E/na+nP9ZgB5A6oGsAn9DP0PehKmFKsWcBjQGeQayBuvHJUdSx5kHi0e4h1/HQYdfRwWHLUbHxtsGlIZFBd/FCkSpw9xDWcLlgkYCK8GXAXbA3kCXgGoAAAAV//X/ij+Hv0Y/G/75vqe+pz63PpX+7f71vsF/FH8sfxE/ej9e/4N/4b/f/9B/wL/wf7H/rP+bP4D/pf9Sv3a/Iv8QfzF+zj7lvrh+TT5dPi99yX3sPZg9qn19PQk9F/z0PJk8h3ywvGh8TjxxPAf8JXvLu/M7rfuge5G7tXtYe3h7JLsFexB64rq+unO6VjqU+wx70HyivT19VT3Gvif+Bv55vkw+wX9uP+5Ag4GTgllDKcPmxIMFS4XDRl+GpUboRzMHbMebR/gH+sfWx+dHgkeeB3rHAgcJhsjGmYZMhhDFjwUyxFlD+YMFwqcB+EFeAR3A3sChAHYANr/6P4G/gP9Jvx8+/36q/pL+vP50fnS+f35A/ol+qP6LfvM+2D8Vf1w/ib/l/+V/3b/Yv87/+/+s/6E/lf+OP79/cH9fP01/eb8Xfzh+3v7vPrs+S35sfgn+GP3pPbj9Ub1lfTN8wHzTvKJ8b/w7+9g7yrv8O6/7o7uJO5U7YDs1+tO6x/r3Opc6qbpu+g66EToyemG7GvvyPEt80r0CvWx9Vf2O/ed+Gf62/yO/24CegWkCCEMlQ+RErMUPRa2Fz0Z4RqJHP0dKx/XH94fgB/sHqQeex45HugdTh2QHK8bfRq/GMUWixTREf8OUwzoCRUItAZ0BUME9gLUAcgArv+f/r39yfwa/KX7G/uV+hD69Pn7+Rz6DPrw+fP5OfrV+kD70Ptt/O78av2n/cX9wv2T/Vz9Lv3j/KH8gvx0/IX8WvwZ/Oj7p/sk+3f6zvlH+eL4hvg5+Nb3j/dB96/2+/Uh9Uz0gfO38iXy0fGS8V7xG/Gu8Afwje9b7yPv9+5M7pXt3ewk7MXrReur6jDq7uke6hTrrezG7uDw4fKD9JH1gfZF9yf4Ofm/+v38l/+VAoMFAgmYDLQPnxK+FK0WGhhdGdgaUxymHaIeaR/TH+sfvh9IH6oeFB5IHW4ccBtsGlkZDRiPFr0UgxKOD54M1glsB6IFJQRLA8QCUgKuAcYA2P/z/iP+XP15/H77Bfvw+iz7nvsh/Jz86/xT/cn9R/6p/v7+Xv+a/+7/MgBOAEwAGgD3/4L/8v54/gz+xv2I/T/98Pxj/J77vPrW+f74A/hv9+32m/ZQ9v71qfUS9Xj00vND87DyNPK48Vnx1PBp8ATwsu+G7yrv8+6b7jLure0r7bzsSOzo60/rVup86Q7pPump6tnsQu8u8bby/vPD9Hj14/V+9iP3VfiO+mb9wgAsBMgHdAu8DoURwBNsFeAWPxjLGRIbSxyTHaEeex/eHxwgDCCkH/keWR7BHcwcrhtjGuMYQRclFasS0w8FDYwKVwjOBpEFmQTXAy0DigLUAbYATv/z/YX8OvtQ+t35/vmm+on7fvxE/dX9Wf7A/iH/T/93/8b/7f9BAHsAngDGAMoAqQB1ACUAx/+0/5D/Rv8A/6j+Ov6c/a78kvt8+p/56fho+P73u/e396L3V/fY9uT17PQb9IDz0/Li8SzxdfD174XvX+9H7xjv/u6s7jbuie3M7AjsaOvT6hXqQOma6DHoV+i86e7rb+5n8MbxF/Ml9BT15fXr9jb4BPpn/Dr/lwIkBtcJgQ3TELsT4xWMF/4YUxqpG+AcHR5WH44ggSHoIRgiEiK5ISwhJSD3HoQdzxsiGloYkRZ5FEcS4A9wDSoLKgl7ByEGCwXsAxUDFgIaAeL/Pf6J/Mz6hPng+Mn4D/nX+c36vfuF/Cn9tf3//Vb+hP7O/iz/Rv91/9j/YgDbAEMBpAGWAWMBHwG4AEUAYv99/oj9qPwt/Kj7O/ua+tj5E/lh+Lb3C/ek9kz2Dvaj9VD13/RL9M7zUvMr8wjzu/I48ofxAfGh8DHw6e9T767uHO6C7RHtxeyA7IrrYepb6YHoyufI5+Do2+o17f/udfBh8TTyEfPi80v11/aJ+MH6gf3nAIMEEwjWC5QP1RJQFUMXFBnkGj8cTR07HhkfEiAiISgizyINI9AiSyI8Ic4f5x22G5MZeBd/FWETKhHWDogMRQpTCGoGyAR0AzsCGAEAACT/P/6U/ZX8gfuX+tr5i/mi+Uz6b/ui/JP9jf5T/9//TABpAF4AbwA8ABEAOQCMAP4AVQGtAd0B0QF4AfUASABw/1b+PP1A/F37ivrF+Uf5tfg3+Mf3Z/fk9kL23/WL9Uz1MPUk9fH0vfQ89M7zufMo84jyDvKq8XHxZfFB8R3x2fAi8EXvWO5v7XXskeuI6qjpAulC6H/ngOd+6CHqHuyi7f/uV/C58QPzYPTd9Qz3uvhv+8b+kQJ8Bl0Kdg4gElkVDRgZGuobeh3dHuwf+SAHIuwiAyT/JFklQSWjJKkjeCK6IJseKxy7GWAXMxU1ExQRzA5QDOIJrwefBdcDOgK3AHf/b/6U/dz8Cfwj+zv6fPkD+en4SvkD+gP7CvwO/Qf+8/5h/3L/r//f/6n/Y/9F/0n/tv8hAHQApACwAHAA1P8q/yn+BP3r++r6L/ph+bn4aPhA+BX42fdZ98n2P/aM9Qn1uPRk9C30SfRS9In0svSm9Jn0OPSr8x7zmfIk8tXxofGs8XrxGvGS8NPvJO8O7uzsmus56j7pkehs6ADpRuoC7NHtc+/o8P/x/fID9A71BvY991X5MfzI/+YDFwhyDF4QjxM5FjoY1hnbGrsbmhyRHdMeEiBzIc4ityMPJPAjRyP4IQgguB1GG74YQBbqE8gR/A9SDpIMvArRCLcGdgRIAisAVv7a/Kf77vpX+vH5lflT+VT5IPlI+Yj58PmY+mf7xvwm/ov/zADkAd4CLQMTA9YCaQIUAtsB+gFTAmYCXgJRAi8CsQHmAMP/Rf7T/GP7FfoP+S34sfdu90r3U/df9zf3xPYb9lr1rfQE9Knza/Ny82LzXPOa85nzhfNA8xDzgvLk8ZjxBvGX8B3wq+9b78nuCO4S7TTsbOuz6jbqAupQ6kPry+x27i7w4fFF85v07vVB92j4iPlY+6L9zACTBKcICw0fEc0UxxdDGqgbixwgHWcdJh7HHtofAyEcIm4jRCSwJD0kBSNZIf0eRxwDGdcVDBOHEI4O4wxuC9MJFQh/Bq8EvgLOAIn+avzW+rj57vh4+EL4NPhQ+M/4X/ne+Xb6D/u6+2n8SP0T/sr+lf88AMwAEQE4AUYBPwFHARwBHQH2AL8AhwAfAJn/uf7e/cr8pvuh+pv5rvjv91H30PZs9g32p/Uz9QT1yvRY9ObzffM58yLzQPNq83fzTfMw8/3yrPJs8iXyxfFf8TTxC/Hh8Lrwg/AA8ELvge6l7drsE+x268LqW+qv6rfrX+3p7obwy/Gv8uDzI/WR9hf4qfnI+03+pgGUBWAJVA32EEkUHxdbGesaHxwCHcAdwB6vHxYhYCK4I7Ek7CTNJMkjPSIxILgd6Rq5F7oUKBLwDxYOUgzWCkUJjge4BY4DTwHu/q78wvpW+WL4wvd+93n3sfdB+PP4hPng+Tz6kfr7+o/7PPwE/eb96/7h/74AVgG5AekBAgL9AawBOQGjAAoAe//y/l3+s/0W/X/8tvvX+vD5/PgS+D/3lfYB9oz1GPXK9LP0iPRY9CP05fPK8+jzLPRL9E/0ZfRr9Hv0ifRv9B/01POP83TzW/Mh8/Tyk/Ip8rnxYfH98G3wye8j76DuGe797U3uLe+W8NDxLvNh9HT1zvYI+GL5svoN/Pv9igCjAwsHQApGDXYQeBMkFmwYBRr8GpgbNRz1HNYdzh62H3YgKCGAIUYhjCAqHyod8hqBGLEVABNgEBIOJgxxCtUIUAfmBTQEXAJAABn+CPwO+mH4LvdW9s31bvVU9Zv17fVt9uf2V/fI9yn4k/gu+cD5bPpN+zn8NP0X/tf+aP/W/yAAVgA6APr/2P+m/3X/Dv+3/mr+0P1a/a38wPvp+v/5TfmK+OT3cff49pX2+PWI9TH11fR99CX05PPD87zz4PMO9Dj0XvSE9Lb0rvSV9HP0SPQb9Bf0AfQr9Ef0TvRu9FL0TfQW9LjzUvO68lPyYPJQ8rfyqfPd9EX2wPcq+UL6Uvs3/Bb9EP7r/g4AqQGSA+cFhQhQCxIOqhDhEpcUnxVIFq0W2hYHFyMXZBe+FyEYcRjqGAwZrhgAGMMWHRUlEwERwg56DFgKjwgOB74FkQRnA0ICBQHH/3v+B/2l+1T6RflM+IP3LfcP9zX3kPcP+Gj4ufgw+a/5EvqA+vT6M/uu+1z8+fye/UL+iv7N/gb/C/8z/wz/yP6C/kb+H/7I/Y79Zf0J/YH80fsN+2L6zflC+bb4PPjM92X3S/c+9yD3F/cJ9wT3/fYB9zH3HvcY92L3mPcl+JH44PhO+Wf5n/nY+QP6QfpB+mr6uvri+jH7afut+6X7kPuj+3T7ffuM+7P75/s4/Kz8IP3N/XT+Cv+z/x0AZgDeAFYBzwFeAh4D7wPaBPAFGAcoCEcJDgqQCiYLewvICwMMXAytDPYMUA2bDd4NIQ5cDk8OFg7FDUQNpQz+CycLPAo1CTEITgdrBowFqgTMA+EC+AEjAVEAbv+E/rL93fwQ/Ez7pvoW+qz5c/lC+Wj5kvnC+RH6NvpO+lP6YPp/+oD6jfqr+rf6/Ppk+7f7Evx5/Mr8Gv0c/RD95/yn/Kj8lPyL/H/8gvyJ/Kr8wfy0/J/8ZPw5/Az84/us+4j7Yvsv+y/7HfsU+xD7C/sB++b6zPrL+uP6/vor+1b7iPva+xX8V/yV/L/8+/w6/YX92/04/pL+G/+K/wAASQBqAKQAqgCjAJMAhQByAJMAuwDRAAEBLgFwAbwB7AEiAi8CGgIuAi4CJgJBAmUCsgIJA5sDOwSoBCwFnAUOBlsGcwZkBlkGOwY7BlQGSQZNBnUGoAapBskG1wa+Bm4GDQauBUkFwwRVBOADUgP5ApICLgLQAXIBJwHGAFcA4/9M/7P+IP6x/Uz9zvxh/Bb82vup+337Svs3+zf7QftU+1X7a/uH+6f7yfvK++b7+PsZ/Eb8b/y2/Pf8Nf1i/Y/9vv3N/db92v3S/cv9xP3D/cj9u/3f/Rn+Sf57/n3+lv6m/qj+tv62/pn+jP6G/n7+jf6I/sP+/f5A/2//iP+o/5f/i/9z/1X/Mf8e/xL/Ev8W/1D/m//N/xEAOQBcAHoAigCFAHMAVwA5ABwALABFAGIAlQDKABEBQAF2AYEBjgGgAY4BmQGpAckB/gEwAm0CpgLYAi4DggPCA/cDHARHBHkEqATKBNIEyATVBOQE4gTjBMsEmARmBEAEEATMA58DXwMXA9UCiQJBAs0BWAH7AKYATAAKAMf/gP9b/zn/HP/j/sj+r/6G/kL+7v27/ZD9ef1Z/Sz9G/0q/TT9LP0m/SP9JP0l/Qv9A/3t/Nn82/zo/Pn8+/wI/UH9bv1e/XD9hP2h/bb9wP3U/en9Av4V/kv+Zv6C/pn+r/7U/tT+0P6+/tT+4/7x/gz//f7y/vL+Cf///gD/AP8K/x7/Hv87/1j/Yf9p/3T/h/+E/1z/cv+A/4T/g/+J/5//nv+9/9H/3P/7/xAABQACAAsAFgAXAEEAYQB1AKQAswDjACsBSgFsAZEBoAG8Ad0B3gHYAfEBCQImAjACMAJQAo8CnwKUAqgCswKtAocCewJ6AoYCigJ6AnkCagJmAm4CZgJOAkACLAIVAhIC5wHHAbwBgwFeAUEBKgEAAc4AwwCzAJwAfQBeAEoANAAVAAYA8P/K/7D/mv91/1P/QP8k/xL/7/7W/sn+s/6+/rb+tf6G/mD+Zf5X/mD+RP4Z/gX++P37/QP+8P3z/fP94/3Y/eT97/3e/dX9tv2p/Xj9av16/Z79wv2w/cf95P3z/QD+Ff4e/if+Iv5E/lT+QP47/mT+rf6q/qz+xv7t/gj/9f4B//n+9f4U/xH/J/8z/zz/b/+J/5H/tv/f/+D/3//n//b/BQAeADYARgBVAHkAoQCzAMUAwADTANcA7gAFAfEA+AAFARABFgEtAUQBWwF2AXkBiQHLAe8B9gEcAigCOwJFAkMCXgJ0AoACjwKgApkCswLJAtICwALDAtACyALZAr0CrQKuAqQCmgKXAo0ClAKWAo4CVwIrAhwC6wHQAa8BeAE/Af8A6wDoAKIAbwBWADwADQDa/7X/u/+l/3P/XP85/wz/6P7V/rv+sv64/q7+of6N/n/+hv6F/nP+av5q/nT+iP5h/kL+O/48/jD+LP4n/jz+Uv5E/kz+M/4f/hD+6/2t/ZT9Y/1D/VH9Tv1i/Wz9fv2K/Yn9t/3i/fP9C/4S/k3+mP7H/v/+Mv9w/3j/c/+D/4r/lP+Q/8z/BwASACIAOwBbAJMAygDqABcBOwFWAYYB5gE7Am0ClwKsAvID+AWIBm4GWAZRBiYG4AWsBX0F0AUaBnYGHAeIB60HqwdEB7EHRghECIgIlgihCMQIzgiZCDwI2gdnB9IGNAZLBS4ESANtApEBzADI/83+JP6l/X39Rv0r/QH9Fv1j/ZD94P0i/nn+2/5T/8D/FQBQAIYAVAD2/73/S//w/ln+6P13/df8OPxN+2z6d/l2+F33m/Y89ur11/XC9Q72bva19gb3PfeO97339/fP96b3qfet97H3pffy9xz4O/hE+GD4b/g3+OP3bPcl9/n2vvan9pP2gvaT9rD25fYS9zL3f/cA+Dv4fvjc+HD50Pli+kz7AfwW/Qv+Ff/D/04AzgALAVABrAFsApMDTAVHB7IJSAxAD0US6RRnF1AZjRrvGp8azBmoGBsXfxUxFPQS1hHfEDYQrw8eD2sOZg2JDOILPwuwCi0K/gnFCYMJYAnrCPIHpgYrBaUDHgKIAA3/7P1q/az85vtm+y37L/sZ+xH7UftW+9L6bfqs+Zb4M/fR9aP0ufM38yrzbvMu85zy3fEH8efveO4p7RnsZ+vg6gbrVeuF6+/rNOy27LnsK+zT6tHo2ua35Ovi7OD/3izddNua2u/Yg9Yo03XPp8soysHOx9fu4wPyEQblHmE3gktuWX1j6GZbY49Yz0kpOfcmpBWGB63+/vg99gD10vW093L5B/r/+Or3uPap97D6SQDaBnQOEBd9H70miCotKx8opSLsGocSaQoTAxX9iPj49nn3Ffkh+nb6Ffuq+3b7TvoS+av4cvmE+xT/yAP+CL8NLRGBE3gUrBPNEDEMuQevA78A8P6+/iIABAGGAcQAxv+i/Ub6LPfU9Lz0tfVV+LX7mf88A9EFSwdLBwsGZwNeAJ/9N/yM+/n7gP1X/w0BNAIiAmAAPv3U+Mbzde476ZnksOHQ4MzhqeMX5u3oFexQ7pPuhe4u7nLth+sa6sDpJeoC6hropeZb5XjkKuI632Xcltm71Z7QZ8wkyOrEx8L1yFTY4e6xCP8hIz42WKZtQXjweAxwZF7PR34uwxiNBXT2wut96ILsxvSG/XcDVgdDCaAKOAqKCIsF+APDBcMLuxMRGx8hyCTJJnYluyGiGggRsAb9/eH5JfmM+iz7xPyV/3ECWgTCAr3/QfuT98T19PVs+FD7s/+LBJAK8g8zE/wTQxLWDwUMJghOBL8AVv3E+kj6+PrA+1z74vnm93L1hvKX74TtJe377bzwhfXA+jv/hALrBAUG0gUNBNQAif2p+tj4n/ch9573G/h8+Pr3nvdq9oL0Z/I/8B3vfO0/7K3rjuyy7STuZO5d7qnun+7t7h7v7+707pTvLvGz8ubytPHz7yDuN+yT6RXmP+KU3uvaudfz1Q/UNdH8zkzT7N+18akEjBY5LC5CTFTSXc9ey1nDTOk7sig1GEEIGvr38APu2PJx+X4AQAWoCTcN/A77Dq0MWQqBCHYJNQ1zEugWRhkyGsMacRlNFXcO1wYLAAj78vgT+Uf7r/2eAL0DpAa6BwYF8QA0/cf6q/k2+aD6cf3yAMUE9AcsC48MQQyPCmkIewZGBIQCbABv/+L+Ev82/8H+5P2e+935Ivid9hj1zfO98zj1I/gZ+9/9xf9TAYEBNACx/v38k/tQ+Rv4XPii+bj6Cfrq+Rn6vvku+Gj2LPWo80/y8vG78pTzJvSl9Hj19/Vv9Qb0bPIV8Qfwh++Z7+Hw0/Gf8pfzIvR/9CPy0O4I6/fnd+Un44TjpOPQ5Dvl7uZq6ZHop+UL4l/lwO0B+dUEKBMRJ6k5wUcYTh5Pxkn3PW0uRh2QDSD/GvU/8NbxCPjz/94HTA56ExsW4hV2E2IQxgwMCs8JVgwWDxUQOBCiEOoQcg6sCTcEPQDZ/E/6tvq9/XQBOANNBXwHyAiKBwUDVv+d/HH7pPoi+l/8ZP+MAm4E8AU+CDQK5AqGCDgGHwXhA6YBwP5q/Xz8VvtM+vz5Ivr0+H33wPYN99v3rveD+P75kPsu/Sj+sf8UAOf/L/5u/Cr8XfuE+t/43fik+VH6LPpJ+X/5AvlW+E73kfe395/2yvWD9cX2xfYR9qD1n/Xi9bD0pfNG81Dz/fLm8kb0kvXj9fv0VfQp9JPyh++y61/p0uhf6B7oT+hb6j7sweyc7UHu8u1F6vzoY+7t97gC7gp8F/4nOzc7QHJA8z22Nposlh+5EqAIu/4I+rn5mP8ZB3UMwxDXEp4VdhVHEycPVgrIB5oG1AhNC3oNKQ4iDjwP4A4mDcEI0wRwAvQASwGGAv4E8QXRBTUG0AZrBvQCn/51+1L6Rvo3+mX74f39AIUDcAU2CPMKdwvTCJMFaQTgA7sB6/05+3/6I/pF+aP49vhb+Db31Pb293X5WPlq+Yf6ZPzd/Zv+vf4g/mX9Dvwr+2r6ZPl3+Ir33/f4+KT5Pfmz+Nr4BPm2+Bz4Ovg0+E/3e/ZY9vD2Affx9Qn15PQK9Zv0mvPs8pbyr/KW8nHyhfJ58lfyx/GG8e/wje/V7fPsW+2U7afte+3H7drtYu3G7L7r++lU5+roQPCt+pQENg7ZG/EqfDfpPGE8cDh2MEomXRrBD6IGl//H/CT+jQNUCRYONhE2E+MUgRQzEogOAQvbCGoIxAmBC5oMOw0KDv0OZA4ADMEItgVZA4IBcQFLAl0DtgOcA4gEKAXnBIQCrP+l/fj8ef2X/UH/QwFiA6sEXwXlBjwHeQYkBPsCNANcA7oCQAC+/tP91/x0+m33qvWg9Mr0LfXd9lr5mfuf/RX/HwC2/4H+dfxN+uf4Qfh4+Lj4hPnZ+vX81f6B/xj/lf0y/Mb6Vvna96T2HvYW9uX2ofcn+BH4YPec9p312fT180nzp/J88jnz/PP69Fb1cfUs9XT01/Nr8rLwk+5t7SHtqewB7cLtWO9/8PTwtfBo76Tu1e347CzrFOvJ8Dz6HQRUDPoVrCF+KzgxHTJyMAQrUyKmGR0SFgyYBbMAbv8JAvMGqwo1DSgORQ/OEG4RPxF3D0sNUgs0C7sMgA2VDIQK1QnnCYQJEggiBtAEXgO3As8CUQNvAyoC7AAzACAAm/8r/lP9MP21/S7+J/+jAJIBgwIOA3MEFAbDBsoGowUYBSoE0AI4AQX/q/0G/CP7cfo1+sn6V/pz+tz6UvyB/Rr94fyO/On8hvzT+7j7HPsC+yL7K/wi/Qz97/y1/AL98vx5/Mj7zvqG+nH6gPrH+e/4w/jr95z28vQE9BfzjvE28d7xOfPR8+nzo/R19RP2ofVX9QL1JvSm8yfz4PL28Zjwgu+T7ijuY+767h3vnu/08AvyU/IC8hzy9fE+8B3wW/Xw/dIFhgwLFiEi0SoiLk8uLC1TKBUg7BcNETgLewWhApoCvAQyCJkKew1iD4YQCRFCEFcPzQ3BDN8L5guLDLMMIwyvCggK4Qg+B3QF/QOGAywDsANEBBcFYAVoBCQDrwG3AO/+P/2E/Gb8KP3x/af/eQGdAuQC4AKdA7sD7gPaA+YC8AFQAQoBtv/e/QP85/qL+vH5Ifqj+kr7jvvK+6/8zfxs/Kf7dPvp++z7ufsA+4z6vfpi++D7BvyJ/MH8Af11/eL95/0m/Tr8kPuU+0v7bvpd+Vn4rfd99k/1h/SW89jxofCs8Y3zkvSG9E/11/Yb98H1ZfQW9FfzLfJe8YLx6/HI8dDxb/GX8NXvy+8H8Ojvx++177jvwu9n8LrwRe927iny0/lOAnUJxhHAHPkl3StrLUkrNCZkHvQW6g/ICa4EIwL5Aq8FwAmjDHwOIw9QD0MP5Q21DJoLywodCqoKSQzxDFEMrgqeCVEIYQb4BB4EbgO7AgADVQSzBR4GqQV6BAoDMQIvAbX/Qv6L/bP9Yf7N/84BagPLA7sDBQREBFIEfATTBFQENwMbA20DWgL7/9L9hfyL+4P6TPrF+ib7s/sW/JL8u/xe/P/7JvvB+kD7z/uV+zz70/uH/LD8Qfz2+6H7/frS+v76KPsN+wz7j/vp+4b7gfog+cv3hfZD9Sj0DvNF8unxYvKN85D0QvVT9bX1h/Zm9nb1b/QE9FT0u/RM9PDytfGU8Abv2uw/6zXrEuyn7ULvFvGa8i/zffOw8mDwVO1/7VTzzfxHBt8OnRnfJFQtFzCTLfEn1R7rFNoMAQjdA0EAegCBBJMK7A6sEQ4SKhCGDigNfwwLC3oJ2wiUCZsLUg3LDcEL8AivBhsF9QPhAvgCTgPVA0QG9gn9C80K4gccBVsCLP8L/OH58vgz+V37BP9VA9EGdggGCPMFNgRuAtD/rvzq+hH7ZfxJ/3oCygRfBI0CeAE1APb9gfq396z2UfgA+wX9bv6k/pz+iP0p/IT6Mfjv9a30Sfb2+Kv7jP0A/0cAIgCh/3D+Wvx1+Tz3gfZ/9tz2E/dv9533Evi3+J74T/fa9fj0WvR89Nj0efVs9Ur1n/Wx9Tf13/ID8S7waPAS8WPxw/JT81HzrPJL8ijyDvHr77bu/O5m75nv+e8f8MPvxu287c/y+/sZBcAMwhW4IJwqYC/3Lvwq2yPqGk0S0AvoBnECFwBdAa4FvgptDnkQUxGIERURwhCAELMPXA6jDKQM1w3sDbkLMAjiBXIENQMlAg0C4gL4A+YFKAj/CQ0KCAj1BPkBtv+N/ej7R/sI/Pf9CQAZAsUDHATTAvYA4v83/4D+ov1o/bb+0QBSAikC4AD1/vj8CvsF+v35FvqC+nH7Hf4TAQsCigCA/vH8U/sk+gL5kPh/+ID5s/u9/U//r/9X/1z+GP0y/JT7DvuX+vb6yPuj/FT9P/1L/DD6iPjN99L2TvVm9DL1ovZK+Pb4Q/lp+f/4PPib9gb1UvMm8lbx2/Gk81f0LvTR81b0sPSX8xryovBe79Xuru/h8YLzD/RH8yTyL/EK8JLusOtj7OfyXv2oCMQTCiC+Kd4uTy9DLZsnRh3pEScJFAT8/5X+mgCHBHYIcwt2DmEQzhAAEHsPeQ8FEOgQEBEZEaUQtA9LDTwK3AdgBdoC6QDRAS0E5wX0BlsIOQqfCREHmQOnAFn+kPwn/Lf8nP5rAGcCMgRmBVgFRgMDAY//Wf+m/tH94/3R/rf/sP+yAJoB7QDT/gv99Pw+/Wr9QP2k/Zj+/P+3AAUAH//9/FT6efj993j4uPj6+Bv6h/y//gsAIgA2//P9zPyL/Hr8OPzi+5T7gftY+9T6UvlQ91D2E/a/9Wj12/Xd9oz3Ffh6+CD5JPnS9871vvNV8lbx0PBh8KHwmvEm8ozynvJs8svwWe7W7Ffs5Ozv7IftIO/L8Nvx0/ET8vTwpu0y6krrIfNf/osJ+hMUIEor7zGMMkIuwibYG34RcQrMB/EGrAVkBiIJ6gwID5oP8g7CDBIL+AqjDa8QeBIdE3kTCRRHE/AQcgzSB1kEDgPHA/kE2QZOB+oG+AVhBeUElQITAGb9S/yZ/KX9O//p/2YAWAB4Ab0C4AIpAj4Acv++/0cBXQJVAt4BXQAc/wf+ff2K/Kv66PiL+Xr9fQHzA9MDfQLuAIr/IP+i/vv9qPyX/Hr+oACUAUUAM/48/H37HPxg/Wj+1v6j/yIB5QKNA0kCFP+d+xL50fe/96/34/cI+I34Xfmh+QH5FPcK9e7zmvTj9fX2APjc+Nb54vkW+RH3UfRm8azuH+6a70nyHvTm9EH1vPRE83rweu2S6rzoYOjr6cXskO4t76/u0e1e7PPrge9Z9zwCcA3zGIckVy3wMJ8u3CjKIA8Xww3SBmsDHgLfAT8D3QWjCFkKgwu8DEkNQg5REIwT4xaAGHoYgxfwFRwTBw9mCj4GqAPQAmgDegRwBS4GPwboBfAETQPWAFj++fzQ/PT9Ev9ZAJIBlAJAA3wDsgPzAj4C7QETAtACRQPsApkBGACy/i39WvvO+az5Nfuq/ZT/hgBqAU4BawB6/4b+uv1J/GL7Qvt0/J790/1M/XT8b/x3/AT9BP3h/O/8pf0t/xIAqv/F/df78vqv+jL6PvnG+D352vm7+gf7YPsi+jL4Xvft9vr28vUN9en0pPVO9pX2GvYF9VDz9PHl8RvyIfKP8WjxVPGc8bHwne7R60LpG+gK6JPpE+ss7BjtAu7G7lHuOOzx6sLtpPVjAQQPPhw6J/4tsjDmL/8qvCJkGDwPggkKB9UGRQfQBqQFkgRxBFwFJwdYCYkMCRG1Fgwcah6gHQ8ZnxN+DiUK9wZ0BKQDMgQSBq0H2AfrBZYCmf/q/af91/1n/nb/gwCvAWkCOgItAYv/a/6w/qwA3AJ4BKsFWgY6BkcF1wOPAZX+iPvR+eX5+fri+3v8ufyW/MT8sP16/1cAtACpAAIBlAFNAcYAr//N/sX9+f3d/ob/LP9D/tP9Dv7Y/tL+yv7C/vX+s/4j/l/9avxP+6L6pPn1+Kf4Mvii+FT4YPj89+b37veX90v3mvbg9Vn1g/Vk9VX1pPRc8xHyg/FO8SrxyPBf8ALw2e/C8P/wM/Bo7VfqSOhn6Abqdeue7MHsee1t7mvvb+4K7O7q2u5++IAFEBMIHh8mGioqK0wpSCWQHk8XhBEnDoAN3wxwC4kHcAOzAJcAZwILBiwKTA47E1EX9BpYG4IYMBT7DwQOuA2WDRYNbAucCWEIZQbTAwwATvxe+rP6+vx3/9wABgG4AHYAMQB1/0L+Lv0D/Wr+SQEPBEwFsgQnAw0CMAFyAID/bf6r/Zn97P1J/jf+X/1w/Or7Ov2h/lj/Ef/+/Yn9YP3X/R7+S/5g/uD+ff8/AF0ARv+K/qL9c/21/T/+Nf+O/2X/7/4t/oT93/wm/C78sPx6/fb9c/2S+0L5APdD9cf0LfVe9uj2GPch9572lPU79MLywvEU8qjyk/N28zry/PBd76DuLO5J7Wbs9eoH6vjowee55+rnhOh56f3qwutX603qV+rq7f31zAGGDhwaaCJpJ+4oHSitJA8gGxvLFsEUrRPoEhYQIwy4BqQCCgFpAncFsQi0DAwQuBPoFegWqBUyE+oQ1Q8rEH0Q7A/qDQsLsAc8BVsDPgKrADv/5v1R/Vv97f1e/un9Bv4Z/jr/KQCqAfwClgN0BD8F5wXWBQwF7QPIAmMBoQDP/+H+1/3f/DL8k/sR+wD7LvtE/Nf+mwGDA8YDqQIcAf3/zf/NAJEBAQLaARkBUQBD/y3+Jf1h/Gz8gf23/uP/8P/h/p79mPyE/I78T/wp/O77+/ve+xD7Gvq1+LX3fPfP96r4Bfmo+O73xPbC9R71f/T187zzcPNg89byffFl8Ozu8+7i7xnxgfJ98onxB/Ay7vrsfexR7Ibt3O448CXx4PCh77ztYOyg7oH1b/9cC1IVgRw/IDohbiEaIHEeCB3fG7oa+RgEFvkRhwykBqoCCAGQAhYGoQlCDIwNBg6RDpUOfg6HD+EQzBJgFBwVyRTNEpAP0AvBB4AEzAIFAuoBHAH6/yz+FPxj+mb5mfk8+pL7a/2W/4kBCAMsAygCQQEDAasBxAKCA2kDJgIpAFf+kfw0+yP6iPmU+UT6kPvd/Fn9tPx/+/T6rPsW/ZP+o/8XALAAhgFNAokC1AElAdMAJAEwAtMCnQK2AUcASv+2/pz+jf4E/mv96vxt/Ln7Tfp7+DL3vfbc9hL3EPeZ9hr2xfXh9Vf2w/YF99n2iPZl9q71q/Qt87PxxvCy8HzxEfJm8nbxLfCj7nbt1uy87Fztz+157gLv+O5r7p/tauyz61nsp/B/+BcCYArAD6YSfhTKF9sazh1PH5UgBiIHIwQj5x94GioUdA8EDZwMnAx/DIELCQpKCE4GhwQaAwUDVgSqBv0IYwpeCgcKfgktCcAIiwj+CAwJwgjaB4IGCgVfA5gBKAAa/6n+5P6g/rD9XPzr+sv6JPvL+5X8zPwE/Ur9k/0m/fH7bvqc+V75vvkA+oX5hfiX94j2FPUC9LXz4/SM9sv44/qW/Hf9RP29/If8Iv0i/v3/qgEOA/ADrgPtAocCAQPbBI8GeQehB9EG2wXcBG0ErgOuAqABwwDGALMBJQPtA5UDcQKIAW4B8wF2AkwCVQE4AOn/hwBoAdIBYwGiAKL/Gv8//zP/zf4A/oH9X/2v/Qv+9f20/Yn9kv18/Zr9wv3G/e39L/6F/pT+kP6S/rb+Ff/5/jr+V/3F/I/8ofyq/FL87ft0++j6xPq4+hT7hfsL/Nb8UP3f/Tr+rv4x/wwACwG7AX8CVQNDBOsERwVEBWcFxwUXBg0GpwUfBaQEggRABMUDEgMhAkkB6gDlAPsACAEBAScBUwFOAW0BUAFCAVMB2QCxAJ8AaAAdAKH/H/+i/m3+Nv4H/t79xf1s/QT9s/xg/Hn8ePx1/JT86vyR/Rb+K/7G/UT9Iv11/UD+Cf9l/9X/8//n/wAA9//i/+T/EQBIAGMAQwAnAMb/bP+N/7//2f/2/wIA3v/C/7P/+P9rAMEA9gDgANAAxQDdACwBWAFLARgBzgCcALgAzQC5AG8AFADL/5v/jv+a/5v/if9m/zb/IP8o/4D/uv/H/2j/0P51/k3+if7N/hD/Bf8K/zP/JP/p/pL+cv7O/o7/JAAyAKP/6/6g/hb/2/8jAP//r/93/6b/+P8iAAIAiv8i/1X/AACzAO8AlAA4ABYAfwAZAWIBTgEkAUABlgEyAp8CsQJcAgkC8gH3AfwB1gGbAYABqwGwAcMBvQHBAeMB6AH0AdoBywHNAfABHQIUAssBpgG5AfMBFgLbAWIBpQDs/7z/2f/O/3X/1v5Y/gD+Ff4//nD+mv53/iT+Kf6k/i//2v8iAD0A2/9kACADlAiFDk0RBBAOC4cGOwWqB6sK3AomB3IBT/3D+xr8ovv6+cb3rPb59p33cff/9WL03vOR9Yz4E/sR/Pv7bvuY+2f8lf3p/i8AWgHxATkCuAHYAOb/if/4/6cA0AAtAE//mP7n/Wv8/vqO+jf7z/xN/p3+rv1X/L/7TPyG/aP+bv+x/07/LP+H/xEAWABpAK4AegG6AowDnQM2A4cCDgI6Ar0CpwMZBT8GwgaOBtsFNgVRBVQGIQcgBzoGhAVmBX4FOwVJBMAChwGtAXECEwOrAl8B9P/o/xMBdgIQAzoC/gAkAEwAwwDzAGgARADOAMUBjgJWAmkBNQAIAG0AOQGxAZYB7QAFAJP/cP+x/7v/tf+B/3f/k/9f/8P+B/5//Yf9LP60/hD/Lf8m/8r+O/7M/dD9Cf5j/qf+dP7r/e/8Ovyx+2D7Vvvb+9j8wv3u/fT8Q/xS/Hz92f5s/zb/1P4z/0D/nv5d/cP8dv3H/tL/Ef8n/TT7dfpZ+538Pv15/N76wfli+cj5Jfov+nb6SPtq/CL9Cv1I/Cj8Jf3Z/kkAuABjAAgAKgC8AF4B4AGJApMDsQSJBeUF4AVhBkYH1wiUCrALTQxbDFMMmQxlDS0Oug7nDqwOgQ5jDvYNBw3aC90KUAoPCp4JnggWBxoFUwMvAsUB9gEyAuoB8wDz/3n/2f9oAHYA6/9h/z3/Q/8s/63+Hv7W/QH+H/72/WP9wPxD/Az8+/ve+937lPv2+i/67vkK+l36dvoq+rf5TPlM+Q/5uviV+In4oPg0+Bn3/vVn9ez18PaE92r3hfav9Vb1sPV19jj3oPeX96j3w/cN+Or3GvcJ9ov1QPbC9zT5ZPlE+HP2qfSO8yPzPfN58+TyA/Fc7jXsqevf613ruOo67PDxrPpBAggFiAMKA70HLhHIGuYfQiBwH30gEiPKJCwkWSIbISYhBiHHHlEayxTuD5UMlwqaCdMIrQZVAt/86Pge+Ar6DPzN++b5cvgi+RL7Pv3//swAGQPhBJQFTgVWBX8GSwh9CacJ/ggHCMoGBQXyAnAB/gD1ACAAv/2/+rv4jfhN+ev54/l/+Xb5tPn7+Zz6AvwR/uD/fAACAJ3/KAA0ATgCuAIPA6gDNARNBMsDWAN0A/cDIwT7A54DJwODAlEBRQDd/2cA8ACAACX/vv1g/R7+8v7D/ir+sP0F/lD+l/0C/IP6UPrc+jX7Xvra+If32vbI9nj2FPZW9Rj0FPM28rLxovGl8ZrxbfFX8YXxnvGC8RXxxfD/8B/x9fD075DutO1g7RrtqOzr61nrWeu16i7phefh52fsafRN/FEBwgP6BfgJ7Q/jFjodjyKJJt8onyl5KUQpEynIKEQocSfkJaMiYR03F+IRyw5yDfULlgibA4/+vfrm+L34jfl4+tX6vPqt+lP77fwp/28BwwNHBogIAgoVClgJsggLCWIKIwscCjsH1ANoAZQAbgDx/3n+FfyZ+b33/vYq95/3wPd49x73LvfF95n40PmX+6T9c/9WACQAyf9RAOMB1APpBOQEaQTTA2QD1AIHAnEBgAEiAksCRAFX/4/9cf0Q//AAoQGHAJn+Zf21/XT/ZgFLAuQBzwARAMH/rf+G/wD/hf4V/lz9Dfz/+TL4PfdA95H3Bfeu9YfzmfGT8LfwrPGs8oXyw/Dp7jbufe9E8R3ydPHs79ru6+707xvx3fHH8SHxSvAZ8EPwTPD677HvZfCO8Xzxru+j7ePtBPNA++wCsQZwBqsFbgftDFsU9hqqHjYf7R22HPIcwB6MILYg7R7eGxQZzBZoFKcRBA8dDesLxQp1CHYEQADu/R/+EADVAbsBc//V/B784f3gAK4DcQWGBeYE2gTwBYwH5AgqCYoI5gehBzwHxwX7A50CogJcAykDKQHv/T77hPq1+/v8G/28+wb6HfnA+Yn7fP1P/sb9A/0W/X/+5P9ZAM//mf9xAOYBowKgAdH/qv5Y/xUBbAIwAl8A1/0g/ID8d/6NANsAAf9+/Cj7tPsl/eT9kf3H/A38e/vz+nv69fme+Xv5O/mn+K/3d/Zj9fL0LvXU9QP2aPVW9A7zy/HI8Jbw8vAJ8VvwA++e7c7sluyc7InsEOw16y7qV+kD6Sjp0Ojz5irkR+NZ57jvn/ej+vT5jfvCAgUNuBVcGkYcOB5jIekl4Sp3Ljwv7iy9KSooACjTJv0ilh0jGbIWsxRIERkMyAb2AuQAnv94/hn97PqD+Pb2ufd5+hX9Fv4n/tP+9QDHA/gFsgf+CPcJYQpWCvgJSwltCI4HCAeIBnEFEwM8AOP90/y2/I/8v/sR+lX4RveE95D4pfng+X75MfmP+b/6NPxo/cv9BP5a/hv/GQDxAE4BYQGfAQICXgI3AqcB8AClALEAxwCDAOP/Bv9e/kz+Wf6V/vH+Qf/x/hz+Y/1m/Un+SP+i/w3/HP6K/en98f7X/7r/cv4H/VH8YfxN/B37TvkN+Kf3l/fr9m/15/P08sDyHvOk86vzY/Jh8FrvQPBm8rTzIvNy8UvwAPFK83v1PvYq9S7zJPIR81D1xvY39lr0//Il84H0Efa391f6Jv6/AdcDwwTZBc4ILw0fEqIWNRlBGUQYexiwGpIdnB56HRcb5Rh/F2EWbBWDFBwT1RDhDScLFgk7B4wFEQQnA28CDwEk/639bP0p/jj/FQCnAOgA+AAtASEC6wN8BQYGwAVPBUUFowXcBc0FZQWuBPED5QKcAUcAZP8A/6v+wv0U/G/6Kfno+J35kPoY+7b67fm1+Xb68/sk/Yn9nv3s/bX+eP/f/+n/BgBzAB0BMgFYAEv/3/6x/8MA8wAoANn+4P38/dn+sv+g/2n+G/2N/N/8df2Q/fv81vvL+kD6H/rQ+RT5efhF+Bv4L/cN9oX1kPW/9Un1bPSW863y5PFQ8TjxZvHT8IjvWu7L7Yztp+xq6xTrfeva643rk+q66TbpSemw69jwu/Yo+uz5j/n7/FcEUwxtEg0WbheXF80Y8Rw8IwooNijgJIYhviCOIcwhOSBdHaMZZRVkEREOfQvFCAQGfQM1AeL+hPy5+ir6sPp7+wz8V/xt/Lz8v/10/6YBzQNyBRIGNwZ7BlYHtwjwCZkKZgqiCZkIsQceB4kG4QX5BGcDSQHq/vT8tPsN+4/6m/lL+BD3RPZe9kb3mviH+W/5IPml+Sn7pPym/Wj+Zf9DAPAArQGXAkADEgOhAmsCDwO3A3sDYgJOAccAhQA/AB8AHQBh/xX+8fzW/BD9wvwi/Kr7mftj++L6g/qb+qf6evpO+lT6g/pX+tz5d/mi+Zz54/j192P3f/dj96b2ovUp9ST1OvX39B70MPPb8jTzW/Mm84jy//Gl8dXx3PIc9GX0JfOM8U/x9vIw9YX2QfZf9er0c/VL93X6aP5aAUsCKwIvA24GnQqSDsIRehMNFHwU0hUSGBMawhonGkcZthhDGFUXARZEFfIU5xOlEf8OBA2iC2oKNQkWCOAGZAWvA0YClwFoAVYBCwFVALj/mf/v/48AEQFqAVcBGwEXAZsBMwJnAnoCVAIBAp0BZAEwAcwAVwDc/zf/av6N/cj88/sM+3X6IvoL+v35rfkv+Rr50/kI+/n7E/zO+wf8Dv1k/mP/8v/Y/3T/h/9sALIBRgLwAf8APwAmAH0AtwBuALr/uP6i/fr83/zY/GH8g/vd+pz6k/oz+qf5Vvl7+f35Ifqs+fX4r/i0+M34KflE+Yv4Pvc79in2WfYJ9nn1y/Sx81Dyt/Et8mTyDvH87iXu+u408JHwMvCI76XuL+6570H0sPlL/DH76vkX/LwBOAjzDCgPaQ+pD8ER5xWgGgUezh4GHbgaaRr6G0od6BwBG5kY8BUBFNESRhHmDjEM/AkYCDgGKwT/AUEAcP90/93/hP8c/q78bfys/bH/KgFGAZMADACUAPsBtgMfBT0F4gN4AmwCmwPNBNcEzAMlAq4AFwDt/3//ef5W/X78kfvb+mD6tfka+Sr5v/ny+Zf5YPmC+cT5KPrt+v/74/xE/Uv9r/0p/nf+0P6D/1oAwAC7AIwAeQBqAGgAfQC4AIwAu/+//hD+Gv5k/k3+p/3T/Dv88vvR+7H7a/sC+7n6ofqe+qr64fr3+uf6ivoW+hr6R/pg+ib6+/m6+TD51/jg+Pn4mfiw98X2vvZF95b34/bp9ZP1//XH9uf2U/aN9ZP1d/aC99T3aPfn9gH31vdU+az6CftO+ir5Tvq5/f4A9QHyAI0ATwLWBVAJNAt4Cz4LwQu+DU4QdRJKE3USQhEVEVUSlRNtE10SUxFTEGMPpQ4YDi8NwwtlCkgJNQjWBoMFgAQLBCME9AMFA7cBDQFGAdEBPwIXAj4BfgCjAK8BoQLOAlMCrAFlATwBOAFFAScBqQDl/z//vf5Y/uz9Wf3N/DP8vvtt+/T6gvoP+jH6xfoq+436T/k0+V367/vN/Mf8Mfx++5P7x/xT/jf/s/6L/SP9zP0D/5j/Sv+J/hj+Af4J/ir+E/6k/fz8gvxb/FH84Pse+4T6VPoz+h/6CPq3+WP5EPnb+L/4vfi8+JX4G/hX96f2wfZy94T3n/Yr9Uz0J/SA9BH15fTY85zyZPJZ82r0o/TF87byUPNy9ib6q/sZ++76tvxtAL0EugfECK4IJAldC5MObhG+EqYSBBLHEVgT4BSdFAcTtRGQEVQRlRArDzINiwucCvEJ/QjOB5gGHgXFA0EDbQMPA7oB6QBeASICOAK+AacBFQJqAocCZwJ8AhIDpAONA/ACywICA8cCLwKoAXsBtgCy/1D/F/+N/tL9Vf3f/E/8xPtc+7D6avr9+sD7Bfyi+zH7Gvul+4n8R/1s/UD9Df0c/aP9if5D/2L/Ef+0/rj+nP5l/ln+jf6g/jv+Wv1a/Lv7vPsb/A78sfvg+hD6pvnn+Yf6lfoU+n/5afnK+V36g/oT+qP56flW+nP6gPqV+m36/vks+s/6Tfv/+hH6PPny+HP5M/pa+o35c/jv9zP4x/hB+Uf5Zfg29yz3cvig+cz5LPl/+FT4Mfmm+oL7GftE+nD6FfwX/5QB6gGOAM3/XwG0BPMHnQltCS4I3we1CdAMMQ+eD48OWQ0eDTQOxA95EKcPVw6+DZoNcg3uDAkM8gpCCjoK7wm8CCsHKQapBYIFugV3BRYEaQL5AfgC/QP3AwED1QFHAZEBcwJLA2YDjQJDAYQAwACFAccBuwBW/8L+1/4R/47+1f1c/dX8qfyU/D38gvuv+iv6Gvp6+vX64fr4+QD56vjX+a36r/ow+q75p/kA+qP6VfuI+wr7bvpo+tv6l/v1+5j7EfvH+gn7YPtt+2D7I/vi+qv6m/rO+rz6Rvr0+en5DPoh+hn6j/nY+LP4Afl2+YX5Z/kh+Y74F/gp+Kr4EfkF+a74P/jg9wn4JPjp99P3NPi1+ML4qviV+MP4IPkE+sf7lv1Z/vn9Av5y/0MCMQUSB4QHLAdqB9AIXwvNDRsPxA40DTEMpww6DmoPLw+zDb0LXgoFCk8KPQqtCZwIAwd+BcgEvwR7BAQE1APBAyIDSgK0AbMBCQKHAiQDAwNeAt0BywEmAtICdANtA8oC+gGPAboBWQK8AksCPQEzANH//v8mAAYAmv/e/hr+mf22/QL+KP4H/m79vPxd/KP8Lv2G/Zn9df0q/Qz9Mv1m/Zr96/0y/g7+oP1d/Y/9w/3g/ez9rv0r/aP8dPyH/LP8r/x0/LT7zPqF+q/6BPsT+8j6Ifqd+a75JPp++o36f/pp+kz6Kvpk+rr6EvtK+177SPsO++v6CftD+6D7L/xC/NL7XvtS+637aPzp/Mz8J/yj+8j7QfzH/Db9Tf3q/Hn8T/zS/I79Kf6c/oX+cP6v/nv/mgBhAQECcQK7AgYD1wNBBXsGLwcvBxMHUgcDCPMIkwnFCXIJ/wi5CKwIxwj2CP4IhgjWBxoHcQYfBhkGAgbKBYgF6ATdAwIDsAItA94DzQP0AswBEwEkAQAC2gL/AmICaQHeABoB6AG9AvgCSwJKAcEA9wCOAeQBsgEFATkArP9L/y//Pv8s/+n+Rf6X/f78z/wI/Tv9OP20/P77Y/s3+3T73vso/Or7a/vt+s/6JPtl+437sfuM+xP77foA+z/7o/vn+/H7j/sg++T6CfuC+wD8Ifyk+/v6sfru+m37yfvg+0/7hvpY+tD6PvtQ+zD78fq7+q762Prn+sP6m/qc+s/6Gvso+//6wPqg+u36kPsq/Gr8XPwo/C38sfy+/Qj/BQB1ACsA4f+eAE4CBwT7BCYF6wTnBKgF5QY3CB0J+ghbCP4HSAgYCdUJFAqhCdsIKAjYB9gH6wfTB14H4gZaBsMFJwWpBL0EDgX+BI0ExAPnArcCNgPVAwsEuAMxA3gCCgJvAkcDugNnA1gCcAFwAasB3QHkAYMBAwFxAPv/uP+v/+D/qf/6/nr+Wf5U/kf+Q/4l/vX9H/5D/ij+Dv4n/mb+kf62/sv+t/6C/n7+q/7x/jX/NP/d/lT+LP5t/q3+zP6D/gz+fP0i/Ur9jP2V/SX9jvwo/AD8NPxn/Er80/tK+yD7EfsS+zn7K/vn+sj61Prl+uL61vqz+qT64voI+xf7P/tw+6f74vst/Ej8Xfyl/Pb8Tf2w/Sf+X/53/pL+8P5m/6D/1//q/xMAMwBPAH4AkQCzAOEAEgEiATsBUAE0AScBewESAmgCmwKTAn0CtQJSA+wDEQRMBGcEcASQBLsE/wREBYYFPgXVBL0ExQTRBMcErwR+BE8ECgTAA6cDjgNIAwsD/QLXAqYCfQJTAksCdQKLAkoC8AHgAQsCaAKzAooCVwL+AdkBJAJuApoCMAJWAdMA2QAiAVMBEAFrAMT/b/+S/7T/k/83/8v+kf5V/kv+Yf5N/j7+Pf4+/kP+AP7Z/fP9A/5A/lX+Fv7D/ZX9gf2X/bL9iv0+/eb8rfyR/G/8Rfwm/Pf7tPuR+2D7QvtL+0r7QPsz+zz7Rftl+577qvuh+7f7p/uk++L7Pvya/Kn8b/we/Bn8bPy//Nz82/yp/Fn8RPxs/NP8L/1Q/U79Q/2M/Qz+TP6Q/uT+Rf/j/3sA1wATAUoBkQEXAqcCNwNyA0oDOAN3A+EDUgRsBB4E6APpAy0EXgRvBEcEJQQdBB4ENQRCBDQEKgROBGEEswTuBOIExwS9BOkENgU9BSIFLQUaBTcFOQUYBd4ErQR7BCsEAQTmA7UDTQPjAmAC2wGQAWgBSAEeAdkAXgDM/3n/av+N/53/cv8k/9f+sv7P/h//Rv9T/zH/0P6w/rb+v/7Q/v3+J//i/on+Lv7y/Rz+fv6p/mb+y/1A/Tj9df3A/ff90f1x/UL9UP2S/c794f2w/Wz9f/26/ef9zf2k/Wf9Uv2L/Zb9ZP0B/bT8n/zS/PH81Pyl/Fr8Gfw5/JP8rvym/Jf8hvyr/Pb8Lf04/TH9S/2D/e39U/5x/m/+gf65/kL/sf/r//v/vv+q/+z/UwCFAHkAOAAQADgAjwANATQBAwETATQBYwHGATgCYwIwAhYCHgJpAtoCDgP5AsUCvgLrAhsDJgM+AwQDnwJ7ApACtAKsAlcCtwGEAaQB6AEJAsUBPgG9AK4ABAGXAcwBVgGuAEMAbgAwAeUB5gFyAeUAkAC5AE0BvQF5AdMAZAB5AN4AIgHYAFMAFQApAGAAigCEACAA0f/M/xMAfACiAIAAIgAIAEwAnQDQALgAaQBBAFoAQgAzACoA6P+5/7T/uf+P/y7/zf6P/qv+3v63/ln+2v2E/ZH93/03/jf+6/2Z/Xj93/2F/sn+sf5t/kb+fv7G/vb+Kf82/8j+k/7J/ub+Af/x/r3+n/7M/r7+gv5o/kr+af6l/s/+sf5s/nH+kv7X/hX/Gf8a/yP/N/9Z/57/wv/G/87/x/+y/8X//v8oAFEAYgBwAHcAcwBeAHcAvwASATwBEAHeAL0A0wAZAXEBiwFgARoB7AD/ADsBfAGcAZEBVgFMAU0BUQFYAXIBngGjAaIBbAEgAecA2AASAVwBtAHBAVIB3ADbADYBkAHfAZsBJgGtACoAIQB+ANsA6QC9AEYA+//p//j/EAAnAFwAYwAtAK7/Wf9p/73/FgBZAGkAIAC7/23/gv8SAJIAmwBMAN7/lv+K/8//JwBcAFAAKQABAMj/jf9u/57/7v8XAPX/l/86/x7/TP93/53/r/9k/xr/Fv9D/3b/kv97/zv/LP88/1X/Sv8//1L/af9n/yj/BP/t/vL+Tv/B/9X/m/9N//H+2P4p/53/7/8GAMz/Yv8D/+j+JP+S/+n/BADl/4b/Lv8g/1D/qv8GACUA6v97/0D/Vv+l/xUAWgA5APH/qP93/6n/BgBhAKYAngByADIA9P8CAEMAlACpAGgACAB9/0P/c/+t//b/EgDk/3j/+v7b/kX/zv8QABMAuP87//v+Bf8+/5//CwAKAN//nf9v/47/o//U/xAAPQA7ABEA8P+x/37/i//V/+f/zP/A/5z/X/89/2T/of/W/+//5/+1/4b/ff+L/87/IwBiAD4A2f+N/4D/wP8RAGAAewBQAA4Awv+O/6L/9v9MAHEAQQDN/2j/R/9r/7n/IgA/AAMAz/+G/1j/gf/a/0AAkQCFACgA3P++/6//CgCUAJcAbwAcALP/av9N/3v/oP/J/9n/1v++/3b/Pf8y/3P/vf8IAD8AHwDU/4P/ev+9/xsAXABlAEkA8f+x/8P/AwBJAGEATgAHAL//pv/A/wAADgC7/03/+v7s/h7/hf/e//L/0P9v/zP/FP83/4v/CQC9AP8A2gB7AAMAp/++/zIAqADhANMAgQDO/z3/Nf90/9f/QgBUAA4AnP8x/+3+9/5V/8r/GwDu/4P/PP8U/y//cP+m/9P/6P/f/87/yf/J/73/zf8AABwALQAYAND/fv9r/6b/6P8UACEAEADi/8X/y//a//7/LAAvACgAAADa/+z/8f/i/9z/1P+e/5f/qv+o/7D/1v/O/53/if9m/23/mf/F/7b/n/+q/7D/1v/6/woAEwDk/7P/w//p/z4AhQCEAEQA2/+Z/5H/0P8xADMA///D/33/Wf9o/5j/yP/8/7v/X/85/zX/Y/+1/xsASgAyAMf/cf9W/3v/7P+DAPAABwHaAD0As/+F/57/FQCeANUAuABmANb/W/8i/zL/pf8fAHQAfQBGAOz/e/8u/yX/b//K/wQAGwADALP/SP/+/vj+RP/N/zwAawBIAOX/lP9z/43/5f9MAH0AegA3AOT/ff86/y//RP+Y/+D/GAAZAOT/if9U/2D/r/8iAHkAhABKAO3/jf+L/6j/4f8aAC8AMQAhANT/dP9b/3H/4f9PAIIAgAA2AMz/Zv8+/z7/YP+4//P/BwAFAMT/bP9O/3D/yP8QADQASgA6ABwA/v/r/+b/9v8LAB8ANgBJACYA1/+K/1f/af/A/w8ANwApAP7/1P+U/3j/gv+r/9v/CAAFAOn/t/9w/1D/YP+d/8D/5f/2//n/DAAMAB0ALgArACsAHAAVAPr/2P/n//b/BgAMAO3/5f+y/3//iP+V/8j/6P8IAAQA7//e/63/mf+A/4X/sv/W/+r/+v/y/9n/0//V//L/BAD8//z/7v/r//P/AAAEAAAA1P+G/1v/VP9v/5D/y////+T/rv+P/4n/vv/z/w0AIwAGAN//3f/z/yIARQBEAC4AEQDt/7j/m/+a/6H/0v8PACsAKwDy/7z/tv+w/6b/ov+o/6b/nf+Z/6v/tP+p/5v/kv+j/77/5//+/xkAOAA/AE0APQAfAAwAEwAcAA8ABAAJAPP/1v/A/7L/tP+x/+H/DAAUAA0AFgAVAAMA///l//b/HAD//87/u/+k/6X/xf/g/9X/zP/j/+n/CAAlACgAFQDx/87/xP/M/9P/6P/i/9T/w/+4/6f/uP/Z/9z/CAANABAAFwAAAA0AFgAQAP3/2//c/+D/3//u/+P/3f/a/+L/0P+Y/5X/sf/L/9D/yv+9/7D/pf+Q/5z/sv/G/93/8P/x/9r/0f/m/wYAGwAhABwAAADh/9//4//S/9b/8f/w/+v/6f/q//D/7v/+/woAHgA4ACcA/v/t//v/BgAXABQA8P/k/+n/5P/r//z/BwAXABUA+f/i/9T/4v///wMACgACANj/q/+k/8n/3v/f/+P/1v/K/9H/2//s/wIAFgATABkAIgAPAA4AAAAJACsALQArABoA7v/L/9b/4v/y//n/8P/n/+X/1P/F/8//1v/t//P/7P/Q/7r/vf/F/8H/xP/e/9z/5v/y/wAAEwAaABcAEwALAA4ADgD+/xkAIwAiABYADQD4/8//u/+x/+n/DgAnABkA/P/y/9T/5/8AAA0AEwAGAOn/0f+9/6z/s//P/+D/2//b/9z/yf+0/77/wf/J/8//y//Y/9j/6v/7/+r/5v/n//3/FAAHABEAFQAOAAAABQAaAA0ADgAKAA4A/v/l/9n/x//L/8b/z//V/9L/xv+w/6n/pv+2/8n/0v/T/+H/8P/i/83/1f/Z/+n/EwALAPv/9v/q/+H/6P8CABYAGwAAAPz/AgADAAcACAALAAUADgACAOf/6v/5//T/8v/3//H/7f/e/+D/6v/t/wQABwAAAAUABwD+/wMAAQAFAPL/2f/Z/87/1//O/9z/2P/T/8v/uf+v/6//z//W/+D/2f/d/9L/uv+t/6r/t/+9/8H/uv/C/8v/0f/R/9n/4v/o/+r/8/8DAAEA9v/c/9X/5f8AAAAA9P/1/+f/2f/g/9n/1//x/+//7//v/+3/9P/i/93/4P/i/+n/+f/o/9X/4f/W/9b/4P/q/93/yv+w/7P/sf+m/63/m/+V/4z/pf+t/63/wv/O/7v/pf+m/53/rv/R/9z/0//Q/8r/tf+n/9H/2v/e/+n/2P/X/87/1v/W/9X/1//b/9b/wv+U/4f/q/+b/6f/of+T/5P/h/+I/3j/gf+M/4r/of+y/6j/xf/J/6j/y//Y/8j/2v/f/wAAJQAnADYALwAgACEAGwAgACYAFQD5/wIADAAIAPz/7v/2//v/BAAHAAAA7v/Z/8X/w//M/9b/3//V/9H/0v/V/9v/5//m/+7/9//u//3/yv+0/8r/z//o/9D/3v/q/+H/3f/c/87/0P/R/73/zf+6/7n/w/+8/7P/uf+9/6v/rP+3/6L/cP92/23/Yf9o/2P/ZP9f/1T/Uv8//yn/I/8c/yH/Ef8Y/xj/F/8Y/xr/If8T/xr/Jv87/zv/Ov8w/yz/Q/85/zr/Y/9s/3H/Xf9Y/1H/L/84/0H/Xf9s/2v/c/9+/4H/d/93/33/g/+O/5b/n/+t/5//lv+N/4//lf+m/8L/tv/E/97/0v/E/8z/zv/I/+7/CQD3/woAAADg/9b/1P8GABoAIQAnAB8ANAAsAAoAGAAtACYAMgANAPP/8P/Y/+7/1P/K/9z/2v/Y/9H/x/+//7P/o/+n/6//wP+j/5//sf+i/5D/kf+X/53/tP+2/7f/uf+5/6z/o/+v/5//m/+l/5j/nP90/1X/TP9C/0T/RP84/x3/Cv8J/xT/3P7f/uv+8v4S/wr/5v62/rz+t/6r/q3+s/62/rX+t/7G/sz+w/7V/uT+2/77/gX/5v7a/tT+4/7l/vT++/4A/xr/GP8G/yD/Of8v/zb/Uf9b/z//Qv9J/0H/Nf9C/1z/Wf9j/2X/ZP9i/2r/bP98/5H/j/+h/5j/n/+q/5z/mP+W/5P/lf+h/5H/hf+b/6f/wv/b/+z/8P/f/+7/1v/Q/9r/0f/C/73/0f/J/9r/6P/W/9r/4P/r/wUAAQAPABUABAD///b/4P/q/+D/0P/h/9n/7P/g/93/0//C/6L/mv+s/6L/qf+G/37/bv9y/4X/gP+N/37/j/+V/3j/fv+J/5T/hP+B/3T/bf9i/z//Uf9e/13/TP9P/yz/CP8U/wv/9v4E/wj/F/8o/wj/+v74/gP/9P4K/xf/Gv8Y/xL/M/9B/0T/O/8//1L/af9m/2T/f/+B/3r/jf+T/5L/dP9W/13/Tv87/zX/MP8o/yj/DP/1/vT+5/7k/tf+uP63/rn+r/6n/o/+hv6T/pL+kv6T/pT+lv6T/p7+rv63/sH+1f7a/uL+4/73/v/+7v4C/wv///4L/xr/E/8k/y7/Kf8p/zL/IP8S/xn/E/8j/yL/I/80/zX/MP9N/13/aP97/4f/jf95/4f/nv+p/6//zv+//6P/pv+r/8D/r/+6/6P/kv+T/4r/hv9o/2//V/9M/0L/Qf8//y3/GP/6/gr//v4L/xr//P7//gT/9/7u/vT+FP8l/yH/Lv88/yn/L/86/y3/O/9A/zv/Mv8w/y3/K/8k/xD/G/8a/xv/If8U/wX///7y/uX+4/7T/sz+qv6Z/oz+cf5v/kz+Pv49/jv+MP4g/hD+Av78/ev99v3Z/bj9xP3D/bL9tP2u/aL9of2S/ZL9lP2S/Yj9fP1z/YT9h/14/YH9fP1t/XX9Yf1X/Wj9Yv2D/Zz9kv2V/Zf9rP3y/ST+XP6S/rH+8/4w/2v/qf8CAFUAmgDxACMBcQHxAUECggLfAiADYgOWA/EDQgRXBIcEkgSwBMYExQTXBNUE2QTZBMgEqgSUBHIETAREBPoDxgOJAx4D+gLIAncCMQL7AZIBJwHjAJsAWAD3/5v/SP/y/rP+Wv79/bT9Zf0Y/dP8nfxz/Cv84fu4+4r7f/tD+xT78vqv+sb6wvrJ+sr6yPrs+tP63PoK+wL7Dvs2+0D7ZvuI+5z7ufvp+xn8N/xq/JD8wvwB/Tn9gP3B/SP+cf6f/gH/Uv+o/+v/OwCZANcANgFrAb0BDgJKAqEC0wIWA1EDgQOqA9kDBQQuBFgEZAR4BH8EgASSBKMEoASeBJsEmASTBJEEmwSdBHAEUAQ9BAUE5gPQA6ADfQM/A/kCsgJ5AlYC4QGKATwB4AB7AAgApf82/8r+Z/4F/qn9S/3o/Kz8V/wJ/ND7mvtb+yT7/Pq8+pL6e/pZ+j76Ofod+i/6SfpI+lr6W/qL+sD63Pr0+hf7O/tQ+3r7pvvs+x78Tfym/Lz83fwm/Ur9lP3H/f39Ov5I/n3+o/7A/gj/Qf9Y/4b/uf/f/wgAPQBsAKYA4QD2ADQBWwF/AbcB2AEBAjUCaQKFApACpQLGAvgCIANDA2wDjwOrA7YD0QPoAwkEIAQ4BDwETQRNBFUEXgQ+BE0EQAQtBAYE7APdA6cDdwNGAy4D4wKLAlwCHgLgAZgBZwEgAdEAqgBjACgA7/+q/3T/Jf/Z/qX+cv5A/gr+zv2s/Yn9Zv03/Qz9BP3b/L38ovyH/Ij8gvx0/G78g/x4/Hz8ifyM/Mv84vzz/Ab9C/02/UL9ZP2I/aL9yv3V/eb9C/4o/kn+bP5x/qL+wP7N/uP+/f4n/yz/Rv9W/0r/Sf9N/17/ev9t/33/Zv9S/2D/Vv9u/1//Qv8O/wP/9v7B/p/+iP5u/lj+QP4O/u/90v27/Y39iP15/Vn9Uf0y/Sn9GP0Z/Qr9Cf34/OD81fy+/MT8vvy9/Kz8sPyy/L38v/yx/M780Pzb/Nj84vwH/QX9Df0h/T79UP1Y/Xv9mf2y/bv90/37/QP+Iv5O/l/+dv6V/q7+v/7R/tT+1P7p/v/+Bv8Y/y7/Jf8h/yf/Mv9B/0r/TP9T/1D/Q/8//0H/Ov8z/zr/I/8T/xL/Fv8F//z++P7l/uz+2f7V/sL+xf7Q/rn+rv6t/rX+rv6u/qL+yf76/vb++P4W/x7/L/9a/3P/j/+O/8D/+P/r/wUAMgBSAKcA2QDxADIBbgGhAdsBFAI5AnkCugLbAvkCPAN8A7AD0wP/AzYEagSRBMIE4wT8BCkFOwViBWQFggWgBbYFpgWdBc8FqQWjBacFnwWXBZAFeAVcBU0FQQUyBfYE1QShBIYEbQRFBB8E+APLA7QDoQN2A3oDbANaAykDFQMCA8UCqAKIAmUCagJKAiYCHwL0AdYBkgF6AXMBQgEgAQcB9QDvAM8ArgCsALAAngB9AG8AbwByAGMAXABCADUALwAcACYADwDo/+L/1//H/8X/rv+o/5r/if+O/4T/ef9q/1b/J/8h/w//9/7q/tr+1v6x/rH+k/6A/o3+jP6T/on+h/6D/oP+fP56/o3+f/5j/kH+Q/5a/jL+Hf4b/v/98P3V/b79tP2V/ar9rP19/Wz9eP19/X/9d/1p/W39a/1m/Xf9gP1q/W79dv10/XD9j/2d/ZL9rP22/bz92f3p/ef98P0C/gz+K/5G/kr+WP5v/on+jP6c/rv+3P73/gH/Iv8x/0P/cv+j/7f/2P8AAPn/CQAkAEEAVwBnAHEAfwCfAMEA5AD+ABgBKAFIAU4BTQFlAYsBlwGpAcgBxQHNAdQB5QHzAfsBAAL4AewB7wH7AfYB7QH2AfcB9QHtAfEB8QHvAe8B3QHyAeYBxAHOAcwBmwGNAZ8BkQGPAY8BgQGNAZYBkAGGAXEBYgFcAWoBXwFcAWIBXwFhAT4BNgExATEBMQEZARoBDgEGAQ4BBAH3ABEBEQH+AAcB/AD+AP4A+wD1APEABAEBAegA3ADpAO0A4wDlAN8A1ADLANIA3wDNANUA4ADfAPoAAgEFAQgBDQELAQwBFAEOARgBKAEzAUgBUQFYAVUBUgFWAVQBWgFiAXIBYwFmAWYBXAFeAWcBVwFCAUwBOQEwASkBFwELARQBCwEDAQABAAEHAfwA8wDxAOYAuwCqALMArgCaAI4AewB/AIIAcQBrAGYAYQBeAFIAPwA3ADcAOAA/ADkAHwApABkAGgAoABUAFgAQACMAIgAZADUANAA4ADsAIgAkADMAMQAwADwASwBDADcAPwBFAE4AOAAfABEAFwAZAA4AGAARABsAEwAMABMABgAVABgAHAAoACUAKAAoACEANgBPAE4ARwBNAE8AQQBAAEYAOAA1ADkAOABAADgASABHADUASwBmAF0AUgBXAGgAcgB2AHEAZwBkAGAAWwBdAGQAPQA4AEkARgA2AD8ASABHAEkAQgBCACgAJAA7AD0AMgBKAEAALgA8ADoAPAA8ADYAUQBWAEwAWwBQAFgAcQBzAGgAZABjAFoAVwBjAGsAbwB5AIYAhwCNAHQAeAB+AGUAaQA8AD0AOQAoAC4AKwA2ADYAOwA9ADkAOAAuACsAKQAgADQALwAqADgAMwA2ADwASABZAEoARwA8ACUAGgAXABkACAALAAYA+f/z/+j/3f/e/9f/y//N/8n/yP/H/8L/yv/K/8L/wP+5/7X/oP+u/7r/qf+f/5P/jP+J/5T/if98/27/bP9m/2z/gf9z/4H/nf+p/7X/0f/X/8//2//k//P//P8BAAsADgARAB0AMQA7ADsARABGAEMATQBWAGAAZQB0AHEAawB8AIEAjwCfAKcAtQC7AMAA0gDyAPoABQEXAQ0BKQE3AUEBagFpAWIBagFgAWgBgQGIAYQBegGDAYQBggGbAa4BrgGtAcIBxgG9AcYBxwHCAb0BuwG3Aa0BsgGtAaYBnQGUAZoBigGLAZcBiQF0AWMBXwFiAWIBTwFVAV0BSgE7ATEBIgEAAfQA6ACuAJoAmwCVAJwAhwCAAHIAYQBaAD4ALgA2AEIALwAfACkALQD//+n/7P/g/9T/tP+q/6j/rf+s/6f/pf+K/4D/c/9N/0b/Pv8d/w7/C/8P/wz/Av8D/wT/Af/+/v/+Af/x/vD+8P7s/uv+6P74/vP++v4F/wX/Av8C/xX/EP8Y/yr/K/9V/2n/Wv9t/2X/Z/95/3f/i/+T/4//lv+l/6r/sP/D/8X/vf/G/9P/0v/0/xUAAwANACgAKAAsADEANgAmACMAKAAoADEAJwAsADsAMQAlACwAHAAfADoAOwA2ADEAOgAuADQARgBTAF8AVwBoAHkAbgBLAFIAVgA9AFYAbwBiAF0AegBzAGQAaQBXAFoAWwBWAGQAaQBSAFEAWwBSAF0AVwBHADcAOAA2ADQANwAvAEUALAAeAC8AIQAbABoAIAAXAP3//P8GAPj/BQAeACoAMgAxADMALwAzACUAJQAlACEAOQAuADIAOQAsACsAGAAPACAAHAAYACIAKQAwACUAHAASABQAFwANABAAEwAhAB8AMAA3ACAAJwAnAB4AEgAZAAsACQApAB4AFgAKAAkAEwAQABUAFQAdAB4AHAAeACcAKwAjACsAJgAxAEMAMwA2ADYAOwBIADsAOgBEAEIAMwAqADoAPAA5AEUAVwBbAE0AWwBcAFgAcQBkAF8AXQBPAEwAPAA7AEAAQwBFAEgAVABHACgAIgAwAC4AMwA0AC0AOQAzAC0AKwAaABwAOQA1ADoARQA2ADkAPgBHADIANwAzACYANQA2ACcAFAAZABIAAQD//xoAGgAoACcAHwAxADoAPQA1ADYAMgA9AEQAPwA+AEMAPwBRAFQARgBLAGAAZQBTAE0ASABOAEoAUwBSAFIAUgA/AEgAPAA7AEMANABQAFEARgBVADgAKwBFAEoAPwAzAD8ARgArACsAMQAwADAANgAyAAkACQALAAkAKgAoADIAPAAyADAAKgAoABQAHgAfAAsAHwAgABYAFwAGABAAFAAHAB8AEwD//wcADgASAAIAIgA5ACQAMwAmACIAMgAiACQAQQBKAEoAQgBPAEsALgA7AEoATwBBACQAGQAeABMADwARABsAKAAkACIALQAqADQAUQBNAEMAPgAnABYAIQASABMAFAAWABcAAgAKAA0AIQAtACgAHQAdACIAJAAtACAAHgASAA8AGQATAA0AAAABAAoAAwAJAAwABwABAPf//v/n/+f/8P/y//P/5//w/9//6v/v/+f/9f/p/+n/9f/v/+j/8v/x//T//P8AAPD/0//U/9X/2f/o/+b/2f/T/9j/0//F/7//y/+7/7H/zP/P/9f/3//d/9n/yf/J/8v/z/+8/6n/oP+Y/7b/vf/B/7X/v//N/87/1f/X/9v/0f/U/9r/6f/X/8j/0v/c/+b/4v/v//f/7P8AAP7/CQAdAB0AKgAqACAAGgAcAAsAKgAkABEAAgD7/woAAAAkADIAKgAwADYAGQAGAB8AHAAUAAkABQD9//L/5f/k/9j/zP/j/+r/9P/3////7v/9/w4ACQAAAPT/BwD6//v/BwADAAMAJQA2AC0AMQBXAGQAYwB/AIcAlwCWALoA0wCvAKcAtwC3AMUAzgDKANUAzADSAOoA8wD+AAgBCQEIARwBKQEjASgBGQEQAREB/wAFAfoA6AD3AOkA3gDaANkAygDOAOIAwwC/AMsAxwCuAKAArgCgAJsAjAB8AGAAPwBkAGQARwBdAGMASgA9ACcAHAAlACYAGgAbACMA/v/v//P/6P/j/+f/6f/a/8z/rf+V/5H/kv+S/43/k/+O/4n/jv+A/33/g/96/3T/cv9w/2f/X/9V/1j/b/9k/2D/cf9m/2P/W/9f/2r/Yv93/4v/h/94/3D/eP9z/2//ev+F/3//hf+G/2j/ZP9x/3f/ev9t/3j/ZP9T/1//TP9R/1H/TP9R/2D/cv9X/03/V/9d/17/Tv9W/1v/Qf9L/1T/Mv9B/1j/VP9T/1r/ZP9U/zr/Qf9L/zz/T/9X/0n/Rf9D/0//TP9a/13/Wf9E/0D/Yf9d/2b/S/89/0n/Lf85/0H/SP9K/1D/Xf9Y/23/c/+A/4r/kf+H/4L/m/+V/5n/wv/h/+j/3//f/+n/4f/i/+7/AwADAPr/IgAaABEAIQAHABIACwAiAD0ALQAvACEAJQAhACEALAAfACYAGAAfACQACAARABcAEAAZAB8AHgAXAP7/7//9/wIAAAD+//D/5f/j/+P/7f/j/97/5//y//X/y//I/9X/0P+//8f/0P+9/8P/xP+g/4//rv+k/7j/uf+0/7//wP+6/7X/0v/T/87/xP/J/8v/xv+4/7T/xv/L/9D/+P8HAPD/6v/n/93/1//r/+f/9f/x//T/9v/t/+3/6P/5/+n/AAAKAAMAAQD0//r/EQAQAAAAAgABABgAAADu//T/8f/2//z/AgDy//j/+//1/wIACQADAPn/AwANAAsABwALAAUA+P8JABQAIwAjABEAHwAaACUAQAApACcANQA8AEEANAAuACgANABHAEwASwBOADQAJgAmADoAPgArACwAIgAfABsANwA4ADcAMQApADoANgA7AEcARwA8AEIARABlAGgAUQBdADMAHgAqADEAPAAqABUAHwAiABgACwAPAC8AKgAnACkAHAApACkAKwAuADoAMQAzADQAKQA3ADoARQA3AEAAMgAxAEAAPABBADwASAAuADIAPgBaAHQAZQBRADoAQgBIAE0ATgBVAF0AYQBjAGIAWwBdAGQAYgBnAGsAbwBoAGIAbQBzAGcAZAB0AHUAewBuAF8AcQBXAEgAWABdAFwAWABfAFUAVABKAD0ASwBtAG8AUwBmAEQAMABEAEEAWQBXAEQANQAvABIAAgAKAAYAEgAUAAoA+P8NAA0A6/8DAAwAAAD//wUA3//d//b/2f/f/+v/2f/N/9n/yP/B/8f/y//D/9X/6v/F/8n/0f/O/8b/xv/P/8r/2//a/93/4P/Q/9n/7P/u//D/9//t//v//P/1/xAAFwAvADkAMAA3ACwAOQA2AC4ANgBGAEcAQwBGAEwATwA5AEUARAA+AD4APwBGAD0ARwBIAEQASgA/AD4ANQAoACMAHQARABgAJAAhAB8ADwAAAN//6P/y/+P/8v/1//P/4P/r//H/4v/q//L/6f/g//T/5v/y//L/3//4/+H/3f/j/9b/yf/B/8z/wf+//+D/8v/d/9z/8P/t/+z/5v/f/+H/5v/Z/+X/9//o/+f/zP/R//D///8UAAkA+v8JAB8AEQAFAAMA+/8NABoAHwAtADEAOAA5AD8AOQA2ADsARABFADoAaABrAHAAbwBfAHcAfQBbAEQAYQBVAFsARgAyAD4ARQBaAFAAXgBRAEMAXwBjAFIASQBDAEYATwBJAFYAeABqAEoAPQA9AEwAMwBBAEEALgAxADEAQAA8ADYAIAAcACAAHwAaABEAFAALAA8AFgAGAAQABAADAPv/9/8YAAIA/P8UAA0AEwAEAAQADgD//wYA9v/4/xMABQAVAC0ALAAfAB8AJQAUABEAKAAtAD0APgA6AFMAQgBMAFoARABeAHAAYABnAGEAVQBnAIUAogCVAKAApACXAJUAkwCoAJIAhgCZAJ8AngCWAI4AkgCRAH4AiQBrAFEAaABbAFkATABBAE8APwBEAFYAPgA5ADcANQA9ADgALwAkAB4AJgAuAAIA/f8eACsAGwAAAAEADwARAP//8//r//f/5P/i//r/DQAIAAEACwDz/+3/7P/0/+v/8f/q/+P/5f/n//f/3v/i//T/AAAIAAIACgALAOT/3//u/+D/4//q//f////v/+z/4f/J/9v/6P/q//L/9v/r////DgAOACQAHAAdAA8ADgAaAAwAGQAJAPr/FAAZABcAFgAfACIAGgAeACoAMwAhACoAMgAsAEAAPQA7AD8ANABGAD0AIgA6ACoAFQAoACIAGQAeACYAMwAnACwAPABEAEwALAAmACwAEAAFAPX/9P/8/wQACwAQACMAFgASABgAAwD3//7/9P/0//z/7f/u/+D/4v8AAAIA8//2//z/7//5//j/8P/y//j/9//w/wAA+//v/+7/9//z/+7/5P/Z/+T/2v/b/+b/7v/1//b/8v/r/+L/7//5/+r/8v/w/9P/yv/F/9P/8f/e/+j//v/w//X/8P/0//D/7v8FAAwABQAKAA4AGwAcAA0AGAABABoAMgAcABgAHAAaAA8AEgAeADIAIwASAAAADwAPAAkAIAAZABIAFQAaABEAEQAAAP//BQATABMAHgAfAAsAEQAAAPr//P/6/wEA8f/r/xQAGAD7/wcAJQAfACIADAADAB8AHAAOAPD//f8JAAsACAACABUADQAIAAMA/f8GAPz/7v/1////AgARABYADQASAA0AEAAKAP3/CgAHABcAIQAJAAkABwANABUAEAAXABwAIAAXAAcAIQAjAB4AJwAnAB8AOwBIADEATgBRAFUAVABVAEUALAA3AD4ASwA6ADUAQAA4ACgAHQAXAAgAHwAkAAwABAAaACEADgAXAO//4f/2////AAD3/+3/9v/6//X/AQDx/+n/AQAHAPj/CAAZAAMAAAARAP3/8P/o/+T/5P/k/8D/s//J/87/3v/W/87/z//Q/8X/1f/s/+v/6P/G/8P/4//m/93/9P8TABsADAD4/wQADwAQAO7/5P8FAAMA8P/S/9//FAAYAMv/6f8lAAIA/P/1/xUALwAGAOT/+f88AGwANADp/xEAdgBcAAEACgAkAC0A9v8OAEUAMQASAAsALwA2ADMAFQANAFoAfgAwAB8ASABjADUACwAsAEcAJgD3/xgAGwD7/93/3f8EABMA///1/wUARQBIAOv/4/8lACUA/v/a/+b/LQAcAOj/8f8aABgA8P/3/93/6f/z/9X/5v8FAAUA4//o//r/AAD1//D//P8bABwA//8NAD0ASAAUACwAQAAyAA8A5v/s//H//v/s/+z/+v8VAB4A9f8SADAAFQDt/+f/FQAAANv/5f/x//7/9//r/83/4//h/5z/ef+f//r/vv9p/6X/yP+4/7L/yP/n/7f/jf+v/87/w/+5/83/DwArAO3/5/8OACsA6/+Y/8z/HwD8/7D/wf8BANr/nP+//+n/GQDi/6z/4/8DAPf/wv/X//X/3f+7/8//DwAPAN7/y//6//f/z//d/xIAIwD//+v/+v/0/+z/6v/j//n/GwASANP/6P9SADcAs//A/xEAMAALAM3/CgA+ACwA+f/2/y8AGQAgADIAMwBDAC8AEAAaADYABQD9/0wAUgAaABcAIwAtAD0AIgAfAFIAfgBZADsAbAB+AF8AJQAjAD0ALwA0ADgAMwA9ADAAFAAWABAAEgASABUAGwAWABYACwAKACsAKwAEABAA9P/q/xMA7v/h/+X/8P/+/+7/7P/P/9H/5/8GAPz/4f/v/+X/4//p/w4ALAAaAAMA9v/y//b/+v/l/+P/3//T/+T/wv/D/97/y//E/77/pf+q/87/1f/F/7z/xv/D/63/xv/L/6j/qf+v/6T/of+4/6v/m/+W/5v/pP+E/3j/i/+P/5H/tf+y/5j/pP+l/47/lP+p/5f/tf/D/3H/fv+m/6L/sf+r/53/rf+8/7X/v//H/8z/1P/b/9v/1v+2/7j/2P/f//j/7f/a/8v/v//K/9D/zv/H/73/n/+//8T/qP+4/7X/2//a/9T/6v/e/+L/8v/x//T/+P/4/wYAAADw//T/9P/s//X/8f/f//T//v/1/w8AIAAWAAcAGQAnAB4AIwAkAC4AKAA4AEYAKAAnACwALgAxACsASQBQAD0AQwBAAEAAOwBAAG8AdgBwAIMAeABqAGgAXABmAG8AYgBvAHkAeQBrAGMAcgB9AGQAYQB0AG0AigCRAIQAgwBxAGoAZwBeAGkAcQB0AGEASABZAFwAVABaAFsAPQAbABgAFQAgABgAIgAlACcAMAAjAEkAQQAqACsAJAAfACAAFAANAA0ABgAGAAAAGAAOAP3/9P/x/wQA/P/v/9z/3P/d/8v/0v/b/9L/3f/U/8//yP+7/8f/tv+6/7b/x//C/7n/1P/J/7X/n/+z/7z/wv+//7T/tv/M/8n/xv/P/9D/0v/E/8b/sv+2/7z/tf/C/8z/yP+1/7b/xf+5/63/wf/E/7f/qf++/7z/tf/A/7X/vf+L/4//nv+b/5//of+x/43/gP+L/5z/kf+Z/7L/sP+D/4n/nP+N/53/mv+X/3n/ef+T/5v/h/97/43/if97/3T/iP95/33/hv+L/7D/o/+h/6b/pv+s/7D/pf+o/8H/xv/N/7//vP/C/6T/ov+4/8H/w//P/9P/0//Q/9P/3P/Z//j/EAARAAcABwAKAAIADwAUABUAAQDz//r/EQA3ACUAFwAcABQAIAAgAC4AMwAuADYAMwA5AC4AJwA4ADkASgBUADwANQA1ADoAQQBGAEcAPQA9AEEANgAzADYAOgA5ADcAQQA3AD0AVABTAEkAWABZAFkAWgBSAFkATwBIAEsASgBGAE8ASQBHAEgAOwA/ADkATQBbAEoAVQBcAHUAagBNAGgAXABqAIQAbwBuAGYAZQBtAGgAbQB1AGIATwA/AD8AQwBGAEYAPABJAC4AKQAyAC4APgAzADkANgAjAC8AQQA8ACkALQAjABwAJgApACUAJwAnAAoADgAWABEAFgAPABgABgAIAAQA6f/6//T/9f/x/+z/5//V/9f/2v/W/83/zf+w/6f/tP+8/9X/yv/b/+3/6P/9//X/9f/o/97/3P/L/7L/pP+l/7H/s/+0/8n/xv/D/7D/sf+4/6r/rf+v/73/0v/D/87/zv+m/8L/yP/S/9X/xP/X/9X/0f/G/83/yf/H/8z/wP/N/8f/x//M/7r/xP/W/9L/z//Z/+T/3v/H/8j/y//J/83/v/+//7//uv/H/7n/tf/R/8P/tf/Y/+v/3//f/9z/4v/a/9H/0//B/8v/w/+5/73/v//F/8H/w/+//8D/uv+z/7v/y//L/9b/4//e/+P/5f/l/+j/2f/b//L/+v////X/7P/g/+H/+f/4/+b/8f/u//X//P/z//3/7//2//X/7f/0/+n/8/8IABAAAgAEAA4ACwAHAAQAAwD7/xUAHgANAAsACAAgABEACgAQAAoA+P/x/wUA/f8AAA0AEAASACoAJAAjACoAJQAsACMAFQAVACQAHAAjAB4AEAAKAA0AEQAYABwAIQAxAB8AJgAoACAAHQAcAB0ABAAIAA4AAgASAP7/6v/r/9//5//p//r/7f/l//L/9f/5/+b/8v/y/+z/+v/w//j/9P/r/+r/5f/s//X/+P/g/+L/3//m//7/AgAGAAAACgAPAP//AgAAAPj/7P/p//b/+f////f////1/+3/6P/Y/+v/5v/t/+3/5P/g/+b/5P/i/+v/5/8AAP//7f/y/+f/6P/7//H/8f/w//X//P/n/9n/4//p//H//f/4/wcAAwDv//H/8v/1//3////0/+j/6v/p/+z/8/8AAPn/6//3//j//f/0/+7/1f/K/8v/tv/I/93/1P/X/+7/2f/g/+r/1f/3/w8A9//y//T/4v/5/+T/0//m/+r/8//v/+z/4v/A/7j/zv/D/8f/1P/b/9v/x//J/8b/w/++/7L/uv/A/7//y/++/7b/x/+8/7T/uv+t/63/zv/D/7b/t/+l/7b/uf+x/7L/oP+p/6L/mf+g/5f/ov+z/7//r/+r/6//sv+2/7X/yv/P/8z/vv+v/7j/w//D/8X/sP+l/8D/v//G/8n/xf/K/73/x//d/+P/2f/k//j/6P/d/87/yf/M/8X/y//B/7f/u/+7/7D/ov+d/6D/ov+h/6z/sv+g/5j/kv+E/5H/mP+g/5P/m/+p/6D/qv+g/8X/yP+t/6z/m/+f/5f/lv+X/5b/q/+s/6T/rv+j/6T/j/9//67/qP+g/7D/zP/L/6z/sv/V/+D/xf/J/8r/zf/L/9L/zP/I/9f/wv+6/7//uP+4/8H/yP/C/8f/y//K/9f/2//Q/8//z//L/9T/zv/R/9//4v/R/8X/2f/j/+n/+P8WABUA//8LABsALAAfABAAHgAkABUADgAMAAoABgD///f/+v/+/wAAAgD4//7/7f/v//L/+v8LAA0AGQAGAP7/AAD0/+f/7f/2/wAA5P/c/+P/0//e/+H/4f/H/8r/tP+Z/6f/qP+p/5z/m/+X/6D/rP+m/7X/uf+6/7z/tP+s/6b/nP+c/6j/rP+w/6P/i/+E/4//hf+I/5T/lv+q/7L/tf+j/5r/tf+1/5r/lv+c/57/l/+U/5P/mP+u/6H/jP9+/3z/h/+P/4H/hf+I/3r/mf+k/6b/of+M/5D/f/93/3z/Zf9o/3v/gP+E/4T/fv92/2f/XP9i/27/dP97/4H/if+L/3r/fv+C/3b/g/+F/4T/i/+N/4P/fP9+/5H/hP90/47/f/+E/4r/ev92/3X/b/9s/3H/kv+k/5X/j/99/4X/hP+D/4j/jf+R/3r/mP+a/57/pP+F/63/rv+n/7D/nv+Y/7b/1P+4/6L/o/+r/7P/rv+v/7f/tf+1/7H/t//K/7T/rP+6/7H/qP+I/4X/gf+I/5X/jv+e/5X/ov+U/5H/m/+W/5T/hf+O/4r/jP+a/6T/pv+X/5j/of+e/5r/kP+i/67/oP+i/6//v//C/6b/kP+K/5D/k/+E/4n/pP+j/4r/w//V/8X/tv+n/5v/kP+Y/5P/n/+a/5f/iP+K/5X/l/+S/6X/pf+W/4z/jP+i/5X/qv+s/6D/oP+f/47/lv+r/6r/rv+j/5D/lv+t/63/p/+i/8P/zP/I/83/v//D/7b/tv+k/4f/lP+U/6b/pP+m/57/ov/L/7//vv/C/8P/wf+z/7L/qv+l/7P/t//J/9n/0P/V/+n/8f/k/9z/1//6//n/4v/f/+j/AQD3/+7/7//s/+P/2//d/9n/2P/k/8b/uv/Q/9X/2P/N/9n/0P+//7//qv+y/63/pf+8/7z/wP/D/8X/0P/G/8//r/+q/77/wP/E/6r/1P/V/8T/0f/Q/83/x//B/7T/wv/M/8v/vf+3/6//r/+0/7z/tP+k/7X/w//B/7L/rv+h/57/qv+v/67/oP+r/9L/yv+z/8D/yf+9/8H/yv+6/6//p/+i/7r/tf+1/8z/xv/R/+H/3v/U/8//0P/B/7b/sf+3/7//xv/O/8z/zv/P/9n/4v/n/+H/w//H/9X/1f/U/8r/2v/W/73/wv+6/8X/wv+1/7//tf+t/6b/r/+s/7f/wf/G/9H/uP+7/7P/rf+t/6H/pv+m/5n/ov+q/5j/j/+E/5H/of+a/6P/nf9//4D/i/+T/5v/l/+p/6j/pP+v/6T/rv+1/6//rv+n/6T/r/+i/5T/rf+p/6H/mP+K/6L/rv+d/6r/sf+o/6//mP+e/6X/lf+a/5z/rP+x/6j/t//D/9n/2v/E/8z/0P/L/8X/wf/I/+z/1//L/+v/5P8AAAsA//8DAPD/7//w/+X/5f/i/+T/4f/e/9j/1//U/93/2v+//7v/w//h/+b/6f/5/+z/zP/R/97/0P/b/9//0v/P/9X/z//K/+H/4v/P/8r/0f/Z/93/6v/S/8r/vP+0/83/wP/J/9D/3P/V/8f/vv+j/67/vf+//8D/sP+i/6f/o/+m/7P/oP+N/5n/o/+Q/4//oP+W/5//pf+c/7L/uP+w/7//y//T/9L/v//G/8T/1v/V/8r/3//L/8D/zP/H/77/zf/A/7T/wf+3/83//f/n/8//6//k/9b/yf/H/9j/z//Q/8b/wv/E/7D/zv/X/8f/yf/V/8v/zP/Y/7D/tP+6/7j/wf/F/9j/1f/M/7z/pf+x/8D/rf+v/7f/uf+5/6D/nP+f/5z/nf+o/7j/tf+9/7T/ov+l/6X/qv+r/8L/vP/L/9f/xf/N/8P/yf/B/8H/1P/U/77/tf/H/8X/v//E/8r/w/+l/63/xf/B/8L/xP/S/8n/0//z//X/5v/d/9T/1//e/9v/1v/S/8X/x//P/9H/+f/q/+T/2P/Q/+D/zf/j/8//wP/i/97/0//O/9j/2f/D/9L/w/+z/6f/pv+q/5j/m/+H/4D/m/+e/6X/rf+Y/5v/of+c/6H/mf+R/43/l/+g/5D/mP+b/5v/m/+P/5//lv+l/63/q/+6/6z/tP+5/5b/hv+o/7v/sf+h/6n/lP99/5n/d/91/5L/gP+L/5D/lf+W/4T/qf+l/5L/m/+T/6D/rv+v/6H/rv+s/5n/pP+y/8D/tf+u/6n/nf+1/6f/g/+H/5j/mv+a/5v/nP+e/5L/mP+a/6P/eP9+/6H/kP+G/4X/jP+U/6T/nf+v/63/tP+6/7z/v/+9/83/u//D/8X/xf/K/8j/4//V/8X/0//Y/8z/2//7//j/FgAGAPL////2/+T//f8aAAIABwD4//P/AwAFAAIA8P/h/93/8/8BAPv/8v/p//H/+f/x//j/+//1/wQA9v/z//7/8f/1/+3/9v/q/+//AADx//f/7v/p/+f/2v/r//r/3//k/+b/5//w/9X/4P/g/+j/7P/s//r/7//l//D//P/s/+j/2//g/+L/6P/V/8L/yP/A/9H/w//J/9v/4f/x/+P/3v/g/9n/1//n//H/7f/3/wkA+f/f/9j/3f/h/+H/7P/W/+7/CgD4/+z/8f/2//r/+v/4/wAA4P/V/9L/4//O/73/4P/X/9z/zP/W/+z/4v/V/9X/2f/X/8v/1//Z/9r/2//O/9D/zf/d/8H/xP/E/8L/zf/F/8P/p/+q/6r/qv/I/+L/1//W/93/zP/Z/+n/2//g/+X/2P/d/+j/3//a/9r/zv/H/8r/v/+3/9H/x/+p/7f/4v/V/8f/0P/D/93/4f++/6n/uP/I/8f/yv/E/8P/0P/B/6T/uP+6/5v/rf+y/6T/r/+t/6X/tf+q/5r/pf+f/6D/of+c/5b/mf+a/6H/pv+m/7D/rP+n/7v/vP+4/8r/q/+v/7D/nv+Y/63/yv+0/7L/sP/E/8P/wf+0/6v/tP+9/8j/w//F/8f/zf+//7L/tP+8/8n/wP+N/4//t/+8/77/wf+1/8f/z//T/+z/6f/v/+n/7P/S/8b/0v/U/9r/0P/S/73/vf/O/8D/xv/A/7L/v/++/8r/xf/H/9D/vv/M/83/1f/Y/8D/0f/a/7j/uf/I/8v/zv/a/9j/x//B/7j/tv+1/77/0//u/+f/0f/d/+n/AgD5//L/8P/o//r/8v/m/+P/6f/p/+7/7P/d/+//6f/x/+n/4v/0/9X/0//W/9j/3//Q/8r/yP/R/8b/0v/Q/87/3v/j/+D/0P/s/+n/7v/3/+n/8f/4/wAA8f/u//7/8f/j/+n/5/8AAAkA9//5//n/+v8AAAcA8//w/wkADgALAAwAFgARAAkAEAAYABsAKwAeABYAIwApAC4AGgAYABEADQAiAC4AKAAcACgAMQAjACUALgAeACQALAA3ADYAJwAoABsANgBDADAAOQAmABcAJwAxADEAKQAeABgAMAA4AC8ALQAuADcAQQBAADoAPgA9ADUAMQAlAB0AHgAsAC8AIAAuACwAJwAsAD8AQgBDADkAMwA4AC8AOgArACwANAA2ADYANgAvADMAKgAiACEADAAYAB8ALAAqACMAKAAmACkAFwALAB0ALAA5ADgAFAAQACYAHQAaACEAIQARAA4AGwAbABsAGQAaAA0ADAAeABQAAQAWABsADgAQAP3/9v/2/9f/zf/V/8z/2v/U/8r/2P/J/8z/yP/L/9L/vv/u/+z/zv/a/9P/zf/V/9z/xv+3/8b/3v/P/8D/uf+//8b/1v/T/8n/5P/n/+L/4P/i/9T/xv/G/+D/7//x//T/3f/4/wMA/P8KAA0ADwAOABwALgAuACwALAAnACsAMAAuACUAOABCADkAMgAlACEAGgAaAB8AKAAkABIAGQASAAYAKAA1ADgAJQAfAC8AIQAZAAkAAQAHAAcAAQAdACAAAgAEABgANAAtACQAMQA0AC8ALwAgABEAIQAgACYAMQAsACwAQQBVAD4ARwBRADUARgBYAE8AUwBiAFkATQBVAE4ARgBMAEUAOABRAFgAVAA6ADoAPwA1AEwAQQA+AE0ASAA4AEEAOwA/ADkALQA9ADgALAAuADwAOAA3AEQAQwBCADYAIAA/AEAAVAB5AFgAVgBlAGEAZQBgAF4ATgBHAFQATwBXAE4ASQBHAFMAPwAuAEYASQBOAEYANgA3AD8AOgA5ADIAJAAnADQANAArADAAMQAjACYANgAyACsAIwAhACUAOwBNAD0ANgAjABgAEwApAFsATwA+ADQAMAA8ADIALQAzADgAOwAtACUAJgAkADMAQQAzAC0AMwA1ADoAPgA1ADcARQA6AEQAPAA4ADoAOAA9ADYANQAzADQAGgAgAC4AJAAkACcAMwAsAB8AKQAoACcAMQAtADoAQAA9AD8AOgA4ADkAQQBBAE0ARwA3AE4ATwA7AFAATwA9AEwAUQA/ADIANwA9ADEAIgAqADMAMwA4ADYAMQBJAEwANQBDAFIASABDADgAOgA4ACcAHwAdACIAIwAcAB4AJAAfABYAGAAgABUAKAAZABgANgAnACYAJwAuACAAIwAeAAAAFQAfABwAGwAWAB4AEQACAAgALAAzABMAFAAUACYAIwAbAD4AMgAjABoAEAAbAAsACQAUAAUADgAUAAYADgAWABYAFwAcABAADgAMAP3/AgAQABIAEgAlACgAFgAPAAkACgAKAA8AEwAIABoAHwAjABYAGwAjAAwAFQARABQAEgAdABYACAAcABwAFgAkABkADgAXAA4AFAAdACQAIAA8AEIAPAA9ACsAKwAtAFAASwBBADwANwBPAEIALwA6AEMANgA/AEgANwA/AEgARQBHAF8AYABNAEsAMQA6AD0ASwBiAEQAXABhAFwAXABOAFMAUQBYAFMAWQBIAEoAQQA0ADoAOwBMAE8AYQBVAEcATABGAD4ARwBHADgASAA/AD8AQwA9AEYARABJADIALAAqAB4AMgA8ADMAKwA2ADYAIAArACYAFwAcACEALwAkAC4AIQAkACgAFwAfAA8AEwAkADAAKAAZABQAFAAZABYAFgAlACQAFgATABUAIwApAB8AHwAaABwAKgAjACUALQAwAC0AMQAmABsAGwAiAEgARABGAEMANgA0ABQAHQAhACQANwA2ACwANgA1AB0AHAAkACEAIwAwADEAOwBAADYAMQAxADAANgAwACkAMwAvADMAMwA4ACoAIgA3ABwACgAVABIADAAJAAIAAgAFABAAIgAVAA8ADAALACQAEgAPABIA/v8FABIAIQAeACcAKQAdAB4AEAARABQADgANAA4ADAAUABcAGQAgABUAFwAtADcAIwAaAB4AGgAYAAkA/P8EABAAGgAiABgADQAWABwAIQAvACwAJAAfACgAJQAYABgAEAAoADAAIQAfABoAJQAqABkACgARAB0AJwAeABsAIAAsADQAKAAoAC0AQQBDADwANAA0ADwANQA7ADQALwAyAD8AQwBAAD0ALwBDACUADwArAB8AGgAsACUALQA1ACUAJgAgACkAHgAdACIAIAArAB0AIQAkACAAJAAiABUAGgAjACEAJQAZAB8AIwAuADMAPQBCADoAPQAsAC4AMgArAB8AKQAyAC8AOQAtACUAJAAZABgAGgAmADwANwBCAEAANwBAADUAVgBcAEsATQA/ADgAPgA3ACgANwA4ACkALwAxACEAHwAqADMAMQA0ACsAJgAuACIAIwAcACgALAAdADMANQAzADAAMgAuACoAPgA5AC0ALgAlABwAKAAuAC4AMAAtACsAMQAuADwAMQAWACIADQAQAB0AEAAbACAAIQAgABwAGQAbABUAHgAiABkAHAAgACEAFwAcACsAIwAYACAAIQA9AEgALwAvADQAMQAgABsAIgAfACAAIwAhACcAMQBFAEMAMgAxADUAPQA6AEQAVgBjAFkAUABZAFYAWgBHADsASgBOAE0ATwBLAFUAUABJAFMAUQBYAFUASQBRAEYAOwBCAEkATAA/AEkAQAAvAD8ANQA2AE0ASgBCAEcATABEADsAQQBHAEIAOABBAEMARQBIAEEANwAmADIAOQBOAFcAUABVAFEAUgBQAFgAXQBVAFIAXABDADwARwBAAEkARwBLAEgAMQBBAE8AQgBJAE4AQwAsADIAQABIAFgAXQBRAE4AVgBSAGAAXABrAGQAUQBWAE0AWwBVAE4ASAA5ADoASABKAFMAYABeAFgATgBOAE0ARgA9AE8AUABFADUAOQBDADQAQQBFAEgATgBWAFMAVABZAFcARAA2AD8AOABBAEEANQBEAD0AOwBHADgAOwA6ADsAPAAsAD4AQwBBAE8AWABTAFYARgAwADgAQABCAE4AUwBHAFEAQwA2AEMASgBAADYAPQA1ADMAMgAyADIAJAAyADIAIgAmACIAIwA1ADIAMwA7ADIAJwAbAB8AGQASABoAGQAdABkAEQAfACoAIwAsACgAHAAoACcAKwA2AEAALQAfACgAMQAwACQAJwAjACkANQA5ADkASABJAD8AQAA6ADgAPwBDAEcARQA8ADUAJAAnADQAPgA7ADIARABCADgAPQA3ADwAOQA1ADMAMwBGAD0ARwBOADcAPwBTAFoAVwBdAFgATQBMAEgAQAA7ADoASQBSAEEASgBEAC4ANAA0AC8AOAA7AB8AIgA3AC0AMwA0ACQAJQAnADMAOQAuADIANwAxADQAPAArACoANAA0ADIANAAyACwAKwApADEAPgBIAEYASwBHAEMARwBFAEgATQBOAD8ANgA7ADYANgA8ADEAJAAhACwANAAqACQAPgBFAEQAOwAmADMAOwA4AEsAVABJAE4AQwA/AEUARAA1ADEAQQBJAFEARgBCAD4ARABDAD0AOQAtAD0AOAA1AEYAPgA2ADkARgBEADsANQAvAC8AOwBEADQAQABYAEsARABFAEcAPgA1ADQALAAwADIAOgA8ADkANQA4ADUAOQBCADYAOQA6ACsALABDAE0AUABAADcANQA0AEoARwBAAD8AMgA3AEYAUABSAEgAUQBLAEsATwBTAFYATABYAEMAMgA6AEcAUABWAE8AOgA7ACYAJAA0AC8ALwAvAC0ALwA/ADkALAA6ADMAJwAsACwAKQAoAEUAWAA2ADgAQQA4ADwARwBHAD8APQApADAAMgAjACgANAA0ACYAHwAoAC8ALQA7AC8ALABDAEIAQABGAE0ATwA0ABoAKQA2ADIALAApADYAPgBCAEkAQwBFAEkAVwBPADoAPgA4AC8ALAAyADkAPgBCADAAKAAwACAAGwAeAB0AKwAuACYAIQAlACsAMAA0ADQALwAzADoAKgAsADkAMAA8ADIALwA3AC4AQwBLAEsARwBEAEsASQBFAC0AIAAkACMAKAAtACkAIwAsACsAOwA2ACsANQAwADEAMwA4AC8APABCAD4ALwAqADQAMwBAAEMAQQA0ADkAKgAxAEoAMgAzADkALAAqACcAIQAiAB4AKQAkABYAGgAhACAALABFADYAMQA1ADEANQAwADQANgA4ADkARAA5AC4ANAAjAC8AMQAnAC4AMQAoACMALwA0ACoAOgBVAEsAOwA4AEgASwBFAE4AVQBbAFIAQQA/AD4APwBWAF8ATwBJAEMAPwBCAEUARgA/ADgANAAzAC4AKgA0ADwANgAwAC8ALwAoACUAKAAqAD0AMwAkACcAJQArACoAJQAhACoALwAnACsAKwAvADAAJwArACcAHQAeAB0AGgApACkAKAAiAB4AKAAlADIAMwAwADIAKAAlACYALQAxADIAOAA5ADYAOwAxACYALAA2ADgAMgAyADoAKgAhAC8ANgBCADUAOQAzACEAKQArADIAMQAlAB8ALgAiABoALQAoAB8AQABNAD0APAAjACEAKwAnACIAMQAsACEAKwAhACwAMgA0ADQAMQAjAB8AHAAPACkALwAtAC8AHQAhACoAIwAhACAAFwAOAAwADAATABQAFgAgABoAGgAYABIAFgAXACkAOQAlACEAJQAaACMAKQApACoALgAkACwANAA5AEAAMwA9AD0APABAAD4AMAA1AD4ALwBBADwANQAoAB0APAA9ADwAOgAyAD8ANQAwADkAMQArAC0ANQAyADIAMQAyADgAOAAxAC4AQQBIAEoAQQAwADUALwApACcAIgAqACcAKAAkACUAMAAxADcAJgAoADQAKwA0ADQAJQApACwAKwAzACoAKwAlABwAJQAiACEAHgAiACIAIAAfABYAFwALAAkAFwARAA8AHgAZAB0AIgATABoAFgAdACgAHgAfABgAIQAoACcAJAAjACYAGgAuAEEALQAuADsAMgAtAC8AKQAgABgAHAAbABgAEwAOABgAFgAQABMAGgAiACIAEwATABUADgAYABcAJQAxAB8ADQAIAAUA6f/p//n/6v/o//D/+f/0//P/AgAGAAAABQAGAPX/AQAIAAkADAASACEAGQAjABkAEAAXAAcACAANABEABAAOAB4ADwADAP3/AgD+/wMACwAPABgADAAFAAUACAAQAA4ADwAjACIAHQAgABMAFAAUAA8ACwAVACYAIwAyADgAKAAtACoAJgAyAC0AGAAyAFMASwBDADgAOAA3ADYAPAApACUALAAiACgALgAiACgAGwAZACkAIwAmACMAHgAgACYAGwAYABQAEAAcAA8AFAAQABMAEAD9//7/+f/6//f/AAD+//z/CQAAAPj///8IABAAGQAbABkAIAAjAB8AIwAiABwAIQAqACIAGgAhACgALAAgACsAOQA3ADwAMgAsACwAKQAsADMANwAzADQAOgA9AD0ARwBBADcAOAAtABcACwASACUAJwAmADcAOwBFAEQAMAAwADIAHAAUABoAHwAfABYAHAAiACcAJAARAAcAEwASAAMACgASAAkAAAADAPz/AAABAP//CwAAAAEACAADAAYA///9//v/9P8CAAwAAgALAAcADQAVAAUADQAMABEAFQAYABUAEwALAAMADwABAPz//v/9//f//v8IAAMACAALAAYAAwD0//P/BAADAAkABAAFABAACwATAAYA/v8IAAEABQD//wAA///7/wAA7//n/93/5f/s/+7//P/y/+3/9//3//X/+v/4/wgAEwD9/wQADgACAAcAAgD5//7/AQD+/xIADQACABIACQAFAAYAFAAcABkAIwAgABMAEAABAAQAFAAKAAgACgAGAAQAAQD9/wAA+P8VACcAEgAgABsAHQAxAC8ALQAvAC4ALwArAB4AGAAaABQAEQASABMAGAARAAoAFAAQABkAKQAfACYAGwAQABQAGQASAAMABQAIAAkABgASABMADwASABIAEgATABMAHgAfABMAEwAOABIAEwARACAAHQAcACMAIwAgABkAIwAcACQALgAnACYAKgA5AC4AIwApACoAMAA6ADEALQAmACYANAApACYAKwAlACcAMQArACsALwAwACoAKQAuACcAHgAcACAAIwAkAB4AHQAsADAAJQApACMAGgAsAC8AKAA2AC0AJgAgAA4AEgAFAP3//f/3/wIACgD9//v/AgAHABAAGAAfABUAAAAFAPb/7v8BAPv///8FAA8ADgAYACoAJwAfACEAHQARABUACwALAAoACwAQAPv/+//8//X/+P/7////+//9/wQABQANAAwABgAOABAAEAAOABAAEwAaAAcA9f8IAPn/7v/2//X/9v////v/8//2//T//f/2//X//v/9//f/+v8FAP3/AAD///7/AgD///f/8/8AAPn/AAABAPb//f/4//P//P/5//L/9f/9/wgABAAIAAMACAARAPT/9P8GAPz/8//6//z/AAAGAAUADAAXABMAEwARAA0ADgAHAAYAGAAdABcADAAGABgAEAASABQABQAMAAcAFAAiABYAIgAgABEAEgAVABYABwD8/wMAAAAFAAkABAAUABIAEQAXABUAFwAbABQACgAPAA0ABgAEAAwADAAKABAABgAOABkADwAhAB8AHAAkABcAEAAPABYAFwAXABcAGQAZABAAFwAVABcAKQAZABcAGQAMAAQABwAKAPL/7P/8/wIACwASABIAFQAVABcAGQAQAAwACgAEAAsACwACAAoADQAGAAYABwAJABQACgAAAAAABQD7//D/AwAQAA4ACAD+/wAAEgANAA8AGgAdABgADgAcABQAFAAYAA0AEQALAAwACgAUABoAGgAcABgAGAAWABUAGAAdABcAFwAOABMAHwAhABkAIAAuACAAKAAiACAAGwATABQAFAATAAQABwAJAAoADwAMAAAABAABAAAACgAGAAUACAAGAAYADgARABMACgAMAAYA+/8FAPn/AQAFAAYACgD+/woACgAYAB0ADQANABcAGAATAA8ADQAXABoAFwAZABMAEwANAAQABAD8//3//f8DAAIAAQARABAABwAKAA4ABQANABEAEQAWABMADAALABMADwAEABIAGgAOABMADAAOABkADQARABIACQATABIA9v/t//v/9P/1/woADgAPABMADwAXABEADwAZABcAEAAEAP////8HAAIA8v/2//f/+P8IAPj/9//7//D/AAD2/+//9//6//X/8v/6//P/8f/v/+v/7v/u//T/+v/3/+//AAAEAPL/9//1//T/9v/2/wAACgAMABQAFAAOABEADAAMAAcAAwAPAAQABQAPAAUABwAEAPT/+/8QABgAGwAYACQAJQARAA4ADAANAAcABwAHABEAHQAEAAwADAAKABAADAASAA0AEwAPABUAHAATABIAEAARABgAFAARABoACwAVAB0ACQABAAkAFQAHAAcA/f8YACsAEgAYAA0ADQAlACUAFwAqAC4AHQAgABwAIQAmACcAHgAVAB0AIwAgABgAEQAMABAABgAFAA8AEAAVABcAFwASABEAHAAUAA4AHwAWABIAHgAZAB8AHgAaABkAGgAdABMACwAKABIADQAMABIAEQAVABgADgAWACYAKwAlABUAGQAfAB0AEgAVABQAEgAXAAEA+f8BABAACwAVAB0ADAALAAEABQALAAwABgD9//r/AwAHAAYACgALABcAHAASAPv/9f8BAAUABgADAAAA//8EAAMA/f8GAAQAAwAHAAUABQAAAAYA/v8AAAkADAAIAAAAAAD8/wMAAQANABIAAwAAAAAAAgALABEABgALAAoACAAMAAgABQAFAAIA8P/5/wwACwALAAUAAQADAP//AwAGAAEABgAPAAgAAQAKAAkAAgAEAP//AgAOAAYA/v/3/wIAAAD3//P/8f/7//T/+//z/wgAFgAJAA4AAQACAAgAAAD0//n/+/8DAPv/9P8AAPb/+v/d/9n/8f/r//L/6//r//D/9P8AAPP/+/8DAAgADgAMABkAEAAYAB4AFgAaABMADQAQAAwAAQAAAP//+//1/wIABgABAAgADgANAAgAAwAKAA8AAQALAAoADQAMAAYACgALABIACAADAAAABQARABAACgAKABQAFAARABkAIAAUABIAGgAVABYAHgATABAAEgAQABIADwAXABYAFwAcABkAFQAVAAUA/v8EAAUADwAKAAcACwAUAA8ACwASABAACgAFAAoABAAIAAYACAAJABEAFQAMABEABgAKABcAHAAcABMADAALAA0AFAAVABcACwAFAAMA//8QAAIABAAMAAcAEwAHAAAAAQD/////CQAOAP//+v/5//r/BQAHAAMADQANAAIAAAD1//P/+v/+/wYADQACAAIABADx//H/9//z//v////+//3/8v/4//r/9v/9//7/DAAQAAIACAAFAAwABwAFAA0AAAD3/+///f/6/wMABQD6/wYACQACAPv/AgAKABAADAAYAB4AEAAJAAYAAwAAAAAAAwAKAAwACAAHAAQABwAEAAgADwAQAB4AGAAeAB0AFgAVABEABgAFAAwAEgAdABUAGQASABUAFQAQAA8ABAAHAPT/+P8CAAAADwAPAAgADAAMAAAA/f8HAPz/6P/p/+v/7P/r/+n/8v8EAAgA9P/k/+L/7P/2/+//9f/x/+j/9//q/+n/9//w//b/8//6//z/9////wYADQAKAAcAAgDw//b/BwD//w0ADQD+/wUAFQAUAAMAAAD9/wEABgAHAAwACQD+/wIAAgAMAAwABwAPAAkABgAIAB4AGAAQAA0ACwAJAAkAEQAOAA4AAQAGAAQA///1//X/+f/9/wYA+v/+/wYACAAHAAYADQAKAA0ABAD4////+f/x//r/AwAAAP3/9P/u//L/+f/3//b/8P/r/wQADQALABMADgABAAgACQAIAAcACQADAAEABwD4/wAA/P/y//T//v/8//T/9v/3//b/9f/+//D/9f/5//r/+v/0//3/AAACAAYAAgD1//j/7f/m//T/3f/T/+n/9//7//b/8//y//L/8f/s//H/+f/+/wIA//8AAAcABwAEAP///v8CAAQAAAADAP//+f8DAAQAAgAKAAwAGQAXAA8AHwAXABEAFQABAAMACAAAAA0AEgAKAAgAEAARAA0ACAAGAAYACwANAAgACwAOAAkA/v///wIAAQD5//v/9//1/wAACgALAAYACgAEAPz/AAD///v/DQAdABsAAwAFAAkA//8BAAkAAAD2//7/+P/3/wUAEAADAAAA///2//P/+P/x/+n/8v/3//X/5P/r/+v/0v/b/+3/8f/6/+7/6f/x/+r/7f/q//H/+P/p/+j/4f/r/+//6//2//7/CgADAPn/+/8JAAkA8//w//X/+v/7/wYABADs//P//f8DAAMA+v8AAAAAFAARAAAABgALABAA///8//3/9P/1//7//P/8//////8JAAAAAwADAPP/AAAJAPv/8P/r//v//P/z/wAA/v/+/wYA/v/+/wQA/P/e/9v/4v/l/+3/6f/z//L/9/8AAPf/5//r/+//+/8PAP7//v8KAAwAAAD0//n/9f/2/wAA+P/y/+r/8/8BAPr/AgAAAAEABQABAPb/3f/h/+j/6//0//f/9//1//v/+f/z/+z/8P/2//3//P/0//7/AQAAAPr/+/8GAOv/4P/t/+b/7v/y//P/8//y//r/8v/t/+7/7//t////BQACAAYA+v/4//j/8P/m//L/9//2/+3/6//5/+v/6//3//7/AAD2//v/AADy/+n/2//n/+z/5P/r/+f/3//i/+n/7f/w//D/+v8MABsAEwASABcAEQAIAAYA/P8GABMADQAQAAYACgD8//H/+v/8/wEA9//1//f//v8IAAAAAAAGAAMA+f/z//3////3//v/9//4//b//v8DAAMADAABAPz/8v/5/wIABgAAAAQACgAAAAkA9f/1/wEABQD9//f/AAD9/wAAGQAnAAoABQADAAgACAAKAAQA9v/6//X/9v/1/wEAAQD2/wAA/f/f/+P/7P/z//v/8P////H/9P/3/93/4f/r//D/9P////r/9P/1//T/7f/e/97/1f/b/9//3v/c/9L/3P/b/+H/5v/u/+3/5//p/9r/2f/z//H/3//k/9z/6P/p/+T/5f/i//L/6v/o/+v/9f8aAB0ADAD9////CgAGAAgACgAEAP//BgACAAYABQAAAAsAAwAAAOv/7v/9//f/9f/x//H/7v/x//b//P/8/wEACgADAAgACAACAPz/AwALAP3//v/2//P/7f/s//D/9P/y//P/AQAEAA0AAwD///r/9P/9//v/+//+//T/7v/6//f/+v/+/wMABgD7//n///8KAA4ABAAAAAkABwAJAAIA/f/5//T/8//q//P/8//8/wAAAAAAAPz/8f/p//X//f/9//X/7P/s//L/8//1//r/AAD9//L/9P/3//n/7//u//L/8//8//f/+v/0/+n/6v/r/wMA/v/x/+7/7//x/+j/6v/r//v//P/6//r//v8CAPn/8//0//T/9f8AAP3//P///wAABgAGAAIA///0/+7/BwARAA8ACwAMAAsABgAGAAcABwAHAA4AAAABAAEAAgALAPX/+/8IAAcAAwABAAcACwAJABEAFgANAA0A9f/z/wQAAgAEAP//AwAAAOz/8v/+/wUACwACAAQAAADq/+D/6P/0/+7/2//T/9z/3v/v//P/8P/z/+j/5//l/+f/+//+//v/8f/j/+//8v/5//D/8v8AAPX/+v/5//3//f/3//v/9P/k/+j/6//g/+f/8//7//n/6//h/+D/4f/i/+X/7//5//z/8//y//H/6P/m/+7/6P/b/+3/8v/s/9n/2f/o/+7/9v/u/+7/4f/i/+H/1//a/+7/8f/j/+L/5f/v/+f/7//z//H/8f/1/wAA+v///wAA/v/4//v//P/w/wEADQAGAP3//f8EAAQABwARABIADgAMAA4ADAAMAAwABAD5//H/7P/q//D/8f/x/+T/7P8EAAYABQAEAAYAAAD7/wEAAAD+//n/+f/9//j/BAAMAAwABADu//X//f/0//D/7v/s/+//9f////n/7f/y/+z/6P/k/+L/4v/k/9f/0P/j/+T/5f/u/+z/6v/z/+z/AAAGAPz/FAANAAQAAQAAAA4AGwAMAAUAGQARAAkADwAaABwAIgAVAP//BQAKABMAFgAEAAAAAgD8//3/8P/n//P/6//p//7//v/y//L/6//k/+T/5f/i/9//6P/x/+j/2P/K/9H/6v/x//H/7f/p/+z/9f/3//b/7v/w//T/8P8=\" type=\"audio/wav\" />\n",
              "                    Your browser does not support the audio element.\n",
              "                </audio>\n",
              "              "
            ],
            "text/plain": [
              "<IPython.lib.display.Audio object>"
            ]
          },
          "metadata": {
            "tags": []
          },
          "execution_count": 26
        }
      ]
    },
    {
      "cell_type": "markdown",
      "metadata": {
        "id": "1MaL9J2dNVtG"
      },
      "source": [
        "It can be heard, that the speakers change along with their speaking rate, accent, and background environment, etc. Overall, the recordings sound acceptably clear though, which is to be expected from a crowd-sourced read speech corpus.\n",
        "\n",
        "Let's do a final check that the data is correctly prepared, by printing the shape of the speech input, its transcription, and the corresponding sampling rate.\n",
        "\n",
        "**Note**: *You can click the following cell a couple of times to verify multiple samples.*"
      ]
    },
    {
      "cell_type": "code",
      "metadata": {
        "colab": {
          "base_uri": "https://localhost:8080/"
        },
        "id": "1Po2g7YPuRTx",
        "outputId": "c99bb3e6-36e4-4982-ed75-6227cd047fd1"
      },
      "source": [
        "rand_int = random.randint(0, len(common_voice_train)-1)\n",
        "\n",
        "print(\"Target text:\", common_voice_train[rand_int][\"target_text\"])\n",
        "print(\"Input array shape:\", np.asarray(common_voice_train[rand_int][\"speech\"]).shape)\n",
        "print(\"Sampling rate:\", common_voice_train[rand_int][\"sampling_rate\"])"
      ],
      "execution_count": null,
      "outputs": [
        {
          "output_type": "stream",
          "text": [
            "Target text: ਦਿਲ ਦਿਮਾਗ ਚ ਡੂੰਘੀ ਤਰ੍ਹਾਂ ਵਸ ਜਾਂਦੀ ਹੈ \n",
            "Input array shape: (62592,)\n",
            "Sampling rate: 16000\n"
          ],
          "name": "stdout"
        }
      ]
    },
    {
      "cell_type": "markdown",
      "metadata": {
        "id": "M9teZcSwOBJ4"
      },
      "source": [
        "Good! Everything looks fine - the data is a 1-dimensional array, the sampling rate always corresponds to 16kHz, and the target text is normalized."
      ]
    },
    {
      "cell_type": "markdown",
      "metadata": {
        "id": "k3Pbn5WvOYZF"
      },
      "source": [
        "Finally, we can process the dataset to the format expected by the model for training. We will again make use of the `map(...)` function.\n",
        "\n",
        "First, we check that the data samples have the same sampling rate of 16kHz.\n",
        "Second, we extract the `input_values` from the loaded audio file. In our case, this includes only normalization, but for other speech models, this step could correspond to extracting, *e.g.* [Log-Mel features](https://en.wikipedia.org/wiki/Mel-frequency_cepstrum). \n",
        "Third, we encode the transcriptions to label ids.\n",
        "\n",
        "**Note**: This mapping function is a good example of how the `Wav2Vec2Processor` class should be used. In \"normal\" context, calling `processor(...)` is redirected to `Wav2Vec2FeatureExtractor`'s call method. When wrapping the processor into the `as_target_processor` context, however, the same method is redirected to `Wav2Vec2CTCTokenizer`'s call method.\n",
        "For more information please check the [docs](https://huggingface.co/transformers/master/model_doc/wav2vec2.html#transformers.Wav2Vec2Processor.__call__)."
      ]
    },
    {
      "cell_type": "code",
      "metadata": {
        "id": "eJY7I0XAwe9p"
      },
      "source": [
        "def prepare_dataset(batch):\n",
        "    # check that all files have the correct sampling rate\n",
        "    assert (\n",
        "        len(set(batch[\"sampling_rate\"])) == 1\n",
        "    ), f\"Make sure all inputs have the same sampling rate of {processor.feature_extractor.sampling_rate}.\"\n",
        "\n",
        "    batch[\"input_values\"] = processor(batch[\"speech\"], sampling_rate=batch[\"sampling_rate\"][0]).input_values\n",
        "    \n",
        "    with processor.as_target_processor():\n",
        "        batch[\"labels\"] = processor(batch[\"target_text\"]).input_ids\n",
        "    return batch"
      ],
      "execution_count": null,
      "outputs": []
    },
    {
      "cell_type": "code",
      "metadata": {
        "colab": {
          "base_uri": "https://localhost:8080/",
          "height": 522,
          "referenced_widgets": [
            "375b9bfdac314d78a3a174d6c84b90f0",
            "528b18f4f49a4d2fa69a2f51645fbf7f",
            "773c1ba771404d758d5fa0a85a9a1532",
            "f1330720d3d34c3a87f962a31feb9fee",
            "675bd9fa70724a0991b14ec9ba7f9a71",
            "23bf738733984768bf293663f7ef43fc",
            "13f694d22024404a80bd13dba687be0a",
            "535d9f6673904479ad0b2ecc516e95d5",
            "53a0b7a94b9e4689a39d58a8574e3f84",
            "b8f679cd00ac4aadb3965edbe7c19365",
            "41d0becfbedc4a1a8b787cb2a423d61f",
            "37afddc1fe3944ae9ca6015d18ec8fdc",
            "353303f642b94cc7a4af5ebc52eafad4",
            "dedd310babc446c28ed6cbe98ba732b0",
            "9bd77bb2d78c4eb68ba10614299a8f72",
            "9f71abbfd0364bfaa99bdbf4db50bb27",
            "93a1e4fc2a9c4c379859f0d047a837be",
            "da400118b01b4697b5322766793793b1",
            "a9155468b9994b69b1357c7adb542f6c",
            "a048c82f719e47de850ba56b70eae8f0",
            "0995ddabc6b94523ba067387694d715d",
            "8ac30778954b4f3eae4850340d7ded07",
            "fd724e6abf954f269da22269ab00e791",
            "25fa5a4e20a74e10b6ebfe93ac2c256d",
            "15c7d0017c9b4d1f836f49d05fd37d54",
            "53d1ff57fd2444d6aef63313a6ba8235",
            "58428e64fcda40f98ecb25d05a9978c7",
            "212c234d08384f69b3b8cff290ab0702",
            "a3fd798dbcaa4bc38db32fb31764518e",
            "1b60fbf2bfd44a829a32142a88bc5ee0",
            "9df1d616a6e74ad3a731e8e8bc76910b",
            "760bc9331d1040ddad17a23448631482",
            "17cfabd17f404b9ca20fd05827ad3681",
            "b4f739ecfe3d47e59e8afb82592e1455",
            "8d4e9ff224544d6eb2609c24c312db01",
            "eff73059b5c142eeb14d41892f40ce52",
            "137abe903e5c4ec9b107d892d75bb28f",
            "8abf557d97de46e5b815bdd49aa039b6",
            "f85d2404ef5b44149c82c589afbd255c",
            "c8feafa4a34040749db63eabd6641bab",
            "8b434bc7099e4d0b982eb8d5d4b7f6e5",
            "689d9615289e4345ab0fc7a072d24d2c",
            "feaeb7e885264c4d9cfc049bc368136a",
            "c999004a4e0f4434a96c41d0bfd284e0",
            "ae78538acd91415393f52907efa8c484",
            "b1a9aa0034734468b2cf292b37eb61e0",
            "11d6b39ab4c04c23ad654e29a8f5be4f",
            "d0c434873a754237a7455be00ab365fc",
            "c546fd87dcb84cbb9ecefda28a5f4772",
            "2dd63fd6731c48e0aaa0b6c97b3128a1",
            "878b4aa5bdf64db2b9009121357fd185",
            "483fb7cd527d4c34a85cbac3eb7d61f1",
            "bdac9dc0f1b54a3aabf7aa2a26f50932",
            "389c67170d844520bb2c50cd48a7cffa",
            "148871c4f6ca4e6aba0af9b0037f7b85",
            "f737018ec4524a2781e66dfae11ec5ef",
            "e252c58f3fca4ae4a249fbec6df87c0e",
            "ca2a1fb2e7cb42949754946c424be94f",
            "263232be1668462e8c9d98240159b6d7",
            "8ebb08cafc824b7dae14391d5a371cfe",
            "81b0f46e587d4acbbfc0f67f9135e2ad",
            "bc52bcc81c3a434ba1aa4294e26d5308",
            "b9c151231d1c43709bd3d6c7b86378a5",
            "b13455b245f94470b0437e1b70e957dc"
          ]
        },
        "id": "-np9xYK-wl8q",
        "outputId": "23a18920-1e0c-4369-f052-4c1a359bd5c5"
      },
      "source": [
        "common_voice_train = common_voice_train.map(prepare_dataset, remove_columns=common_voice_train.column_names, batch_size=8, num_proc=4, batched=True)\n",
        "common_voice_test = common_voice_test.map(prepare_dataset, remove_columns=common_voice_test.column_names, batch_size=8, num_proc=4, batched=True)"
      ],
      "execution_count": null,
      "outputs": [
        {
          "output_type": "stream",
          "text": [
            "/usr/local/lib/python3.7/dist-packages/numpy/core/_asarray.py:83: VisibleDeprecationWarning: Creating an ndarray from ragged nested sequences (which is a list-or-tuple of lists-or-tuples-or ndarrays with different lengths or shapes) is deprecated. If you meant to do this, you must specify 'dtype=object' when creating the ndarray\n",
            "  return array(a, dtype, copy=False, order=order)\n"
          ],
          "name": "stderr"
        },
        {
          "output_type": "stream",
          "text": [
            "  "
          ],
          "name": "stdout"
        },
        {
          "output_type": "display_data",
          "data": {
            "application/vnd.jupyter.widget-view+json": {
              "model_id": "375b9bfdac314d78a3a174d6c84b90f0",
              "version_minor": 0,
              "version_major": 2
            },
            "text/plain": [
              "HBox(children=(FloatProgress(value=0.0, description='#0', max=8.0, style=ProgressStyle(description_width='init…"
            ]
          },
          "metadata": {
            "tags": []
          }
        },
        {
          "output_type": "stream",
          "text": [
            "  "
          ],
          "name": "stdout"
        },
        {
          "output_type": "display_data",
          "data": {
            "application/vnd.jupyter.widget-view+json": {
              "model_id": "53a0b7a94b9e4689a39d58a8574e3f84",
              "version_minor": 0,
              "version_major": 2
            },
            "text/plain": [
              "HBox(children=(FloatProgress(value=0.0, description='#1', max=8.0, style=ProgressStyle(description_width='init…"
            ]
          },
          "metadata": {
            "tags": []
          }
        },
        {
          "output_type": "display_data",
          "data": {
            "application/vnd.jupyter.widget-view+json": {
              "model_id": "93a1e4fc2a9c4c379859f0d047a837be",
              "version_minor": 0,
              "version_major": 2
            },
            "text/plain": [
              "HBox(children=(FloatProgress(value=0.0, description='#3', max=8.0, style=ProgressStyle(description_width='init…"
            ]
          },
          "metadata": {
            "tags": []
          }
        },
        {
          "output_type": "display_data",
          "data": {
            "application/vnd.jupyter.widget-view+json": {
              "model_id": "15c7d0017c9b4d1f836f49d05fd37d54",
              "version_minor": 0,
              "version_major": 2
            },
            "text/plain": [
              "HBox(children=(FloatProgress(value=0.0, description='#2', max=8.0, style=ProgressStyle(description_width='init…"
            ]
          },
          "metadata": {
            "tags": []
          }
        },
        {
          "output_type": "stream",
          "text": [
            "\n",
            "\n",
            "\n",
            "\n",
            "    "
          ],
          "name": "stdout"
        },
        {
          "output_type": "display_data",
          "data": {
            "application/vnd.jupyter.widget-view+json": {
              "model_id": "17cfabd17f404b9ca20fd05827ad3681",
              "version_minor": 0,
              "version_major": 2
            },
            "text/plain": [
              "HBox(children=(FloatProgress(value=0.0, description='#3', max=4.0, style=ProgressStyle(description_width='init…"
            ]
          },
          "metadata": {
            "tags": []
          }
        },
        {
          "output_type": "display_data",
          "data": {
            "application/vnd.jupyter.widget-view+json": {
              "model_id": "8b434bc7099e4d0b982eb8d5d4b7f6e5",
              "version_minor": 0,
              "version_major": 2
            },
            "text/plain": [
              "HBox(children=(FloatProgress(value=0.0, description='#2', max=4.0, style=ProgressStyle(description_width='init…"
            ]
          },
          "metadata": {
            "tags": []
          }
        },
        {
          "output_type": "display_data",
          "data": {
            "application/vnd.jupyter.widget-view+json": {
              "model_id": "c546fd87dcb84cbb9ecefda28a5f4772",
              "version_minor": 0,
              "version_major": 2
            },
            "text/plain": [
              "HBox(children=(FloatProgress(value=0.0, description='#1', max=4.0, style=ProgressStyle(description_width='init…"
            ]
          },
          "metadata": {
            "tags": []
          }
        },
        {
          "output_type": "display_data",
          "data": {
            "application/vnd.jupyter.widget-view+json": {
              "model_id": "e252c58f3fca4ae4a249fbec6df87c0e",
              "version_minor": 0,
              "version_major": 2
            },
            "text/plain": [
              "HBox(children=(FloatProgress(value=0.0, description='#0', max=4.0, style=ProgressStyle(description_width='init…"
            ]
          },
          "metadata": {
            "tags": []
          }
        },
        {
          "output_type": "stream",
          "text": [
            "\n",
            "\n",
            "\n",
            "\n"
          ],
          "name": "stdout"
        }
      ]
    },
    {
      "cell_type": "markdown",
      "metadata": {
        "id": "gYlQkKVoRUos"
      },
      "source": [
        "## Training\n",
        "\n",
        "The data is processed so that we are ready to start setting up the training pipeline. We will make use of 🤗's [Trainer](https://huggingface.co/transformers/master/main_classes/trainer.html?highlight=trainer) for which we essentially need to do the following:\n",
        "\n",
        "- Define a data collator. In contrast to most NLP models, XLSR-Wav2Vec2 has a much larger input length than output length. *E.g.*, a sample of input length 50000 has an output length of no more than 100. Given the large input sizes, it is much more efficient to pad the training batches dynamically meaning that all training samples should only be padded to the longest sample in their batch and not the overall longest sample. Therefore, fine-tuning XLSR-Wav2Vec2 requires a special padding data collator, which we will define below\n",
        "\n",
        "- Evaluation metric. During training, the model should be evaluated on the word error rate. We should define a `compute_metrics` function accordingly\n",
        "\n",
        "- Load a pretrained checkpoint. We need to load a pretrained checkpoint and configure it correctly for training.\n",
        "\n",
        "- Define the training configuration.\n",
        "\n",
        "After having fine-tuned the model, we will correctly evaluate it on the test data and verify that it has indeed learned to correctly transcribe speech."
      ]
    },
    {
      "cell_type": "markdown",
      "metadata": {
        "id": "Slk403unUS91"
      },
      "source": [
        "### Set-up Trainer\n",
        "\n",
        "Let's start by defining the data collator. The code for the data collator was copied from [this example](https://github.com/huggingface/transformers/blob/9a06b6b11bdfc42eea08fa91d0c737d1863c99e3/examples/research_projects/wav2vec2/run_asr.py#L81).\n",
        "\n",
        "Without going into too many details, in contrast to the common data collators, this data collator treats the `input_values` and `labels` differently and thus applies to separate padding functions on them (again making use of XLSR-Wav2Vec2's context manager). This is necessary because in speech input and output are of different modalities meaning that they should not be treated by the same padding function.\n",
        "Analogous to the common data collators, the padding tokens in the labels with `-100` so that those tokens are **not** taken into account when computing the loss."
      ]
    },
    {
      "cell_type": "code",
      "metadata": {
        "id": "tborvC9hx88e"
      },
      "source": [
        "import torch\n",
        "\n",
        "from dataclasses import dataclass, field\n",
        "from typing import Any, Dict, List, Optional, Union\n",
        "\n",
        "@dataclass\n",
        "class DataCollatorCTCWithPadding:\n",
        "    \"\"\"\n",
        "    Data collator that will dynamically pad the inputs received.\n",
        "    Args:\n",
        "        processor (:class:`~transformers.Wav2Vec2Processor`)\n",
        "            The processor used for proccessing the data.\n",
        "        padding (:obj:`bool`, :obj:`str` or :class:`~transformers.tokenization_utils_base.PaddingStrategy`, `optional`, defaults to :obj:`True`):\n",
        "            Select a strategy to pad the returned sequences (according to the model's padding side and padding index)\n",
        "            among:\n",
        "            * :obj:`True` or :obj:`'longest'`: Pad to the longest sequence in the batch (or no padding if only a single\n",
        "              sequence if provided).\n",
        "            * :obj:`'max_length'`: Pad to a maximum length specified with the argument :obj:`max_length` or to the\n",
        "              maximum acceptable input length for the model if that argument is not provided.\n",
        "            * :obj:`False` or :obj:`'do_not_pad'` (default): No padding (i.e., can output a batch with sequences of\n",
        "              different lengths).\n",
        "        max_length (:obj:`int`, `optional`):\n",
        "            Maximum length of the ``input_values`` of the returned list and optionally padding length (see above).\n",
        "        max_length_labels (:obj:`int`, `optional`):\n",
        "            Maximum length of the ``labels`` returned list and optionally padding length (see above).\n",
        "        pad_to_multiple_of (:obj:`int`, `optional`):\n",
        "            If set will pad the sequence to a multiple of the provided value.\n",
        "            This is especially useful to enable the use of Tensor Cores on NVIDIA hardware with compute capability >=\n",
        "            7.5 (Volta).\n",
        "    \"\"\"\n",
        "\n",
        "    processor: Wav2Vec2Processor\n",
        "    padding: Union[bool, str] = True\n",
        "    max_length: Optional[int] = None\n",
        "    max_length_labels: Optional[int] = None\n",
        "    pad_to_multiple_of: Optional[int] = None\n",
        "    pad_to_multiple_of_labels: Optional[int] = None\n",
        "\n",
        "    def __call__(self, features: List[Dict[str, Union[List[int], torch.Tensor]]]) -> Dict[str, torch.Tensor]:\n",
        "        # split inputs and labels since they have to be of different lenghts and need\n",
        "        # different padding methods\n",
        "        input_features = [{\"input_values\": feature[\"input_values\"]} for feature in features]\n",
        "        label_features = [{\"input_ids\": feature[\"labels\"]} for feature in features]\n",
        "\n",
        "        batch = self.processor.pad(\n",
        "            input_features,\n",
        "            padding=self.padding,\n",
        "            max_length=self.max_length,\n",
        "            pad_to_multiple_of=self.pad_to_multiple_of,\n",
        "            return_tensors=\"pt\",\n",
        "        )\n",
        "        with self.processor.as_target_processor():\n",
        "            labels_batch = self.processor.pad(\n",
        "                label_features,\n",
        "                padding=self.padding,\n",
        "                max_length=self.max_length_labels,\n",
        "                pad_to_multiple_of=self.pad_to_multiple_of_labels,\n",
        "                return_tensors=\"pt\",\n",
        "            )\n",
        "\n",
        "        # replace padding with -100 to ignore loss correctly\n",
        "        labels = labels_batch[\"input_ids\"].masked_fill(labels_batch.attention_mask.ne(1), -100)\n",
        "\n",
        "        batch[\"labels\"] = labels\n",
        "\n",
        "        return batch"
      ],
      "execution_count": null,
      "outputs": []
    },
    {
      "cell_type": "code",
      "metadata": {
        "id": "lbQf5GuZyQ4_"
      },
      "source": [
        "data_collator = DataCollatorCTCWithPadding(processor=processor, padding=True)"
      ],
      "execution_count": null,
      "outputs": []
    },
    {
      "cell_type": "markdown",
      "metadata": {
        "id": "xO-Zdj-5cxXp"
      },
      "source": [
        "Next, the evaluation metric is defined. As mentioned earlier, the \n",
        "predominant metric in ASR is the word error rate (WER), hence we will use it in this notebook as well."
      ]
    },
    {
      "cell_type": "code",
      "metadata": {
        "id": "9Xsux2gmyXso",
        "colab": {
          "base_uri": "https://localhost:8080/",
          "height": 67,
          "referenced_widgets": [
            "03e0f01c1dd84b118a77ccb537efb66e",
            "89698a235d614ccbaf322ac2f3147596",
            "684fb368723f41ee97a33fdee41b252a",
            "9fe8fa07e0b74f74905a137773bf93ea",
            "b2e2966c5b214c98baaf8ab2be43d0c4",
            "a46ec8e5754c425e99b90f76b0ce07aa",
            "8051308073454593b1790252ba7932a6",
            "4986fc3ef53948e8b6d10a70925c6365"
          ]
        },
        "outputId": "a30d88ed-ee67-4c38-84e7-442ae992c14f"
      },
      "source": [
        "wer_metric = load_metric(\"wer\")"
      ],
      "execution_count": null,
      "outputs": [
        {
          "output_type": "display_data",
          "data": {
            "application/vnd.jupyter.widget-view+json": {
              "model_id": "03e0f01c1dd84b118a77ccb537efb66e",
              "version_minor": 0,
              "version_major": 2
            },
            "text/plain": [
              "HBox(children=(FloatProgress(value=0.0, description='Downloading', max=1764.0, style=ProgressStyle(description…"
            ]
          },
          "metadata": {
            "tags": []
          }
        },
        {
          "output_type": "stream",
          "text": [
            "\n"
          ],
          "name": "stdout"
        }
      ]
    },
    {
      "cell_type": "markdown",
      "metadata": {
        "id": "E1qZU5p-deqB"
      },
      "source": [
        "The model will return a sequence of logit vectors:\n",
        "$\\mathbf{y}_1, \\ldots, \\mathbf{y}_m$ with $\\mathbf{y}_1 = f_{\\theta}(x_1, \\ldots, x_n)[0]$ and $n >> m$.\n",
        "\n",
        "A logit vector $\\mathbf{y}_1$ contains the log-odds for each word in the vocabulary we defined earlier, thus $\\text{len}(\\mathbf{y}_i) =$ `config.vocab_size`. We are interested in the most likely prediction of the model and thus take the `argmax(...)` of the logits. Also, we transform the encoded labels back to the original string by replacing `-100` with the `pad_token_id` and decoding the ids while making sure that consecutive tokens are **not** grouped to the same token in CTC style ${}^1$."
      ]
    },
    {
      "cell_type": "code",
      "metadata": {
        "id": "1XZ-kjweyTy_"
      },
      "source": [
        "def compute_metrics(pred):\n",
        "    pred_logits = pred.predictions\n",
        "    pred_ids = np.argmax(pred_logits, axis=-1)\n",
        "\n",
        "    pred.label_ids[pred.label_ids == -100] = processor.tokenizer.pad_token_id\n",
        "\n",
        "    pred_str = processor.batch_decode(pred_ids)\n",
        "    # we do not want to group tokens when computing the metrics\n",
        "    label_str = processor.batch_decode(pred.label_ids, group_tokens=False)\n",
        "\n",
        "    wer = wer_metric.compute(predictions=pred_str, references=label_str)\n",
        "\n",
        "    return {\"wer\": wer}"
      ],
      "execution_count": null,
      "outputs": []
    },
    {
      "cell_type": "markdown",
      "metadata": {
        "id": "Xmgrx4bRwLIH"
      },
      "source": [
        "Now, we can load the pretrained `XLSR-Wav2Vec2` checkpoint. The tokenizer's `pad_token_id` must be to define the model's `pad_token_id` or in the case of `Wav2Vec2ForCTC` also CTC's *blank token* ${}^2$. To save GPU memory, we enable PyTorch's [gradient checkpointing](https://pytorch.org/docs/stable/checkpoint.html) and also set the loss reduction to \"*mean*\".\n",
        "\n",
        "Because the dataset is quite small (~6h of training data) and because Common Voice is quite noisy, fine-tuning Facebook's [wav2vec2-large-xlsr-53 checkpoint](https://huggingface.co/facebook/wav2vec2-large-xlsr-53) seems to require some hyper-parameter tuning. Therefore, I had to play around a bit with different values for dropout, [SpecAugment](https://arxiv.org/abs/1904.08779)'s masking dropout rate, layer dropout, and the learning rate until training seemed to be stable enough. \n",
        "\n",
        "**Note**: When using this notebook to train XLSR-Wav2Vec2 on another language of Common Voice those hyper-parameter settings might not work very well. Feel free to adapt those depending on your use case. "
      ]
    },
    {
      "cell_type": "code",
      "metadata": {
        "colab": {
          "base_uri": "https://localhost:8080/",
          "height": 171,
          "referenced_widgets": [
            "a18487ac8c43467d8717c16b2ad1841f",
            "e396092962fc407dbe5eb26dd5df9dba",
            "86395345591444299f6e49af78a68d85",
            "26d2005c7ea14e3f90b274fae6ab6d3f",
            "2a4650591e3e493281ce6b712f98bcd7",
            "4bceeb445e404ffbbad944f8b9aefbc8",
            "476cf3921ff34609be72179b297bceb0",
            "6b70310adef04de99c97753e471a0892",
            "937a3b4f72a64f9cbbcf1fc665cc0efd",
            "da10bc1d851a4ab8a2cd22ab743bf28b",
            "fc590c6c0f57483ea1a087c140895675",
            "4445de3477ff47ea865021a5638c88ec",
            "6a8dafa14c7e4613ac8dbfbc0bdf7fc8",
            "433cda94588045f4bdb12ad575a58584",
            "96900bd4e8414fe4b98508c6be965b52",
            "6d014ebe31ba461f99a7c183edefca45"
          ]
        },
        "id": "e7cqAWIayn6w",
        "outputId": "55c072eb-2b55-4a85-de0b-4aa0dc74fd7a"
      },
      "source": [
        "from transformers import Wav2Vec2ForCTC\n",
        "\n",
        "model = Wav2Vec2ForCTC.from_pretrained(\n",
        "    \"facebook/wav2vec2-large-xlsr-53\", \n",
        "    attention_dropout=0.1,\n",
        "    hidden_dropout=0.1,\n",
        "    feat_proj_dropout=0.0,\n",
        "    mask_time_prob=0.05,\n",
        "    layerdrop=0.1,\n",
        "    gradient_checkpointing=True, \n",
        "    ctc_loss_reduction=\"mean\", \n",
        "    pad_token_id=processor.tokenizer.pad_token_id,\n",
        "    vocab_size=len(processor.tokenizer)\n",
        ")"
      ],
      "execution_count": null,
      "outputs": [
        {
          "output_type": "display_data",
          "data": {
            "application/vnd.jupyter.widget-view+json": {
              "model_id": "a18487ac8c43467d8717c16b2ad1841f",
              "version_minor": 0,
              "version_major": 2
            },
            "text/plain": [
              "HBox(children=(FloatProgress(value=0.0, description='Downloading', max=1451.0, style=ProgressStyle(description…"
            ]
          },
          "metadata": {
            "tags": []
          }
        },
        {
          "output_type": "stream",
          "text": [
            "\n"
          ],
          "name": "stdout"
        },
        {
          "output_type": "display_data",
          "data": {
            "application/vnd.jupyter.widget-view+json": {
              "model_id": "937a3b4f72a64f9cbbcf1fc665cc0efd",
              "version_minor": 0,
              "version_major": 2
            },
            "text/plain": [
              "HBox(children=(FloatProgress(value=0.0, description='Downloading', max=1261920069.0, style=ProgressStyle(descr…"
            ]
          },
          "metadata": {
            "tags": []
          }
        },
        {
          "output_type": "stream",
          "text": [
            "\n"
          ],
          "name": "stdout"
        },
        {
          "output_type": "stream",
          "text": [
            "Some weights of Wav2Vec2ForCTC were not initialized from the model checkpoint at facebook/wav2vec2-large-xlsr-53 and are newly initialized: ['lm_head.weight', 'lm_head.bias']\n",
            "You should probably TRAIN this model on a down-stream task to be able to use it for predictions and inference.\n"
          ],
          "name": "stderr"
        }
      ]
    },
    {
      "cell_type": "markdown",
      "metadata": {
        "id": "1DwR3XLSzGDD"
      },
      "source": [
        "The first component of XLSR-Wav2Vec2 consists of a stack of CNN layers that are used to extract acoustically meaningful - but contextually independent - features from the raw speech signal. This part of the model has already been sufficiently trained during pretraining and as stated in the [paper](https://arxiv.org/pdf/2006.13979.pdf) does not need to be fine-tuned anymore. \n",
        "Thus, we can set the `requires_grad` to `False` for all parameters of the *feature extraction* part."
      ]
    },
    {
      "cell_type": "code",
      "metadata": {
        "id": "oGI8zObtZ3V0"
      },
      "source": [
        "model.freeze_feature_extractor()"
      ],
      "execution_count": null,
      "outputs": []
    },
    {
      "cell_type": "markdown",
      "metadata": {
        "id": "lD4aGhQM0K-D"
      },
      "source": [
        "In a final step, we define all parameters related to training. \n",
        "To give more explanation on some of the parameters:\n",
        "- `group_by_length` makes training more efficient by grouping training samples of similar input length into one batch. This can significantly speed up training time by heavily reducing the overall number of useless padding tokens that are passed through the model\n",
        "- `learning_rate` and `weight_decay` were heuristically tuned until fine-tuning has become stable. Note that those parameters strongly depend on the Common Voice dataset and might be suboptimal for other speech datasets.\n",
        "\n",
        "For more explanations on other parameters, one can take a look at the [docs](https://huggingface.co/transformers/master/main_classes/trainer.html?highlight=trainer#trainingarguments).\n",
        "\n",
        "**Note**: If one wants to save the trained models in his/her google drive the commented-out `output_dir` can be used instead."
      ]
    },
    {
      "cell_type": "code",
      "metadata": {
        "id": "KbeKSV7uzGPP"
      },
      "source": [
        "from transformers import TrainingArguments\n",
        "\n",
        "training_args = TrainingArguments(\n",
        "  output_dir=\"./wav2vec2-large-xlsr-punjabi\",\n",
        "  group_by_length=True,\n",
        "  per_device_train_batch_size=16,\n",
        "  gradient_accumulation_steps=2,\n",
        "  evaluation_strategy=\"steps\",\n",
        "  num_train_epochs=200,\n",
        "  fp16=True,\n",
        "  save_steps=500,\n",
        "  eval_steps=500,\n",
        "  logging_steps=500,\n",
        "  learning_rate=3e-4,\n",
        "  warmup_steps=500,\n",
        "  save_total_limit=1,\n",
        ")"
      ],
      "execution_count": null,
      "outputs": []
    },
    {
      "cell_type": "markdown",
      "metadata": {
        "id": "OsW-WZcL1ZtN"
      },
      "source": [
        "Now, all instances can be passed to Trainer and we are ready to start training!"
      ]
    },
    {
      "cell_type": "code",
      "metadata": {
        "id": "rY7vBmFCPFgC"
      },
      "source": [
        "from transformers import Trainer\n",
        "\n",
        "trainer = Trainer(\n",
        "    model=model,\n",
        "    data_collator=data_collator,\n",
        "    args=training_args,\n",
        "    compute_metrics=compute_metrics,\n",
        "    train_dataset=common_voice_train,\n",
        "    eval_dataset=common_voice_test,\n",
        "    tokenizer=processor.feature_extractor,\n",
        ")"
      ],
      "execution_count": null,
      "outputs": []
    },
    {
      "cell_type": "markdown",
      "metadata": {
        "id": "UoXBx1JAA0DX"
      },
      "source": [
        "\n",
        "\n",
        "---\n",
        "\n",
        "${}^1$ To allow models to become independent of the speaker rate, in CTC, consecutive tokens that are identical are simply grouped as a single token. However, the encoded labels should not be grouped when decoding since they don't correspond to the predicted tokens of the model, which is why the `group_tokens=False` parameter has to be passed. If we wouldn't pass this parameter a word like `\"hello\"` would incorrectly be encoded, and decoded as `\"helo\"`.\n",
        "\n",
        "${}^2$ The blank token allows the model to predict a word, such as `\"hello\"` by forcing it to insert the blank token between the two l's. A CTC-conform prediction of `\"hello\"` of our model would be `[PAD] [PAD] \"h\" \"e\" \"e\" \"l\" \"l\" [PAD] \"l\" \"o\" \"o\" [PAD]`."
      ]
    },
    {
      "cell_type": "markdown",
      "metadata": {
        "id": "rpvZHM1xReIW"
      },
      "source": [
        "### Training"
      ]
    },
    {
      "cell_type": "markdown",
      "metadata": {
        "id": "j-3oKSzZ1hGq"
      },
      "source": [
        "Training will take between 180 and 240 minutes depending on the GPU allocated to this notebook. While the trained model yields somewhat satisfying results on *Common Voice*'s test data of Turkish, it is by no means an optimally fine-tuned model. The purpose of this notebook is to demonstrate how XLSR-Wav2Vec2's [checkpoint](https://huggingface.co/facebook/wav2vec2-large-xlsr-53) can be fine-tuned on a low-resource ASR dataset.\n",
        "\n",
        "In case you want to use this google colab to fine-tune your model, you should make sure that your training doesn't stop due to inactivity. A simple hack to prevent this is to paste the following code into the console of this tab (*right mouse click -> inspect -> Console tab and insert code*)."
      ]
    },
    {
      "cell_type": "markdown",
      "metadata": {
        "id": "VYYAvgkW4P0m"
      },
      "source": [
        "```javascript\n",
        "function ConnectButton(){\n",
        "    console.log(\"Connect pushed\"); \n",
        "    document.querySelector(\"#top-toolbar > colab-connect-button\").shadowRoot.querySelector(\"#connect\").click() \n",
        "}\n",
        "setInterval(ConnectButton,60000);\n",
        "```"
      ]
    },
    {
      "cell_type": "code",
      "metadata": {
        "id": "_UEjJqGsQw24",
        "colab": {
          "base_uri": "https://localhost:8080/",
          "height": 271
        },
        "outputId": "501c38cd-56f3-46f7-b150-9422178e147d"
      },
      "source": [
        "trainer.train()"
      ],
      "execution_count": null,
      "outputs": [
        {
          "output_type": "stream",
          "text": [
            "/usr/local/lib/python3.7/dist-packages/torch/optim/lr_scheduler.py:134: UserWarning: Detected call of `lr_scheduler.step()` before `optimizer.step()`. In PyTorch 1.1.0 and later, you should call them in the opposite order: `optimizer.step()` before `lr_scheduler.step()`.  Failure to do this will result in PyTorch skipping the first value of the learning rate schedule. See more details at https://pytorch.org/docs/stable/optim.html#how-to-adjust-learning-rate\n",
            "  \"https://pytorch.org/docs/stable/optim.html#how-to-adjust-learning-rate\", UserWarning)\n"
          ],
          "name": "stderr"
        },
        {
          "output_type": "display_data",
          "data": {
            "text/html": [
              "\n",
              "    <div>\n",
              "        <style>\n",
              "            /* Turns off some styling */\n",
              "            progress {\n",
              "                /* gets rid of default border in Firefox and Opera. */\n",
              "                border: none;\n",
              "                /* Needs to be in here for Safari polyfill so background images work as expected. */\n",
              "                background-size: auto;\n",
              "            }\n",
              "        </style>\n",
              "      \n",
              "      <progress value='4000' max='4000' style='width:300px; height:20px; vertical-align: middle;'></progress>\n",
              "      [4000/4000 5:34:06, Epoch 500/500]\n",
              "    </div>\n",
              "    <table border=\"1\" class=\"dataframe\">\n",
              "  <thead>\n",
              "    <tr style=\"text-align: left;\">\n",
              "      <th>Step</th>\n",
              "      <th>Training Loss</th>\n",
              "      <th>Validation Loss</th>\n",
              "      <th>Wer</th>\n",
              "      <th>Runtime</th>\n",
              "      <th>Samples Per Second</th>\n",
              "    </tr>\n",
              "  </thead>\n",
              "  <tbody>\n",
              "    <tr>\n",
              "      <td>1000</td>\n",
              "      <td>2.576800</td>\n",
              "      <td>1.634094</td>\n",
              "      <td>0.752768</td>\n",
              "      <td>17.732300</td>\n",
              "      <td>6.542000</td>\n",
              "    </tr>\n",
              "    <tr>\n",
              "      <td>2000</td>\n",
              "      <td>0.038200</td>\n",
              "      <td>1.739439</td>\n",
              "      <td>0.734317</td>\n",
              "      <td>18.452900</td>\n",
              "      <td>6.286000</td>\n",
              "    </tr>\n",
              "    <tr>\n",
              "      <td>3000</td>\n",
              "      <td>0.017100</td>\n",
              "      <td>1.824478</td>\n",
              "      <td>0.701107</td>\n",
              "      <td>18.105900</td>\n",
              "      <td>6.407000</td>\n",
              "    </tr>\n",
              "    <tr>\n",
              "      <td>4000</td>\n",
              "      <td>0.009000</td>\n",
              "      <td>1.840639</td>\n",
              "      <td>0.696187</td>\n",
              "      <td>17.963600</td>\n",
              "      <td>6.458000</td>\n",
              "    </tr>\n",
              "  </tbody>\n",
              "</table><p>"
            ],
            "text/plain": [
              "<IPython.core.display.HTML object>"
            ]
          },
          "metadata": {
            "tags": []
          }
        },
        {
          "output_type": "execute_result",
          "data": {
            "text/plain": [
              "TrainOutput(global_step=4000, training_loss=0.660285566329956, metrics={'train_runtime': 20052.2151, 'train_samples_per_second': 0.199, 'total_flos': 2.0368243365690655e+19, 'epoch': 500.0, 'init_mem_cpu_alloc_delta': 351821, 'init_mem_gpu_alloc_delta': 1262017536, 'init_mem_cpu_peaked_delta': 18306, 'init_mem_gpu_peaked_delta': 0, 'train_mem_cpu_alloc_delta': 3770612, 'train_mem_gpu_alloc_delta': 5057185280, 'train_mem_cpu_peaked_delta': 79920075, 'train_mem_gpu_peaked_delta': 1432392192})"
            ]
          },
          "metadata": {
            "tags": []
          },
          "execution_count": 38
        }
      ]
    },
    {
      "cell_type": "markdown",
      "metadata": {
        "id": "RHIVc44_fY2N"
      },
      "source": [
        "The training loss goes down and we can see that the WER on the test set also improves nicely. Because this notebook is just for demonstration purposes, we can stop here.\n",
        "\n",
        "The resulting model of this notebook has been saved to [`patrickvonplaten/wav2vec2-large-xlsr-turkish-demo`](https://huggingface.co/patrickvonplaten/wav2vec2-large-xlsr-turkish-demo)\n",
        "\n",
        "As a final check, let's load the model and verify that it indeed has learned to transcribe Turkish speech.\n",
        "\n",
        "Let's first load the pretrained checkpoint."
      ]
    },
    {
      "cell_type": "code",
      "metadata": {
        "colab": {
          "base_uri": "https://localhost:8080/",
          "height": 332,
          "referenced_widgets": [
            "06ca2bfa4b1f479ba29e8bcccbf9f0d2",
            "fe339b456b2f44b0afe6bb384be7a349",
            "79ce67c154d64d8da014225bb35f3324",
            "88dcbeab90584fdb8e4dea17f3e24657",
            "ce4cf80282944dedaae24b9a95107fc7",
            "04ed842bbef6464caa9f1b071442d5a3",
            "ecab1e844ec84c8fa45f6bba1bf299a9",
            "93e91a718bbd4b7cb9c583e13dacdd93",
            "c3d6d9b34e774ad48cdf2fb4a85b27a5",
            "578f1a02119a470284e5aa49ba2f96b0",
            "148e327a7121418ea3d3fb0c25a513e9",
            "346c3c902c564f908013ff7acbdefb28",
            "c6594d1614794a4f880fb2a5e28a839d",
            "547b9cca54ef4cb2b2d8a985e3c0bc0f",
            "926e37ab9dc14cb1939bc03012301d1f",
            "a3cbede8535147c4b77828c3b39192e5",
            "55cbe4d3454147a09f15d9a62afdff91",
            "3f714862f1c74f9ba244205efa8d7336",
            "da18af8f77184630b2394a1e6b6ab59d",
            "6e4f63e360ea4e41b48654f79a805017",
            "ab9f712d620c444d9922b4153bb03c4b",
            "1466884bc92f4cfcbdb034c4ccb2e324",
            "78486766f3a8460498b27cac88817167",
            "7c3b548837ff44d5926b3dc3a403dbf3",
            "d2b58ef3577e4bb986a6194dfe7e6af4",
            "96813e8785ed4ebd8082925c522395b1",
            "e546b6112bf740c284e1167121e7b01d",
            "a26b6eb82bc248338986a87d8bcd35fe",
            "e200d6dae47b4f0895d63d09b7b9995e",
            "d16573ef6b6a487f847f98a1148e25ae",
            "d30a87b1e2a74467a50d4de3bdeac683",
            "b72dd465763c45e8b1ea56d4d35137b2",
            "7dbc6b7783404f7cbe456951d2bb35c4",
            "e5cefd422a324440a45ff639f50e68b1",
            "bf84ff4391ba4a27a362d00288612fe3",
            "3c9eea97c65b4c6e9222b17233ab9ad6",
            "0b0c18b54b2e4908bc4bb694978cb660",
            "1b6ff086b3ed4800941a7bbc1381d216",
            "286d87c3fd214a8eae3d26e8263b5e0f",
            "dadb16b6932746fd85e5e66e4e6f8d9e",
            "558baaa105054eefb102773422f17693",
            "29e889b3d0a44a6ea5efc41c5cb9e840",
            "0d873ff023284573b5ae3dfcebc148ad",
            "88d45d6555cd4909a3a468c605cd5f6b",
            "f53fe5f8cea44e14a46744d8d3b9b895",
            "3fed2655081c4e8f908c6f73ea41edcc",
            "79893e9c60484983b329c17ed8e6b619",
            "e22f482f210246b4ab8dffbcfc8b2ebf"
          ]
        },
        "id": "J8E8pxJ9hgZS",
        "outputId": "0f550639-a548-4959-cc0b-1f6d77decc5d"
      },
      "source": [
        "model = Wav2Vec2ForCTC.from_pretrained(\"gagan3012/wav2vec2-xlsr-punjabi\").to(\"cuda\")\n",
        "processor = Wav2Vec2Processor.from_pretrained(\"gagan3012/wav2vec2-xlsr-punjabi\")"
      ],
      "execution_count": null,
      "outputs": [
        {
          "output_type": "display_data",
          "data": {
            "application/vnd.jupyter.widget-view+json": {
              "model_id": "06ca2bfa4b1f479ba29e8bcccbf9f0d2",
              "version_minor": 0,
              "version_major": 2
            },
            "text/plain": [
              "HBox(children=(FloatProgress(value=0.0, description='Downloading', max=1558.0, style=ProgressStyle(description…"
            ]
          },
          "metadata": {
            "tags": []
          }
        },
        {
          "output_type": "stream",
          "text": [
            "\n"
          ],
          "name": "stdout"
        },
        {
          "output_type": "display_data",
          "data": {
            "application/vnd.jupyter.widget-view+json": {
              "model_id": "c3d6d9b34e774ad48cdf2fb4a85b27a5",
              "version_minor": 0,
              "version_major": 2
            },
            "text/plain": [
              "HBox(children=(FloatProgress(value=0.0, description='Downloading', max=1262196247.0, style=ProgressStyle(descr…"
            ]
          },
          "metadata": {
            "tags": []
          }
        },
        {
          "output_type": "stream",
          "text": [
            "\n"
          ],
          "name": "stdout"
        },
        {
          "output_type": "display_data",
          "data": {
            "application/vnd.jupyter.widget-view+json": {
              "model_id": "55cbe4d3454147a09f15d9a62afdff91",
              "version_minor": 0,
              "version_major": 2
            },
            "text/plain": [
              "HBox(children=(FloatProgress(value=0.0, description='Downloading', max=158.0, style=ProgressStyle(description_…"
            ]
          },
          "metadata": {
            "tags": []
          }
        },
        {
          "output_type": "stream",
          "text": [
            "\n"
          ],
          "name": "stdout"
        },
        {
          "output_type": "display_data",
          "data": {
            "application/vnd.jupyter.widget-view+json": {
              "model_id": "d2b58ef3577e4bb986a6194dfe7e6af4",
              "version_minor": 0,
              "version_major": 2
            },
            "text/plain": [
              "HBox(children=(FloatProgress(value=0.0, description='Downloading', max=696.0, style=ProgressStyle(description_…"
            ]
          },
          "metadata": {
            "tags": []
          }
        },
        {
          "output_type": "stream",
          "text": [
            "\n"
          ],
          "name": "stdout"
        },
        {
          "output_type": "display_data",
          "data": {
            "application/vnd.jupyter.widget-view+json": {
              "model_id": "7dbc6b7783404f7cbe456951d2bb35c4",
              "version_minor": 0,
              "version_major": 2
            },
            "text/plain": [
              "HBox(children=(FloatProgress(value=0.0, description='Downloading', max=138.0, style=ProgressStyle(description_…"
            ]
          },
          "metadata": {
            "tags": []
          }
        },
        {
          "output_type": "stream",
          "text": [
            "\n"
          ],
          "name": "stdout"
        },
        {
          "output_type": "display_data",
          "data": {
            "application/vnd.jupyter.widget-view+json": {
              "model_id": "558baaa105054eefb102773422f17693",
              "version_minor": 0,
              "version_major": 2
            },
            "text/plain": [
              "HBox(children=(FloatProgress(value=0.0, description='Downloading', max=85.0, style=ProgressStyle(description_w…"
            ]
          },
          "metadata": {
            "tags": []
          }
        },
        {
          "output_type": "stream",
          "text": [
            "\n"
          ],
          "name": "stdout"
        },
        {
          "output_type": "stream",
          "text": [
            "Special tokens have been added in the vocabulary, make sure the associated word embedding are fine-tuned or trained.\n"
          ],
          "name": "stderr"
        }
      ]
    },
    {
      "cell_type": "markdown",
      "metadata": {
        "id": "QsfGCQYSvY8C"
      },
      "source": [
        "Now, we will just take the first example of the test set, run it through the model and take the `argmax(...)` of the logits to retrieve the predicted token ids."
      ]
    },
    {
      "cell_type": "code",
      "metadata": {
        "colab": {
          "base_uri": "https://localhost:8080/"
        },
        "id": "EA6fxk-jiHby",
        "outputId": "1afdecc0-7312-4172-d36c-e769d160c0f5"
      },
      "source": [
        "input_dict = processor(common_voice_test[\"input_values\"][0], return_tensors=\"pt\", padding=True)\n",
        "\n",
        "logits = model(input_dict.input_values.to(\"cuda\")).logits\n",
        "\n",
        "pred_ids = torch.argmax(logits, dim=-1)[0]"
      ],
      "execution_count": null,
      "outputs": [
        {
          "output_type": "stream",
          "text": [
            "It is strongly recommended to pass the ``sampling_rate`` argument to this function.Failing to do so can result in silent errors that might be hard to debug.\n"
          ],
          "name": "stderr"
        }
      ]
    },
    {
      "cell_type": "markdown",
      "metadata": {
        "id": "1JDyVCMDvlYd"
      },
      "source": [
        "We adapted `common_voice_test` quite a bit so that the dataset instance does not contain the original sentence label anymore. Thus, we re-use the original dataset to get the label of the first example."
      ]
    },
    {
      "cell_type": "code",
      "metadata": {
        "colab": {
          "base_uri": "https://localhost:8080/",
          "height": 125,
          "referenced_widgets": [
            "11f4097e5e7f4d3db6a737ee169a1715",
            "31fda392553f43168204d94a336b4f17",
            "f2f52034b11a41dfb1fdf5ffa6fc4c79",
            "c5e33a86a6be4e2caac076fb55d986eb",
            "0ed92dd323b646a682fad407b51121b6",
            "979faef23d934efa9122fd23488e0de4",
            "7d4ed3d427cd4173912ad95bc119ce3f",
            "29e8e22cc71440b384eeb2036e6cd199",
            "13a592efbe544eb5990c14ce749aa27d",
            "d4a594cefc2e4ab28b6f0e492c02185c",
            "ebc1a6d9eaf94e1f802ce1aec0c8427d",
            "7da9f3436cd749cc83c85930bda2d3b5",
            "2b1ee14dd5fa4905888b0720ac85aab1",
            "4338537b7996463ea5e15ffb35136f2f",
            "f3fec2c96f884bd29580b86a876d0599",
            "ab08ebd1440746c387369df4ba36342f",
            "191de19cb15742859441eebee898dc6b",
            "f82bd8d34a694098b5353eb06775f9a2",
            "8f28183b58ec4d36ae9796e7670adbf2",
            "7584debcd5834f6187b8473edad28cfe",
            "5bef7c5339274d4ba8f92ea7a59a8618",
            "ce0e86ef73564a39b29f39a3e9919f3f",
            "a6616f3a80ff44ecb8a1e9d81e586e7e",
            "8f74c7195660435a8ea5e55b29d6cfdd",
            "5089dea1eb944068a65ea31b7a4b54a6",
            "0405f1ac1a9c4fa38ad11621e0f421ee",
            "8dad21532bda4176a830e73ca4a8e51b",
            "f9c6d6762220460c91bd39f8967a9fdc",
            "1e8b4fd500ad4a27949c3e9f3952e5f4",
            "8c48054d2f3d4eecaf44e02018f5772e",
            "ece1467e291440289d025673907fb837",
            "01de8a3b6009462584318992798c9b72",
            "57b20404b8f0418eb096ee5b00ae8a29",
            "77578eca1a1a44d0a99f09458c71f6f3",
            "0c68274b316f41aa9d1618d38627bf2a",
            "be8c64da0f59473a9ae98bf52e9627c6",
            "c2c81291f8f349418c38e96e0d754264",
            "b170b223528c4c62b8f22fb714d9fee7",
            "3a917b1e04c44d6b930ab7d659c5127b",
            "58b521f8bac0448984c95e51c13d38c8"
          ]
        },
        "id": "8dPE2GRIgtx-",
        "outputId": "36ac3ac3-96bd-4e80-c97a-392ab2246f4c"
      },
      "source": [
        "common_voice_test_transcription = load_dataset(\"common_voice\", \"pa-IN\", data_dir=\"./cv-corpus-6.1-2020-12-11\", split=\"test\")"
      ],
      "execution_count": null,
      "outputs": [
        {
          "output_type": "stream",
          "text": [
            "Couldn't find file locally at common_voice/common_voice.py, or remotely at https://raw.githubusercontent.com/huggingface/datasets/1.4.1/datasets/common_voice/common_voice.py.\n",
            "The file was picked from the master branch on github instead at https://raw.githubusercontent.com/huggingface/datasets/master/datasets/common_voice/common_voice.py.\n",
            "Using custom data configuration pa-IN-ad9f7b76efa9f3a0\n"
          ],
          "name": "stderr"
        },
        {
          "output_type": "stream",
          "text": [
            "Downloading and preparing dataset common_voice/pa-IN (download: 66.52 MiB, generated: 846.02 KiB, post-processed: Unknown size, total: 67.34 MiB) to /root/.cache/huggingface/datasets/common_voice/pa-IN-ad9f7b76efa9f3a0/6.1.0/0041e06ab061b91d0a23234a2221e87970a19cf3a81b20901474cffffeb7869f...\n"
          ],
          "name": "stdout"
        },
        {
          "output_type": "display_data",
          "data": {
            "application/vnd.jupyter.widget-view+json": {
              "model_id": "11f4097e5e7f4d3db6a737ee169a1715",
              "version_minor": 0,
              "version_major": 2
            },
            "text/plain": [
              "HBox(children=(FloatProgress(value=1.0, bar_style='info', max=1.0), HTML(value='')))"
            ]
          },
          "metadata": {
            "tags": []
          }
        },
        {
          "output_type": "stream",
          "text": [
            "\r"
          ],
          "name": "stdout"
        },
        {
          "output_type": "display_data",
          "data": {
            "application/vnd.jupyter.widget-view+json": {
              "model_id": "13a592efbe544eb5990c14ce749aa27d",
              "version_minor": 0,
              "version_major": 2
            },
            "text/plain": [
              "HBox(children=(FloatProgress(value=1.0, bar_style='info', max=1.0), HTML(value='')))"
            ]
          },
          "metadata": {
            "tags": []
          }
        },
        {
          "output_type": "stream",
          "text": [
            "\r"
          ],
          "name": "stdout"
        },
        {
          "output_type": "display_data",
          "data": {
            "application/vnd.jupyter.widget-view+json": {
              "model_id": "191de19cb15742859441eebee898dc6b",
              "version_minor": 0,
              "version_major": 2
            },
            "text/plain": [
              "HBox(children=(FloatProgress(value=1.0, bar_style='info', max=1.0), HTML(value='')))"
            ]
          },
          "metadata": {
            "tags": []
          }
        },
        {
          "output_type": "stream",
          "text": [
            "\r"
          ],
          "name": "stdout"
        },
        {
          "output_type": "display_data",
          "data": {
            "application/vnd.jupyter.widget-view+json": {
              "model_id": "5089dea1eb944068a65ea31b7a4b54a6",
              "version_minor": 0,
              "version_major": 2
            },
            "text/plain": [
              "HBox(children=(FloatProgress(value=1.0, bar_style='info', max=1.0), HTML(value='')))"
            ]
          },
          "metadata": {
            "tags": []
          }
        },
        {
          "output_type": "stream",
          "text": [
            "\r"
          ],
          "name": "stdout"
        },
        {
          "output_type": "display_data",
          "data": {
            "application/vnd.jupyter.widget-view+json": {
              "model_id": "57b20404b8f0418eb096ee5b00ae8a29",
              "version_minor": 0,
              "version_major": 2
            },
            "text/plain": [
              "HBox(children=(FloatProgress(value=1.0, bar_style='info', max=1.0), HTML(value='')))"
            ]
          },
          "metadata": {
            "tags": []
          }
        },
        {
          "output_type": "stream",
          "text": [
            "\rDataset common_voice downloaded and prepared to /root/.cache/huggingface/datasets/common_voice/pa-IN-ad9f7b76efa9f3a0/6.1.0/0041e06ab061b91d0a23234a2221e87970a19cf3a81b20901474cffffeb7869f. Subsequent calls will reuse this data.\n"
          ],
          "name": "stdout"
        }
      ]
    },
    {
      "cell_type": "markdown",
      "metadata": {
        "id": "ApS3MmN4v5P7"
      },
      "source": [
        "Finally, we can decode the example."
      ]
    },
    {
      "cell_type": "code",
      "metadata": {
        "colab": {
          "base_uri": "https://localhost:8080/"
        },
        "id": "Phqxa1O1jMDk",
        "outputId": "3007018b-6ba2-4d15-c00f-9ffc0bc1d68e"
      },
      "source": [
        "print(\"Prediction:\")\n",
        "print(processor.decode(pred_ids))\n",
        "\n",
        "print(\"\\nReference:\")\n",
        "print(common_voice_test_transcription[\"sentence\"][0].lower())\n"
      ],
      "execution_count": null,
      "outputs": [
        {
          "output_type": "stream",
          "text": [
            "Prediction:\n",
            "ਹਵਾ ਲਾਤ ਵਿੱਚ ਪੰਦ ਛੇ ਇਖਲਾਟਕੀ ਮੁਜਰਮ ਸਨ\n",
            "\n",
            "Reference:\n",
            "ਹਵਾਲਾਤ ਵਿੱਚ ਪੰਜ ਛੇ ਇਖ਼ਲਾਕੀ ਮੁਜਰਮ ਸਨ\n"
          ],
          "name": "stdout"
        }
      ]
    },
    {
      "cell_type": "code",
      "metadata": {
        "colab": {
          "base_uri": "https://localhost:8080/",
          "height": 421,
          "referenced_widgets": [
            "9983544f4beb4dbcaaeb8296cc4ef972",
            "8236b597baf6410a85c1329af3a38e16",
            "023524124d19475bbd6fa0a9e7a6acb3",
            "db237e7319b342cf8cbc17d6ede9fb42",
            "92bffd6abfdc40088240a984d829bea3",
            "263f6e7c798a48819272348fe9647517",
            "895c299d45e048ddbf83a92b2352b02f",
            "cae95e43c45149e3bc64495674780ff5"
          ]
        },
        "id": "LTbHXKNwdHDJ",
        "outputId": "3865df71-8b4c-4e54-ff72-2bd5449bda19"
      },
      "source": [
        "import torch\n",
        "import torchaudio\n",
        "from datasets import load_dataset, load_metric\n",
        "from transformers import Wav2Vec2ForCTC, Wav2Vec2Processor\n",
        "import re\n",
        "\n",
        "!mkdir cer\n",
        "!wget -O cer/cer.py https://huggingface.co/ctl/wav2vec2-large-xlsr-cantonese/raw/main/cer.py\n",
        "\n",
        "test_dataset = load_dataset(\"common_voice\", \"pa-IN\", split=\"test\") #TODO: replace {lang_id} in your language code here. Make sure the code is one of the *ISO codes* of [this](https://huggingface.co/languages) site.\n",
        "wer = load_metric(\"wer\")\n",
        "cer = load_metric(\"cer\")\n",
        "\n",
        "processor = Wav2Vec2Processor.from_pretrained(\"gagan3012/wav2vec2-xlsr-punjabi\") \n",
        "model = Wav2Vec2ForCTC.from_pretrained(\"gagan3012/wav2vec2-xlsr-punjabi\") \n",
        "model.to(\"cuda\")\n",
        "\n",
        "\n",
        "\n",
        "chars_to_ignore_regex = '[\\,\\?\\.\\!\\-\\;\\:\\\"\\“]'  # TODO: adapt this list to include all special characters you removed from the data\n",
        "resampler = torchaudio.transforms.Resample(48_000, 16_000)\n",
        "\n",
        "# Preprocessing the datasets.\n",
        "# We need to read the aduio files as arrays\n",
        "def speech_file_to_array_fn(batch):\n",
        "\tbatch[\"sentence\"] = re.sub(chars_to_ignore_regex, '', batch[\"sentence\"]).lower()\n",
        "\tspeech_array, sampling_rate = torchaudio.load(batch[\"path\"])\n",
        "\tbatch[\"speech\"] = resampler(speech_array).squeeze().numpy()\n",
        "\treturn batch\n",
        "\n",
        "test_dataset = test_dataset.map(speech_file_to_array_fn)\n",
        "\n",
        "# Preprocessing the datasets.\n",
        "# We need to read the aduio files as arrays\n",
        "def evaluate(batch):\n",
        "\tinputs = processor(batch[\"speech\"], sampling_rate=16_000, return_tensors=\"pt\", padding=True)\n",
        "\n",
        "\twith torch.no_grad():\n",
        "\t\tlogits = model(inputs.input_values.to(\"cuda\"), attention_mask=inputs.attention_mask.to(\"cuda\")).logits\n",
        "\n",
        "\tpred_ids = torch.argmax(logits, dim=-1)\n",
        "\tbatch[\"pred_strings\"] = processor.batch_decode(pred_ids)\n",
        "\treturn batch\n",
        "\n",
        "result = test_dataset.map(evaluate, batched=True, batch_size=8)\n",
        "\n",
        "print(\"WER: {:2f}\".format(100 * wer.compute(predictions=result[\"pred_strings\"], references=result[\"sentence\"])))\n",
        "print(\"CER: {:2f}\".format(100 * cer.compute(predictions=result[\"pred_strings\"], references=result[\"sentence\"])))"
      ],
      "execution_count": 3,
      "outputs": [
        {
          "output_type": "stream",
          "text": [
            "mkdir: cannot create directory ‘cer’: File exists\n",
            "--2021-03-24 09:15:06--  https://huggingface.co/ctl/wav2vec2-large-xlsr-cantonese/raw/main/cer.py\n",
            "Resolving huggingface.co (huggingface.co)... 34.201.172.85\n",
            "Connecting to huggingface.co (huggingface.co)|34.201.172.85|:443... connected.\n",
            "HTTP request sent, awaiting response... 200 OK\n",
            "Length: 4206 (4.1K) [application/octet-stream]\n",
            "Saving to: ‘cer/cer.py’\n",
            "\n",
            "cer/cer.py          100%[===================>]   4.11K  --.-KB/s    in 0s      \n",
            "\n",
            "2021-03-24 09:15:07 (119 MB/s) - ‘cer/cer.py’ saved [4206/4206]\n",
            "\n"
          ],
          "name": "stdout"
        },
        {
          "output_type": "stream",
          "text": [
            "Couldn't find file locally at common_voice/common_voice.py, or remotely at https://raw.githubusercontent.com/huggingface/datasets/1.4.1/datasets/common_voice/common_voice.py.\n",
            "The file was picked from the master branch on github instead at https://raw.githubusercontent.com/huggingface/datasets/master/datasets/common_voice/common_voice.py.\n",
            "Reusing dataset common_voice (/root/.cache/huggingface/datasets/common_voice/pa-IN/6.1.0/0041e06ab061b91d0a23234a2221e87970a19cf3a81b20901474cffffeb7869f)\n",
            "Special tokens have been added in the vocabulary, make sure the associated word embedding are fine-tuned or trained.\n",
            "Loading cached processed dataset at /root/.cache/huggingface/datasets/common_voice/pa-IN/6.1.0/0041e06ab061b91d0a23234a2221e87970a19cf3a81b20901474cffffeb7869f/cache-b62787d313aba1f9.arrow\n"
          ],
          "name": "stderr"
        },
        {
          "output_type": "display_data",
          "data": {
            "application/vnd.jupyter.widget-view+json": {
              "model_id": "9983544f4beb4dbcaaeb8296cc4ef972",
              "version_minor": 0,
              "version_major": 2
            },
            "text/plain": [
              "HBox(children=(FloatProgress(value=0.0, max=15.0), HTML(value='')))"
            ]
          },
          "metadata": {
            "tags": []
          }
        },
        {
          "output_type": "stream",
          "text": [
            "\n",
            "WER: 58.056581\n",
            "CER: 22.266140\n"
          ],
          "name": "stdout"
        }
      ]
    },
    {
      "cell_type": "code",
      "metadata": {
        "colab": {
          "base_uri": "https://localhost:8080/",
          "height": 192,
          "referenced_widgets": [
            "56e31e9c4316477a9f2c609ee7407219",
            "a3502928fd254288b258479122d134e6",
            "1ab6c9b82ce841fa8f9c48b990a34ee9",
            "cbfbac06aa484b9e9d5680c0ace4bb15",
            "6f4d20c535114076bd60b5258ab98844",
            "9b9045de45fb4750842adb0e02aae586",
            "5c3417106a6647f28f6daf3d098f545e",
            "aa7332252f294aa4aefcfc9a75ce2acc"
          ]
        },
        "id": "R2ViyTgueV2S",
        "outputId": "5f7306a8-d1dc-42f9-c51b-399da8a78047"
      },
      "source": [
        "import torch\n",
        "import torchaudio\n",
        "from datasets import load_dataset\n",
        "from transformers import Wav2Vec2ForCTC, Wav2Vec2Processor\n",
        "\n",
        "test_dataset = load_dataset(\"common_voice\", \"pa-IN\", split=\"test\")\n",
        "\n",
        "processor = Wav2Vec2Processor.from_pretrained(\"gagan3012/wav2vec2-xlsr-punjabi\") \n",
        "model = Wav2Vec2ForCTC.from_pretrained(\"gagan3012/wav2vec2-xlsr-punjabi\") \n",
        "\n",
        "resampler = torchaudio.transforms.Resample(48_000, 16_000)\n",
        "\n",
        "# Preprocessing the datasets.\n",
        "# We need to read the aduio files as arrays\n",
        "def speech_file_to_array_fn(batch):\n",
        "\tspeech_array, sampling_rate = torchaudio.load(batch[\"path\"])\n",
        "\tbatch[\"speech\"] = resampler(speech_array).squeeze().numpy()\n",
        "\treturn batch\n",
        "\n",
        "test_dataset = test_dataset.map(speech_file_to_array_fn)\n",
        "inputs = processor(test_dataset[\"speech\"][:2], sampling_rate=16_000, return_tensors=\"pt\", padding=True)\n",
        "\n",
        "with torch.no_grad():\n",
        "\tlogits = model(inputs.input_values, attention_mask=inputs.attention_mask).logits\n",
        "\n",
        "predicted_ids = torch.argmax(logits, dim=-1)\n",
        "\n",
        "print(\"Prediction:\", processor.batch_decode(predicted_ids))\n",
        "print(\"Reference:\", test_dataset[\"sentence\"][:2])\n"
      ],
      "execution_count": null,
      "outputs": [
        {
          "output_type": "stream",
          "text": [
            "Couldn't find file locally at common_voice/common_voice.py, or remotely at https://raw.githubusercontent.com/huggingface/datasets/1.4.1/datasets/common_voice/common_voice.py.\n",
            "The file was picked from the master branch on github instead at https://raw.githubusercontent.com/huggingface/datasets/master/datasets/common_voice/common_voice.py.\n",
            "Reusing dataset common_voice (/root/.cache/huggingface/datasets/common_voice/pa-IN/6.1.0/0041e06ab061b91d0a23234a2221e87970a19cf3a81b20901474cffffeb7869f)\n",
            "Special tokens have been added in the vocabulary, make sure the associated word embedding are fine-tuned or trained.\n"
          ],
          "name": "stderr"
        },
        {
          "output_type": "display_data",
          "data": {
            "application/vnd.jupyter.widget-view+json": {
              "model_id": "56e31e9c4316477a9f2c609ee7407219",
              "version_minor": 0,
              "version_major": 2
            },
            "text/plain": [
              "HBox(children=(FloatProgress(value=0.0, max=116.0), HTML(value='')))"
            ]
          },
          "metadata": {
            "tags": []
          }
        },
        {
          "output_type": "stream",
          "text": [
            "\n",
            "Prediction: ['ਹਵਾ ਲਾਤ ਵਿੱਚ ਪੰਦ ਛੇ ਇਖਲਾਟਕੀ ਮੁਜਰਮ ਸਨ', 'ਮੈ ਇ ਹਾ ਪੈਸੇ ਲੇਹੜ ਨਹੀਂ ਸੀ ਚੌਨਾ']\n",
            "Reference: ['ਹਵਾਲਾਤ ਵਿੱਚ ਪੰਜ ਛੇ ਇਖ਼ਲਾਕੀ ਮੁਜਰਮ ਸਨ', 'ਮੈਂ ਇਹ ਪੈਸੇ ਲੈਣੇ ਨਹੀਂ ਸੀ ਚਾਹੁੰਦਾ']\n"
          ],
          "name": "stdout"
        }
      ]
    },
    {
      "cell_type": "markdown",
      "metadata": {
        "id": "4n_8vhzUv7aw"
      },
      "source": [
        "Alright! The transcription can definitely be recognized from our prediction, but it is far from being perfect. Training the model a bit longer, spending more time on the data preprocessing, and especially using a language model for decoding would certainly improve the model's overall performance. \n",
        "\n",
        "For a demonstration model on a low-resource language, the results are acceptable, however 🤗."
      ]
    }
  ]
}